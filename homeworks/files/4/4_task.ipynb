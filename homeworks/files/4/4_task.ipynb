{
 "cells": [
  {
   "cell_type": "markdown",
   "metadata": {},
   "source": [
    "# Měření velikosti zahřívané součátky\n",
    "Tento úkol je zaměřen na využití kombinace dat z obyčejné RGB kamery a termokamery. Jako zahřívaná součástka bylo využito zařízení **Raspberry Pi 2 (Model B)** společně s **parazitními 2A rezistory** připojeny v USB.\n",
    "\n",
    "Úkol má za cíl oživit dovednosti studentů při práci s obrazem, jakými jsou například projektivní transformace, segmentace nejen v barevných kanálech nebo měření velikostí v reálných jednotkách.\n",
    "\n",
    "<img src=\"images/vv.png\" width=\"50%\"/>"
   ]
  },
  {
   "cell_type": "markdown",
   "metadata": {},
   "source": [
    "### Import knihoven a konfigurace"
   ]
  },
  {
   "cell_type": "code",
   "execution_count": null,
   "metadata": {},
   "outputs": [],
   "source": [
    "%run ../../../tutorials/files/svz.ipynb\n",
    "\n",
    "from scipy.spatial import distance"
   ]
  },
  {
   "cell_type": "markdown",
   "metadata": {},
   "source": [
    "### Pomocné funkce\n",
    "Seznamte se, lze využít. Ostatní již známé funkce jsou v notebooku [svz](../../tutorials/svz.ipynb)."
   ]
  },
  {
   "cell_type": "code",
   "execution_count": null,
   "metadata": {
    "code_folding": [
     0,
     66,
     73
    ],
    "run_control": {
     "marked": false
    }
   },
   "outputs": [],
   "source": [
    "def select_image_points(img, points_cnt = 4):\n",
    "    \"\"\" Opens a new image window, where user can interactively add or remove image points.\n",
    "    Points are added while holding CTRL key + pressing left mouse button and removed by ALT key + pressing left mouse button.\n",
    "    The point selection is terminated by pressing the 'q' key.\n",
    "    \n",
    "    Parameters\n",
    "    ----------\n",
    "    img : ndarray\n",
    "        Input image where image points are choosen and drawn.\n",
    "    points_cnt : Optional[int]\n",
    "        A maximum number of points to choose. A minimum number of points to compute the projective transformation is 4.\n",
    "    Returns\n",
    "    -------\n",
    "    list\n",
    "        Returns a list of size >= 4 and size <= points_cnt such that each elements represent (x, y) coordinate in input image.\n",
    "    \"\"\"\n",
    "    if points_cnt < 4: \n",
    "        raise ValueError('Number of points must be >= 4.')\n",
    "        \n",
    "    points = []\n",
    "    window_name = 'Point selection'\n",
    "    img_dimensions = img.shape[:2]\n",
    "    pts_dist_thresh = 0.01 * img_dimensions[1] # Scale drawing elements with image size\n",
    "    \n",
    "    def draw_circle(event, x, y, flags, param):\n",
    "        if event == cv2.EVENT_LBUTTONDOWN:\n",
    "            if flags == cv2.EVENT_FLAG_ALTKEY + cv2.EVENT_LBUTTONDOWN: \n",
    "                for p in points:\n",
    "                    if distance.euclidean(p, (x, y)) < pts_dist_thresh:\n",
    "                        points.remove(p)\n",
    "                        break\n",
    "            elif flags == cv2.EVENT_FLAG_CTRLKEY + cv2.EVENT_LBUTTONDOWN and len(points) < points_cnt:\n",
    "                points.append((x, y))           \n",
    "\n",
    "    cv2.namedWindow(window_name, cv2.WINDOW_NORMAL | cv2.WINDOW_GUI_NORMAL)\n",
    "    cv2.resizeWindow(window_name, 1080, 720)\n",
    "    cv2.moveWindow(window_name, 0, 0)\n",
    "    cv2.setMouseCallback(window_name, draw_circle)\n",
    "    \n",
    "    # Drawing section, scale drawing elements with image size\n",
    "    circle_diam = int(0.003 * img_dimensions[1])\n",
    "    lbl_offset = int(0.005 * img_dimensions[1])\n",
    "    lbl_font_scale = (0.001 * img_dimensions[1])\n",
    "    lbl_thickness = int(0.003 * img_dimensions[1])\n",
    "    \n",
    "    while 1:\n",
    "        drawn_img = img.copy()\n",
    "        \n",
    "        for i, p in enumerate(points):\n",
    "            cv2.circle(drawn_img, p, circle_diam , (0, 0, 255), cv2.FILLED)\n",
    "            cv2.putText(drawn_img, str(i), (p[0] + circle_diam + lbl_offset, p[1] + circle_diam + lbl_offset),\n",
    "                        0, lbl_font_scale, (0, 0, 255), lbl_thickness)\n",
    "            \n",
    "        cv2.imshow(window_name, drawn_img)\n",
    "        k = cv2.waitKey(1) & 0xFF\n",
    "        \n",
    "        if k == ord('q'):\n",
    "            break\n",
    "\n",
    "    cv2.destroyAllWindows()\n",
    "    \n",
    "    if len(points) < 4: \n",
    "        raise ValueError('Number of choosen points must be >= 4.')\n",
    "        \n",
    "    return points\n",
    "\n",
    "def copy_to(src, dst, mask):\n",
    "    '''Python alternative to C++/Java OpenCV's Mat.copyTo().\n",
    "    More: https://docs.opencv.org/trunk/d3/d63/classcv_1_1Mat.html#a626fe5f96d02525e2604d2ad46dd574f'''\n",
    "    locs = np.where(mask != 0) # Get the non-zero mask locations\n",
    "    dst[locs[0], locs[1]] = src[locs[0], locs[1]]\n",
    "    return dst\n",
    "\n",
    "def show_scale(min_val, max_val, color_map='jet'):\n",
    "    fig = plt.figure(figsize=(8, 3))\n",
    "    ax1 = fig.add_axes([0.05, 0.80, 0.9, 0.15])\n",
    "    norm = matplotlib.colors.Normalize(vmin=min_val, vmax=max_val)\n",
    "    cb1 = matplotlib.colorbar.ColorbarBase(ax1, cmap=color_map, norm=norm, orientation='horizontal')\n",
    "    cb1.set_label('Temperature °C')\n",
    "    plt.show()"
   ]
  },
  {
   "cell_type": "code",
   "execution_count": null,
   "metadata": {
    "code_folding": [
     0,
     7,
     15
    ]
   },
   "outputs": [],
   "source": [
    "def normalized_image(img):\n",
    "    # Dejte si pozor, že cv2.normalize nalezne minimální/maximální hodnotu v obraze vůči kterým normalizuje a tento vstup nelze změnit.\n",
    "    # Můžeme pouze nastavit nové minimum a maximum. Později v úkolu budete muset napsat svoji \"chytřejší\" normalizaci.\n",
    "    scaled = np.zeros_like(img)\n",
    "    cv2.normalize(img, scaled, alpha=0, beta=255, norm_type=cv2.NORM_MINMAX)\n",
    "    return scaled.astype('uint8')\n",
    "\n",
    "def to_3_channels(image_one_channel):\n",
    "    h,w = image_one_channel.shape\n",
    "    image3 = np.zeros((h,w,3), dtype=np.uint8)\n",
    "    image3[:,:,0] = image_one_channel\n",
    "    image3[:,:,1] = image_one_channel\n",
    "    image3[:,:,2] = image_one_channel\n",
    "    return image3\n",
    "\n",
    "def load_termo_csv(file_path):\n",
    "    return np.genfromtxt(file_path, delimiter=';')[:, :-1]"
   ]
  },
  {
   "cell_type": "markdown",
   "metadata": {},
   "source": [
    "---"
   ]
  },
  {
   "cell_type": "markdown",
   "metadata": {},
   "source": [
    "## Úkol\n",
    "K obrazové práci nad zahřívanou součástky jsou k dispozici nasnímaná data z rgb kamery a data reálných teplot z termokamery. Oboje je dostupné ve složce `data/`.\n",
    "\n",
    "Za úkol je možné získat až **8 bodů** a až **2 prémiové**."
   ]
  },
  {
   "cell_type": "markdown",
   "metadata": {},
   "source": [
    "### 1) Načtěte data\n",
    "Načtěte obrazová data ve formátu `png` a data teplot ve formátu `csv`. Data teplot obsahují reálné hodnoty teplot v jednotkách **°C** s přesností na desetinu stupně. Vhodně zobrazte jak data **obrazová**, tak data **teplot** obrázkem.\n",
    "\n",
    "<div style=\"color: blue; text-align: right\">[ 0,5 bodu ]</div>"
   ]
  },
  {
   "cell_type": "code",
   "execution_count": null,
   "metadata": {},
   "outputs": [],
   "source": []
  },
  {
   "cell_type": "markdown",
   "metadata": {},
   "source": [
    "### 2) Vypište hodnoty několika teplot\n",
    "Zvolte v obraze **3 body** a vypište hodnoty teploty v těchto bodech. Snažte se najít místa s **nejvyššími** teplotami.\n",
    "\n",
    "<div style=\"color: blue; text-align: right\">[ 0,5 bodu ]</div>"
   ]
  },
  {
   "cell_type": "code",
   "execution_count": null,
   "metadata": {},
   "outputs": [],
   "source": []
  },
  {
   "cell_type": "markdown",
   "metadata": {},
   "source": [
    "### 3) Namapujte termosnímek na RGB\n",
    "Uvědomte si, že snímky **nejsou stejně velké** ani foceny ze **stejného úhlu**. Pamatujte, že je **důležité** uvědomit si **správně rovinu**, ve které pracujeme. Zobrazte jak obrázek RGB, tak namapovaný termosnímek.\n",
    "\n",
    "Klíčová slova:\n",
    "- přiřazení dvojic bodů\n",
    "- hledání transformační matice\n",
    "- warpování termosnímku na perspektivu RGB\n",
    "\n",
    "<div style=\"color: blue; text-align: right\">[ 1,5 bodu ]</div>"
   ]
  },
  {
   "cell_type": "code",
   "execution_count": null,
   "metadata": {
    "run_control": {
     "marked": false
    },
    "scrolled": true
   },
   "outputs": [],
   "source": []
  },
  {
   "cell_type": "markdown",
   "metadata": {},
   "source": [
    "### 4) Segmentujte v termosnímku\n",
    "Pomocí rozsahu **reálných teplot** (ne jasových hodnot) vytvořte binární masku, která bude obsahovat **celé Raspberry Pi** bez připojených USB rezistorů. Masku zobrazte.\n",
    "\n",
    "<div style=\"color: blue; text-align: right\">[ 1,5 bodu ]</div>"
   ]
  },
  {
   "cell_type": "code",
   "execution_count": null,
   "metadata": {},
   "outputs": [],
   "source": []
  },
  {
   "cell_type": "markdown",
   "metadata": {},
   "source": [
    "### 5) Aplikujte data teplot na RGB obraz\n",
    "Pomocí výše vytvořené **binární masky** segmentujte **data teplot**. Ty následně zobrazte pomocí vybrané [JET colormapy](https://docs.opencv.org/3.2.0/d3/d50/group__imgproc__colormap.html). Jako dílčí výstup **vytvořte funkci** pro **min-max normalizaci** teplotních hodnot obrazu, která přímá na vstupu **min, max, newmin, newmax**. Bude se hodit při aplikaci colormapy. Dále se vám může hodit funkce `to_3_channels()` k snadnějším bitovým operacím. Její využití však není podmínkou, způsobů získání výsledku je více.\n",
    "\n",
    "Snímek by měl vypadat následovně (nenechte se zmást zobrazením BGR $\\leftrightarrow$ RGB při používání matplotlibu).\n",
    "\n",
    "<img src=\"images/fuse.png\" width=\"50%\"/>\n",
    "\n",
    "Klíčová slova:\n",
    "- min-max normalizace\n",
    "- aplikace colormapy\n",
    "- segmentace pomocí masky\n",
    "- vážené spojení dvou obrazů\n",
    "\n",
    "<div style=\"color: blue; text-align: right\">[ 1,5 bodu ]</div>"
   ]
  },
  {
   "cell_type": "code",
   "execution_count": null,
   "metadata": {},
   "outputs": [],
   "source": [
    "# Min-max normalization\n",
    "def min_max_norm(image):\n",
    "    return ..."
   ]
  },
  {
   "cell_type": "code",
   "execution_count": null,
   "metadata": {},
   "outputs": [],
   "source": []
  },
  {
   "cell_type": "markdown",
   "metadata": {},
   "source": [
    "### 6) Segmentujte součástky\n",
    "Využijte teplotní data k segmentaci **pouze 2 zahřívajících se** součástek - mikročipů. Zajímá nás plocha, která má teplotu vyšší než **43 °C**.\n",
    "\n",
    "Při jejich hledání **využijte** informaci, že hledané mikročipy mají přibližně tvar čtverce.\n",
    "\n",
    "<div style=\"color: blue; text-align: right\">[ 1,5 bodu ]</div>"
   ]
  },
  {
   "cell_type": "code",
   "execution_count": null,
   "metadata": {},
   "outputs": [],
   "source": []
  },
  {
   "cell_type": "markdown",
   "metadata": {},
   "source": [
    "### 7) Zjistěte velikost mikročipů v reálných jednotkách\n",
    "Zjistěte pro každý mikročip, jak velká je celková zahřívaná plocha v cm$^2$, mající vyšší teplotu než je pro nás kritických **43 °C**. Pro přechod z pixelů do reálných jednotek jsme důkladně cvičili 2 různé způsoby. V tomto případě, je ale jeden z nich správnější, než ten druhý. Vyberte, který chcete, o absolutní přesnost zde v tuhle chvíli nejde. Disktutujte však správnost vybraného postupu.\n",
    "\n",
    "**HINT -** Perspektiva.\n",
    "\n",
    "<div style=\"color: blue; text-align: right\">[ 1 bod ]</div>"
   ]
  },
  {
   "cell_type": "code",
   "execution_count": null,
   "metadata": {},
   "outputs": [],
   "source": []
  },
  {
   "cell_type": "markdown",
   "metadata": {},
   "source": [
    "---"
   ]
  },
  {
   "cell_type": "markdown",
   "metadata": {},
   "source": [
    "### 8) Prémium #1\n",
    "Nabízím 1 prémiový bod za detekci středů kružnic v RGB i v termo automatizovaně pomocí algoritmů. Například pomocí Houghovy transformace nebo i třeba hranové detekce + tvarových charakteristik. Jde primárně o díry na šrouby, které lze využít k hledání korespondenčních bodů a následné aplikaci perspektivní transformace.\n",
    "\n",
    "### 9) Prémium #2\n",
    "Nabízím 1 prémiový bod za výpočet plochy v cm$^2$ obou mikročipů v RGB obraze. Následně je nutné výsledky dát do poměru s vypočtenou plochou z termo snímku, která se zahřívala nad kritických 43° C. Tím lze například porovnat, který z nich se více zahřívá."
   ]
  }
 ],
 "metadata": {
  "kernelspec": {
   "display_name": "Python [default]",
   "language": "python",
   "name": "python3"
  },
  "language_info": {
   "codemirror_mode": {
    "name": "ipython",
    "version": 3
   },
   "file_extension": ".py",
   "mimetype": "text/x-python",
   "name": "python",
   "nbconvert_exporter": "python",
   "pygments_lexer": "ipython3",
   "version": "3.6.6"
  }
 },
 "nbformat": 4,
 "nbformat_minor": 2
}
