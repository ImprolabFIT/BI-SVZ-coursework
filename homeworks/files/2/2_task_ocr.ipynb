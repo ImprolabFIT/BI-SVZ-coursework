{
 "cells": [
  {
   "cell_type": "markdown",
   "metadata": {
    "cell_id": "ea2819617d2749d7af881c88d74f2c89",
    "deepnote_cell_height": 62,
    "deepnote_cell_type": "markdown"
   },
   "source": [
    "### Import knihoven a konfigurace"
   ]
  },
  {
   "cell_type": "code",
   "execution_count": null,
   "metadata": {
    "cell_id": "99a658a958694726a762c6eb8831b49b",
    "colab": {},
    "colab_type": "code",
    "deepnote_cell_type": "code",
    "deepnote_to_be_reexecuted": false,
    "execution_millis": 6603,
    "execution_start": 1699825045876,
    "id": "cgEL2ndpTAwq",
    "output_cleared": false,
    "source_hash": null
   },
   "outputs": [
    {
     "name": "stderr",
     "output_type": "stream",
     "text": [
      "/shared-libs/python3.8/py/lib/python3.8/site-packages/tqdm/auto.py:22: TqdmWarning: IProgress not found. Please update jupyter and ipywidgets. See https://ipywidgets.readthedocs.io/en/stable/user_install.html\n",
      "  from .autonotebook import tqdm as notebook_tqdm\n",
      "/root/venv/lib/python3.8/site-packages/qrdet/qrdet.py:125: UserWarning: QRDetector has been updated to use the new YoloV8 model. Use legacy=True when calling detect for backwards compatibility with 1.x versions. Or update to new output (new output is a tuple of dicts, containing several new information (1.x output is accessible through 'bbox_xyxy' and 'confidence').Forget this message if you are reading it from QReader. [This is a first download warning and will be removed at 2.1]\n",
      "  warn(\"QRDetector has been updated to use the new YoloV8 model. Use legacy=True when calling detect \"\n",
      "Downloading weights...: 100%|██████████| 24.0M/24.0M [00:00<00:00, 57.9MiB/s]\n"
     ]
    }
   ],
   "source": [
    "from improutils import *\n",
    "\n",
    "import os\n",
    "import io\n",
    "\n",
    "import cv2\n",
    "import numpy as np\n",
    "import matplotlib.pyplot as plt\n",
    "\n",
    "%matplotlib inline\n",
    "np.set_printoptions(formatter={'float': lambda x: \"{0:0.3f}\".format(x)})"
   ]
  },
  {
   "cell_type": "markdown",
   "metadata": {
    "cell_id": "f25506de337c424d80e6b87d70d2f3fa",
    "deepnote_cell_height": 70,
    "deepnote_cell_type": "markdown"
   },
   "source": [
    "## Úkol"
   ]
  },
  {
   "cell_type": "markdown",
   "metadata": {
    "cell_id": "03cea84e544845e2b5dc6147f9225dad",
    "deepnote_cell_height": 52,
    "deepnote_cell_type": "markdown"
   },
   "source": [
    "Výchozím bodem k tomuto úkolu je [cvičení na perspektivní transformaci](https://courses.fit.cvut.cz/BI-SVZ/tutorials/files/6/perspective-measuring-length.html)."
   ]
  },
  {
   "cell_type": "markdown",
   "metadata": {
    "cell_id": "3936cccb5eb24b91bbd89a73cc84aaa0",
    "colab_type": "text",
    "deepnote_cell_height": 913.75,
    "deepnote_cell_type": "markdown",
    "id": "nMMrW_TeTAw0"
   },
   "source": [
    "### První část - rovnání dokumentu a následná aplikace OCR\n",
    "Práce probíhá se souborem `ocr_img.jpg` na kterém se nachází dokument známých rozměrů (papír A4). Dokument je potřeba transformovat na kolmý pohled a následně využít OCR k automatizovanému přečtení textu. Za tuto část je možné získat maximálně **3 body** a **až 1 prémiový**.\n",
    "\n",
    "![](ocr_img.jpg)"
   ]
  },
  {
   "cell_type": "markdown",
   "metadata": {
    "cell_id": "8aaf6e016cc24c0baf58b647bf61a799",
    "deepnote_cell_height": 52,
    "deepnote_cell_type": "markdown"
   },
   "source": [
    "**1) Načtěte obrázek, zobrazte ho a uložte si pole cílových korespondečních souřadnic rohů dokumentu.**"
   ]
  },
  {
   "cell_type": "code",
   "execution_count": null,
   "metadata": {
    "cell_id": "0cd35afa2fcd44afa5c302f98fce851c",
    "colab": {},
    "colab_type": "code",
    "deepnote_cell_height": 102,
    "deepnote_cell_type": "code",
    "id": "mjuW6DEnTAw2"
   },
   "outputs": [],
   "source": [
    "image = ...\n",
    "\n",
    "real_world_pts = ..."
   ]
  },
  {
   "cell_type": "markdown",
   "metadata": {
    "cell_id": "4d91cdc5fbbf4546a2e1a55ae4b42f60",
    "deepnote_cell_height": 74,
    "deepnote_cell_type": "markdown"
   },
   "source": [
    "**2) Pomocí oblíbeného grafického editoru vyberte obrazové souřadnice rohů dokumentu ve snímku.**  \n",
    "Souřadnice musí korespondovat pořadím, takže pokud je levý roh první v předchozím poli, musí být první vybrán i v tomto kroku."
   ]
  },
  {
   "cell_type": "code",
   "execution_count": null,
   "metadata": {
    "cell_id": "80c3841eae874c0b8822d2d09f7f8385",
    "colab": {},
    "colab_type": "code",
    "deepnote_cell_height": 228,
    "deepnote_cell_type": "code",
    "id": "oyygjToJTAw5"
   },
   "outputs": [],
   "source": [
    "image_pts = ...\n",
    "\n",
    "if (len(image_pts) != len(real_world_pts)):\n",
    "    raise ValueError('Real world points and image points must be the same size.')\n",
    "\n",
    "print('format: x, y \\n', image_pts)\n",
    "\n",
    "plot_images(image)\n",
    "for i, pt in enumerate(image_pts):\n",
    "    plt.annotate(str(i) + \" - \" + str(pt), xy=pt, textcoords=\"offset points\", xytext=(10,10), arrowprops=dict(arrowstyle=\"->\"))"
   ]
  },
  {
   "cell_type": "markdown",
   "metadata": {
    "cell_id": "4e90c479d209401a9e267b818c09fcc0",
    "deepnote_cell_height": 52,
    "deepnote_cell_type": "markdown"
   },
   "source": [
    "**3) Vypočtěte transformační matici H, vypište její tvar.**"
   ]
  },
  {
   "cell_type": "code",
   "execution_count": null,
   "metadata": {
    "cell_id": "1850580d39f7476bb598df283f2fdffc",
    "colab": {},
    "colab_type": "code",
    "deepnote_cell_height": 84,
    "deepnote_cell_type": "code",
    "id": "Kkj5mGuPTAw-",
    "outputId": "800d5dfc-54b4-488e-ba0b-68250361dfeb",
    "run_control": {
     "marked": true
    }
   },
   "outputs": [],
   "source": [
    "H, mask = ...\n",
    "print(H)"
   ]
  },
  {
   "cell_type": "markdown",
   "metadata": {
    "cell_id": "e42dac450e414b748fd1cbc52cc79b20",
    "deepnote_cell_height": 52,
    "deepnote_cell_type": "markdown"
   },
   "source": [
    "**4) Popište rozdíl mezi [`cv2.getPerspectiveTransform()`](https://docs.opencv.org/3.4.1/da/d54/group__imgproc__transform.html#ga8c1ae0e3589a9d77fffc962c49b22043) a [`cv2.findHomography`](https://docs.opencv.org/3.4.1/d9/d0c/group__calib3d.html#ga4abc2ece9fab9398f2e560d53c8c9780).**"
   ]
  },
  {
   "cell_type": "markdown",
   "metadata": {
    "cell_id": "980818e75ae44b6f8085a2617536c3a2",
    "deepnote_cell_height": 52,
    "deepnote_cell_type": "markdown"
   },
   "source": [
    "."
   ]
  },
  {
   "cell_type": "markdown",
   "metadata": {
    "cell_id": "99250e8955c742328a5a960754f5e570",
    "deepnote_cell_height": 52,
    "deepnote_cell_type": "markdown"
   },
   "source": [
    "**5) Využijte funkci [`cv2.warpPerspective`](https://docs.opencv.org/3.4.1/da/d54/group__imgproc__transform.html#gaf73673a7e8e18ec6963e3774e6a94b87) k vytvoření kolmého pohledu dokumentu, výsledek zobrazte a uložte.**"
   ]
  },
  {
   "cell_type": "code",
   "execution_count": null,
   "metadata": {
    "cell_id": "190ed6e1c9c540ee84be5f28cdbe3b13",
    "colab": {},
    "colab_type": "code",
    "deepnote_cell_height": 66,
    "deepnote_cell_type": "code",
    "id": "PgadvqcbTAxD"
   },
   "outputs": [],
   "source": [
    "..."
   ]
  },
  {
   "cell_type": "markdown",
   "metadata": {
    "cell_id": "cae91ce80feb4901ac5db5b20adac02c",
    "deepnote_cell_type": "markdown"
   },
   "source": [
    "**6) Segmentujte text z \"narovnaného\" obrázku**\n",
    "Vyberte vhodnou segmentační funkci z [modulu segmentation v improutils](https://gitlab.fit.cvut.cz/bi-svz/improutils_package/-/blob/master/improutils/segmentation/segmentation.py)."
   ]
  },
  {
   "cell_type": "code",
   "execution_count": null,
   "metadata": {
    "cell_id": "2dde3c6c2441429e987b667b681b1a60",
    "deepnote_cell_type": "code"
   },
   "outputs": [],
   "source": [
    "img_bin = ..."
   ]
  },
  {
   "cell_type": "markdown",
   "metadata": {
    "cell_id": "55ed24cc283844a39c79cbe75adbbc7e",
    "deepnote_cell_height": 52,
    "deepnote_cell_type": "markdown"
   },
   "source": [
    "**7) Detekujte text na \"narovnaném\" obraze, text vypište a uložte do textového souboru.**\n",
    "\n",
    "Pro detekci využijte funkci [ocr](https://gitlab.fit.cvut.cz/bi-svz/improutils_package/-/blob/master/improutils/recognition/ocr.py#L7)."
   ]
  },
  {
   "cell_type": "code",
   "execution_count": null,
   "metadata": {
    "cell_id": "0e3e36cb6a784c2ebb70bcc12584ddc3",
    "deepnote_cell_height": 318,
    "deepnote_cell_type": "code",
    "output_cleared": false
   },
   "outputs": [],
   "source": [
    "text = ...(img_bin, lang=\"ces\")"
   ]
  },
  {
   "cell_type": "code",
   "execution_count": null,
   "metadata": {
    "cell_id": "4ad5b9e098a048f1b5271f59141ce88d",
    "deepnote_cell_height": 66,
    "deepnote_cell_type": "code"
   },
   "outputs": [],
   "source": [
    "..."
   ]
  },
  {
   "cell_type": "markdown",
   "metadata": {
    "cell_id": "6092f0a21d0944c6a40c46b5031bb25b",
    "deepnote_cell_height": 248,
    "deepnote_cell_type": "markdown",
    "owner_user_id": "2862c13b-a024-4ec1-a86a-38fe6d1e98e5"
   },
   "source": [
    "#### Bonus k první části\n",
    "Jak je vidět, výsledky po aplikaci OCR nejsou zcela uspokojivé. Je však v nutné brát potaz, že vstupní obraz není kromě geometrické transformace nijak dále předzpracován.\n",
    "\n",
    "**8) Pokuste se vstupní obraz před aplikací OCR kvalitněji předzpracovat pomocí probíraných technik - crop, segmentace, zaostření, rozmazání, jas, kontrast, apod. Fantazii se meze nekladou. Stručně diskutujte poznatky a vlivy jednotlivých operací na výslednou kvalitu. <span style=\"color:blue\">(0.5 bodu)</span>**\n"
   ]
  },
  {
   "cell_type": "markdown",
   "metadata": {},
   "source": [
    "**9) Upravte krok 2) tak, aby souřadnice rohů papíru byly detekovány automaticky. <span style=\"color:blue\">(1 bod)</span>**\n",
    "\n",
    "**Pro zobrazení nápovědy rozklikněte tohle markdown pole.** Pokud na to chcete přijít samy, ignorujte... \n",
    "<!-- \n",
    "\n",
    "Hints: \n",
    "PLOT EACH STEP, it really helps!\n",
    "\n",
    "-> gaussian blur\n",
    "-> canny\n",
    "-> findContours(RETR_EXTERNAL, CHAIN_APPROX_SIMPLE)\n",
    "-> find largest contour by contourArea(converHull(contour)) since the FIT logo will likely be detected as a contour\n",
    "-> approxPolyDP(contour, eps)\n",
    "-> simplify poly approximation down to 4 points:\n",
    "\n",
    "Find centroid of points (average of points), \n",
    "sort points by their angle: np.arctan2(*(point-centroid).\n",
    "\n",
    "Iterate over points, always keeping track of 2 neighbouring points.\n",
    "\n",
    "Calculate distance of middle point from the line connecting its neighbouring points.\n",
    "\n",
    " left = (i-1)%n \n",
    " mid = i  \n",
    " right = (i+1) % n\n",
    " __________________________________\n",
    "| left                 right      |\n",
    "|  x--------------------x         |\n",
    "|            ^                    |\n",
    "|            |                    |\n",
    "|            | distance           |\n",
    "|            x                    |\n",
    "|           mid                   |\n",
    "|_________________________________|\n",
    "\n",
    "Find 4 points with the largest distance. \n",
    "The idea is, that if the distance is small, the 3 points are likely on a single line.\n",
    "Therefore the midpoint can be omitted.\n",
    "\n",
    "Points with large distance are likely corners of the paper.\n",
    "\n",
    "-> The 4 points can now be rotated, np.roll can be helpful in this case.\n",
    "-> Good job, you're basically a computer vision wizard at this point!\n",
    "\n",
    "-->"
   ]
  }
 ],
 "metadata": {
  "deepnote_execution_queue": [],
  "deepnote_notebook_id": "0c1022eda44c4e958cc3456c1f9d2e52",
  "language_info": {
   "name": "python"
  }
 },
 "nbformat": 4,
 "nbformat_minor": 0
}
