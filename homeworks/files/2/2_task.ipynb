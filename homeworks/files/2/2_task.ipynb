{
 "cells": [
  {
   "cell_type": "markdown",
   "metadata": {},
   "source": [
    "### Import knihoven a konfigurace"
   ]
  },
  {
   "cell_type": "code",
   "execution_count": null,
   "metadata": {
    "colab": {},
    "colab_type": "code",
    "id": "cgEL2ndpTAwq"
   },
   "outputs": [],
   "source": [
    "import os\n",
    "\n",
    "import cv2\n",
    "import numpy as np\n",
    "import matplotlib.pyplot as plt\n",
    "\n",
    "from IPython.display import Image, display\n",
    "\n",
    "from scipy.spatial import distance\n",
    "\n",
    "%matplotlib inline\n",
    "np.set_printoptions(formatter={'float': lambda x: \"{0:0.3f}\".format(x)})"
   ]
  },
  {
   "cell_type": "markdown",
   "metadata": {},
   "source": [
    "### Pomocné funkce"
   ]
  },
  {
   "cell_type": "code",
   "execution_count": null,
   "metadata": {
    "code_folding": [
     0
    ],
    "colab": {},
    "colab_type": "code",
    "id": "MrPiuK9NTAwv"
   },
   "outputs": [],
   "source": [
    "def select_image_points(img, points_cnt = 4):\n",
    "    \"\"\" Opens a new image window, where user can interactively add or remove image points.\n",
    "    Points are added while holding CTRL key + pressing left mouse button and removed by ALT key + pressing left mouse button.\n",
    "    The point selection is terminated by pressing the 'q' key.\n",
    "    \n",
    "    Parameters\n",
    "    ----------\n",
    "    img : ndarray\n",
    "        Input image where image points are choosen and drawn.\n",
    "    points_cnt : Optional[int]\n",
    "        A maximum number of points to choose. A minimum number of points to compute the projective transformation is 4.\n",
    "    Returns\n",
    "    -------\n",
    "    list\n",
    "        Returns a list of size >= 4 and size <= points_cnt such that each elements represent (x, y) coordinate in input image.\n",
    "    \"\"\"\n",
    "    if points_cnt < 4: \n",
    "        raise ValueError('Number of points must be >= 4.')\n",
    "        \n",
    "    points = []\n",
    "    window_name = 'Point selection'\n",
    "    img_dimensions = img.shape[:2]\n",
    "    pts_dist_thresh = 0.01 * img_dimensions[1] # Scale drawing elements with image size\n",
    "    \n",
    "    def draw_circle(event, x, y, flags, param):\n",
    "        if event == cv2.EVENT_LBUTTONDOWN:\n",
    "            if flags == cv2.EVENT_FLAG_ALTKEY + cv2.EVENT_LBUTTONDOWN: \n",
    "                for p in points:\n",
    "                    if distance.euclidean(p, (x, y)) < pts_dist_thresh:\n",
    "                        points.remove(p)\n",
    "                        break\n",
    "            elif flags == cv2.EVENT_FLAG_CTRLKEY + cv2.EVENT_LBUTTONDOWN and len(points) < points_cnt:\n",
    "                points.append((x, y))           \n",
    "\n",
    "    cv2.namedWindow(window_name, cv2.WINDOW_NORMAL | cv2.WINDOW_GUI_NORMAL)\n",
    "    cv2.resizeWindow(window_name, 1080, 720)\n",
    "    cv2.moveWindow(window_name, 0, 0)\n",
    "    cv2.setMouseCallback(window_name, draw_circle)\n",
    "    \n",
    "    # Drawing section, scale drawing elements with image size\n",
    "    circle_diam = int(0.003 * img_dimensions[1])\n",
    "    lbl_offset = int(0.005 * img_dimensions[1])\n",
    "    lbl_font_scale = (0.001 * img_dimensions[1])\n",
    "    lbl_thickness = int(0.003 * img_dimensions[1])\n",
    "    \n",
    "    while 1:\n",
    "        drawn_img = img.copy()\n",
    "        \n",
    "        for i, p in enumerate(points):\n",
    "            cv2.circle(drawn_img, p, circle_diam , (0, 0, 255), cv2.FILLED)\n",
    "            cv2.putText(drawn_img, str(i), (p[0] + circle_diam + lbl_offset, p[1] + circle_diam + lbl_offset),\n",
    "                        0, lbl_font_scale, (0, 0, 255), lbl_thickness)\n",
    "            \n",
    "        cv2.imshow(window_name, drawn_img)\n",
    "        k = cv2.waitKey(1) & 0xFF\n",
    "        \n",
    "        if k == ord('q'):\n",
    "            break\n",
    "\n",
    "    cv2.destroyAllWindows()\n",
    "    \n",
    "    if len(points) < 4: \n",
    "        raise ValueError('Number of choosen points must be >= 4.')\n",
    "        \n",
    "    return points"
   ]
  },
  {
   "cell_type": "code",
   "execution_count": null,
   "metadata": {
    "code_folding": [
     0
    ],
    "colab": {},
    "colab_type": "code",
    "id": "DDppLLR4TAwy"
   },
   "outputs": [],
   "source": [
    "def show_images(*imgs, window_name='Image preview'):\n",
    "    \"\"\" Opens multiple image previews depending on the length of the input *imgs list.\n",
    "    The preview is terminated by pressing the 'q' key.\n",
    "    \n",
    "    Parameters\n",
    "    ----------\n",
    "    *imgs : list\n",
    "        Multiple input images which have to be shown.\n",
    "    window_name : Optional[string]\n",
    "        An optional window name.\n",
    "    Returns\n",
    "    -------\n",
    "    None\n",
    "    \"\"\"\n",
    "    for i, img in enumerate(imgs, 1):\n",
    "        window_name_id = window_name + ' ' + str(i)\n",
    "        cv2.namedWindow(window_name_id, cv2.WINDOW_NORMAL | cv2.WINDOW_GUI_NORMAL)\n",
    "        cv2.resizeWindow(window_name_id, 1080, 720)\n",
    "        cv2.moveWindow(window_name_id, 0, 0)\n",
    "\n",
    "    while 1:\n",
    "        for i, img in enumerate(imgs, 1):\n",
    "            cv2.imshow(window_name + ' ' + str(i), img)\n",
    "            \n",
    "        k = cv2.waitKey(1) & 0xFF\n",
    "\n",
    "        if k == ord('q'):\n",
    "            break\n",
    "\n",
    "    cv2.destroyAllWindows()"
   ]
  },
  {
   "cell_type": "markdown",
   "metadata": {},
   "source": [
    "## Úkol"
   ]
  },
  {
   "cell_type": "markdown",
   "metadata": {},
   "source": [
    "Vzhledem k ohlasům na časovou náročnost prvního úkolu jsem se rozhodl provést experimentální ulehčení. Pokud jste byli na cvičení, tak by vám to tentokrát opravdu nemělo zabrat moc času - pro jistotu už ale neříkám žádné odhady. Za případný feedback a informaci o době trvání budeme rádi!\n",
    "\n",
    "Výchozím bodem k tomuto úkolu je [toto cvičení](https://gitlab.fit.cvut.cz/bi-svz/bi-svz/blob/master/tutorials/files/5/perspective-measuring-cont.ipynb)."
   ]
  },
  {
   "cell_type": "markdown",
   "metadata": {
    "colab_type": "text",
    "id": "nMMrW_TeTAw0"
   },
   "source": [
    "### První část - rovnání dokumentu a následná aplikace OCR\n",
    "Práce probíhá se souborem `ocr_img.jpg` na kterém se nachází dokument známých rozměrů (papír A4). Dokument je potřeba transformovat na kolmý pohled a následně využít Google Cloud Vision API k automatizovanému přečtení textu pomocí OCR. Za tuto část je možné získat maximálně **3 body** a **až 1 prémiový**.\n",
    "\n",
    "![](ocr_img.jpg)"
   ]
  },
  {
   "cell_type": "markdown",
   "metadata": {},
   "source": [
    "**1) Načtěte obrázek, zobrazte ho a uložte si pole cílových korespondečních souřadnic rohů dokumentu.**"
   ]
  },
  {
   "cell_type": "code",
   "execution_count": null,
   "metadata": {
    "colab": {},
    "colab_type": "code",
    "id": "mjuW6DEnTAw2"
   },
   "outputs": [],
   "source": [
    "image = ...\n",
    "\n",
    "real_world_pts = ..."
   ]
  },
  {
   "cell_type": "markdown",
   "metadata": {},
   "source": [
    "**2) Pomocí již hotové funkce `select_image_points()` vyberte obrazové souřadnice rohů dokumentu.**  \n",
    "Souřadnice musí korespondovat pořadím, takže pokud je levý roh první v předchozím poli, musí být první vybrán i v tomto kroku."
   ]
  },
  {
   "cell_type": "code",
   "execution_count": null,
   "metadata": {
    "colab": {},
    "colab_type": "code",
    "id": "oyygjToJTAw5"
   },
   "outputs": [],
   "source": [
    "image_pts = ...\n",
    "\n",
    "if (len(image_pts) != len(real_world_pts)):\n",
    "    raise ValueError('Real world points and image points must be the same size.')\n",
    "\n",
    "print('format: x, y \\n', image_pts)"
   ]
  },
  {
   "cell_type": "markdown",
   "metadata": {},
   "source": [
    "**3) Vypočtěte transformační matici H, vypište její tvar.**"
   ]
  },
  {
   "cell_type": "code",
   "execution_count": null,
   "metadata": {
    "colab": {},
    "colab_type": "code",
    "id": "Kkj5mGuPTAw-",
    "outputId": "800d5dfc-54b4-488e-ba0b-68250361dfeb",
    "run_control": {
     "marked": true
    }
   },
   "outputs": [],
   "source": [
    "H, mask = ..."
   ]
  },
  {
   "cell_type": "markdown",
   "metadata": {},
   "source": [
    "**4) Popište rozdíl mezi [`cv2.getPerspectiveTransform()`](https://docs.opencv.org/3.4.1/da/d54/group__imgproc__transform.html#ga8c1ae0e3589a9d77fffc962c49b22043) a [`cv2.findHomography`](https://docs.opencv.org/3.4.1/d9/d0c/group__calib3d.html#ga4abc2ece9fab9398f2e560d53c8c9780).**"
   ]
  },
  {
   "cell_type": "markdown",
   "metadata": {},
   "source": [
    "."
   ]
  },
  {
   "cell_type": "markdown",
   "metadata": {},
   "source": [
    "**5) Využijte funkci [`cv2.warpPerspective`](https://docs.opencv.org/3.4.1/da/d54/group__imgproc__transform.html#gaf73673a7e8e18ec6963e3774e6a94b87) k vytvoření kolmého pohledu dokumentu, výsledek zobrazte a uložte.**"
   ]
  },
  {
   "cell_type": "code",
   "execution_count": null,
   "metadata": {
    "colab": {},
    "colab_type": "code",
    "id": "PgadvqcbTAxD"
   },
   "outputs": [],
   "source": [
    "..."
   ]
  },
  {
   "cell_type": "markdown",
   "metadata": {},
   "source": [
    "**6) Zprovozněte si účet na Google Cloudu, abyste mohli využívat službu Cloud Vision API.**\n",
    "\n",
    "K aktivaci využijte fakultní emailový účet a odkaz, který jsem vám zaslal emailem. Službu Vision je pak nutné explicitně aktivovat v nastavení a ve svém lokálním Python prostředí doinstalovat některé závislosti pomocí příkazu `pip install`. Posledním krokem je vytvoření přístupových údaju v Google Cloudu a stažení API klíče (idealně ve formátu JSON). Blizší detaily o zprovoznění naleznete na https://cloud.google.com/vision/docs/.\n",
    "\n",
    "**API KLÍČ DO REPOZITÁŘE NEPUSHUJTE.** Přidejte si ho třeba do .gitignore.\n"
   ]
  },
  {
   "cell_type": "markdown",
   "metadata": {},
   "source": [
    "**7) Detekujte text na \"narovnaném\" obraze pomocí níže uvedené funkce, text vypiště a uložte do textového souboru.** "
   ]
  },
  {
   "cell_type": "code",
   "execution_count": null,
   "metadata": {},
   "outputs": [],
   "source": [
    "def ocr_google(img_path):\n",
    "    \"\"\"Detects text in the file.\"\"\"\n",
    "    from google.cloud import vision\n",
    "    import io\n",
    "    import os\n",
    "    \n",
    "    api_key = 'api-key.json'\n",
    "    assert os.path.exists(api_key), 'There is no API-KEY in your path! You need to contact google to get one.'\n",
    "    client = vision.ImageAnnotatorClient.from_service_account_json(api_key)\n",
    "    \n",
    "    with io.open(img_path, 'rb') as image_file:\n",
    "        content = image_file.read()\n",
    "\n",
    "    image = vision.types.Image(content=content)\n",
    "    response = client.text_detection(image=image)\n",
    "    annotations = response.text_annotations\n",
    "\n",
    "    return annotations"
   ]
  },
  {
   "cell_type": "code",
   "execution_count": null,
   "metadata": {},
   "outputs": [],
   "source": [
    "..."
   ]
  },
  {
   "cell_type": "markdown",
   "metadata": {},
   "source": [
    "#### Bonus k první části\n",
    "Jak je vidět, výsledky po aplikaci OCR nejsou zcela uspokojivé. Je však v nutné brát potaz, že vstupní obraz není kromě geometrické transformace nijak dále předzpracován. Vzpomeňte si na cvičení, kde jsme aplikovali OCR s knihovnou Tesseract. Tam byly poměrně přísné nároky na vstupní obraz, který musel být perfektně předzpracovaný a v binární podobě. Tesseract je citlivý i na drobné natočení nebo deformování textu. Řešení od Google je v tomto ohledu značně robustnější.\n",
    "\n",
    "**8) Pokuste se vstupní obraz před aplikací OCR kvalitněji předzpracovat pomocí probíraných technik - crop, segmentace, zaostření, rozmazání, jas, kontrast, apod. Fantazii se meze nekladou. Stručně diskutujte poznatky a vlivy jednotlivých operací na výslednou kvalitu. <span style=\"color:blue\">(0.5 bodu)</span>**\n",
    "\n",
    "**9) Využijte Google Cloud Translate API k přeložení výsledného textu do angličtiny, výsledek zobrazte a uložte do textového souboru. <span style=\"color:blue\">(0.5 bodu)</span>**"
   ]
  },
  {
   "cell_type": "markdown",
   "metadata": {
    "colab_type": "text",
    "id": "3h7X9fYoTAxG"
   },
   "source": [
    "### Druhá část - výtvarné umění na FITu\n",
    "Práce probíhá s fotografií `fit_budova.jpg` od autora Tomáše Kouby a s malbou `fit_logo.jpg` od autora Lukáš Brchla. Cílem je umístit obrázek loga na stěnu budovy FITu viz obrázek. Za tuto část je možné získat maximálně **3 body** a **až 1 prémiový**.\n",
    "\n",
    "![](fit_logo_merged.jpg)"
   ]
  },
  {
   "cell_type": "markdown",
   "metadata": {},
   "source": [
    "**1) Načtěte obrázky a vytvořte pole korespondečních souřadnic rohů malby.**"
   ]
  },
  {
   "cell_type": "code",
   "execution_count": null,
   "metadata": {
    "colab": {},
    "colab_type": "code",
    "id": "9iJBfR0RTAxG"
   },
   "outputs": [],
   "source": [
    "main_img = ...\n",
    "logo_img = ...\n",
    "\n",
    "logo_pts = ..."
   ]
  },
  {
   "cell_type": "markdown",
   "metadata": {},
   "source": [
    "**2) Vyberte souřadnice v obraze, do kterých má být logo transformováno (pozor na pořadí).**"
   ]
  },
  {
   "cell_type": "code",
   "execution_count": null,
   "metadata": {
    "colab": {},
    "colab_type": "code",
    "id": "hEay6PU_TAxI"
   },
   "outputs": [],
   "source": [
    "image_pts = ...\n",
    "if (len(image_pts) != len(logo_pts)):\n",
    "    raise ValueError('Real world points and image points must be the same size.')\n",
    "\n",
    "print('format: x, y \\n', image_pts)"
   ]
  },
  {
   "cell_type": "markdown",
   "metadata": {},
   "source": [
    "**3) Vypočtěte transformační matici H, vypište její tvar.**"
   ]
  },
  {
   "cell_type": "code",
   "execution_count": null,
   "metadata": {
    "colab": {},
    "colab_type": "code",
    "id": "3zjq0eBQTAxN",
    "outputId": "2297de6a-99fe-4c5b-d0bd-08e4899c35ba"
   },
   "outputs": [],
   "source": [
    "H, mask = ..."
   ]
  },
  {
   "cell_type": "markdown",
   "metadata": {},
   "source": [
    "**4) Využijte funkci `cv2.warpPerspective()` k vytvoření stejné perspektivy loga jako fotografie budovy. Zobrazte výsledky.**"
   ]
  },
  {
   "cell_type": "code",
   "execution_count": null,
   "metadata": {
    "colab": {},
    "colab_type": "code",
    "id": "Y_2MWOj7TAxQ"
   },
   "outputs": [],
   "source": [
    "..."
   ]
  },
  {
   "cell_type": "markdown",
   "metadata": {},
   "source": [
    "**5) Logo je nutné umístit na budovu bez bílého pozadí, je tedy nutné ho segmentovat.**\n",
    "\n",
    "Tady se mohou vaše postupy lišit. Kvalita segmentace následně razantně rozhoduje o kvalitě výsledku. Zkuste experimentovat s různými druhy segmentace a zkuste využít i nějaké funkce pro předzpracování, jako např. rozmazání. Může se vám hodit funkce `cv2.bitwise_and`."
   ]
  },
  {
   "cell_type": "code",
   "execution_count": null,
   "metadata": {
    "colab": {},
    "colab_type": "code",
    "id": "o0z0N9QATAxX"
   },
   "outputs": [],
   "source": [
    "..."
   ]
  },
  {
   "cell_type": "markdown",
   "metadata": {},
   "source": [
    "**6) Spojte zdrojovou fotografii budovy se segmentovaným logem. Výsledek zobrazte a uložte.**\n",
    "\n",
    "Nejedná se o žádnou složitou operaci, existuje na to přímo OpenCV funkce."
   ]
  },
  {
   "cell_type": "code",
   "execution_count": null,
   "metadata": {},
   "outputs": [],
   "source": [
    "merged_img = ..."
   ]
  },
  {
   "cell_type": "markdown",
   "metadata": {},
   "source": [
    "#### Bonus k druhé části\n",
    "**7) Vymyslete a naprogramujte další využití perspektivní transformace pro nadcházející studenty BI-SVZ. Pro získání nápadu se lze odpíchnout od témat spojování snímků (panorama), rozšířené reality a 3D rekonstrukce. Pokud vůbec netušíte, hledejte v Google images klíčová slova \"homography\" nebo \"perspective transform\". Znovu podotýkám, že fantazii se meze nekladou a nebojte se případné dotazy/nápady konzultovat přímo s námi! <span style=\"color:blue\">(1 bod)</span>**\n"
   ]
  }
 ],
 "metadata": {
  "colab": {
   "collapsed_sections": [],
   "name": "1_task.ipynb",
   "provenance": [],
   "version": "0.3.2"
  },
  "kernelspec": {
   "display_name": "Python [default]",
   "language": "python",
   "name": "python3"
  },
  "language_info": {
   "codemirror_mode": {
    "name": "ipython",
    "version": 3
   },
   "file_extension": ".py",
   "mimetype": "text/x-python",
   "name": "python",
   "nbconvert_exporter": "python",
   "pygments_lexer": "ipython3",
   "version": "3.6.6"
  }
 },
 "nbformat": 4,
 "nbformat_minor": 1
}
