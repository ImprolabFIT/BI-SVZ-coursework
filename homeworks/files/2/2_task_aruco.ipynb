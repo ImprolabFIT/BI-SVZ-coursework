{
 "cells": [
  {
   "cell_type": "markdown",
   "id": "5882d598f361590d",
   "metadata": {},
   "source": [
    "# Úkol s ArUco\n",
    "Kódy [ArUco (Augmented Reality University of Cordoba)](https://doi.org/10.1016/j.patcog.2014.01.005) se používají mimojiné i k **odhadu polohy kamery**.\n",
    "\n",
    "Kódy se dělí na několik typů podle velikosti a počtu různých identifikátorů.\n",
    "Jejich čtvercový tvar umožňuje odhadnout polohu kamery z **jednoho** kódu. Binární kódování umožňuje identifikaci konkrétního ID a detekci částečně zakrytého markeru.\n",
    "\n",
    "**Cílem domácího úkolu je vložit 3D modely do videa tak, aby vykreslení modelu odpovídalo natočení a poloze ArUco kódu, na který se bude 3D model vykreslovat.** Za tuto část lze získat **3 body** a až **1 bod** prémiový.\n",
    "\n",
    "![](data/image/output-example.png \"Ukázka výstupu\")\n",
    "\n",
    "V úkolu si ukážeme, jak se značkami pracovat [pomocí knihovny `cv2`](https://docs.opencv.org/4.x/d2/d64/tutorial_table_of_content_objdetect.html), tj. projdeme si následující témata:\n",
    "- detekce markerů\n",
    "- odhad polohy kamery (camera pose estimation)\n",
    "- porozumění návratovým parametrům\n",
    "- načtení a předzpracování 3D objektů\n",
    "- projekce 3D objektu do obrazu, tj. jednoduchá ukázka rozšířené reality\n",
    "- následné zpracování videa"
   ]
  },
  {
   "cell_type": "code",
   "execution_count": null,
   "id": "265b4f88d131c482",
   "metadata": {
    "ExecuteTime": {
     "end_time": "2024-10-23T21:28:39.875075Z",
     "start_time": "2024-10-23T21:28:39.870250Z"
    }
   },
   "outputs": [],
   "source": [
    "# # Turn on an explicit auto-reload of packages.\n",
    "# # This should eliminate the need for reloading jupyter after every change made to imported functions.\n",
    "# %load_ext autoreload\n",
    "# %autoreload 1\n",
    "# #   only reload the ArUco module \n",
    "# %aimport ArUco"
   ]
  },
  {
   "cell_type": "markdown",
   "id": "e7089d5b-ee79-4aba-8a7a-4cc8295ec488",
   "metadata": {},
   "source": [
    "## Import knihoven"
   ]
  },
  {
   "cell_type": "code",
   "execution_count": 1,
   "id": "77c81b6577ade980",
   "metadata": {
    "ExecuteTime": {
     "end_time": "2024-10-23T21:28:40.853216Z",
     "start_time": "2024-10-23T21:28:39.881725Z"
    }
   },
   "outputs": [],
   "source": [
    "import os\n",
    "from typing import Dict\n",
    "\n",
    "import cv2\n",
    "import numpy as np\n",
    "import matplotlib.pyplot as plt\n",
    "import trimesh\n",
    "\n",
    "from improutils import plot_images, load_image, to_gray, camera_calib\n",
    "\n",
    "from ArUco.detection import infer_aruco_type\n",
    "from ArUco.process_video import process_video\n",
    "from ArUco.visualise import draw_aruco\n",
    "from ArUco.constants import Color"
   ]
  },
  {
   "cell_type": "markdown",
   "id": "6e772efb-7ade-45d0-b038-65760e09386f",
   "metadata": {},
   "source": [
    "## Definice pomocných funkcí"
   ]
  },
  {
   "cell_type": "code",
   "execution_count": null,
   "id": "f02e5cbd-9c42-4731-a9e8-00b6f7a577c4",
   "metadata": {
    "ExecuteTime": {
     "end_time": "2024-10-23T21:28:41.142913Z",
     "start_time": "2024-10-23T21:28:41.138106Z"
    }
   },
   "outputs": [],
   "source": [
    "def plot_mesh(mesh: trimesh.base.Trimesh, title=None):\n",
    "    \"\"\"\n",
    "    Plot vertices of a 3D mesh along their X and Y axis.\n",
    "    \"\"\"\n",
    "    plt.xlabel('X')\n",
    "    plt.ylabel('Y')\n",
    "    if title is None:\n",
    "        title = 'Model vertices projected onto the XY plane'\n",
    "    v = mesh.vertices.copy()\n",
    "    x = v[..., 0]\n",
    "    y = v[..., 1]\n",
    "    plt.scatter(x=x, y=y, s=1)\n",
    "    plt.axhline(0, c='black')\n",
    "    plt.axvline(0, c='black')\n",
    "    plt.title(title)\n",
    "    plt.show()"
   ]
  },
  {
   "cell_type": "markdown",
   "id": "1eacba34-9d37-442f-912a-5012ef5bfc1b",
   "metadata": {},
   "source": [
    "## Detekce ArUco\n",
    "Na správnou detekci ArUco a následnou projekci potřebujeme zkalibrovanou kameru.\n",
    "\n",
    "Využijte funkci `camera_calib` knihovny improutils a video `data/video/calibration.mp4` k získání parametrů kamery."
   ]
  },
  {
   "cell_type": "code",
   "execution_count": null,
   "id": "8a277bad",
   "metadata": {},
   "outputs": [],
   "source": [
    "camera_matrix, dist_coefs, _ = ... ###"
   ]
  },
  {
   "cell_type": "markdown",
   "id": "93035f01-d477-4989-bb84-49ddb8b3d1a7",
   "metadata": {},
   "source": [
    "Načtěte a zobrazte obrázek `data/image/aruco_img.bmp`, na kterém si nacvičíme práci s ArUco. Připravte si obraz v šedotónu."
   ]
  },
  {
   "cell_type": "code",
   "execution_count": null,
   "id": "372cac5011f14060",
   "metadata": {
    "ExecuteTime": {
     "end_time": "2024-10-23T21:28:42.313869Z",
     "start_time": "2024-10-23T21:28:42.303947Z"
    }
   },
   "outputs": [],
   "source": [
    "img = ... ###\n",
    "img_gray = ... ###\n",
    "...(..., titles=['Loaded image', 'Grayscale image']) ###"
   ]
  },
  {
   "cell_type": "markdown",
   "id": "1714c060",
   "metadata": {},
   "source": [
    "### Zjištění typu ArUco značek\n",
    "\n",
    "V praxi můžete dopředu znát typ značek, se kterými budete pracovat, ale těch typů je tolik, že se hodí mít \"trik v rukávu\", který vám ušetří čas. Tímto trikem je právě funkce `infer_aruco_type`. \n",
    "\n",
    "Funkce zkusí detekovat značky dle všech typů předdefinovaných v `ArUco/constants.py` a vrátí OpenCV detector spolu s výsledkem detekce pro typ nejčastěji se vyskytující značky v obrázku.\n",
    "\n",
    "Funkce vrací `namedtuple`, který obsahuje následující položky:\n",
    "- `marker_name` := string reprezentace typu\n",
    "- `marker_type` := cv2 reprezentace typu\n",
    "- `marker_count` := počet správně detekovaných značek \n",
    "- `detector` := cv2 třída na detekci ArUco značek\n",
    "- `corners` := rohy správně detekovaných značek v obrazu\n",
    "- `ids` := identifikátory značek z corners\n",
    "- `rejected` := rohy špatně identifikovaných značek (často to vůbec nejsou značky, ale spíše části obrazu tvarem podobné ArUco)\n",
    "- `detection` := (corners, ids, rejected)\n",
    "\n",
    "Na detekci ArUco využijte funkci `infer_aruco_type`."
   ]
  },
  {
   "cell_type": "code",
   "execution_count": null,
   "id": "78e32365b6ca1316",
   "metadata": {
    "ExecuteTime": {
     "end_time": "2024-10-23T21:28:42.978192Z",
     "start_time": "2024-10-23T21:28:42.345574Z"
    }
   },
   "outputs": [],
   "source": [
    "inference = infer_aruco_type(...) ###\n",
    "corners, ids, rejected = detection = inference.detection"
   ]
  },
  {
   "cell_type": "markdown",
   "id": "7c108ff6",
   "metadata": {},
   "source": [
    "Vizualizujte polohu a ID detekovaných značek na načteném obrázku za pomoci `draw_aruco`."
   ]
  },
  {
   "cell_type": "code",
   "execution_count": null,
   "id": "f787073d",
   "metadata": {},
   "outputs": [],
   "source": [
    "draw = draw_aruco(...) ###\n",
    "plot_images(draw, titles=['Detected ArUco markers (accepted in green, rejected in red)'])"
   ]
  },
  {
   "cell_type": "markdown",
   "id": "8ac8f591",
   "metadata": {},
   "source": [
    "### Odhad pozice kamery vzhledem k ArUco\n",
    "Když už známe 4 rohy všech značek na obrázku, můžeme využít funkci [`cv2.solvePnP`](https://docs.opencv.org/4.x/d5/d1f/calib3d_solvePnP.html) k odhadu polohy kamery. Známe **pozici markeru na obrázku**, **reálný tvar markeru** (čtverec o dané velikosti) a **parametry kamery** (kalibrace). Díky tomu umíme spočítat **rotační vektor a vektor posunutí** pro přechod ze souřadnicového systému reálného objektu do systému kamery.\n",
    "\n",
    "![](data/image/pnp.jpg \"PnP [https://docs.opencv.org/4.x/d5/d1f/calib3d_solvePnP.html]\")\n",
    "\n",
    "#### Vektor posunutí (translation vector)\n",
    "Hodnoty ve vektoru posunutí budou v jednotce velikosti značky. \n",
    "Norma vektoru je vzdálenost značky od kamery.\n",
    "\n",
    "#### Vektor otočení (rotation vector)\n",
    "Možná si říkáte: *Jak můžeme reprezentovat rotaci jediným vektorem?* \n",
    "<br>\\- Poměrně jednoduše! Směr vektoru značí osu, kolem které rotujeme, norma vektoru značí úhel otočení.\n",
    "\n",
    "#### Rohy ArUco v reálném světě\n",
    "Vytvořte funkci, která vygeneruje souřadnice rohů (X, Y, Z) ArUco markeru tak, aby byl střed v souřadnicích (0, 0, 0).\n",
    "\n",
    "<div style=\"color: blue; text-align: right\">[ 0,25 bodu ]</div>\n"
   ]
  },
  {
   "cell_type": "code",
   "execution_count": null,
   "id": "9a23127c",
   "metadata": {},
   "outputs": [],
   "source": [
    "def generate_marker_corners(marker_size: float) -> np.ndarray:\n",
    "    \"\"\"Generate real-world coordinates of an ArUco marker, with the origin in the middle of the marker.\n",
    "\n",
    "    Parameters\n",
    "    ----------\n",
    "    marker_size : float\n",
    "        actual size of marker (for example in mm)\n",
    "\n",
    "    Returns\n",
    "    -------\n",
    "    np.ndarray\n",
    "        NumPy array representing the 4 ArUco corners\n",
    "    \"\"\"\n",
    "\n",
    "    corners = ...\n",
    "    return corners"
   ]
  },
  {
   "cell_type": "code",
   "execution_count": null,
   "id": "818841a5",
   "metadata": {},
   "outputs": [],
   "source": [
    "marker_size = 20\n",
    "marker_points = generate_marker_corners(...) ###\n",
    "print(marker_points)"
   ]
  },
  {
   "cell_type": "markdown",
   "id": "a21f418c",
   "metadata": {},
   "source": [
    "#### Výpočet odhadu\n",
    "\n",
    "Nalezněte rotační a translační vektory pro každý ArUco marker v obrazu. Rotační a translační vektory si uložte do listu, abyste je pak mohli použít k projekci 3D modelu na marker. Při řešení **PnP** využijte metodu `flags=cv2.SOLVEPNP_IPPE_SQUARE`.\n",
    "\n",
    "<div style=\"color: blue; text-align: right\">[ 0,5 bodu ]</div>"
   ]
  },
  {
   "cell_type": "code",
   "execution_count": null,
   "id": "fda8ef84",
   "metadata": {},
   "outputs": [],
   "source": [
    "def get_marker_poses(marker_points, corners, camera_matrix, distortion_coeff):\n",
    "    \"\"\"Get rotation and translation vectors from 3D-2D point correspondences.\n",
    "\n",
    "    Parameters\n",
    "    ----------\n",
    "    marker_points : np.array\n",
    "        marker points in marker coordinate system\n",
    "\n",
    "    corners: np.array\n",
    "        image points of markers\n",
    "\n",
    "    camera_matrix: np.array\n",
    "        camera intrinsic matrix\n",
    "        \n",
    "    distorion_coeff: np.array\n",
    "        distortion coefficients\n",
    "\n",
    "\n",
    "    Returns\n",
    "    -------\n",
    "    rvecs: list\n",
    "        list of rotation vectors for each marker\n",
    "    tvecs: list\n",
    "        list of translation vectors for each marker\n",
    "    \"\"\"\n",
    "    rvecs = []\n",
    "    tvecs = []\n",
    "    \n",
    "    ... ### iterate through all markers(corners) and find the vectors\n",
    "\n",
    "    return rvecs, tvecs"
   ]
  },
  {
   "cell_type": "code",
   "execution_count": null,
   "id": "c25e0115",
   "metadata": {},
   "outputs": [],
   "source": [
    "rvecs, tvecs = get_marker_poses(marker_points, corners, camera_matrix, dist_coefs)\n",
    "\n",
    "print('rotation vector:\\n', rvecs[0])                                     \n",
    "print('translation vector (object to camera):\\n', tvecs[0])       "
   ]
  },
  {
   "cell_type": "markdown",
   "id": "0406c136",
   "metadata": {},
   "source": [
    "### Projekce bodů z ArUco do obrazu\n",
    "S funkcí [`cv2.projectPoints`](https://docs.opencv.org/3.4/d9/d0c/group__calib3d.html#ga1019495a2c8d1743ed5cc23fa0daff8c) umíme převést bod ze souřadnicového systému reálného objektu (ArUco) do obrazu. OpenCV sice má [`cv2.drawFrameAxes`](https://docs.opencv.org/3.4/d9/d0c/group__calib3d.html#gab3ab7bb2bdfe7d5d9745bb92d13f9564), ale pro lepší pochopení je níže vlastní implementace.\n",
    "\n",
    "Nastudujte funkci `draw_axes` a použijte ji k nakreslení souřadnicového systému ArUco značky (X, Y, Z osy) do kopie původního obrázku (img)."
   ]
  },
  {
   "cell_type": "code",
   "execution_count": null,
   "id": "9af188dc",
   "metadata": {},
   "outputs": [],
   "source": [
    "def draw_axes(image, camera_matrix, distortion_coeff, tvecs, rvecs, marker_size):\n",
    "    \"\"\"\n",
    "    Draws axes on an image using the rotation and translation vectors.\n",
    "\n",
    "    Note:    \n",
    "    `img = cv2.drawFrameAxes(img, matrix, distortion_coeff, rvec, tvec, marker_size)` will yield the same result.\n",
    "    The whole point of this function is to show how projectPoints can be used to draw ArUco axes.\n",
    "    \"\"\"\n",
    "    for i in range(len(rvecs)):\n",
    "        # np.eye represents identity matrix\n",
    "        axes_points = np.eye(3) * marker_size\n",
    "        # project axes onto image\n",
    "        imagePoints, _ = cv2.projectPoints(axes_points, rvecs[i], tvecs[i], camera_matrix, distortion_coeff)\n",
    "        imagePoints = imagePoints.astype(int)\n",
    "        # projected x, y, z axes\n",
    "        x = imagePoints[0][0]\n",
    "        y = imagePoints[1][0]\n",
    "        z = imagePoints[2][0]\n",
    "        \n",
    "        # middle of marker in real world coordinates\n",
    "        zero = np.array([[0, 0, 0]])\n",
    "\n",
    "        # middle of marker in image coordinates\n",
    "        # average of the 4 detected corners would yield the same result\n",
    "        marker_center, _ = cv2.projectPoints(zero.astype(float), rvecs[i], tvecs[i], camera_matrix, distortion_coeff)\n",
    "\n",
    "        # squeeze to remove the extra dimension. As you've probably already noticed, OpenCV tends to return arrays with redundant dimensions.\n",
    "        # in this case: [[[x, y]]] -> [x,  y]\n",
    "        marker_center = marker_center.squeeze().astype(int)\n",
    "        \n",
    "        cv2.line(image, tuple(marker_center), tuple(x), Color.RED, 5)\n",
    "        cv2.line(image, tuple(marker_center), tuple(y), Color.GREEN, 5)\n",
    "        cv2.line(image, tuple(marker_center), tuple(z), Color.BLUE, 5)\n",
    "    return image"
   ]
  },
  {
   "cell_type": "code",
   "execution_count": null,
   "id": "3abb6dbf",
   "metadata": {},
   "outputs": [],
   "source": [
    "axis_drawn = ... ###\n",
    "axis_drawn = draw_axes(...) ###\n",
    "plot_images(axis_drawn, titles=['Detected ArUco markers with axes. X in red, Y in green, Z in blue'])"
   ]
  },
  {
   "cell_type": "markdown",
   "id": "8869385d-a435-4931-97e9-0808b3d09057",
   "metadata": {},
   "source": [
    "## Načítání 3D objektů\n",
    "K načítání 3D objektů použijeme knihovnu [`trimesh`](https://trimesh.org). Experimentovat s vlastními 3D modely samozřejmě můžete, ale doporučujeme úkol napřed vypracovat s daty, které jsou ve složce `data/3D`.\n",
    "\n",
    "Doporučený postup načítání:\n",
    "- iterace přes složku s 3D soubory\n",
    "- načítání 3D objektu za pomoci [trimesh.load(..., force='mesh')](https://trimesh.org/trimesh.html#trimesh.load)\n",
    "- přidání do listu\n",
    "\n",
    "Parametr `force='mesh'` je potřebný pro přístup k `mesh.vertices` a `mesh.faces` (mesh je načtený 3D objekt).\n",
    "\n",
    "<div style=\"color: blue; text-align: right\">[ 0,1 bodu ]</div>"
   ]
  },
  {
   "cell_type": "code",
   "execution_count": null,
   "id": "c2671570-e4a1-41d6-9f96-c99474073c29",
   "metadata": {
    "ExecuteTime": {
     "end_time": "2024-10-23T21:28:41.517478Z",
     "start_time": "2024-10-23T21:28:41.165609Z"
    }
   },
   "outputs": [],
   "source": [
    "mesh_dir = os.path.join('data', '3D')\n",
    "mesh_list = []\n",
    "\n",
    "for file in ...: ###\n",
    "    file_path = ... ###\n",
    "    print(file_path)\n",
    "    \n",
    "    mesh = ... ###\n",
    "    mesh_list += [mesh]"
   ]
  },
  {
   "cell_type": "markdown",
   "id": "d9e791bd-f501-472b-949c-265065178966",
   "metadata": {
    "jp-MarkdownHeadingCollapsed": true
   },
   "source": [
    "### Pochopení reprezentace\n",
    "Wire-mesh model je v trimesh reprezentován jako:\n",
    "- `mesh.vertices`: vektory\n",
    "- `mesh.faces`: trojúhelníky skládající se z 3 vektorů\n",
    "\n",
    "<div style=\"color: blue; text-align: right\">[ 0,2 bodu ]</div>"
   ]
  },
  {
   "cell_type": "markdown",
   "id": "da62c8ab-fcd4-42f0-8d1a-14f06d246466",
   "metadata": {},
   "source": [
    "#### `trimesh.vertices`\n",
    "`Vertices` je tedy numpy array, kde každý řádek reprezentuje 1 vektor. \n",
    "\n",
    "Vypiště první vektor zvoleného meshe."
   ]
  },
  {
   "cell_type": "code",
   "execution_count": null,
   "id": "dfd59bcd-8f3f-4aa4-ab8f-09f440deddb5",
   "metadata": {
    "ExecuteTime": {
     "end_time": "2024-10-23T21:28:41.556506Z",
     "start_time": "2024-10-23T21:28:41.547272Z"
    }
   },
   "outputs": [],
   "source": [
    "mesh = mesh_list[...].copy() ### choose id that corresponds to the standford bunny\n",
    "... ###"
   ]
  },
  {
   "cell_type": "markdown",
   "id": "f617621e-c596-45d2-a03a-45e30a1103ee",
   "metadata": {},
   "source": [
    "#### `trimesh.faces`\n",
    "`Faces` je také numpy array, kde každý řádek reprezentuje vektor. Složky tohoto vektoru jsou indexy do `vertices`. Minimální složka tedy bude `0` a maximální složka bude `vertices.shape[0]`.\n",
    "\n",
    "Příklad prvku faces:\n",
    "`[0, 1, 2]` reprezentuje trojúhelník, kde každý roh reprezentuje 1 vektor, konkrétně `vertices[0], vertices[1], vertices[2]`.\n",
    "\n",
    "Vypište první 'facu' zvoleného meshe."
   ]
  },
  {
   "cell_type": "code",
   "execution_count": null,
   "id": "af236982-80ee-4a49-8a10-1287a2af0d56",
   "metadata": {
    "ExecuteTime": {
     "end_time": "2024-10-23T21:28:41.591882Z",
     "start_time": "2024-10-23T21:28:41.585672Z"
    }
   },
   "outputs": [],
   "source": [
    "... ###"
   ]
  },
  {
   "cell_type": "markdown",
   "id": "d809a3ef-2c0c-4b1f-bd5f-27cfffee1697",
   "metadata": {},
   "source": [
    "#### Seznam trojúhelníků"
   ]
  },
  {
   "cell_type": "markdown",
   "id": "8a251cf4-1972-4903-ae32-2e032e5fa85f",
   "metadata": {},
   "source": [
    "Pokud chceme model reprezentovat jako seznam trojúhelníků, tedy seznam trojic vektorů, stačí za pomoci `faces` zaindexovat `vertices`.\n",
    "\n",
    "Vypiště první trojúhelník zvoleného meshe."
   ]
  },
  {
   "cell_type": "code",
   "execution_count": null,
   "id": "2265f65e-4253-4162-93fb-b9635521ebd9",
   "metadata": {
    "ExecuteTime": {
     "end_time": "2024-10-23T21:28:41.743903Z",
     "start_time": "2024-10-23T21:28:41.738474Z"
    }
   },
   "outputs": [],
   "source": [
    "... ###"
   ]
  },
  {
   "cell_type": "markdown",
   "id": "a32d86ab-829e-4611-958b-c2801571b4ae",
   "metadata": {},
   "source": [
    "### Předzpracování modelů\n",
    "Předpokládáme, že spodní část načteného objektu je vodorovná s rovinou XY. Nemáme ale zaručeno, že se model vejde na ArUco kód a jeho spodní část lícuje s rovinou XY. Je zároveň i zapotřebí model orotovat tak, aby spodní část objektu byla opravdu vodorovná s rovinou XY.\n",
    "\n",
    "Model je třeba:\n",
    "- **vycentrovat**, využijte vlastností meshe.\n",
    "- **znormovat** na jedničku, vyžijte [ `apply_scale `](https://trimesh.org/trimesh.path.html#trimesh.path.Path2D.apply_scale) a funkcí `max`, `min`.\n",
    "- **položit na XY**.\n",
    "\n",
    "Vytvořte funkci `preprocess_mesh`, která tyto operace provede. Použijte `plot_mesh` k vizualizaci předzpracování. Mějte na paměti, že funkce `plot_mesh` vykresluje objekt v rovině XY.\n",
    "\n",
    "<div style=\"color: blue; text-align: right\">[ 0,5 bodu ]</div>\n",
    "\n",
    "![](data/image/kralici-pipeline.png)\n"
   ]
  },
  {
   "cell_type": "code",
   "execution_count": null,
   "id": "ce11565e",
   "metadata": {},
   "outputs": [],
   "source": [
    "def preprocess_mesh(mesh_unprocessed: trimesh.base.Trimesh) -> trimesh.base.Trimesh:\n",
    "    \"\"\"Transformer which preprocesses a 3D mesh in-place.\n",
    "\n",
    "    Parameters\n",
    "    ----------\n",
    "    mesh : trimesh.base.Trimesh\n",
    "        3D model\n",
    "\n",
    "    Returns\n",
    "    -------\n",
    "    trimesh.base.Trimesh\n",
    "        same model but preprocessed\n",
    "    \"\"\"\n",
    "    mesh = mesh_unprocessed.copy()\n",
    "    \n",
    "    # Center model (subtract centroid)\n",
    "    mesh.apply_translation(...) ###\n",
    "\n",
    "    # Scale centered model so that its projection onto XY plane fits into a square of size 1\n",
    "    ... ###\n",
    "    mesh.apply_scale(...)\n",
    "\n",
    "    # Translate just so the model sits directly on XY plane\n",
    "    ... #\n",
    "    mesh.apply_translation(...) ###\n",
    "\n",
    "    return mesh"
   ]
  },
  {
   "cell_type": "code",
   "execution_count": null,
   "id": "7a1327a4-bdaa-4f11-bfc4-1f8bc3e8b014",
   "metadata": {
    "ExecuteTime": {
     "end_time": "2024-10-23T21:28:42.032948Z",
     "start_time": "2024-10-23T21:28:41.783437Z"
    }
   },
   "outputs": [],
   "source": [
    "...(mesh, title='Unprocessed mesh') ###\n",
    "mesh_processed = preprocess_mesh(mesh)\n",
    "...(mesh_processed, title='Mesh after preprocessing') ###"
   ]
  },
  {
   "cell_type": "markdown",
   "id": "d723d497-abce-4467-95f1-2aa97fbe2a65",
   "metadata": {},
   "source": [
    "Model následně otočte o **90 stupňů** kolem **osy X**, aby \"seděl\" na ArUco markeru a model zobrazte. Výsledkem bude model \"sedící\" na rovině XY (pohled shora). Využijte modulu [`trimesh.transformation`](https://trimesh.org/trimesh.transformations.html) pro vytvoření rotační matice.\n",
    "\n",
    "<div style=\"color: blue; text-align: right\">[ 0,25 bodu ]</div>"
   ]
  },
  {
   "cell_type": "code",
   "execution_count": null,
   "id": "a6df2401",
   "metadata": {},
   "outputs": [],
   "source": [
    "def rotate_mesh(mesh_unrotated: trimesh.base.Trimesh) -> trimesh.base.Trimesh:\n",
    "    \"\"\"Transformer which rotates model around its X axis by 90 degrees.\n",
    "\n",
    "    Parameters\n",
    "    ----------\n",
    "    mesh : trimesh.base.Trimesh\n",
    "        3D model\n",
    "\n",
    "    Returns\n",
    "    -------\n",
    "    trimesh.base.Trimesh\n",
    "        rotated 3D model\n",
    "    \"\"\"\n",
    "    mesh = mesh_unrotated.copy()\n",
    "\n",
    "    # Rotate around x axis by 90 degrees\n",
    "    rotation_matrix = ... ###\n",
    "    \n",
    "    mesh.apply_transform(rotation_matrix)\n",
    "    return mesh"
   ]
  },
  {
   "cell_type": "code",
   "execution_count": null,
   "id": "114cf6e4-bd04-48f8-a65b-a41d3c26d919",
   "metadata": {
    "ExecuteTime": {
     "end_time": "2024-10-23T21:28:42.187825Z",
     "start_time": "2024-10-23T21:28:42.063537Z"
    }
   },
   "outputs": [],
   "source": [
    "mesh_rotated = rotate_mesh(mesh_processed)\n",
    "...(mesh_rotated, title='Processed mesh rotated around X axis') ###"
   ]
  },
  {
   "cell_type": "markdown",
   "id": "dfba5310-2775-4414-9768-424a9f0e493f",
   "metadata": {},
   "source": [
    "Předzpracování a otočení aplikujte na všechny 3D modely. Využijte funkce `map`."
   ]
  },
  {
   "cell_type": "code",
   "execution_count": null,
   "id": "5abc1be1-d9b6-4b54-ac69-dc7d087fb632",
   "metadata": {
    "ExecuteTime": {
     "end_time": "2024-10-23T21:28:42.253950Z",
     "start_time": "2024-10-23T21:28:42.217070Z"
    }
   },
   "outputs": [],
   "source": [
    "mesh_list = ... ### preprocess_mesh\n",
    "mesh_list = ... ### rotate_mesh"
   ]
  },
  {
   "cell_type": "markdown",
   "id": "c9a4acc2",
   "metadata": {},
   "source": [
    "## Projekce na ArUco (obrázek)\n",
    "Konečně se blížíme k té zábavné části, kde si zobrazíte vámi zvolené 3D modely na ArUco. Naplňte slovník `id_to_mesh`. Klíčem je ID ArUco značky, hodnotou 3D model, který chcete na ArUco zobrazit."
   ]
  },
  {
   "cell_type": "code",
   "execution_count": null,
   "id": "ea6bb85cb5f0d88a",
   "metadata": {
    "ExecuteTime": {
     "end_time": "2024-10-23T21:28:43.014286Z",
     "start_time": "2024-10-23T21:28:43.006547Z"
    }
   },
   "outputs": [],
   "source": [
    "id_to_mesh = {}\n",
    "min_len = min(len(mesh_list), len(ids))\n",
    "\n",
    "for i, marker_id in enumerate(ids.ravel()[:min_len]):\n",
    "    id_to_mesh[...] = mesh_list[...] ###"
   ]
  },
  {
   "cell_type": "markdown",
   "id": "2ecd549d",
   "metadata": {},
   "source": [
    "Vytvořte funkci, která bere jako první parametr RGB obrázek a vrací RGB obrázek. Funkce na přijatý frame projektuje 3D model na každý detekovaný ArUco kód. Využijte znalosti a funkce, které byly vytvářeny v předchozích bodech úkolu.\n",
    "\n",
    "**Požadavky na funkci**:\n",
    "- Detekujte ArUco kód z přijatého obrázku. Na každý detekovaný ArUco kód zobrazte model podle `id_to_mesh`.\n",
    "- Funkce by měla zvládat případy, kde nejsou detekované všechny markery. Později ji použijete na zpracování videa (stane se, že nebude viditelný celý ArUco kód, tudíž nebude detekován)\n",
    "- Nalezněte rotační a translační vektory. Projektuje vrcholy modelu do prostoru obrazu. Nezapomeňte vrcholy meshe přeškálovat dle `marker_size` použité při zavolání funkce `generate_marker_corners`.\n",
    "- Model stačí zobrazit jako wire-mesh, tzn. vykreslete všechny trojúhelníky modelu např. pomocí `cv2.drawContours`\n",
    "- Jednotlivé modely můžete, ale nemusíte odlišit jinou barvou\n",
    "\n",
    "<div style=\"color: blue; text-align: right\">[ 1 bod ]</div>"
   ]
  },
  {
   "cell_type": "code",
   "execution_count": null,
   "id": "57929b17",
   "metadata": {},
   "outputs": [],
   "source": [
    "def project_aruco(frame: np.ndarray, marker_size, camera_matrix, distortion_coeff, detector: cv2.aruco.ArucoDetector, id_to_mesh: Dict[int, trimesh.base.Trimesh]):\n",
    "    \n",
    "    ... ###\n",
    "\n",
    "    return frame"
   ]
  },
  {
   "cell_type": "code",
   "execution_count": null,
   "id": "7617fb28-fdfd-4cef-baa3-38a37cba7123",
   "metadata": {
    "ExecuteTime": {
     "end_time": "2024-10-23T21:28:43.461555Z",
     "start_time": "2024-10-23T21:28:43.061514Z"
    }
   },
   "outputs": [],
   "source": [
    "kwargs = {\n",
    "    'marker_size': marker_size, 'camera_matrix': camera_matrix, 'distortion_coeff': dist_coefs,\n",
    "    'detector': inference.detector, 'id_to_mesh': id_to_mesh\n",
    "}\n",
    "\n",
    "trimesh_img = project_aruco(img.copy(), **kwargs)\n",
    "plot_images(trimesh_img, titles=['Projected wiremesh'])"
   ]
  },
  {
   "cell_type": "markdown",
   "id": "9ec77b63",
   "metadata": {},
   "source": [
    "## Zpracování videa\n",
    "Aplikujte vámi vytvořenou funkci na video a uložte do souboru `out.mp4`. Použijte k tomu funkci `process_video(input_video_path, output_video_path, update_fn=your_fn, **fn_kwargs)`.\n",
    "\n",
    "Doporučení:\n",
    "- Jako první krok si zkuste na video aplikovat `video_test`, abyste se ujistili, že zpracování videa funguje na vašem systému.\n",
    "- Pokud by se vám objevovala chyba *\"moov atom not found\"*, stáhněte si video přimo z gitlabu a nahrajte do složky.\n",
    "- Následně můžete využít `draw_axes` k ověření, že správně detekujete ArUco.\n",
    "- Až pak se pouštějte do projekce 3D modelů. Vyhnete se tak zbytečným chybám.\n",
    "- Dávejte si pozor na `image.shape`, vracený obrázek musí mít stejné rozměry.\n",
    "\n",
    "<div style=\"color: blue; text-align: right\">[ 0,2 bodu ]</div>\n"
   ]
  },
  {
   "cell_type": "code",
   "execution_count": null,
   "id": "f640901c",
   "metadata": {},
   "outputs": [],
   "source": [
    "def video_test(frame):\n",
    "    return frame\n",
    "\n",
    "input_video_path = os.path.join('data', 'video', 'aruco-choreo.mp4')\n",
    "process_video(input_video_path, 'test.mp4', video_test)"
   ]
  },
  {
   "cell_type": "code",
   "execution_count": null,
   "id": "45996d083c4bcbca",
   "metadata": {
    "ExecuteTime": {
     "end_time": "2024-10-23T21:28:57.615198Z",
     "start_time": "2024-10-23T21:28:43.561596Z"
    }
   },
   "outputs": [],
   "source": [
    "def draw_axes_video(bgr, detector, camera_matrix, distortion_coeff, tvecs, rvecs, marker_size):\n",
    "    gray = cv2.cvtColor(bgr, cv2.COLOR_BGR2GRAY)\n",
    "    corners, _, _ = detector.detectMarkers(gray)\n",
    "    rvecs, tvecs = get_marker_poses(marker_points, corners, camera_matrix, distortion_coeff)\n",
    "    return draw_axes(bgr, camera_matrix, distortion_coeff, tvecs, rvecs, marker_size)\n",
    "\n",
    "process_video(input_video_path, 'axes.mp4', draw_axes_video, inference.detector, camera_matrix, dist_coefs, tvecs, rvecs, marker_size)"
   ]
  },
  {
   "cell_type": "code",
   "execution_count": null,
   "id": "c47ab9a3",
   "metadata": {},
   "outputs": [],
   "source": [
    "output_video_path = 'out.mp4'\n",
    "process_video(input_video_path, output_video_path, update_fn=project_aruco, **kwargs)"
   ]
  },
  {
   "cell_type": "markdown",
   "id": "1df4cb8c",
   "metadata": {},
   "source": [
    "\n",
    "# Bonus\n",
    "Pro získání většího množství bodů vám nabízíme jeden ze dvou níže specifikovaných úkolů.\n",
    "Úkoly nejsou nutně náročnější než hlavní část domácího úkolu, ale prohloubí vaše znalosti, nebo si minimálně něco procvičíte.<br>\n",
    "Můžete zapracovat na:\n",
    "1. **Vizualizaci pohybu ArUco kódů <span style=\"color:blue\">(1 bod)</span>**.\n",
    "    - Ve videu zobrazte předešlé pozice ArUco kódů, tedy vizualizujte stopu/trail kódů.\n",
    "    - Budete potřebovat nějakou strukturu, do které si budete ukládat předešlé pozice. Dobrý start je ukládat 24+ předešlých pozicí, jelikož framerate videa je 24 FPS.\n",
    "    - Strukturu si pak můžete předat do funkce process_video a měnit jí za běhu.\n",
    "2. **Zobrazení obrázků na ArUco kódy <span style=\"color:blue\">(1 bod)</span>**.\n",
    "    - Připravte si 3 obrázky vaší volby a zobrazte je na ArUco značky.\n",
    "    - Musíte ale zachovat poměr stran obrázků (fill/fit to scale)."
   ]
  }
 ],
 "metadata": {
  "kernelspec": {
   "display_name": ".venv",
   "language": "python",
   "name": "python3"
  },
  "language_info": {
   "codemirror_mode": {
    "name": "ipython",
    "version": 3
   },
   "file_extension": ".py",
   "mimetype": "text/x-python",
   "name": "python",
   "nbconvert_exporter": "python",
   "pygments_lexer": "ipython3",
   "version": "3.12.2"
  }
 },
 "nbformat": 4,
 "nbformat_minor": 5
}
