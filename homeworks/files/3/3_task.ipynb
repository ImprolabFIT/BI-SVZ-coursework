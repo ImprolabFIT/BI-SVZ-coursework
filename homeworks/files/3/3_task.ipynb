{
 "cells": [
  {
   "cell_type": "markdown",
   "metadata": {
    "cell_id": "00000-53e010e2-3b34-40ff-ad4b-aec17a41a254",
    "deepnote_cell_type": "markdown"
   },
   "source": [
    "# Měření BMI pomocí hloubkového senzoru\n",
    "Tento úkol je zaměřen na využití dat z hloubkového senzoru - konkrétně ze senzoru **Microsoft Kinect**. Kinect je starší druh hloubkového senzoru, který umožňuje získávat hloubkové mapy v rozlišení až 640 × 480 pixelů. V každém pixelu je uložena hodnota vzdálenosti od senzoru v jednotkách mm. \n",
    "\n",
    "![](images/kinect_view.png)\n",
    "\n",
    "Firmware uvnitř senzoru dále umožňuje automaticky detekovat osoby a aproximovat je tzv. skeletonem. **Skeleton** je objekt, který je definován ve své jednodušší variantě 20 body těla. K automatické detekci osoby a vytvoření skeletonu je zapotřebí kalibraovat senzor pomocí utvoření tzv. \"[**psi pózy**](https://www.google.cz/search?biw=1848&bih=978&tbm=isch&sa=1&ei=WO8DXIedG6iMrwT7qry4AQ&q=psi+pose&oq=psi+pose&gs_l=img.3...0.0..8771...0.0..0.0.0.......1......gws-wiz-img.Ak1KqQmBEao)\" (podle řečkého písmene &Psi;). Body jsou vidět na následujícím obrázku.\n",
    "\n",
    "![](images/kinect_joint_points.png)"
   ]
  },
  {
   "cell_type": "markdown",
   "metadata": {
    "cell_id": "00001-50c24f17-f965-4a90-95a0-4d69bfafdf33",
    "deepnote_cell_type": "markdown"
   },
   "source": [
    "## Citace\n",
    "[1] VELARDO, Carmelo a Jean-Luc DUGELAY. Weight estimation from visual body appearance. In: *2010 Fourth IEEE International Conference on Biometrics: Theory, Applications and Systems (BTAS)* [online]. IEEE, 2010, 2010, s. 1-6 [cit. 2018-12-02]. DOI: 10.1109/BTAS.2010.5634540. ISBN 978-1-4244-7581-0. Dostupné z: http://ieeexplore.ieee.org/document/5634540/ \n",
    "\n",
    "[2] PROKOPENKO, Stan. Human Figure Proportions - Average Figures - Dr. Paul Richer. *Proko - How to Draw*. [online]. 18.11.2013 [cit. 2015-05-10]. Dostupné z: http://www.proko.com/human-figure-proportions-average-richer/"
   ]
  },
  {
   "cell_type": "markdown",
   "metadata": {
    "cell_id": "00002-dc066631-7d30-46a7-980b-eb0cbf95ace7",
    "deepnote_cell_type": "markdown"
   },
   "source": [
    "### Import knihoven a konfigurace"
   ]
  },
  {
   "cell_type": "code",
   "execution_count": null,
   "metadata": {
    "cell_id": "00003-a264c2db-3ef1-45c9-8084-a7f45ba5fbb5",
    "colab": {},
    "colab_type": "code",
    "deepnote_cell_type": "code",
    "id": "cgEL2ndpTAwq",
    "output_cleared": false
   },
   "outputs": [],
   "source": [
    "from improutils import *\n",
    "import json\n",
    "import numpy as np\n",
    "import cv2\n",
    "from pprint import pprint\n",
    "from math import pi\n",
    "import itertools\n",
    "\n",
    "# spustí pomocné funkce z vedlejšího notebooku\n",
    "%run help_functions.py"
   ]
  },
  {
   "cell_type": "markdown",
   "metadata": {
    "cell_id": "00006-4f4494a5-9e05-4dff-a629-bdfe997242be",
    "deepnote_cell_type": "markdown"
   },
   "source": [
    "<a id='premium'>Prémiová funkce</a>"
   ]
  },
  {
   "cell_type": "code",
   "execution_count": null,
   "metadata": {
    "cell_id": "00007-fc1175a6-16e1-4c5f-a11d-99de66113f01",
    "code_folding": [
     0
    ],
    "deepnote_cell_type": "code",
    "run_control": {
     "marked": false
    }
   },
   "outputs": [],
   "source": [
    "def measure_distances_using_impro(image, contour, specified_points, measured_joints_pairs):\n",
    "    '''???'''\n",
    "    # Lengts of line segments to draw\n",
    "    # ... it's highly sensitive to the size of body part\n",
    "    dxs = [12, 12, 15, 40]\n",
    "    \n",
    "    # ???\n",
    "    just_contour = np.zeros_like(image)\n",
    "    just_contour = draw_contour(just_contour, contour)\n",
    "\n",
    "    conts_with_norm_lines = np.copy(just_contour)\n",
    "    \n",
    "    # ???\n",
    "    dists = []\n",
    "    for i, point in enumerate(specified_points):\n",
    "        p1 = measured_joints_pairs[i][0]\n",
    "        p2 = measured_joints_pairs[i][1]\n",
    "        \n",
    "        # ???\n",
    "        norm_lines = np.zeros_like(just_contour)\n",
    "        norm_lines = draw_norm_line_segment_in_point(p1, p2, point, dxs[i], norm_lines) ###\n",
    "\n",
    "        # ???\n",
    "        conts_with_norm_lines = cv2.bitwise_or(conts_with_norm_lines, norm_lines)\n",
    "\n",
    "        # ???\n",
    "        im = cv2.bitwise_and(just_contour, norm_lines)\n",
    "        idx = np.transpose(np.nonzero(im.T))\n",
    "\n",
    "        # ???\n",
    "        for j in range(0, len(idx)-1):\n",
    "            dist = distance_cm(idx[j], idx[j+1], k)\n",
    "\n",
    "            # ???\n",
    "            if dist > 2 * k:\n",
    "                dists.append(dist)\n",
    "\n",
    "                # ???\n",
    "                cv2.circle(conts_with_norm_lines, tuple(idx[j].T), 3, 80, -1)\n",
    "                cv2.circle(conts_with_norm_lines, tuple(idx[j+1].T), 3, 80, -1)\n",
    "                break\n",
    "    \n",
    "\n",
    "    assert len(dists) == 4, 'You don\\'t have enough points for measure distances. You probably chose RIGHT arm, hand, etc. Try choosing left ones.'\n",
    "\n",
    "    # ???\n",
    "    plot_images(conts_with_norm_lines)\n",
    "\n",
    "    # ???\n",
    "    return dists[0], dists[1], dists[2], dists[3]"
   ]
  },
  {
   "cell_type": "markdown",
   "metadata": {
    "cell_id": "00008-4fccb46f-7813-41ac-9106-2fb2572ebb60",
    "deepnote_cell_type": "markdown"
   },
   "source": [
    "### Použitelné funkce\n",
    "Seznamte se a na příslušném místě použijte!"
   ]
  },
  {
   "cell_type": "code",
   "execution_count": null,
   "metadata": {
    "cell_id": "00009-2dcb392c-60a5-4663-966f-ad2a3fd5b291",
    "code_folding": [
     0,
     4,
     17
    ],
    "deepnote_cell_type": "code",
    "run_control": {
     "marked": false
    }
   },
   "outputs": [],
   "source": [
    "def distance_cm(p1, p2, k):\n",
    "    '''Distance between two points multiplied by k'''\n",
    "    return np.linalg.norm(np.array(p1) - np.array(p2)) * k\n",
    "\n",
    "def point_in_distance(p1, p2, frac):\n",
    "    '''Creates point in specific distance (fraction) between two points'''\n",
    "    assert type(p1) is type(tuple()), 'Bod p1 není TUPLE!'\n",
    "    assert type(p2) is type(tuple()), 'Bod p2 není TUPLE!'\n",
    "    \n",
    "    # Get the top point.\n",
    "    if p1[1] < p2[1]:\n",
    "        top = p1\n",
    "        bottom = p2\n",
    "    else:\n",
    "        top = p2\n",
    "        bottom = p1\n",
    "\n",
    "    # Get the vector from the top to the bottom point.\n",
    "    dx = bottom[0] - top[0]\n",
    "    dy = bottom[1] - top[1]\n",
    "\n",
    "    # Add the vector multiplied by the fraction to get the desired point.\n",
    "    p_new_x = top[0] + (dx * frac)\n",
    "    p_new_y = top[1] + (dy * frac)\n",
    "\n",
    "    # Return result\n",
    "    return (p_new_x, p_new_y)\n",
    "\n",
    "def recount_joints(meta, crop_tl):\n",
    "    '''Recounts joints coordinates if you crop the default image and returns new meta dict.'''\n",
    "    meta_new = dict()\n",
    "    for key in meta.keys():\n",
    "        x = meta[key][0] - crop_tl[0]\n",
    "        y = meta[key][1] - crop_tl[1]\n",
    "        meta_new[key] = [x, y]\n",
    "    \n",
    "    return meta_new"
   ]
  },
  {
   "cell_type": "markdown",
   "metadata": {
    "cell_id": "00010-33d5746c-b4b7-4dbf-aa71-aa1df8deccb6",
    "deepnote_cell_type": "markdown"
   },
   "source": [
    "---"
   ]
  },
  {
   "cell_type": "markdown",
   "metadata": {
    "cell_id": "00011-310cc91b-50ff-4ac6-866e-ead2b0f80954",
    "deepnote_cell_type": "markdown"
   },
   "source": [
    "## Úkol"
   ]
  },
  {
   "cell_type": "markdown",
   "metadata": {
    "cell_id": "00012-615b0a64-d763-4fea-a439-a787c39de980",
    "deepnote_cell_type": "markdown"
   },
   "source": [
    "K výpočtu [body mass indexu (BMI)](https://cs.wikipedia.org/wiki/Index_t%C4%9Blesn%C3%A9_hmotnosti) jsou k dispozici nasnímaná data hloubkové mapy a metadata. Výpočet pro odhad hmotnosti vychází z publikace [1]. \n",
    "\n",
    "Za úkol je možné získat až **7 bodů** a až **2 prémiové**.\n",
    "\n",
    "---\n",
    "\n",
    "K výpočtu BMI bude zapotřebí změřit celkem 7 údajů. Údaje jsou přehledně zobrazeny v <a id='tab'>tabulce</a> na následujícím obrázku [1]. \n",
    "\n",
    "![](images/body_measurements.png)"
   ]
  },
  {
   "cell_type": "markdown",
   "metadata": {
    "cell_id": "00013-c98b35b8-421d-4148-8c0d-cb4f7e9eca6a",
    "deepnote_cell_type": "markdown"
   },
   "source": [
    "#### 1) Načtěte data\n",
    "Načtěte data hloubkové mapy ve formátu `unit16` a k tomu metadata ve formátu `json`. Metadata obsahují souřadnice bodů pro všech 20 bodů skeletonu z hloubkové mapy a převodní konstantu `k` pro přepočet vzdáleností z pixelů na cm. Uložte si konstantu zvlášť a souřadnice bodů také.\n",
    "\n",
    "<div style=\"color: blue; text-align: right\">[ 0,5 bodu ]</div>"
   ]
  },
  {
   "cell_type": "code",
   "execution_count": null,
   "metadata": {
    "cell_id": "00014-30e79bb0-cc9c-4666-b8f7-3f28f9112268",
    "deepnote_cell_type": "code"
   },
   "outputs": [],
   "source": [
    "# Name\n",
    "name = ''\n",
    "\n",
    "# Image open\n",
    "depth = cv2.imread(name, cv2.IMREAD_ANYDEPTH)\n",
    "plot_images(depth)\n",
    "\n",
    "# Meta data load\n",
    "with open(...) as f: ###\n",
    "    meta = json.load(f)\n",
    "\n",
    "# Constant extraction\n",
    "k = ... ###\n",
    "\n",
    "print(k)\n",
    "pprint(meta)"
   ]
  },
  {
   "cell_type": "markdown",
   "metadata": {
    "cell_id": "00015-4609f49e-4eec-48d9-b925-1b9df6415d25",
    "deepnote_cell_type": "markdown"
   },
   "source": [
    "#### 2) Zobrazte skeleton\n",
    "Využijte metadata skeletonu a **zobrazte body skeletonu** na snímku hloubkové mapy. Zobrazte také **spoje bodů skeletonu** podle obrázku výše. Bude se hodit funkce, která je schopna vrátit **dvojice klíčů** ze slovníku `meta` pro body skeletonu, které jsou vedle sebe.\n",
    "\n",
    "<div style=\"color: blue; text-align: right\">[ 1 bod ]</div>"
   ]
  },
  {
   "cell_type": "code",
   "execution_count": null,
   "metadata": {
    "cell_id": "00016-c3ff942c-0fa8-4e76-b98e-1979a44055e8",
    "deepnote_cell_type": "code"
   },
   "outputs": [],
   "source": [
    "def skeleton_tuples(num=19):\n",
    "    joints = list()\n",
    "    joints.append(['head', 'shoulder_center'])\n",
    "    \n",
    "    # ...\n",
    "    # ...\n",
    "    # ...\n",
    "    \n",
    "    \n",
    "    \n",
    "    \n",
    "    \n",
    "    return joints[0:num]"
   ]
  },
  {
   "cell_type": "code",
   "execution_count": null,
   "metadata": {
    "cell_id": "00017-f9953612-ea4e-447d-9fe0-7c34ccbd17f4",
    "deepnote_cell_type": "code"
   },
   "outputs": [],
   "source": [
    "depth_draw = depth.copy()\n",
    "\n",
    "# Draw all joints as circles\n",
    "... \n",
    "\n",
    "# Draw all lines\n",
    "...\n",
    "    \n",
    "plot_images(depth_draw)"
   ]
  },
  {
   "cell_type": "markdown",
   "metadata": {
    "cell_id": "00018-795a2294-4936-43ae-8487-afef99d0e3fa",
    "deepnote_cell_type": "markdown"
   },
   "source": [
    "#### 3) Změřte výšku osoby `f1`\n",
    "S pomocí bodů skeletonu změřte výšku osoby. Vzdálenost mezi bodem `head` a vrškem hlavy aproximujte jako 1/14 změřené výšky [2]. Měřte výšku osoby v cm! Hodnotu výšky uložte do proměnné `f1`.\n",
    "\n",
    "<div style=\"color: blue; text-align: right\">[ 1 bod ]</div>"
   ]
  },
  {
   "cell_type": "code",
   "execution_count": null,
   "metadata": {
    "cell_id": "00019-e997772f-339f-495f-beea-e6bf9c644c10",
    "deepnote_cell_type": "code"
   },
   "outputs": [],
   "source": [
    "f1 = 0\n",
    "\n",
    "... ###\n",
    "\n",
    "print(f'Výška osoby je {f1:.2f} cm.')"
   ]
  },
  {
   "cell_type": "markdown",
   "metadata": {
    "cell_id": "00020-29017723-8355-436f-bc6c-d4463ea0d10d",
    "deepnote_cell_type": "markdown"
   },
   "source": [
    "#### 4) Segmentujte osobu z obrazu\n",
    "Z hloubkové mapy segmentujte osobu. Můžete využít znalosti, že měřený subjekt dle metodiky měření stál **296 cm** od senzoru. Tloušťku osoby zvolte maximálně **50 cm**. Jako výsledek si uložte **konturu osoby**, protože se pak bude hodit dále.\n",
    "\n",
    "Můžete si pomoci **ručním oříznutím** obrázku, avšak nezapomeňte pak **přepočítat souřadnice** bodů skeletonu! \n",
    "\n",
    "<div style=\"color: blue; text-align: right\">[ 1,5 bodu ]</div>"
   ]
  },
  {
   "cell_type": "code",
   "execution_count": null,
   "metadata": {
    "cell_id": "00021-226e0fda-1c9a-469a-b56b-9fd89e7998c7",
    "deepnote_cell_type": "code"
   },
   "outputs": [],
   "source": [
    "image = depth.copy()\n",
    "\n",
    "# Don't forget to recount joints while cropping!\n",
    "image = crop(...)\n",
    "meta_new = ... #\n",
    "\n",
    "# Segmentation\n",
    "...\n",
    "\n",
    "\n",
    "# Gets one final contour in form of np.ndarray\n",
    "... "
   ]
  },
  {
   "cell_type": "markdown",
   "metadata": {
    "cell_id": "00022-ed425edb-7ab9-4c8a-8ae7-2777ca526aa0",
    "deepnote_cell_type": "markdown"
   },
   "source": [
    "#### 5) Změřte další potřebné rozměry délku stehna `f2` a délku nadloktí `f4`\n",
    "Změřte další rozměry potřebné k zisku odhadu hmotnosti člověka. Potřebné rozměry jsou zobrazené v [tabulce](#tab) na následujícícm obrázku. Rozměry uložte do proměnných `f2` a `f4`.\n",
    "\n",
    "<div style=\"color: blue; text-align: right\">[ 0.75 bodu ]</div>"
   ]
  },
  {
   "cell_type": "code",
   "execution_count": null,
   "metadata": {
    "cell_id": "00023-4a500c7f-2216-4a2d-b5ba-fc9b09857800",
    "deepnote_cell_type": "code"
   },
   "outputs": [],
   "source": [
    "f2 = ...\n",
    "f4 = ...\n",
    "\n",
    "print(f2)\n",
    "print(f4)"
   ]
  },
  {
   "cell_type": "markdown",
   "metadata": {
    "cell_id": "00024-f1ea59e8-510c-4a7a-a0de-f847cf2863ce",
    "deepnote_cell_type": "markdown"
   },
   "source": [
    "#### 6) Nalezněte body kontury pro další měření\n",
    "Najděte polohy bodů pro měření šířky kontury osoby p_3, p_5, p_7 a p_6. \n",
    "- Bod pro měření **lýtka** leží ve 2/3 délky mezi body skeletonu `knee` a `ankle`.\n",
    "- Bod pro měření **paže** leží ve 2/3 délky mezi body skeletonu `shoulder` a `elbow`.\n",
    "- Bod pro měření **stehna** leží ve 4/5 délky mezi body skeletonu `hip`a `knee`.\n",
    "- Bod pro měření **pasu** leží v bodě skeletonu `hip_center`.\n",
    "\n",
    "Dále nalezněte vždy 2 body kontury, které leží na normále (= přímce kolmé) k přímce spojující výše zmíněné body skeletonu a změřte vzdálenosti mezi nimi `d3`, `d5` a `d7`.\n",
    "\n",
    "Pro vzdálenost `d6` se využije přímky spojující bod skeletonu `shoulder_center` s bodem `hip_center`.\n",
    "\n",
    "<div style=\"color: blue; text-align: right\">[ 1 bod ]</div>"
   ]
  },
  {
   "cell_type": "code",
   "execution_count": null,
   "metadata": {
    "cell_id": "00025-da50c52a-2d12-462e-9401-45907e0ac8a3",
    "deepnote_cell_type": "code"
   },
   "outputs": [],
   "source": [
    "p_3 = ...\n",
    "p_5 = ...\n",
    "p_7 = ...\n",
    "p_6 = ...\n",
    "\n",
    "points = [p_3, p_5, p_7, p_6]"
   ]
  },
  {
   "cell_type": "code",
   "execution_count": null,
   "metadata": {
    "cell_id": "00026-86c42d3d-708a-4c39-b4e5-defe52bbc403",
    "deepnote_cell_type": "code"
   },
   "outputs": [],
   "source": [
    "measured_joint_pairs = [\n",
    "    [ tuple(meta_new['']), tuple(meta_new['']) ],\n",
    "    [ tuple(meta_new['']), tuple(meta_new['']) ],\n",
    "    [ tuple(meta_new['']), tuple(meta_new['']) ],\n",
    "    [ tuple(meta_new['']), tuple(meta_new['']) ]\n",
    "]\n",
    "\n",
    "d3, d5, d7, d6 = measure_distances_using_impro(image, conts, points, measured_joint_pairs)\n",
    "print(d3, d5, d7, d6)"
   ]
  },
  {
   "cell_type": "markdown",
   "metadata": {
    "cell_id": "00027-9e630913-3998-4ab2-90e1-9f7dfb94480d",
    "deepnote_cell_type": "markdown"
   },
   "source": [
    "#### 7) Spočítejte další potřebné rozměry obvod lýtka `f3`, obvod paže `f5` a obvod stehna `f7`\n",
    "Předpokládejme, že lýtko, paže i stehno lze aproximovat geometrickým útvarem válce. Z obrazu jsme získali vzdálenosti kontury osoby v potřebných bodech. Potom výpočet obvodů `f3`, `f5` a `f7` lze získat dle následujícího vzorce.\n",
    "\n",
    "$f_i = \\pi \\cdot d_i$, pro $i \\in \\{3, 5, 7\\}$\n",
    "\n",
    "<div style=\"color: blue; text-align: right\">[ 0.25 bodu ]</div>"
   ]
  },
  {
   "cell_type": "code",
   "execution_count": null,
   "metadata": {
    "cell_id": "00028-59e03da0-9038-4454-8c6f-f5513ce996b3",
    "deepnote_cell_type": "code"
   },
   "outputs": [],
   "source": [
    "f3 = ...\n",
    "f5 = ...\n",
    "f7 = ...\n",
    "\n",
    "print(f3)\n",
    "print(f5)\n",
    "print(f7)"
   ]
  },
  {
   "cell_type": "markdown",
   "metadata": {
    "cell_id": "00029-a7c6556d-b3f2-4cc8-936d-635d51320772",
    "deepnote_cell_type": "markdown"
   },
   "source": [
    "#### 8) Spočítejte další potřebný rozměr obvod pasu `f6`\n",
    "Předpokládejte, že pas nelze úplně aproximovat válcem. Tento rozměr vezmeme jako jeden hraniční. Jako druhý hraniční rozměr vezmeme dvojnásobek rozměru `d6`. Jejich průmerem pak vypočteme obvod pasu podle vzorce:\n",
    "\n",
    "$$\n",
    "f_6 = \\frac{\\pi \\cdot d_6 + 2 \\cdot d_6}{2}\n",
    "$$\n",
    "\n",
    "<div style=\"color: blue; text-align: right\">[ 0.25 bodu ]</div>"
   ]
  },
  {
   "cell_type": "code",
   "execution_count": null,
   "metadata": {
    "cell_id": "00030-615c0b64-b34c-4f23-bc60-34c1f41eb05c",
    "deepnote_cell_type": "code"
   },
   "outputs": [],
   "source": [
    "f6 = ...\n",
    "\n",
    "print(f6)"
   ]
  },
  {
   "cell_type": "markdown",
   "metadata": {
    "cell_id": "00031-f76b5b5c-4ab1-4e15-a1d1-31f475adad05",
    "deepnote_cell_type": "markdown"
   },
   "source": [
    "#### 9) Spočítejte odhad hmotnosti\n",
    "Dle [1] lze spočítat odhad hmotnosti člověka v kg podle následujícího vzorce.\n",
    "\n",
    "$$\n",
    "m = -122,27 + 0,48 \\cdot f_1 - 0,17 \\cdot f_2 + 0,52 \\cdot f_3 + 0,16 \\cdot f_4 + 0,77 \\cdot f_5 + 0,49 \\cdot f6 + 0,58 \\cdot f_7\n",
    "$$\n",
    "\n",
    "<div style=\"color: blue; text-align: right\">[ 0.25 bodu ]</div>"
   ]
  },
  {
   "cell_type": "code",
   "execution_count": null,
   "metadata": {
    "cell_id": "00032-c42bf0ab-9305-48be-b518-b43976134779",
    "deepnote_cell_type": "code"
   },
   "outputs": [],
   "source": [
    "m = ...\n",
    "\n",
    "print(f'Hmotnost osoby je {m:.2f} kg.')"
   ]
  },
  {
   "cell_type": "markdown",
   "metadata": {
    "cell_id": "00033-d51c350d-130e-4f61-8d20-1aa35b5c8326",
    "deepnote_cell_type": "markdown"
   },
   "source": [
    "#### 10) Spočtěte BMI\n",
    "Ze standardního vztahu vypočtěte BMI jako poměr hmotnosti $m$ v kg a výšky $h$ v m člověka.\n",
    "\n",
    "$$\n",
    "BMI = \\frac{m}{h^2}\n",
    "$$\n",
    "\n",
    "<div style=\"color: blue; text-align: right\">[ 0.5 bodu ]</div>"
   ]
  },
  {
   "cell_type": "code",
   "execution_count": null,
   "metadata": {
    "cell_id": "00034-c6e68426-c75d-4b48-af00-2a72ed41d7c5",
    "deepnote_cell_type": "code"
   },
   "outputs": [],
   "source": [
    "BMI = ...\n",
    "\n",
    "print(f'Výsledné BMI je {BMI:.2f} kg/m2.')"
   ]
  },
  {
   "cell_type": "markdown",
   "metadata": {
    "cell_id": "00035-1b8c6498-ae73-4136-bf5c-1d6604c8bd89",
    "deepnote_cell_type": "markdown"
   },
   "source": [
    "---"
   ]
  },
  {
   "cell_type": "markdown",
   "metadata": {
    "cell_id": "00036-9b1d9c62-8aa1-4037-9f2c-8bcb11e27b29",
    "deepnote_cell_type": "markdown"
   },
   "source": [
    "#### 11) Prémium #1\n",
    "Nabízím 1 prémiový bod za vysvětlení principu funkčnosti [speciální funkce](#premium) formou volného textu, ze kterého bude jasné její pochopení. \n",
    "\n",
    "#### 12) Prémium #2\n",
    "Nabízím 1 prémiový bod za ekvivalentní funkci ke [speciální funkci](#premium), která bude založena na geometrickém zjištění protínajících se bodů kontury s body normály. Hodně je toho vyřešeno již v [pomocných funkcích](help_functions.ipynb)."
   ]
  },
  {
   "cell_type": "markdown",
   "metadata": {
    "created_in_deepnote_cell": true,
    "deepnote_cell_type": "markdown",
    "tags": []
   },
   "source": [
    "<a style='text-decoration:none;line-height:16px;display:flex;color:#5B5B62;padding:10px;justify-content:end;' href='https://deepnote.com?utm_source=created-in-deepnote-cell&projectId=dd8fd64a-73b5-45e5-8bd2-9e8e3887d224' target=\"_blank\">\n",
    "<img alt='Created in deepnote.com' style='display:inline;max-height:16px;margin:0px;margin-right:7.5px;' src='data:image/svg+xml;base64,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' > </img>\n",
    "Created in <span style='font-weight:600;margin-left:4px;'>Deepnote</span></a>"
   ]
  }
 ],
 "metadata": {
  "colab": {
   "collapsed_sections": [],
   "name": "1_task.ipynb",
   "provenance": [],
   "version": "0.3.2"
  },
  "deepnote": {},
  "deepnote_execution_queue": [],
  "deepnote_notebook_id": "137400d1-0fe6-4e77-b98b-0f9bfe51c8c3",
  "kernelspec": {
   "display_name": "Python [default]",
   "language": "python",
   "name": "python3"
  },
  "language_info": {
   "codemirror_mode": {
    "name": "ipython",
    "version": 3
   },
   "file_extension": ".py",
   "mimetype": "text/x-python",
   "name": "python",
   "nbconvert_exporter": "python",
   "pygments_lexer": "ipython3",
   "version": "3.6.6"
  }
 },
 "nbformat": 4,
 "nbformat_minor": 1
}
