{
 "cells": [
  {
   "cell_type": "markdown",
   "metadata": {},
   "source": [
    "# Měření BMI pomocí hloubkového senzoru\n",
    "Tento úkol je zaměřen na využití dat z hloubkového senzoru - konkrétně ze senzoru **Microsoft Kinect**. Kinect je starší druh hloubkového senzoru, který umožňuje získávat hloubkové mapy v rozlišení až 640 × 480 pixelů. V každém pixelu je uložena hodnota vzdálenosti od senzoru v jednotkách mm. \n",
    "\n",
    "<img src=\"images/kinect_view.png\" width=\"50%\"/>\n",
    "\n",
    "Firmware uvnitř senzoru dále umožňuje automaticky detekovat osoby a aproximovat je tzv. skeletonem. **Skeleton** je objekt, který je definován ve své jednodušší variantě 20 body těla. K automatické detekci osoby a vytvoření skeletonu je zapotřebí kalibraovat senzor pomocí utvoření tzv. \"[**psi pózy**](https://www.google.cz/search?biw=1848&bih=978&tbm=isch&sa=1&ei=WO8DXIedG6iMrwT7qry4AQ&q=psi+pose&oq=psi+pose&gs_l=img.3...0.0..8771...0.0..0.0.0.......1......gws-wiz-img.Ak1KqQmBEao)\" (podle řečkého písmene &Psi;). Body jsou vidět na následujícím obrázku.\n",
    "\n",
    "<img src=\"images/kinect_joint_points.png\" width=\"40%\"/>"
   ]
  },
  {
   "cell_type": "markdown",
   "metadata": {},
   "source": [
    "## Citace\n",
    "[1] VELARDO, Carmelo a Jean-Luc DUGELAY. Weight estimation from visual body appearance. In: *2010 Fourth IEEE International Conference on Biometrics: Theory, Applications and Systems (BTAS)* [online]. IEEE, 2010, 2010, s. 1-6 [cit. 2018-12-02]. DOI: 10.1109/BTAS.2010.5634540. ISBN 978-1-4244-7581-0. Dostupné z: http://ieeexplore.ieee.org/document/5634540/ \n",
    "\n",
    "[2] PROKOPENKO, Stan. Human Figure Proportions - Average Figures - Dr. Paul Richer. *Proko - How to Draw*. [online]. 18.11.2013 [cit. 2015-05-10]. Dostupné z: http://www.proko.com/human-figure-proportions-average-richer/"
   ]
  },
  {
   "cell_type": "markdown",
   "metadata": {},
   "source": [
    "### Import knihoven a konfigurace"
   ]
  },
  {
   "cell_type": "code",
   "execution_count": null,
   "metadata": {
    "colab": {},
    "colab_type": "code",
    "id": "cgEL2ndpTAwq"
   },
   "outputs": [],
   "source": [
    "%run ../../../tutorials/files/svz.ipynb\n",
    "import json\n",
    "from pprint import pprint\n",
    "import skimage.io"
   ]
  },
  {
   "cell_type": "markdown",
   "metadata": {},
   "source": [
    "### Pomocné funkce\n",
    "Slouží pouze jako závislosti pro funkce použitelné. **Neměnit!**"
   ]
  },
  {
   "cell_type": "code",
   "execution_count": null,
   "metadata": {
    "code_folding": [
     0,
     4,
     12,
     17,
     25,
     31
    ],
    "run_control": {
     "marked": false
    }
   },
   "outputs": [],
   "source": [
    "def tuple_elems_to_int(t):\n",
    "    assert len(t) == 2, 'Only tuple with two elements is supported!'\n",
    "    return (int(t[0]), int(t[1]))\n",
    "\n",
    "def kq_of_line_segment(l_p1, l_p2):\n",
    "    a = np.array([[l_p1[0], 1], [l_p2[0], 1]])\n",
    "    b = np.array([l_p1[1], l_p2[1]])\n",
    "    \n",
    "    k, q = np.linalg.solve(a, b)\n",
    "    \n",
    "    return k, q\n",
    "\n",
    "def normal_kq_in_point(p1, k, q):\n",
    "    kn = -1/k\n",
    "    qn = p1[1] - kn * p1[0]\n",
    "    return kn, qn\n",
    "\n",
    "def normal_line_start_end_points(point, k, q, dx):\n",
    "    kn, qn = normal_kq_in_point(point, k, q)\n",
    "    \n",
    "    x = [point[0]-dx, point[0]+dx]\n",
    "    y = [kn * x[0] + qn, kn * x[1] + qn]\n",
    "    \n",
    "    return (x[0], y[0]), (x[1], y[1])\n",
    "\n",
    "def draw_norm_line_segment_in_point(l_p1, l_p2, point, dx, image):\n",
    "    k,q = kq_of_line_segment(l_p1, l_p2)\n",
    "    start, end = normal_line_start_end_points(point, k, q, dx)\n",
    "    cv2.line(image, tuple_elems_to_int(start), tuple_elems_to_int(end), (255,255,255), 1, cv2.LINE_4)\n",
    "    return image\n",
    "\n",
    "def draw_contour(image, contour):\n",
    "    cv2.drawContours(image, contour, -1, (255,255,255), 1, cv2.LINE_4)\n",
    "    return image"
   ]
  },
  {
   "cell_type": "markdown",
   "metadata": {},
   "source": [
    "<a id='premium'>Prémiová funkce</a>"
   ]
  },
  {
   "cell_type": "code",
   "execution_count": null,
   "metadata": {
    "code_folding": [
     0
    ],
    "run_control": {
     "marked": false
    }
   },
   "outputs": [],
   "source": [
    "def measure_distances_using_impro(contour, specified_points, measured_joints_pairs):\n",
    "    '''???'''\n",
    "    # Lengts of line segments to draw\n",
    "    # ... it's highly sensitive to the size of body part\n",
    "    dxs = [12, 12, 15, 40]\n",
    "    \n",
    "    # ???\n",
    "    just_contour = np.zeros_like(image)\n",
    "    just_contour = draw_contour(just_contour, contour)\n",
    "    \n",
    "    # ???\n",
    "    dists = []\n",
    "    for i, point in enumerate(specified_points):\n",
    "        p1 = measured_joint_pairs[i][0]\n",
    "        p2 = measured_joint_pairs[i][1]\n",
    "        \n",
    "        # ???\n",
    "        norm_lines = np.zeros_like(just_contour)\n",
    "        norm_lines = draw_norm_line_segment_in_point(p1, p2, point, dxs[i], norm_lines) ###\n",
    "\n",
    "        # ???\n",
    "        im = cv2.bitwise_and(just_contour, norm_lines)\n",
    "        idx = np.transpose(np.nonzero(im.T))\n",
    "\n",
    "        # ???\n",
    "        for j in range(0, len(idx)-1):\n",
    "            dist = distance_cm(idx[j], idx[j+1], k)\n",
    "\n",
    "            # ???\n",
    "            if dist > k:\n",
    "                dists.append(dist)\n",
    "\n",
    "    assert len(dists) == 4, 'You don\\'t have enough points for measure distances. You probably chose RIGHT arm, hand, etc. Try choosing lef ones.'\n",
    "\n",
    "    # ???\n",
    "    return dists[0], dists[1], dists[2], dists[3]"
   ]
  },
  {
   "cell_type": "markdown",
   "metadata": {},
   "source": [
    "### Použitelné funkce\n",
    "Seznamte se a na příslušném místě použijte!"
   ]
  },
  {
   "cell_type": "code",
   "execution_count": null,
   "metadata": {
    "code_folding": [
     0,
     4,
     17
    ],
    "run_control": {
     "marked": false
    }
   },
   "outputs": [],
   "source": [
    "def distance_cm(p1, p2, k):\n",
    "    '''Distance between two points multiplied by k'''\n",
    "    return np.linalg.norm(np.array(p1) - np.array(p2)) * k\n",
    "\n",
    "def point_in_distance(p1, p2, frac):\n",
    "    '''Creates point in specific distance (fraction) between two points'''\n",
    "    assert type(p1) is type(tuple()), 'Bod p1 není TUPLE!'\n",
    "    assert type(p2) is type(tuple()), 'Bod p2 není TUPLE!'\n",
    "    \n",
    "    dx = abs(p1[0] - p2[0])\n",
    "    dy = abs(p1[1] - p2[1])\n",
    "    \n",
    "    p_new_x = min(p1[0],p2[0]) + (dx * frac)\n",
    "    p_new_y = min(p1[1],p2[1]) + (dy * frac)\n",
    "    \n",
    "    return (p_new_x, p_new_y)\n",
    "\n",
    "def recount_joints(meta, crop_tl):\n",
    "    '''Recounts joints coordinates if you crop the default image and returns new meta dict.'''\n",
    "    meta_new = dict()\n",
    "    for key in meta.keys():\n",
    "        x = meta[key][0] - crop_tl[0]\n",
    "        y = meta[key][1] - crop_tl[1]\n",
    "        meta_new[key] = [x, y]\n",
    "    \n",
    "    return meta_new"
   ]
  },
  {
   "cell_type": "markdown",
   "metadata": {},
   "source": [
    "---"
   ]
  },
  {
   "cell_type": "markdown",
   "metadata": {},
   "source": [
    "## Úkol"
   ]
  },
  {
   "cell_type": "markdown",
   "metadata": {},
   "source": [
    "K výpočtu [body mass indexu (BMI)](https://cs.wikipedia.org/wiki/Index_t%C4%9Blesn%C3%A9_hmotnosti) jsou k dispozici nasnímaná data hloubkové mapy a metadata. Výpočet pro odhad hmotnosti vychází z publikace [1]. \n",
    "\n",
    "Za úkol je možné získat až **7 bodů** a až **2 prémiové**.\n",
    "\n",
    "---\n",
    "\n",
    "K výpočtu BMI bude zapotřebí změřit celkem 7 údajů. Údaje jsou přehledně zobrazeny v <a id='tab'>tabulce</a> na následujícím obrázku [1]. \n",
    "\n",
    "<img src=\"images/body_measurements.png\" width=\"50%\"/>"
   ]
  },
  {
   "cell_type": "markdown",
   "metadata": {},
   "source": [
    "#### 1) Načtěte data\n",
    "Načtěte data hloubkové mapy ve formátu `unit16` a k tomu metadata ve formátu `json`. Metadata obsahují souřadnice bodů pro všech 20 bodů skeletonu z hloubkové mapy a převodní konstantu `k` pro přepočet vzdáleností z pixelů na cm. Uložte si konstantu zvlášť a souřadnice bodů také.\n",
    "\n",
    "<div style=\"color: blue; text-align: right\">[ 0,5 bodu ]</div>"
   ]
  },
  {
   "cell_type": "code",
   "execution_count": null,
   "metadata": {},
   "outputs": [],
   "source": [
    "# Name\n",
    "name = ''\n",
    "\n",
    "# Image open\n",
    "depth = skimage.io.imread(...) ###\n",
    "plot_images(depth)\n",
    "\n",
    "# Meta data load\n",
    "with open(...) as f: ###\n",
    "    meta = json.load(f)\n",
    "\n",
    "# Constant extraction\n",
    "k = ... ###\n",
    "\n",
    "print(k)\n",
    "pprint(meta)"
   ]
  },
  {
   "cell_type": "markdown",
   "metadata": {},
   "source": [
    "#### 2) Zobrazte skeleton\n",
    "Využijte metadata skeletonu a **zobrazte body skeletonu** na snímku hloubkové mapy. Zobrazte také **spoje bodů skeletonu** podle obrázku výše. Bude se hodit funkce, která je schopna vrátit **dvojice klíčů** ze slovníku `meta` pro body skeletonu, které jsou vedle sebe.\n",
    "\n",
    "<div style=\"color: blue; text-align: right\">[ 1 bod ]</div>"
   ]
  },
  {
   "cell_type": "code",
   "execution_count": null,
   "metadata": {},
   "outputs": [],
   "source": [
    "def skeleton_tuples(num=19):\n",
    "    joints = list()\n",
    "    joints.append(['head', 'shoulder_center'])\n",
    "    \n",
    "    # ...\n",
    "    # ...\n",
    "    # ...\n",
    "    \n",
    "    \n",
    "    \n",
    "    \n",
    "    \n",
    "    return joints[0:num]"
   ]
  },
  {
   "cell_type": "code",
   "execution_count": null,
   "metadata": {},
   "outputs": [],
   "source": [
    "depth_draw = depth.copy()\n",
    "\n",
    "# Draw all joints as circles\n",
    "... \n",
    "\n",
    "# Draw all lines\n",
    "...\n",
    "    \n",
    "plot_images(depth_draw)"
   ]
  },
  {
   "cell_type": "markdown",
   "metadata": {},
   "source": [
    "#### 3) Změřte výšku osoby `f1`\n",
    "S pomocí bodů skeletonu změřte výšku osoby. Vzdálenost mezi bodem `head` a vrškem hlavy aproximujte jako 1/14 změřené výšky [2]. Měřte výšku osoby v cm! Hodnotu výšky uložte do proměnné `f1`.\n",
    "\n",
    "<div style=\"color: blue; text-align: right\">[ 1 bod ]</div>"
   ]
  },
  {
   "cell_type": "code",
   "execution_count": null,
   "metadata": {},
   "outputs": [],
   "source": [
    "f1 = 0\n",
    "\n",
    "... ###\n",
    "\n",
    "print(f'Výška osoby je {f1:.2f} cm.')"
   ]
  },
  {
   "cell_type": "markdown",
   "metadata": {},
   "source": [
    "#### 4) Segmentujte osobu z obrazu\n",
    "Z hloubkové mapy segmentujte osobu. Můžete využít znalosti, že měřený subjekt dle metodiky měření stál **296 cm** od senzoru. Tloušťku osoby zvolte maximálně **50 cm**. Jako výsledek si uložte **konturu osoby**, protože se pak bude hodit dále.\n",
    "\n",
    "Můžete si pomoci **ručním oříznutím** obrázku, avšak nezapomeňte pak **přepočítat souřadnice** bodů skeletonu! \n",
    "\n",
    "<div style=\"color: blue; text-align: right\">[ 1,5 bodu ]</div>"
   ]
  },
  {
   "cell_type": "code",
   "execution_count": null,
   "metadata": {},
   "outputs": [],
   "source": [
    "image = depth.copy()\n",
    "image = to_gray(image)\n",
    "\n",
    "# Don't forget to recount joints while cropping!\n",
    "image = crop(...)\n",
    "meta_new = ... #\n",
    "\n",
    "# Segmentation\n",
    "...\n",
    "\n",
    "\n",
    "# Gets one final contour in form of np.ndarray\n",
    "... "
   ]
  },
  {
   "cell_type": "markdown",
   "metadata": {},
   "source": [
    "#### 5) Změřte další potřebné rozměry délku stehna `f2` a délku nadloktí `f4`\n",
    "Změřte další rozměry potřebné k zisku odhadu hmotnosti člověka. Potřebné rozměry jsou zobrazené v [tabulce](#tab) na následujícícm obrázku. Rozměry uložte do proměnných `f2` a `f4`.\n",
    "\n",
    "<div style=\"color: blue; text-align: right\">[ 0.75 bodu ]</div>"
   ]
  },
  {
   "cell_type": "code",
   "execution_count": null,
   "metadata": {},
   "outputs": [],
   "source": [
    "f2 = ...\n",
    "f4 = ...\n",
    "\n",
    "print(f2)\n",
    "print(f4)"
   ]
  },
  {
   "cell_type": "markdown",
   "metadata": {},
   "source": [
    "#### 6) Nalezněte body kontury pro další měření\n",
    "Najděte polohy bodů pro měření šířky kontury osoby p_3, p_5, p_7 a p_6. \n",
    "- Bod pro měření **lýtka** leží ve 2/3 délky mezi body skeletonu `knee` a `ankle`.\n",
    "- Bod pro měření **paže** leží ve 2/3 délky mezi body skeletonu `shoulder` a `elbow`.\n",
    "- Bod pro měření **stehna** leží ve 4/5 délky mezi body skeletonu `hip`a `knee`.\n",
    "- Bod pro měření **pasu** leží v bodě skeletonu `hip_center`.\n",
    "\n",
    "Dále nalezněte vždy 2 body kontury, které leží na normále (= přímce kolmé) k přímce spojující výše zmíněné body skeletonu a změřte vzdálenosti mezi nimi `d3`, `d5` a `d7`.\n",
    "\n",
    "Pro vzdálenost `d6` se využije přímky spojující bod skeletonu `shoulder_center` s bodem `hip_center`.\n",
    "\n",
    "<div style=\"color: blue; text-align: right\">[ 1 bod ]</div>"
   ]
  },
  {
   "cell_type": "code",
   "execution_count": null,
   "metadata": {},
   "outputs": [],
   "source": [
    "p_3 = ...\n",
    "p_5 = ...\n",
    "p_7 = ...\n",
    "p_6 = ...\n",
    "\n",
    "points = [p_3, p_5, p_7, p_6]"
   ]
  },
  {
   "cell_type": "code",
   "execution_count": null,
   "metadata": {},
   "outputs": [],
   "source": [
    "measured_joint_pairs = [\n",
    "    [ tuple(meta_new['']), tuple(meta_new['']) ],\n",
    "    [ tuple(meta_new['']), tuple(meta_new['']) ],\n",
    "    [ tuple(meta_new['']), tuple(meta_new['']) ],\n",
    "    [ tuple(meta_new['']), tuple(meta_new['']) ]\n",
    "]\n",
    "\n",
    "d3, d5, d7, d6 = measure_distances_using_impro(conts, points, measured_joint_pairs)\n",
    "print(d3, d5, d7, d6)"
   ]
  },
  {
   "cell_type": "markdown",
   "metadata": {},
   "source": [
    "#### 7) Spočítejte další potřebné rozměry obvod lýtka `f3`, obvod paže `f5` a obvod stehna `f7`\n",
    "Předpokládejme, že lýtko, paže i stehno lze aproximovat geometrickým útvarem válce. Z obrazu jsme získali vzdálenosti kontury osoby v potřebných bodech. Potom výpočet obvodů `f3`, `f5` a `f7` lze získat dle následujícího vzorce.\n",
    "\n",
    "<center>$f_i = \\pi \\cdot d_i$, pro $i \\in \\{3, 5, 7\\}$</center>\n",
    "\n",
    "<div style=\"color: blue; text-align: right\">[ 0.25 bodu ]</div>"
   ]
  },
  {
   "cell_type": "code",
   "execution_count": null,
   "metadata": {},
   "outputs": [],
   "source": [
    "f3 = ...\n",
    "f5 = ...\n",
    "f7 = ...\n",
    "\n",
    "print(f3)\n",
    "print(f5)\n",
    "print(f7)"
   ]
  },
  {
   "cell_type": "markdown",
   "metadata": {},
   "source": [
    "#### 8) Spočítejte další potřebný rozměr obvod pasu `f6`\n",
    "Předpokládejte, že pas nelze úplně aproximovat válcem. Tento rozměr vezmeme jako jeden hraniční. Jako druhý hraniční rozměr vezmeme dvojnásobek rozměru `d6`. Jejich průmerem pak vypočteme obvod pasu podle vzorce:\n",
    "\n",
    "$$\n",
    "f_6 = \\frac{\\pi \\cdot d_6 + 2 \\cdot d_6}{2}\n",
    "$$\n",
    "\n",
    "<div style=\"color: blue; text-align: right\">[ 0.25 bodu ]</div>"
   ]
  },
  {
   "cell_type": "code",
   "execution_count": null,
   "metadata": {},
   "outputs": [],
   "source": [
    "f6 = ...\n",
    "\n",
    "print(f6)"
   ]
  },
  {
   "cell_type": "markdown",
   "metadata": {},
   "source": [
    "#### 9) Spočítejte odhad hmotnosti\n",
    "Dle [1] lze spočítat odhad hmotnosti člověka v kg podle následujícího vzorce.\n",
    "\n",
    "$$\n",
    "m = -122,27 + 0,48 \\cdot f_1 - 0,17 \\cdot f_2 + 0,52 \\cdot f_3 + 0,16 \\cdot f_4 + 0,77 \\cdot f_5 + 0,49 \\cdot f6 + 0,58 \\cdot f_7\n",
    "$$\n",
    "\n",
    "<div style=\"color: blue; text-align: right\">[ 0.25 bodu ]</div>"
   ]
  },
  {
   "cell_type": "code",
   "execution_count": null,
   "metadata": {},
   "outputs": [],
   "source": [
    "m = ...\n",
    "\n",
    "print(f'Hmotnost osoby je {m:.2f} kg.')"
   ]
  },
  {
   "cell_type": "markdown",
   "metadata": {},
   "source": [
    "#### 10) Spočtěte BMI\n",
    "Ze standardního vztahu vypočtěte BMI jako poměr hmotnosti $m$ v kg a výšky $h$ v m člověka.\n",
    "\n",
    "$$\n",
    "BMI = \\frac{m}{h^2}\n",
    "$$\n",
    "\n",
    "<div style=\"color: blue; text-align: right\">[ 0.5 bodu ]</div>"
   ]
  },
  {
   "cell_type": "code",
   "execution_count": null,
   "metadata": {},
   "outputs": [],
   "source": [
    "BMI = ...\n",
    "\n",
    "print(f'Výsledné BMI je {BMI:.2f} kg/m2.')"
   ]
  },
  {
   "cell_type": "markdown",
   "metadata": {},
   "source": [
    "---"
   ]
  },
  {
   "cell_type": "markdown",
   "metadata": {},
   "source": [
    "#### 11) Prémium #1\n",
    "Nabízím 1 prémiový bod za vysvětlení principu funkčnosti [speciální funkce](#premium) formou volného textu, ze kterého bude jasné její pochopení. \n",
    "\n",
    "#### 12) Prémium #2\n",
    "Nabízím 1 prémiový bod za ekvivalentní funkci ke [speciální funkci](#premium), která bude založena na geometrickém zjištění protínajících se bodů kontury s body normály. Hodně je toho vyřešeno již v [pomocných funkcích](#Pomocné-funkce)."
   ]
  }
 ],
 "metadata": {
  "colab": {
   "collapsed_sections": [],
   "name": "1_task.ipynb",
   "provenance": [],
   "version": "0.3.2"
  },
  "kernelspec": {
   "display_name": "Python [default]",
   "language": "python",
   "name": "python3"
  },
  "language_info": {
   "codemirror_mode": {
    "name": "ipython",
    "version": 3
   },
   "file_extension": ".py",
   "mimetype": "text/x-python",
   "name": "python",
   "nbconvert_exporter": "python",
   "pygments_lexer": "ipython3",
   "version": "3.6.6"
  }
 },
 "nbformat": 4,
 "nbformat_minor": 1
}
