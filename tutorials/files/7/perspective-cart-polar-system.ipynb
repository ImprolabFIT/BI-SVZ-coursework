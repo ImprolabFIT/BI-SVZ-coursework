{
 "cells": [
  {
   "cell_type": "markdown",
   "metadata": {},
   "source": [
    "# Perspektiva obrazu - kartézský a polární souřadný systém\n",
    "Cvičení je zaměřené na práci s polárními souřadnicemi při využití nestandardních 360° objektivů od firmy [Opto Engineering](https://www.opto-e.com/). Způsob použití takových objektivů je demonstrován v [tutoriálu](https://www.opto-e.com/resources/peripheric-optics-tutorial) na stránkách výrobce. Jedná o následující optické systémy:\n",
    "\n",
    "## Optické systémy\n",
    "Pericentrický objektiv | <img src=\"https://www.opto-e.com/media/pc/pc_main.jpg\" width=\"45%\"> | Boroskopická sonda | <img src=\"https://www.opto-e.com/media/pcbp/pcbp_main.jpg\" width=\"45%\">\n",
    "-|-|-|-\n",
    "\n",
    "[Pericentrický objektiv](https://www.opto-e.com/products/pericentric-lenses#Media) umožňuje podívat se nejen na vršek objektu, ale dokonce i na jeho strany zároveň. Typickými aplikacemi jsou například kontrola potisků víček či kontrola defektů [hrdel lahví](https://www.visiononline.org/vision-resources-details.cfm/vision-resources/Wine-Bottle-Vision-Inspection-System/content_id/6450).\n",
    "\n",
    "[Boroskopická sonda](https://www.opto-e.com/products/boroscopic-probes#Overview) díky zrcadlu umožnuje podívat se 360 ° dokola kolem sebe. Typickými aplikacemi jsou průmyslové inspekce děr či kontroly správnosti závitů. "
   ]
  },
  {
   "cell_type": "markdown",
   "metadata": {},
   "source": [
    "## Souřadné systémy\n",
    "Potřebnou prerekvizitou je znalost existence **kartézského** a **polárního** souřadného systému a tedy dvojí možnosti zápisu souřadnic. Pěkně je to vysvětleno například na webu [Math is fun](https://www.mathsisfun.com/polar-cartesian-coordinates.html).\n",
    "\n",
    "Proč budeme tuto znalost potřebovat je jasné ve chvíli, když si zobrazíte ukázky obrázků získaných jednotlivými optickými systémy."
   ]
  },
  {
   "cell_type": "code",
   "execution_count": 1,
   "metadata": {
    "code_folding": [
     0
    ]
   },
   "outputs": [
    {
     "data": {
      "image/jpeg": "[encoded data removed]",
      "text/html": [
       "\n",
       "        <iframe\n",
       "            width=\"600\"\n",
       "            height=\"300\"\n",
       "            src=\"https://www.youtube.com/embed/Uros5bufLJI\"\n",
       "            frameborder=\"0\"\n",
       "            allowfullscreen\n",
       "        ></iframe>\n",
       "        "
      ],
      "text/plain": [
       "<IPython.lib.display.YouTubeVideo at 0x1942e9e6cc0>"
      ]
     },
     "execution_count": 1,
     "metadata": {},
     "output_type": "execute_result"
    }
   ],
   "source": [
    "# Youtube video s ukázkami funkcí v kartézských a polárních souřadnicích\n",
    "from IPython.display import Audio, Image, YouTubeVideo\n",
    "YouTubeVideo(id='Uros5bufLJI', width=600, height=300)"
   ]
  },
  {
   "cell_type": "markdown",
   "metadata": {},
   "source": [
    "---"
   ]
  },
  {
   "cell_type": "markdown",
   "metadata": {},
   "source": [
    "### Import knihoven a konfigurace"
   ]
  },
  {
   "cell_type": "code",
   "execution_count": 2,
   "metadata": {},
   "outputs": [],
   "source": [
    "import numpy as np\n",
    "import matplotlib\n",
    "import matplotlib.pyplot as plt\n",
    "import cv2\n",
    "from pypylon import pylon \n",
    "from IPython.display import clear_output, display\n",
    "\n",
    "import pytesseract\n",
    "from PIL import Image\n",
    "\n",
    "%matplotlib inline"
   ]
  },
  {
   "cell_type": "markdown",
   "metadata": {},
   "source": [
    "### Pomocné funkce\n",
    "Z následujících funkcí je potřeba vybírat ty vhodné pro splnění úkolu."
   ]
  },
  {
   "cell_type": "markdown",
   "metadata": {},
   "source": [
    "<a id='connect_functions'>Funkce k připojení kamery.</a>"
   ]
  },
  {
   "cell_type": "code",
   "execution_count": 3,
   "metadata": {
    "code_folding": [
     0,
     1
    ]
   },
   "outputs": [],
   "source": [
    "# List of camera features to create widgets\n",
    "FEATURES = [\n",
    "    {\n",
    "        \"name\": \"Gain\",\n",
    "        \"type\": \"int\"\n",
    "    },\n",
    "    {\n",
    "        \"name\": \"ExposureTime\",\n",
    "        \"type\": \"int\",\n",
    "        \"max\": 35000,\n",
    "        \"min\": 90,\n",
    "        \"step\": 30,\n",
    "        \"value\": 1500\n",
    "    },\n",
    "    #     {\n",
    "    #         \"name\": \"Height\",\n",
    "    #         \"type\": \"int_text\",\n",
    "    #         \"max\": 2000,\n",
    "    #         \"min\": 100,\n",
    "    #         \"step\": \"1\",\n",
    "    #         'value':1270\n",
    "    #     },\n",
    "    #     {\n",
    "    #         \"name\": \"Width\",\n",
    "    #         \"type\": \"int_text\",\n",
    "    #         \"max\": 2000,\n",
    "    #         \"min\": 100,\n",
    "    #         \"step\": \"1\",\n",
    "    #         'value':1344\n",
    "    #     },\n",
    "    #     {\n",
    "    #         \"name\": \"OffsetX\",\n",
    "    #         \"type\": \"int_text\",\n",
    "    #         \"max\": 1000,\n",
    "    #         \"min\": 0,\n",
    "    #         \"step\": \"1\",\n",
    "    #         'value':608\n",
    "    #     },\n",
    "    #     {\n",
    "    #         \"name\": \"OffsetY\",\n",
    "    #         \"type\": \"int_text\",\n",
    "    #         \"max\": 1000,\n",
    "    #         \"min\": 0,\n",
    "    #         \"step\": \"1\",\n",
    "    #         'value':418\n",
    "    #     }\n",
    "]"
   ]
  },
  {
   "cell_type": "code",
   "execution_count": 4,
   "metadata": {
    "code_folding": [
     0
    ]
   },
   "outputs": [],
   "source": [
    "def connect_camera(serial_number):\n",
    "    ''' Connects camera specified with its serial number\n",
    "    \n",
    "    Parameters\n",
    "    ----------\n",
    "    serial_number : string\n",
    "        Camera's serial number.\n",
    "    grabbed_images_path : string\n",
    "        Path to folder where the saved images will be stored.\n",
    "    Returns\n",
    "    -------\n",
    "    camera : object\n",
    "    '''\n",
    "    info = None\n",
    "    for i in pylon.TlFactory.GetInstance().EnumerateDevices():\n",
    "        if i.GetSerialNumber() == serial_number:\n",
    "            info = i\n",
    "            break\n",
    "    else:\n",
    "        print('Camera with {} serial number not found'.format(serial_number))\n",
    "\n",
    "    # VERY IMPORTANT STEP! To use Basler PyPylon OpenCV viewer you have to call .Open() method on you camera\n",
    "    if info is not None:\n",
    "        camera = pylon.InstantCamera(pylon.TlFactory.GetInstance().CreateDevice(info)) \n",
    "        camera.Open()\n",
    "        return camera\n",
    "    else:\n",
    "        return None    "
   ]
  },
  {
   "cell_type": "markdown",
   "metadata": {},
   "source": [
    "Funkce pro zobrazení okna s přidáním eventu na klik myší."
   ]
  },
  {
   "cell_type": "code",
   "execution_count": 5,
   "metadata": {
    "code_folding": [
     0
    ],
    "run_control": {
     "marked": false
    }
   },
   "outputs": [],
   "source": [
    "def show_camera_window(*imgs, scale=1):\n",
    "    def print_xy(event, x, y, flags, param):\n",
    "        if event == cv2.EVENT_LBUTTONUP:\n",
    "            print('x = %d, y = %d'% (x, y))  \n",
    "        \n",
    "    for i, img in enumerate(imgs, 1):\n",
    "        window_name = 'Camera capture (' + serial_number + ')'\n",
    "        \n",
    "        h,w = img.shape[:2]\n",
    "        window_name_id = window_name + ' ' + str(i)\n",
    "        cv2.namedWindow(window_name_id, cv2.WINDOW_NORMAL | cv2.WINDOW_GUI_NORMAL)\n",
    "        cv2.resizeWindow(window_name_id, int(w * scale), int(h * scale))\n",
    "        cv2.setMouseCallback(window_name_id, print_xy)\n",
    "        cv2.moveWindow(window_name_id, (i-1)*int(w * scale), 0)\n",
    "        cv2.imshow(window_name_id, img)"
   ]
  },
  {
   "cell_type": "markdown",
   "metadata": {},
   "source": [
    "<a id='preprocessing_functions'>Metody předzpracování.</a>"
   ]
  },
  {
   "cell_type": "code",
   "execution_count": 6,
   "metadata": {
    "code_folding": [
     0,
     15,
     29,
     43
    ],
    "run_control": {
     "marked": false
    }
   },
   "outputs": [],
   "source": [
    "def to_gray(img):\n",
    "    ''' Converts image to monochrome\n",
    "    \n",
    "    Parameters\n",
    "    ----------\n",
    "    img : numpy.ndarray\n",
    "        Input image.\n",
    "    Returns\n",
    "    -------\n",
    "    Ouput image.\n",
    "    '''\n",
    "    if len(img.shape) == 2:\n",
    "        return img\n",
    "    return cv2.cvtColor(img, cv2.COLOR_BGR2GRAY)\n",
    "\n",
    "def to_hsv(img):\n",
    "    ''' Converts image to HSV (hue, saturation, value) color space.\n",
    "    \n",
    "    Parameters\n",
    "    ----------\n",
    "    img : numpy.ndarray\n",
    "        Input image.\n",
    "    Returns\n",
    "    -------\n",
    "    Ouput image.\n",
    "    '''\n",
    "    dst = cv2.cvtColor(img, cv2.COLOR_BGR2HSV)\n",
    "    return dst\n",
    "\n",
    "def negative(img):\n",
    "    ''' Converts image to its negative\n",
    "    \n",
    "    Parameters\n",
    "    ----------\n",
    "    img : numpy.ndarray\n",
    "        Input image.\n",
    "    Returns\n",
    "    -------\n",
    "    Ouput image.\n",
    "    '''\n",
    "    dst = 255 - img\n",
    "    return dst\n",
    "\n",
    "def crop(img, tl_x, tl_y, br_x, br_y):\n",
    "    ''' Crops image by added coordinates\n",
    "    \n",
    "    Parameters\n",
    "    ----------\n",
    "    img : numpy.ndarray\n",
    "        Input image.\n",
    "    tl_x : int\n",
    "        TOP-LEFT corner's x-coordinate\n",
    "    tl_y : int\n",
    "        TOP-LEFT corner's y-coordinate\n",
    "    br_x : int\n",
    "        BOTTOM-RIGHT corner's x-coordinate\n",
    "    br_y : int\n",
    "        BOTTOM-RIGHT corner's y-coordinate\n",
    "    Returns\n",
    "    -------\n",
    "    Ouput image.\n",
    "    '''\n",
    "    roi = img[tl_y:br_y, tl_x:br_x]\n",
    "    return roi    "
   ]
  },
  {
   "cell_type": "markdown",
   "metadata": {},
   "source": [
    "<a id='segmentation_functions'>Metody segmentace.</a>"
   ]
  },
  {
   "cell_type": "code",
   "execution_count": 7,
   "metadata": {
    "code_folding": [
     0,
     16,
     30,
     47,
     69
    ]
   },
   "outputs": [],
   "source": [
    "def segmentation_one_threshold(img, threshold):\n",
    "    '''Segments image into black & white using one threshold\n",
    "    \n",
    "    Parameters\n",
    "    ----------\n",
    "    img : numpy.ndarray\n",
    "        Input image.\n",
    "    threshold : int\n",
    "        Pixels with value lower than threshold are considered black, the others white.\n",
    "    Returns\n",
    "    -------\n",
    "    Ouput image.\n",
    "    '''\n",
    "    _, dst = cv2.threshold(img, threshold, 255, cv2.THRESH_BINARY)\n",
    "    return dst\n",
    "\n",
    "def segmentation_auto_threshold(img):\n",
    "    '''Segments image into black & white using automatic threshold\n",
    "    \n",
    "    Parameters\n",
    "    ----------\n",
    "    img : numpy.ndarray\n",
    "        Input image.\n",
    "    Returns\n",
    "    -------\n",
    "    Ouput image.\n",
    "    '''\n",
    "    _, dst = cv2.threshold(img, 0, 255, cv2.THRESH_BINARY+cv2.THRESH_OTSU)\n",
    "    return dst\n",
    "\n",
    "def segmentation_two_thresholds(img, lower, higher):\n",
    "    '''Segments image into black & white using two thresholds\n",
    "    \n",
    "    Parameters\n",
    "    ----------\n",
    "    img : numpy.ndarray\n",
    "        Input image.\n",
    "    lower : int\n",
    "        Pixels with value lower than threshold are considered black, the others white.\n",
    "    higher : int\n",
    "        Pixels with value higher than threshold are considered black, the others white.\n",
    "    Returns\n",
    "    -------\n",
    "    Ouput image.\n",
    "    '''\n",
    "    return cv2.inRange(img, min(lower, higher), max(lower, higher))\n",
    "\n",
    "def segmentation_adaptive_threshold(img, size, constant=0):\n",
    "    '''Segments image into black & white using calculated adaptive \n",
    "    threshold using Gaussian function in pixel neighbourhood.\n",
    "    \n",
    "    Parameters\n",
    "    ----------\n",
    "    img : numpy.ndarray\n",
    "        Input image.\n",
    "    size : int\n",
    "        Size of used gaussian. Lowest value is 3. Algorithm uses only odd numbers.\n",
    "    constant : int\n",
    "        Value that is added to calculated threshlod. It could be negative as well as zero as well as positive number.\n",
    "    Returns\n",
    "    -------\n",
    "    Ouput binary image.\n",
    "    '''\n",
    "    if size < 3:\n",
    "        size = 3\n",
    "    elif size % 2 == 0:\n",
    "        size -= 1\n",
    "    return cv2.adaptiveThreshold(img, 255, cv2.ADAPTIVE_THRESH_GAUSSIAN_C, cv2.THRESH_BINARY, size, int(constant))\n",
    "\n",
    "def contours(img_bin, area=0):\n",
    "    '''Finds contours in binary image and filters them using their area. Then it draws binary image\n",
    "    from filtered contours. It counts contours as well.\n",
    "    \n",
    "    Parameters\n",
    "    ----------\n",
    "    img_bin : numpy.ndarray\n",
    "        Input binary image.\n",
    "    area : int\n",
    "        Size of contour that is used to filter all smaller contours out.\n",
    "    Returns\n",
    "    -------\n",
    "    contour_drawn : numpy.ndarray\n",
    "        Output binary image with drawn filled filtered contours.\n",
    "    count : int\n",
    "        Number of found and filtered contours.\n",
    "    '''\n",
    "    _, contours, _  = cv2.findContours(img_bin, cv2.RETR_EXTERNAL, cv2.CHAIN_APPROX_SIMPLE)\n",
    "    contours =  [c for c in contours if cv2.contourArea(c) > area]\n",
    "    contour_drawn = cv2.drawContours(np.zeros(img_bin.shape, dtype=np.uint8), contours, -1, color=(255, 255, 255), thickness=cv2.FILLED)\n",
    "    return contour_drawn, len(contours)    "
   ]
  },
  {
   "cell_type": "markdown",
   "metadata": {},
   "source": [
    "<a id='filtration_functions'>Metody filtrace.</a>"
   ]
  },
  {
   "cell_type": "code",
   "execution_count": 8,
   "metadata": {
    "code_folding": [
     0,
     15
    ],
    "run_control": {
     "marked": false
    }
   },
   "outputs": [],
   "source": [
    "def filtration_median(img, filter_size):\n",
    "    '''Filters image noise using median algorithm\n",
    "    \n",
    "    Parameters\n",
    "    ----------\n",
    "    img : numpy.ndarray\n",
    "        Input image.\n",
    "    filter_size : int\n",
    "        Size of median filter.\n",
    "    Returns\n",
    "    -------\n",
    "    Ouput image.\n",
    "    '''\n",
    "    return cv2.medianBlur(img, filter_size)   \n",
    "\n",
    "def fill_holes(img_bin, close=False, size=5):\n",
    "    '''Fill holes in found contours. It could merge the contour using close input with appropriate size.\n",
    "    \n",
    "    Parameters\n",
    "    ----------\n",
    "    img_bin : numpy.ndarray\n",
    "        Input binary image.\n",
    "    close : boolean\n",
    "        If it should merge contours with missing points using close operation.\n",
    "    size : int\n",
    "        Size of close operation element.\n",
    "    Returns\n",
    "    -------\n",
    "    Ouput binary image.\n",
    "    '''\n",
    "    if close:\n",
    "        struct = cv2.getStructuringElement(cv2.MORPH_ELLIPSE, (size, size))\n",
    "        img_bin = cv2.morphologyEx(img_bin, cv2.MORPH_CLOSE, struct)\n",
    "    res, _ = contours(img_bin)\n",
    "    return res"
   ]
  },
  {
   "cell_type": "markdown",
   "metadata": {},
   "source": [
    "<a id='show_functions'>Metoda pro zobrazení různého množství obrázků.</a>"
   ]
  },
  {
   "cell_type": "code",
   "execution_count": 24,
   "metadata": {
    "code_folding": [
     0,
     39
    ],
    "run_control": {
     "marked": false
    }
   },
   "outputs": [],
   "source": [
    "def show_images(*imgs, scale=1, window_name='Image preview'):\n",
    "    \"\"\" Opens multiple image previews depending on the length of the input *imgs list.\n",
    "    The preview is terminated by pressing the 'q' key.\n",
    "    \n",
    "    Parameters\n",
    "    ----------\n",
    "    *imgs : list\n",
    "        Multiple input images which have to be shown.\n",
    "    scale : double\n",
    "        Scale of shown image window.\n",
    "    window_name : Optional[string]\n",
    "        An optional window name.\n",
    "    Returns\n",
    "    -------\n",
    "    None\n",
    "    \"\"\"\n",
    "    def print_xy(event, x, y, flags, param):\n",
    "        if event == cv2.EVENT_LBUTTONUP:\n",
    "            print('x = %d, y = %d'% (x, y))        \n",
    "    \n",
    "    for i, img in enumerate(imgs, 1):\n",
    "        h,w = img.shape[:2]\n",
    "        window_name_id = window_name + ' ' + str(i)\n",
    "        cv2.namedWindow(window_name_id, cv2.WINDOW_NORMAL | cv2.WINDOW_GUI_NORMAL)\n",
    "        cv2.resizeWindow(window_name_id, int(w * scale), int(h * scale))\n",
    "        cv2.setMouseCallback(window_name_id, print_xy)\n",
    "        cv2.moveWindow(window_name_id, (i-1)*int(w * scale), 0)\n",
    "\n",
    "    while 1:\n",
    "        for i, img in enumerate(imgs, 1):\n",
    "            cv2.imshow(window_name + ' ' + str(i), img)\n",
    "            \n",
    "        k = cv2.waitKey(0)\n",
    "        \n",
    "        if k == ord('q') or k == 27:\n",
    "            break\n",
    "\n",
    "    cv2.destroyAllWindows()\n",
    "    \n",
    "def plot_images(*imgs):\n",
    "    f = plt.figure(figsize=(10,5))\n",
    "    for i, img in enumerate(imgs, 1):\n",
    "        ax = f.add_subplot(1, len(imgs), i)\n",
    "        ax.imshow(img)"
   ]
  },
  {
   "cell_type": "markdown",
   "metadata": {},
   "source": [
    "<a id='ocr'>Metoda pro OCR obrazu</a>"
   ]
  },
  {
   "cell_type": "code",
   "execution_count": 10,
   "metadata": {
    "code_folding": [
     0
    ],
    "run_control": {
     "marked": false
    }
   },
   "outputs": [],
   "source": [
    "def ocr(img_bin):\n",
    "    '''Detects text in the file.\n",
    "    \n",
    "    Parameters\n",
    "    ----------\n",
    "    img_bin : numpy.ndarray\n",
    "        Input binary image. White objects on black background.\n",
    "    Returns\n",
    "    -------\n",
    "    Text on image.\n",
    "    '''\n",
    "    # Tesseract works with black objects on white background.\n",
    "    img_bin = negative(img_bin)\n",
    "    return pytesseract.image_to_string(Image.fromarray(img_bin))"
   ]
  },
  {
   "cell_type": "markdown",
   "metadata": {},
   "source": [
    "<a id='others'>Metody ostatní</a>"
   ]
  },
  {
   "cell_type": "code",
   "execution_count": 11,
   "metadata": {
    "code_folding": [
     0
    ]
   },
   "outputs": [],
   "source": [
    "def to_intensity(hue_angle):\n",
    "    '''Converts color angle in HUE definition into intensity value of brightness image in opencv\n",
    "    \n",
    "    Parameters\n",
    "    ----------\n",
    "    hue_angle : int\n",
    "        Angle in HUE definition.\n",
    "    Returns\n",
    "    -------\n",
    "    Integer value that represents the same HUE value but in opencv brightness image.\n",
    "    '''\n",
    "    return int(hue_angle * 0.5)"
   ]
  },
  {
   "cell_type": "markdown",
   "metadata": {},
   "source": [
    "<a id='cart_polar_functions'>Metody transformací</a>. Například převodu mezi kartézskými a polárními souřadnicemi nebo rotace."
   ]
  },
  {
   "cell_type": "code",
   "execution_count": 12,
   "metadata": {
    "code_folding": [
     0
    ],
    "run_control": {
     "marked": false
    }
   },
   "outputs": [],
   "source": [
    "# Linear polar warp help function\n",
    "def polar_warp(img, full_radius=True, inverse=False):\n",
    "    center = (img.shape[0]/2.0, img.shape[1]/2.0)\n",
    "    \n",
    "    if full_radius:\n",
    "        radius = np.sqrt(((img.shape[0]/2.0)**2.0)+((img.shape[1]/2.0)**2.0))\n",
    "    else:\n",
    "        radius = center[0]\n",
    "    \n",
    "    method = cv2.WARP_FILL_OUTLIERS\n",
    "    if inverse: \n",
    "        method += cv2.WARP_INVERSE_MAP\n",
    "    dest = cv2.linearPolar(img, center, radius, method)\n",
    "    return dest"
   ]
  },
  {
   "cell_type": "code",
   "execution_count": 13,
   "metadata": {
    "code_folding": [
     0,
     3,
     6
    ],
    "run_control": {
     "marked": false
    }
   },
   "outputs": [],
   "source": [
    "def warp_to_cartesian(img, full_radius=True):\n",
    "    return polar_warp(img, full_radius)\n",
    "\n",
    "def warp_to_polar(img, full_radius=True):\n",
    "    return polar_warp(img, full_radius, True)\n",
    "\n",
    "def rotate(img, angle):\n",
    "    height, width = img.shape[:2]\n",
    "    image_center = (width/2, height/2)\n",
    "\n",
    "    rotation_mat = cv2.getRotationMatrix2D(image_center, angle, 1.)\n",
    "\n",
    "    abs_cos = abs(rotation_mat[0,0])\n",
    "    abs_sin = abs(rotation_mat[0,1])\n",
    "\n",
    "    bound_w = int(height * abs_sin + width * abs_cos)\n",
    "    bound_h = int(height * abs_cos + width * abs_sin)\n",
    "\n",
    "    rotation_mat[0, 2] += bound_w/2 - image_center[0]\n",
    "    rotation_mat[1, 2] += bound_h/2 - image_center[1]\n",
    "\n",
    "    dest = cv2.warpAffine(img, rotation_mat, (bound_w, bound_h))\n",
    "    return dest"
   ]
  },
  {
   "cell_type": "markdown",
   "metadata": {},
   "source": [
    "Metody na tvorbu umělých obrázků"
   ]
  },
  {
   "cell_type": "code",
   "execution_count": 14,
   "metadata": {
    "code_folding": [
     0
    ]
   },
   "outputs": [],
   "source": [
    "def artificial_circle_image(size):\n",
    "    img_art_circ = np.ndarray((size, size), dtype=np.float32)\n",
    "    step = 10\n",
    "    for i in range(step, size, step):\n",
    "        cv2.circle(img_art_circ, (int(size/2.0), int(size/2.0)), i-step, np.random.randint(0,255), thickness=4)\n",
    "    return img_art_circ"
   ]
  },
  {
   "cell_type": "markdown",
   "metadata": {},
   "source": [
    "---"
   ]
  },
  {
   "cell_type": "markdown",
   "metadata": {},
   "source": [
    "Seznam funkcí pro přehlednost:\n",
    "- [`connect_camera(...)`](#connect_functions)\n",
    "- [`show_images(...)`](#show_functions)\n",
    "\n",
    "\n",
    "- [`to_gray(...)`](#preprocessing_functions)\n",
    "- [`to_hsv(...)`](#preprocessing_functions)\n",
    "- [`negative(...)`](#preprocessing_functions)\n",
    "- [`crop(...)`](#preprocessing_functions)\n",
    "\n",
    "\n",
    "- [`segmentation_one_threshold(...)`](#segmentation_functions)\n",
    "- [`segmentation_auto_threshold(...)`](#segmentation_functions)\n",
    "- [`segmentation_two_thresholds(...)`](#segmentation_functions)\n",
    "- [`segmentation_adaptive_threshold(...)`](#segmentation_functions)\n",
    "- [`contours(...)`](#segmentation_functions)\n",
    "\n",
    "\n",
    "- [`filtration_median(...)`](#filtration_functions)\n",
    "- [`fill_holes(...)`](#filtration_functions)\n",
    "\n",
    "\n",
    "- [`ocr(...)`](#ocr)\n",
    "\n",
    "\n",
    "- [`to_intensity(...)`](#others)\n",
    "\n",
    "\n",
    "- [`warp_to_cartesian(...)`](#cart_polar_functions)\n",
    "- [`warp_to_polar(...)`](#cart_polar_functions)\n",
    "- [`rotate(...)`](#cart_polar_functions)"
   ]
  },
  {
   "cell_type": "markdown",
   "metadata": {},
   "source": [
    "### Úkol\n",
    "Seznamte se s transformací mezi kartézským a polárním systémem souřadnic. Vyzkoušejte si, jak transformace funguje jak na umělých datech, tak na datech reálných. Uvědomte si, jak záleží na správném nastavení měřicího systému při vizuální kontrole pomocí 360° objektivů.\n",
    "\n",
    "Pro testování jsou připraveny funkce `warp_to_cartesian()` a `warp_to_polar()`. "
   ]
  },
  {
   "cell_type": "markdown",
   "metadata": {},
   "source": [
    "#### 1) Vytvořte umělý obrázek soustředných kružnic\n",
    "Zvolte vlastní velikost obrázku (doporučuje se velikost mezi 200 a 1000). Následně na obrázek aplikujte transformaci a oba obrázky zobrazte."
   ]
  },
  {
   "cell_type": "code",
   "execution_count": null,
   "metadata": {
    "scrolled": true
   },
   "outputs": [],
   "source": [
    "art_circ_image = ...(512) ###\n",
    "art_circ_image_trans = ...(art_circ_image) ###\n",
    "\n",
    "plot_images(art_circ_image, art_circ_image_trans)"
   ]
  },
  {
   "cell_type": "markdown",
   "metadata": {},
   "source": [
    "#### 2) Vytvořte funkci pro generování umělého obrázku\n",
    "Umělý obrázek by se měl stávat ze samých svislých čar (viz výsledek [Úkolu 1](#1\\)-Vytvořte-umělý-obrázek-soustředných-kružnic)). Následně na obrázek aplikujte transformaci a zobrazte oba obrázky."
   ]
  },
  {
   "cell_type": "code",
   "execution_count": null,
   "metadata": {},
   "outputs": [],
   "source": [
    "def artificial_line_image(size):\n",
    "    ### \n",
    "    \n",
    "    return ..."
   ]
  },
  {
   "cell_type": "code",
   "execution_count": null,
   "metadata": {},
   "outputs": [],
   "source": [
    "art_line_image = artificial_line_image(512)\n",
    "art_line_image_trans = ...(art_line_image) ###\n",
    "\n",
    "plot_images(art_line_image, art_line_image_trans)"
   ]
  },
  {
   "cell_type": "markdown",
   "metadata": {},
   "source": [
    "#### 3) Zobrazte testovací obrázek\n",
    "Načtěte testovací obrázek z boroskopické sondy `mech_test.png`. Zobrazte ho společně s jeho transformací."
   ]
  },
  {
   "cell_type": "code",
   "execution_count": null,
   "metadata": {},
   "outputs": [],
   "source": [
    "image_path = '' ###\n",
    "image_test = cv2.imread(image_path)\n",
    "\n",
    "image_test_trans = ...(image_test) ###\n",
    "\n",
    "# Zobrazí obrázky\n",
    "plot_images(image_test, image_test_trans)"
   ]
  },
  {
   "cell_type": "markdown",
   "metadata": {},
   "source": [
    "#### 4) Přečtěte text na testovacím obrázku\n",
    "Vytvořte jednoduchý algoritmus předzpracování obrazu pro čtení pomocí OCR."
   ]
  },
  {
   "cell_type": "code",
   "execution_count": null,
   "metadata": {},
   "outputs": [],
   "source": [
    "def preprocess_for_ocr(img):\n",
    "    ###\n",
    "    \n",
    "    return ..."
   ]
  },
  {
   "cell_type": "code",
   "execution_count": null,
   "metadata": {},
   "outputs": [],
   "source": [
    "# Předzpracuje obrázek a zobrazí\n",
    "image_ocr = preprocess_for_ocr(image_test_trans)\n",
    "plot_images(image_ocr)\n",
    "\n",
    "# Přečte pomocí OCR\n",
    "text = ocr(image_ocr)\n",
    "print(text.split('\\n')[0])"
   ]
  },
  {
   "cell_type": "markdown",
   "metadata": {},
   "source": [
    "#### 5) Získejte obrázek přímo z kamery s pericentrickým objektivem\n",
    "Ručně se snažte nastavit předmět do objektivu jak nejlépe dovedete. Uložte si z kamery obrázek již po aplikaci algoritmu. S tím dále pracujte. \n",
    "\n",
    "V případě potřeby je možné zobrazit si pomocné vodící linky v obraze pomocí proměnné `show_help_lines`."
   ]
  },
  {
   "cell_type": "code",
   "execution_count": null,
   "metadata": {},
   "outputs": [],
   "source": [
    "serial_number = '' ### vlastní sériové číslo kamery\n",
    "width = 1280\n",
    "height = 720\n",
    "\n",
    "camera = ...(serial_number) ###"
   ]
  },
  {
   "cell_type": "code",
   "execution_count": null,
   "metadata": {
    "code_folding": [
     3
    ],
    "run_control": {
     "marked": false
    }
   },
   "outputs": [],
   "source": [
    "show_help_lines = True\n",
    "\n",
    "# DO NOT edit this function\n",
    "def impro(img):\n",
    "    h,w = img.shape[:2]\n",
    "    \n",
    "    # Crops image to get\n",
    "    # .. 74 is a hack to Pylon's stupid SDK\n",
    "    img = crop(img, 74, 0, w, h)\n",
    "   \n",
    "    # Applies warp algorithm\n",
    "    res = warp_to_cartesian(img)\n",
    "    dest = res.copy()\n",
    "\n",
    "    if show_help_lines:\n",
    "        blue = (255,0,0)\n",
    "        \n",
    "        # Middle lines on raw image\n",
    "        h,w = img.shape[:2]\n",
    "        cv2.line(img, (int(w/2.0), 0), (int(w/2.0), h), blue, 3, cv2.LINE_AA)\n",
    "        cv2.line(img, (0, int(h/2.0)), (w, int(h/2.0)), blue, 3, cv2.LINE_AA)\n",
    "        # Middle circle on raw image\n",
    "        cv2.circle(img, (int(w/2.0), int(h/2.0)), int(w/4.0), blue, 3, cv2.LINE_AA)\n",
    "\n",
    "        # Vertical lines on warped image\n",
    "        h,w = res.shape[:2]\n",
    "        part = 10\n",
    "        tx = int(w/part)\n",
    "        for i in range(part):\n",
    "            cv2.line(res, (i*tx, 0), (i*tx, h), (255,0,0), 1, cv2.LINE_AA)\n",
    "    \n",
    "    show_camera_window(img, res, scale=0.5)\n",
    "    return dest"
   ]
  },
  {
   "cell_type": "markdown",
   "metadata": {},
   "source": [
    "#### 6) Spusťte snímání a testujte algoritmus pro zpracování obrazu."
   ]
  },
  {
   "cell_type": "markdown",
   "metadata": {},
   "source": [
    "Info k oknu:\n",
    "- Pro spuštění okna kamery je zapotřebí kliknout na tlačítko `Run Interact`. \n",
    "- Okno kamery se vypne stisknutím tlačítka `q`.\n",
    "- Obrázek se uloží stisknutím tlačítka `s`.\n",
    "- Po kliku levého tlačítka myši se vytisknou souřadnice místa v obraze.\n",
    "- Pro projevení změn v nastavení pomocí GUI prvků je nutné ukončit okno kamery a znovu ho spustit."
   ]
  },
  {
   "cell_type": "code",
   "execution_count": null,
   "metadata": {},
   "outputs": [],
   "source": [
    "from pypylon_opencv_viewer import BaslerOpenCVViewer\n",
    "   \n",
    "viewer = BaslerOpenCVViewer(camera)\n",
    "viewer.set_features(FEATURES)\n",
    "viewer.set_impro_function(impro)\n",
    "viewer.run_interaction_continuous_shot(window_size=(width, height))"
   ]
  },
  {
   "cell_type": "markdown",
   "metadata": {},
   "source": [
    "#### 7) Načtěte uložený obrázek a přečtěte text bar kódu"
   ]
  },
  {
   "cell_type": "code",
   "execution_count": null,
   "metadata": {},
   "outputs": [],
   "source": [
    "image_saved_path = '' ###\n",
    "image = cv2.imread(image_saved_path)\n",
    "\n",
    "# Doplňte souřadnice pro oříznutí obrázku\n",
    "# Formát: TL_x, TL_y, BR_x, BR_y\n",
    "CROP_COORDINATES = [\n",
    "    ###\n",
    "    \n",
    "]"
   ]
  },
  {
   "cell_type": "code",
   "execution_count": null,
   "metadata": {},
   "outputs": [],
   "source": [
    "# Předzpracování obrazu\n",
    "image = rotate(image, -180)\n",
    "image = crop(image, *CROP_COORDINATES)\n",
    "\n",
    "image = filtration_median(image, 5)\n",
    "image = segmentation_adaptive_threshold(to_gray(image), 15, 3)\n",
    "image = negative(image)\n",
    "\n",
    "# Zobrazení obrazu\n",
    "plot_images(image)\n",
    "\n",
    "# Čtení pomocí OCR\n",
    "print(ocr(image))"
   ]
  }
 ],
 "metadata": {
  "kernelspec": {
   "display_name": "Python [default]",
   "language": "python",
   "name": "python3"
  },
  "language_info": {
   "codemirror_mode": {
    "name": "ipython",
    "version": 3
   },
   "file_extension": ".py",
   "mimetype": "text/x-python",
   "name": "python",
   "nbconvert_exporter": "python",
   "pygments_lexer": "ipython3",
   "version": "3.6.6"
  }
 },
 "nbformat": 4,
 "nbformat_minor": 2
}
