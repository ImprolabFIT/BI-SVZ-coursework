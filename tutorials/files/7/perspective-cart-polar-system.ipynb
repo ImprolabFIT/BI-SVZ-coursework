{
 "cells": [
  {
   "cell_type": "markdown",
   "metadata": {},
   "source": [
    "# Perspektiva obrazu - kartézský a polární souřadný systém\n",
    "Cvičení je zaměřené na práci s polárními souřadnicemi při využití nestandardních 360° objektivů od firmy [Opto Engineering](https://www.opto-e.com/). Způsob použití takových objektivů je demonstrován v [tutoriálu](https://www.opto-e.com/resources/peripheric-optics-tutorial) na stránkách výrobce. Jedná o následující optické systémy:\n",
    "\n",
    "## Optické systémy\n",
    "Pericentrický objektiv | <img src=\"images/peri.jpg\" width=\"45%\"> | Boroskopická sonda | <img src=\"images/boro.jpg\" width=\"45%\">\n",
    "-|-|-|-\n",
    "\n",
    "[Pericentrický objektiv](https://www.opto-e.com/products/pericentric-lenses#Media) umožňuje podívat se nejen na vršek objektu, ale dokonce i na jeho strany zároveň. Typickými aplikacemi jsou například kontrola potisků víček či kontrola defektů [hrdel lahví](https://www.visiononline.org/vision-resources-details.cfm/vision-resources/Wine-Bottle-Vision-Inspection-System/content_id/6450).\n",
    "\n",
    "[Boroskopická sonda](https://www.opto-e.com/products/boroscopic-probes#Overview) díky zrcadlu umožnuje podívat se 360 ° dokola kolem sebe. Typickými aplikacemi jsou průmyslové inspekce děr či kontroly správnosti závitů. "
   ]
  },
  {
   "cell_type": "markdown",
   "metadata": {},
   "source": [
    "## Souřadné systémy\n",
    "Potřebnou prerekvizitou je znalost existence **kartézského** a **polárního** souřadného systému a tedy dvojí možnosti zápisu souřadnic. Pěkně je to vysvětleno například na webu [Math is fun](https://www.mathsisfun.com/polar-cartesian-coordinates.html).\n",
    "\n",
    "Proč budeme tuto znalost potřebovat je jasné ve chvíli, když si zobrazíte ukázky obrázků získaných jednotlivými optickými systémy."
   ]
  },
  {
   "cell_type": "code",
   "execution_count": 1,
   "metadata": {
    "ExecuteTime": {
     "end_time": "2020-04-01T12:00:59.589788Z",
     "start_time": "2020-04-01T12:00:59.318390Z"
    },
    "code_folding": [
     0
    ]
   },
   "outputs": [
    {
     "data": {
      "image/jpeg": "[encoded data removed]",
      "text/html": [
       "\n",
       "        <iframe\n",
       "            width=\"600\"\n",
       "            height=\"300\"\n",
       "            src=\"https://www.youtube.com/embed/Uros5bufLJI\"\n",
       "            frameborder=\"0\"\n",
       "            allowfullscreen\n",
       "        ></iframe>\n",
       "        "
      ],
      "text/plain": [
       "<IPython.lib.display.YouTubeVideo at 0x1d6a5c64fd0>"
      ]
     },
     "execution_count": 1,
     "metadata": {},
     "output_type": "execute_result"
    }
   ],
   "source": [
    "# Youtube video s ukázkami funkcí v kartézských a polárních souřadnicích\n",
    "from IPython.display import Audio, Image, YouTubeVideo\n",
    "YouTubeVideo(id='Uros5bufLJI', width=600, height=300)"
   ]
  },
  {
   "cell_type": "markdown",
   "metadata": {},
   "source": [
    "---"
   ]
  },
  {
   "cell_type": "markdown",
   "metadata": {},
   "source": [
    "### Import knihoven a konfigurace"
   ]
  },
  {
   "cell_type": "code",
   "execution_count": null,
   "metadata": {
    "ExecuteTime": {
     "end_time": "2020-04-01T11:44:48.237031Z",
     "start_time": "2020-04-01T11:44:47.125840Z"
    }
   },
   "outputs": [],
   "source": [
    "import os\n",
    "import io\n",
    "\n",
    "import cv2\n",
    "import numpy as np\n",
    "import matplotlib.pyplot as plt\n",
    "\n",
    "from improutils import *\n",
    "\n",
    "%matplotlib inline\n",
    "np.set_printoptions(formatter={'float': lambda x: \"{0:0.3f}\".format(x)})"
   ]
  },
  {
   "cell_type": "markdown",
   "metadata": {},
   "source": [
    "### Pomocné funkce\n",
    "Z následujících funkcí je potřeba vybírat ty vhodné pro splnění úkolu."
   ]
  },
  {
   "cell_type": "markdown",
   "metadata": {},
   "source": [
    "Seznam funkcí pro přehlednost:\n",
    "- [`connect_camera(...)`](../svz.ipynb#connect_functions)\n",
    "- [`show_images(...)`](../svz.ipynb#show_functions)\n",
    "- [`plot_images(...)`](../svz.ipynb#show_functions)\n",
    "\n",
    "\n",
    "- [`to_gray(...)`](../svz.ipynb#preprocessing_functions)\n",
    "- [`to_hsv(...)`](../svz.ipynb#preprocessing_functions)\n",
    "- [`negative(...)`](../svz.ipynb#preprocessing_functions)\n",
    "- [`crop(...)`](../svz.ipynb#preprocessing_functions)\n",
    "\n",
    "\n",
    "- [`segmentation_one_threshold(...)`](../svz.ipynb#segmentation_functions)\n",
    "- [`segmentation_auto_threshold(...)`](../svz.ipynb#segmentation_functions)\n",
    "- [`segmentation_two_thresholds(...)`](../svz.ipynb#segmentation_functions)\n",
    "- [`segmentation_adaptive_threshold(...)`](../svz.ipynb#segmentation_functions)\n",
    "- [`find_contours(...)`](../svz.ipynb#segmentation_functions)\n",
    "\n",
    "\n",
    "- [`filtration_median(...)`](../svz.ipynb#filtration_functions)\n",
    "- [`fill_holes(...)`](../svz.ipynb#filtration_functions)\n",
    "\n",
    "\n",
    "- [`ocr(...)`](../svz.ipynb#ocr)\n",
    "\n",
    "\n",
    "- [`to_intensity(...)`](../svz.ipynb#others)\n",
    "- [`logical_and(...)`](../svz.ipynb#others)\n",
    "\n",
    "\n",
    "- [`warp_to_cartesian(...)`](../svz.ipynb#cart_polar_functions)\n",
    "- [`warp_to_polar(...)`](../svz.ipynb#cart_polar_functions)\n",
    "- [`rotate(...)`](../svz.ipynb#cart_polar_functions)\n",
    "\n",
    "\n",
    "- [`artificial_circle_image(...)`](../svz.ipynb#artificial_funtions)"
   ]
  },
  {
   "cell_type": "markdown",
   "metadata": {},
   "source": [
    "---"
   ]
  },
  {
   "cell_type": "markdown",
   "metadata": {},
   "source": [
    "### Úkol\n",
    "Seznamte se s transformací mezi kartézským a polárním systémem souřadnic. Vyzkoušejte si, jak transformace funguje jak na umělých datech, tak na datech reálných. Uvědomte si, jak záleží na správném nastavení měřicího systému při vizuální kontrole pomocí 360° objektivů.\n",
    "\n",
    "Pro testování jsou připraveny funkce `warp_to_cartesian()` a `warp_to_polar()`. "
   ]
  },
  {
   "cell_type": "markdown",
   "metadata": {},
   "source": [
    "#### 1) Vytvořte umělý obrázek soustředných kružnic\n",
    "Zvolte vlastní velikost obrázku (doporučuje se velikost mezi 200 a 1000). Následně na obrázek aplikujte transformaci a oba obrázky zobrazte."
   ]
  },
  {
   "cell_type": "code",
   "execution_count": null,
   "metadata": {
    "ExecuteTime": {
     "end_time": "2020-04-01T11:44:48.961557Z",
     "start_time": "2020-04-01T11:44:48.238863Z"
    },
    "scrolled": false
   },
   "outputs": [],
   "source": [
    "art_circ_image = ...(512) ### tvorba umělého obrázku\n",
    "art_circ_image_trans = ...(art_circ_image) ### správná transformace\n",
    "\n",
    "plot_images(art_circ_image, art_circ_image_trans, normalize=True)"
   ]
  },
  {
   "cell_type": "markdown",
   "metadata": {},
   "source": [
    "#### 2) Vytvořte funkci pro generování umělého obrázku\n",
    "Umělý obrázek by se měl stávat ze samých svislých čar (viz výsledek [Úkolu 1](#1\\)-Vytvořte-umělý-obrázek-soustředných-kružnic)). Následně na obrázek aplikujte transformaci a zobrazte oba obrázky."
   ]
  },
  {
   "cell_type": "code",
   "execution_count": null,
   "metadata": {
    "ExecuteTime": {
     "end_time": "2020-04-01T11:44:48.967038Z",
     "start_time": "2020-04-01T11:44:48.963411Z"
    }
   },
   "outputs": [],
   "source": [
    "def artificial_line_image(size):\n",
    "    ### vlastní postup\n",
    "    \n",
    "    \n",
    "    return img_art_line"
   ]
  },
  {
   "cell_type": "code",
   "execution_count": null,
   "metadata": {
    "ExecuteTime": {
     "end_time": "2020-04-01T11:44:49.667392Z",
     "start_time": "2020-04-01T11:44:48.968386Z"
    },
    "scrolled": false
   },
   "outputs": [],
   "source": [
    "art_line_image = artificial_line_image(512)\n",
    "art_line_image_trans = ...(art_line_image) ### správná transformace\n",
    "\n",
    "plot_images(art_line_image, art_line_image_trans, normalize=True)"
   ]
  },
  {
   "cell_type": "markdown",
   "metadata": {},
   "source": [
    "#### 3) Zobrazte testovací obrázek\n",
    "Načtěte testovací obrázek z boroskopické sondy `mech_test.png`. Zobrazte ho společně s jeho transformací."
   ]
  },
  {
   "cell_type": "code",
   "execution_count": null,
   "metadata": {
    "ExecuteTime": {
     "end_time": "2020-04-01T11:44:50.547781Z",
     "start_time": "2020-04-01T11:44:49.669190Z"
    },
    "scrolled": false
   },
   "outputs": [],
   "source": [
    "image_path = '...' ### cesta k obrázku\n",
    "image_test = cv2.imread(image_path)\n",
    "\n",
    "image_test_trans = ...(image_test) ### správná transformace\n",
    "\n",
    "# Zobrazí obrázky\n",
    "plot_images(image_test, image_test_trans)"
   ]
  },
  {
   "cell_type": "markdown",
   "metadata": {},
   "source": [
    "#### 4) Přečtěte text na testovacím obrázku\n",
    "Vytvořte jednoduchý algoritmus předzpracování obrazu pro čtení pomocí OCR."
   ]
  },
  {
   "cell_type": "code",
   "execution_count": null,
   "metadata": {
    "ExecuteTime": {
     "end_time": "2020-04-01T11:44:50.553774Z",
     "start_time": "2020-04-01T11:44:50.549777Z"
    }
   },
   "outputs": [],
   "source": [
    "def preprocess_for_ocr(img):\n",
    "    ### vlastní postup\n",
    "    \n",
    "    \n",
    "    return img"
   ]
  },
  {
   "cell_type": "code",
   "execution_count": null,
   "metadata": {
    "ExecuteTime": {
     "end_time": "2020-04-01T11:44:51.878336Z",
     "start_time": "2020-04-01T11:44:50.555734Z"
    }
   },
   "outputs": [],
   "source": [
    "# Předzpracuje obrázek a zobrazí\n",
    "image_ocr = preprocess_for_ocr(image_test_trans)\n",
    "plot_images(image_ocr)\n",
    "\n",
    "# Přečte pomocí OCR\n",
    "text = ocr(image_ocr)\n",
    "print(text.split('\\n')[0])"
   ]
  },
  {
   "cell_type": "markdown",
   "metadata": {},
   "source": [
    "#### 5) Načtěte uložený obrázek a přečtěte text bar kódu\n",
    "Načtěte obrázek krabičky pořízené pomocí pericentrického objektivu.\n",
    "\n",
    "<img src=\"images/sample_container.jpg\" width=\"50%\">"
   ]
  },
  {
   "cell_type": "code",
   "execution_count": null,
   "metadata": {
    "ExecuteTime": {
     "end_time": "2020-04-01T11:44:52.854832Z",
     "start_time": "2020-04-01T11:44:51.880450Z"
    }
   },
   "outputs": [],
   "source": [
    "image_saved_path = '...' ### cesta k obrázku\n",
    "image = ...(image_saved_path) ### načtení obrázku\n",
    "\n",
    "image_warped = ...(image) ### správná transformace\n",
    "plot_images(image, image_warped)"
   ]
  },
  {
   "cell_type": "markdown",
   "metadata": {},
   "source": [
    "Ořízněte si obrázek podle souřadnic bar kódu (lze zjistit ručně). Dále zpracujte obrázek tak, abyste získali ideální binární obraz, který lze využít pro OCR čtení nástrojem Tesseract.\n",
    "\n",
    "Klasické workflow zpracování obrazu je následující: *oříznutí*, *filtrace*, *segmentace*, *výběr vhodných objektů*.\n",
    "\n",
    "![](images/workflow.png)"
   ]
  },
  {
   "cell_type": "code",
   "execution_count": null,
   "metadata": {
    "ExecuteTime": {
     "end_time": "2020-04-01T11:44:53.773256Z",
     "start_time": "2020-04-01T11:44:52.856827Z"
    }
   },
   "outputs": [],
   "source": [
    "# Doplňte souřadnice pro oříznutí obrázku\n",
    "# Formát: TL_x, TL_y, BR_x, BR_y\n",
    "# ... TL = top-left, BR = bottom-right\n",
    "CROP_COORDINATES = [\n",
    "    ###\n",
    "    \n",
    "]\n",
    "\n",
    "# Předzpracování\n",
    "image_proc = to_gray(image_warped)\n",
    "\n",
    "# Oříznutí\n",
    "image_proc = crop(image_proc, *CROP_COORDINATES)\n",
    "\n",
    "### vlastní postup\n",
    "\n",
    "\n",
    "\n",
    "\n",
    "\n",
    "\n",
    "\n",
    "\n",
    "\n",
    "\n",
    "\n",
    "\n",
    "# Zobrazení výsledků\n",
    "plot_images(image_proc, ..., ..., ...) ###"
   ]
  },
  {
   "cell_type": "markdown",
   "metadata": {},
   "source": [
    "Přečtěte pomocí OCR nástrojem Tesseract."
   ]
  },
  {
   "cell_type": "code",
   "execution_count": null,
   "metadata": {
    "ExecuteTime": {
     "end_time": "2020-04-01T11:44:54.016618Z",
     "start_time": "2020-04-01T11:44:53.775251Z"
    }
   },
   "outputs": [],
   "source": [
    "ref = '8017 6312'\n",
    "\n",
    "# Čtení pomocí OCR\n",
    "text = ocr(...) ### doplnit\n",
    "\n",
    "# Zhodnocení\n",
    "if ref in text:\n",
    "    print('Výborně')\n",
    "else:\n",
    "    print('Skoro. Vyšlo ti: ' + text)"
   ]
  }
 ],
 "metadata": {
  "kernelspec": {
   "display_name": "Python 3 (ipykernel)",
   "language": "python",
   "name": "python3"
  },
  "language_info": {
   "codemirror_mode": {
    "name": "ipython",
    "version": 3
   },
   "file_extension": ".py",
   "mimetype": "text/x-python",
   "name": "python",
   "nbconvert_exporter": "python",
   "pygments_lexer": "ipython3",
   "version": "3.8.11"
  }
 },
 "nbformat": 4,
 "nbformat_minor": 2
}
