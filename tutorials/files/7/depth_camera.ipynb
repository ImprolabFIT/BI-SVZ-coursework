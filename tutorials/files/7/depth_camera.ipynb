{
 "cells": [
  {
   "cell_type": "markdown",
   "id": "2e7ca103-402f-4f0b-b3ce-c709b0b1d960",
   "metadata": {},
   "source": [
    "# Hloubkové senzory - měření objektů\n",
    "Cvičení je zaměřené na práci s [hloubkovými mapami](https://en.wikipedia.org/wiki/Depth_map) vzniklých použitím tzv. hloubkových senzorů. V laboratoři jsou k dispozici hloubkové senzory založené na několika principech zisku hloubkových map. Jedná se o kamery typu Kinect, RealSense nebo Time-of-Flight (ToF). Souhrně se často označují jako RGBD kamery, kde k standardní barevné informaci RGB přibyde informace hloubková \"D\" (depth).\n",
    "\n",
    "Vytvořit stereokameru lze i pomocí dvou obyčejných kamer. Podrobný návod pro zájemce je k dispozici na příklad [zde](https://erget.wordpress.com/2014/02/01/calibrating-a-stereo-camera-with-opencv/).\n"
   ]
  },
  {
   "cell_type": "markdown",
   "id": "fbaaeb87-580e-4806-9c77-1ec2bafa6989",
   "metadata": {},
   "source": [
    "---"
   ]
  },
  {
   "cell_type": "markdown",
   "id": "91b4b69d-2369-4c20-8cec-8acce44d4828",
   "metadata": {},
   "source": [
    "## Typy systémů\n",
    "<table>\n",
    "    <tr>\n",
    "        <th align=\"left\" width=\"16%\"><a href=\"https://en.wikipedia.org/wiki/Kinect\">Microsoft Kinect</a></th>\n",
    "        <th align=\"left\" width=\"16%\"><img src=\"images/kinect.png\" width=\"50%\"/></th>\n",
    "        <th align=\"left\" width=\"16%\"><a href=\"https://en.wikipedia.org/wiki/Intel_RealSense\">Intel RealSense</a></th>\n",
    "        <th align=\"left\" width=\"16%\"><img src=\"images/realsense.png\" width=\"50%\"/></th>\n",
    "        <th align=\"left\" width=\"16%\"><a href=\"https://en.wikipedia.org/wiki/Time-of-flight_camera\">Basler ToF</a></th>\n",
    "        <th align=\"left\" width=\"16%\"><img src=\"images/tof.png\" width=\"50%\"/></th>       \n",
    "    </tr>\n",
    "    <tr>\n",
    "        <td align=\"left\" colspan=\"2\">Postaven na principu promítání laserového vzoru a měření jeho deformace infračervenou kamerou.</td>\n",
    "        <td align=\"left\" colspan=\"2\">Využívá stejného principu jako Kinect, pouze má jiný vzor.</td>\n",
    "        <td align=\"left\" colspan=\"2\">Využívá promítání světla z více LED zdrojů a měří čas jeho návratu (odrazu).</td>\n",
    "    </tr>\n",
    "    <tr>\n",
    "        <td align=\"left\" colspan=\"2\">Je náchylný na měření venku. Denní světlo kazí obraz.</td>\n",
    "        <td align=\"left\" colspan=\"2\">Měl by být vhodný i pro měření venku.</td>\n",
    "        <td align=\"left\" colspan=\"2\">Je náchylný na měření venku. Denní světlo kazí obraz.</td>\n",
    "    </tr>\n",
    "    <tr>\n",
    "        <td align=\"left\" colspan=\"2\">Více Kinectů vedle sebe si vzájemně kazí vzory.</td>\n",
    "        <td align=\"left\" colspan=\"2\">Nejnovější a nejmenší senzor na trhu.</td>\n",
    "        <td align=\"left\" colspan=\"2\">Průmyslová konstrukce pro běh 24/7.</td>\n",
    "    </tr>\n",
    "</table>"
   ]
  },
  {
   "cell_type": "markdown",
   "id": "fdd7c62a-ed50-448e-b4d9-d7f039540086",
   "metadata": {},
   "source": [
    "---"
   ]
  },
  {
   "cell_type": "markdown",
   "id": "71d6e957-c1ec-4c8a-8251-1eab1dda1bb6",
   "metadata": {},
   "source": [
    "## Využití\n",
    "\n",
    "Kromě zjevného využití RGBD kamer k měření vzdálenosti objektu od senzoru (např. precizní robotická manipulace, 3D skeny, výpočet objemu součástky) jsou kamery užitečné i pro robustnější detekce a klasifikace objektů.\n",
    "\n",
    "**Příklad:**\n",
    "\n",
    "Obrázek vlevo nasnímaný RGBD kamerou představuje naměřenou hloubku pomocí barevné škály.\n",
    "Nelze však jednoduše určit, zda se jedná o jablko nebo pomeranč. Je potřeba použít dodatečnou barevnou informaci.\n",
    "\n",
    "Naopak samotná 2D kamera by nebyla schopna rozpoznat rozdíl mezi plochou nálepkou ovoce a skutečným hmotným ovocem.\n",
    "\n",
    "To umožňuje např. detekovat hloubku jablka ve stromu a zároveň jeho zralost dle barvy.\n",
    "\n",
    "Hloubková informace v synergii s tou barevnou tak poskytuje nové souvislosti v obrazových datech a umožňuje pokročilejší analýzy, nikoliv jen měření vzdáleností.\n",
    "\n",
    "<img src=\"images/tof_advantage_showcase.png\" alt=\"RGBD\" width=\"600\"/>"
   ]
  },
  {
   "cell_type": "markdown",
   "id": "57b85622-a200-46dc-8afd-e72801961e8f",
   "metadata": {},
   "source": [
    "---"
   ]
  },
  {
   "cell_type": "markdown",
   "id": "8249044c-fb8b-43e9-a592-e538d8fd52cc",
   "metadata": {},
   "source": [
    "## Úkol\n",
    "Cílem cvičení je využít hloubkovou mapu ze senzoru **Basler ToF** pro detekci zkoumaného objektu - zavěšené dřevěné koule mimikující jablko. Dále je potřeba vyfiltrovat dřevěnou krychli, kterou měřit nechceme a výstup vhodně vizualizovat.\n",
    "\n",
    "Úloha je inspirovaná řešením z aplikovaného výzkumu samosběrného robota [[1]](https://robomechjournal.springeropen.com/articles/10.1186/s40648-022-00230-y):\n",
    "\n",
    "<table>\n",
    "    <tr>\n",
    "        <td><img src=\"images/fruit_picking_robot.png\" alt=\"Fruit picking robot\" height=\"260\"/></td>\n",
    "        <td><img src=\"images/pears_3D.png\" alt=\"Pears 3D\" height=\"260\"/></td>\n",
    "        <td><img src=\"images/robot_action.png\" alt=\"Robot in action\" height=\"260\"/></td>\n",
    "    </tr>\n",
    "</table>\n"
   ]
  },
  {
   "cell_type": "markdown",
   "id": "43e97fbe-4572-40fa-987d-0ba434961c70",
   "metadata": {},
   "source": [
    "---"
   ]
  },
  {
   "cell_type": "markdown",
   "id": "5563b969-85e4-4cd1-ac3f-7dd22716a05a",
   "metadata": {},
   "source": [
    "### Import knihoven a konfigurace"
   ]
  },
  {
   "cell_type": "code",
   "execution_count": 1,
   "id": "00ed5aa1-3cef-4292-a0d7-fcab11b72cee",
   "metadata": {},
   "outputs": [],
   "source": [
    "import os\n",
    "import io\n",
    "import builtins\n",
    "\n",
    "\n",
    "import cv2\n",
    "import numpy as np\n",
    "import matplotlib.pyplot as plt\n",
    "from matplotlib.patheffects import withStroke\n",
    "\n",
    "from improutils import *\n",
    "\n",
    "%matplotlib inline\n",
    "np.set_printoptions(formatter={'float': lambda x: \"{0:0.3f}\".format(x)})"
   ]
  },
  {
   "cell_type": "markdown",
   "id": "77706d8e-1020-47b9-b5ad-f757c92f3d13",
   "metadata": {},
   "source": [
    "---"
   ]
  },
  {
   "cell_type": "markdown",
   "id": "b282adb0-617e-4574-a8b7-b4fcc8ee507f",
   "metadata": {},
   "source": [
    "#### 1) Nasnímejte data hloubkovou kamerou Basler ToF\n",
    "\n",
    "Pro práci s hloubkovou kamerou využijte software Basler ToF Viewer. Kameru připojte k PC, nasnímejte zkoumaný objekt a výstup uložte. Typ souboru při ukládání vyberte jako \"Points intensity\" (končí příponou points-intensity.pcd).\n",
    "\n",
    "Dbejte na to, aby při pořizování dat byla kamera **nastavena rovnoběžně s pozadím**, a to bez rušivých elementů v záběru, např. okraj monitoru apod. \n",
    "\n",
    "Usnadnit snímání Vám může nastavení \"Maximum depth [mm]\" v programu, který vyfiltruje vše, co je dále, než zvolený threshold."
   ]
  },
  {
   "cell_type": "markdown",
   "id": "a469a308-e96b-4830-ae9b-d05d70f95a40",
   "metadata": {},
   "source": [
    "---"
   ]
  },
  {
   "cell_type": "markdown",
   "id": "d7c5debf-0b0d-4a23-a013-11c7d15fc902",
   "metadata": {},
   "source": [
    "#### 2) Načtěte data ve formátu point cloud `.pcd (text)` a z dat získejte hloubkovou mapu. Mapu zobrazte.\n",
    "\n",
    "##### a) Zobrazte strukturu .pcd dat"
   ]
  },
  {
   "cell_type": "code",
   "execution_count": null,
   "id": "5c3d1f1b-477b-4b30-89a2-e439bf29e32a",
   "metadata": {},
   "outputs": [],
   "source": [
    "with builtins.open(..., 'r') as f:  ### soubor s pcd daty\n",
    "    pcd = f.readlines()\n",
    "\n",
    "header = pcd[:11]\n",
    "data = pcd[11:]\n",
    "\n",
    "for line in ... : # zobrazení hlavičky\n",
    "    print(line)\n",
    "\n",
    "for line in ... : # zobrazení několika bodů\n",
    "    print(line)"
   ]
  },
  {
   "cell_type": "markdown",
   "id": "fcc01f9b-6109-411e-920b-866cfbfd7e0c",
   "metadata": {},
   "source": [
    "##### b) Převeďte .pcd data na hloubkovou mapu\n",
    "\n",
    "Informace v hlavičce .pcd souboru vám mimo jiné prozradila, že data jsou ve formátu 4 float hodnot x, y, z, rgb. Při pořizování dat byla kamera nastavena rovnoběžně s pozadím, tudíž nás budou zajímat pouze **_z_** hodnoty -> hloubková mapa.\n",
    "\n",
    "Souřadnice ```z = 0``` je dle výrobce na přední straně krytu kamery a od ní dále se měří vzdálenost. Pixely s nespolehlivými údaji o vzdálenosti (např. poblíž hran objektů) nebo pixely, které představují objekty v oblastech mimo ROI (vámi nastavená maximální hloubka), mají hodnotu NaN."
   ]
  },
  {
   "cell_type": "code",
   "execution_count": 140,
   "id": "0ea036ff",
   "metadata": {},
   "outputs": [],
   "source": [
    "# Funkce pro převod .pcd dat do hloubkové mapy o velikosti height x width\n",
    "def pcd_to_depth(pcd, height, width):\n",
    "    data = pcd\n",
    "    data = [float(x.split(' ')[2]) for x in data] # extrakce hloubkové hodnoty\n",
    "    data = np.reshape(data, (height, width))\n",
    "    return data"
   ]
  },
  {
   "cell_type": "code",
   "execution_count": 141,
   "id": "ac0b2d7a-2c35-4231-9312-dc6f046c4a0c",
   "metadata": {},
   "outputs": [],
   "source": [
    "depths = pcd_to_depth(..., ..., ...)  ###"
   ]
  },
  {
   "cell_type": "markdown",
   "id": "8454ff8b-0ffc-44f9-b0df-cb2ac0d64443",
   "metadata": {},
   "source": [
    "##### c) Normalizujte a zobrazte data\n",
    "Pro využití automatické segmentace je třeba data převézt na typ uint8. Pro převedení dat do rozsahu [0, 255] je třeba použít normalizaci, OpenCV a improutils obsahují vhodnou funkci.\n",
    "\n",
    "Normalizovaná data zobrazte pomocí čtyř různých [colormap](https://matplotlib.org/stable/users/explain/colors/colormaps.html), vhodných pro hloubková data."
   ]
  },
  {
   "cell_type": "code",
   "execution_count": 2,
   "id": "57bebc84",
   "metadata": {},
   "outputs": [],
   "source": [
    "def subplot_image(image, subplots=(2, 2), cmaps=['gray'], normalize=False, ticks_off=True, title_size=12):\n",
    "    \"\"\"\n",
    "    Plots the same image in multiple subplots with different color maps.\n",
    "\n",
    "    Parameters\n",
    "    ----------\n",
    "    image : ndarray\n",
    "        Image to be shown.\n",
    "    subplots : tuple\n",
    "        Shape of the subplot grid (rows, columns).\n",
    "    cmaps : list\n",
    "        List of colormaps to be used for each subplot.\n",
    "    normalize : bool\n",
    "        If True, image will be normalized.\n",
    "    ticks_off : bool\n",
    "        If True, axis decorations will be hidden.\n",
    "    title_size : int\n",
    "        Size of the title.\n",
    "\n",
    "    Returns\n",
    "    -------\n",
    "    None\n",
    "    \"\"\"\n",
    "    rows, cols = subplots\n",
    "    fig, axes = plt.subplots(rows, cols, figsize=(cols * 6, rows * 6))\n",
    "    \n",
    "    # Flatten axes array if it's 2D for easier iteration\n",
    "    axes = axes.ravel()\n",
    "\n",
    "    # Determine number of subplots and iterate\n",
    "    num_subplots = min(len(axes), len(cmaps))\n",
    "    for i in range(num_subplots):\n",
    "        ax = axes[i]\n",
    "        if ticks_off:\n",
    "            ax.axis('off')\n",
    "\n",
    "        # Set colormap and display the image\n",
    "        cmap = cmaps[i] if i < len(cmaps) else 'gray'\n",
    "        norm = Normalize() if normalize else NoNorm()\n",
    "        \n",
    "        ax.imshow(image, cmap=plt.get_cmap(cmap), norm=norm)\n",
    "        ax.set_title(f'Cmap: {cmap}', fontsize=title_size)\n",
    "\n",
    "    # Hide any unused subplots if there are fewer cmaps than grid cells\n",
    "    for j in range(num_subplots, len(axes)):\n",
    "        fig.delaxes(axes[j])\n",
    "\n",
    "    plt.tight_layout()\n",
    "    plt.show()"
   ]
  },
  {
   "cell_type": "code",
   "execution_count": 144,
   "id": "e763477f-69df-4966-a089-6751473498d4",
   "metadata": {},
   "outputs": [],
   "source": [
    "depths_normalized = ... ### normalizace dat"
   ]
  },
  {
   "cell_type": "code",
   "execution_count": null,
   "id": "1c659032",
   "metadata": {},
   "outputs": [],
   "source": [
    "subplot_image(..., subplots=(2, 2), cmaps=['gray', ...]) ### zobrazení s různými colormapy"
   ]
  },
  {
   "cell_type": "markdown",
   "id": "87239cf2-df6e-4f7b-b6c4-29743c581a1a",
   "metadata": {},
   "source": [
    "#### 3) Segmentujte objekty\n",
    "Při použití klasické segmentace není vhodné segmentovat normalizovaná data, jelikož by segmentace nebyla založena na reálných datech. Funkce pro automatické segmentování v improutils používá *Otsouvu metodu*, která u originálních a normalizovaných bude segmentovat stejně. \n",
    "\n",
    "Využijte **automatickou** segmentaci na **normalizovaných** datech a **manuální** pro **originální** i **normalizovaná** data. Výsledné 3 masky zobrazte.\n",
    "\n",
    "Pro volbu vhodných hodnot při manuální segmentaci originálních hodnot si můžete pomoci např. matplotlib histogramem (pozor na NaN hodnoty) či podstatou, jaká data hloubková kamera zaznamenává.\n",
    "\n",
    "Dále pracujte jen s nejlepším segmentace."
   ]
  },
  {
   "cell_type": "code",
   "execution_count": null,
   "id": "8f1591a2-2ab6-48df-82b5-7fcbfffbbd66",
   "metadata": {},
   "outputs": [],
   "source": [
    "img_seg_auto = ... ###\n",
    "img_seg_org = ... ###\n",
    "img_seg_norm = ... ###\n",
    "plot_images(depths_normalized, ...) # porovnejte normalizovaný a segmentovaný obraz"
   ]
  },
  {
   "cell_type": "markdown",
   "id": "f806ce2d-280e-48d0-888d-53e0c85836fb",
   "metadata": {},
   "source": [
    "---"
   ]
  },
  {
   "cell_type": "markdown",
   "id": "846bf757-559a-453a-9c5d-7536f0801dcb",
   "metadata": {},
   "source": [
    "#### 4) Získejte masku naměřených objektů\n",
    "\n",
    "Pro měření objektů je třeba získat kontury objektů. Počet kontur by měl odpovídat počtu zavěšených objektů. Filtrací odstraníme nekruhové objekty a šum. \n",
    "\n",
    "Kontury vyfiltrujte minimální plochou a na základě jejich kulatosti.\n",
    "Kulatost je definována vzorcem $\\dfrac{4 * \\pi * plocha}{obvod^2}$ [[2]](https://en.wikipedia.org/wiki/Roundness). Pro některé výpočty týkajících se vlastností kontury budete muset použít vhodné funkce z OpenCV2 či improutils.\n",
    "\n",
    "Zobrazte novou masku na základě vyfiltrovaných kontur. Pro hledání kontur využijte jednu ze 3 vytvořených masek.\n",
    "\n"
   ]
  },
  {
   "cell_type": "code",
   "execution_count": null,
   "id": "1a82b328-040a-46ac-93a3-c950972c2778",
   "metadata": {},
   "outputs": [],
   "source": [
    "contour_drawn, count, contours = ... ###\n",
    "print(f\"Počet nalezených kontur: {count}\")"
   ]
  },
  {
   "cell_type": "code",
   "execution_count": null,
   "id": "4bfeb443-d3b9-4c13-af2e-423af11959a4",
   "metadata": {},
   "outputs": [],
   "source": [
    "filtered_image = np.zeros_like(...)  # prázdný obraz pro zápis přijatých kontur\n",
    "passed_contours = []\n",
    "\n",
    "# Filtrování kontur na základě jejich kulatosti\n",
    "for i, ... in enumerate(...):\n",
    "    area = ...       # obsah kontury\n",
    "    perimeter = ... # obvod kontury\n",
    "    \n",
    "    circularity = ... # porovnání kulatosti kontury a ideálního kruhu\n",
    "    \n",
    "    accept = \"NE\" # flag pro výpis\n",
    "    \n",
    "    if ... < circularity < ...: # doplňte vhodné hodnoty pro odfiltrování nekulatých objektů \n",
    "       \n",
    "        accept = \"ANO\"\n",
    "        passed_contours.append(...)\n",
    "        \n",
    "    \n",
    "    print(f\"Kontura {i}: Plocha = {area:.2f}, Obvod = {perimeter:.2f}, Kulatost = {circularity:.4f}, Přijímáme = {accept}\")\n",
    "\n",
    "cv2.drawContours(...) # vykreslení všech přijatých kontur do jednoho obrazu   \n",
    "plot_images(...)"
   ]
  },
  {
   "cell_type": "markdown",
   "id": "f83e57d3-d59b-4646-8a05-f32256d28846",
   "metadata": {},
   "source": [
    "---"
   ]
  },
  {
   "cell_type": "markdown",
   "id": "db610f84-b933-4d45-81fb-d1e3cf877e4b",
   "metadata": {},
   "source": [
    "#### 5) Slučte hloubkovou informaci s maskou vyfiltrovaných jablek\n",
    "OpenCV obsahuje vhodnou funkci pro logické sloučení dvou obrazů. Výsledek vizualizujte pomocí vhodné colormapy."
   ]
  },
  {
   "cell_type": "code",
   "execution_count": null,
   "id": "36123e06-5b52-4d20-91a1-bcd9cbfd85e1",
   "metadata": {},
   "outputs": [],
   "source": [
    "ball_depth = ... #\n",
    "subplot_image(..., subplots=(2,1), cmaps=[...])"
   ]
  },
  {
   "cell_type": "markdown",
   "id": "eb2f006c-098b-4d34-8f13-e1486914ab00",
   "metadata": {},
   "source": [
    "---"
   ]
  },
  {
   "cell_type": "markdown",
   "id": "fd731528",
   "metadata": {},
   "source": [
    "#### 6) Nalezněte koule, které jsou nejdále a nejblíže od kamery\n",
    "\n",
    "##### a) Vizualizujte indexy přijatých kontur (koulí) na hloubkovém obrazu z předchozího kroku"
   ]
  },
  {
   "cell_type": "code",
   "execution_count": null,
   "id": "55eb9e78",
   "metadata": {},
   "outputs": [],
   "source": [
    "number_contours_img = ball_depth.copy()\n",
    "for i, contour in enumerate(...):\n",
    "    x, y, w, h = ... # vhodná funkce cv2 na obdélníkové ohraničení kontury\n",
    "    number_contours_img = cv2.putText(number_contours_img, str(i) , (x, y), cv2.FONT_HERSHEY_SIMPLEX, 1, 255, 1, cv2.LINE_AA)\n",
    " \n",
    "plot_images(...) ###"
   ]
  },
  {
   "cell_type": "markdown",
   "id": "396b6323",
   "metadata": {},
   "source": [
    "##### b) Vypište index koule visící nejblíže a nejdále od kamery\n",
    "Nezapomeňte správně pracovat s NaN hodnotami."
   ]
  },
  {
   "cell_type": "code",
   "execution_count": null,
   "id": "9a6933f9",
   "metadata": {},
   "outputs": [],
   "source": [
    "results = []\n",
    "\n",
    "for contour in passed_contours:\n",
    "    \n",
    "    contour_mask = np.zeros(..., dtype=np.uint8) # příprava masky pro aplikaci na originální data\n",
    "    contour_mask = cv2.drawContours(..., [...], -1, 255, -1) # vykreslení kontury do masky\n",
    "    \n",
    "    ... ### aplikace masky, výběr nejbližšího bodu a uložení\n",
    "    \n",
    "min_depth_index = ...\n",
    "max_depth_index = ...\n",
    "\n",
    "print('Nejblíže ke kameře je koule:  č.{}'.format(max_depth_index))\n",
    "print('Nejdál ke kameře je koule:  č.{}'.format(min_depth_index))\n",
    "    "
   ]
  }
 ],
 "metadata": {
  "kernelspec": {
   "display_name": "Python 3 (ipykernel)",
   "language": "python",
   "name": "python3"
  },
  "language_info": {
   "codemirror_mode": {
    "name": "ipython",
    "version": 3
   },
   "file_extension": ".py",
   "mimetype": "text/x-python",
   "name": "python",
   "nbconvert_exporter": "python",
   "pygments_lexer": "ipython3",
   "version": "3.8.19"
  }
 },
 "nbformat": 4,
 "nbformat_minor": 5
}
