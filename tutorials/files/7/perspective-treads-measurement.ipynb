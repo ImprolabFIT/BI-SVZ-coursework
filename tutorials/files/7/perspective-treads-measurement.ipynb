{
 "cells": [
  {
   "cell_type": "markdown",
   "metadata": {},
   "source": [
    "# Perspektiva obrazu - měření závitu\n",
    "Cvičení je pokračováním cvičení zaměřeného na práci s polárními souřadnicemi při využití nestandardních 360° objektivů od firmy [Opto Engineering](https://www.opto-e.com/). Způsob použití takových objektivů je demonstrován v [tutoriálu](https://www.opto-e.com/resources/peripheric-optics-tutorial) na stránkách výrobce. Ve cvičení jsou použita data získaná z optického systému typu boroskopická sonda.\n",
    "\n",
    "## Boroskopická sonda\n",
    "[Boroskopická sonda](https://www.opto-e.com/products/boroscopic-probes#Insight) díky zrcadlu umožňuje podívat se 360 ° dokola kolem sebe. Typickými aplikacemi jsou průmyslové inspekce děr či kontroly správnosti závitů. \n",
    "\n",
    "<img src=\"images/boro.jpg\" width=\"30%\">"
   ]
  },
  {
   "cell_type": "markdown",
   "metadata": {},
   "source": [
    "## Teorie k měření\n",
    "Matice s metrickým závitem jsou podle norem ČSN ISO 261, 262 definovány pomocí písmene `M` a číslice `průměru závitu` v názvu. Dále jsou definovány veličiny `stoupání závitu`, které lze rozdělit na **standardní, m** (metric) a **jemná stoupání, m-f, m-f2, m-f3** (metric-fine). Průměr závitu (D) je definován v mm, stoupání závitu (P) je také definováno v mm. \n",
    "\n",
    "<img src=\"images/uhel1.webp\" height=\"250px\"><img src=\"images/uhel2.webp\" height=\"250px\">\n",
    "\n",
    "Specifickou veličinou je `úhel stoupání` ($\\varphi$), který může být využit jako poznávací znamení. Je definován jako:\n",
    "\n",
    "$$\\varphi = \\arctan \\left(\\frac{P}{\\pi D} \\right)$$\n",
    "\n",
    "*Obrázky i vzorce jsou přejaty z webu [ZDE](https://www.sandvik.coromant.com/cs-cz/knowledge/machining-formulas-definitions/pages/threading.aspx). Stejně tak tam lze najít více informací k tématu, pokud by někoho zaujalo.*"
   ]
  },
  {
   "cell_type": "markdown",
   "metadata": {},
   "source": [
    "---"
   ]
  },
  {
   "cell_type": "markdown",
   "metadata": {},
   "source": [
    "### Import knihoven a konfigurace\n",
    "Některé funkce jsou k dispozici ve vlastním souboru s názvem `library.py`. Jedná se hlavně o drobnosti použitelné pro tohle cvičení."
   ]
  },
  {
   "cell_type": "code",
   "execution_count": null,
   "metadata": {
    "ExecuteTime": {
     "end_time": "2020-04-01T11:44:48.237031Z",
     "start_time": "2020-04-01T11:44:47.125840Z"
    }
   },
   "outputs": [],
   "source": [
    "import cv2 as cv\n",
    "import numpy as np\n",
    "from matplotlib import pyplot as plt\n",
    "\n",
    "from improutils import *\n",
    "\n",
    "np.set_printoptions(precision=3)\n",
    "\n",
    "%matplotlib inline\n",
    "%run library.py"
   ]
  },
  {
   "cell_type": "markdown",
   "metadata": {},
   "source": [
    "### Pomocné funkce\n",
    "Z následujících funkcí je potřeba vybírat ty vhodné pro splnění úkolu."
   ]
  },
  {
   "cell_type": "markdown",
   "metadata": {},
   "source": [
    "Seznam funkcí pro přehlednost:\n",
    "- [`load_image(...)`](https://gitlab.fit.cvut.cz/bi-svz/improutils_package/blob/master/improutils/acquisition/img_io.py#L11)\n",
    "- [`plot_images(...)`](https://gitlab.fit.cvut.cz/bi-svz/improutils_package/blob/master/improutils/visualisation/visualisation.py#L11)\n",
    "\n",
    "\n",
    "- [`to_gray(...)`](https://gitlab.fit.cvut.cz/bi-svz/improutils_package/blob/master/improutils/preprocessing/preprocessing.py#L4)\n",
    "- [`crop(...)`](https://gitlab.fit.cvut.cz/bi-svz/improutils_package/blob/master/improutils/preprocessing/preprocessing.py#L94)\n",
    "\n",
    "\n",
    "- [`segmentation_one_threshold(...)`](https://gitlab.fit.cvut.cz/bi-svz/improutils_package/blob/master/improutils/segmentation/segmentation.py#L50)\n",
    "- [`segmentation_auto_threshold(...)`](https://gitlab.fit.cvut.cz/bi-svz/improutils_package/blob/master/improutils/segmentation/segmentation.py#L67)\n",
    "- [`segmentation_two_thresholds(...)`](https://gitlab.fit.cvut.cz/bi-svz/improutils_package/blob/master/improutils/segmentation/segmentation.py#L82)\n",
    "- [`segmentation_adaptive_threshold(...)`](https://gitlab.fit.cvut.cz/bi-svz/improutils_package/blob/master/improutils/segmentation/segmentation.py#L100)\n",
    "\n",
    "\n",
    "- [`filtration_median(...)`](https://gitlab.fit.cvut.cz/bi-svz/improutils_package/blob/master/improutils/filtration/filtration.py#L21)\n",
    "\n",
    "\n",
    "- [`warp_to_cartesian(...)`](https://gitlab.fit.cvut.cz/bi-svz/improutils_package/blob/master/improutils/preprocessing/preprocessing.py#L216)\n",
    "- [`warp_to_polar(...)`](https://gitlab.fit.cvut.cz/bi-svz/improutils_package/blob/master/improutils/preprocessing/preprocessing.py#L220)\n",
    "- [`rotate(...)`](https://gitlab.fit.cvut.cz/bi-svz/improutils_package/blob/master/improutils/preprocessing/preprocessing.py#L176)"
   ]
  },
  {
   "cell_type": "markdown",
   "metadata": {},
   "source": [
    "---"
   ]
  },
  {
   "cell_type": "markdown",
   "metadata": {},
   "source": [
    "### Úkol\n",
    "Cílem úlohy je poznat, která matice byla snímána pomocí boroskopické sondy. Následujícím způsobem jsou zadány hodnoty jednotlivých matic s metrickým závitem.\n",
    "\n",
    "|Název  |D (mm) | P, m (mm) | P, m-f (mm)   | P, m-f2 (mm)  |\n",
    "| -     | :---  | :-------  | :-------      | :-------      |\n",
    "|M22 |22 |2.5 |2 |1.5 |\n",
    "|M24 |24 |3 \t|2\t|1.5 |\n",
    "|M30 |30 |3.5   |2  |1.5 |\n",
    "|M36 |36 |4\t    |3\t|2 |\n",
    "\n",
    "atd.\n",
    "\n",
    "Obrázek ukazuje, co je to matice a jejich různé velikosti. Je čistě ilustrační.\n",
    "\n",
    "<img src=\"images/various_nuts.jpg\" width=\"30%\">"
   ]
  },
  {
   "cell_type": "code",
   "execution_count": null,
   "metadata": {},
   "outputs": [],
   "source": [
    "# Databáze matic z normy\n",
    "# name: d, m, f, f2\n",
    "nuts = {\n",
    "    'M22':\t[22,\t2.5,\t2,\t1.5],\n",
    "    'M24':\t[24,\t3,\t2,\t1.5],\n",
    "    'M30':\t[30,\t3.5,\t2,\t1.5],\n",
    "    'M36':\t[36,\t4,\t3,\t2],\n",
    "    'M42':\t[42,\t4.5,\t3,\t2],\n",
    "    'M48':\t[48,\t5,\t3,\t2],\n",
    "    'M52':\t[52,\t5,\t3,\t2],\n",
    "    'M56':\t[56,\t5.5,\t4,\t2],\n",
    "    'M60':\t[60,\t5.5,\t4,\t2],\n",
    "    'M64':\t[64,\t6,\t4,\t3],\n",
    "    'M68':\t[68,\t6,\t4,\t3],\n",
    "    'M72':\t[72,\t6,\t4,\t2],\n",
    "    'M76':\t[76,\t6,\t4,\t2],\n",
    "    'M80':\t[80,\t6,\t4,\t2],\n",
    "    'M90':\t[90,\t6,\t4,\t2],\n",
    "    'M100':\t[100,\t6,\t4,\t2],\n",
    "    'M110':\t[110,\t6,\t4,\t2],\n",
    "    'M120':\t[120,\t6,\t4,\t2],\n",
    "    'M125':\t[125,\t6,\t4,\t2]\n",
    "}\n",
    "\n",
    "Ps = ['m', 'm-f', 'm-f2']"
   ]
  },
  {
   "cell_type": "markdown",
   "metadata": {},
   "source": [
    "#### 1) Načtení a předzpracování\n",
    "Načtěte obrázek matice snímané pomocí boroskopické sondy. Obrázek je čtvercový. Vytvořte z něj obdélníkový obrázek závitu pomocí vhodného převodu mezi souřadnými systémy. Rotujte obrázek tak, aby vnitřek kruhu byl na spodní straně obdélníku (viz [dokumentace OpenCV](https://docs.opencv.org/3.4/da/d54/group__imgproc__transform.html#ga49481ab24fdaa0ffa4d3e63d14c0d5e4)). Obrázky zobrazte."
   ]
  },
  {
   "cell_type": "code",
   "execution_count": null,
   "metadata": {},
   "outputs": [],
   "source": [
    "image_path = '...' ### cesta k obrázku\n",
    "image_grey = ...(...(image_path)) ### načtení obrazu\n",
    "\n",
    "image_trans = ...(image_grey) ### správná transformace\n",
    "print(image_trans.shape)\n",
    "\n",
    "img_rotated = ...(image_trans, ...) ###\n",
    "\n",
    "# Zobrazí obrázky\n",
    "plot_images(image_grey, image_trans)\n",
    "plot_images(img_rotated)"
   ]
  },
  {
   "cell_type": "markdown",
   "metadata": {},
   "source": [
    "#### 2) Segmentace\n",
    "Automaticky segmentujte část obrazu (vytvořte masku) obsahující pouze závit. Ořízněte obrázek podle vytvořené masky - výsledek lze vylepšit přidáním konstanty na ořez nahoře a dole, kde je závit špatně viditelný. Zobrazte obrázek."
   ]
  },
  {
   "cell_type": "code",
   "execution_count": null,
   "metadata": {},
   "outputs": [],
   "source": [
    "img_bin = ...(img_rotated) ### segmentace\n",
    "tl_x, tl_y, w, h = cv2.boundingRect(img_bin) \n",
    "\n",
    "crop_const = ... ### vlastní konstanta\n",
    "img_crop = ...(img_rotated, tl_x, tl_y + crop_const, tl_x + w, tl_y + h - crop_const) ### ořez\n",
    "plot_images(img_crop)"
   ]
  },
  {
   "cell_type": "markdown",
   "metadata": {},
   "source": [
    "#### 3) Detekce závitů\n",
    "Pro předzpracování obrazu využijte filtr vhodný pro zachování hran. Seznamte se a experimentujte s hranovým detektorem typu [Canny](https://docs.opencv.org/3.4/da/d5c/tutorial_canny_detector.html) pro detekci hran - závitů. Obrázek hran zobrazte."
   ]
  },
  {
   "cell_type": "code",
   "execution_count": null,
   "metadata": {},
   "outputs": [],
   "source": [
    "img_filtered = ...(img_crop, ...) ### \n",
    "\n",
    "img_edges = cv....(img_filtered, ..., ...) ### hranový detektor s vhodnými parametry\n",
    "\n",
    "plot_images(img_edges)"
   ]
  },
  {
   "cell_type": "markdown",
   "metadata": {},
   "source": [
    "#### 4) Zisk geometrických charakteristik\n",
    "Aproximujte nalezené hrany pomocí přímek (úseček). K aproximaci se seznamte a experimentujte s metodou [Houghovy](https://docs.opencv.org/3.4/d9/db0/tutorial_hough_lines.html) (*čti hafovy*) transformace. Obzvlášť vhodná je metoda pravděpodobnostní Houghovy transformace (`HoughLinesP`). \n",
    "\n",
    "Nastavte parametry funkce tak, aby hledala pouze delší čáry (ideálně delší než 300 px klidně s větší mezerou). Vhodný počet čar jsou jednotky až desítky. Samozřejmě ideální čáry jsou ty, které kopírují směr závitu.\n",
    "\n",
    "Vykreslete čáry do obrázku a ten zobrazte. Můžete využít funkci `draw_lines()`."
   ]
  },
  {
   "cell_type": "code",
   "execution_count": null,
   "metadata": {},
   "outputs": [],
   "source": [
    "linesP = cv....(img_edges, ..., ..., ..., ..., ..., ...) ### transformace s vhodnými parametry\n",
    "img_lines = ...(img_edges, linesP) ### kreslení\n",
    "\n",
    "plot_images(img_lines)"
   ]
  },
  {
   "cell_type": "markdown",
   "metadata": {},
   "source": [
    "#### 5) Spočítejte úhel stoupání závitu\n",
    "Pro všechny nalezené přímky **spočítejte** `úhel stoupání závitu`. \n",
    "\n",
    "Vzhledem k nedokonalosti v převodu obrazu z polárních souřadnic je vhodné nalezené přímky filtrovat s použitím spočteného úhlu a délky. Nemá smysl započítávat přímky, jejichž pomyslný trojúhelník žádný úhel nesvírá, stejně tak, jako přímky kratší než např. polovina délky snímku.\n",
    "\n",
    "Použijte **vhodnou metodu** pro určení **jedné hodnoty** úhlu stoupání ze všech spočtených. Hodnotu úhlu stoupání zobrazte ve **stupních**."
   ]
  },
  {
   "cell_type": "code",
   "execution_count": null,
   "metadata": {},
   "outputs": [],
   "source": [
    "angles = list()\n",
    "for line in linesP:\n",
    "    ### výpočet\n",
    "    \n",
    "\n",
    "    angle = ...\n",
    "    \n",
    "    # vhodná podmínka\n",
    "    if ...:\n",
    "        angles.append(angle) \n",
    "        \n",
    "angle_rad = np....(angles) ### vhodná metoda\n",
    "print(str(angle_rad) + ' rad')\n",
    "\n",
    "angle_deg = np....(angle_rad) ### převod\n",
    "print(str(angle_deg) + ' °')"
   ]
  },
  {
   "cell_type": "markdown",
   "metadata": {},
   "source": [
    "#### 6) Bonusová část - Identifikujte matici \n",
    "Nalezněte konkrétní typ snímané matice z databáze `nuts` (proměnná zadefinovaná výše). Výsledek vypište ve tvaru: `název, typ stoupání závitu`. \n",
    "\n",
    "Co dalšího byste potřebovali vědět pro ještě přesnější identifikaci matice?"
   ]
  },
  {
   "cell_type": "code",
   "execution_count": null,
   "metadata": {},
   "outputs": [],
   "source": [
    "### Výpočty a klasifikace\n",
    "\n"
   ]
  }
 ],
 "metadata": {
  "kernelspec": {
   "display_name": "Python 3 (ipykernel)",
   "language": "python",
   "name": "python3"
  },
  "language_info": {
   "codemirror_mode": {
    "name": "ipython",
    "version": 3
   },
   "file_extension": ".py",
   "mimetype": "text/x-python",
   "name": "python",
   "nbconvert_exporter": "python",
   "pygments_lexer": "ipython3",
   "version": "3.8.11"
  }
 },
 "nbformat": 4,
 "nbformat_minor": 2
}
