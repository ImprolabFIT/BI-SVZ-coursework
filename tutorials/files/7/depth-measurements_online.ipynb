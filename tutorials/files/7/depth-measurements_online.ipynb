{
 "cells": [
  {
   "cell_type": "markdown",
   "metadata": {},
   "source": [
    "# Hloubkové senzory - měření objektů\n",
    "Cvičení je zaměřené na práci s [hloubkovými mapami](https://en.wikipedia.org/wiki/Depth_map) vzniklých použitím tzv. hloubkových senzorů. V laboratoři jsou k dispozici hloubkové senzory založené na několika principech zisku hloubkových map. Jedná se o kamery typu Kinect, RealSense nebo Time-of-Flight (ToF). \n",
    "\n",
    "Vytvořit stereokameru lze i pomocí dvou obyčejných kamer. Podrobný návod pro zájemce je k dispozici na příklad [zde](https://erget.wordpress.com/2014/02/01/calibrating-a-stereo-camera-with-opencv/).\n",
    "\n",
    "## Typy systémů\n",
    "<table>\n",
    "    <tr>\n",
    "        <th align=\"left\" width=\"16%\"><a href=\"https://en.wikipedia.org/wiki/Kinect\">Microsoft Kinect</a></th>\n",
    "        <th align=\"left\" width=\"16%\"><img src=\"images/kinect.png\" width=\"50%\"/></th>\n",
    "        <th align=\"left\" width=\"16%\"><a href=\"https://en.wikipedia.org/wiki/Intel_RealSense\">Intel RealSense</a></th>\n",
    "        <th align=\"left\" width=\"16%\"><img src=\"images/realsense.png\" width=\"50%\"/></th>\n",
    "        <th align=\"left\" width=\"16%\"><a href=\"https://en.wikipedia.org/wiki/Time-of-flight_camera\">Basler ToF</a></th>\n",
    "        <th align=\"left\" width=\"16%\"><img src=\"images/tof.png\" width=\"50%\"/></th>       \n",
    "    </tr>\n",
    "    <tr>\n",
    "        <td align=\"left\" colspan=\"2\">Postaven na principu promítání laserového vzoru a měření jeho deformace infračervenou kamerou.</td>\n",
    "        <td align=\"left\" colspan=\"2\">Využívá stejného principu jako Kinect, pouze má jiný vzor.</td>\n",
    "        <td align=\"left\" colspan=\"2\">Využívá promítání světla z více LED zdrojů a měří čas jeho návratu (odrazu).</td>\n",
    "    </tr>\n",
    "    <tr>\n",
    "        <td align=\"left\" colspan=\"2\">Je náchylný na měření venku. Denní světlo kazí obraz.</td>\n",
    "        <td align=\"left\" colspan=\"2\">Měl by být vhodný i pro měření venku.</td>\n",
    "        <td align=\"left\" colspan=\"2\">Je náchylný na měření venku. Denní světlo kazí obraz.</td>\n",
    "    </tr>\n",
    "    <tr>\n",
    "        <td align=\"left\" colspan=\"2\">Více Kinectů vedle sebe si vzájemně kazí vzory.</td>\n",
    "        <td align=\"left\" colspan=\"2\">Nejnovější a nejmenší senzor na trhu.</td>\n",
    "        <td align=\"left\" colspan=\"2\">Průmyslová konstrukce pro běh 24/7.</td>\n",
    "    </tr>\n",
    "</table>"
   ]
  },
  {
   "cell_type": "markdown",
   "metadata": {},
   "source": [
    "### Úkol\n",
    "Cílem cvičení je využít hloubkovou mapu ze senzoru **Basler ToF** pro detekci a změření zkoumaného objektu. K tomu je zapotřebí být schopen počítat reálné rozměry objektů v **hloubkových mapách****.\n",
    "\n",
    "Hloubkovou kameru budeme využívat k výpočtu objemu objektu. Jako vhodný objekt poslouží kostka s názvem **Cultilene**, která slouží jako podloží k pěstování rostlin a zeleniny. \n",
    "\n",
    "Její hlavní výhodou je pravidelný tvar a i trochu vylepšený vnitřek o vyfrézované části pro sazenice rostliny.\n",
    "\n",
    "![](images/cultilene_both.png)\n",
    "\n",
    "K výpočtu reálných rozměrů objektů v hloubkové mapě je zapotřebí znát typ senzoru, se kterým se pracuje a jeho zorný úhel jak v horizontálním tak ve vertikálním směru (tzv. FOV). Využívá se geometrie viz následující obrázek (FOV z obrázku **NENÍ** naše hledané). \n",
    "\n",
    "![](https://i.stack.imgur.com/Wf3bu.png)"
   ]
  },
  {
   "cell_type": "markdown",
   "metadata": {},
   "source": [
    "### Import knihoven a konfigurace"
   ]
  },
  {
   "cell_type": "code",
   "execution_count": null,
   "metadata": {},
   "outputs": [],
   "source": [
    "import os\n",
    "import io\n",
    "\n",
    "import cv2\n",
    "import numpy as np\n",
    "import matplotlib.pyplot as plt\n",
    "\n",
    "from improutils import *\n",
    "\n",
    "%matplotlib inline\n",
    "np.set_printoptions(formatter={'float': lambda x: \"{0:0.3f}\".format(x)})"
   ]
  },
  {
   "cell_type": "markdown",
   "metadata": {},
   "source": [
    "### Pomocné funkce\n",
    "- [normalize](https://gitlab.fit.cvut.cz/bi-svz/improutils_package/blob/master/improutils/preprocessing/preprocessing.py#L65)\n",
    "- [funkce pro segmentaci](https://gitlab.fit.cvut.cz/bi-svz/improutils_package/blob/master/improutils/segmentation/segmentation.py)\n",
    "- [negative](https://gitlab.fit.cvut.cz/bi-svz/improutils_package/blob/master/improutils/preprocessing/preprocessing.py#L50)\n",
    "- [plot_images](https://gitlab.fit.cvut.cz/bi-svz/improutils_package/blob/master/improutils/visualisation/visualisation.py#L11)\n",
    "- [find_contours](https://gitlab.fit.cvut.cz/bi-svz/improutils_package/blob/master/improutils/preprocessing/contours.py#L38)\n"
   ]
  },
  {
   "cell_type": "markdown",
   "metadata": {},
   "source": [
    "#### 0) Zobrazte si obrázek hloubkové mapy kostky pro představu."
   ]
  },
  {
   "cell_type": "code",
   "execution_count": null,
   "metadata": {
    "ExecuteTime": {
     "end_time": "2020-04-23T20:38:20.329887Z",
     "start_time": "2020-04-23T20:38:19.734483Z"
    }
   },
   "outputs": [],
   "source": [
    "viz_depth = ...('...') ###\n",
    "plot_images(viz_depth)"
   ]
  },
  {
   "cell_type": "markdown",
   "metadata": {},
   "source": [
    "#### 1) Najděte správné hodnoty FOV pro váš senzor a doplňte.\n",
    "Specifikace kamery: https://machinevisionstore.com/catalog/details/1607"
   ]
  },
  {
   "cell_type": "code",
   "execution_count": null,
   "metadata": {
    "ExecuteTime": {
     "end_time": "2020-04-23T20:38:21.203145Z",
     "start_time": "2020-04-23T20:38:21.197132Z"
    },
    "code_folding": [
     4
    ]
   },
   "outputs": [],
   "source": [
    "FOV_HORIZONTAL_DEGREES = ... ###\n",
    "FOV_VERTICAL_DEGREES = ... ###\n",
    "\n",
    "def real_measure(w_px, h_px, depth, frame_width, frame_height):\n",
    "    \"\"\"\n",
    "    Function for counting the real measures in meters out of pixel values in depth map images.\n",
    "    Source: https://stackoverflow.com/a/45481222/1398955\n",
    "    \n",
    "    @param w_px : int\n",
    "        Width in pixels.\n",
    "    @param h_px : int\n",
    "        Height in pixels.\n",
    "    @param depth : float\n",
    "        Depth value in meters.\n",
    "    @param frame_width : int\n",
    "        Frame width in pixels.\n",
    "    @param frame_height : int\n",
    "        Frame height in pixels.\n",
    "    @return w_m : int\n",
    "        Width in meters.\n",
    "    @return h_m : int\n",
    "        Height in meters.\n",
    "    \"\"\"\n",
    "    fov_horizontal = FOV_HORIZONTAL_DEGREES * np.pi / 180.0\n",
    "    fov_vertical = FOV_VERTICAL_DEGREES * np.pi / 180.0\n",
    "\n",
    "    horizontal_scaling = 2 * np.tan(fov_horizontal / 2.0) / float(frame_width)\n",
    "    vertical_scaling = 2 * np.tan(fov_vertical / 2.0) / float(frame_height)\n",
    "\n",
    "    w_m = w_px * horizontal_scaling * depth\n",
    "    h_m = h_px * vertical_scaling * depth\n",
    "    \n",
    "    return w_m, h_m"
   ]
  },
  {
   "cell_type": "markdown",
   "metadata": {},
   "source": [
    "#### 2) Načtěte data hloubkové mapy a zobrazte.\n",
    "Data z hloubkové kamery jsou datového typu float64, pro využití chytřejší segmentačních metod je třeba data převézt na typ uint8. Pro převedení dat do rozsahu [0, 255] je třeba použít normalizaci, OpenCV obsahuje vhodnou funkci.\n",
    "\n",
    "Načtěte data hloubek pomocí metody [np.loadtxt](https://docs.scipy.org/doc/numpy/reference/generated/numpy.loadtxt.html). Následně obrázek normalizujte a segmentujte masku kostky."
   ]
  },
  {
   "cell_type": "code",
   "execution_count": null,
   "metadata": {
    "ExecuteTime": {
     "end_time": "2020-04-23T20:38:56.074613Z",
     "start_time": "2020-04-23T20:38:54.574131Z"
    }
   },
   "outputs": [],
   "source": [
    "depths = ...('...') ### načtěte data hloubek\n",
    "depths_normalized = ...(depths) ### normalizujte\n",
    "\n",
    "im_seg = ...(depths_normalized) ### segmentujte kostku\n",
    "\n",
    "plot_images(im_seg, depths_normalized)"
   ]
  },
  {
   "cell_type": "markdown",
   "metadata": {},
   "source": [
    "#### 3) Získejte masku měřeného objektu.\n",
    "Pro měření objektu je třeba získat konturu objektu. Zároveň je ale třeba, aby objekt neměl žádné díry. "
   ]
  },
  {
   "cell_type": "code",
   "execution_count": null,
   "metadata": {
    "ExecuteTime": {
     "end_time": "2020-04-23T20:39:40.123846Z",
     "start_time": "2020-04-23T20:39:39.800787Z"
    }
   },
   "outputs": [],
   "source": [
    "### najděte konturu objektu a zároveň vytvořte jeho masku\n",
    "cube_mask = ...\n",
    "cube_contour = ...\n",
    "\n",
    "plot_images(cube_mask)"
   ]
  },
  {
   "cell_type": "markdown",
   "metadata": {},
   "source": [
    "#### 4) Změřte vzdálenost povrchu objektu.\n",
    "S pomocí získané masky získejte hodnoty vzdáleností pixelů povrchu objektu z **hloubkové mapy**. S jejich pomocí zjistěte **správnou** hodnotu **vzdálenosti povrchu** objektu od senzoru.\n",
    "\n",
    "Vodítka:\n",
    "- OpenCV obsahuje vhodnou funkci pro logické sloučení dvou obrázků s využitím masky.\n",
    "- Indexací nenulových hodnot lze také udělat crop.\n",
    "\n",
    "**Pozor** na následující:\n",
    "- Na povrchu objektu jsou i výřezy s rozdílnou hloubkou.\n",
    "- Snímek nebyl pořízen v idealních podmínkách (rovina snímače nebyla rovnoběžná s rovinou objektu) a hodnoty na povrchu se tím od sebe trochu liší.\n",
    "\n",
    "Zvolte vhodnou statistickou funkci pro získání rozumné hodnoty vzdálenosti povrchu (při zvolení správné funkce si numpy poradí i s nan hodnotami)."
   ]
  },
  {
   "cell_type": "code",
   "execution_count": null,
   "metadata": {
    "ExecuteTime": {
     "end_time": "2020-04-23T20:39:42.493856Z",
     "start_time": "2020-04-23T20:39:42.486368Z"
    }
   },
   "outputs": [],
   "source": [
    "cube_depths = ...(depths, depths, mask=cube_mask) ###\n",
    "cube_depths = cube_depths[cube_depths != 0]\n",
    "\n",
    "### najděte vhodnou funkci z numpy\n",
    "top_depth = ...(cube_depths) ###\n",
    "print('Vzdálenost povrchu objektu od senzoru je: ' + str(top_depth) + ' mm.')"
   ]
  },
  {
   "cell_type": "markdown",
   "metadata": {},
   "source": [
    "#### 5) Změřte vzdálenost povrchu na kterém objekt stojí.\n",
    "**Upravte** masku získanou v předešlém příkladu tak, abyste získali pouze hodnoty vzdáleností povrchu, na kterém objekt stojí.\n",
    "\n",
    "Podobně jako minule **změřte vzdálenost**. Zamyslete se, které funkce z numpy jsou vhodné k zisku správné hodnoty a **vypište je s komentářem**. Jedna nestačí."
   ]
  },
  {
   "cell_type": "code",
   "execution_count": null,
   "metadata": {
    "ExecuteTime": {
     "end_time": "2020-04-23T20:39:43.527304Z",
     "start_time": "2020-04-23T20:39:43.511718Z"
    }
   },
   "outputs": [],
   "source": [
    "bottom_mask = ...(cube_mask) ###\n",
    "\n",
    "bottom_depths = ...(depths, depths, mask=bottom_mask) ###\n",
    "bottom_depths = bottom_depths[bottom_depths != 0]\n",
    "\n",
    "### najděte vhodnější funkci z numpy\n",
    "# popis několika funkcí\n",
    "# .\n",
    "# .\n",
    "#.\n",
    "bottom_depth = ...(bottom_depths) ###\n",
    "print('Vzdálenost povrchu, na kterém objekt stojí od senzoru je: ' + str(bottom_depth) + ' mm.')"
   ]
  },
  {
   "cell_type": "markdown",
   "metadata": {},
   "source": [
    "#### 6) Změřte šířku a délku objektu.\n",
    "K dispozici máme již všechny potřebné údaje pro změření reálných rozměrů objektu. \n",
    "\n",
    "Změřte velikost objektu nejdříve v **pixelech** a následně v **milimetrech**. Pro měření v pixelech využijte ideálně konturu objektu získanou v 3). Pro měření v milimetrech možná bude potřeba si znovu přečíst [zadání úkolu](#Úkol)."
   ]
  },
  {
   "cell_type": "code",
   "execution_count": null,
   "metadata": {
    "ExecuteTime": {
     "end_time": "2020-04-23T20:39:44.548785Z",
     "start_time": "2020-04-23T20:39:44.542840Z"
    }
   },
   "outputs": [],
   "source": [
    "### meření v pixelech\n",
    "rect = ...(cube_contour) \n",
    "w_px, h_px = ...\n",
    "\n",
    "### meření v milimetrech\n",
    "real_width, real_height = ...\n",
    "\n",
    "print(f'Změřená délka objektu je {real_height:.1f} mm a jeho šířka je {real_width:.1f} mm.')"
   ]
  },
  {
   "cell_type": "markdown",
   "metadata": {},
   "source": [
    "#### 7) Výpočtěte výšku objektu a jeho přibližný objem.\n",
    "Výšku i objem udávejte v cm, resp. cm$^3$."
   ]
  },
  {
   "cell_type": "code",
   "execution_count": null,
   "metadata": {
    "ExecuteTime": {
     "end_time": "2020-04-23T20:39:45.307577Z",
     "start_time": "2020-04-23T20:39:45.302629Z"
    }
   },
   "outputs": [],
   "source": [
    "object_height = ... ###\n",
    "volume_almost = ... ###\n",
    "\n",
    "print(f'Výška objektu je {object_height:.1f} cm.')\n",
    "print(f'Přibližný objem objektu je {volume_almost:.1f} cm^3.')"
   ]
  },
  {
   "cell_type": "markdown",
   "metadata": {},
   "source": [
    "---\n",
    "\n",
    "#### 8) Bonusová část - Výpočet korektního objemu\n",
    "Nabízím až **2 body** aktivity za výpočet **korektního** objemu kostky. Je potřeba si uvědomit, že kostka má vyfrézované drážky pro sazenice rostlin a proto výše změřený objem není korektní.\n",
    "\n",
    "Pomocí funkcí zpracování obrazu dodělejte úlohu do zdárného konce."
   ]
  }
 ],
 "metadata": {
  "kernelspec": {
   "display_name": "Python 3",
   "language": "python",
   "name": "python3"
  },
  "language_info": {
   "codemirror_mode": {
    "name": "ipython",
    "version": 3
   },
   "file_extension": ".py",
   "mimetype": "text/x-python",
   "name": "python",
   "nbconvert_exporter": "python",
   "pygments_lexer": "ipython3",
   "version": "3.7.3"
  }
 },
 "nbformat": 4,
 "nbformat_minor": 2
}
