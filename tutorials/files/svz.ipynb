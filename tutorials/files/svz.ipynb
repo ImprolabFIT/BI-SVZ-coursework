{
 "cells": [
  {
   "cell_type": "markdown",
   "metadata": {},
   "source": [
    "### Import knihoven a konfigurace"
   ]
  },
  {
   "cell_type": "code",
   "execution_count": 1,
   "metadata": {},
   "outputs": [],
   "source": [
    "import os\n",
    "import numpy as np\n",
    "import matplotlib\n",
    "import matplotlib.pyplot as plt\n",
    "import cv2\n",
    "from pypylon import pylon \n",
    "from IPython.display import clear_output, display\n",
    "\n",
    "import pytesseract\n",
    "from PIL import Image\n",
    "\n",
    "from collections import OrderedDict\n",
    "import math\n",
    "\n",
    "%matplotlib inline"
   ]
  },
  {
   "cell_type": "markdown",
   "metadata": {},
   "source": [
    "### Pomocné funkce\n",
    "Z následujících funkcí je potřeba vybírat ty vhodné pro splnění úkolu."
   ]
  },
  {
   "cell_type": "markdown",
   "metadata": {},
   "source": [
    "<a id='connect_functions'>Funkce k připojení kamery.</a>"
   ]
  },
  {
   "cell_type": "code",
   "execution_count": 2,
   "metadata": {
    "code_folding": [
     1,
     30
    ]
   },
   "outputs": [],
   "source": [
    "# List of camera features to create widgets\n",
    "FEATURES = [\n",
    "    {\n",
    "        \"name\": \"GainRaw\",\n",
    "        \"type\": \"int\"\n",
    "    },\n",
    "    {\n",
    "        \"name\": \"ExposureTimeRaw\",\n",
    "        \"type\": \"int\",\n",
    "        \"max\": 35000,\n",
    "        \"min\": 35,\n",
    "        \"step\": 140,\n",
    "        \"value\": 30124\n",
    "    },\n",
    "    {\n",
    "        \"name\": \"Height\",\n",
    "        \"type\": \"int_text\",\n",
    "        \"max\": 1200,\n",
    "        \"min\": 100,\n",
    "        \"step\": \"5\"\n",
    "    },\n",
    "    {\n",
    "        \"name\": \"Width\",\n",
    "        \"type\": \"int_text\",\n",
    "        \"max\": 1920,\n",
    "        \"min\": 100,\n",
    "        \"step\": \"5\"\n",
    "    }\n",
    "]\n",
    "\n",
    "FEATURES_PERICENTRIC = [\n",
    "    {\n",
    "        \"name\": \"Gain\",\n",
    "        \"type\": \"int\"\n",
    "    },\n",
    "    {\n",
    "        \"name\": \"ExposureTime\",\n",
    "        \"type\": \"int\",\n",
    "        \"max\": 35000,\n",
    "        \"min\": 90,\n",
    "        \"step\": 30,\n",
    "        \"value\": 1500\n",
    "    },\n",
    "    {\n",
    "        \"name\": \"Height\",\n",
    "        \"type\": \"int_text\",\n",
    "        \"max\": 2000,\n",
    "        \"min\": 100,\n",
    "        \"step\": \"1\",\n",
    "        'value':1270\n",
    "    },\n",
    "    {\n",
    "        \"name\": \"Width\",\n",
    "        \"type\": \"int_text\",\n",
    "        \"max\": 2000,\n",
    "        \"min\": 100,\n",
    "        \"step\": \"1\",\n",
    "        'value':1344\n",
    "    },\n",
    "    {\n",
    "        \"name\": \"OffsetX\",\n",
    "        \"type\": \"int_text\",\n",
    "        \"max\": 1000,\n",
    "        \"min\": 0,\n",
    "        \"step\": \"1\",\n",
    "        'value':608\n",
    "    },\n",
    "    {\n",
    "        \"name\": \"OffsetY\",\n",
    "        \"type\": \"int_text\",\n",
    "        \"max\": 1000,\n",
    "        \"min\": 0,\n",
    "        \"step\": \"1\",\n",
    "        'value':418\n",
    "    }\n",
    "]"
   ]
  },
  {
   "cell_type": "code",
   "execution_count": 3,
   "metadata": {
    "code_folding": [
     0
    ]
   },
   "outputs": [],
   "source": [
    "def connect_camera(serial_number):\n",
    "    ''' Connects camera specified with its serial number\n",
    "    \n",
    "    Parameters\n",
    "    ----------\n",
    "    serial_number : string\n",
    "        Camera's serial number.\n",
    "    grabbed_images_path : string\n",
    "        Path to folder where the saved images will be stored.\n",
    "    Returns\n",
    "    -------\n",
    "    camera : object\n",
    "    '''\n",
    "    info = None\n",
    "    for i in pylon.TlFactory.GetInstance().EnumerateDevices():\n",
    "        if i.GetSerialNumber() == serial_number:\n",
    "            info = i\n",
    "            break\n",
    "    else:\n",
    "        print('Camera with {} serial number not found'.format(serial_number))\n",
    "\n",
    "    # VERY IMPORTANT STEP! To use Basler PyPylon OpenCV viewer you have to call .Open() method on you camera\n",
    "    if info is not None:\n",
    "        camera = pylon.InstantCamera(pylon.TlFactory.GetInstance().CreateDevice(info)) \n",
    "        camera.Open()\n",
    "        return camera\n",
    "    else:\n",
    "        return None    "
   ]
  },
  {
   "cell_type": "markdown",
   "metadata": {},
   "source": [
    "Funkce pro zobrazení okna s přidáním eventu na klik myší."
   ]
  },
  {
   "cell_type": "code",
   "execution_count": 3,
   "metadata": {
    "code_folding": [
     0
    ],
    "run_control": {
     "marked": false
    }
   },
   "outputs": [],
   "source": [
    "def show_camera_window(*imgs, scale=1):\n",
    "    def print_xy(event, x, y, flags, param):\n",
    "        if event == cv2.EVENT_LBUTTONUP:\n",
    "            print('x = %d, y = %d'% (x, y))  \n",
    "        \n",
    "    for i, img in enumerate(imgs, 1):\n",
    "        window_name_id = 'Camera capture' + ' ' + str(i)\n",
    "        \n",
    "        h,w = img.shape[:2]\n",
    "        cv2.namedWindow(window_name_id, cv2.WINDOW_NORMAL | cv2.WINDOW_GUI_NORMAL)\n",
    "        cv2.resizeWindow(window_name_id, int(w * scale), int(h * scale))\n",
    "        cv2.setMouseCallback(window_name_id, print_xy)\n",
    "        if len(imgs) > 1:\n",
    "            cv2.moveWindow(window_name_id, (i-1)*int(w * scale), 0)\n",
    "        cv2.imshow(window_name_id, img)"
   ]
  },
  {
   "cell_type": "markdown",
   "metadata": {},
   "source": [
    "<a id='preprocessing_functions'>Metody předzpracování.</a>"
   ]
  },
  {
   "cell_type": "code",
   "execution_count": 5,
   "metadata": {
    "code_folding": [
     0,
     15,
     29,
     43,
     65,
     70,
     74
    ],
    "run_control": {
     "marked": false
    }
   },
   "outputs": [],
   "source": [
    "def to_gray(img):\n",
    "    ''' Converts image to monochrome\n",
    "    \n",
    "    Parameters\n",
    "    ----------\n",
    "    img : numpy.ndarray\n",
    "        Input image.\n",
    "    Returns\n",
    "    -------\n",
    "    Ouput image.\n",
    "    '''\n",
    "    if len(img.shape) == 2:\n",
    "        return img\n",
    "    return cv2.cvtColor(img, cv2.COLOR_BGR2GRAY)\n",
    "\n",
    "def to_hsv(img):\n",
    "    ''' Converts image to HSV (hue, saturation, value) color space.\n",
    "    \n",
    "    Parameters\n",
    "    ----------\n",
    "    img : numpy.ndarray\n",
    "        Input image.\n",
    "    Returns\n",
    "    -------\n",
    "    Ouput image.\n",
    "    '''\n",
    "    dst = cv2.cvtColor(img, cv2.COLOR_BGR2HSV)\n",
    "    return dst\n",
    "\n",
    "def negative(img):\n",
    "    ''' Converts image to its negative\n",
    "    \n",
    "    Parameters\n",
    "    ----------\n",
    "    img : numpy.ndarray\n",
    "        Input image.\n",
    "    Returns\n",
    "    -------\n",
    "    Ouput image.\n",
    "    '''\n",
    "    dst = 255 - img\n",
    "    return dst\n",
    "\n",
    "def crop(img, tl_x, tl_y, br_x, br_y):\n",
    "    ''' Crops image by added coordinates\n",
    "    \n",
    "    Parameters\n",
    "    ----------\n",
    "    img : numpy.ndarray\n",
    "        Input image.\n",
    "    tl_x : int\n",
    "        TOP-LEFT corner's x-coordinate\n",
    "    tl_y : int\n",
    "        TOP-LEFT corner's y-coordinate\n",
    "    br_x : int\n",
    "        BOTTOM-RIGHT corner's x-coordinate\n",
    "    br_y : int\n",
    "        BOTTOM-RIGHT corner's y-coordinate\n",
    "    Returns\n",
    "    -------\n",
    "    Ouput image.\n",
    "    '''\n",
    "    roi = img[tl_y:br_y, tl_x:br_x]\n",
    "    return roi    \n",
    "\n",
    "def crop_by_bounding_rect(img_bin):\n",
    "    _, contours, _  = cv2.findContours(img_bin, cv2.RETR_EXTERNAL, cv2.CHAIN_APPROX_SIMPLE)\n",
    "    tl_x, tl_y, w, h = cv2.boundingRect(contours[0])\n",
    "    return crop(img_bin, tl_x, tl_y, tl_x+w, tl_y+h)\n",
    "\n",
    "def crop_contour(contour, image):\n",
    "    x,y,w,h = cv2.boundingRect(contour)\n",
    "    return image[y:y+h, x:x+w]\n",
    "\n",
    "def resize(im, size):\n",
    "    return cv2.resize(im, size, cv2.INTER_AREA)"
   ]
  },
  {
   "cell_type": "markdown",
   "metadata": {},
   "source": [
    "<a id='segmentation_functions'>Metody segmentace.</a>"
   ]
  },
  {
   "cell_type": "code",
   "execution_count": 3,
   "metadata": {
    "code_folding": [
     0,
     16,
     30,
     47,
     69
    ]
   },
   "outputs": [],
   "source": [
    "def segmentation_one_threshold(img, threshold):\n",
    "    '''Segments image into black & white using one threshold\n",
    "    \n",
    "    Parameters\n",
    "    ----------\n",
    "    img : numpy.ndarray\n",
    "        Input image.\n",
    "    threshold : int\n",
    "        Pixels with value lower than threshold are considered black, the others white.\n",
    "    Returns\n",
    "    -------\n",
    "    Ouput image.\n",
    "    '''\n",
    "    _, dst = cv2.threshold(img, threshold, 255, cv2.THRESH_BINARY)\n",
    "    return dst\n",
    "\n",
    "def segmentation_auto_threshold(img):\n",
    "    '''Segments image into black & white using automatic threshold\n",
    "    \n",
    "    Parameters\n",
    "    ----------\n",
    "    img : numpy.ndarray\n",
    "        Input image.\n",
    "    Returns\n",
    "    -------\n",
    "    Ouput image.\n",
    "    '''\n",
    "    _, dst = cv2.threshold(img, 0, 255, cv2.THRESH_BINARY+cv2.THRESH_OTSU)\n",
    "    return dst\n",
    "\n",
    "def segmentation_two_thresholds(img, lower, higher):\n",
    "    '''Segments image into black & white using two thresholds\n",
    "    \n",
    "    Parameters\n",
    "    ----------\n",
    "    img : numpy.ndarray\n",
    "        Input image.\n",
    "    lower : int\n",
    "        Pixels with value lower than threshold are considered black, the others white.\n",
    "    higher : int\n",
    "        Pixels with value higher than threshold are considered black, the others white.\n",
    "    Returns\n",
    "    -------\n",
    "    Ouput image.\n",
    "    '''\n",
    "    return cv2.inRange(img, min(lower, higher), max(lower, higher))\n",
    "\n",
    "def segmentation_adaptive_threshold(img, size, constant=0):\n",
    "    '''Segments image into black & white using calculated adaptive \n",
    "    threshold using Gaussian function in pixel neighbourhood.\n",
    "    \n",
    "    Parameters\n",
    "    ----------\n",
    "    img : numpy.ndarray\n",
    "        Input image.\n",
    "    size : int\n",
    "        Size of used gaussian. Lowest value is 3. Algorithm uses only odd numbers.\n",
    "    constant : int\n",
    "        Value that is added to calculated threshlod. It could be negative as well as zero as well as positive number.\n",
    "    Returns\n",
    "    -------\n",
    "    Ouput binary image.\n",
    "    '''\n",
    "    if size < 3:\n",
    "        size = 3\n",
    "    elif size % 2 == 0:\n",
    "        size -= 1\n",
    "    return cv2.adaptiveThreshold(img, 255, cv2.ADAPTIVE_THRESH_GAUSSIAN_C, cv2.THRESH_BINARY, size, int(constant))\n",
    "\n",
    "def contours(img_bin, min_area=0, max_area=1000000, fill=True):\n",
    "    '''Finds contours in binary image and filters them using their area. Then it draws binary image\n",
    "    from filtered contours. It counts contours as well.\n",
    "    \n",
    "    Parameters\n",
    "    ----------\n",
    "    img_bin : numpy.ndarray\n",
    "        Input binary image.\n",
    "    min_area : int\n",
    "        Size of contour that is used to filter all smaller contours out.\n",
    "    max_area : int\n",
    "        Size of contour that is used to filter all larger contours out.\n",
    "    Returns\n",
    "    -------\n",
    "    contour_drawn : numpy.ndarray\n",
    "        Output binary image with drawn filled filtered contours.\n",
    "    count : int\n",
    "        Number of found and filtered contours.\n",
    "    contours : list\n",
    "        Found contours.\n",
    "    '''\n",
    "    _, contours, _  = cv2.findContours(img_bin, cv2.RETR_EXTERNAL, cv2.CHAIN_APPROX_SIMPLE)\n",
    "    contours =  [c for c in contours if cv2.contourArea(c) > min_area and cv2.contourArea(c) < max_area]\n",
    "    thick = cv2.FILLED\n",
    "    if not fill: thick = 2\n",
    "    contour_drawn = cv2.drawContours(np.zeros(img_bin.shape, dtype=np.uint8), contours, -1, color=(255, 255, 255), thickness=thick)\n",
    "    return contour_drawn, len(contours), contours    "
   ]
  },
  {
   "cell_type": "markdown",
   "metadata": {},
   "source": [
    "<a id='filtration_functions'>Metody filtrace.</a>"
   ]
  },
  {
   "cell_type": "code",
   "execution_count": 7,
   "metadata": {
    "code_folding": [
     0,
     15
    ],
    "run_control": {
     "marked": false
    }
   },
   "outputs": [],
   "source": [
    "def filtration_median(img, filter_size):\n",
    "    '''Filters image noise using median algorithm\n",
    "    \n",
    "    Parameters\n",
    "    ----------\n",
    "    img : numpy.ndarray\n",
    "        Input image.\n",
    "    filter_size : int\n",
    "        Size of median filter.\n",
    "    Returns\n",
    "    -------\n",
    "    Ouput image.\n",
    "    '''\n",
    "    return cv2.medianBlur(img, filter_size)   \n",
    "\n",
    "def fill_holes(img_bin, close=False, size=5):\n",
    "    '''Fill holes in found contours. It could merge the contour using close input with appropriate size.\n",
    "    \n",
    "    Parameters\n",
    "    ----------\n",
    "    img_bin : numpy.ndarray\n",
    "        Input binary image.\n",
    "    close : boolean\n",
    "        If it should merge contours with missing points using close operation.\n",
    "    size : int\n",
    "        Size of close operation element.\n",
    "    Returns\n",
    "    -------\n",
    "    Ouput binary image.\n",
    "    '''\n",
    "    if close:\n",
    "        struct = cv2.getStructuringElement(cv2.MORPH_ELLIPSE, (size, size))\n",
    "        img_bin = cv2.morphologyEx(img_bin, cv2.MORPH_CLOSE, struct)\n",
    "    res, _, _ = contours(img_bin)\n",
    "    return res"
   ]
  },
  {
   "cell_type": "markdown",
   "metadata": {},
   "source": [
    "<a id='show_functions'>Metoda pro zobrazení různého množství obrázků.</a>"
   ]
  },
  {
   "cell_type": "code",
   "execution_count": 8,
   "metadata": {
    "code_folding": [
     0,
     39
    ],
    "run_control": {
     "marked": false
    }
   },
   "outputs": [],
   "source": [
    "def show_images(*imgs, scale=1, window_name='Image preview'):\n",
    "    \"\"\" Opens multiple image previews depending on the length of the input *imgs list.\n",
    "    The preview is terminated by pressing the 'q' key.\n",
    "    \n",
    "    Parameters\n",
    "    ----------\n",
    "    *imgs : list\n",
    "        Multiple input images which have to be shown.\n",
    "    scale : double\n",
    "        Scale of shown image window.\n",
    "    window_name : Optional[string]\n",
    "        An optional window name.\n",
    "    Returns\n",
    "    -------\n",
    "    None\n",
    "    \"\"\"\n",
    "    def print_xy(event, x, y, flags, param):\n",
    "        if event == cv2.EVENT_LBUTTONUP:\n",
    "            print('x = %d, y = %d'% (x, y)) \n",
    "            \n",
    "    for i, img in enumerate(imgs, 1):\n",
    "        h,w = img.shape[:2]\n",
    "        window_name_id = window_name + ' ' + str(i)\n",
    "        cv2.namedWindow(window_name_id, cv2.WINDOW_NORMAL | cv2.WINDOW_GUI_NORMAL)\n",
    "        cv2.resizeWindow(window_name_id, int(w * scale), int(h * scale))\n",
    "        cv2.setMouseCallback(window_name_id, print_xy)\n",
    "        cv2.moveWindow(window_name_id, (i-1)*int(w * scale), 0)\n",
    "\n",
    "    while 1:\n",
    "        for i, img in enumerate(imgs, 1):\n",
    "            cv2.imshow(window_name + ' ' + str(i), img)\n",
    "            \n",
    "        k = cv2.waitKey(0)\n",
    "        \n",
    "        if k == ord('q') or k == 27:\n",
    "            break\n",
    "\n",
    "    cv2.destroyAllWindows()\n",
    "    \n",
    "def plot_images(*imgs):\n",
    "    f = plt.figure(figsize=(30, 20))\n",
    "    width = math.ceil(math.sqrt(len(imgs)))\n",
    "    height = math.ceil(len(imgs) / width)\n",
    "    for i, img in enumerate(imgs, 1):\n",
    "        ax = f.add_subplot(height, width, i)\n",
    "        ax.imshow(img)"
   ]
  },
  {
   "cell_type": "markdown",
   "metadata": {},
   "source": [
    "<a id='ocr'>Metoda pro OCR obrazu</a>"
   ]
  },
  {
   "cell_type": "code",
   "execution_count": 9,
   "metadata": {
    "code_folding": [
     0
    ],
    "run_control": {
     "marked": false
    }
   },
   "outputs": [],
   "source": [
    "def ocr(img_bin):\n",
    "    '''Detects text in the file.\n",
    "    \n",
    "    Parameters\n",
    "    ----------\n",
    "    img_bin : numpy.ndarray\n",
    "        Input binary image. White objects on black background.\n",
    "    Returns\n",
    "    -------\n",
    "    Text on image.\n",
    "    '''\n",
    "    # Tesseract works with black objects on white background.\n",
    "    img_bin = negative(img_bin)\n",
    "    return pytesseract.image_to_string(Image.fromarray(img_bin))"
   ]
  },
  {
   "cell_type": "markdown",
   "metadata": {},
   "source": [
    "<a id='others'>Metody ostatní</a>"
   ]
  },
  {
   "cell_type": "code",
   "execution_count": 10,
   "metadata": {
    "code_folding": [
     0,
     13
    ]
   },
   "outputs": [],
   "source": [
    "def to_intensity(hue_angle):\n",
    "    '''Converts color angle in HUE definition into intensity value of brightness image in opencv\n",
    "    \n",
    "    Parameters\n",
    "    ----------\n",
    "    hue_angle : int\n",
    "        Angle in HUE definition.\n",
    "    Returns\n",
    "    -------\n",
    "    Integer value that represents the same HUE value but in opencv brightness image.\n",
    "    '''\n",
    "    return int(hue_angle * 0.5)\n",
    "\n",
    "def logical_and(bin_im, bin_mask):\n",
    "    return cv2.bitwise_and(bin_im, bin_mask)"
   ]
  },
  {
   "cell_type": "markdown",
   "metadata": {},
   "source": [
    "<a id='cart_polar_functions'>Metody transformací</a>. Například převodu mezi kartézskými a polárními souřadnicemi nebo rotace."
   ]
  },
  {
   "cell_type": "code",
   "execution_count": 11,
   "metadata": {
    "code_folding": [
     0
    ],
    "run_control": {
     "marked": false
    }
   },
   "outputs": [],
   "source": [
    "# Linear polar warp help function\n",
    "def polar_warp(img, full_radius=True, inverse=False):\n",
    "    center = (img.shape[0]/2.0, img.shape[1]/2.0)\n",
    "    \n",
    "    if full_radius:\n",
    "        radius = np.sqrt(((img.shape[0]/2.0)**2.0)+((img.shape[1]/2.0)**2.0))\n",
    "    else:\n",
    "        radius = center[0]\n",
    "    \n",
    "    method = cv2.WARP_FILL_OUTLIERS\n",
    "    if inverse: \n",
    "        method += cv2.WARP_INVERSE_MAP\n",
    "    dest = cv2.linearPolar(img, center, radius, method)\n",
    "    return dest"
   ]
  },
  {
   "cell_type": "code",
   "execution_count": 12,
   "metadata": {
    "code_folding": [
     0,
     3,
     6
    ],
    "run_control": {
     "marked": false
    }
   },
   "outputs": [],
   "source": [
    "def warp_to_cartesian(img, full_radius=True):\n",
    "    return polar_warp(img, full_radius)\n",
    "\n",
    "def warp_to_polar(img, full_radius=True):\n",
    "    return polar_warp(img, full_radius, True)\n",
    "\n",
    "def rotate(img, angle):\n",
    "    height, width = img.shape[:2]\n",
    "    image_center = (width/2, height/2)\n",
    "\n",
    "    rotation_mat = cv2.getRotationMatrix2D(image_center, angle, 1.)\n",
    "\n",
    "    abs_cos = abs(rotation_mat[0,0])\n",
    "    abs_sin = abs(rotation_mat[0,1])\n",
    "\n",
    "    bound_w = int(height * abs_sin + width * abs_cos)\n",
    "    bound_h = int(height * abs_cos + width * abs_sin)\n",
    "\n",
    "    rotation_mat[0, 2] += bound_w/2 - image_center[0]\n",
    "    rotation_mat[1, 2] += bound_h/2 - image_center[1]\n",
    "\n",
    "    dest = cv2.warpAffine(img, rotation_mat, (bound_w, bound_h))\n",
    "    return dest"
   ]
  },
  {
   "cell_type": "markdown",
   "metadata": {},
   "source": [
    "<a id='artificial_funtions'>Metody na tvorbu umělých obrázků</a>"
   ]
  },
  {
   "cell_type": "code",
   "execution_count": 13,
   "metadata": {
    "code_folding": [
     0
    ]
   },
   "outputs": [],
   "source": [
    "def artificial_circle_image(size):\n",
    "    img_art_circ = np.ndarray((size, size), dtype=np.float32)\n",
    "    step = 10\n",
    "    for i in range(step, size, step):\n",
    "        cv2.circle(img_art_circ, (int(size/2.0), int(size/2.0)), i-step, np.random.randint(0,255), thickness=4)\n",
    "    return img_art_circ"
   ]
  },
  {
   "cell_type": "markdown",
   "metadata": {},
   "source": [
    "<a id='shape_desc_funtions'>Třída pro práci s popisnými charakteristikami tvarů a jednotlivé dílčí funkce.</a>"
   ]
  },
  {
   "cell_type": "code",
   "execution_count": null,
   "metadata": {
    "code_folding": [
     1,
     24,
     29,
     38,
     46,
     56,
     66,
     75
    ]
   },
   "outputs": [],
   "source": [
    "# Dimensionless descriptors\n",
    "class ShapeDescriptors:\n",
    "    def form_factor(area, perimeter):\n",
    "        return (4 * np.pi * area) / (perimeter * perimeter)\n",
    "    \n",
    "    def roundness(area, max_diameter):\n",
    "        return (4 * area) / (np.pi * max_diameter * max_diameter)\n",
    "    \n",
    "    def aspect_ratio(min_diameter, max_diameter):\n",
    "        return min_diameter / max_diameter;\n",
    "    \n",
    "    def convexity(perimeter, convex_perimeter):\n",
    "        return convex_perimeter / perimeter\n",
    "    \n",
    "    def solidity(area, convex_area):\n",
    "        return area / convex_area\n",
    "    \n",
    "    def compactness(area, max_diameter):\n",
    "        return np.sqrt(4 / np.pi * area) / max_diameter;\n",
    "        \n",
    "    def extent(area, bounding_rectangle_area):\n",
    "        return area / bounding_rectangle_area;\n",
    "\n",
    "# Špičatost\n",
    "def form_factor(bin_im):\n",
    "    _, _, conts = contours(bin_im)\n",
    "    return ShapeDescriptors.form_factor(cv2.contourArea(conts[0]), cv2.arcLength(conts[0], True))\n",
    "\n",
    "# Kulatost\n",
    "def roundness(bin_im):\n",
    "    _, _, conts = contours(bin_im)\n",
    "    area = cv2.contourArea(conts[0])\n",
    "    _,radius = cv2.minEnclosingCircle(conts[0])\n",
    "    r = ShapeDescriptors.roundness(area, 2*radius)\n",
    "    if r > 1: r = 1\n",
    "    return r\n",
    "\n",
    "# Poměr stran\n",
    "def aspect_ratio(bin_im):\n",
    "    _, _, conts = contours(bin_im)\n",
    "    dims = cv2.minAreaRect(conts[0])[1]\n",
    "    min_diameter = min(dims)\n",
    "    max_diameter = max(dims)\n",
    "    return ShapeDescriptors.aspect_ratio(min_diameter, max_diameter)\n",
    "    \n",
    "# Konvexita, vypouklost\n",
    "def convexity(bin_im):\n",
    "    _, _, conts = contours(bin_im)\n",
    "    hull = cv2.convexHull(conts[0], None, True, True)\n",
    "    per = cv2.arcLength(conts[0], True)\n",
    "    conv_per = cv2.arcLength(hull, True)\n",
    "    r = ShapeDescriptors.convexity(per, conv_per)\n",
    "    if r > 1: r = 1\n",
    "    return r \n",
    "\n",
    "# Plnost, celistvost\n",
    "def solidity(bin_im):\n",
    "    _, _, conts = contours(bin_im)\n",
    "    hull = cv2.convexHull(conts[0], None, True, True)\n",
    "    area = cv2.contourArea(conts[0])\n",
    "    conv_area = cv2.contourArea(hull)\n",
    "    r = ShapeDescriptors.solidity(area, conv_area)\n",
    "    if r > 1: r = 1\n",
    "    return r \n",
    "    \n",
    "# Kompaktnost, hutnost\n",
    "def compactness(bin_im):\n",
    "    _, _, conts = contours(bin_im)\n",
    "    area = cv2.contourArea(conts[0])\n",
    "    max_diameter = max(cv2.minAreaRect(conts[0])[1])\n",
    "    r = ShapeDescriptors.compactness(area, max_diameter)\n",
    "    if r > 1: r = 1\n",
    "    return r \n",
    "    \n",
    "# Dosah, rozměrnost\n",
    "def extent(bin_im):\n",
    "    _, _, conts = contours(bin_im)\n",
    "    area = cv2.contourArea(conts[0])\n",
    "    w, h = cv2.minAreaRect(conts[0])[1]\n",
    "    return ShapeDescriptors.extent(area, w*h)"
   ]
  }
 ],
 "metadata": {
  "kernelspec": {
   "display_name": "Python [default]",
   "language": "python",
   "name": "python3"
  },
  "language_info": {
   "codemirror_mode": {
    "name": "ipython",
    "version": 3
   },
   "file_extension": ".py",
   "mimetype": "text/x-python",
   "name": "python",
   "nbconvert_exporter": "python",
   "pygments_lexer": "ipython3",
   "version": "3.6.6"
  }
 },
 "nbformat": 4,
 "nbformat_minor": 2
}
