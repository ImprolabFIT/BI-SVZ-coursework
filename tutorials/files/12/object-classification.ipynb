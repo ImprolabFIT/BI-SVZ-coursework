{
 "cells": [
  {
   "cell_type": "markdown",
   "metadata": {},
   "source": [
    "# Klasifikace objektů\n",
    "Cvičení je zaměřené na jednotlivé metody klasifikace objektů od jednodušších pomocí popisných tvarových charakteristik až po sofostikované neuronové sítě.\n",
    "\n",
    "## Tvarové charakteristiky\n",
    "Tvarové charakteristiky se využívají hlavně proto, že jsou nezávislé na rozměrech objektů. Vždy se jedná o poměry nějakých měřených charakteristik objektu (např. délka, obvod, obsah, atd...). \n",
    "\n",
    "Takových tvarových charakteristik si na cvičení vyzkoušíme 7 (to nejsou všechny, které existují). Všechny jsou dostupné z RUSS, John C a F. Brent NEAL. *The image processing handbook*. Seventh edition. Boca Raton: CRC Press, Taylor & Francis Group, [2016]. ISBN 978-1-4987-4026-5, konkrétně od strany 619. \n",
    "\n",
    "Jedná se o:\n",
    "- Formfactor (špičatost)\n",
    "- Roundness (kulatost)\n",
    "- Aspect Ratio (poměr stran)\n",
    "- Convexity (konvexita, vypouklost)\n",
    "- Solidity (plnost, celistvost)\n",
    "- Compactness (kompaktnost, hutnost)\n",
    "- Extent (dosah, rozměrnost)\n",
    "\n",
    "Těžko se to překládá do češtiny, ale pointou je, že pro jakýkoli objekt je lze spočítat všechny. Až na tvaru objektu je pak lépe prokazatelné, co daná charakteristika říká. Obrázek níže například popisuje změnu charakteristiky `Formfactor` pro několik ideálních geometrických útvarů. Jde tedy o špičatost.\n",
    "\n",
    "![](images/varying_form_factor.png)\n",
    "\n",
    "Další nejednoznačné charakteristiky jsou například `Convexity`, `Solidity`, `Compactness` a `Extent`. `Convexity` říká, jak moc se odchyluje délka obvodu tvaru od délky jeho konvexní obálky. `Solidity` zase vyjadřuje, jak moc je objekt plný - zda nemá díry a výběžky. `Compactness` popisuje, jak moc je plocha objektu rovnoměrně distribuována od středu tvaru. A nakonec `Extent` vyjadřuje, jak moc plocha tvaru vyplňuje plochu, kterou by zaujímal jeho nejmenší opsaný obdélník."
   ]
  },
  {
   "cell_type": "markdown",
   "metadata": {},
   "source": [
    "### Import knihoven a konfigurace"
   ]
  },
  {
   "cell_type": "code",
   "execution_count": 1,
   "metadata": {
    "ExecuteTime": {
     "end_time": "2019-07-17T11:45:31.096749Z",
     "start_time": "2019-07-17T11:45:28.272529Z"
    }
   },
   "outputs": [],
   "source": [
    "import os\n",
    "import io\n",
    "\n",
    "import cv2\n",
    "import numpy as np\n",
    "import matplotlib.pyplot as plt\n",
    "import pytesseract\n",
    "\n",
    "from improutils import *\n",
    "from collections import OrderedDict\n",
    "\n",
    "%matplotlib inline\n",
    "np.set_printoptions(formatter={'float': lambda x: \"{0:0.3f}\".format(x)})"
   ]
  },
  {
   "cell_type": "markdown",
   "metadata": {},
   "source": [
    "Vytvoří databázi popisných charakteristik tvarů v dostupné složce ze souborů obrázků."
   ]
  },
  {
   "cell_type": "code",
   "execution_count": 2,
   "metadata": {
    "ExecuteTime": {
     "end_time": "2019-07-17T11:55:31.659550Z",
     "start_time": "2019-07-17T11:55:31.650771Z"
    },
    "code_folding": [
     0
    ],
    "run_control": {
     "marked": false
    }
   },
   "outputs": [],
   "source": [
    "def create_shape_db(folder, functions):\n",
    "    db = OrderedDict()\n",
    "    \n",
    "    assert os.path.isdir(folder), 'Folder not found (' + folder + ')'\n",
    "    \n",
    "    if not folder.endswith('/'):\n",
    "        folder += '/'\n",
    "    path, dirs, files = next(os.walk(folder))\n",
    "\n",
    "    for file in files:\n",
    "        if file.lower().endswith('.png'):\n",
    "            image = cv2.imread(path + file, 0)\n",
    "\n",
    "            shape_descriptions = list()\n",
    "            for func in functions:\n",
    "                shape_descriptions.append(func(image))\n",
    "\n",
    "            key = file.split('.')[0]\n",
    "            db[key] = np.array(shape_descriptions)\n",
    "    return db"
   ]
  },
  {
   "cell_type": "markdown",
   "metadata": {},
   "source": [
    "---"
   ]
  },
  {
   "cell_type": "markdown",
   "metadata": {},
   "source": [
    "Seznam předchozích funkcí pro přehlednost:\n",
    "- [`load_image(...)`](https://gitlab.fit.cvut.cz/bi-svz/improutils_package/blob/master/improutils/acquisition/img_io.py#L7)\n",
    "- [`plot_images(...)`](https://gitlab.fit.cvut.cz/bi-svz/improutils_package/blob/master/improutils/visualisation/visualisation.py#L10)\n",
    "\n",
    "\n",
    "- [`to_gray(...)`](https://gitlab.fit.cvut.cz/bi-svz/improutils_package/blob/master/improutils/preprocessing/preprocessing.py#L4)\n",
    "- [`negative(...)`](https://gitlab.fit.cvut.cz/bi-svz/improutils_package/blob/master/improutils/preprocessing/preprocessing.py#L50)\n",
    "- [`crop(...)`](https://gitlab.fit.cvut.cz/bi-svz/improutils_package/blob/master/improutils/preprocessing/preprocessing.py#L76)\n",
    "- [`crop_by_bounding_rect(...)`](https://gitlab.fit.cvut.cz/bi-svz/improutils_package/blob/master/improutils/preprocessing/preprocessing.py#L99)\n",
    "\n",
    "\n",
    "- [`segmentation_one_threshold(...)`](https://gitlab.fit.cvut.cz/bi-svz/improutils_package/blob/master/improutils/segmentation/segmentation.py#L50)\n",
    "- [`segmentation_auto_threshold(...)`](https://gitlab.fit.cvut.cz/bi-svz/improutils_package/blob/master/improutils/segmentation/segmentation.py#L67)\n",
    "- [`segmentation_two_thresholds(...)`](https://gitlab.fit.cvut.cz/bi-svz/improutils_package/blob/master/improutils/segmentation/segmentation.py#L82)\n",
    "- [`segmentation_adaptive_threshold(...)`](https://gitlab.fit.cvut.cz/bi-svz/improutils_package/blob/master/improutils/segmentation/segmentation.py#L100)\n",
    "- [`find_contours(...)`](https://gitlab.fit.cvut.cz/bi-svz/improutils_package/blob/master/improutils/preprocessing/contours.py#L39)\n",
    "\n",
    "\n",
    "- [`filtration_median(...)`](https://gitlab.fit.cvut.cz/bi-svz/improutils_package/blob/master/improutils/filtration/filtration.py#L21)\n",
    "- [`fill_holes(...)`](https://gitlab.fit.cvut.cz/bi-svz/improutils_package/blob/master/improutils/preprocessing/contours.py#L72)\n",
    "- [`logical_and(...)`](https://gitlab.fit.cvut.cz/bi-svz/improutils_package/blob/master/improutils/segmentation/segmentation.py#L9)\n",
    "\n",
    "Funkce pro výpočet tvarových charakteristik jsou součástí `improutils` - [**dokumentace**](https://gitlab.fit.cvut.cz/bi-svz/improutils_package/-/blob/master/improutils/recognition/image_features.py)."
   ]
  },
  {
   "cell_type": "markdown",
   "metadata": {},
   "source": [
    "### Úkol\n",
    "Automaticky poznejte, o který předmět z databáze se jedná. Segmentujte vhodně snímaný objekt z obrazu, následně ho oceňte pomocí tvarových charakteristik a srovnejte z databází. "
   ]
  },
  {
   "cell_type": "markdown",
   "metadata": {},
   "source": [
    "#### 0) Nasnímejte data tvarů do databáze\n",
    "Pomocí zadního nasvícení (backlight) nasnímejte různé objekty denní potřeby. Snažte se zvolit takové objekty, které se liší svým tvarem. \n",
    "\n",
    "Snímky pojmenujte vždy ve formátu `KEY.png`, kde `KEY` je název objektu (např. `fork.png`). Snímky ukládejte do složky `db`.\n",
    "\n",
    "Ke snímání využijte jakýkoli způsob, který ovládáte."
   ]
  },
  {
   "cell_type": "markdown",
   "metadata": {},
   "source": [
    "#### 1) Vytvořte databázi popisných charakteristik tvarů\n",
    "Ve složce `db` jsou k dispozici obrázky objektů. Vytvořte databázi jejich popisných charakteristik s využitím takových funkcí, které máte k dispozici.\n",
    "\n",
    "![](images/db.png)"
   ]
  },
  {
   "cell_type": "code",
   "execution_count": null,
   "metadata": {
    "ExecuteTime": {
     "end_time": "2019-07-17T11:55:16.350305Z",
     "start_time": "2019-07-17T11:55:16.299489Z"
    }
   },
   "outputs": [],
   "source": [
    "folder = ... ###\n",
    "functions = [...] ###\n",
    "\n",
    "# Vytvoří databázi\n",
    "db = create_shape_db(folder, functions)"
   ]
  },
  {
   "cell_type": "markdown",
   "metadata": {},
   "source": [
    "#### 2) Nasnímejte vlastní objekty\n",
    "S využitím jakéhokoli nástroje nasnímejte vlastní obrazová data objektů. Využijte k tomu zadní osvětlení (backlight). \n",
    "\n",
    "**Poznámka:** Nasnímejte také obrázek samotného pozadí s backlightem. Bude se hodit pro zjednodušení segmentace."
   ]
  },
  {
   "cell_type": "code",
   "execution_count": null,
   "metadata": {
    "ExecuteTime": {
     "end_time": "2019-07-17T12:50:17.544493Z",
     "start_time": "2019-07-17T12:50:17.395007Z"
    }
   },
   "outputs": [],
   "source": [
    "name = ... ###\n",
    "background_name = ... ###\n",
    "\n",
    "image = load_image(name)\n",
    "background = load_image(background_name)"
   ]
  },
  {
   "cell_type": "markdown",
   "metadata": {},
   "source": [
    "#### 3) Segmentujte pozadí\n",
    "S využitím jednoduchých funkcí vytvořte binární masku nasnímaného pozadí zadního nasvícení. Bude dále využita k segmentaci složitější scény."
   ]
  },
  {
   "cell_type": "code",
   "execution_count": null,
   "metadata": {
    "ExecuteTime": {
     "end_time": "2019-07-17T12:50:20.213738Z",
     "start_time": "2019-07-17T12:50:20.209812Z"
    }
   },
   "outputs": [],
   "source": [
    "def binary_mask_from_background(background_image):\n",
    "    ###\n",
    "    mask = ...\n",
    "    return mask"
   ]
  },
  {
   "cell_type": "code",
   "execution_count": null,
   "metadata": {
    "ExecuteTime": {
     "end_time": "2019-07-17T12:50:24.371383Z",
     "start_time": "2019-07-17T12:50:23.300733Z"
    },
    "scrolled": true
   },
   "outputs": [],
   "source": [
    "mask = binary_mask_from_background(background)\n",
    "plot_images(background, mask)"
   ]
  },
  {
   "cell_type": "markdown",
   "metadata": {},
   "source": [
    "#### 4) Segmentujte objekty\n",
    "S využitím již známých a nově přidaných funkcí vytvořte algoritmus segmentace objektu z obrazu. Cílem je vytvořit takový algoritmus, který z obrazu vytvoří jeho siluetu ořízlou pouze na její velikost (viz ukázka databáze z [Úkolu 1](#1\\)-Vytvořte-databázi-popisných-charakteristik-tvarů)). Využijte stále zadního nasvícení a již segmentovaného pozadí z minulého úkolu."
   ]
  },
  {
   "cell_type": "code",
   "execution_count": null,
   "metadata": {
    "ExecuteTime": {
     "end_time": "2019-07-17T12:50:31.314067Z",
     "start_time": "2019-07-17T12:50:31.307113Z"
    }
   },
   "outputs": [],
   "source": [
    "def segment_object(image, background):\n",
    "    ### algoritmus\n",
    "    ...\n",
    "    \n",
    "    \n",
    "    \n",
    "    binary_object_cropped = ...\n",
    "    \n",
    "    return binary_object_cropped"
   ]
  },
  {
   "cell_type": "code",
   "execution_count": null,
   "metadata": {
    "ExecuteTime": {
     "end_time": "2019-07-17T12:50:36.334447Z",
     "start_time": "2019-07-17T12:50:35.614596Z"
    },
    "scrolled": true
   },
   "outputs": [],
   "source": [
    "binary_object = segment_object(image, mask)\n",
    "plot_images(binary_object)"
   ]
  },
  {
   "cell_type": "markdown",
   "metadata": {},
   "source": [
    "#### 5) Spočtěte popisné charakteristiky\n",
    "U vašeho vytvořeného segmentovaného ořízlého binárního objektu spočtěte popisné tvarové charakteristiky."
   ]
  },
  {
   "cell_type": "code",
   "execution_count": null,
   "metadata": {
    "ExecuteTime": {
     "end_time": "2019-07-17T12:50:45.066074Z",
     "start_time": "2019-07-17T12:50:45.057224Z"
    }
   },
   "outputs": [],
   "source": [
    "shape_descriptions = list()\n",
    "\n",
    "### Postupně nebo automaticky\n",
    "###\n",
    "shape_descriptions.append(...)\n",
    "    \n",
    "# Konverze do np.array formátu\n",
    "shape_descriptions = np.array(shape_descriptions)"
   ]
  },
  {
   "cell_type": "code",
   "execution_count": null,
   "metadata": {},
   "outputs": [],
   "source": [
    "assert len(shape_descriptions) == 7, 'Nebylo použito správné množství funkcí'"
   ]
  },
  {
   "cell_type": "markdown",
   "metadata": {},
   "source": [
    "#### 6) Zjistěte, o který objekt z databáze se jedná"
   ]
  },
  {
   "cell_type": "code",
   "execution_count": null,
   "metadata": {
    "ExecuteTime": {
     "end_time": "2019-07-17T12:50:47.093096Z",
     "start_time": "2019-07-17T12:50:46.215001Z"
    },
    "scrolled": true
   },
   "outputs": [],
   "source": [
    "results = list()\n",
    "for key in db:\n",
    "    results.append(np.linalg.norm(db[key] - shape_descriptions))\n",
    "\n",
    "result = min(results)\n",
    "result_key = list(db.keys())[np.argmin(results)]\n",
    "\n",
    "print(f'Jedná se o objekt: {result_key} (vzdálenost = {result:.4f})')\n",
    "plot_images(binary_object)"
   ]
  }
 ],
 "metadata": {
  "interpreter": {
   "hash": "35f20c36897b22a64946c9dd728a5cf7bfbe2ee2b5cdf6516e1eebdf6add351b"
  },
  "kernelspec": {
   "display_name": "Python 3 (ipykernel)",
   "language": "python",
   "name": "python3"
  },
  "language_info": {
   "codemirror_mode": {
    "name": "ipython",
    "version": 3
   },
   "file_extension": ".py",
   "mimetype": "text/x-python",
   "name": "python",
   "nbconvert_exporter": "python",
   "pygments_lexer": "ipython3",
   "version": "3.10.8"
  }
 },
 "nbformat": 4,
 "nbformat_minor": 2
}
