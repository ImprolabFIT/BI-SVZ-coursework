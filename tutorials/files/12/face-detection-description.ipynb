{
 "cells": [
  {
   "cell_type": "markdown",
   "metadata": {},
   "source": [
    "# Detekce, popis a klasifikace obličeje z RGB obrazu\n",
    "Druhá část cvičení se zaměří na detekci obličeje pomocí tradičních metod zpracování obrazu.\n",
    "\n",
    "## Stažení modelů\n",
    "Natrénované modely tradičními způsoby jsou umístěné ve složce `models`. Jedná se o modely typu: \n",
    "\n",
    "* [HaarCascades](https://www.pyimagesearch.com/2021/04/12/opencv-haar-cascades/)\n",
    "* [Histogram of Orineted Gradients (HOG)](https://courses.fit.cvut.cz/BI-SVZ/showroom/histogram_of_oriented_gradients/index.html)\n",
    "* [Local Binary Patterns (LBP)](https://www.pyimagesearch.com/2015/12/07/local-binary-patterns-with-python-opencv/)\n",
    "\n",
    "## Detekce obličeje\n",
    "Prvním úkolem je ve vstupním obrazu detekovat umístění obličeje nebo obličejů. Jednak nám to umožní vyfiltrovat nedůležité části obrazu před dalším zpracováním a typicky tak zpracování urychlit a zpřesnit, ale především nám to pomůže při výskytu více obličejů v jednom obrázku. \n",
    "\n",
    "Jenže, jak na to? Zkusme si představit jak vypadá typický obličej. Oči a obočí jsou tmavší než tváře, stejně tak jsou tmavší než nos. Jenže modelovat explicitně podobu obličeje je poměrně pracné. Především, když můžeme použít hrubou sílu a nechat si vymodelovat typický obličej ne na úrovni pixelů, ale na úrovni rozdílů intenzit vhodně zvolených oblastí napříč rozlišeními.\n",
    "\n",
    "K tomu je možné použít například Haarovu funkci všemožně naškálovanou a narotovanou jak je podrobněji popsáno v článku Paula Violy a Michaela Jonese: \"Rapid Object Detection using a Boosted Cascade of Simple Features\" a klasifikátor, který bude detekovat ty oblasti obrázku, které obsahují předučenou kombinaci rozdílů intenzit podle vybraných funkcí.\n",
    "\n",
    "<img src=\"images/haar_wavelet.svg\" width=40% style=\"float:left\"> <img src=\"images/haar_application.png\" width=40%>\n",
    "<div style=\"clear:both\"/>\n",
    "\n",
    "Pro učení klasifikátoru je zapotřebí algoritmu dodat velké množství obrázků obličeje (a obrázků, které obličej neobsahují), na kterých proběhne, zjednodušeně řečeno, určení hodnot všech Haarových funkcí a výběr funkcí (a prahů) vhodných pro rozlišení zda obrázek obsahuje nebo neobsahuje obličej. Tím vznikne model, který je při dostatečných schopnostech generalizace možné následně používat pro detekci i neznámých obličejů. Model zde z dat učit nebudeme, použijeme model již natrénovaný pro detekci obličeje dívajícího se přímo do kamery, který je distribuovaný s OpenCV. Pro jistotu jej ale přikládáme přímo do složky s notebookem.\n",
    "\n"
   ]
  },
  {
   "cell_type": "markdown",
   "metadata": {},
   "source": [
    "### Importy knihoven, konfigurací a modelů"
   ]
  },
  {
   "cell_type": "code",
   "execution_count": null,
   "metadata": {
    "ExecuteTime": {
     "end_time": "2019-07-17T13:03:05.787171Z",
     "start_time": "2019-07-17T13:03:05.591797Z"
    }
   },
   "outputs": [],
   "source": [
    "import os\n",
    "import io\n",
    "\n",
    "import cv2\n",
    "import numpy as np\n",
    "import matplotlib.pyplot as plt\n",
    "import pytesseract\n",
    "\n",
    "from improutils import *\n",
    "from collections import OrderedDict\n",
    "\n",
    "%matplotlib inline\n",
    "np.set_printoptions(formatter={'float': lambda x: \"{0:0.3f}\".format(x)})"
   ]
  },
  {
   "cell_type": "code",
   "execution_count": null,
   "metadata": {},
   "outputs": [],
   "source": [
    "FACE_FRONTAL = 'haarcascade_frontalface_default.xml'\n",
    "EYES_NO_GLASSES = 'haarcascade_eye.xml'\n",
    "EYES_WITH_GLASSES = 'haarcascade_eye_tree_eyeglasses.xml'\n",
    "FACE_FRONTAL_ALT = 'lbpcascade_frontalface.xml'\n",
    "FACE_PROFILE = 'lbpcascade_profileface.xml'\n",
    "PEDESTRIANS = 'hogcascade_pedestrians.xml'"
   ]
  },
  {
   "cell_type": "markdown",
   "metadata": {},
   "source": [
    "### Příprava obrázku a detekce\n",
    "\n",
    "#### 1) Nasnímejte obrázky obličejů\n",
    "Využijte jakýkoli známý přístup a nasnímejte obrázky obličeje / obličejů a uložte je do složky `data`. Převeďte do odstínů šedi pro detekci Haarovou kaskádou (popř. dalšími modely)."
   ]
  },
  {
   "cell_type": "code",
   "execution_count": null,
   "metadata": {
    "ExecuteTime": {
     "end_time": "2019-07-17T13:18:13.901474Z",
     "start_time": "2019-07-17T13:18:12.560158Z"
    },
    "scrolled": false
   },
   "outputs": [],
   "source": [
    "image = load_image(...) ###\n",
    "image_gray = ...(image) ###\n",
    "\n",
    "plot_images(image, image_gray)"
   ]
  },
  {
   "cell_type": "markdown",
   "metadata": {},
   "source": [
    "#### 2) Vytvořte potřebné detektory\n",
    "Vytvořte objekt / objekty detektorů využívající již předučené modely."
   ]
  },
  {
   "cell_type": "code",
   "execution_count": null,
   "metadata": {},
   "outputs": [],
   "source": [
    "face_detector = cv2.CascadeClassifier(...) ###\n",
    "\n",
    "### další modely ...\n"
   ]
  },
  {
   "cell_type": "markdown",
   "metadata": {},
   "source": [
    "#### 3) Detekujte obličeje. \n",
    "Uvedené parametry funkce `detectMultiScale()` specifikují úroveň škálování a citlivost filtru. Seznamte se s parametry v dokumentaci.\n",
    "\n",
    "__Vizualizujte__ nalezené obličeje pomocí obdélníků. Každý obličej __jinou barvou__."
   ]
  },
  {
   "cell_type": "code",
   "execution_count": null,
   "metadata": {
    "ExecuteTime": {
     "end_time": "2019-07-17T13:06:08.621555Z",
     "start_time": "2019-07-17T13:06:06.589979Z"
    },
    "scrolled": false
   },
   "outputs": [],
   "source": [
    "# Detects faces\n",
    "faces = face_detector.detectMultiScale(..., ..., ...) # experimentujte s nastavením\n",
    "\n",
    "###\n",
    "viz = image.copy()\n",
    "\n",
    "\n",
    "plot_images(viz)"
   ]
  },
  {
   "cell_type": "markdown",
   "metadata": {},
   "source": [
    "#### 3) Experimentujte s dalšími modely na datech z internetu\n",
    "Vyzkoušejte si následující:\n",
    "\n",
    "1. Limitace detektoru obličejů - srovnání Haar a LBP (natočení hlavy, velikosti obličejů aka rozličení, ...)\n",
    "2. Detekce obličeje z profilu\n",
    "3. Detekce očí s brýlemi a bez\n",
    "4. Detekce chodců z obecného obrázku nákupního centra"
   ]
  },
  {
   "cell_type": "code",
   "execution_count": null,
   "metadata": {
    "ExecuteTime": {
     "end_time": "2019-07-17T13:13:06.126965Z",
     "start_time": "2019-07-17T13:13:06.122086Z"
    }
   },
   "outputs": [],
   "source": [
    "###"
   ]
  },
  {
   "cell_type": "markdown",
   "metadata": {},
   "source": [
    "## Zajímavost na doma - OpenFace\n",
    "Tento přístup má jistě mnohá úskalí. Pokud se dotyčný nedívá přímo do kamery nebo pokud má výrazně nakloněnou hlavu, detekce ani popis nemusí fungovat správně. Poté je potřeba dělat trochu více magie, kterou nechcete psát stále dokola. A proto vznikla knihovna OpenFace: https://cmusatyalab.github.io/openface/\n",
    "\n",
    "Doporučuji vyzkoušet."
   ]
  }
 ],
 "metadata": {
  "kernelspec": {
   "display_name": "Python 3 (ipykernel)",
   "language": "python",
   "name": "python3"
  },
  "language_info": {
   "codemirror_mode": {
    "name": "ipython",
    "version": 3
   },
   "file_extension": ".py",
   "mimetype": "text/x-python",
   "name": "python",
   "nbconvert_exporter": "python",
   "pygments_lexer": "ipython3",
   "version": "3.8.11"
  }
 },
 "nbformat": 4,
 "nbformat_minor": 1
}
