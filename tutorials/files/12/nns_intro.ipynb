{
  "nbformat": 4,
  "nbformat_minor": 0,
  "metadata": {
    "kernelspec": {
      "display_name": "Python 3",
      "language": "python",
      "name": "python3"
    },
    "language_info": {
      "codemirror_mode": {
        "name": "ipython",
        "version": 3
      },
      "file_extension": ".py",
      "mimetype": "text/x-python",
      "name": "python",
      "nbconvert_exporter": "python",
      "pygments_lexer": "ipython3",
      "version": "3.6.3"
    },
    "deepnote_notebook_id": "5d2dc7f7-c38f-48c4-b507-736d8edc0665",
    "deepnote_execution_queue": [],
    "colab": {
      "name": "nns-intro.ipynb",
      "provenance": [],
      "collapsed_sections": [],
      "toc_visible": true
    }
  },
  "cells": [
    {
      "cell_type": "code",
      "metadata": {
        "tags": [],
        "cell_id": "355a0512-9b69-4e79-b16c-08dec0218080",
        "output_cleared": true,
        "id": "pYSblfU8Lj47",
        "colab_type": "code",
        "colab": {}
      },
      "source": [
        "!pip install tensorflow"
      ],
      "execution_count": 0,
      "outputs": []
    },
    {
      "cell_type": "code",
      "metadata": {
        "tags": [],
        "cell_id": "ae8f1944-533e-429b-80d5-4d3b391fbe06",
        "id": "4pytoRWaLj5A",
        "colab_type": "code",
        "outputId": "1b36725e-aed4-4e1b-e1e2-af3b19e9d1f5",
        "colab": {}
      },
      "source": [
        "!pip install keras"
      ],
      "execution_count": 0,
      "outputs": [
        {
          "output_type": "stream",
          "text": [
            "Collecting keras\n",
            "\u001b[?25l  Downloading https://files.pythonhosted.org/packages/ad/fd/6bfe87920d7f4fd475acd28500a42482b6b84479832bdc0fe9e589a60ceb/Keras-2.3.1-py2.py3-none-any.whl (377kB)\n",
            "\u001b[K     |████████████████████████████████| 378kB 3.4MB/s eta 0:00:01\n",
            "\u001b[?25hRequirement already satisfied: six>=1.9.0 in /opt/venv/lib/python3.7/site-packages (from keras) (1.13.0)\n",
            "Requirement already satisfied: keras-applications>=1.0.6 in /opt/venv/lib/python3.7/site-packages (from keras) (1.0.8)\n",
            "Requirement already satisfied: scipy>=0.14 in /opt/venv/lib/python3.7/site-packages (from keras) (1.4.1)\n",
            "Requirement already satisfied: keras-preprocessing>=1.0.5 in /opt/venv/lib/python3.7/site-packages (from keras) (1.1.0)\n",
            "Requirement already satisfied: numpy>=1.9.1 in /opt/venv/lib/python3.7/site-packages (from keras) (1.18.1)\n",
            "Requirement already satisfied: h5py in /opt/venv/lib/python3.7/site-packages (from keras) (2.10.0)\n",
            "Collecting pyyaml\n",
            "\u001b[?25l  Downloading https://files.pythonhosted.org/packages/64/c2/b80047c7ac2478f9501676c988a5411ed5572f35d1beff9cae07d321512c/PyYAML-5.3.1.tar.gz (269kB)\n",
            "\u001b[K     |████████████████████████████████| 276kB 20.0MB/s eta 0:00:01\n",
            "\u001b[?25hBuilding wheels for collected packages: pyyaml\n",
            "  Building wheel for pyyaml (setup.py) ... \u001b[?25l-\\|done\n",
            "\u001b[?25h  Created wheel for pyyaml: filename=PyYAML-5.3.1-cp37-cp37m-linux_x86_64.whl size=44620 sha256=b59051586646292b7e78eeb0af9d710e06fbf90bace75579ad9b042541b8ff81\n",
            "  Stored in directory: /home/jovyan/.cache/pip/wheels/a7/c1/ea/cf5bd31012e735dc1dfea3131a2d5eae7978b251083d6247bd\n",
            "Successfully built pyyaml\n",
            "Installing collected packages: pyyaml, keras\n",
            "Successfully installed keras-2.3.1 pyyaml-5.3.1\n",
            "\u001b[33mWARNING: You are using pip version 19.3.1; however, version 20.1 is available.\n",
            "You should consider upgrading via the 'pip install --upgrade pip' command.\u001b[0m\n"
          ],
          "name": "stdout"
        }
      ]
    },
    {
      "cell_type": "code",
      "metadata": {
        "tags": [],
        "cell_id": "75ad6b14-d47e-40d3-9a90-d86e6fd99bd7",
        "id": "sfEJSFWsLj5F",
        "colab_type": "code",
        "outputId": "00d87780-f5e0-4731-fb15-c7b9547c8344",
        "colab": {}
      },
      "source": [
        "import tensorflow as tf\n",
        "import os\n",
        "\n",
        "print(tf.__version__)\n",
        "print(tf.keras.__version__)"
      ],
      "execution_count": 0,
      "outputs": [
        {
          "output_type": "stream",
          "text": [
            "2.1.0\n",
            "2.2.4-tf\n"
          ],
          "name": "stdout"
        }
      ]
    },
    {
      "cell_type": "markdown",
      "metadata": {
        "id": "RVDbn5Y-Lsh5",
        "colab_type": "text"
      },
      "source": [
        "# Data"
      ]
    },
    {
      "cell_type": "code",
      "metadata": {
        "tags": [],
        "cell_id": "ed6e067e-fef1-458c-9f10-bd2f256e119e",
        "id": "nP2GhcHFLj5I",
        "colab_type": "code",
        "colab": {}
      },
      "source": [
        "from tensorflow.keras.utils import to_categorical"
      ],
      "execution_count": 0,
      "outputs": []
    },
    {
      "cell_type": "markdown",
      "metadata": {
        "tags": [],
        "cell_id": "3688cc01-1af3-4401-a276-1f5892b49a7c",
        "id": "_1rg3gTGLj5L",
        "colab_type": "text"
      },
      "source": [
        "## Mnist"
      ]
    },
    {
      "cell_type": "code",
      "metadata": {
        "tags": [],
        "cell_id": "562cafc9-7386-423f-ac2f-3f7f328cbdbc",
        "id": "Ak2cQawhLj5L",
        "colab_type": "code",
        "outputId": "9ee1e96f-4656-437e-d75c-ca89432ca00e",
        "colab": {}
      },
      "source": [
        "from keras.datasets import mnist\n",
        "(mnist_train, mnist_train_labels_sparse), (mnist_test, mnist_test_labels_sparse) = mnist.load_data()"
      ],
      "execution_count": 0,
      "outputs": [
        {
          "output_type": "stream",
          "text": [
            "Using TensorFlow backend.\n",
            "Downloading data from https://s3.amazonaws.com/img-datasets/mnist.npz\n",
            "11493376/11490434 [==============================] - 0s 0us/step\n"
          ],
          "name": "stderr"
        }
      ]
    },
    {
      "cell_type": "code",
      "metadata": {
        "tags": [],
        "cell_id": "4e65ac05-17a5-4b19-99ee-8857d9a517af",
        "id": "3jf908fMLj5O",
        "colab_type": "code",
        "colab": {}
      },
      "source": [
        "mnist_train_norm = mnist_train.astype('float32') / 255\n",
        "mnist_test_norm = mnist_test.astype('float32') / 255\n",
        "\n",
        "mnist_train_labels = to_categorical(mnist_train_labels_sparse)\n",
        "mnist_test_labels = to_categorical(mnist_test_labels_sparse)"
      ],
      "execution_count": 0,
      "outputs": []
    },
    {
      "cell_type": "markdown",
      "metadata": {
        "tags": [],
        "cell_id": "5f97fe8a-633d-4386-b31b-41a2261dd867",
        "id": "9KIfeJjTLj5S",
        "colab_type": "text"
      },
      "source": [
        "## Fashion Mnist"
      ]
    },
    {
      "cell_type": "code",
      "metadata": {
        "tags": [],
        "cell_id": "057d78fe-ea39-46c7-bf01-0a9df5535e30",
        "id": "O3EAOc4ULj5S",
        "colab_type": "code",
        "outputId": "c1b9f527-0f95-48ce-d3ab-1320abbb78b6",
        "colab": {}
      },
      "source": [
        "from keras.datasets import fashion_mnist\n",
        "(fmnist_train, fmnist_train_labels_sparse), (fmnist_test, fmnist_test_labels_sparse) = fashion_mnist.load_data()"
      ],
      "execution_count": 0,
      "outputs": [
        {
          "output_type": "stream",
          "text": [
            "Downloading data from http://fashion-mnist.s3-website.eu-central-1.amazonaws.com/train-labels-idx1-ubyte.gz\n",
            "32768/29515 [=================================] - 0s 3us/step\n",
            "Downloading data from http://fashion-mnist.s3-website.eu-central-1.amazonaws.com/train-images-idx3-ubyte.gz\n",
            "26427392/26421880 [==============================] - 2s 0us/step\n",
            "Downloading data from http://fashion-mnist.s3-website.eu-central-1.amazonaws.com/t10k-labels-idx1-ubyte.gz\n",
            "8192/5148 [===============================================] - 0s 0us/step\n",
            "Downloading data from http://fashion-mnist.s3-website.eu-central-1.amazonaws.com/t10k-images-idx3-ubyte.gz\n",
            "4423680/4422102 [==============================] - 1s 0us/step\n"
          ],
          "name": "stdout"
        }
      ]
    },
    {
      "cell_type": "code",
      "metadata": {
        "tags": [],
        "cell_id": "a302a6d4-b7e1-4388-9d6d-47da1e763f8c",
        "id": "DuP9PFPBLj5W",
        "colab_type": "code",
        "colab": {}
      },
      "source": [
        "mnist_train_norm = mnist_train.astype('float32') / 255\n",
        "mnist_test_norm = mnist_test.astype('float32') / 255\n",
        "\n",
        "mnist_train_labels = to_categorical(mnist_train_labels_sparse)\n",
        "mnist_test_labels = to_categorical(mnist_test_labels_sparse)"
      ],
      "execution_count": 0,
      "outputs": []
    },
    {
      "cell_type": "markdown",
      "metadata": {
        "tags": [],
        "cell_id": "1d515d78-35f3-4fe0-9d28-cdcf9cedccd4",
        "id": "8VnLnxnTLj5Z",
        "colab_type": "text"
      },
      "source": [
        "## Cifar"
      ]
    },
    {
      "cell_type": "code",
      "metadata": {
        "tags": [],
        "cell_id": "bffd53ad-edcc-4416-8de8-8deecd7e269f",
        "id": "YjpHBAxxLj5Z",
        "colab_type": "code",
        "outputId": "782bda16-2929-43a6-9022-77b4d2122ae5",
        "colab": {}
      },
      "source": [
        "from tensorflow.keras.datasets import cifar10\n",
        "(cifar_train, cifar_train_labels_sparse), (cifar_test, cifar_test_labels_sparse) = cifar10.load_data()"
      ],
      "execution_count": 0,
      "outputs": [
        {
          "output_type": "stream",
          "text": [
            "Downloading data from https://www.cs.toronto.edu/~kriz/cifar-10-python.tar.gz\n",
            "170500096/170498071 [==============================] - 3s 0us/step\n"
          ],
          "name": "stdout"
        }
      ]
    },
    {
      "cell_type": "code",
      "metadata": {
        "tags": [],
        "cell_id": "43edbe9d-31ce-4595-b3f6-5f99e58c1e11",
        "id": "EooipuHeLj5c",
        "colab_type": "code",
        "colab": {}
      },
      "source": [
        "cifar_train_norm = cifar_train.astype('float32') / 255\n",
        "cifar_test_norm = cifar_test.astype('float32') / 255\n",
        "\n",
        "cifar_train_labels = to_categorical(cifar_train_labels_sparse)\n",
        "cifar_test_labels = to_categorical(cifar_test_labels_sparse)"
      ],
      "execution_count": 0,
      "outputs": []
    },
    {
      "cell_type": "code",
      "metadata": {
        "tags": [],
        "cell_id": "04a87bdc-246c-4550-a87f-76052cc99a04",
        "id": "T1RTDOb6Lj5f",
        "colab_type": "code",
        "colab": {}
      },
      "source": [
        "import tensorflow as tf\n",
        "import matplotlib.pyplot as plt\n",
        "from tensorflow.keras.models import Sequential\n",
        "from tensorflow.keras.layers import Conv2D, MaxPool2D, Flatten, Dense, UpSampling2D, Activation, Dropout\n",
        "from tensorflow.keras.optimizers import RMSprop\n",
        "import numpy as np\n",
        "\n",
        "import time\n",
        "from timeit import default_timer as timer\n",
        "from datetime import timedelta"
      ],
      "execution_count": 0,
      "outputs": []
    },
    {
      "cell_type": "markdown",
      "metadata": {
        "id": "s3hFfF6HLvoA",
        "colab_type": "text"
      },
      "source": [
        "# Basic feed-forward model"
      ]
    },
    {
      "cell_type": "code",
      "metadata": {
        "tags": [],
        "cell_id": "89fd3b15-5c94-4547-bad9-8bae408eb33e",
        "id": "ORnnPi8NLj5h",
        "colab_type": "code",
        "colab": {}
      },
      "source": [
        "# define a model\n",
        "\n",
        "def modelSimpleNN():\n",
        "  model = Sequential([\n",
        "    Flatten(input_shape=(28, 28)),\n",
        "    Dense(128, activation=tf.nn.relu),\n",
        "    Dense(10, activation=tf.nn.softmax)\n",
        "  ])\n",
        "  \n",
        "  return model"
      ],
      "execution_count": 0,
      "outputs": []
    },
    {
      "cell_type": "code",
      "metadata": {
        "tags": [],
        "cell_id": "497abd93-db86-4301-82fe-d721e268fd03",
        "output_cleared": true,
        "id": "oOfqiWNTLj5k",
        "colab_type": "code",
        "colab": {}
      },
      "source": [
        "# compile the model\n",
        "\n",
        "model = modelSimpleNN()\n",
        "\n",
        "learning_rate = 0.0001\n",
        "loss = 'categorical_crossentropy'\n",
        "opt = tf.keras.optimizers.Adam(learning_rate)\n",
        "\n",
        "model.compile(optimizer=opt, loss=loss, metrics=['accuracy'])"
      ],
      "execution_count": 0,
      "outputs": []
    },
    {
      "cell_type": "code",
      "metadata": {
        "tags": [],
        "cell_id": "a2a83902-ed1a-43ad-86c7-30657b76925d",
        "id": "uW_Ozkj0Lj5n",
        "colab_type": "code",
        "outputId": "89083220-618b-4c59-84a3-1d961871a851",
        "colab": {}
      },
      "source": [
        "# train it\n",
        "\n",
        "epochs = 10\n",
        "batch_size = 32\n",
        "\n",
        "start = timer()\n",
        "history = model.fit(mnist_train_norm, mnist_train_labels, batch_size=batch_size, epochs=epochs, validation_data=(mnist_test_norm, mnist_test_labels), shuffle=True)\n",
        "\n",
        "end = timer()\n",
        "print(timedelta(seconds=end-start))"
      ],
      "execution_count": 0,
      "outputs": [
        {
          "output_type": "stream",
          "text": [
            "Train on 60000 samples, validate on 10000 samples\n",
            "Epoch 1/10\n",
            "60000/60000 [==============================] - 12s 201us/sample - loss: 0.6186 - accuracy: 0.8451 - val_loss: 0.3148 - val_accuracy: 0.9160\n",
            "Epoch 2/10\n",
            "60000/60000 [==============================] - 11s 177us/sample - loss: 0.2858 - accuracy: 0.9214 - val_loss: 0.2467 - val_accuracy: 0.9317\n",
            "Epoch 3/10\n",
            "60000/60000 [==============================] - 10s 168us/sample - loss: 0.2321 - accuracy: 0.9359 - val_loss: 0.2109 - val_accuracy: 0.9403\n",
            "Epoch 4/10\n",
            "60000/60000 [==============================] - 9s 149us/sample - loss: 0.1985 - accuracy: 0.9453 - val_loss: 0.1858 - val_accuracy: 0.9462\n",
            "Epoch 5/10\n",
            "60000/60000 [==============================] - 9s 146us/sample - loss: 0.1743 - accuracy: 0.9517 - val_loss: 0.1671 - val_accuracy: 0.9511\n",
            "Epoch 6/10\n",
            "60000/60000 [==============================] - 8s 140us/sample - loss: 0.1559 - accuracy: 0.9564 - val_loss: 0.1542 - val_accuracy: 0.9556\n",
            "Epoch 7/10\n",
            "60000/60000 [==============================] - 8s 138us/sample - loss: 0.1410 - accuracy: 0.9609 - val_loss: 0.1433 - val_accuracy: 0.9591\n",
            "Epoch 8/10\n",
            "60000/60000 [==============================] - 10s 170us/sample - loss: 0.1287 - accuracy: 0.9644 - val_loss: 0.1338 - val_accuracy: 0.9617\n",
            "Epoch 9/10\n",
            "60000/60000 [==============================] - 9s 142us/sample - loss: 0.1182 - accuracy: 0.9671 - val_loss: 0.1239 - val_accuracy: 0.9634\n",
            "Epoch 10/10\n",
            "60000/60000 [==============================] - 8s 141us/sample - loss: 0.1092 - accuracy: 0.9700 - val_loss: 0.1168 - val_accuracy: 0.9673\n",
            "0:01:34.972766\n"
          ],
          "name": "stdout"
        }
      ]
    },
    {
      "cell_type": "code",
      "metadata": {
        "tags": [],
        "cell_id": "839bc812-9119-4c77-bb35-6f1887d4c4e6",
        "id": "JWJexvv1Lj5p",
        "colab_type": "code",
        "outputId": "09a02ff1-08ad-48cb-f2ca-e3250cee976b",
        "colab": {}
      },
      "source": [
        "# visualize the training process\n",
        "\n",
        "%matplotlib inline\n",
        "import matplotlib\n",
        "matplotlib.rcParams['figure.dpi'] = 150\n",
        "\n",
        "# get training and test loss histories\n",
        "training_loss = history.history['loss']\n",
        "training_acc = history.history['accuracy']\n",
        "\n",
        "val_acc = history.history['val_accuracy']\n",
        "\n",
        "\n",
        "# create count of the number of epochs\n",
        "epoch_count = range(1, len(training_loss) + 1)\n",
        "\n",
        "plt.plot(epoch_count, training_acc, 'b--')\n",
        "plt.plot(epoch_count, val_acc, 'r--')\n",
        "\n",
        "test_loss = history.history['val_loss']\n",
        "plt.plot(epoch_count, test_loss, 'r-')\n",
        "plt.plot(epoch_count, training_loss, 'b-')\n",
        "plt.legend(['Training Accuracy', 'Validation Accuracy'])\n",
        "plt.xlabel('Epoch')\n",
        "plt.ylabel('Accuracy')\n",
        "plt.show();"
      ],
      "execution_count": 0,
      "outputs": [
        {
          "output_type": "display_data",
          "data": {
            "text/plain": [
              "<Figure size 900x600 with 1 Axes>"
            ],
            "image/png": "[encoded data removed]"
          },
          "metadata": {
            "tags": [],
            "needs_background": "light"
          }
        }
      ]
    },
    {
      "cell_type": "code",
      "metadata": {
        "tags": [],
        "cell_id": "73eebfaa-0da8-4fe1-9509-8795e375f511",
        "id": "GNe3PiVALj5s",
        "colab_type": "code",
        "outputId": "6afae078-f2bb-4672-f6c7-6b8d37e087de",
        "colab": {}
      },
      "source": [
        "# does it really work?\n",
        "\n",
        "first_image = mnist_test_norm[5]\n",
        "\n",
        "model.predict(np.array([first_image]))"
      ],
      "execution_count": 0,
      "outputs": [
        {
          "output_type": "execute_result",
          "data": {
            "text/plain": [
              "array([[0.11240999, 0.13442588, 0.07650133, 0.0977638 , 0.09490833,\n",
              "        0.09706885, 0.08888634, 0.11315215, 0.07855142, 0.10633188]],\n",
              "      dtype=float32)"
            ]
          },
          "metadata": {
            "tags": []
          },
          "execution_count": 28
        }
      ]
    },
    {
      "cell_type": "code",
      "metadata": {
        "tags": [],
        "cell_id": "05ae6ad2-cffa-4b4b-8a35-512e1e6c3872",
        "id": "x8PA6mg0Lj5v",
        "colab_type": "code",
        "outputId": "3322b67d-343e-4d98-a51e-36e864aa3ea2",
        "colab": {}
      },
      "source": [
        "mnist_test_labels_sparse[5]"
      ],
      "execution_count": 0,
      "outputs": [
        {
          "output_type": "execute_result",
          "data": {
            "text/plain": [
              "1"
            ]
          },
          "metadata": {
            "tags": []
          },
          "execution_count": 29
        }
      ]
    },
    {
      "cell_type": "code",
      "metadata": {
        "tags": [],
        "cell_id": "4b94941c-b1e9-489d-b183-56b793531118",
        "id": "uiS072XHLj5y",
        "colab_type": "code",
        "outputId": "d25615f2-d132-4f08-86f1-3dcbdd55a86d",
        "colab": {}
      },
      "source": [
        "first_image = np.array(first_image, dtype='float')\n",
        "pixels = first_image.reshape((28, 28))\n",
        "plt.imshow(pixels, cmap='gray')\n",
        "plt.show()"
      ],
      "execution_count": 0,
      "outputs": [
        {
          "output_type": "display_data",
          "data": {
            "text/plain": [
              "<Figure size 900x600 with 1 Axes>"
            ],
            "image/png": "[encoded data removed]"
          },
          "metadata": {
            "tags": [],
            "needs_background": "light"
          }
        }
      ]
    },
    {
      "cell_type": "markdown",
      "metadata": {
        "tags": [],
        "cell_id": "684a348e-9259-4925-9087-98b740d85c5d",
        "id": "nHjwGnRLLj50",
        "colab_type": "text"
      },
      "source": [
        "# Simple CNN with Cifar data"
      ]
    },
    {
      "cell_type": "code",
      "metadata": {
        "tags": [],
        "cell_id": "74ba7012-eb06-4d49-b88f-bb9d8d5ec890",
        "id": "DMZZQCM4Lj51",
        "colab_type": "code",
        "colab": {}
      },
      "source": [
        "# define a model\n",
        "\n",
        "def modelSimpleCNN(num_classes=10, input_shape=(28, 28)):\n",
        "  model = Sequential()\n",
        "  model.add(Conv2D(filters=28, kernel_size=(3, 3), activation='relu', input_shape=input_shape))\n",
        "  model.add(MaxPool2D())\n",
        "  model.add(Conv2D(filters=56, kernel_size=(3, 3), activation='relu'))\n",
        "  model.add(MaxPool2D())\n",
        "  model.add(Flatten())\n",
        "  model.add(Dense(num_classes, activation='softmax'))\n",
        "  \n",
        "  return model"
      ],
      "execution_count": 0,
      "outputs": []
    },
    {
      "cell_type": "code",
      "metadata": {
        "tags": [],
        "cell_id": "d949b4ef-0ea6-4b81-9987-cfa329d36060",
        "id": "oMMeJ-NvLj53",
        "colab_type": "code",
        "colab": {}
      },
      "source": [
        "# compile the model\n",
        "\n",
        "model = modelSimpleCNN(input_shape=(32, 32, 3))\n",
        "\n",
        "learning_rate = 0.0001\n",
        "\n",
        "loss = 'categorical_crossentropy'\n",
        "opt = tf.keras.optimizers.Adam(learning_rate)\n",
        "\n",
        "model.compile(optimizer=opt, loss=loss, metrics=['accuracy'])"
      ],
      "execution_count": 0,
      "outputs": []
    },
    {
      "cell_type": "code",
      "metadata": {
        "tags": [],
        "cell_id": "0155fbe3-4477-41da-8a39-a496e4d622b7",
        "id": "naO1ZvGeLj55",
        "colab_type": "code",
        "outputId": "9c1acb71-62a9-435b-fbea-d467c264075b",
        "colab": {}
      },
      "source": [
        "epochs = 10\n",
        "batch_size = 32\n",
        "\n",
        "start = timer()\n",
        "history = model.fit(cifar_train_norm, cifar_train_labels, batch_size=batch_size, epochs=epochs, validation_data=(cifar_test_norm, cifar_test_labels), shuffle=True)\n",
        "\n",
        "end = timer()\n",
        "print(timedelta(seconds=end-start))"
      ],
      "execution_count": 0,
      "outputs": [
        {
          "output_type": "stream",
          "text": [
            "Train on 50000 samples, validate on 10000 samples\n",
            "Epoch 1/10\n",
            "50000/50000 [==============================] - 57s 1ms/sample - loss: 1.8733 - accuracy: 0.3337 - val_loss: 1.6338 - val_accuracy: 0.4297\n",
            "Epoch 2/10\n",
            "50000/50000 [==============================] - 58s 1ms/sample - loss: 1.5461 - accuracy: 0.4553 - val_loss: 1.4645 - val_accuracy: 0.4874\n",
            "Epoch 3/10\n",
            "50000/50000 [==============================] - 56s 1ms/sample - loss: 1.4264 - accuracy: 0.5000 - val_loss: 1.3803 - val_accuracy: 0.5146\n",
            "Epoch 4/10\n",
            "50000/50000 [==============================] - 57s 1ms/sample - loss: 1.3613 - accuracy: 0.5214 - val_loss: 1.3477 - val_accuracy: 0.5291\n",
            "Epoch 5/10\n",
            "50000/50000 [==============================] - 56s 1ms/sample - loss: 1.3159 - accuracy: 0.5390 - val_loss: 1.3121 - val_accuracy: 0.5396\n",
            "Epoch 6/10\n",
            "50000/50000 [==============================] - 57s 1ms/sample - loss: 1.2801 - accuracy: 0.5533 - val_loss: 1.2789 - val_accuracy: 0.5498\n",
            "Epoch 7/10\n",
            "50000/50000 [==============================] - 57s 1ms/sample - loss: 1.2486 - accuracy: 0.5654 - val_loss: 1.2524 - val_accuracy: 0.5630\n",
            "Epoch 8/10\n",
            "50000/50000 [==============================] - 56s 1ms/sample - loss: 1.2213 - accuracy: 0.5759 - val_loss: 1.2222 - val_accuracy: 0.5764\n",
            "Epoch 9/10\n",
            "50000/50000 [==============================] - 70s 1ms/sample - loss: 1.1967 - accuracy: 0.5843 - val_loss: 1.2002 - val_accuracy: 0.5860\n",
            "Epoch 10/10\n",
            "50000/50000 [==============================] - 58s 1ms/sample - loss: 1.1758 - accuracy: 0.5927 - val_loss: 1.1909 - val_accuracy: 0.5863\n",
            "0:09:45.737248\n"
          ],
          "name": "stdout"
        }
      ]
    },
    {
      "cell_type": "markdown",
      "metadata": {
        "id": "wwrJqqTWMFn0",
        "colab_type": "text"
      },
      "source": [
        "## Task 1 — visualize learning / result of the newtork above"
      ]
    },
    {
      "cell_type": "markdown",
      "metadata": {
        "id": "AKzvXvVmMOzH",
        "colab_type": "text"
      },
      "source": [
        "## Task 2 — train a similar classifier on Fashion Mnist data"
      ]
    },
    {
      "cell_type": "code",
      "metadata": {
        "tags": [],
        "cell_id": "5a7fae92-df52-4d0c-8b56-bde0b19e57d7",
        "id": "0rsL-HB_Lj57",
        "colab_type": "code",
        "colab": {}
      },
      "source": [
        ""
      ],
      "execution_count": 0,
      "outputs": []
    }
  ]
}