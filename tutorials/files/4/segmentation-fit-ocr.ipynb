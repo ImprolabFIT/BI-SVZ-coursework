{
 "cells": [
  {
   "cell_type": "markdown",
   "metadata": {},
   "source": [
    "# Segmentace obrazu - text a jeho čtení\n",
    "Cvičení je zaměřené na správné využití osvětlení při nasvícení objektu a následné využití metod pro segmentaci obrazu."
   ]
  },
  {
   "cell_type": "markdown",
   "metadata": {},
   "source": [
    "### Import knihoven a konfigurace"
   ]
  },
  {
   "cell_type": "code",
   "execution_count": null,
   "metadata": {},
   "outputs": [],
   "source": [
    "import numpy as np\n",
    "import matplotlib\n",
    "import matplotlib.pyplot as plt\n",
    "import cv2\n",
    "from pypylon import pylon \n",
    "from IPython.display import clear_output, display\n",
    "\n",
    "%matplotlib inline"
   ]
  },
  {
   "cell_type": "markdown",
   "metadata": {},
   "source": [
    "### Pomocné funkce\n",
    "Z následujících funkcí je potřeba vybírat ty vhodné pro splnění úkolu."
   ]
  },
  {
   "cell_type": "markdown",
   "metadata": {},
   "source": [
    "Funkce k připojení kamery."
   ]
  },
  {
   "cell_type": "code",
   "execution_count": null,
   "metadata": {
    "code_folding": [
     4,
     33
    ]
   },
   "outputs": [],
   "source": [
    "CAM_WIDTH = 1080\n",
    "CAM_HEIGHT = 720\n",
    "\n",
    "# List of features to create widgets\n",
    "FEATURES = [\n",
    "    {\n",
    "        \"name\": \"GainRaw\",\n",
    "        \"type\": \"int\"\n",
    "    },\n",
    "    {\n",
    "        \"name\": \"ExposureTimeRaw\",\n",
    "        \"type\": \"int\",\n",
    "        \"max\": 35000,\n",
    "        \"min\": 35,\n",
    "        \"step\": 140,\n",
    "        \"value\": 444\n",
    "    },\n",
    "    {\n",
    "        \"name\": \"Height\",\n",
    "        \"type\": \"int_text\",\n",
    "        \"max\": 1200,\n",
    "        \"min\": 100,\n",
    "        \"step\": \"5\"\n",
    "    },\n",
    "    {\n",
    "        \"name\": \"Width\",\n",
    "        \"type\": \"int_text\",\n",
    "        \"max\": 1920,\n",
    "        \"min\": 100,\n",
    "        \"step\": \"5\"\n",
    "    }\n",
    "]\n",
    "\n",
    "def connect_camera(serial_number):\n",
    "    ''' Connects camera specified with its serial number\n",
    "    \n",
    "    Parameters\n",
    "    ----------\n",
    "    serial_number : string\n",
    "        Camera's serial number.\n",
    "    grabbed_images_path : string\n",
    "        Path to folder where the saved images will be stored.\n",
    "    Returns\n",
    "    -------\n",
    "    camera : object\n",
    "    '''\n",
    "    info = None\n",
    "    for i in pylon.TlFactory.GetInstance().EnumerateDevices():\n",
    "        if i.GetSerialNumber() == serial_number:\n",
    "            info = i\n",
    "            break\n",
    "    else:\n",
    "        print('Camera with {} serial number not found'.format(serial_number))\n",
    "\n",
    "    # VERY IMPORTANT STEP! To use Basler PyPylon OpenCV viewer you have to call .Open() method on you camera\n",
    "    if info is not None:\n",
    "        camera = pylon.InstantCamera(pylon.TlFactory.GetInstance().CreateDevice(info)) \n",
    "        camera.Open()\n",
    "        return camera\n",
    "    else:\n",
    "        return None    "
   ]
  },
  {
   "cell_type": "markdown",
   "metadata": {},
   "source": [
    "Funkce pro zobrazení okna s přidáním eventu na klik myší."
   ]
  },
  {
   "cell_type": "code",
   "execution_count": null,
   "metadata": {
    "code_folding": [
     0,
     4
    ]
   },
   "outputs": [],
   "source": [
    "def print_xy(event, x, y, flags, param):\n",
    "    if event == cv2.EVENT_LBUTTONUP:\n",
    "        print('x = %d, y = %d'% (x, y))      \n",
    "        \n",
    "def show_camera_window(img, scale=1):\n",
    "    window_name = 'Camera capture (' + serial_number + ')'\n",
    "    cv2.namedWindow(window_name, cv2.WINDOW_NORMAL | cv2.WINDOW_GUI_NORMAL)\n",
    "    cv2.resizeWindow(window_name, int(img.shape[1] * scale), int(img.shape[0] * scale))\n",
    "    cv2.setMouseCallback(window_name, print_xy)\n",
    "    cv2.imshow(window_name, img)"
   ]
  },
  {
   "cell_type": "markdown",
   "metadata": {},
   "source": [
    "Metody předzpracování."
   ]
  },
  {
   "cell_type": "code",
   "execution_count": null,
   "metadata": {
    "code_folding": [
     0,
     15,
     29,
     43
    ],
    "run_control": {
     "marked": false
    }
   },
   "outputs": [],
   "source": [
    "def to_gray(img):\n",
    "    ''' Converts image to monochrome\n",
    "    \n",
    "    Parameters\n",
    "    ----------\n",
    "    img : numpy.ndarray\n",
    "        Input image.\n",
    "    Returns\n",
    "    -------\n",
    "    Ouput image.\n",
    "    '''\n",
    "    if len(img.shape) == 2:\n",
    "        return img\n",
    "    return cv2.cvtColor(img, cv2.COLOR_BGR2GRAY)\n",
    "\n",
    "def to_hsv(img):\n",
    "    ''' Converts image to HSV (hue, saturation, value) color space.\n",
    "    \n",
    "    Parameters\n",
    "    ----------\n",
    "    img : numpy.ndarray\n",
    "        Input image.\n",
    "    Returns\n",
    "    -------\n",
    "    Ouput image.\n",
    "    '''\n",
    "    dst = cv2.cvtColor(img, cv2.COLOR_BGR2HSV)\n",
    "    return dst\n",
    "\n",
    "def negative(img):\n",
    "    ''' Converts image to its negative\n",
    "    \n",
    "    Parameters\n",
    "    ----------\n",
    "    img : numpy.ndarray\n",
    "        Input image.\n",
    "    Returns\n",
    "    -------\n",
    "    Ouput image.\n",
    "    '''\n",
    "    dst = 255 - img\n",
    "    return dst\n",
    "\n",
    "def crop(img, tl_x, tl_y, br_x, br_y):\n",
    "    ''' Crops image by added coordinates\n",
    "    \n",
    "    Parameters\n",
    "    ----------\n",
    "    img : numpy.ndarray\n",
    "        Input image.\n",
    "    tl_x : int\n",
    "        TOP-LEFT corner's x-coordinate\n",
    "    tl_y : int\n",
    "        TOP-LEFT corner's y-coordinate\n",
    "    br_x : int\n",
    "        BOTTOM-RIGHT corner's x-coordinate\n",
    "    br_y : int\n",
    "        BOTTOM-RIGHT corner's y-coordinate\n",
    "    Returns\n",
    "    -------\n",
    "    Ouput image.\n",
    "    '''\n",
    "    roi = img[tl_y:br_y, tl_x:br_x]\n",
    "    return roi    "
   ]
  },
  {
   "cell_type": "markdown",
   "metadata": {},
   "source": [
    "Metody segmentace."
   ]
  },
  {
   "cell_type": "code",
   "execution_count": null,
   "metadata": {
    "code_folding": [
     0,
     16,
     30,
     47,
     69
    ]
   },
   "outputs": [],
   "source": [
    "def segmentation_one_threshold(img, threshold):\n",
    "    '''Segments image into black & white using one threshold\n",
    "    \n",
    "    Parameters\n",
    "    ----------\n",
    "    img : numpy.ndarray\n",
    "        Input image.\n",
    "    threshold : int\n",
    "        Pixels with value lower than threshold are considered black, the others white.\n",
    "    Returns\n",
    "    -------\n",
    "    Ouput image.\n",
    "    '''\n",
    "    _, dst = cv2.threshold(img, threshold, 255, cv2.THRESH_BINARY)\n",
    "    return dst\n",
    "\n",
    "def segmentation_auto_threshold(img):\n",
    "    '''Segments image into black & white using automatic threshold\n",
    "    \n",
    "    Parameters\n",
    "    ----------\n",
    "    img : numpy.ndarray\n",
    "        Input image.\n",
    "    Returns\n",
    "    -------\n",
    "    Ouput image.\n",
    "    '''\n",
    "    _, dst = cv2.threshold(img, 0, 255, cv2.THRESH_BINARY+cv2.THRESH_OTSU)\n",
    "    return dst\n",
    "\n",
    "def segmentation_two_thresholds(img, lower, higher):\n",
    "    '''Segments image into black & white using two thresholds\n",
    "    \n",
    "    Parameters\n",
    "    ----------\n",
    "    img : numpy.ndarray\n",
    "        Input image.\n",
    "    lower : int\n",
    "        Pixels with value lower than threshold are considered black, the others white.\n",
    "    higher : int\n",
    "        Pixels with value higher than threshold are considered black, the others white.\n",
    "    Returns\n",
    "    -------\n",
    "    Ouput image.\n",
    "    '''\n",
    "    return cv2.inRange(img, min(lower, higher), max(lower, higher))\n",
    "\n",
    "def segmentation_adaptive_threshold(img, size, constant=0):\n",
    "    '''Segments image into black & white using calculated adaptive \n",
    "    threshold using Gaussian function in pixel neighbourhood.\n",
    "    \n",
    "    Parameters\n",
    "    ----------\n",
    "    img : numpy.ndarray\n",
    "        Input image.\n",
    "    size : int\n",
    "        Size of used gaussian. Lowest value is 3. Algorithm uses only odd numbers.\n",
    "    constant : int\n",
    "        Value that is added to calculated threshlod. It could be negative as well as zero as well as positive number.\n",
    "    Returns\n",
    "    -------\n",
    "    Ouput binary image.\n",
    "    '''\n",
    "    if size < 3:\n",
    "        size = 3\n",
    "    elif size % 2 == 0:\n",
    "        size -= 1\n",
    "    return cv2.adaptiveThreshold(img, 255, cv2.ADAPTIVE_THRESH_GAUSSIAN_C, cv2.THRESH_BINARY, size, int(constant))\n",
    "\n",
    "def contours(img_bin, area=0):\n",
    "    '''Finds contours in binary image and filters them using their area. Then it draws binary image\n",
    "    from filtered contours. It counts contours as well.\n",
    "    \n",
    "    Parameters\n",
    "    ----------\n",
    "    img_bin : numpy.ndarray\n",
    "        Input binary image.\n",
    "    area : int\n",
    "        Size of contour that is used to filter all smaller contours out.\n",
    "    Returns\n",
    "    -------\n",
    "    contour_drawn : numpy.ndarray\n",
    "        Output binary image with drawn filled filtered contours.\n",
    "    count : int\n",
    "        Number of found and filtered contours.\n",
    "    '''\n",
    "    _, contours, _  = cv2.findContours(img_bin, cv2.RETR_EXTERNAL, cv2.CHAIN_APPROX_SIMPLE)\n",
    "    contours =  [c for c in contours if cv2.contourArea(c) > area]\n",
    "    contour_drawn = cv2.drawContours(np.zeros(img_bin.shape, dtype=np.uint8), contours, -1, color=(255, 255, 255), thickness=cv2.FILLED)\n",
    "    return contour_drawn, len(contours)    "
   ]
  },
  {
   "cell_type": "markdown",
   "metadata": {},
   "source": [
    "Metody filtrace."
   ]
  },
  {
   "cell_type": "code",
   "execution_count": null,
   "metadata": {
    "code_folding": [
     0,
     15
    ],
    "run_control": {
     "marked": false
    }
   },
   "outputs": [],
   "source": [
    "def filtration_median(img, filter_size):\n",
    "    '''Filters image noise using median algorithm\n",
    "    \n",
    "    Parameters\n",
    "    ----------\n",
    "    img : numpy.ndarray\n",
    "        Input image.\n",
    "    filter_size : int\n",
    "        Size of median filter.\n",
    "    Returns\n",
    "    -------\n",
    "    Ouput image.\n",
    "    '''\n",
    "    return cv2.medianBlur(img, filter_size)   \n",
    "\n",
    "def fill_holes(img_bin, close=False, size=5):\n",
    "    '''Fill holes in found contours. It could merge the contour using close input with appropriate size.\n",
    "    \n",
    "    Parameters\n",
    "    ----------\n",
    "    img_bin : numpy.ndarray\n",
    "        Input binary image.\n",
    "    close : boolean\n",
    "        If it should merge contours with missing points using close operation.\n",
    "    size : int\n",
    "        Size of close operation element.\n",
    "    Returns\n",
    "    -------\n",
    "    Ouput binary image.\n",
    "    '''\n",
    "    if close:\n",
    "        struct = cv2.getStructuringElement(cv2.MORPH_ELLIPSE, (size, size))\n",
    "        img_bin = cv2.morphologyEx(img_bin, cv2.MORPH_CLOSE, struct)\n",
    "    res, _ = contours(img_bin)\n",
    "    return res"
   ]
  },
  {
   "cell_type": "markdown",
   "metadata": {},
   "source": [
    "Metoda pro zobrazení různého množství obrázků."
   ]
  },
  {
   "cell_type": "code",
   "execution_count": null,
   "metadata": {
    "code_folding": [
     0
    ]
   },
   "outputs": [],
   "source": [
    "def show_images(*imgs, scale=1, window_name='Image preview'):\n",
    "    \"\"\" Opens multiple image previews depending on the length of the input *imgs list.\n",
    "    The preview is terminated by pressing the 'q' key.\n",
    "    \n",
    "    Parameters\n",
    "    ----------\n",
    "    *imgs : list\n",
    "        Multiple input images which have to be shown.\n",
    "    scale : double\n",
    "        Scale of shown image window.\n",
    "    window_name : Optional[string]\n",
    "        An optional window name.\n",
    "    Returns\n",
    "    -------\n",
    "    None\n",
    "    \"\"\"\n",
    "    for i, img in enumerate(imgs, 1):\n",
    "        window_name_id = window_name + ' ' + str(i)\n",
    "        cv2.namedWindow(window_name_id, cv2.WINDOW_NORMAL | cv2.WINDOW_GUI_NORMAL)\n",
    "        cv2.resizeWindow(window_name_id, img.shape[1] * scale, img.shape[0] * scale)\n",
    "        cv2.moveWindow(window_name_id, 0, i*10)\n",
    "\n",
    "    while 1:\n",
    "        for i, img in enumerate(imgs, 1):\n",
    "            cv2.imshow(window_name + ' ' + str(i), img)\n",
    "            \n",
    "        k = cv2.waitKey(0)\n",
    "\n",
    "        if k == ord('q'):\n",
    "            break\n",
    "\n",
    "    cv2.destroyAllWindows()"
   ]
  },
  {
   "cell_type": "markdown",
   "metadata": {},
   "source": [
    "Metoda pro OCR obrazu"
   ]
  },
  {
   "cell_type": "code",
   "execution_count": null,
   "metadata": {
    "code_folding": [
     0
    ],
    "run_control": {
     "marked": false
    }
   },
   "outputs": [],
   "source": [
    "def ocr(img):\n",
    "    \"\"\"Detects text in the file.\"\"\"\n",
    "    from google.cloud import vision\n",
    "    client = vision.ImageAnnotatorClient.from_service_account_json('text-recognition-key.json')\n",
    "\n",
    "    import io\n",
    "    import os\n",
    "    path = 'D:\\\\temp\\\\'\n",
    "    os.makedirs(path)\n",
    "    path += 'img_ocr.png'\n",
    "    cv2.imwrite(path, img)\n",
    "    \n",
    "    with io.open(path, 'rb') as image_file:\n",
    "        content = image_file.read()\n",
    "\n",
    "    image = vision.types.Image(content=content)\n",
    "    response = client.text_detection(image=image)\n",
    "    texts = response.text_annotations\n",
    "    \n",
    "    if os.path.exists(path):\n",
    "        os.remove(path)\n",
    "    return texts[1].description"
   ]
  },
  {
   "cell_type": "markdown",
   "metadata": {},
   "source": [
    "Metody ostatní"
   ]
  },
  {
   "cell_type": "code",
   "execution_count": null,
   "metadata": {
    "code_folding": [
     0
    ]
   },
   "outputs": [],
   "source": [
    "def to_intensity(hue_angle):\n",
    "    '''Converts color angle in HUE definition into intensity value of brightness image in opencv\n",
    "    \n",
    "    Parameters\n",
    "    ----------\n",
    "    hue_angle : int\n",
    "        Angle in HUE definition.\n",
    "    Returns\n",
    "    -------\n",
    "    Integer value that represents the same HUE value but in opencv brightness image.\n",
    "    '''\n",
    "    return int(hue_angle * 0.5)"
   ]
  },
  {
   "cell_type": "markdown",
   "metadata": {},
   "source": [
    "---"
   ]
  },
  {
   "cell_type": "markdown",
   "metadata": {},
   "source": [
    "Seznam funkcí pro přehlednost:\n",
    "- `connect_camera(...)`\n",
    "- `show_images(...)`\n",
    "\n",
    "\n",
    "- `to_gray(...)`\n",
    "- `to_hsv(...)`\n",
    "- `negative(...)`\n",
    "- `crop(...)`\n",
    "\n",
    "\n",
    "- `segmentation_one_threshold(...)`\n",
    "- `segmentation_auto_threshold(...)`\n",
    "- `segmentation_two_thresholds(...)`\n",
    "- `segmentation_adaptive_threshold(...)`\n",
    "- `contours(...)`\n",
    "\n",
    "\n",
    "- `filtration_median(...)`\n",
    "- `fill_holes(...)`\n",
    "\n",
    "\n",
    "- `ocr(...)`\n",
    "\n",
    "\n",
    "- `to_intensity(...)`"
   ]
  },
  {
   "cell_type": "markdown",
   "metadata": {},
   "source": [
    "### Úkol\n",
    "Zvolte vhodné funkce pro segmentaci obrazu a přečtěte text na obrazu snímaném kamerou.\n",
    "\n",
    "Pro testování algoritmu využijte funkci `algorithm()`. Funkce je vložena do snímání kamery. Je tak možné v reálném čase pozorovat, co se s obrazem děje. Po změně obsahu funkce je však potřeba načíst znovu i blok pro spuštění snímání z kamery.\n",
    "\n",
    "Po vyladění algoritmu, využijte obrázek z kamery a nechte ho přečíst OCR. V případě, že výsledek bude po porovnání `True`, úkol jste splnili."
   ]
  },
  {
   "cell_type": "markdown",
   "metadata": {},
   "source": [
    "#### 1) Nastavte správně kameru."
   ]
  },
  {
   "cell_type": "code",
   "execution_count": null,
   "metadata": {},
   "outputs": [],
   "source": [
    "serial_number = '' ### vlastní sériové číslo kamery\n",
    "width = 1280\n",
    "height = 720\n",
    "\n",
    "camera = ...(serial_number) ###"
   ]
  },
  {
   "cell_type": "markdown",
   "metadata": {},
   "source": [
    "#### 2) Doplňte funkční verze algoritmů pro nasvícení jednotlivými typy světel."
   ]
  },
  {
   "cell_type": "markdown",
   "metadata": {},
   "source": [
    "**2a)** Funkce pro segmentaci referenčního obrazce (černo-bílý). Osvětlení žádné navíc (při nízkých světelných podmínkách lze využít světlo DOME)."
   ]
  },
  {
   "cell_type": "code",
   "execution_count": null,
   "metadata": {},
   "outputs": [],
   "source": [
    "def algorithm_reference(img):\n",
    "    ###\n",
    "   \n",
    "    return ... ###"
   ]
  },
  {
   "cell_type": "markdown",
   "metadata": {},
   "source": [
    "**2b)** Funkce pro segmentaci obrazce s využitím osvětlení pomocí dvou plošných světel typu bar."
   ]
  },
  {
   "cell_type": "code",
   "execution_count": null,
   "metadata": {},
   "outputs": [],
   "source": [
    "def algorithm_two_bars(img):\n",
    "    ###\n",
    "    \n",
    "    return ... ###"
   ]
  },
  {
   "cell_type": "markdown",
   "metadata": {},
   "source": [
    "**2c)** Funkce pro segmentaci obrazce s využitím osvětlení typu dark field (konzole se 4 bar světly)."
   ]
  },
  {
   "cell_type": "code",
   "execution_count": null,
   "metadata": {},
   "outputs": [],
   "source": [
    "def algorithm_console(img):\n",
    "    ###\n",
    "    \n",
    "    return ... ###"
   ]
  },
  {
   "cell_type": "markdown",
   "metadata": {},
   "source": [
    "Definuje obsah funkce pro zpracování obrazu, konkrétně jeho segmentaci. Je třeba měnit právě upravovaný algoritmus."
   ]
  },
  {
   "cell_type": "code",
   "execution_count": null,
   "metadata": {},
   "outputs": [],
   "source": [
    "def impro(img):\n",
    "    res = ...(img) ###\n",
    "\n",
    "    show_camera_window(res, 1)\n",
    "    return res"
   ]
  },
  {
   "cell_type": "markdown",
   "metadata": {},
   "source": [
    "#### 3) Spusťte snímání a testujte algoritmus pro zpracování obrazu."
   ]
  },
  {
   "cell_type": "markdown",
   "metadata": {},
   "source": [
    "Info k oknu:\n",
    "- Pro spuštění okna kamery je zapotřebí kliknout na tlačítko `Run Interact`. \n",
    "- Okno kamery se vypne stisknutím tlačítka `q`.\n",
    "- Obrázek se uloží stisknutím tlačítka `s`.\n",
    "- Po kliku levého tlačítka myši se vytisknou souřadnice místa v obraze.\n",
    "- Pro projevení změn v nastavení pomocí GUI prvků je nutné ukončit okno kamery a znovu ho spustit."
   ]
  },
  {
   "cell_type": "code",
   "execution_count": null,
   "metadata": {},
   "outputs": [],
   "source": [
    "from pypylon_opencv_viewer import BaslerOpenCVViewer\n",
    "    \n",
    "viewer = BaslerOpenCVViewer(camera)\n",
    "viewer.set_features(FEATURES)\n",
    "viewer.set_impro_function(impro)\n",
    "viewer.run_interaction_continuous_shot(window_size=(width, height))"
   ]
  },
  {
   "cell_type": "markdown",
   "metadata": {},
   "source": [
    "#### 4) Využijte funkční algoritmus na uložené obrázky z kamery.\n",
    "**POZOR:** Dokud nebude vstupní obraz vypadat následovně, **NEPOUŠTĚJTE** se do další části.\n",
    "\n",
    "<img src=\"fit_preprocessed.png\" width=\"200\">"
   ]
  },
  {
   "cell_type": "code",
   "execution_count": null,
   "metadata": {
    "scrolled": true
   },
   "outputs": [],
   "source": [
    "# Celkem 3 obrázky\n",
    "image_paths = [\n",
    "    ### \n",
    "]\n",
    "\n",
    "# Automatický preprocessing vytvořenými algoritmy\n",
    "images_preprocessed = [\n",
    "    algorithm_reference(cv2.imread(image_paths[0])),\n",
    "    algorithm_two_bars(cv2.imread(image_paths[1])),\n",
    "    algorithm_console(cv2.imread(image_paths[2]))\n",
    "]"
   ]
  },
  {
   "cell_type": "markdown",
   "metadata": {},
   "source": [
    "#### 5) Využijte OCR na výsledný binární obrázek\n",
    "**POZOR:** Existuje limit pro použití OCR API. Může se tedy stát, že bude vyhazovat chybu. Je třeba počkat. Proto se doporučuje poslední část cvičení dělat postupně po obrázcích."
   ]
  },
  {
   "cell_type": "markdown",
   "metadata": {},
   "source": [
    "Deklarace výsledného pole textů ze všech úloh"
   ]
  },
  {
   "cell_type": "code",
   "execution_count": null,
   "metadata": {},
   "outputs": [],
   "source": [
    "texts = ['', '', '']"
   ]
  },
  {
   "cell_type": "markdown",
   "metadata": {},
   "source": [
    "Testovací blok pro OCR pro obrázek 1"
   ]
  },
  {
   "cell_type": "code",
   "execution_count": null,
   "metadata": {},
   "outputs": [],
   "source": [
    "texts[0] = ocr(images_preprocessed[0])\n",
    "print('Přečtený text je: ' + texts[0])"
   ]
  },
  {
   "cell_type": "markdown",
   "metadata": {},
   "source": [
    "Testovací blok pro OCR pro obrázek 2"
   ]
  },
  {
   "cell_type": "code",
   "execution_count": null,
   "metadata": {
    "scrolled": false
   },
   "outputs": [],
   "source": [
    "texts[1] = ocr(images_preprocessed[1])\n",
    "print('Přečtený text je: ' + texts[1])"
   ]
  },
  {
   "cell_type": "markdown",
   "metadata": {},
   "source": [
    "Testovací blok pro OCR pro obrázek 2"
   ]
  },
  {
   "cell_type": "code",
   "execution_count": null,
   "metadata": {
    "scrolled": true
   },
   "outputs": [],
   "source": [
    "texts[2] = ocr(images_preprocessed[2])\n",
    "print('Přečtený text je: ' + texts[2])"
   ]
  },
  {
   "cell_type": "markdown",
   "metadata": {},
   "source": [
    "#### 6) Zkontrolujte správnost"
   ]
  },
  {
   "cell_type": "code",
   "execution_count": null,
   "metadata": {},
   "outputs": [],
   "source": [
    "ref_text = 'FIT'\n",
    "\n",
    "for i, text in enumerate(texts):\n",
    "    print('Přečtený text je: ' + text)\n",
    "    \n",
    "    if text == ref_text:\n",
    "        print('-> Úkol ' + str(i+1) + ' jste splnili!')\n",
    "    else:\n",
    "        print('-> Úkol je třeba dál ladit ...')    \n",
    "    print('')"
   ]
  }
 ],
 "metadata": {
  "kernelspec": {
   "display_name": "Python 3",
   "language": "python",
   "name": "python3"
  },
  "language_info": {
   "codemirror_mode": {
    "name": "ipython",
    "version": 3
   },
   "file_extension": ".py",
   "mimetype": "text/x-python",
   "name": "python",
   "nbconvert_exporter": "python",
   "pygments_lexer": "ipython3",
   "version": "3.6.4"
  }
 },
 "nbformat": 4,
 "nbformat_minor": 2
}
