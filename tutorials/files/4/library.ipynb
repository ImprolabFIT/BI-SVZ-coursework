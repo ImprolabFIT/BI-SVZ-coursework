{
 "cells": [
  {
   "cell_type": "code",
   "execution_count": 1,
   "id": "d8681069",
   "metadata": {},
   "outputs": [],
   "source": [
    "import os\n",
    "import io\n",
    "\n",
    "import cv2\n",
    "import numpy as np\n",
    "import matplotlib.pyplot as plt\n",
    "\n",
    "from improutils import *\n",
    "\n",
    "%matplotlib inline\n",
    "np.set_printoptions(formatter={'float': lambda x: \"{0:0.3f}\".format(x)})"
   ]
  },
  {
   "cell_type": "code",
   "execution_count": 13,
   "id": "c22a44d3",
   "metadata": {},
   "outputs": [],
   "source": [
    "def rotate_image(image, angle, image_center=None):\n",
    "    \"\"\" Rotates the input image by specified angle.\n",
    "    \n",
    "    Parameters\n",
    "    ----------\n",
    "    image : np.ndarray\n",
    "        Image to be rotated.\n",
    "    angle : float\n",
    "        Rotation angle.\n",
    "    image_center : Optional[tuple(int, int)]\n",
    "        Center of rotation.\n",
    "    Returns\n",
    "    -------\n",
    "    np.ndarray\n",
    "        Returns the rotated input image by specified angle.\n",
    "    \"\"\"\n",
    "    if image_center is None:\n",
    "        image_center = tuple(np.array(image.shape[1::-1]) / 2)\n",
    "    rot_mat = cv2.getRotationMatrix2D(image_center, angle, 1.0)\n",
    "    result = cv2.warpAffine(image, rot_mat, image.shape[1::-1], flags=cv2.INTER_LINEAR)\n",
    "    return result"
   ]
  },
  {
   "cell_type": "code",
   "execution_count": 15,
   "id": "56bcbd7d",
   "metadata": {},
   "outputs": [],
   "source": [
    "def draw_rotated_text(img, text, point, angle, text_scale, text_color, text_thickness):\n",
    "    img_filled = np.full(img.shape, text_color, dtype=np.uint8)\n",
    "    # create rotated text mask\n",
    "    text_mask = np.zeros((img.shape[0], img.shape[1]), dtype=np.uint8)\n",
    "    cv2.putText(text_mask, \"{:.2f} cm\".format(text), point, 0, text_scale, (255, 255, 255), text_thickness)\n",
    "    if angle > 0:\n",
    "        angle = -angle + 90\n",
    "    elif angle < 0:\n",
    "        angle = angle + 90\n",
    "    text_mask = rotate_image(text_mask, -angle, point)\n",
    "    result = copy_to(img_filled, img.copy(), text_mask)\n",
    "    return result"
   ]
  },
  {
   "cell_type": "code",
   "execution_count": 11,
   "id": "589736f5",
   "metadata": {},
   "outputs": [],
   "source": [
    "def draw_real_sizes(img, rect, width_text, height_text, lbl_size_scale=2, lbl_color=(0, 0, 255), lbl_thickness=8):\n",
    "    tl, tr, br, bl = order_points(cv2.boxPoints(rect))\n",
    "    mid_pt_width = midpoint(tl, tr)\n",
    "    mid_pt_height = midpoint(tr, br)\n",
    "    \n",
    "    # bottom-left points where labels are drawn\n",
    "    pt_label_first =  (int(mid_pt_width[0] - 10), int(mid_pt_width[1] - 10))\n",
    "    pt_label_second = (int(mid_pt_height[0] + 10), int(mid_pt_height[1]))\n",
    "        \n",
    "    result = draw_rotated_text(img, width_text, pt_label_first, rect[2], lbl_size_scale, lbl_color, lbl_thickness)\n",
    "    result = draw_rotated_text(result, height_text, pt_label_second, rect[2], lbl_size_scale, lbl_color, lbl_thickness)\n",
    "    return result"
   ]
  },
  {
   "cell_type": "code",
   "execution_count": 12,
   "id": "9b7e7521",
   "metadata": {},
   "outputs": [],
   "source": [
    "from ipywidgets import interact, interactive, fixed, interact_manual\n",
    "import ipywidgets as widgets\n",
    "def create_slider(min, max, description):\n",
    "    return widgets.IntRangeSlider( min=min, max=max, step=1,value=[min,max], \n",
    "                                   description=description.ljust(30,'\\xa0'), \n",
    "                                   continuous_update=False, \n",
    "                                   orientation='horizontal',\n",
    "                                   style=dict(description_width='initial'),\n",
    "                                   layout=widgets.Layout(width='auto', grid_area='header'),\n",
    "                                  )"
   ]
  },
  {
   "cell_type": "code",
   "execution_count": null,
   "id": "2d8ff7cf",
   "metadata": {},
   "outputs": [],
   "source": []
  }
 ],
 "metadata": {
  "kernelspec": {
   "display_name": "Python 3 (ipykernel)",
   "language": "python",
   "name": "python3"
  },
  "language_info": {
   "codemirror_mode": {
    "name": "ipython",
    "version": 3
   },
   "file_extension": ".py",
   "mimetype": "text/x-python",
   "name": "python",
   "nbconvert_exporter": "python",
   "pygments_lexer": "ipython3",
   "version": "3.8.11"
  }
 },
 "nbformat": 4,
 "nbformat_minor": 5
}
