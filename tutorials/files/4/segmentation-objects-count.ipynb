{
 "cells": [
  {
   "cell_type": "markdown",
   "id": "e6aa77c4",
   "metadata": {},
   "source": [
    "# Segmentace obrazu - počítání objektů\n",
    "Cvičení je zaměřené na správné využití osvětlení při nasvícení objektu a následné využití metod pro segmentaci obrazu k počítání objektů. Je třeba se **zbavit odlesků**, **vyvážit bílou barvu** snímače, **vyladit jas** pomocí histogramu, atd...\n",
    "\n",
    "<img src='images/lentilky_promo.jpg' style=\"width:50%\">\n",
    "<p style=\"text-align: center;\">Ilustrační obrázek špatně nasnímaného objektu. :-)</p>"
   ]
  },
  {
   "cell_type": "markdown",
   "id": "2e448daf",
   "metadata": {
    "cell_id": "00001-3f89a3b3-729d-4929-898f-ef82e8b2fe31",
    "deepnote_cell_type": "markdown"
   },
   "source": [
    "### Import knihoven a konfigurace"
   ]
  },
  {
   "cell_type": "code",
   "execution_count": null,
   "id": "ab0afdd0",
   "metadata": {
    "ExecuteTime": {
     "end_time": "2020-03-19T17:43:31.971831Z",
     "start_time": "2020-03-19T17:43:30.947409Z"
    },
    "cell_id": "00002-6f57b558-9277-4fe9-ad2e-3d2e1e9f81fa",
    "deepnote_cell_type": "code",
    "deepnote_to_be_reexecuted": false,
    "execution_millis": 4,
    "execution_start": 1615726757729,
    "output_cleared": false,
    "source_hash": "82294d7b"
   },
   "outputs": [],
   "source": [
    "%run ./library.ipynb"
   ]
  },
  {
   "cell_type": "markdown",
   "id": "011d85ff",
   "metadata": {
    "cell_id": "00003-b981b792-5f9d-48da-8767-ffb03e832ff8",
    "deepnote_cell_type": "markdown"
   },
   "source": [
    "### Pomocné funkce\n",
    "Z následujících funkcí je potřeba vybírat ty vhodné pro splnění úkolu. Parametry a implementaci funkcí si můžete zobrazit pomocí příkazu `help(function_name)` nebo na https://gitlab.fit.cvut.cz/bi-svz/improutils_package/tree/master/improutils."
   ]
  },
  {
   "cell_type": "markdown",
   "id": "14d6da12",
   "metadata": {
    "cell_id": "00004-433daaf6-6cf2-4f86-a71e-bb7d094e00a3",
    "deepnote_cell_type": "markdown"
   },
   "source": [
    "Seznam funkcí pro přehlednost:\n",
    "- `plot_images(...)`\n",
    "- `load_image(...)`\n",
    "\n",
    "\n",
    "- `to_gray(...)`\n",
    "- `to_hsv(...)`\n",
    "- `negative(...)`\n",
    "- `crop(...)`\n",
    "\n",
    "\n",
    "- `segmentation_one_threshold(...)`\n",
    "- `segmentation_auto_threshold(...)`\n",
    "- `segmentation_two_thresholds(...)`\n",
    "- `find_contours(...)`\n",
    "\n",
    "\n",
    "- `filtration_median(...)`\n",
    "\n",
    "\n",
    "- `to_intensity(...)`"
   ]
  },
  {
   "cell_type": "markdown",
   "id": "2f17441d",
   "metadata": {
    "cell_id": "00005-b179ecf5-1bca-4732-910c-926c127dc109",
    "deepnote_cell_type": "markdown"
   },
   "source": [
    "---"
   ]
  },
  {
   "cell_type": "markdown",
   "id": "f1164fc7",
   "metadata": {},
   "source": [
    "### Úkol\n",
    "Zvolte vhodné funkce pro segmentaci obrazu a spočítejte kolik se na obrázku vyskytuje celkem objektů. Využijte k tomu znalosti o segmentaci objektů podle barvy (*HINT: jiné barevné spektrum než RGB*) a postupně spočtěte objekty stejných barev, které nakonec sečtete dohromady.\n",
    "\n",
    "Na obrázku je vidět převod barvy na úhel v jiném než RGB spektru.\n",
    "<img src='images/color_wheel_hsv.png' style=\"width:25%\">\n",
    "\n",
    "Po vyladění algoritmu na jednotlivé úlohy, demonstrujte algoritmus na pořízeném snímku."
   ]
  },
  {
   "cell_type": "markdown",
   "id": "876e063c",
   "metadata": {},
   "source": [
    "#### 1) Načtěte a zkontrolujte zaznamenaný obrázek."
   ]
  },
  {
   "cell_type": "code",
   "execution_count": null,
   "id": "d33f9858",
   "metadata": {},
   "outputs": [],
   "source": [
    "image_path = ... ###\n",
    "image = ... ###\n",
    "plot_images(image)"
   ]
  },
  {
   "cell_type": "markdown",
   "id": "226028ea",
   "metadata": {},
   "source": [
    "#### 2) Testovací/Pomocná funkce.\n",
    "Zde si můžete interaktivně otestovat váš algoritmus."
   ]
  },
  {
   "cell_type": "code",
   "execution_count": null,
   "id": "34f259d0",
   "metadata": {},
   "outputs": [],
   "source": [
    "@interact( h_range=create_slider(min=0, max=360, description='Hue:'),\n",
    "           s_range=create_slider(min=0, max=255, description='Saturation:'),\n",
    "           v_range=create_slider(min=0, max=255, description='Value:'),)\n",
    "def _(h_range,s_range,v_range):\n",
    "\n",
    "    lower_bound=(to_intensity(h_range[0]), s_range[0], v_range[0]) ###\n",
    "    upper_bound=(to_intensity(h_range[1]), s_range[1], v_range[1]) ###\n",
    "    \n",
    "    ###\n",
    "    \n",
    "    mask =  ... ###\n",
    "\n",
    "    \n",
    "    plot_images(mask, apply_mask(image, mask), titles=['Applied mask', 'Mask'])"
   ]
  },
  {
   "cell_type": "markdown",
   "id": "a917ba8c",
   "metadata": {},
   "source": [
    "#### 3) Doplňte algoritmus pro segmentaci objektů podle vybrané barvy. \n",
    "Vytvořte si konkrétní prahy, které budou vhodné pro danou barvu."
   ]
  },
  {
   "cell_type": "code",
   "execution_count": null,
   "id": "b713b8cd",
   "metadata": {},
   "outputs": [],
   "source": [
    "def get_mask_for(img, color):\n",
    "    if color=='red':\n",
    "        ... ###\n",
    "    elif color=='pink':\n",
    "        ... ###\n",
    "    elif color=='yellow':\n",
    "        ... ###\n",
    "    elif color=='orange':\n",
    "        ... ###\n",
    "    elif color=='purple':\n",
    "        ... ###\n",
    "    elif color=='green':\n",
    "        ... ###\n",
    "    elif color=='blue':\n",
    "        ... ###\n",
    "    else:\n",
    "        raise ValueError(\"Invalid color selected.\")\n",
    "\n",
    "    ###\n",
    "    return mask"
   ]
  },
  {
   "cell_type": "code",
   "execution_count": null,
   "id": "7f575035",
   "metadata": {},
   "outputs": [],
   "source": [
    "def algorithm(img, color):\n",
    "    ### (Preprocessing (Filtrace etc.))\n",
    "    ...\n",
    "    \n",
    "    ### Segmentace podle barvy\n",
    "    mask_bin = get_mask_for(img_hsv, color)\n",
    "    \n",
    "    ###\n",
    "\n",
    "    res = apply_mask(img, mask_bin)\n",
    "    \n",
    "    return res, mask_bin"
   ]
  },
  {
   "cell_type": "markdown",
   "id": "a3cb8b8a",
   "metadata": {},
   "source": [
    "#### 4) Doplňte funkci, která spočte objekty z binární masky."
   ]
  },
  {
   "cell_type": "code",
   "execution_count": null,
   "id": "4834a50b",
   "metadata": {},
   "outputs": [],
   "source": [
    "def count_objects(mask):\n",
    "    min_area, max_area = ..., ... ###\n",
    "    _, count, _ = ...(mask, min_area, max_area) ###\n",
    "    return count"
   ]
  },
  {
   "cell_type": "markdown",
   "id": "c2b8f73c",
   "metadata": {},
   "source": [
    "#### 5) Spusťte výsledný algoritmus pro spočtení objektů libovolné vybrané barvy v obraze. "
   ]
  },
  {
   "cell_type": "code",
   "execution_count": null,
   "id": "edfc2f92",
   "metadata": {
    "scrolled": true
   },
   "outputs": [],
   "source": [
    "selected_color = ... ###\n",
    "\n",
    "\n",
    "result, mask = algorithm(image, selected_color)\n",
    "count = count_objects(mask)\n",
    "\n",
    "print(f'In total {count} {selected_color} objects found.')\n",
    "plot_images(image, result)   "
   ]
  },
  {
   "cell_type": "markdown",
   "id": "cee0c519",
   "metadata": {},
   "source": [
    "#### 6) Doplňte algoritmus tak, aby fungoval pro všechny barvy."
   ]
  },
  {
   "cell_type": "code",
   "execution_count": null,
   "id": "220c34fe",
   "metadata": {},
   "outputs": [],
   "source": [
    "total_count = 0\n",
    "\n",
    "for color in ['red','pink', 'yellow', 'orange', 'purple', 'green', 'blue']:\n",
    "    result, mask = algorithm(image, color)\n",
    "    count = count_objects(mask)\n",
    "    total_count += count\n",
    "    \n",
    "    print(f'{count} {color} objects found.')\n",
    "    plot_images(result)\n",
    "\n",
    "print(f'In total {total_count} objects found.')"
   ]
  }
 ],
 "metadata": {
  "kernelspec": {
   "display_name": "Python 3 (ipykernel)",
   "language": "python",
   "name": "python3"
  },
  "language_info": {
   "codemirror_mode": {
    "name": "ipython",
    "version": 3
   },
   "file_extension": ".py",
   "mimetype": "text/x-python",
   "name": "python",
   "nbconvert_exporter": "python",
   "pygments_lexer": "ipython3",
   "version": "3.9.9"
  }
 },
 "nbformat": 4,
 "nbformat_minor": 5
}
