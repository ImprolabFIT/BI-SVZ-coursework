{
 "cells": [
  {
   "cell_type": "markdown",
   "metadata": {},
   "source": [
    "# Segmentace obrazu - počítání objektů\n",
    "Cvičení je zaměřené na správné využití osvětlení při nasvícení objektu a následné využití metod pro segmentaci obrazu k počítání objektů. Je třeba se **zbavit odlesků**, **vyvážit bílou barvu** snímače, **vyladit jas** pomocí histogramu, atd...\n",
    "\n",
    "<img src='images/lentilky_promo.jpg' style=\"width:50%\">\n",
    "<p style=\"text-align: center;\">Ilustrační obrázek špatně nasnímaného objektu. :-)</p>"
   ]
  },
  {
   "cell_type": "markdown",
   "metadata": {},
   "source": [
    "### Import knihoven a konfigurace"
   ]
  },
  {
   "cell_type": "code",
   "execution_count": null,
   "metadata": {
    "ExecuteTime": {
     "end_time": "2020-03-19T17:43:31.971831Z",
     "start_time": "2020-03-19T17:43:30.947409Z"
    }
   },
   "outputs": [],
   "source": [
    "%run ../svz.ipynb"
   ]
  },
  {
   "cell_type": "markdown",
   "metadata": {},
   "source": [
    "### Pomocné funkce\n",
    "Z následujících funkcí je potřeba vybírat ty vhodné pro splnění úkolu."
   ]
  },
  {
   "cell_type": "markdown",
   "metadata": {},
   "source": [
    "Seznam funkcí pro přehlednost:\n",
    "- [`connect_camera(...)`](../svz.ipynb#connect_functions)\n",
    "- [`show_images(...)`](../svz.ipynb#show_functions)\n",
    "- [`plot_images(...)`](../svz.ipynb#show_functions)\n",
    "- [`load_image(...)`](../svz.ipynb#load_save_functions)\n",
    "\n",
    "\n",
    "- [`to_gray(...)`](../svz.ipynb#preprocessing_functions)\n",
    "- [`to_hsv(...)`](../svz.ipynb#preprocessing_functions)\n",
    "- [`negative(...)`](../svz.ipynb#preprocessing_functions)\n",
    "- [`crop(...)`](../svz.ipynb#preprocessing_functions)\n",
    "\n",
    "\n",
    "- [`segmentation_one_threshold(...)`](../svz.ipynb#segmentation_functions)\n",
    "- [`segmentation_auto_threshold(...)`](../svz.ipynb#segmentation_functions)\n",
    "- [`segmentation_two_thresholds(...)`](../svz.ipynb#segmentation_functions)\n",
    "- [`find_contours(...)`](../svz.ipynb#segmentation_functions)\n",
    "\n",
    "\n",
    "- [`filtration_median(...)`](../svz.ipynb#filtration_functions)\n",
    "\n",
    "\n",
    "- [`to_intensity(...)`](../svz.ipynb#others)"
   ]
  },
  {
   "cell_type": "markdown",
   "metadata": {},
   "source": [
    "---"
   ]
  },
  {
   "cell_type": "markdown",
   "metadata": {},
   "source": [
    "### Úkol\n",
    "Zvolte vhodné funkce pro segmentaci obrazu a spočítejte kolik se na obrázku vyskytuje celkem objektů. Využijte k tomu znalosti o segmentaci objektů podle barvy (*HINT: jiné barevné spektrum než RGB*) a postupně spočtěte objekty stejných barev, které nakonec sečtete dohromady.\n",
    "\n",
    "Na obrázku je vidět převod barvy na úhel v jiném než RGB spektru (ve kterém asi...).\n",
    "<img src='images/color_wheel_hsv.png' style=\"width:25%\">\n",
    "\n",
    "Pro testování algoritmu využijte funkci `algorithm()`. \n",
    "\n",
    "Po vyladění algoritmu na jednotlivé úlohy, demonstrujte každý z nich na nasnímaných datech ať je vidět, že na nasnímání záleží."
   ]
  },
  {
   "cell_type": "markdown",
   "metadata": {},
   "source": [
    "#### 1) Načtěte data pouze lentilek a zobrazte\n",
    "Naučte se využívat funkci `plot_images()`, je přehlednější pro zobrazení dat v rámci jupyter notebooku."
   ]
  },
  {
   "cell_type": "code",
   "execution_count": null,
   "metadata": {
    "ExecuteTime": {
     "end_time": "2020-03-19T19:07:33.058339Z",
     "start_time": "2020-03-19T19:07:32.659718Z"
    }
   },
   "outputs": [],
   "source": [
    "path = '.../' ### nezapomeňte cestu zakončit '/'\n",
    "files = os.listdir(path)\n",
    "\n",
    "images = []\n",
    "\n",
    "for f in files:\n",
    "    if '...' in f: ### najděte společný string v rámci jména pro jednoduchou filtraci\n",
    "        image = ...(path + f) ### načtěte obrázek\n",
    "        images.append(image)\n",
    "        \n",
    "print('Celkem nalezených obrázků: ' + str(len(images)))"
   ]
  },
  {
   "cell_type": "code",
   "execution_count": null,
   "metadata": {
    "ExecuteTime": {
     "end_time": "2020-03-19T17:47:40.117977Z",
     "start_time": "2020-03-19T17:47:36.787106Z"
    },
    "scrolled": false
   },
   "outputs": [],
   "source": [
    "plot_images(*images) ### zobrazte obrázky"
   ]
  },
  {
   "cell_type": "markdown",
   "metadata": {},
   "source": [
    "Za jakých podmínek a jakým světlem byl který obrázek nasnímán?"
   ]
  },
  {
   "cell_type": "code",
   "execution_count": null,
   "metadata": {
    "ExecuteTime": {
     "end_time": "2020-03-19T19:39:20.758052Z",
     "start_time": "2020-03-19T19:39:20.754789Z"
    }
   },
   "outputs": [],
   "source": [
    "# 1 - přímé ring light\n",
    "# 2 - \n",
    "# 3 - \n",
    "# 4 - \n",
    "# 5 - přímé lampa\n",
    "# 6 - \n",
    "# 7 - \n",
    "# 8 - "
   ]
  },
  {
   "cell_type": "markdown",
   "metadata": {},
   "source": [
    "#### 2) Najděte jednobarevné objekty\n",
    "**Zvolte** si barvu objektu a vytvořte algoritmus, který najde objekty **dané barvy**. Ideální je využít nejlépe nasnímaný (nasvětlený) obrázek. Využití statementu `try/except` je zde pouze pro to, aby algoritmus nespadl v případě, že se chce pouze vyzkoušet, co dělá, ale prozatím nebyla snaha vytvářet algoritmus.\n",
    "\n",
    "Seznamte se **se všemi** funkcemi z pomocných funkcí. Minimálně 5 z nich by bylo vhodné použít."
   ]
  },
  {
   "cell_type": "code",
   "execution_count": null,
   "metadata": {
    "ExecuteTime": {
     "end_time": "2020-03-19T20:24:38.485542Z",
     "start_time": "2020-03-19T20:24:38.479534Z"
    },
    "run_control": {
     "marked": false
    }
   },
   "outputs": [],
   "source": [
    "def algorithm(img):\n",
    "    try:\n",
    "        ### Převod do jiné barevné soustavy\n",
    "\n",
    "        \n",
    "        ### Filtrace\n",
    "\n",
    "\n",
    "        ### Segmentace podle barvy\n",
    "\n",
    "\n",
    "        # Zde je potřeba vytvořit binární obrázek (vhodné je hledání kontur)\n",
    "        img_bin, _, _ = ...(img_bin, 2500, 5000)   \n",
    "\n",
    "        # Výsledný obrázek bude výběr z původního pomocí binární masky\n",
    "        res = apply_mask(img, img_bin)\n",
    "        return res, img_bin\n",
    "    except:\n",
    "        return img, img"
   ]
  },
  {
   "cell_type": "markdown",
   "metadata": {},
   "source": [
    "Aplikujte algoritmus na zvolený obrázek."
   ]
  },
  {
   "cell_type": "code",
   "execution_count": null,
   "metadata": {
    "ExecuteTime": {
     "end_time": "2020-03-19T20:24:41.037117Z",
     "start_time": "2020-03-19T20:24:40.327864Z"
    },
    "run_control": {
     "marked": false
    }
   },
   "outputs": [],
   "source": [
    "chosen_image = images[...] ### zvolte ten nejvhodnější obrázek\n",
    "result, _ = algorithm(chosen_image)\n",
    "\n",
    "plot_images(result)"
   ]
  },
  {
   "cell_type": "markdown",
   "metadata": {},
   "source": [
    "#### 3) Spusťte výsledný algoritmus pro spočtení objektů dané barvy v obraze. \n",
    "Vyzkoušejte postupně na všechny snímky, ať je vidět, že na původním dobrém nasnímání záleží."
   ]
  },
  {
   "cell_type": "code",
   "execution_count": null,
   "metadata": {
    "ExecuteTime": {
     "end_time": "2020-03-19T20:24:55.035094Z",
     "start_time": "2020-03-19T20:24:54.463754Z"
    },
    "scrolled": false
   },
   "outputs": [],
   "source": [
    "for i, image in enumerate(images):\n",
    "    _, img_bin = algorithm(image)\n",
    "    _, count, _ = find_contours(img_bin)\n",
    "    print('Celkem je v obraze č. ' + (str(i+1)) + ': ' + str(count) + ' objektů.')"
   ]
  }
 ],
 "metadata": {
  "kernelspec": {
   "display_name": "Python [default]",
   "language": "python",
   "name": "python3"
  },
  "language_info": {
   "codemirror_mode": {
    "name": "ipython",
    "version": 3
   },
   "file_extension": ".py",
   "mimetype": "text/x-python",
   "name": "python",
   "nbconvert_exporter": "python",
   "pygments_lexer": "ipython3",
   "version": "3.6.6"
  }
 },
 "nbformat": 4,
 "nbformat_minor": 2
}
