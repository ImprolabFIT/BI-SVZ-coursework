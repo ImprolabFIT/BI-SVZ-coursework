{
 "cells": [
  {
   "cell_type": "markdown",
   "metadata": {},
   "source": [
    "# Segmentace obrazu a měření rozměrů\n",
    "Základní znalostí při zpracování obrazu je nejenom ideálně nasnímat obraz, ale hlavně ze získaného obrazu dostat použitelné informace. Extrakce objektů z obrazu (oddělení objektů od pozadí) se nazývá segmentace. Nejčastěji se využívá metod prahování, hranové detekce nebo kontur ([viz link](https://circuitdigest.com/tutorial/image-segmentation-using-opencv)).\n",
    "\n",
    "Když už se podaří získat z obrazu objekty, je dále potřeba změřit jejich rozměry - a to nejen v pixelech, ale hlavně reálné rozměry v cm nebo dokonce v menších jednotkách. \n",
    "\n",
    "Na cvičení se bude využívat umělý obrázek s objekty, jejichž rozměry bude třeba automatizovaně získat.\n",
    "\n",
    "![](images/index.jpg)"
   ]
  },
  {
   "cell_type": "markdown",
   "metadata": {},
   "source": [
    "### Import knihoven a konfigurace"
   ]
  },
  {
   "cell_type": "code",
   "execution_count": null,
   "metadata": {},
   "outputs": [],
   "source": [
    "%run ./library.ipynb"
   ]
  },
  {
   "cell_type": "markdown",
   "metadata": {},
   "source": [
    "### Pomocné funkce\n",
    "Z následujících funkcí je potřeba vybírat ty vhodné pro splnění úkolu."
   ]
  },
  {
   "cell_type": "markdown",
   "metadata": {
    "code_folding": [
     0
    ]
   },
   "source": [
    "Seznam funkcí pro přehlednost:\n",
    "\n",
    "\n",
    "Úkol 1\n",
    "- [`load_image(...)`](https://gitlab.fit.cvut.cz/bi-svz/improutils_package/blob/master/improutils/acquisition/img_io.py#L11)\n",
    "- [`plot_images(...)`](https://gitlab.fit.cvut.cz/bi-svz/improutils_package/blob/master/improutils/visualisation/visualisation.py#L11)\n",
    "- [`crop(...)`](https://gitlab.fit.cvut.cz/bi-svz/improutils_package/blob/master/improutils/preprocessing/preprocessing.py#L94)\n",
    "- [`to_gray(...)`](https://gitlab.fit.cvut.cz/bi-svz/improutils_package/blob/master/improutils/preprocessing/preprocessing.py#L4)\n",
    "- [`segmentation_one_threshold(...)`](https://gitlab.fit.cvut.cz/bi-svz/improutils_package/blob/master/improutils/segmentation/segmentation.py#L50)\n",
    "- [`segmentation_two_thresholds(...)`](https://gitlab.fit.cvut.cz/bi-svz/improutils_package/blob/master/improutils/segmentation/segmentation.py#L82)\n",
    "- [`to_hsv(...)`](https://gitlab.fit.cvut.cz/bi-svz/improutils_package/blob/master/improutils/preprocessing/preprocessing.py#L20)\n",
    "- [`to_intensity(...)`](https://gitlab.fit.cvut.cz/bi-svz/improutils_package/blob/master/improutils/segmentation/segmentation.py#L13)\n",
    "- [`cv2.inRange(...)`](https://docs.opencv.org/3.4.1/d2/de8/group__core__array.html#ga48af0ab51e36436c5d04340e036ce981)\n",
    "- [`cv2.minAreaRect(...)`](https://docs.opencv.org/3.1.0/d3/dc0/group__imgproc__shape.html#ga3d476a3417130ae5154aea421ca7ead9)\n",
    "- [`cv2.boxPoints(...)`](https://docs.opencv.org/3.1.0/d3/dc0/group__imgproc__shape.html#gaf78d467e024b4d7936cf9397185d2f5c)\n",
    "\n",
    "Úkol 2\n",
    "- [`draw_rotated_text(...)`](./library.ipynb)\n",
    "- [`draw_real_sizes(...)`](./library.ipynb)"
   ]
  },
  {
   "cell_type": "markdown",
   "metadata": {
    "ExecuteTime": {
     "end_time": "2019-07-15T12:49:02.136951Z",
     "start_time": "2019-07-15T12:49:02.130963Z"
    }
   },
   "source": [
    "---"
   ]
  },
  {
   "cell_type": "markdown",
   "metadata": {},
   "source": [
    "### Úkol 1\n",
    "\n",
    "Úkol je zaměřen na segmentace obrazů, získání kontur objektů a měření poměru rozměrů v cm a pixelech."
   ]
  },
  {
   "cell_type": "markdown",
   "metadata": {},
   "source": [
    "**1) Nasnímejte papír se vzory a uložte jej do složky data. Obrázek poté načtěte a zobrazte. Nakonec nadefinujte proměné s šířkou a výškou referečního objektu.**\n",
    "\n",
    "Obrázek nastavte tak, aby byl ideálně záběr pouze na něj. *HINT: Je možné pomoci si oříznutím obrázku (crop).*"
   ]
  },
  {
   "cell_type": "code",
   "execution_count": null,
   "metadata": {
    "ExecuteTime": {
     "end_time": "2019-07-16T12:53:28.476743Z",
     "start_time": "2019-07-16T12:53:23.558992Z"
    }
   },
   "outputs": [],
   "source": [
    "img_patterns = ... ###\n",
    "...(img_patterns)"
   ]
  },
  {
   "cell_type": "code",
   "execution_count": null,
   "metadata": {
    "ExecuteTime": {
     "end_time": "2019-07-16T12:44:52.143251Z",
     "start_time": "2019-07-16T12:44:52.140254Z"
    }
   },
   "outputs": [],
   "source": [
    "ref_width_real = ... ###\n",
    "ref_height_real = ... ###"
   ]
  },
  {
   "cell_type": "markdown",
   "metadata": {},
   "source": [
    "**2) Převeďte obrázek do šedotónu a segmentací získejte masku referenčního obdélníku.**\n"
   ]
  },
  {
   "cell_type": "code",
   "execution_count": null,
   "metadata": {
    "ExecuteTime": {
     "end_time": "2019-07-16T12:53:36.371134Z",
     "start_time": "2019-07-16T12:53:32.287379Z"
    }
   },
   "outputs": [],
   "source": [
    "img_patterns_gray = ... ###\n",
    "...(img_patterns_gray)"
   ]
  },
  {
   "cell_type": "markdown",
   "metadata": {},
   "source": [
    "Vyberte vhodnou funkci a experimentujte se sliderem (políčko s číselnými hodnotami je editovatelné)."
   ]
  },
  {
   "cell_type": "code",
   "execution_count": null,
   "metadata": {},
   "outputs": [],
   "source": [
    "@interact(threshold_range=create_slider(min=0, max=255, description='Threshold range:',))\n",
    "def _(threshold_range):\n",
    "    mask = ...(img_patterns_gray, threshold_range[0], threshold_range[1]) ###\n",
    "    plot_images(mask)"
   ]
  },
  {
   "cell_type": "markdown",
   "metadata": {},
   "source": [
    "Optimální hodnoty zaneste do funkce:"
   ]
  },
  {
   "cell_type": "code",
   "execution_count": null,
   "metadata": {},
   "outputs": [],
   "source": [
    "mask = ...(img_patterns_gray, ..., ...) ###"
   ]
  },
  {
   "cell_type": "markdown",
   "metadata": {},
   "source": [
    "**3) BONUS: šedotónový obrázek je jen 2D numpy array, proveďte stejnou segmentaci pomocí numpy operací. (1b)**\n",
    "\n",
    "Poznámka: for cyklus **není** numpy operace."
   ]
  },
  {
   "cell_type": "code",
   "execution_count": null,
   "metadata": {},
   "outputs": [],
   "source": [
    "def segment_gray_np(img, l_bound, u_bound):\n",
    "    mask = ... ###\n",
    "    return mask"
   ]
  },
  {
   "cell_type": "code",
   "execution_count": null,
   "metadata": {},
   "outputs": [],
   "source": [
    "mask = segment_gray_np(img_patterns_gray, ..., ...)\n",
    "plot_images(mask)"
   ]
  },
  {
   "cell_type": "markdown",
   "metadata": {},
   "source": [
    "**4) Převeďte obrázek do do vhodné barevné soustavy, získejte masku referenčního obdélníku.**"
   ]
  },
  {
   "cell_type": "markdown",
   "metadata": {},
   "source": [
    "*Hint: Pozor na rozsah hodnot v jednotlivých kanálech cv2.inRange, může se lišit v různých spektrech* \n",
    "![](https://i.stack.imgur.com/YOBFy.png)"
   ]
  },
  {
   "cell_type": "code",
   "execution_count": null,
   "metadata": {},
   "outputs": [],
   "source": [
    "img_patterns_color = ...(img_patterns) ###"
   ]
  },
  {
   "cell_type": "code",
   "execution_count": null,
   "metadata": {},
   "outputs": [],
   "source": [
    "@interact(h_range=create_slider(min=0, max=360, description='Hue:'),\n",
    "          s_range=create_slider(min=0, max=255, description='Saturation:'),\n",
    "          v_range=create_slider(min=0, max=255, description='Value:'))\n",
    "def _(h_range, s_range, v_range):\n",
    "\n",
    "    lower_bound = (to_intensity(...), ..., ...) ###\n",
    "    upper_bound = (to_intensity(...), ..., ...) ###\n",
    "    \n",
    "    mask = ...(img_patterns_color,lower_bound,upper_bound) ###\n",
    "    plot_images(mask, apply_mask(img_patterns, mask))"
   ]
  },
  {
   "cell_type": "markdown",
   "metadata": {},
   "source": [
    "Optimální hodnoty zaneste do funkcí:"
   ]
  },
  {
   "cell_type": "code",
   "execution_count": null,
   "metadata": {},
   "outputs": [],
   "source": [
    "lower_bound = ... ###\n",
    "upper_bound = ... ###\n",
    "\n",
    "mask = ...(img_patterns_color, lower_bound, upper_bound)"
   ]
  },
  {
   "cell_type": "markdown",
   "metadata": {},
   "source": [
    "**5) Naleznete konturu která pokrývá nevětší plochu, otestujte aproximace kontury na obdélník.**\n",
    "\n",
    "Výsledná maska by měla ideálně obsahovat pouze referenční obdelník, v obrazu se ale obecně může vyskytovat i šum. \n",
    "Nyní je nutné získat pozici referenčního obdelníku v obraze masky. \n",
    "Nejjednoduším způsobem je vyhledání kontur (obrysů) v obraze pomocí [cv2.findContours()](https://docs.opencv.org/3.3.1/d3/dc0/group__imgproc__shape.html#ga17ed9f5d79ae97bd4c7cf18403e1689a). Vyhledání kontur funguje jen na binárním černobílém obraze, proto jsme nejdříve museli využít cv2.inRange() k získání masky.\n",
    "\n",
    "Konturu si lze představit jako křivku spojující několik bodů kolem obrysu souvislého objektu. Funkce cv2.findContours() příjímá navíc dva parametry, contour retrieval mode a contour approximation method. Těmito parametry se ve většině případů nemusíme zabývat. Zjednodušeně je tedy nastavíme `mode=cv2.RETR_LIST` a `method=cv2.CHAIN_APPROX_SIMPLE`. Pokud by vás přeci jen zajímaly, můžete si o nich přečíst [zde](https://docs.opencv.org/3.3.1/d4/d73/tutorial_py_contours_begin.html)\n",
    "\n",
    "Vzhledem k šumu, který se na každém snímku vyskytuje, prakticky nikdy nenajdeme konturu pouze jednu. Je tedy nutné následně provést filtrování. V našem případě si vystačíme s výběrem kontury, která má největší plochu.\n",
    "\n",
    "Posledním krokem je validace našeho postupu a vizualizace nalezené kontury pomocí funkce [cv2.drawContours()](https://docs.opencv.org/3.3.1/d6/d6e/group__imgproc__draw.html#ga746c0625f1781f1ffc9056259103edbc).\n",
    "                                                                                "
   ]
  },
  {
   "cell_type": "code",
   "execution_count": null,
   "metadata": {
    "ExecuteTime": {
     "end_time": "2019-07-16T12:53:40.317194Z",
     "start_time": "2019-07-16T12:53:38.206993Z"
    }
   },
   "outputs": [],
   "source": [
    "contours, _  = ...(mask, cv2.RETR_LIST, cv2.CHAIN_APPROX_SIMPLE) ###\n",
    "print(f'Found {len(contours)} contours.')\n",
    "\n",
    "# pick only the contour with the biggest area\n",
    "contour_biggest = max(contours, key=cv2.contourArea)\n",
    "print(f'Biggest contour area: {cv2.contourArea(contour_biggest)}, coordinates:\\n {contour_biggest.reshape((-1, 2)).tolist()}')\n",
    "contour_drawn = cv2.drawContours(img_patterns.copy(), [contour_biggest], -1, color=(255, 0, 0), thickness=5)\n",
    "plot_images(contour_drawn)"
   ]
  },
  {
   "cell_type": "markdown",
   "metadata": {},
   "source": [
    "Z výsledných souřadnic vidíme, že kontura netvoří přesný obdelník, proto ji musíme obdelníkem aproximovat. To lze pomocí funkce [cv2.minAreaRect](https://docs.opencv.org/3.1.0/d3/dc0/group__imgproc__shape.html#ga3d476a3417130ae5154aea421ca7ead9). Návratovou hodnotou této funkce je tuple - (střed obdélníku (x,y), (výška, šířka), úhel rotace obdélníku). Jedna otázka zní, co je výška a co je šířka? Musíte to vždycky kontrolovat okem.\n",
    "\n",
    "Pomocná funkce [cv2.boxPoints()](https://docs.opencv.org/3.1.0/d3/dc0/group__imgproc__shape.html#gaf78d467e024b4d7936cf9397185d2f5c) převádí nalezený obdelník z formátu (střed obdélníku (x,y), (šířka, výška), úhel rotace obdélníku) na 4 rohové body obdélníku ve formátu (x, y). To se může hodit např. k vizualizaci (lze použít jako vstup pro cv2.drawContours()). Pozor, pořadí vrácených bodů není zaručeno."
   ]
  },
  {
   "cell_type": "code",
   "execution_count": null,
   "metadata": {
    "ExecuteTime": {
     "end_time": "2019-07-16T12:53:42.116921Z",
     "start_time": "2019-07-16T12:53:42.110938Z"
    }
   },
   "outputs": [],
   "source": [
    "rect = ... ###\n",
    "print(f'Rect tuple: {rect}')\n",
    "print()\n",
    "print(f'(cx, cy)={rect[0]}')\n",
    "print(f'(height, width)={rect[1]}')\n",
    "print(f'angle={rect[2]}')\n",
    "print()\n",
    "print(f'Rect points: {cv2.boxPoints(rect).tolist()}')\n",
    "\n",
    "box_points_drawn = img_patterns.copy()\n",
    "for p in np.int0(cv2.boxPoints(rect)):\n",
    "    cv2.circle(box_points_drawn,(p[0],p[1]), 10, (0,0,255), -1)\n",
    "plot_images(box_points_drawn)"
   ]
  },
  {
   "cell_type": "markdown",
   "metadata": {},
   "source": [
    "**6) Nalezenou šířku referenčního obdelníku v pixelech můžeme konečně využít k získání poměru skutečné šířky obdélníku v reálných jednotkách a pixelové šířky obdélníku v obraze. Tento poměr budeme následně potřebovat k výpočtu rozměrů ostatních neznámých objektů.**"
   ]
  },
  {
   "cell_type": "code",
   "execution_count": null,
   "metadata": {
    "ExecuteTime": {
     "end_time": "2019-07-16T12:53:43.479280Z",
     "start_time": "2019-07-16T12:53:43.472486Z"
    }
   },
   "outputs": [],
   "source": [
    "ref_width_image, ref_height_image = ... ###\n",
    "real_image_ratio = ... ### \n",
    "print(f'Ratio between real width and image width: {real_image_ratio}')"
   ]
  },
  {
   "cell_type": "markdown",
   "metadata": {},
   "source": [
    "**7) Zkontrolujte si, že přepočtené hodnoty odpovídají reálné velikosti referenčního obdélníku.**"
   ]
  },
  {
   "cell_type": "code",
   "execution_count": null,
   "metadata": {},
   "outputs": [],
   "source": [
    "print(f'real size: {(ref_width_real, ref_height_real)}')\n",
    "print(f'recalculated size: {(ref_width_image*real_image_ratio, ref_height_image*real_image_ratio)}')"
   ]
  },
  {
   "cell_type": "markdown",
   "metadata": {},
   "source": [
    "---"
   ]
  },
  {
   "cell_type": "markdown",
   "metadata": {},
   "source": [
    "### Úkol 2\n",
    "\n",
    "Úkol 1 máme za sebou a už víme poměr mezi rozměrem v cm a pixelech, tím pádem už můžeme naměřit rozměry ostatních objektů na obrázku s neznámými rozměry."
   ]
  },
  {
   "cell_type": "markdown",
   "metadata": {},
   "source": [
    "**1) Libovolným způsobem získejte masky objektů s neznámými skutečnými rozměry.**"
   ]
  },
  {
   "cell_type": "code",
   "execution_count": null,
   "metadata": {
    "ExecuteTime": {
     "end_time": "2019-07-16T12:53:47.317131Z",
     "start_time": "2019-07-16T12:53:45.911364Z"
    }
   },
   "outputs": [],
   "source": [
    "patterns_mask = ... ###\n",
    "plot_images(patterns_mask)"
   ]
  },
  {
   "cell_type": "markdown",
   "metadata": {},
   "source": [
    "**2) Nalezněte v nové masce snímku kontury stejně jako v případě referenčního objektu a následně proveďte filtrování kontur podle jejich obsahu. Prahovou hodnotu obsahu v pixelech (threshold) je nutno zvolit experimentálně.**"
   ]
  },
  {
   "cell_type": "code",
   "execution_count": null,
   "metadata": {
    "ExecuteTime": {
     "end_time": "2019-07-16T12:53:50.639838Z",
     "start_time": "2019-07-16T12:53:48.567501Z"
    }
   },
   "outputs": [],
   "source": [
    "contours, _  = cv2.findContours(patterns_mask, cv2.RETR_LIST, cv2.CHAIN_APPROX_SIMPLE)\n",
    "print(f'Found {len(contours)} contours.')\n",
    "\n",
    "# Filter out noise\n",
    "threshold = ... ###\n",
    "contours =  [c for c in contours if cv2.contourArea(c) > threshold]\n",
    "print(f'After filtering, {len(contours)} contours remained.')\n",
    "\n",
    "contour_drawn = cv2.drawContours(img_patterns.copy(), contours, -1, color=(255, 0, 0 ), thickness=10)\n",
    "plot_images(contour_drawn)\n",
    "\n",
    "# Sort contours by area. Just for better debugging.\n",
    "contours.sort(key=cv2.contourArea, reverse=True)"
   ]
  },
  {
   "cell_type": "markdown",
   "metadata": {},
   "source": [
    "**4) Nalezněte skutečné rozměry objektu**\n",
    "\n",
    "Nyní potřebujeme pro jednotlivé kontury zjistit jejich skutečné rozměry, které chceme vizualizovat do výsledného obrázku.\n",
    "\n",
    "Pro každou konturu tedy získáme jeji obdélníkovou aproximaci pomocí [cv2.minAreaRect](https://docs.opencv.org/3.1.0/d3/dc0/group__imgproc__shape.html#ga3d476a3417130ae5154aea421ca7ead9). Následně můžeme vypočítat skutečnou šířku a výšku objektu, díky předešlému vypočítanému poměru mezi skutečnou šířkou a pixelovou šířkou. Posledním krokem je volání funkce `draw_real_sizes()`, která se do vstupního obrázku pokusí vykreslit rozměry nalezeného objektu.\n",
    "\n",
    "_Poznámka: pokud funkce `draw_real_sizes` vyhazuje chybu, změňte crop obrázku, jelikož funkce nemá dost místa, aby na okrajích vypsala text._"
   ]
  },
  {
   "cell_type": "code",
   "execution_count": null,
   "metadata": {
    "ExecuteTime": {
     "end_time": "2019-07-16T12:56:56.608161Z",
     "start_time": "2019-07-16T12:56:49.289255Z"
    }
   },
   "outputs": [],
   "source": [
    "# create a copy of original image\n",
    "sizes_drawn = img_patterns.copy()\n",
    "\n",
    "for c in contours:\n",
    "    rect = ... ###\n",
    "    shape_width, shape_height = ... ### \n",
    "    real_width = ...  ###\n",
    "    real_height = ... ###\n",
    "    print(rect[1], real_width, real_height)\n",
    "    \n",
    "    cv2.drawContours(sizes_drawn, [c], -1, color=(255, 0, 0 ), thickness=5)\n",
    "    sizes_drawn = draw_real_sizes(\n",
    "        ...,\n",
    "        ...,\n",
    "        ...,\n",
    "        ..., \n",
    "        lbl_size_scale=.7,\n",
    "        lbl_color=(0, 0, 255),\n",
    "        lbl_thickness=1\n",
    "    ) ###\n",
    "\n",
    "plot_images(sizes_drawn)"
   ]
  }
 ],
 "metadata": {
  "kernelspec": {
   "display_name": "Python 3 (ipykernel)",
   "language": "python",
   "name": "python3"
  },
  "language_info": {
   "codemirror_mode": {
    "name": "ipython",
    "version": 3
   },
   "file_extension": ".py",
   "mimetype": "text/x-python",
   "name": "python",
   "nbconvert_exporter": "python",
   "pygments_lexer": "ipython3",
   "version": "3.8.11"
  }
 },
 "nbformat": 4,
 "nbformat_minor": 2
}
