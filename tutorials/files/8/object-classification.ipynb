{
 "cells": [
  {
   "cell_type": "markdown",
   "metadata": {},
   "source": [
    "# Klasifikace objektů\n",
    "Cvičení je zaměřené na jednotlivé metody klasifikace objektů od jednodušších pomocí popisných tvarových charakteristik až po sofostikované neuronové sítě.\n",
    "\n",
    "## Tvarové charakteristiky\n",
    "..."
   ]
  },
  {
   "cell_type": "markdown",
   "metadata": {},
   "source": [
    "### Import knihoven a konfigurace"
   ]
  },
  {
   "cell_type": "code",
   "execution_count": null,
   "metadata": {},
   "outputs": [],
   "source": [
    "%run ../svz.ipynb\n",
    "from collections import OrderedDict"
   ]
  },
  {
   "cell_type": "markdown",
   "metadata": {},
   "source": [
    "### Pomocné funkce\n",
    "Z následujících funkcí je potřeba vybírat ty vhodné pro splnění úkolu."
   ]
  },
  {
   "cell_type": "markdown",
   "metadata": {},
   "source": [
    "<a id='new_functions'>Nové funkce pro daný notebook.</a> Změna rozlišení obrazu na zvolené rozlišení, logický AND dvou obrazů a automatický ořez binárního objektu pomocí jeho bounding boxu."
   ]
  },
  {
   "cell_type": "code",
   "execution_count": null,
   "metadata": {
    "code_folding": [
     0,
     3,
     6
    ]
   },
   "outputs": [],
   "source": [
    "def resize(im, size):\n",
    "    return cv2.resize(im, size, cv2.INTER_AREA)\n",
    "\n",
    "def logical_and(bin_im, bin_mask):\n",
    "    return cv2.bitwise_and(bin_im, bin_mask)\n",
    "\n",
    "def crop_by_bounding_rect(img_bin):\n",
    "    _, contours, _  = cv2.findContours(img_bin, cv2.RETR_EXTERNAL, cv2.CHAIN_APPROX_SIMPLE)\n",
    "    tl_x, tl_y, w, h = cv2.boundingRect(contours[0])\n",
    "    return crop(img_bin, tl_x, tl_y, tl_x+w, tl_y+h)"
   ]
  },
  {
   "cell_type": "markdown",
   "metadata": {},
   "source": [
    "Vytvoří databázi popisných charakteristik tvarů v dostupné složce ze souborů obrázků."
   ]
  },
  {
   "cell_type": "code",
   "execution_count": null,
   "metadata": {
    "code_folding": [
     0
    ],
    "run_control": {
     "marked": false
    }
   },
   "outputs": [],
   "source": [
    "def create_shape_db(folder, functions):\n",
    "    db = OrderedDict()\n",
    "    path, dirs, files = next(os.walk(folder))\n",
    "\n",
    "    for file in files:\n",
    "        image = cv2.imread(path + file, 0)\n",
    "\n",
    "        shape_descriptions = list()\n",
    "        for func in functions:\n",
    "            shape_descriptions.append(func(image))\n",
    "\n",
    "        key = file.split('.')[0]\n",
    "        db[key] = np.array(shape_descriptions)\n",
    "    return db"
   ]
  },
  {
   "cell_type": "markdown",
   "metadata": {},
   "source": [
    "Třída pro práci s popisnými charakteristikami tvarů a jednotlivé dílčí funkce."
   ]
  },
  {
   "cell_type": "code",
   "execution_count": null,
   "metadata": {
    "code_folding": [
     1,
     24,
     29,
     38,
     46,
     56,
     66,
     75
    ],
    "run_control": {
     "marked": false
    }
   },
   "outputs": [],
   "source": [
    "# Dimensionless descriptors\n",
    "class ShapeDescriptors:\n",
    "    def form_factor(area, perimeter):\n",
    "        return (4 * np.pi * area) / (perimeter * perimeter)\n",
    "    \n",
    "    def roundness(area, max_diameter):\n",
    "        return (4 * area) / (np.pi * max_diameter * max_diameter)\n",
    "    \n",
    "    def aspect_ratio(min_diameter, max_diameter):\n",
    "        return min_diameter / max_diameter;\n",
    "    \n",
    "    def convexity(perimeter, convex_perimeter):\n",
    "        return convex_perimeter / perimeter\n",
    "    \n",
    "    def solidity(area, convex_area):\n",
    "        return area / convex_area\n",
    "    \n",
    "    def compactness(area, max_diameter):\n",
    "        return np.sqrt(4 / np.pi * area) / max_diameter;\n",
    "        \n",
    "    def extent(area, bounding_rectangle_area):\n",
    "        return area / bounding_rectangle_area;\n",
    "\n",
    "# Špičatost\n",
    "def form_factor(bin_im):\n",
    "    _, _, conts = contours(bin_im)\n",
    "    return ShapeDescriptors.form_factor(cv2.contourArea(conts[0]), cv2.arcLength(conts[0], True))\n",
    "\n",
    "# Kulatost\n",
    "def roundness(bin_im):\n",
    "    _, _, conts = contours(bin_im)\n",
    "    area = cv2.contourArea(conts[0])\n",
    "    _,radius = cv2.minEnclosingCircle(conts[0])\n",
    "    r = ShapeDescriptors.roundness(area, 2*radius)\n",
    "    if r > 1: r = 1\n",
    "    return r\n",
    "\n",
    "# Poměr stran\n",
    "def aspect_ratio(bin_im):\n",
    "    _, _, conts = contours(bin_im)\n",
    "    dims = cv2.minAreaRect(conts[0])[1]\n",
    "    min_diameter = min(dims)\n",
    "    max_diameter = max(dims)\n",
    "    return ShapeDescriptors.aspect_ratio(min_diameter, max_diameter)\n",
    "    \n",
    "# Konvexita, vypouklost\n",
    "def convexity(bin_im):\n",
    "    _, _, conts = contours(bin_im)\n",
    "    hull = cv2.convexHull(conts[0], None, True, True)\n",
    "    per = cv2.arcLength(conts[0], True)\n",
    "    conv_per = cv2.arcLength(hull, True)\n",
    "    r = ShapeDescriptors.convexity(per, conv_per)\n",
    "    if r > 1: r = 1\n",
    "    return r \n",
    "\n",
    "# Plnost, celistvost\n",
    "def solidity(bin_im):\n",
    "    _, _, conts = contours(bin_im)\n",
    "    hull = cv2.convexHull(conts[0], None, True, True)\n",
    "    area = cv2.contourArea(conts[0])\n",
    "    conv_area = cv2.contourArea(hull)\n",
    "    r = ShapeDescriptors.solidity(area, conv_area)\n",
    "    if r > 1: r = 1\n",
    "    return r \n",
    "    \n",
    "# Kompaktnost, hutnost\n",
    "def compactness(bin_im):\n",
    "    _, _, conts = contours(bin_im)\n",
    "    area = cv2.contourArea(conts[0])\n",
    "    max_diameter = max(cv2.minAreaRect(conts[0])[1])\n",
    "    r = ShapeDescriptors.compactness(area, max_diameter)\n",
    "    if r > 1: r = 1\n",
    "    return r \n",
    "    \n",
    "# Dosah, rozměrnost\n",
    "def extent(bin_im):\n",
    "    _, _, conts = contours(bin_im)\n",
    "    area = cv2.contourArea(conts[0])\n",
    "    w, h = cv2.minAreaRect(conts[0])[1]\n",
    "    return ShapeDescriptors.extent(area, w*h)"
   ]
  },
  {
   "cell_type": "markdown",
   "metadata": {},
   "source": [
    "---"
   ]
  },
  {
   "cell_type": "markdown",
   "metadata": {},
   "source": [
    "Seznam předchozích funkcí pro přehlednost:\n",
    "- [`connect_camera(...)`](../svz.ipynb#connect_functions)\n",
    "\n",
    "\n",
    "- [`show_images(...)`](../svz.ipynb#show_functions)\n",
    "- [`plot_images(...)`](../svz.ipynb#show_functions)\n",
    "\n",
    "\n",
    "- [`to_gray(...)`](../svz.ipynb#preprocessing_functions)\n",
    "- [`to_hsv(...)`](../svz.ipynb#preprocessing_functions)\n",
    "- [`negative(...)`](../svz.ipynb#preprocessing_functions)\n",
    "- [`crop(...)`](../svz.ipynb#preprocessing_functions)\n",
    "\n",
    "\n",
    "- [`segmentation_one_threshold(...)`](../svz.ipynb#segmentation_functions)\n",
    "- [`segmentation_auto_threshold(...)`](../svz.ipynb#segmentation_functions)\n",
    "- [`segmentation_two_thresholds(...)`](../svz.ipynb#segmentation_functions)\n",
    "- [`contours(...)`](../svz.ipynb#segmentation_functions)\n",
    "\n",
    "\n",
    "- [`filtration_median(...)`](../svz.ipynb#filtration_functions)\n",
    "- [`fill_holes(...)`](../svz.ipynb#filtration_functions)\n",
    "\n",
    "\n",
    "- [`ocr(...)`](../svz.ipynb#ocr)\n",
    "\n",
    "\n",
    "- [`to_intensity(...)`](../svz.ipynb#others)\n",
    "\n",
    "\n",
    "- [`warp_to_cartesian(...)`](../svz.ipynb#cart_polar_functions)\n",
    "- [`warp_to_polar(...)`](../svz.ipynb#cart_polar_functions)\n",
    "- [`rotate(...)`](../svz.ipynb#cart_polar_functions)\n",
    "\n",
    "\n",
    "- [`artificial_circle_image(...)`](../svz.ipynb#artificial_funtions)"
   ]
  },
  {
   "cell_type": "markdown",
   "metadata": {},
   "source": [
    "### Úkol\n",
    "Automaticky poznejte, o který předmět z databáze se jedná. Segmentujte vhodně snímaný objekt z obrazu, následně ho oceňte pomocí tvarových charakteristik a srovnejte z databází. "
   ]
  },
  {
   "cell_type": "markdown",
   "metadata": {},
   "source": [
    "#### 1) Vytvořte databázi popisných charakteristik tvarů\n",
    "Ve složce `db` jsou k dispozici obrázky objektů. Vytvořte databázi jejich popisných charakteristik s využitím takových funkcí, které máte k dispozici.\n",
    "\n",
    "![](db.png)"
   ]
  },
  {
   "cell_type": "code",
   "execution_count": null,
   "metadata": {},
   "outputs": [],
   "source": [
    "folder = '' ###\n",
    "functions = [] ###\n",
    "\n",
    "# Vytvoří databázi\n",
    "db = create_shape_db(folder, functions)"
   ]
  },
  {
   "cell_type": "markdown",
   "metadata": {},
   "source": [
    "#### 2) Nasnímejte vlastní objekty\n",
    "S využitím jakéhokoli nástroje nasnímejte vlastní obrazová data objektů. Využijte k tomu zadní osvětlení (backlight). \n",
    "\n",
    "**Poznámka:** Nasnímejte také obrázek samotného pozadí s backlightem. Bude se hodit pro zjednodušení segmentace."
   ]
  },
  {
   "cell_type": "code",
   "execution_count": null,
   "metadata": {},
   "outputs": [],
   "source": [
    "name = '' ###\n",
    "background_name = '' ###\n",
    "\n",
    "image = cv2.imread(name)\n",
    "background = cv2.imread(background_name)"
   ]
  },
  {
   "cell_type": "markdown",
   "metadata": {},
   "source": [
    "#### 3) Segmentujte pozadí\n",
    "S využitím jednoduchých funkcí vytvořte binární masku nasnímaného pozadí zadního nasvícení. Bude dále využita k segmentaci složitější scény."
   ]
  },
  {
   "cell_type": "code",
   "execution_count": null,
   "metadata": {},
   "outputs": [],
   "source": [
    "def binary_mask_from_background(background_image):\n",
    "    ###\n",
    "    \n",
    "    \n",
    "    return mask"
   ]
  },
  {
   "cell_type": "code",
   "execution_count": null,
   "metadata": {},
   "outputs": [],
   "source": [
    "mask = binary_mask_from_background(background)\n",
    "show_images(mask)"
   ]
  },
  {
   "cell_type": "markdown",
   "metadata": {},
   "source": [
    "#### 4) Segmentujte objekty\n",
    "S využitím již známých a [nově přidaných](#new_functions) funkcí vytvořte algoritmus segmentace objektu z obrazu. Cílem je vytvořit takový algoritmus, který z obrazu vytvoří jeho siluetu ořízlou pouze na její velikost (viz ukázka databáze z [Úkolu 1](#1\\)-Vytvořte-databázi-popisných-charakteristik-tvarů)). Využijte stále zadního nasvícení a již segmentovaného pozadí z minulého úkolu."
   ]
  },
  {
   "cell_type": "code",
   "execution_count": null,
   "metadata": {},
   "outputs": [],
   "source": [
    "def segment_object(image, background):\n",
    "    ### \n",
    "    \n",
    "    \n",
    "    return binary_object_cropped"
   ]
  },
  {
   "cell_type": "code",
   "execution_count": null,
   "metadata": {},
   "outputs": [],
   "source": [
    "binary_object = segment_object(image, mask)\n",
    "show_images(binary_object)"
   ]
  },
  {
   "cell_type": "markdown",
   "metadata": {},
   "source": [
    "#### 5) Spočtěte popisné charakteristiky\n",
    "U vašeho vytvořeného segmentovaného ořízlého binárního objektu spočtěte popisné tvarové charakteristiky."
   ]
  },
  {
   "cell_type": "code",
   "execution_count": null,
   "metadata": {},
   "outputs": [],
   "source": [
    "shape_descriptions = list()\n",
    "\n",
    "### Postupně nebo automaticky\n",
    "###\n",
    "\n",
    "\n",
    "    \n",
    "# Konverze do np.array formátu\n",
    "shape_descriptions = np.array(shape_descriptions)"
   ]
  },
  {
   "cell_type": "markdown",
   "metadata": {},
   "source": [
    "#### 6) Zjistěte, o který objekt z databáze se jedná"
   ]
  },
  {
   "cell_type": "code",
   "execution_count": null,
   "metadata": {},
   "outputs": [],
   "source": [
    "results = list()\n",
    "for key in db:\n",
    "    results.append(np.linalg.norm(db[key] - shape_descriptions))\n",
    "\n",
    "result = min(results)\n",
    "result_key = list(db.keys())[np.argmin(results)]\n",
    "\n",
    "print('Jedná se o objekt: ' + result_key)\n",
    "plot_images(binary_object)"
   ]
  }
 ],
 "metadata": {
  "kernelspec": {
   "display_name": "Python [default]",
   "language": "python",
   "name": "python3"
  },
  "language_info": {
   "codemirror_mode": {
    "name": "ipython",
    "version": 3
   },
   "file_extension": ".py",
   "mimetype": "text/x-python",
   "name": "python",
   "nbconvert_exporter": "python",
   "pygments_lexer": "ipython3",
   "version": "3.6.6"
  }
 },
 "nbformat": 4,
 "nbformat_minor": 2
}
