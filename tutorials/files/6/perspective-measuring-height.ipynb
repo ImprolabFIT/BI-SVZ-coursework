{
 "cells": [
  {
   "cell_type": "markdown",
   "metadata": {},
   "source": [
    "# Perspektiva - měření výšky v obraze\n",
    "Cvičení je zaměřené na vyzkoušení si měření výšky objektů v obraze pomocí úběžníků a úběžnic (viz přednáška [Perspektiva a geometrie obrazu](../../../lectures/files/bi-svz-05-perspektiva-obrazu.pdf)). \n",
    "\n",
    "Z pohledu zpracování obrazu se jedná o hranovou detekci pomocí [Cannyho detektoru](https://en.wikipedia.org/wiki/Canny_edge_detector) následovanou [Houghovou transformací](https://en.wikipedia.org/wiki/Hough_transform), která nalezené hrany aproximuje přímkami. K zisku úběžníků a úběžnic z nalezených přímek je využit algoritmus [RANSAC](https://en.wikipedia.org/wiki/Random_sample_consensus) převzatý z [githubu](https://github.com/chsasank/Image-Rectification). Ten vyhledá nejvhodnější přímky jdoucí stejným směrem postupně do všech tří úběžníků.\n",
    "\n",
    "Následně je využit vlastní algoritmus pro odhad výšky objektů `HeightEstimator` na základě měření známých rozměrů v obraze. **Měřit je nutné vždy od spojnice roviny horizontální s rovinou vertikální ve směru osy z.**\n",
    "\n",
    "Na obrázku příkladu je znázorněno měření dvou referenčních vzdáleností. Dále je na něm znázorněna reálná výška dvou objektů - osob. Měření se zadává vždy v pořadí: bod TL (top-left) a následně bod BR (bottom-right).\n",
    "\n",
    "![](images/miry.png)"
   ]
  },
  {
   "cell_type": "markdown",
   "metadata": {},
   "source": [
    "### Import knihoven a konfigurace"
   ]
  },
  {
   "cell_type": "code",
   "execution_count": null,
   "metadata": {},
   "outputs": [],
   "source": [
    "%run ../svz.ipynb\n",
    "\n",
    "from skimage import feature, color, transform\n",
    "\n",
    "import warnings\n",
    "warnings.filterwarnings('ignore')"
   ]
  },
  {
   "cell_type": "markdown",
   "metadata": {},
   "source": [
    "### Pomocné funkce\n",
    "Seznam funkcí pro přehlednost:\n",
    "- [`show_images(...)`](../svz.ipynb#show_functions)\n",
    "\n",
    "\n",
    "- [`Funkce a modely pro výpočty odhadu výšky`](../svz.ipynb#height_estimation_functions)"
   ]
  },
  {
   "cell_type": "markdown",
   "metadata": {
    "ExecuteTime": {
     "end_time": "2019-07-15T13:45:02.504824Z",
     "start_time": "2019-07-15T13:45:02.499867Z"
    }
   },
   "source": [
    "---"
   ]
  },
  {
   "cell_type": "markdown",
   "metadata": {},
   "source": [
    "### Úkol\n",
    "Vytvořte umělou scénu sestávající se ze dvou šachovnic na sebe kolmých. Do scény umístěte objekt, jehož výšku chcete změřit pomocí kamery.\n",
    "\n",
    "Kamerou získejte obrázek a uložte ho. Následně změřte ručně v obraze dvě a více vzdáleností ve směru osy z (čím více vzdáleností, tím přesnější výsledek). Stejné vzdálenosti změřte i v reálné scéně.\n",
    "\n",
    "Pomocí algoritmu získejte úběžnice a úběžníky. Pomocí nich spočtěte reálnou výšku objektu v obraze."
   ]
  },
  {
   "cell_type": "markdown",
   "metadata": {},
   "source": [
    "#### 1) Vytvořte umělou scénu a změřte reálné rozměry v ose z\n",
    "Umělá scéna by měla vypadat nějak podobně jako na obrázku. \n",
    "\n",
    "<img src=\"images/artificial_scene_chess.png\" width=\"50%\">"
   ]
  },
  {
   "cell_type": "markdown",
   "metadata": {},
   "source": [
    "#### 2) Získejte obrázek umělé scény kamerou Basler\n",
    "Využijte jakýkoli nástroj, se kterým se již pracovalo (Pylon, [Práce s Basler kamerami notebook](../2/basler-introduction.ipynb)). Dejte pozor na ideální světelné podmínky, zaostření, clonu, expoziční čas, atd!\n",
    "\n",
    "V případě, že záběr obrázku je větší než samotná scéna, ořízněte si obrázek tak, aby na něm okolí nebylo."
   ]
  },
  {
   "cell_type": "code",
   "execution_count": null,
   "metadata": {},
   "outputs": [],
   "source": [
    "image_path = '' ###\n",
    "img = cv2.imread(image_path)"
   ]
  },
  {
   "cell_type": "markdown",
   "metadata": {},
   "source": [
    "#### 3) Získejte souřadnice úběžníků"
   ]
  },
  {
   "cell_type": "code",
   "execution_count": null,
   "metadata": {},
   "outputs": [],
   "source": [
    "# Funkce compute_vanishing_points vykresluje obrázky pomocí knihovny matplotlib,\n",
    "# která očekává kanály v pořadí RGB a ne BGR jako OpenCV\n",
    "img_rgb = cv2.cvtColor(img, cv2.COLOR_BGR2RGB)\n",
    "vps = compute_vanishing_points(img_rgb)"
   ]
  },
  {
   "cell_type": "markdown",
   "metadata": {},
   "source": [
    "#### 4) Naklikejte dvojice referenčních a měřených bodů v obraze\n",
    "Vždy se ze dvojice nejdříve volí TL a následně až BR. Zvolte celkem 3 dvojice referenčních bodů (ty, pro které máte změřené reálné vzdálenosti). Referenční body se volí **vždy** v rovině vertikální (viz [úvod](#Perspektiva---měření-výšky-v-obraze)). Následně zvolte 1 dvojici bodů měřených.\n",
    "\n",
    "Souřadnice se zobrazí jako výstup buňky."
   ]
  },
  {
   "cell_type": "code",
   "execution_count": null,
   "metadata": {},
   "outputs": [],
   "source": [
    "# Zobrazení obrázku pro klikání bodů\n",
    "show_images(img)"
   ]
  },
  {
   "cell_type": "markdown",
   "metadata": {},
   "source": [
    "#### 5) Souřadnice zkopírujte a doplňte na správná místa skriptu\n",
    "`REFERENCE_MEASUREMENTS` jsou referenční dvojice bodů a jejich reálná vzdálenost. `TL` a `BR` je dvojice bodů měřených.\n",
    "\n",
    "**POZOR:** Vypočítané úběžníky nemusí nutně být ve správném pořadí! Zkontrolujte, zda `vp1` a `vp2` jsou horizontální úběžníky a `vpz` je úběžník v ose z. V případě, že tomu tak není, zaměňte indexy u `vps` tak, aby tomu tak bylo."
   ]
  },
  {
   "cell_type": "code",
   "execution_count": null,
   "metadata": {
    "scrolled": false
   },
   "outputs": [],
   "source": [
    "# Struktura: TL x,y; BR x,y; reálná vzdálenost\n",
    "# např. ((10, 10), (20, 20), 100)\n",
    "REFERENCE_MEASUREMENTS = [\n",
    "    ((?, ?), (?, ?), ?), ###\n",
    "    ((?, ?), (?, ?), ?), ###\n",
    "    ((?, ?), (?, ?), ?) ###\n",
    "]\n",
    "\n",
    "# Dvojice měřených bodů objektů z obrazu\n",
    "TL = (?, ?) ###\n",
    "BR = (?, ?) ###\n",
    "\n",
    "# POZOR! Úběžníky nemusí být ve správném pořadí!\n",
    "vp1 = vps[0]\n",
    "vp2 = vps[1]\n",
    "vpz = vps[2]"
   ]
  },
  {
   "cell_type": "markdown",
   "metadata": {},
   "source": [
    "#### 6) Využijte algoritmus pro výpočet odhadu výšky měřeného objektu"
   ]
  },
  {
   "cell_type": "code",
   "execution_count": null,
   "metadata": {},
   "outputs": [],
   "source": [
    "# Horizont\n",
    "vl = np.cross(vp1, vp2)\n",
    "\n",
    "# Vytvoření objektu pro výpočet odhadu výšky objektu a zavolání funkce\n",
    "height_estimator = HeightEstimator(REFERENCE_MEASUREMENTS, vl, vpz)\n",
    "height = abs(height_estimator.calc_height(TL, BR))\n",
    "\n",
    "# Výstup\n",
    "print('Objekt {:.2f} mm'.format(height))"
   ]
  },
  {
   "cell_type": "markdown",
   "metadata": {},
   "source": [
    "---\n",
    "#### 7*) Dobrovolná úloha za 1 bod aktivity\n",
    "Upravte výše uvedené tak, abyste vypočítali výšku lidí z obrazu `test.jpg`. Pro kontrolu je reálná výška zobrazena na obrázku výše."
   ]
  }
 ],
 "metadata": {
  "kernelspec": {
   "display_name": "Python 3",
   "language": "python",
   "name": "python3"
  },
  "language_info": {
   "codemirror_mode": {
    "name": "ipython",
    "version": 3
   },
   "file_extension": ".py",
   "mimetype": "text/x-python",
   "name": "python",
   "nbconvert_exporter": "python",
   "pygments_lexer": "ipython3",
   "version": "3.6.6"
  }
 },
 "nbformat": 4,
 "nbformat_minor": 2
}
