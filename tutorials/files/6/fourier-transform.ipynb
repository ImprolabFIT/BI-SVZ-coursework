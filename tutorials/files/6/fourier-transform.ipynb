{
 "cells": [
  {
   "cell_type": "markdown",
   "metadata": {},
   "source": [
    "# Detekce defektů pomocí Fourierovy transformace\n",
    "Na dnešním cvičení bude vaším úkolem vytvořit algoritmus na kontrolu kvality kartonu. Algoritmus by měl být schopný detekovat trhliny, díry a jiné defekty. Jelikož kontrolovaný karton má opakující se strukturu, bude náš algoritmus využívat Fourierovy transformace. Na našem konkrétním kartonu se defekty vyskytují jen v podobě promáčklin na některých vlnách, čímž se narušil jejich pravidelný vzor. Vaším úkolem bude tyto defekty za pomoci Fourierovy transformace v obrázku najít a vyznačit.\n",
    "\n",
    "Obrázek kartonu byl nasnímán řádkovou kamerou. Kamera byla statická, karton se pod ní pohyboval pomocí důmyslného dopravníku.\n",
    "\n",
    "## Řádkové kamery\n",
    "Řádková kamera neboli řádkový skener je speciální druh kamery, která snímá pouze 1 řádek. Díky tomu je schopna dosáhnout obrovských frekvencí snímání (až ticíce řádků za 1 sekundu). V labu máme kamery [Basler Racer](https://www.baslerweb.com/en/products/cameras/line-scan-cameras/racer/) o velikosti řádku 6k, 8k a 12k pixelů. Řádkové kamery jsou díky svým specifickým vlastnostem vynikající pro řadu úloh, typickým použitím je snímání nekonečného pásu ve výrobních linkách.\n",
    "\n",
    "<img src=\"images/racer.png\" width=\"25%\">\n",
    "\n",
    "Z podstaty skeneru však vyplývá, že se objekt pod kamerou musí pohybovat. V případě, že se objekt nebude pohybovat, vytvoří kamera obrázek, který bude mít všechny řádky totožné (pouze ten 1, který kamera snímá).\n",
    "\n",
    "Tím, že je kamera schopná dosahovat neskutečných frekvencí snímání dále umožňuje získávat obrazová data v neskutečně velkém rozlišení. Na druhou stranu nás tím nutí nastavovat nízkou dobu expozice a tedy je zapotřebí mnohem více světla."
   ]
  },
  {
   "cell_type": "markdown",
   "metadata": {},
   "source": [
    "### Import knihoven a konfigurace"
   ]
  },
  {
   "cell_type": "code",
   "execution_count": null,
   "metadata": {},
   "outputs": [],
   "source": [
    "%run ../../svz.ipynb"
   ]
  },
  {
   "cell_type": "markdown",
   "metadata": {},
   "source": [
    "### Pomocné funkce\n",
    "\n",
    "Z funkcí je potřeba vybírat ty vhodné pro splnění úkolu.\n",
    "\n",
    "- [`show_images(...)`](../svz.ipynb#show_functions)\n",
    "- [`plot_images(...)`](../svz.ipynb#show_functions)\n",
    "- [`load_image(...)`](../svz.ipynb#load_save_functions)\n",
    "\n",
    "\n",
    "- [`crop(...)`](../svz.ipynb#preprocessing_functions)\n",
    "- [`filtration_median(...)`](../svz.ipynb#preprocessing_functions)\n",
    "- [`segmentation_one_threshold(...)`](../svz.ipynb#segmentation_functions)\n",
    "- [`segmentation_auto_threshold(...)`](../svz.ipynb#segmentation_functions)\n",
    "- [`segmentation_two_thresholds(...)`](../svz.ipynb#segmentation_functions)\n",
    "- [`segmentation_adaptive_threshold(...)`](../svz.ipynb#segmentation_functions)\n",
    "\n",
    "Následující funkce jsou nové a umožňují nám provést Fourierovu transformaci a související operace."
   ]
  },
  {
   "cell_type": "code",
   "execution_count": null,
   "metadata": {},
   "outputs": [],
   "source": [
    "def apply_fft ( image ):\n",
    "    ''' Applies FFT on image given.\n",
    "    \n",
    "    Parameters\n",
    "    ----------\n",
    "    image : 2D array\n",
    "        Image to perform FFT on.\n",
    "    Returns\n",
    "    -------\n",
    "    mag_spec : 2D array\n",
    "        Normalized magnitude spectrum.\n",
    "    fftcls_shift : 2D array\n",
    "        Centered product of FFT.\n",
    "    '''\n",
    "    fftcls = np.fft.fft2(image)\n",
    "    fftcls_shift = np.fft.fftshift(fftcls)\n",
    "    mag_spec = 20*np.log(np.abs(fftcls_shift))\n",
    "    return cv2.normalize(mag_spec,  None, 0, 255, cv2.NORM_MINMAX,cv2.CV_8U), fftcls_shift"
   ]
  },
  {
   "cell_type": "code",
   "execution_count": null,
   "metadata": {},
   "outputs": [],
   "source": [
    "def inverse_fft (fft_shift, filter_mask):\n",
    "    ''' Applies inverse FFT.\n",
    "    \n",
    "    Parameters\n",
    "    ----------\n",
    "    fft_shift : 2D array\n",
    "        Shifted computed FFT\n",
    "    filter_mask : 2D array\n",
    "        2D array mask containing 255 and 0 values.\n",
    "    Returns\n",
    "    -------\n",
    "    img_back : 2D array\n",
    "        Image made by inverse FFT.\n",
    "    '''\n",
    "    fftshift = np.copy(fft_shift)\n",
    "    fftshift[filter_mask != 255] = 0\n",
    "\n",
    "    f_ishift = np.fft.ifftshift(fftshift)\n",
    "    return np.abs(np.fft.ifft2(f_ishift))"
   ]
  },
  {
   "cell_type": "code",
   "execution_count": null,
   "metadata": {},
   "outputs": [],
   "source": [
    "def filter_mag_spec ( mag_spec, rows, columns ):\n",
    "    ''' Makes a filter mask specified by rows and columns. Specified rows and columns are set to 255, others 0.\n",
    "    \n",
    "    Parameters\n",
    "    ----------\n",
    "    mag_spec : 2D array\n",
    "        Image with magnitude spectrum.\n",
    "    Returns\n",
    "    -------\n",
    "    filter_mask : 2D array\n",
    "        2D array mask containing 255 and 0 values.\n",
    "    result : 2D array\n",
    "        Visualisation of filtering.\n",
    "    '''\n",
    "    filter_mask = np.zeros_like(mag_spec,dtype=np.uint8)\n",
    "    \n",
    "    filter_mask[rows] = 255\n",
    "    \n",
    "    filter_mask[:,columns] = 255\n",
    "        \n",
    "    result = np.copy(mag_spec)\n",
    "    result[filter_mask != 255] = 0\n",
    "    \n",
    "    return filter_mask, result"
   ]
  },
  {
   "cell_type": "markdown",
   "metadata": {},
   "source": [
    "---"
   ]
  },
  {
   "cell_type": "markdown",
   "metadata": {},
   "source": [
    "## Úkol"
   ]
  },
  {
   "cell_type": "markdown",
   "metadata": {},
   "source": [
    "**1) Obrázek kartonu načtěte a zobrazte.**\n",
    "\n",
    "Pozor, obrázek načtěte jako černobílý, tzn. pouze s jedním kanálem. Lze toho docílit vícero způsoby: buď můžete použít klasickou funkci `load_image` a vybrat libovolný kanál, nebo můžete použít funkci [cv2.imread](https://docs.opencv.org/3.4/d4/da8/group__imgcodecs.html#ga288b8b3da0892bd651fce07b3bbd3a56) knihovny OpenCV a předat jí parametr `cv2.IMREAD_GRAYSCALE`."
   ]
  },
  {
   "cell_type": "code",
   "execution_count": null,
   "metadata": {},
   "outputs": [],
   "source": [
    "cardboard_texture = ###\n"
   ]
  },
  {
   "cell_type": "markdown",
   "metadata": {},
   "source": [
    "**2) Vyberte si z kartonu rozumně velký čtvercový výřez s nějakou vadou na kartonu. Výřez zobrazte.**"
   ]
  },
  {
   "cell_type": "code",
   "execution_count": null,
   "metadata": {},
   "outputs": [],
   "source": [
    "cardboard_texture_cropped = ###\n"
   ]
  },
  {
   "cell_type": "markdown",
   "metadata": {},
   "source": [
    "**3) Vyfiltrujte v rozumné míře šum mediánovým filtrem vhodné velikosti. Výsledek si pro kontrolu zobrazte.**"
   ]
  },
  {
   "cell_type": "code",
   "execution_count": null,
   "metadata": {},
   "outputs": [],
   "source": [
    "cardboard_texture_filtered = ###\n"
   ]
  },
  {
   "cell_type": "markdown",
   "metadata": {},
   "source": [
    "**4) Použijte min-max normalizaci k zvýšení kontrastu. Výsledek si pro kontrolu zobrazte.**\n",
    "\n",
    "Lze použít například funkci [cv2.normalize](https://docs.opencv.org/3.4/d2/de8/group__core__array.html#ga87eef7ee3970f86906d69a92cbf064bd) knihovny OpenCV s parametry `dst=None, norm_type=cv2.NORM_MINMAX, dtype=cv2.CV_8U`. Parametry **alpha** a **beta** pří použití min max normalizace určují minimální a maximální cílovou hodnotu, nezapomeňte, že pracujeme s osmibitovým kanálem. \n",
    "\n",
    "Hint: docstring funkce lze v Jupyteru zobrazit příkazem `cv2.normalize?`."
   ]
  },
  {
   "cell_type": "code",
   "execution_count": null,
   "metadata": {},
   "outputs": [],
   "source": [
    "cardboard_normalized = ###\n"
   ]
  },
  {
   "cell_type": "markdown",
   "metadata": {},
   "source": [
    "**5) Aplikujte Fourierovu transformaci na upravený obrázek. Zobrazte si spektrum obrázku.**"
   ]
  },
  {
   "cell_type": "code",
   "execution_count": null,
   "metadata": {},
   "outputs": [],
   "source": [
    "mag_spec, fftcls_shift = ###\n"
   ]
  },
  {
   "cell_type": "markdown",
   "metadata": {},
   "source": [
    "**6) Vyfiltrujte příslušné frekvence tak, aby obrázek obsahoval pouze neporušený karton. Vizuální výsledek si pro kontrolu zobrazte.**\n",
    "\n",
    "Filtrace frekvencí se provádí nad získaným spektrem. Nezajímají nás vysoké frekvence (zde odpovídají vadám a šumu), ale nízké frekvence, tedy ty, které jsou blíže ke středu obrázku spektra. Pro optimální výsledek musíte experimentovat s různými hodnotami."
   ]
  },
  {
   "cell_type": "code",
   "execution_count": null,
   "metadata": {},
   "outputs": [],
   "source": [
    "filter_mask, filtered_spec = ###\n"
   ]
  },
  {
   "cell_type": "markdown",
   "metadata": {},
   "source": [
    "**7) Nyní proveďte inverzní fourierovu transformaci pomocí masky získané v minulém kroku. Výsledný obrázek zobrazte.**\n",
    "\n",
    "Výsledek inverzní Fourierovy transformace je před zobrazením třeba převést do diskrétních hodnot. Matice knihovny numpy mají metodu `astype()`, která vrátí matici zkonvertovanou do požadovaného datového typu. Pro náš osmibitový kanál je optimální použít typ **np.uint8**."
   ]
  },
  {
   "cell_type": "code",
   "execution_count": null,
   "metadata": {},
   "outputs": [],
   "source": [
    "img_back = ###\n"
   ]
  },
  {
   "cell_type": "markdown",
   "metadata": {},
   "source": [
    "**8) Vytvořte rozdíl původního normalizovaného obrázku a \"ideálního\" obrázku, který jsme vytvořili odfiltrováním nepotřebných frekvencí. Výsledek si pro kontrolu zobrazte.**\n",
    "\n",
    "Absolutní hodnotu rozdílu lze získat pomocí `np.abs()`. Pro zabránění přetečení se vám pro mezivýpočty bude hodit datový typ **np.int32**, výsledek nezapomeňte zkonvertovat zpět do osmibitových hodnot."
   ]
  },
  {
   "cell_type": "code",
   "execution_count": null,
   "metadata": {},
   "outputs": [],
   "source": [
    "diff = ###\n"
   ]
  },
  {
   "cell_type": "markdown",
   "metadata": {},
   "source": [
    "**9) Vysegmentujte masku defektů pomocí vhodného prahování. Masku pro kontrolu zobrazte.**"
   ]
  },
  {
   "cell_type": "code",
   "execution_count": null,
   "metadata": {},
   "outputs": [],
   "source": [
    "mask_def = ###\n"
   ]
  },
  {
   "cell_type": "markdown",
   "metadata": {},
   "source": [
    "**10) Najděte kontury a odfiltrujte šum, výsledné kontury zakreslete do úplně původního, ale oříznutého obrázku a výsledek zobrazte.**\n",
    "\n",
    "K nalezení kontur použijte funkci [cv2.findContours](https://docs.opencv.org/3.4/d3/dc0/group__imgproc__shape.html#ga17ed9f5d79ae97bd4c7cf18403e1689a) s parametry `mode=cv2.RETR_LIST, method=cv2.CHAIN_APPROX_SIMPLE`. K vyfiltrování miniaturních kontur se hodí funkce [cv2.contourArea](https://docs.opencv.org/3.4/d3/dc0/group__imgproc__shape.html#ga2c759ed9f497d4a618048a2f56dc97f1). Výsledek nemusí být úplně perfektní, stačí, když nalezené kontury budou přibližně na místě skutečných defektů."
   ]
  },
  {
   "cell_type": "code",
   "execution_count": null,
   "metadata": {},
   "outputs": [],
   "source": [
    "contours, _ = ###\n",
    "\n",
    "\n",
    "...\n",
    "... # filtrace kontur\n",
    "...\n",
    "\n",
    "\n",
    "contour_drawn = cv2.drawContours(cardboard_texture_cropped.copy(), contours, -1, color=(255, 0, 0), thickness=3)\n",
    "plot_images(contour_drawn)"
   ]
  },
  {
   "cell_type": "code",
   "execution_count": null,
   "metadata": {},
   "outputs": [],
   "source": []
  }
 ],
 "metadata": {
  "kernelspec": {
   "display_name": "Python 3",
   "language": "python",
   "name": "python3"
  },
  "language_info": {
   "codemirror_mode": {
    "name": "ipython",
    "version": 3
   },
   "file_extension": ".py",
   "mimetype": "text/x-python",
   "name": "python",
   "nbconvert_exporter": "python",
   "pygments_lexer": "ipython3",
   "version": "3.7.6"
  }
 },
 "nbformat": 4,
 "nbformat_minor": 2
}
