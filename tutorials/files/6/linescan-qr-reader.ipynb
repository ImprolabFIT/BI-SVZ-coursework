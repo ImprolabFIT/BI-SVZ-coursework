{
 "cells": [
  {
   "cell_type": "markdown",
   "metadata": {},
   "source": [
    "# Čtení QR kódů řádkovou kamerou\n",
    "Cvičení je zaměřené na práci s řádkovými kamerami, filtry a barevným osvětlením. Řádkové kamery jsou díky svým specifickým vlastnostem vynikající pro řadu úloh, typickým použitím je snímání nekonečného pásu ve výrobních linkách. Poněvadž nekonečné pásy nemáme v dostatečném počtu, budeme je simulovat pomocí povrchu otočného válce - plechovky. Na povrchu plechovky bude nalepen QR kód, který chceme přečíst.\n",
    "\n",
    "Protože řádkové kamery, které máme k dispozici, umí obraz snímat pouze ve stupních šedé, bude v případě snímání barevného objektu nutno zajistit dostatečný kontrast mezi původními barevnými odstíny. K tomu budou k dispozici různá barevná světla a filtry, jejichž vhodnou kombinaci bude třeba zvolit k dosažení optimálních výsledků.\n",
    "\n",
    "## Řádkové kamery\n",
    "Řádková kamera neboli řádkový skener je speciální druh kamery, která snímá pouze 1 řádek. Díky tomu je schopna dosáhnout obrovských frekvencí snímání (až ticíce řádků za 1 sekundu). V labu máme kamery [Basler Racer](https://www.baslerweb.com/en/products/cameras/line-scan-cameras/racer/) o velikosti řádku 6k, 8k a 12k pixelů.\n",
    "\n",
    "<img src=\"images/racer.png\" width=\"25%\">\n",
    "\n",
    "Z podstaty skeneru však vyplývá, že se objekt pod kamerou musí pohybovat. V případě, že se objekt nebude pohybovat, vytvoří kamera obrázek, který bude mít všechny řádky totožné (pouze ten 1, který kamera snímá). \n",
    "\n",
    "Tím, že je kamera schopná dosahovat neskutečných frekvencí snímání dále umožňuje získávat obrazová data v neskutečně velkém rozlišení. Na druhou stranu nás tím nutí nastavovat nízkou dobu expozice a tedy je zapotřebí mnohem více světla.\n",
    "\n",
    "Důležité pojmy související s řádkovými kamerami:\n",
    "- **frame** - během komunikace s počítačem řádková kamera typicky neposílá každý řádek zvlášť, ale ukládá si je do lokálního bufferu a odesílá je pohromadě v jednom \"frame\" (rámci). Pylon Viewer pak řádky z jednoho frame zobrazuje v jednom obrázku, nad sebou. Počet řádků je možné v konfiguraci kamery nastavit parametrem *height*.\n",
    "- **acquisition** - režim snímání kamery, typicky single shot/continuous. Single shot vyfotí pouze jeden frame, režim continuous rámce snímá nepřetržitě. V aplikacích jako jsou nekonečné pásy je možné použít buď single shot akvizici a mít zvláštní trigger pro každý objekt, nebo continuous akvizici a objekty rozlišovat v post-processingu."
   ]
  },
  {
   "cell_type": "markdown",
   "metadata": {},
   "source": [
    "---"
   ]
  },
  {
   "cell_type": "markdown",
   "metadata": {},
   "source": [
    "### Import knihoven a konfigurace"
   ]
  },
  {
   "cell_type": "code",
   "execution_count": null,
   "metadata": {},
   "outputs": [],
   "source": [
    "%run ../svz.ipynb"
   ]
  },
  {
   "cell_type": "markdown",
   "metadata": {},
   "source": [
    "### Pomocné funkce\n",
    "Z následujících funkcí je potřeba vybírat ty vhodné pro splnění úkolu."
   ]
  },
  {
   "cell_type": "markdown",
   "metadata": {},
   "source": [
    "Seznam funkcí pro přehlednost:\n",
    "- [`connect_camera(...)`](../svz.ipynb#connect_functions)\n",
    "\n",
    "\n",
    "- [`show_images(...)`](../svz.ipynb#show_functions)\n",
    "- [`plot_images(...)`](../svz.ipynb#show_functions)\n",
    "\n",
    "\n",
    "- [`to_gray(...)`](../svz.ipynb#preprocessing_functions)\n",
    "- [`to_hsv(...)`](../svz.ipynb#preprocessing_functions)\n",
    "- [`negative(...)`](../svz.ipynb#preprocessing_functions)\n",
    "- [`crop(...)`](../svz.ipynb#preprocessing_functions)\n",
    "- [`rotate(...)`](../svz.ipynb#cart_polar_functions)\n",
    "- [`crop_by_bounding_rect(...)`](../svz.ipynb#preprocessing_functions)\n",
    "- [`crop_contour(...)`](../svz.ipynb#preprocessing_functions)\n",
    "- [`contour_to_image(...)`](../svz.ipynb#preprocessing_functions)\n",
    "- [`resize(...)`](../svz.ipynb#preprocessing_functions)\n",
    "\n",
    "\n",
    "- [`filtration_median(...)`](../svz.ipynb#filtration_functions)\n",
    "- [`fill_holes(...)`](../svz.ipynb#filtration_functions)\n",
    "\n",
    "\n",
    "- [`to_intensity(...)`](../svz.ipynb#others)\n",
    "- [`logical_and(...)`](../svz.ipynb#others)"
   ]
  },
  {
   "cell_type": "markdown",
   "metadata": {},
   "source": [
    "---"
   ]
  },
  {
   "cell_type": "markdown",
   "metadata": {},
   "source": [
    "### Úkol 1\n",
    "Seznamte se s řádkovou kamerou a jejími parametry, jejichž nastavení je pro správné snímání kritické. Kameru zaostřete na mřížkový podklad stojanu a celou zaostřenou kameru poté pomocí kličky zdvihněte, aby byla kamera zaostřená na vršek plechovky. Nakonec získejte snímek QR kódu, který přečtěte a vizualizujte na původním snímku.\n",
    "\n",
    "<div style=\"color: blue; text-align: right\">[ 1 bod ]</div>"
   ]
  },
  {
   "cell_type": "markdown",
   "metadata": {},
   "source": [
    "#### 1) Získejte snímek černobílého QR kódu\n",
    "Za stálého otáčení plechovky zachyťte snímek černobílého QR kódu na jejím povrchu. Rychlost otáčení plechovky je třeba udržovat pokud možno konstantní, aby různé části snímku QR kódu nebyly různě protáhlé - knihovna, kterou používáme, by pak měla problém kód přečíst. Důležité také je, aby vyfocený QR kód byl co nejpodobnější obdélníku, tedy aby nebyl zkosený či jinak deformovaný."
   ]
  },
  {
   "cell_type": "code",
   "execution_count": null,
   "metadata": {
    "run_control": {
     "marked": false
    }
   },
   "outputs": [],
   "source": [
    "image = ...(...) ###\n",
    "show_images(image)"
   ]
  },
  {
   "cell_type": "markdown",
   "metadata": {},
   "source": [
    "#### 5) Předzpracujte snímek QR kódu\n",
    "V této sekci je nutné zejména přeškálovat obrázek tak, aby nebyl nevhodně protáhlý z důvodu nekorespondující snímkové frekvence vůči rychlosti otáčení plechovky. QR kód ve zpracovaném obrázku by měl být přibližně čtvercový (knihovna pyzbar, kterou použijeme ke čtení QR kódu, naštěstí poskytuje poměrně velkou toleranci). Obrázek můžete dále zpracovat dle libosti, například otočit nebo oříznout."
   ]
  },
  {
   "cell_type": "code",
   "execution_count": null,
   "metadata": {},
   "outputs": [],
   "source": [
    "height, width, channels = image.shape\n",
    "width, height"
   ]
  },
  {
   "cell_type": "code",
   "execution_count": null,
   "metadata": {},
   "outputs": [],
   "source": [
    "new_width, new_height = ... ###\n",
    "resized_image = ... ###\n",
    "show_images(resized_image)"
   ]
  },
  {
   "cell_type": "markdown",
   "metadata": {},
   "source": [
    "#### 6) Pomocí knihovy pyzbar přečtěte z QR kódu zakódovaný text a získejte souřadnice bounding boxu\n",
    "Pro čtení QR kódu z obrázku používáme funkci `decode` knihovny pyzbar. Funkce vrací informace o všech detekovaných QR kódech - především jejich dekódovaná data a souřadnice v původním obrázku. Pokud funkce QR kód ve vašem obrázku nedetekuje, zkuste data nasnímat znovu a případně kontaktujte cvičící, kteří vám poradí, co by bylo vhodné ve snímku zlepšit."
   ]
  },
  {
   "cell_type": "code",
   "execution_count": null,
   "metadata": {},
   "outputs": [],
   "source": [
    "import pyzbar.pyzbar as pyzbar"
   ]
  },
  {
   "cell_type": "code",
   "execution_count": null,
   "metadata": {},
   "outputs": [],
   "source": [
    "decoded = pyzbar.decode(resized_image)\n",
    "if len(decoded) < 1:\n",
    "    raise RuntimeError(\"Nebyl nalezen zadny QR kod\")\n",
    "qr = decoded[0]\n",
    "qr_data, qr_rect = qr.data, qr.rect\n",
    "qr_data, qr_rect"
   ]
  },
  {
   "cell_type": "markdown",
   "metadata": {},
   "source": [
    "Dekódovaná data vrací funkce ve formátu *bytes*, pro jejich převedení do řetězce je třeba provést další dekódování."
   ]
  },
  {
   "cell_type": "code",
   "execution_count": null,
   "metadata": {},
   "outputs": [],
   "source": [
    "qr_text = qr_data.decode(\"utf-8\")\n",
    "qr_text"
   ]
  },
  {
   "cell_type": "markdown",
   "metadata": {},
   "source": [
    "#### 7) Do obrázku vykreslete ohraničující obdélník a vypište získaný text\n",
    "Třešničkou na dortu je pro nás vizualizace QR kódu v obrázku - tj. zobrazení bounding boxu a vypsání dekódovaného textu vedle něj. K tomu je možné použít například funkce [cv2.rectangle()](https://docs.opencv.org/master/d6/d6e/group__imgproc__draw.html#ga07d2f74cadcf8e305e810ce8eed13bc9) a [cv2.putText()](https://docs.opencv.org/master/d6/d6e/group__imgproc__draw.html#ga5126f47f883d730f633d74f07456c576) knihovny opencv."
   ]
  },
  {
   "cell_type": "code",
   "execution_count": null,
   "metadata": {},
   "outputs": [],
   "source": [
    "qr_rect.left, qr_rect.top, qr_rect.width, qr_rect.height"
   ]
  },
  {
   "cell_type": "code",
   "execution_count": null,
   "metadata": {},
   "outputs": [],
   "source": [
    "annotated_image = resized_image.copy()\n",
    "cv2.rectangle(..., ..., ..., (0, 255, 0), 3) ###\n",
    "cv2.putText(..., ..., ..., 0, 0.7, (0, 255, 0), 2) ###\n",
    "show_images(annotated_image)"
   ]
  },
  {
   "cell_type": "markdown",
   "metadata": {},
   "source": [
    "---"
   ]
  },
  {
   "cell_type": "markdown",
   "metadata": {},
   "source": [
    "### Úkol 2\n",
    "Druhý úkol je podobný prvnímu, opět v něm jde o nasnímání QR kódu a jeho dekódování. Zde je nicméně třeba vyfotit QR kód barevný - což je s černobílou kamerou problematické, jelikož výsledný černobílý snímek QR kódu nebude dostatečně kontrastní, aby jej knihovna pyzbar mohla přečíst. Je proto nutné během snímání zkoušet různé kombinace barevných světel a filtrů. Hodit se budou znalosti z přednášky o osvětlení - zkuste si vzpomenout, co jsou a jak se dají využít komplementární barvy.\n",
    "\n",
    "<div style=\"color: blue; text-align: right\">[ 1 bod ]</div>"
   ]
  },
  {
   "cell_type": "markdown",
   "metadata": {},
   "source": [
    "#### 1) Získejte obrázek barevného QR kódu"
   ]
  },
  {
   "cell_type": "code",
   "execution_count": null,
   "metadata": {},
   "outputs": [],
   "source": [
    "image = ...(...) ###\n",
    "show_images(image)"
   ]
  },
  {
   "cell_type": "markdown",
   "metadata": {},
   "source": [
    "#### 2) Upravte obrázek do podoby, v jaké půjde QR kód přečíst\n",
    "Předzpracování se podobně jako v prvním úkolu skládá zejména z přeškálování obrázku, ale je potřeba provést další krok - QR kód ve vstupním obrázku nyní může mít invertované barvy, tedy světlý \"potisk\" na tmavém \"pozadí\". Knihovna pyzbar takový kód neumí přečíst, proto se vám může hodit funkce `negative()`."
   ]
  },
  {
   "cell_type": "code",
   "execution_count": null,
   "metadata": {},
   "outputs": [],
   "source": [
    "new_width, new_height = ... ###\n",
    "resized_image = ... ###\n",
    "show_images(resized_image)"
   ]
  },
  {
   "cell_type": "code",
   "execution_count": null,
   "metadata": {},
   "outputs": [],
   "source": [
    "negative_image = ... ###\n",
    "show_images(negative_image)"
   ]
  },
  {
   "cell_type": "markdown",
   "metadata": {},
   "source": [
    "#### 3) Pomocí knihovy pyzbar přečtěte z QR kódu zakódovaný text"
   ]
  },
  {
   "cell_type": "code",
   "execution_count": null,
   "metadata": {},
   "outputs": [],
   "source": [
    "decoded = pyzbar.decode(resized_image)\n",
    "if len(decoded) < 1:\n",
    "    raise RuntimeError(\"Nebyl nalezen zadny QR kod\")\n",
    "qr = decoded[0]\n",
    "qr_data, qr_rect = qr.data, qr.rect\n",
    "qr_data, qr_rect"
   ]
  },
  {
   "cell_type": "code",
   "execution_count": null,
   "metadata": {},
   "outputs": [],
   "source": [
    "qr_text = qr_data.decode(\"utf-8\")\n",
    "qr_text"
   ]
  },
  {
   "cell_type": "code",
   "execution_count": null,
   "metadata": {},
   "outputs": [],
   "source": []
  }
 ],
 "metadata": {
  "kernelspec": {
   "display_name": "Python 3",
   "language": "python",
   "name": "python3"
  },
  "language_info": {
   "codemirror_mode": {
    "name": "ipython",
    "version": 3
   },
   "file_extension": ".py",
   "mimetype": "text/x-python",
   "name": "python",
   "nbconvert_exporter": "python",
   "pygments_lexer": "ipython3",
   "version": "3.7.6"
  }
 },
 "nbformat": 4,
 "nbformat_minor": 2
}
