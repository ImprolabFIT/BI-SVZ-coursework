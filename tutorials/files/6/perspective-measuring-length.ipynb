{
 "cells": [
  {
   "cell_type": "markdown",
   "metadata": {
    "run_control": {
     "marked": false
    }
   },
   "source": [
    "# Perspektiva - měření vzdálenosti v obraze\n",
    "Toto cvičení je velmi krátké a jednoduché. Nicméně, je prerekvizitou k úspěšnému absolvování druhého domácího úkolu. \n",
    "\n",
    "S tématem měření vzdáleností v obraze jsme se setkali již ve 3. cvičení. Připomeňme si však, jakým způsobem jsme problém řešili. Využívali jsme znalosti poměru px/mm. Tento způsob měl jednu velkou nevýhodu, neboť když se nebude obrazová rovina nacházet rovnoběžně se snímanou rovinou, poměr px/mm nebude dávat smysl a budeme dostávat chybné výsledky.\n",
    "\n",
    "Tento problém vyřešíme znalostí perspektivy, konkrétně aplikací 2D perspektivní transformace (viz přednáška [Geometrické transformace obrazu](../../../lectures/files/bi-svz-06-metody-predzpracovani-obrazu-1.pdf) - homography). Představme si nyní obrázek, na kterém chceme zjistit skutečnou vzdálenost dvou bodů označených úsečkou **`d`**  v milimetrech.\n",
    "\n",
    "![](images/pattern_measuring.jpg)\n",
    "\n",
    "Na první pohled je jasné, že počítat poměr px/mm v tomto obraze je nesmyslné. Obraz je perspektivně zkreslený - kruhy se změnily na elipsy a obdélníky se staly lichoběžníky. Se znalostí toho, jak vypadaly původní tvary v obraze, a jaké byly jejich původní rozměry, jsme schopni papír se vzory geometricky transformovat do tvaru \"kolmého k obrazové rovině\". Navíc, nejenže známe velikosti referenčního oranžového obdélníku, ale známe také velikosti klasického A4 papíru (210 x 297 mm). Informace o rozměrech a tvaru papíru nám stačí k tomu, vypočítat transformační matici **`H`**, která každý pixel dokáže převést do nového \"narovnaného\" obrazu.\n",
    "\n",
    "![](images/pattern_measuring_warped.jpg)\n",
    "\n",
    "Pokud si v rámci této transformace ještě navíc zvolíme chytré jednotky. Výsledné vzdálenosti v pixelech budou odpovídat přímo vzdálenostem v mm nebo v čemkoliv jiném."
   ]
  },
  {
   "cell_type": "markdown",
   "metadata": {},
   "source": [
    "### Import knihoven a konfigurace"
   ]
  },
  {
   "cell_type": "code",
   "execution_count": null,
   "metadata": {
    "run_control": {
     "marked": false
    }
   },
   "outputs": [],
   "source": [
    "%run ../svz.ipynb"
   ]
  },
  {
   "cell_type": "markdown",
   "metadata": {},
   "source": [
    "### Pomocné funkce\n",
    "Z následujících funkcí je potřeba vybírat ty vhodné pro splnění úkolu."
   ]
  },
  {
   "cell_type": "markdown",
   "metadata": {
    "code_folding": [
     0
    ]
   },
   "source": [
    "Seznam funkcí pro přehlednost:\n",
    "- [`show_images(...)`](../svz.ipynb#show_functions)"
   ]
  },
  {
   "cell_type": "markdown",
   "metadata": {},
   "source": [
    "---"
   ]
  },
  {
   "cell_type": "markdown",
   "metadata": {},
   "source": [
    "### Úkol\n",
    "\n",
    "**1) Získejte a zobrazte si snímek fyzicky natočeného vzoru snímaného pod úhlem cca 30°.**\n",
    "\n",
    "Nezapomínejte, že všechny kraje papíru musí být viditelné."
   ]
  },
  {
   "cell_type": "code",
   "execution_count": null,
   "metadata": {
    "scrolled": true
   },
   "outputs": [],
   "source": [
    "img = ..."
   ]
  },
  {
   "cell_type": "markdown",
   "metadata": {},
   "source": [
    "**2) Vytvořte si dva seznamy korenspondečních bodů, které budou využity pro výpočet transformační matice H**\n",
    "\n",
    "V prvním seznamu musí být obrazové body. K jejich získáni využijte implementovaný callback ve funkci `show_images`, který po kliknutí do obrazu, vypíše souřadnice.\n",
    "Druhý seznam musí obsahovat cílové souřadnice bodů, do kterých chceme vybrané body z prvního seznamu transformovat. \n",
    "\n",
    "Pozor, záleží na pořadí bodů a obě struktury musí být `np.array`.\n"
   ]
  },
  {
   "cell_type": "code",
   "execution_count": null,
   "metadata": {},
   "outputs": [],
   "source": [
    "image_pts = ...\n",
    "world_pts = ..."
   ]
  },
  {
   "cell_type": "markdown",
   "metadata": {},
   "source": [
    "**3) Pomocí funkce [`cv2.findHomography`](https://docs.opencv.org/3.4.1/d9/d0c/group__calib3d.html#ga4abc2ece9fab9398f2e560d53c8c9780) získejte transformační matici `H`. Matici vypiště, ať si připomenete její tvar.**"
   ]
  },
  {
   "cell_type": "code",
   "execution_count": null,
   "metadata": {},
   "outputs": [],
   "source": [
    "H, mask = ..."
   ]
  },
  {
   "cell_type": "markdown",
   "metadata": {},
   "source": [
    "**4) Využijte [`cv2.warpPerspective`](https://docs.opencv.org/3.4.1/da/d54/group__imgproc__transform.html#gaf73673a7e8e18ec6963e3774e6a94b87), která přijímá transformační matici `H`, k narovnání zdrojového obrazu. Výsledek zobrazte.** "
   ]
  },
  {
   "cell_type": "code",
   "execution_count": null,
   "metadata": {},
   "outputs": [],
   "source": [
    "warped_img = ..."
   ]
  },
  {
   "cell_type": "markdown",
   "metadata": {},
   "source": [
    "**5) Ve vašem nasnímaném obraze získejte souřadnice hraničnich bodů úsečky `d` a uložte je do definovaných proměných.** \n",
    "\n",
    "Nelekejte se zběsilého předepsaného formátu, OpenCV bohužel občas požaduje zvláštní struktury."
   ]
  },
  {
   "cell_type": "code",
   "execution_count": null,
   "metadata": {},
   "outputs": [],
   "source": [
    "..."
   ]
  },
  {
   "cell_type": "code",
   "execution_count": null,
   "metadata": {},
   "outputs": [],
   "source": [
    "pt_src = np.array([[(...)]], dtype='float32')\n",
    "pt_dst = np.array([[(...)]], dtype='float32')"
   ]
  },
  {
   "cell_type": "markdown",
   "metadata": {},
   "source": [
    "**6) Využijte [`cv2.perspectiveTransform`](https://docs.opencv.org/3.4.1/d2/de8/group__core__array.html#gad327659ac03e5fd6894b90025e6900a7) k transformaci zdrojových bodů do nového prostoru a vypočítejte reálnou vzdálenost, kterou vypište.**"
   ]
  },
  {
   "cell_type": "code",
   "execution_count": null,
   "metadata": {},
   "outputs": [],
   "source": [
    "pt_t_src = ...\n",
    "pt_t_dst = ...\n",
    "\n",
    "dist = ...\n",
    "print(f'D = {dist / 10:.02f} mm')"
   ]
  }
 ],
 "metadata": {
  "kernelspec": {
   "display_name": "Python [conda env:SVZ]",
   "language": "python",
   "name": "conda-env-SVZ-py"
  },
  "language_info": {
   "codemirror_mode": {
    "name": "ipython",
    "version": 3
   },
   "file_extension": ".py",
   "mimetype": "text/x-python",
   "name": "python",
   "nbconvert_exporter": "python",
   "pygments_lexer": "ipython3",
   "version": "3.6.6"
  }
 },
 "nbformat": 4,
 "nbformat_minor": 2
}
