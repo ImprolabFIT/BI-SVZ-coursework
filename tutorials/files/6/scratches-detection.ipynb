{
 "cells": [
  {
   "cell_type": "markdown",
   "metadata": {},
   "source": [
    "TODO:\n",
    "\n",
    "popsat, že cviko se také zaměřuje na práci se světly a filtry\n",
    "\n",
    "uvést glosář pojmů k line scan kamerám"
   ]
  },
  {
   "cell_type": "markdown",
   "metadata": {},
   "source": [
    "# Čtení QR kódů řádkovou kamerou\n",
    "Cvičení je zaměřené na práci s řádkovými kamerami, které díky svým specifickým vlastnostem budeme využívat pro zisk obrazů skla, na kterých budeme detekovat škrábance pomocí metod zpracování obrazu.\n",
    "\n",
    "## Řádkové kamery\n",
    "Řádková kamera neboli řádkový skener je speciální druh kamery, která snímá pouze 1 řádek. Díky tomu je schopna dosáhnout obrovských frekvencí snímání (až ticíce řádků za 1 sekundu). V labu máme kamery [Basler Racer](https://www.baslerweb.com/en/products/cameras/line-scan-cameras/racer/) o velikosti řádku 6k, 8k a 12k pixelů.\n",
    "\n",
    "<img src=\"images/racer.png\" width=\"25%\">\n",
    "\n",
    "Z podstaty skeneru však vyplývá, že se objekt pod kamerou musí pohybovat. V případě, že se objekt nebude pohybovat, vytvoří kamera obrázek, který bude mít všechny řádky totožné (pouze ten 1, který kamera snímá). \n",
    "\n",
    "Tím, že je kamera schopná dosahovat neskutečných frekvencí snímání dále umožňuje získávat obrazová data v neskutečně velkém rozlišení. Na druhou stranu nás tím nutí nastavovat nízkou dobu expozice a tedy je zapotřebí mnohem více světla.\n",
    "\n",
    "Velikost obrázků z kamery je variabilní. Šířka obrázku odpovídá velikosti řádku a počet snímaných řádků lze v kameře nastavit. Kamera je tedy schopna poskytnout obrázek tak, jak ho známe (matici), ale až potom, co si nasnímá všechny řádky. "
   ]
  },
  {
   "cell_type": "markdown",
   "metadata": {},
   "source": [
    "---"
   ]
  },
  {
   "cell_type": "markdown",
   "metadata": {},
   "source": [
    "### Import knihoven a konfigurace"
   ]
  },
  {
   "cell_type": "code",
   "execution_count": 1,
   "metadata": {},
   "outputs": [],
   "source": [
    "%run ../svz.ipynb"
   ]
  },
  {
   "cell_type": "markdown",
   "metadata": {},
   "source": [
    "### Pomocné funkce\n",
    "Z následujících funkcí je potřeba vybírat ty vhodné pro splnění úkolu."
   ]
  },
  {
   "cell_type": "markdown",
   "metadata": {},
   "source": [
    "Seznam funkcí pro přehlednost:\n",
    "- [`connect_camera(...)`](../svz.ipynb#connect_functions)\n",
    "\n",
    "\n",
    "- [`show_images(...)`](../svz.ipynb#show_functions)\n",
    "- [`plot_images(...)`](../svz.ipynb#show_functions)\n",
    "\n",
    "\n",
    "- [`to_gray(...)`](../svz.ipynb#preprocessing_functions)\n",
    "- [`to_hsv(...)`](../svz.ipynb#preprocessing_functions)\n",
    "- [`negative(...)`](../svz.ipynb#preprocessing_functions)\n",
    "- [`crop(...)`](../svz.ipynb#preprocessing_functions)\n",
    "- [`crop_by_bounding_rect(...)`](../svz.ipynb#preprocessing_functions)\n",
    "- [`crop_contour(...)`](../svz.ipynb#preprocessing_functions)\n",
    "- [`contour_to_image(...)`](../svz.ipynb#preprocessing_functions)\n",
    "- [`resize(...)`](../svz.ipynb#preprocessing_functions)\n",
    "\n",
    "\n",
    "- [`filtration_median(...)`](../svz.ipynb#filtration_functions)\n",
    "- [`fill_holes(...)`](../svz.ipynb#filtration_functions)\n",
    "\n",
    "\n",
    "- [`to_intensity(...)`](../svz.ipynb#others)\n",
    "- [`logical_and(...)`](../svz.ipynb#others)"
   ]
  },
  {
   "cell_type": "markdown",
   "metadata": {},
   "source": [
    "---"
   ]
  },
  {
   "cell_type": "markdown",
   "metadata": {},
   "source": [
    "### Úkol 1\n",
    "Seznamte se s řádkovou kamerou a jejími parametry, jejichž nastavení je pro správné snímání kritické. Vyzkoušejte si ostření řádkové kamery. Nakonec se seznamte s vlastní rychlostí snímání kamery a získejte obrázek skla, na kterém detekujte škrábance ve tvaru příslušného čísla.\n",
    "\n",
    "<div style=\"color: blue; text-align: right\">[ 1 bod ]</div>"
   ]
  },
  {
   "cell_type": "markdown",
   "metadata": {},
   "source": [
    "#### 1) Seznamte se s řádkovou kamerou\n",
    "Připojte řádkovou kameru a otevřete ji v **Pylonu**. Nastavte si **vlastní ID** kamery pro lepší identifikaci kamery v síti. Seznamte se s nastavením následujících parametrů, které si uložte do oblíbených (\"Favourites\").\n",
    "\n",
    "- Exposure time (Abs)\n",
    "- Width, Height\n",
    "- Gain\n",
    "- Gamma\n",
    "- Acquisition Frame Count"
   ]
  },
  {
   "cell_type": "markdown",
   "metadata": {},
   "source": [
    "#### 2) Zaostřete řádkovou kameru\n",
    "Zaostřete kameru, využijte k tomu **mřížkový podklad** držáků Kaiser. Správně zaostřenou kameru poznáte podle toho, že budou vidět vedle sebe svislé čáry různých intenzit.\n",
    "\n",
    "Nezapomeňte **přidat osvětlení**, které bude svítit na místo řádku, na které kamera vidí. "
   ]
  },
  {
   "cell_type": "markdown",
   "metadata": {},
   "source": [
    "#### 3) Získejte obrázek černobílého QR kódu\n",
    "Využijte manuál kamery jako zdroj textu, který chcete snímat. Zkoordinujte správně rychlost pohybu textu pod kamerou a zisk snímku tak, abyste získali text. Pozor ať není text příliš roztažený či zploštělý."
   ]
  },
  {
   "cell_type": "code",
   "execution_count": 123,
   "metadata": {
    "run_control": {
     "marked": false
    }
   },
   "outputs": [],
   "source": [
    "image = load_image('5.png') ###\n",
    "show_images(image)"
   ]
  },
  {
   "cell_type": "markdown",
   "metadata": {},
   "source": [
    "#### 5) Upravte obrázek do podoby, v jaké půjde QR kód přečíst\n",
    "TODO text"
   ]
  },
  {
   "cell_type": "code",
   "execution_count": 134,
   "metadata": {},
   "outputs": [
    {
     "data": {
      "text/plain": [
       "(6144, 3025)"
      ]
     },
     "execution_count": 134,
     "metadata": {},
     "output_type": "execute_result"
    }
   ],
   "source": [
    "height, width, channels = image.shape\n",
    "width, height"
   ]
  },
  {
   "cell_type": "code",
   "execution_count": 135,
   "metadata": {},
   "outputs": [],
   "source": [
    "new_width, new_height = width // 5, height // 11 ###\n",
    "resized_image = resize(image, (new_width, new_height)) ###\n",
    "show_images(resized_image)"
   ]
  },
  {
   "cell_type": "markdown",
   "metadata": {},
   "source": [
    "#### 6) Pomocí knihovy pyzbar přečtěte z QR kódu zakódovaný text a získejte souřadnice bounding boxu"
   ]
  },
  {
   "cell_type": "code",
   "execution_count": 136,
   "metadata": {},
   "outputs": [],
   "source": [
    "import pyzbar"
   ]
  },
  {
   "cell_type": "code",
   "execution_count": 158,
   "metadata": {},
   "outputs": [
    {
     "data": {
      "text/plain": [
       "(b'Kazdy Fitak chce energetak!', Rect(left=540, top=69, width=88, height=90))"
      ]
     },
     "execution_count": 158,
     "metadata": {},
     "output_type": "execute_result"
    }
   ],
   "source": [
    "decoded = pyzbar.pyzbar.decode(resized_image)\n",
    "if len(decoded) < 1:\n",
    "    raise RuntimeError(\"Nebyl nalezen zadny QR kod\")\n",
    "qr = decoded[0]\n",
    "qr_data, qr_rect = qr.data, qr.rect\n",
    "qr_data, qr_rect"
   ]
  },
  {
   "cell_type": "code",
   "execution_count": 153,
   "metadata": {},
   "outputs": [
    {
     "data": {
      "text/plain": [
       "'Kazdy Fitak chce energetak!'"
      ]
     },
     "execution_count": 153,
     "metadata": {},
     "output_type": "execute_result"
    }
   ],
   "source": [
    "qr_text = qr_data.decode(\"utf-8\")\n",
    "qr_text"
   ]
  },
  {
   "cell_type": "markdown",
   "metadata": {},
   "source": [
    "#### 7) Do původního obrázku vykreslete ohraničující obdélník a vypište získaný text"
   ]
  },
  {
   "cell_type": "code",
   "execution_count": 154,
   "metadata": {},
   "outputs": [
    {
     "data": {
      "text/plain": [
       "(540, 69, 88, 90)"
      ]
     },
     "execution_count": 154,
     "metadata": {},
     "output_type": "execute_result"
    }
   ],
   "source": [
    "rect.left, rect.top, rect.width, rect.height"
   ]
  },
  {
   "cell_type": "code",
   "execution_count": 155,
   "metadata": {},
   "outputs": [],
   "source": [
    "top_left_corner_x = rect.left\n",
    "top_left_corner_y = rect.top\n",
    "bottom_right_x = rect.left + rect.width\n",
    "bottom_right_y = rect.top + rect.height"
   ]
  },
  {
   "cell_type": "code",
   "execution_count": 156,
   "metadata": {},
   "outputs": [],
   "source": [
    "annotated_image = resized_image.copy()\n",
    "cv2.rectangle(annotated_image, (top_left_corner_x, top_left_corner_y), (bottom_right_x, bottom_right_y), (0, 255, 0), 3)\n",
    "cv2.putText(annotated_image, qr_text, (top_left_corner_x, top_left_corner_y - 20), 0, 0.5, (0, 255, 0), 2)\n",
    "show_images(annotated_image)"
   ]
  },
  {
   "cell_type": "markdown",
   "metadata": {},
   "source": [
    "---"
   ]
  },
  {
   "cell_type": "markdown",
   "metadata": {},
   "source": [
    "### Úkol 2\n",
    "Seznamte se s řádkovou kamerou a jejími parametry, jejichž nastavení je pro správné snímání kritické. Vyzkoušejte si ostření řádkové kamery. Nakonec se seznamte s vlastní rychlostí snímání kamery a získejte obrázek skla, na kterém detekujte škrábance ve tvaru příslušného čísla.\n",
    "\n",
    "<div style=\"color: blue; text-align: right\">[ 1 bod ]</div>"
   ]
  },
  {
   "cell_type": "markdown",
   "metadata": {},
   "source": [
    "#### 1) Získejte obrázek černobílého QR kódu\n",
    "Využijte manuál kamery jako zdroj textu, který chcete snímat. Zkoordinujte správně rychlost pohybu textu pod kamerou a zisk snímku tak, abyste získali text. Pozor ať není text příliš roztažený či zploštělý."
   ]
  },
  {
   "cell_type": "code",
   "execution_count": 160,
   "metadata": {},
   "outputs": [],
   "source": [
    "image = load_image('5.png') ###\n",
    "show_images(image)"
   ]
  },
  {
   "cell_type": "markdown",
   "metadata": {},
   "source": [
    "#### 2) Upravte obrázek do podoby, v jaké půjde QR kód přečíst\n",
    "TODO text"
   ]
  },
  {
   "cell_type": "code",
   "execution_count": 161,
   "metadata": {},
   "outputs": [
    {
     "data": {
      "text/plain": [
       "(6144, 3025)"
      ]
     },
     "execution_count": 161,
     "metadata": {},
     "output_type": "execute_result"
    }
   ],
   "source": [
    "height, width, channels = image.shape\n",
    "width, height"
   ]
  },
  {
   "cell_type": "code",
   "execution_count": 168,
   "metadata": {},
   "outputs": [],
   "source": [
    "new_width, new_height = width // 5, height // 11 ###\n",
    "resized_image = resize(image, (new_width, new_height)) ###\n",
    "show_images(resized_image)"
   ]
  },
  {
   "cell_type": "code",
   "execution_count": 169,
   "metadata": {},
   "outputs": [],
   "source": [
    "negative_image = negative(resized_image)\n",
    "show_images(negative_image)"
   ]
  },
  {
   "cell_type": "markdown",
   "metadata": {},
   "source": [
    "#### 3) Pomocí knihovy pyzbar přečtěte z QR kódu zakódovaný text"
   ]
  },
  {
   "cell_type": "code",
   "execution_count": 163,
   "metadata": {},
   "outputs": [
    {
     "data": {
      "text/plain": [
       "(b'Kazdy Fitak chce energetak!', Rect(left=540, top=69, width=88, height=90))"
      ]
     },
     "execution_count": 163,
     "metadata": {},
     "output_type": "execute_result"
    }
   ],
   "source": [
    "decoded = pyzbar.pyzbar.decode(resized_image)\n",
    "if len(decoded) < 1:\n",
    "    raise RuntimeError(\"Nebyl nalezen zadny QR kod\")\n",
    "qr = decoded[0]\n",
    "qr_data, qr_rect = qr.data, qr.rect\n",
    "qr_data, qr_rect"
   ]
  },
  {
   "cell_type": "code",
   "execution_count": 164,
   "metadata": {},
   "outputs": [
    {
     "data": {
      "text/plain": [
       "'Kazdy Fitak chce energetak!'"
      ]
     },
     "execution_count": 164,
     "metadata": {},
     "output_type": "execute_result"
    }
   ],
   "source": [
    "qr_text = qr_data.decode(\"utf-8\")\n",
    "qr_text"
   ]
  },
  {
   "cell_type": "code",
   "execution_count": null,
   "metadata": {},
   "outputs": [],
   "source": []
  }
 ],
 "metadata": {
  "kernelspec": {
   "display_name": "Python 3",
   "language": "python",
   "name": "python3"
  },
  "language_info": {
   "codemirror_mode": {
    "name": "ipython",
    "version": 3
   },
   "file_extension": ".py",
   "mimetype": "text/x-python",
   "name": "python",
   "nbconvert_exporter": "python",
   "pygments_lexer": "ipython3",
   "version": "3.7.6"
  }
 },
 "nbformat": 4,
 "nbformat_minor": 2
}
