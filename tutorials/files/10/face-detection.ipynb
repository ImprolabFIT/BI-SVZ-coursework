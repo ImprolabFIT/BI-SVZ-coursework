{
 "cells": [
  {
   "cell_type": "markdown",
   "metadata": {},
   "source": [
    "# Detekce obličeje pomocí termokamery\n",
    "\n",
    "Cvičení je zaměřené na práci s [termokamerami](https://en.wikipedia.org/wiki/Thermographic_camera). Termokamera je zařízení, které snímá obraz v IR spektru, podobně jako RGB kamery, které snímají ve viditelném spektru. Výstupem termokamery je `Radiometric image`, ve kterém je v každém pixelu zakódována hodnota nasnímané teploty v proprietárním formátu. Dnešní pokročilejší software dovoluje exportovat nasnímané obrázky ve formátu `csv`, ve kterém jsou umístěné skutečné hodnoty teplot ve škále pro nás známé.\n",
    "\n",
    "\n",
    "Termokamery jsou aktivně používané v průmyslu, např. pro kontrolu zahřívání elektických součástek nebo kotrolu vadností solárních panelů pomocí dronů.\n",
    "\n",
    "![](images/solar.png)"
   ]
  },
  {
   "cell_type": "markdown",
   "metadata": {},
   "source": [
    "### Import knihoven a konfigurace"
   ]
  },
  {
   "cell_type": "code",
   "execution_count": null,
   "metadata": {},
   "outputs": [],
   "source": [
    "%run ../svz.ipynb\n",
    "from collections import OrderedDict"
   ]
  },
  {
   "cell_type": "markdown",
   "metadata": {},
   "source": [
    "### Pomocné funkce\n",
    "Z následujících funkcí je potřeba vybírat ty vhodné pro splnění úkolu."
   ]
  },
  {
   "cell_type": "markdown",
   "metadata": {},
   "source": [
    "Třída pro práci s popisnými charakteristikami tvarů a jednotlivé dílčí funkce. **Pozor, že tady fukce jako parametr berou konturu!** \n",
    "\n",
    "- [`roundness(...)`](../svz.ipynb#shape_desc_funtions)\n",
    "- [`aspect_ratio(...)`](../svz.ipynb#shape_desc_funtions)\n",
    "- [`convexity(...)`](../svz.ipynb#shape_desc_funtions)\n",
    "- [`solidity(...)`](../svz.ipynb#shape_desc_funtions)\n",
    "- [`compactness(...)`](../svz.ipynb#shape_desc_funtions)\n",
    "- [`extent(...)`](../svz.ipynb#shape_desc_funtions)"
   ]
  },
  {
   "cell_type": "markdown",
   "metadata": {},
   "source": [
    "#### Normalizace obrázku a převedení do BGR"
   ]
  },
  {
   "cell_type": "code",
   "execution_count": null,
   "metadata": {},
   "outputs": [],
   "source": [
    "def normalized_image(img):\n",
    "    scaled = ((img - img.min()) * (1/(img.max() - img.min()) * 255)).astype('uint8')\n",
    "    return cv2.cvtColor(scaled, cv2.COLOR_GRAY2BGR)"
   ]
  },
  {
   "cell_type": "markdown",
   "metadata": {},
   "source": [
    "---"
   ]
  },
  {
   "cell_type": "markdown",
   "metadata": {},
   "source": [
    "### Úkol\n",
    "Detekujte obličej na termosnímku, použijte znalosti klasifikace pomocí tvarových chrakteristik z předchozího cvičení."
   ]
  },
  {
   "cell_type": "markdown",
   "metadata": {},
   "source": [
    "#### 1) Získejte termosnimek s obličejem\n",
    "Na vašem počítači je k dispozici program `Core player`, pomocí kterého se dá získat termosnímek. Potřebujeme data s hodnotami teplot ve formátu `csv`.\n",
    "\n",
    "Pro zjednodušení zobrazování lze použít pomocnou funkci `normalized_image`, která převede csv obrázek na BGR obrázek."
   ]
  },
  {
   "cell_type": "code",
   "execution_count": null,
   "metadata": {},
   "outputs": [],
   "source": [
    "filename = '' ###\n",
    "img_csv = np.genfromtxt(filename, delimiter=';')[:, :-1]\n",
    "\n",
    "show_images(normalized_image(img_csv))"
   ]
  },
  {
   "cell_type": "markdown",
   "metadata": {},
   "source": [
    "#### 2) Segmentace obličeje\n",
    "Vymyslete způsob, jak se dá segmentovat obličej v termosnímku. Zkuste experimentovat s tímto parametrem na více snímkách s vámi a vaším kolegou."
   ]
  },
  {
   "cell_type": "code",
   "execution_count": null,
   "metadata": {},
   "outputs": [],
   "source": [
    "_, bin_mask = ###"
   ]
  },
  {
   "cell_type": "code",
   "execution_count": null,
   "metadata": {},
   "outputs": [],
   "source": [
    "# convert binary mask back to image format\n",
    "bin_mask[bin_mask > 0] = 255\n",
    "bin_mask = bin_mask.astype(np.uint8)\n",
    "show_images(bin_mask)"
   ]
  },
  {
   "cell_type": "markdown",
   "metadata": {},
   "source": [
    "#### 3) Získejte vlasnosti segmentovaných objektů\n",
    "Získejte kontury segmentovaných objektů, a odfiltrujte šum, např. pomocí plochy kontury, dejte pozor na to, že obličej  může mít na různých snímkách různé rozměry.\n",
    "U získaných kontur spočtěte popisné tvarové charakteristiky, použijte znalosti z minulého cvičení."
   ]
  },
  {
   "cell_type": "code",
   "execution_count": null,
   "metadata": {},
   "outputs": [],
   "source": [
    "_, _, conts = ###\n",
    "no_noise_conts = ###\n",
    "contour_drawn = cv2.drawContours ###\n",
    "show_images(contour_drawn)"
   ]
  },
  {
   "cell_type": "code",
   "execution_count": null,
   "metadata": {},
   "outputs": [],
   "source": [
    "# tvarové charakteristiky\n",
    "\n"
   ]
  },
  {
   "cell_type": "markdown",
   "metadata": {},
   "source": [
    "#### 4) Vyberte ručně významné vlasnosti a jejich hodnoty na odlišení obličeje od ostatních objektů"
   ]
  },
  {
   "cell_type": "code",
   "execution_count": null,
   "metadata": {},
   "outputs": [],
   "source": [
    "filtered_conts = ###"
   ]
  },
  {
   "cell_type": "markdown",
   "metadata": {},
   "source": [
    "#### 5) Udělejte vizualizaci výsledné detekce\n",
    "Použijte aproximace obdélníkem nebo elipsou pro demonstrační účely ([ukázka](https://docs.opencv.org/3.1.0/dd/d49/tutorial_py_contour_features.html))."
   ]
  },
  {
   "cell_type": "code",
   "execution_count": null,
   "metadata": {},
   "outputs": [],
   "source": [
    "img = normalized_image(img_csv)\n",
    "for cont in filtered_conts:\n",
    "    ###\n",
    "show_images(img)###"
   ]
  },
  {
   "cell_type": "markdown",
   "metadata": {},
   "source": [
    "#### 6) Vyzkoušejte vás detekční algoritmus na referenčním obrázku"
   ]
  },
  {
   "cell_type": "code",
   "execution_count": null,
   "metadata": {},
   "outputs": [],
   "source": [
    "filenames = ['images/1.csv', 'images/2.csv', 'images/3.csv', 'images/4.csv']\n",
    "\n",
    "###"
   ]
  }
 ],
 "metadata": {
  "kernelspec": {
   "display_name": "Python [default]",
   "language": "python",
   "name": "python3"
  },
  "language_info": {
   "codemirror_mode": {
    "name": "ipython",
    "version": 3
   },
   "file_extension": ".py",
   "mimetype": "text/x-python",
   "name": "python",
   "nbconvert_exporter": "python",
   "pygments_lexer": "ipython3",
   "version": "3.6.6"
  }
 },
 "nbformat": 4,
 "nbformat_minor": 2
}
