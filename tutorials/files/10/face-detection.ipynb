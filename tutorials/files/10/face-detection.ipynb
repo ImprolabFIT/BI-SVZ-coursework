{
 "cells": [
  {
   "cell_type": "markdown",
   "metadata": {},
   "source": [
    "# Detekce obličeje pomoci termokamery\n",
    "\n",
    "Cvičení je zaměřené na práci s [termokamerama](https://en.wikipedia.org/wiki/Thermographic_camera). Termokamera je zařízení, které snímá obráz v IR spektru, podobně jako RGB kamery, které snímají ve viditelném spektru. Výstupem termokamery je `Radiometric image`, ve kterém v každém pixelu je zakódována hodnota nasnímané teploty v proprietarním formátu. Dneska pokročilejší software dovoluje exportovat nasnímané obraky ve formátu `csv`, ve kterém jsou umístěné skutečně hodnoty teplot ve škale pro nás zname.\n",
    "\n",
    "\n",
    "Termokamery jsou aktivně používané v průmyslu, napr. pro kontrolu zahřívání elektickych součástek, nebo kotrolu vadností solárního panelů pomoci dronu.\n",
    "\n",
    "![](images/solar.png)"
   ]
  },
  {
   "cell_type": "markdown",
   "metadata": {},
   "source": [
    "### Import knihoven a konfigurace"
   ]
  },
  {
   "cell_type": "code",
   "execution_count": null,
   "metadata": {},
   "outputs": [],
   "source": [
    "%run ../svz.ipynb\n",
    "from collections import OrderedDict"
   ]
  },
  {
   "cell_type": "markdown",
   "metadata": {},
   "source": [
    "### Pomocné funkce\n",
    "Z následujících funkcí je potřeba vybírat ty vhodné pro splnění úkolu."
   ]
  },
  {
   "cell_type": "markdown",
   "metadata": {},
   "source": [
    "<a id='new_functions'>Funkce z predchoziho cviceni</a> \n",
    "\n",
    "**Pozor že tady fukce jako parametr berou konturu!** "
   ]
  },
  {
   "cell_type": "markdown",
   "metadata": {},
   "source": [
    "Třída pro práci s popisnými charakteristikami tvarů a jednotlivé dílčí funkce."
   ]
  },
  {
   "cell_type": "code",
   "execution_count": null,
   "metadata": {
    "code_folding": [
     1,
     24,
     29,
     38,
     46,
     56,
     66,
     75
    ],
    "run_control": {
     "marked": false
    }
   },
   "outputs": [],
   "source": [
    "# Dimensionless descriptors\n",
    "class ShapeDescriptors:\n",
    "    def form_factor(area, perimeter):\n",
    "        return (4 * np.pi * area) / (perimeter * perimeter)\n",
    "    \n",
    "    def roundness(area, max_diameter):\n",
    "        return (4 * area) / (np.pi * max_diameter * max_diameter)\n",
    "    \n",
    "    def aspect_ratio(min_diameter, max_diameter):\n",
    "        return min_diameter / max_diameter;\n",
    "    \n",
    "    def convexity(perimeter, convex_perimeter):\n",
    "        return convex_perimeter / perimeter\n",
    "    \n",
    "    def solidity(area, convex_area):\n",
    "        return area / convex_area\n",
    "    \n",
    "    def compactness(area, max_diameter):\n",
    "        return np.sqrt(4 / np.pi * area) / max_diameter;\n",
    "        \n",
    "    def extent(area, bounding_rectangle_area):\n",
    "        return area / bounding_rectangle_area;\n",
    "\n",
    "# Špičatost\n",
    "def form_factor(cont):\n",
    "    return ShapeDescriptors.form_factor(cv2.contourArea(cont), cv2.arcLength(cont, True))\n",
    "\n",
    "# Kulatost\n",
    "def roundness(cont):\n",
    "    area = cv2.contourArea(cont)\n",
    "    _,radius = cv2.minEnclosingCircle(cont)\n",
    "    r = ShapeDescriptors.roundness(area, 2*radius)\n",
    "    if r > 1: r = 1\n",
    "    return r\n",
    "\n",
    "# Poměr stran\n",
    "def aspect_ratio(cont):\n",
    "    dims = cv2.minAreaRect(cont)[1]\n",
    "    min_diameter = min(dims)\n",
    "    max_diameter = max(dims)\n",
    "    return ShapeDescriptors.aspect_ratio(min_diameter, max_diameter)\n",
    "    \n",
    "# Konvexita, vypouklost\n",
    "def convexity(cont):\n",
    "    hull = cv2.convexHull(cont, None, True, True)\n",
    "    per = cv2.arcLength(cont, True)\n",
    "    conv_per = cv2.arcLength(hull, True)\n",
    "    r = ShapeDescriptors.convexity(per, conv_per)\n",
    "    if r > 1: r = 1\n",
    "    return r \n",
    "\n",
    "# Plnost, celistvost\n",
    "def solidity(cont):\n",
    "    hull = cv2.convexHull(cont, None, True, True)\n",
    "    area = cv2.contourArea(cont)\n",
    "    conv_area = cv2.contourArea(hull)\n",
    "    r = ShapeDescriptors.solidity(area, conv_area)\n",
    "    if r > 1: r = 1\n",
    "    return r \n",
    "    \n",
    "# Kompaktnost, hutnost\n",
    "def compactness(cont):\n",
    "    area = cv2.contourArea(cont)\n",
    "    max_diameter = max(cv2.minAreaRect(cont)[1])\n",
    "    r = ShapeDescriptors.compactness(area, max_diameter)\n",
    "    if r > 1: r = 1\n",
    "    return r \n",
    "    \n",
    "# Dosah, rozměrnost\n",
    "def extent(cont):\n",
    "    area = cv2.contourArea(cont)\n",
    "    w, h = cv2.minAreaRect(cont)[1]\n",
    "    return ShapeDescriptors.extent(area, w*h)"
   ]
  },
  {
   "cell_type": "markdown",
   "metadata": {},
   "source": [
    "#### Normalizace obrázku a převedení do BGR"
   ]
  },
  {
   "cell_type": "code",
   "execution_count": null,
   "metadata": {},
   "outputs": [],
   "source": [
    "def normalized_image(img):\n",
    "    scaled = ((img - img.min()) * (1/(img.max() - img.min()) * 255)).astype('uint8')\n",
    "    return cv2.cvtColor(scaled, cv2.COLOR_GRAY2BGR)"
   ]
  },
  {
   "cell_type": "markdown",
   "metadata": {},
   "source": [
    "---"
   ]
  },
  {
   "cell_type": "markdown",
   "metadata": {},
   "source": [
    "Seznam předchozích funkcí pro přehlednost:\n",
    "- [`connect_camera(...)`](../svz.ipynb#connect_functions)\n",
    "\n",
    "\n",
    "- [`show_images(...)`](../svz.ipynb#show_functions)\n",
    "- [`plot_images(...)`](../svz.ipynb#show_functions)\n",
    "\n",
    "\n",
    "- [`to_gray(...)`](../svz.ipynb#preprocessing_functions)\n",
    "- [`to_hsv(...)`](../svz.ipynb#preprocessing_functions)\n",
    "- [`negative(...)`](../svz.ipynb#preprocessing_functions)\n",
    "- [`crop(...)`](../svz.ipynb#preprocessing_functions)\n",
    "\n",
    "\n",
    "- [`segmentation_one_threshold(...)`](../svz.ipynb#segmentation_functions)\n",
    "- [`segmentation_auto_threshold(...)`](../svz.ipynb#segmentation_functions)\n",
    "- [`segmentation_two_thresholds(...)`](../svz.ipynb#segmentation_functions)\n",
    "- [`contours(...)`](../svz.ipynb#segmentation_functions)\n",
    "\n",
    "\n",
    "- [`filtration_median(...)`](../svz.ipynb#filtration_functions)\n",
    "- [`fill_holes(...)`](../svz.ipynb#filtration_functions)\n",
    "\n",
    "\n",
    "- [`ocr(...)`](../svz.ipynb#ocr)\n",
    "\n",
    "\n",
    "- [`to_intensity(...)`](../svz.ipynb#others)\n",
    "\n",
    "\n",
    "- [`warp_to_cartesian(...)`](../svz.ipynb#cart_polar_functions)\n",
    "- [`warp_to_polar(...)`](../svz.ipynb#cart_polar_functions)\n",
    "- [`rotate(...)`](../svz.ipynb#cart_polar_functions)\n",
    "\n",
    "\n",
    "- [`artificial_circle_image(...)`](../svz.ipynb#artificial_funtions)"
   ]
  },
  {
   "cell_type": "markdown",
   "metadata": {},
   "source": [
    "### Úkol\n",
    "Detekujte obličej na termosnimku, použijte znalosti klasifikace pomoci tvarových chrakteristik z předchozího cvičení."
   ]
  },
  {
   "cell_type": "markdown",
   "metadata": {},
   "source": [
    "#### 1) Získejte termosnimek s obličejem\n",
    "Na vaším počítači je k dispozici program `Core player` pomoci kterého se dá získat termosnimek. Potřebujeme data s teplotními hodnotami ve formátu `csv`\n",
    "\n",
    "Pro zjednodušení zobrazování lze požít `normalized_image` pomocnou funkci, která převede csv obrázek na BGR obrázek."
   ]
  },
  {
   "cell_type": "code",
   "execution_count": null,
   "metadata": {},
   "outputs": [],
   "source": [
    "filename = '' ###\n",
    "img_csv = np.genfromtxt(filename, delimiter=';')[:, :-1]\n",
    "\n",
    "show_images(normalized_image(img_csv))"
   ]
  },
  {
   "cell_type": "markdown",
   "metadata": {},
   "source": [
    "#### 2) Segmentace obličeje\n",
    "Vymyslíte způsob jak se dá segmentovat obličej v termosnimku. Zkuste experimentovat s těmto parametrem, třeba na více snimkech s vámi a vaším kolegou."
   ]
  },
  {
   "cell_type": "code",
   "execution_count": null,
   "metadata": {},
   "outputs": [],
   "source": [
    "_, bin_mask = ###"
   ]
  },
  {
   "cell_type": "code",
   "execution_count": null,
   "metadata": {},
   "outputs": [],
   "source": [
    "# convert binary mask back to image format\n",
    "bin_mask[bin_mask > 0] = 255\n",
    "bin_mask = bin_mask.astype(np.uint8)\n",
    "show_images(bin_mask)"
   ]
  },
  {
   "cell_type": "markdown",
   "metadata": {},
   "source": [
    "#### 3) Získejte vlasnosti nasegmentovaných objektu\n",
    "Získejte kontury segmentovaných objektů, a odfiltrujte šum, napr. pomoci plochy pod konturou, dejte pozor na to že obličej na různých snimkech může mít různé rozměry.\n",
    "U získaných kontur spočtěte popisné tvarové charakteristiky, použijte znalosti z minulého cvičení."
   ]
  },
  {
   "cell_type": "code",
   "execution_count": null,
   "metadata": {},
   "outputs": [],
   "source": [
    "_, _, conts = ###\n",
    "no_noise_conts = ###\n",
    "contour_drawn = cv2.drawContours ###\n",
    "show_images(contour_drawn)"
   ]
  },
  {
   "cell_type": "code",
   "execution_count": null,
   "metadata": {},
   "outputs": [],
   "source": [
    "# tvarové charakteristiky\n",
    "\n"
   ]
  },
  {
   "cell_type": "markdown",
   "metadata": {},
   "source": [
    "#### 4) Vyberte ručně vyznamne vlasnosti a jejich hodnoty na odlišení obličeje od ostatních objektů"
   ]
  },
  {
   "cell_type": "code",
   "execution_count": null,
   "metadata": {},
   "outputs": [],
   "source": [
    "filtered_conts = ###"
   ]
  },
  {
   "cell_type": "markdown",
   "metadata": {},
   "source": [
    "#### 5) Udělejte vizualizace výsledné detekce\n",
    "Použijte aproximace obdélníkem nebo elipsou pro demonstrační účely\n",
    "\n",
    "[Priklad](https://docs.opencv.org/3.1.0/dd/d49/tutorial_py_contour_features.html)"
   ]
  },
  {
   "cell_type": "code",
   "execution_count": null,
   "metadata": {},
   "outputs": [],
   "source": [
    "img = normalized_image(img_csv)\n",
    "for cont in filtered_conts:\n",
    "    ###\n",
    "show_images(img)###"
   ]
  },
  {
   "cell_type": "markdown",
   "metadata": {},
   "source": [
    "#### 6) Vyzkoušejte vás detekční algoritmus na referenčním obrázku"
   ]
  },
  {
   "cell_type": "code",
   "execution_count": null,
   "metadata": {},
   "outputs": [],
   "source": [
    "filenames = ['images/1.csv', 'images/2.csv', 'images/3.csv', 'images/4.csv']\n",
    "\n",
    "###"
   ]
  }
 ],
 "metadata": {
  "kernelspec": {
   "display_name": "Python [default]",
   "language": "python",
   "name": "python3"
  },
  "language_info": {
   "codemirror_mode": {
    "name": "ipython",
    "version": 3
   },
   "file_extension": ".py",
   "mimetype": "text/x-python",
   "name": "python",
   "nbconvert_exporter": "python",
   "pygments_lexer": "ipython3",
   "version": "3.6.6"
  }
 },
 "nbformat": 4,
 "nbformat_minor": 2
}
