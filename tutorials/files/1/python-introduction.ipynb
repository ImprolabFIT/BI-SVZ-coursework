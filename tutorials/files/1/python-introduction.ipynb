{
 "cells": [
  {
   "cell_type": "markdown",
   "metadata": {},
   "source": [
    "# Python tips\n",
    "\n",
    "This notebook consists of small Python tips which will help you to understand the code we prepared for you in lab exercises.\n",
    "\n",
    "Useful links:\n",
    "1. [PEP 8 -- Style Guide for Python Code](https://www.python.org/dev/peps/pep-0008/?) (MUST READ)\n",
    "1. [Intermediate Python](http://book.pythontips.com/en/latest/index.html) (this notebook inspiration)\n"
   ]
  },
  {
   "cell_type": "code",
   "execution_count": 1,
   "metadata": {},
   "outputs": [],
   "source": [
    "import numpy as np\n",
    "import scipy\n",
    "import matplotlib\n",
    "import matplotlib.pyplot as plt\n",
    "import cv2\n",
    "import yaml\n",
    "\n",
    "from IPython.display import Image, display\n",
    "\n",
    "%matplotlib inline"
   ]
  },
  {
   "cell_type": "code",
   "execution_count": 2,
   "metadata": {},
   "outputs": [
    {
     "name": "stdout",
     "output_type": "stream",
     "text": [
      "1.14.3\n",
      "1.1.0\n",
      "2.2.3\n",
      "3.4.1\n"
     ]
    }
   ],
   "source": [
    "print(np.__version__)\n",
    "print(scipy.__version__)\n",
    "print(matplotlib.__version__)\n",
    "print(cv2.__version__)"
   ]
  },
  {
   "cell_type": "markdown",
   "metadata": {},
   "source": [
    "## \\*args, \\*\\*kwargs\n",
    "\n",
    "\\*args and \\*\\*kwargs are mostly used in function definitions. \\*args and \\*\\*kwargs allow you to pass a variable number of arguments to a function. What variable means here is that you do not know beforehand how many arguments can be passed to your function by the user so in this case you use these two keywords. "
   ]
  },
  {
   "cell_type": "markdown",
   "metadata": {},
   "source": [
    "**\\*args** is used to send a non-keyworded variable length argument list to the function. "
   ]
  },
  {
   "cell_type": "code",
   "execution_count": 3,
   "metadata": {},
   "outputs": [],
   "source": [
    "def say(phrase, *names):\n",
    "    for i in names:\n",
    "        print(phrase, ' ', i)"
   ]
  },
  {
   "cell_type": "code",
   "execution_count": 4,
   "metadata": {},
   "outputs": [
    {
     "name": "stdout",
     "output_type": "stream",
     "text": [
      "Hi   Alex\n",
      "Hi   Kuba\n"
     ]
    }
   ],
   "source": [
    "say('Hi', 'Alex', 'Kuba')"
   ]
  },
  {
   "cell_type": "markdown",
   "metadata": {},
   "source": [
    "**\\*\\*kwargs** allows you to pass keyworded variable length of arguments to a function. You should use \\*\\*kwargs if you want to handle named arguments in a function. "
   ]
  },
  {
   "cell_type": "code",
   "execution_count": 5,
   "metadata": {},
   "outputs": [],
   "source": [
    "def show(*args, **kwargs):\n",
    "    for i, v in enumerate(args):\n",
    "        print('Argument', i, '=', v)\n",
    "    \n",
    "    for k, v in kwargs.items():\n",
    "        print('Keyword argument', k, '=', v)"
   ]
  },
  {
   "cell_type": "code",
   "execution_count": 6,
   "metadata": {},
   "outputs": [
    {
     "name": "stdout",
     "output_type": "stream",
     "text": [
      "Argument 0 = 5\n",
      "Argument 1 = Hello\n",
      "Argument 2 = [1, 2, 3]\n",
      "Keyword argument number = 12\n",
      "Keyword argument name = Bob\n"
     ]
    }
   ],
   "source": [
    "show(5, 'Hello', [1, 2, 3], number=12, name='Bob')"
   ]
  },
  {
   "cell_type": "code",
   "execution_count": 7,
   "metadata": {},
   "outputs": [
    {
     "name": "stdout",
     "output_type": "stream",
     "text": [
      "Argument 0 = 4\n",
      "Argument 1 = 1\n",
      "Argument 2 = 6\n",
      "Argument 3 = Manager\n",
      "Argument 4 = Worker\n",
      "Argument 5 = Workers number\n"
     ]
    }
   ],
   "source": [
    "ids = [4, 1, 6]\n",
    "names = {'Manager': 'Bob', \n",
    "         'Worker': 'John',\n",
    "         'Workers number': 2}\n",
    "\n",
    "show(*ids, *names)"
   ]
  },
  {
   "cell_type": "markdown",
   "metadata": {},
   "source": [
    "## Standard collections and comprehensions \n",
    "\n",
    "Python is a dynamic typed interpreted language, therefore you can mixup different objects inside the collection."
   ]
  },
  {
   "cell_type": "markdown",
   "metadata": {},
   "source": [
    "### List"
   ]
  },
  {
   "cell_type": "code",
   "execution_count": 8,
   "metadata": {},
   "outputs": [
    {
     "name": "stdout",
     "output_type": "stream",
     "text": [
      "inline list definition: [1, 2, 4, 5]\n",
      "value assignment by index: ['10', 2, 4, 5]\n",
      "add to list: ['10', 2, 4, 5, 11]\n",
      "delete by index: ['10', 2, 5, 11]\n"
     ]
    }
   ],
   "source": [
    "# blank list\n",
    "a = []\n",
    "a = list()\n",
    "\n",
    "# inline list definition\n",
    "a = [1, 2, 4, 5]\n",
    "print('inline list definition:', a)\n",
    "\n",
    "# value assignment by index\n",
    "a[0] = '10'\n",
    "print('value assignment by index:', a)\n",
    "\n",
    "# add to list\n",
    "a.append(11)\n",
    "print('add to list:', a)\n",
    "\n",
    "# delete by index\n",
    "del a[2]\n",
    "print('delete by index:', a)"
   ]
  },
  {
   "cell_type": "code",
   "execution_count": 9,
   "metadata": {},
   "outputs": [
    {
     "name": "stdout",
     "output_type": "stream",
     "text": [
      "List comprehension: [0, 4, 16, 36, 64, 100]\n",
      "For if: [0, 4, 16, 36, 64, 100]\n"
     ]
    }
   ],
   "source": [
    "# List comprehension\n",
    "# List comprehensions provide a short and concise way to create lists.\n",
    "\n",
    "a = [i**2 for i in range(12) if i % 2 == 0]\n",
    "print('List comprehension:', a)\n",
    "\n",
    "a = []\n",
    "for i in range(12):\n",
    "    if i % 2 == 0:\n",
    "        a.append(i**2)\n",
    "print('For if:', a)"
   ]
  },
  {
   "cell_type": "markdown",
   "metadata": {},
   "source": [
    "### Tuple\n",
    "Immutable list"
   ]
  },
  {
   "cell_type": "code",
   "execution_count": 10,
   "metadata": {},
   "outputs": [
    {
     "ename": "TypeError",
     "evalue": "'tuple' object does not support item assignment",
     "output_type": "error",
     "traceback": [
      "\u001b[1;31m---------------------------------------------------------------------------\u001b[0m",
      "\u001b[1;31mTypeError\u001b[0m                                 Traceback (most recent call last)",
      "\u001b[1;32m<ipython-input-10-8b480a1ddce0>\u001b[0m in \u001b[0;36m<module>\u001b[1;34m()\u001b[0m\n\u001b[0;32m      4\u001b[0m \u001b[0mt\u001b[0m \u001b[1;33m=\u001b[0m \u001b[0mtuple\u001b[0m\u001b[1;33m(\u001b[0m\u001b[1;33m{\u001b[0m\u001b[1;36m1\u001b[0m\u001b[1;33m,\u001b[0m\u001b[1;36m2\u001b[0m\u001b[1;33m,\u001b[0m\u001b[1;36m3\u001b[0m\u001b[1;33m,\u001b[0m\u001b[1;36m5\u001b[0m\u001b[1;33m}\u001b[0m\u001b[1;33m)\u001b[0m\u001b[1;33m\u001b[0m\u001b[0m\n\u001b[0;32m      5\u001b[0m \u001b[1;33m\u001b[0m\u001b[0m\n\u001b[1;32m----> 6\u001b[1;33m \u001b[0mt\u001b[0m\u001b[1;33m[\u001b[0m\u001b[1;36m0\u001b[0m\u001b[1;33m]\u001b[0m \u001b[1;33m=\u001b[0m \u001b[1;36m10\u001b[0m\u001b[1;33m\u001b[0m\u001b[0m\n\u001b[0m",
      "\u001b[1;31mTypeError\u001b[0m: 'tuple' object does not support item assignment"
     ]
    }
   ],
   "source": [
    "# Inline definition ONLY! (immutable)\n",
    "t = (1,2,3,4)\n",
    "t = 1, 2, 3, 4\n",
    "t = tuple({1,2,3,5})\n",
    "\n",
    "t[0] = 10"
   ]
  },
  {
   "cell_type": "code",
   "execution_count": null,
   "metadata": {},
   "outputs": [],
   "source": [
    "del t[0]"
   ]
  },
  {
   "cell_type": "markdown",
   "metadata": {},
   "source": [
    "### Dict\n",
    "Simple key-value collection"
   ]
  },
  {
   "cell_type": "code",
   "execution_count": null,
   "metadata": {},
   "outputs": [],
   "source": [
    "# blank dict\n",
    "a = {}\n",
    "a = dict()\n",
    "\n",
    "# inline dict definition\n",
    "d = {\n",
    "    'a': 10,\n",
    "    1: 16,\n",
    "    1.5: 12\n",
    "}\n",
    "print('inline dict definition:', d)\n",
    "\n",
    "# value assignment by key\n",
    "d[1] = 18\n",
    "# even if does not exist\n",
    "d['newkey'] = 'value'\n",
    "print('value assignment by key', d)"
   ]
  },
  {
   "cell_type": "code",
   "execution_count": null,
   "metadata": {},
   "outputs": [],
   "source": [
    "# check if key exists in dict\n",
    "'newkey' in d\n",
    "d.__contains__('newkey')"
   ]
  },
  {
   "cell_type": "code",
   "execution_count": null,
   "metadata": {},
   "outputs": [],
   "source": [
    "# delete by key\n",
    "del d[1.5]\n",
    "print(d)"
   ]
  },
  {
   "cell_type": "code",
   "execution_count": null,
   "metadata": {},
   "outputs": [],
   "source": [
    "d.items()"
   ]
  },
  {
   "cell_type": "code",
   "execution_count": null,
   "metadata": {},
   "outputs": [],
   "source": [
    "# iteration over dict\n",
    "for key, value in d.items():\n",
    "    print(key, ' ', value)"
   ]
  },
  {
   "cell_type": "code",
   "execution_count": null,
   "metadata": {},
   "outputs": [],
   "source": [
    "print('Keys:', d.keys())\n",
    "print('Values:', d.values())"
   ]
  },
  {
   "cell_type": "code",
   "execution_count": null,
   "metadata": {},
   "outputs": [],
   "source": [
    "# By default every instance of some class has dict representation \n",
    "# It consists of attributes names (keys) and its' values, methods are not serialized\n",
    "\n",
    "class A:\n",
    "    a = 5\n",
    "    def __init__(self, d):\n",
    "        self.d = d\n",
    "        self._g = d\n",
    "    \n",
    "    def met(self):\n",
    "        return 6\n",
    "\n",
    "obj = A(3)\n",
    "obj.__dict__"
   ]
  },
  {
   "cell_type": "code",
   "execution_count": null,
   "metadata": {},
   "outputs": [],
   "source": [
    "# Dict comprehension\n",
    "# Dict comprehensions provide a short and concise way to create dicts.\n",
    "\n",
    "{\n",
    "    i : i**2\n",
    "    for i in range(12)\n",
    "    if i % 2 == 0\n",
    "}"
   ]
  },
  {
   "cell_type": "markdown",
   "metadata": {},
   "source": [
    "### Set"
   ]
  },
  {
   "cell_type": "code",
   "execution_count": null,
   "metadata": {},
   "outputs": [],
   "source": [
    "# Inline set definition\n",
    "s = set([1, 1, 1, 2, 3, '45', 5])\n",
    "s = {1, 1, 1, 2, 3, '45', 5} \n",
    "print('Inline set definition:', s)\n",
    "\n",
    "# add to set\n",
    "s.add(7)\n",
    "print('add to set:', s)\n",
    "\n",
    "\n",
    "# delete by value\n",
    "s.remove(2)\n",
    "print('delete by value:', s)\n",
    "\n",
    "# check if value is in set\n",
    "2 in s"
   ]
  },
  {
   "cell_type": "code",
   "execution_count": null,
   "metadata": {},
   "outputs": [],
   "source": [
    "# Set comprehension\n",
    "# Set comprehensions provide a short and concise way to create sets.\n",
    "{\n",
    "    i**2\n",
    "    for i in range(12)\n",
    "    if i % 2 == 0 \n",
    "}"
   ]
  },
  {
   "cell_type": "markdown",
   "metadata": {},
   "source": [
    "## Array slice notation\n",
    "\n",
    "`a[start:end]` - returns sub array from `start` index to `end` index\n",
    "\n",
    "`a[start:end:step]` - returns sub array from `start` index to `end` index by `step`\n",
    "\n",
    "\n",
    "`a[:end]` - returns sub array from the beginning to `end` index\n",
    "\n",
    "`a[start:]` - returns sub array from from `start` index to last element\n",
    "\n",
    "`a[:]` - whole array"
   ]
  },
  {
   "cell_type": "code",
   "execution_count": null,
   "metadata": {},
   "outputs": [],
   "source": [
    "a = [1,2,3,4,5,6,7,8,9,10]\n",
    "\n",
    "start = 2\n",
    "end = 5\n",
    "step = 2"
   ]
  },
  {
   "cell_type": "code",
   "execution_count": null,
   "metadata": {},
   "outputs": [],
   "source": [
    "a[start:end]"
   ]
  },
  {
   "cell_type": "code",
   "execution_count": null,
   "metadata": {},
   "outputs": [],
   "source": [
    "a[start:end:step]"
   ]
  },
  {
   "cell_type": "code",
   "execution_count": null,
   "metadata": {},
   "outputs": [],
   "source": [
    "a[:1]"
   ]
  },
  {
   "cell_type": "code",
   "execution_count": null,
   "metadata": {},
   "outputs": [],
   "source": [
    "a[start:]"
   ]
  },
  {
   "cell_type": "code",
   "execution_count": null,
   "metadata": {},
   "outputs": [],
   "source": [
    "a[:]"
   ]
  },
  {
   "cell_type": "markdown",
   "metadata": {},
   "source": [
    "The other feature is that start or end may be a negative number:\n",
    "\n",
    "`a[-1]` - last item in the array\n",
    "\n",
    "`a[-2:]` - last two items in the array\n",
    "\n",
    "`a[:-2]` - everything except the last two items"
   ]
  },
  {
   "cell_type": "code",
   "execution_count": null,
   "metadata": {},
   "outputs": [],
   "source": [
    "a[-1]"
   ]
  },
  {
   "cell_type": "code",
   "execution_count": null,
   "metadata": {},
   "outputs": [],
   "source": [
    "a[-2:]"
   ]
  },
  {
   "cell_type": "code",
   "execution_count": null,
   "metadata": {},
   "outputs": [],
   "source": [
    "a[:-2]"
   ]
  },
  {
   "cell_type": "markdown",
   "metadata": {},
   "source": [
    "Similarly, step may be a negative number:\n",
    "\n",
    "`a[::-1]` - all items in the array, reversed\n",
    "\n",
    "`a[1::-1]` - the first two items, reversed\n",
    "\n",
    "`a[:-3:-1]` - the last two items, reversed\n",
    "\n",
    "`a[-3::-1]`- everything except the last two items, reversed"
   ]
  },
  {
   "cell_type": "code",
   "execution_count": null,
   "metadata": {},
   "outputs": [],
   "source": [
    "a[::-1]"
   ]
  },
  {
   "cell_type": "code",
   "execution_count": null,
   "metadata": {},
   "outputs": [],
   "source": [
    "a[1::-1]"
   ]
  },
  {
   "cell_type": "code",
   "execution_count": null,
   "metadata": {},
   "outputs": [],
   "source": [
    "a[:-3:-1]"
   ]
  },
  {
   "cell_type": "code",
   "execution_count": null,
   "metadata": {},
   "outputs": [],
   "source": [
    "a[-3::-1]"
   ]
  },
  {
   "cell_type": "markdown",
   "metadata": {},
   "source": [
    "## Map, Filter and Reduce"
   ]
  },
  {
   "cell_type": "markdown",
   "metadata": {},
   "source": [
    "### Map\n",
    "\n",
    "Map applies a function to all the items in an input_list.\n",
    "\n",
    "**Blueprint**:\n",
    "```python\n",
    "    map(function_to_apply, list_of_inputs)\n",
    "```"
   ]
  },
  {
   "cell_type": "code",
   "execution_count": null,
   "metadata": {},
   "outputs": [],
   "source": [
    "items = [1, 2, 3, 4, 5]\n",
    "\n",
    "mapped = list(map(lambda x: x**2, items))\n",
    "print(mapped)"
   ]
  },
  {
   "cell_type": "code",
   "execution_count": null,
   "metadata": {},
   "outputs": [],
   "source": [
    "squared = []\n",
    "for i in items:\n",
    "    squared.append(i**2)\n",
    "print(squared)"
   ]
  },
  {
   "cell_type": "markdown",
   "metadata": {},
   "source": [
    "### Filter\n",
    "\n",
    "Filters iterable using function that returns boolean value.\n",
    "\n",
    "**Blueprint**:\n",
    "```python\n",
    "    filter(function_to_apply, list_of_inputs)\n",
    "```"
   ]
  },
  {
   "cell_type": "code",
   "execution_count": null,
   "metadata": {},
   "outputs": [],
   "source": [
    "items = range(-5, 5)\n",
    "\n",
    "list(filter(lambda x: x > 0, items))"
   ]
  },
  {
   "cell_type": "code",
   "execution_count": null,
   "metadata": {},
   "outputs": [],
   "source": [
    "filtered = []\n",
    "for i in items:\n",
    "    if i > 0:\n",
    "        filtered.append(i)\n",
    "print(filtered)"
   ]
  },
  {
   "cell_type": "markdown",
   "metadata": {},
   "source": [
    "### Reduce\n",
    "\n",
    "Applies a rolling computation to sequential pairs of values in a list.\n",
    "\n",
    "**Blueprint**:\n",
    "```python\n",
    "    reduce(function_to_apply, list_of_inputs)\n",
    "```"
   ]
  },
  {
   "cell_type": "code",
   "execution_count": null,
   "metadata": {},
   "outputs": [],
   "source": [
    "from functools import reduce"
   ]
  },
  {
   "cell_type": "code",
   "execution_count": null,
   "metadata": {},
   "outputs": [],
   "source": [
    "items = [1, 2, 3, 4, 5]\n",
    "\n",
    "reduce(lambda x,y: x*y, items)"
   ]
  },
  {
   "cell_type": "code",
   "execution_count": null,
   "metadata": {},
   "outputs": [],
   "source": [
    "product = 1\n",
    "for num in items:\n",
    "    product = product * num\n",
    "product"
   ]
  },
  {
   "cell_type": "markdown",
   "metadata": {},
   "source": [
    "## Ternary operators\n",
    "\n",
    "**Blueprint**:\n",
    "\n",
    "```python\n",
    "condition_is_true if condition else condition_is_false\n",
    "```"
   ]
  },
  {
   "cell_type": "code",
   "execution_count": null,
   "metadata": {},
   "outputs": [],
   "source": [
    "'yes' if 5 == 4 + 1 else 'no'"
   ]
  },
  {
   "cell_type": "code",
   "execution_count": null,
   "metadata": {},
   "outputs": [],
   "source": [
    "# Small python hack :) True(1), False(0)\n",
    "# Condition result - index index in a tuple\n",
    "('nope', 'yep')[2 == 2]"
   ]
  },
  {
   "cell_type": "markdown",
   "metadata": {},
   "source": [
    "## Multiple return values"
   ]
  },
  {
   "cell_type": "code",
   "execution_count": null,
   "metadata": {},
   "outputs": [],
   "source": [
    "def prod_sum(x, y):\n",
    "    return x*y, x+y, x-y # tuple is returned\n",
    "\n",
    "# return value unpacking\n",
    "p, g, _ = prod_sum(10, 20) # _ is used in python for values, which will not be used in advance\n",
    "\n",
    "print(p, ' ', g)\n",
    "print(prod_sum(10, 20))"
   ]
  },
  {
   "cell_type": "code",
   "execution_count": null,
   "metadata": {},
   "outputs": [],
   "source": [
    "# Attention\n",
    "# unpacking will not work if number of values in returned tuple will be different from expected,\n",
    "# if you expect 1 value whole tuple is returned\n",
    "\n",
    "print('One value', prod_sum(9, 0))\n",
    "\n",
    "a, b = prod_sum(9, 0)"
   ]
  },
  {
   "cell_type": "markdown",
   "metadata": {},
   "source": [
    "## Range\n",
    "\n",
    "Generator of a range\n",
    "\n",
    "**Blueprint**:\n",
    "\n",
    "```python\n",
    "range(end) # from 0 to end - 1\n",
    "range(start, end) # from start to end - 1\n",
    "range(start, end, step) # from start to end - 1 through step\n",
    "```"
   ]
  },
  {
   "cell_type": "code",
   "execution_count": null,
   "metadata": {},
   "outputs": [],
   "source": [
    "list(range(5))"
   ]
  },
  {
   "cell_type": "code",
   "execution_count": null,
   "metadata": {},
   "outputs": [],
   "source": [
    "list(range(2, 5))"
   ]
  },
  {
   "cell_type": "code",
   "execution_count": null,
   "metadata": {},
   "outputs": [],
   "source": [
    "list(range(10, 5, -1))"
   ]
  },
  {
   "cell_type": "markdown",
   "metadata": {},
   "source": [
    "## Enumerate\n",
    "\n",
    "Generator that allows to loop over something and have an automatic counter(index)\n",
    "\n",
    "**Blueprint**:\n",
    "\n",
    "```python\n",
    "for index, value in enumerate(some_list):\n",
    "    print(index, value)\n",
    "```"
   ]
  },
  {
   "cell_type": "code",
   "execution_count": null,
   "metadata": {},
   "outputs": [],
   "source": [
    "for index, value in enumerate('Hello!'):\n",
    "    print(index, value)"
   ]
  },
  {
   "cell_type": "markdown",
   "metadata": {},
   "source": [
    "## Exceptions\n",
    "\n",
    "**Blueprint**:\n",
    "\n",
    "```python\n",
    "try:\n",
    "    print('I am sure no exception is going to occur!')\n",
    "except Exception:\n",
    "    print('exception')\n",
    "else:\n",
    "    # any code that should only run if no exception occurs in the try,\n",
    "    # but for which exceptions should NOT be caught\n",
    "    print('This would only run if no exception occurs. And an error here '\n",
    "          'would NOT be caught.')\n",
    "finally:\n",
    "    print('This would be printed in every case.')\n",
    "```"
   ]
  },
  {
   "cell_type": "code",
   "execution_count": null,
   "metadata": {},
   "outputs": [],
   "source": [
    "try:\n",
    "    print('I am sure no exception is going to occur!')\n",
    "except Exception:\n",
    "    print('exception')\n",
    "else:\n",
    "    print('This would only run if no exception occurs. And an error here '\n",
    "          'would NOT be caught.')\n",
    "finally:\n",
    "    print('This would be printed in every case.')"
   ]
  },
  {
   "cell_type": "code",
   "execution_count": null,
   "metadata": {},
   "outputs": [],
   "source": [
    "try:\n",
    "    print('I am sure no exception is going to occur!')\n",
    "    raise Exception('nmjcejkhnfjenh')\n",
    "except Exception as e:\n",
    "    print('exception: ', e)\n",
    "else:\n",
    "    # any code that should only run if no exception occurs in the try,\n",
    "    # but for which exceptions should NOT be caught\n",
    "    print('This would only run if no exception occurs. And an error here '\n",
    "          'would NOT be caught.')\n",
    "finally:\n",
    "    print('This would be printed in every case.')"
   ]
  },
  {
   "cell_type": "code",
   "execution_count": null,
   "metadata": {},
   "outputs": [],
   "source": [
    "try:\n",
    "    print('I am sure no exception is going to occur!')\n",
    "    raise Exception('nmjcejkhnfjenh')\n",
    "except Exception as e:\n",
    "    print('exception: ', e)\n",
    "    raise # raises same exception\n",
    "else:\n",
    "    # any code that should only run if no exception occurs in the try,\n",
    "    # but for which exceptions should NOT be caught\n",
    "    print('This would only run if no exception occurs. And an error here '\n",
    "          'would NOT be caught.')\n",
    "finally:\n",
    "    print('This would be printed in every case.')"
   ]
  },
  {
   "cell_type": "markdown",
   "metadata": {},
   "source": [
    "## Lambdas\n",
    "\n",
    "One line anonymous functions.\n",
    "\n",
    "**Blueprint**:\n",
    "\n",
    "```python\n",
    "lambda arg1,arg2,..,argn: manipulate(arg1,arg2,..,argn)\n",
    "```"
   ]
  },
  {
   "cell_type": "code",
   "execution_count": null,
   "metadata": {},
   "outputs": [],
   "source": [
    "def mult(x, y):\n",
    "    return x*y\n",
    "print('mult(2,5) = ', mult(2, 5))\n",
    "\n",
    "mult = lambda x,y: x*y\n",
    "print('mult(2,5) = ', mult(2, 5), '\\n')"
   ]
  },
  {
   "cell_type": "code",
   "execution_count": null,
   "metadata": {},
   "outputs": [],
   "source": [
    "a = [{'a': 12, 'b': 5}, \n",
    "     {'a': 1,  'b': 45}, \n",
    "     {'a': 22, 'b': 25}, \n",
    "     {'a': 9,  'b': 85}]\n",
    "\n",
    "def by_a(x):\n",
    "    return x['a']\n",
    "a.sort(key=by_a)\n",
    "print('Sort using func: ', a, '\\n')\n",
    "\n",
    "a.sort(key=lambda x: x['a'])\n",
    "print('Sort using lambda: ', a)"
   ]
  },
  {
   "cell_type": "markdown",
   "metadata": {},
   "source": [
    "## For else\n",
    "For loops also have an else clause. The `else` clause executes after the loop completes normally. This means that the loop did not encounter a break statement. "
   ]
  },
  {
   "cell_type": "code",
   "execution_count": null,
   "metadata": {},
   "outputs": [],
   "source": [
    "# Classic for\n",
    "flag = False\n",
    "\n",
    "for x in range(5):\n",
    "    if x == 6:\n",
    "        flag = True\n",
    "        break\n",
    "if (not flag):\n",
    "    print('Not found!')\n",
    "\n",
    "print('\\n'*2)\n",
    "\n",
    "# For else notation\n",
    "for x in range(5):\n",
    "    if x == 6:\n",
    "        print('Found!')\n",
    "        break\n",
    "else:\n",
    "    print('Not found!')\n"
   ]
  },
  {
   "cell_type": "code",
   "execution_count": null,
   "metadata": {},
   "outputs": [],
   "source": [
    "for x in range(10):\n",
    "    if x == 6:\n",
    "        print('Found!')\n",
    "        break\n",
    "else:\n",
    "    print('Not found!')"
   ]
  },
  {
   "cell_type": "markdown",
   "metadata": {},
   "source": [
    "## Numpy\n",
    "\n",
    "[NumPy](http://www.numpy.org/) is the fundamental package for scientific computing with Python. It contains among other things:\n",
    "\n",
    "1. a powerful N-dimensional array object\n",
    "1. sophisticated (broadcasting) functions\n",
    "1. tools for integrating C/C++ and Fortran code\n",
    "1. useful linear algebra, Fourier transform, and random number capabilities\n",
    "\n",
    "For more info visit NumPy documentation page!\n",
    "\n",
    "Here is an easy example just for fun! "
   ]
  },
  {
   "cell_type": "code",
   "execution_count": null,
   "metadata": {},
   "outputs": [],
   "source": [
    "import numpy as np"
   ]
  },
  {
   "cell_type": "code",
   "execution_count": null,
   "metadata": {},
   "outputs": [],
   "source": [
    "def plus(x, y):\n",
    "    return x + y"
   ]
  },
  {
   "cell_type": "code",
   "execution_count": null,
   "metadata": {},
   "outputs": [],
   "source": [
    "plus_vect = np.vectorize(plus)"
   ]
  },
  {
   "cell_type": "code",
   "execution_count": null,
   "metadata": {},
   "outputs": [],
   "source": [
    "plus(10, 11)"
   ]
  },
  {
   "cell_type": "code",
   "execution_count": null,
   "metadata": {},
   "outputs": [],
   "source": [
    "# we expect to add every value from [10,100,90] to 11\n",
    "plus([10,100,90], 11)"
   ]
  },
  {
   "cell_type": "code",
   "execution_count": null,
   "metadata": {},
   "outputs": [],
   "source": [
    "plus_vect([10,100,90], 11)"
   ]
  },
  {
   "cell_type": "code",
   "execution_count": null,
   "metadata": {},
   "outputs": [],
   "source": [
    "plus_vect(10, 11)"
   ]
  },
  {
   "cell_type": "code",
   "execution_count": null,
   "metadata": {},
   "outputs": [],
   "source": [
    "nd array, shape, nasobeni odecist"
   ]
  }
 ],
 "metadata": {
  "kernelspec": {
   "display_name": "Python [default]",
   "language": "python",
   "name": "python3"
  },
  "language_info": {
   "codemirror_mode": {
    "name": "ipython",
    "version": 3
   },
   "file_extension": ".py",
   "mimetype": "text/x-python",
   "name": "python",
   "nbconvert_exporter": "python",
   "pygments_lexer": "ipython3",
   "version": "3.6.6"
  }
 },
 "nbformat": 4,
 "nbformat_minor": 2
}
