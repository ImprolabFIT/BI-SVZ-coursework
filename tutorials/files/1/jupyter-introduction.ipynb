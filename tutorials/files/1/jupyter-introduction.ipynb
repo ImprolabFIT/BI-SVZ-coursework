{
 "cells": [
  {
   "attachments": {},
   "cell_type": "markdown",
   "metadata": {
    "slideshow": {
     "slide_type": "slide"
    }
   },
   "source": [
    "\n",
    "# Práce s Jupyter notebooky\n",
    "\n",
    "V rámci cvičení BI-SVZ se budou využívat již předvytvořené Jupyter notebooky. Podobné notebooky se budou i odevzdávat formou domácích úkolů.\n",
    "\n",
    "Co je to Jupyter notebook aneb IPython Interactive Computing se lze dočíst [ZDE](http://nbviewer.jupyter.org/github/ipython/ipython/blob/3.x/examples/Notebook/Index.ipynb).\n",
    "\n",
    "V rámci používání Jupyter notebooků je využíván jazyk Markdown (konkrétně Github flavored markdown). Základy syntaxe jsou popsány [ZDE](https://help.github.com/articles/basic-writing-and-formatting-syntax/).\n",
    "\n",
    "## Předpoklady\n",
    "\n",
    "- naklonovaný Git repozitář z [fakultního GitLabu](https://courses.fit.cvut.cz/BI-SVZ/manuals/git-essentials.html)\n",
    "- nastaveno SVZ prostředí pro Anacondu podle [návodu na Courses](https://courses.fit.cvut.cz/BI-SVZ/manuals/tools-introduction.html)\n",
    "\n",
    "## Rekapitulace\n",
    "\n",
    "- (Anaconda Prompt) `conda activate SVZ`\n",
    "- (Anaconda Prompt) `jupyter notebook`"
   ]
  },
  {
   "cell_type": "markdown",
   "metadata": {},
   "source": [
    "# Co je Jupyter a IPython?"
   ]
  },
  {
   "attachments": {},
   "cell_type": "markdown",
   "metadata": {},
   "source": [
    "\n",
    "<img src=\"https://jupyter.org/assets/share.png\" style=\"width: 500px;\"/>"
   ]
  },
  {
   "cell_type": "markdown",
   "metadata": {},
   "source": [
    "Jupyter notebook je webová aplikace pro interaktivní programování, zaznamenávání, vizualizaci a prezentace výsledků. Typicky se používá při analýze dat, problémech počítačového vidění, ale také pro matematické úkoly a třeba i trénovaní neurónových sítí.\n",
    "\n",
    "Jupyter je platforma kolem Jupyter notebooku, která se kromě notebooku stará o různá rozšírení, kolaboraci a nasazení do různých prostrředí. Více detailů na webu [jupyter.org](https://jupyter.org)\n",
    "\n",
    "Jupyter vznikl jako nadstavba nad IPython notebook, který v \"data\" světě začali používat také programátori v Julii a Rku. Proto Ju(lia) - Py(thon) - e(R) = Jupyter.\n",
    "\n",
    "V Jupyter notebooku se používají dva typy buněk — textové a kód. Kód je v našem případe Pythoní, no ve standardní instalaci Jupyteru je možné přepnout na jazyk Julia a nebo R. Existují také rozšíření do pro další jazyky.\n",
    "\n",
    "Kromě kódu a text v markdownu je možné použít HTML a spouštět také systémové příkazy.\n",
    "\n",
    "## Zkratky\n",
    "\n",
    "Jupyter rozlišuje dva módy - **Command** a **Edit**. V Command módu jsou jedno a více-písmenové zkratky na zrychlení práce pro úpravu buněk, evaluaci a pod.\n",
    "\n",
    "- přístup ke všem příkazům `CTRL`+`SHIFT`+`P`\n",
    "\n",
    "\n",
    "- přepnutí mezi módy Command -> Edit `ENTER`\n",
    "\n",
    "\n",
    "- přepnutí mezi módy Edit -> Command `ESC`\n",
    "\n",
    "\n",
    "- šipky zaručí pohyb mezi buňkami\n",
    "\n",
    "\n",
    "- vložení buňky\n",
    "  - `A` nad aktuální\n",
    "  - `B` pod aktuální\n",
    "  - `SHIFT`+`M` spojení buňek\n",
    "\n",
    "\n",
    "- smazání buňky `d d`\n",
    "\n",
    "\n",
    "- změna typu buňky\n",
    "  - `M` markdown\n",
    "  - `Y` code\n",
    "  - `1` nadpis 1\n",
    "  - `2` nadpis 2\n",
    "\n",
    "\n",
    "- evaluace\n",
    "  - `SHIFT`+`ENTER` evaluace aktuální buňky\n",
    "  - `CTRL`+`ENTER` evaluace označených buněk"
   ]
  },
  {
   "cell_type": "markdown",
   "metadata": {},
   "source": [
    "## IPython triky\n",
    "\n",
    "- magické příkazy\n",
    "  - load externého skriptu (třeba s definicemi funkcí)\n",
    "  - interaktivní matplotlib\n",
    "  - timing\n",
    "  - html\n",
    "  - aliasy, makra, debugger, pip, conda\n",
    "  - celý seznam [v dokumentaci](https://ipython.readthedocs.io/en/stable/interactive/magics.html)\n",
    "\n",
    "\n",
    "- snapshoty a uložení výsledků\n",
    "\n",
    "- nápověda příkazem `?`"
   ]
  },
  {
   "cell_type": "code",
   "execution_count": null,
   "metadata": {
    "code_folding": []
   },
   "outputs": [],
   "source": [
    "%%html\n",
    "<!-- ukázka magického příkazu a html v notebooku -->\n",
    "\n",
    "<div>\n",
    "  <b>HTML v notebooku:</b>\n",
    "  <br />\n",
    "  <div style=\"height: 200px; width: 200px; background: #f00\"></div>\n",
    "</div>"
   ]
  },
  {
   "cell_type": "markdown",
   "metadata": {},
   "source": [
    "## Jupyter extensions\n",
    "\n",
    "Umožňují rozšíření funkcí notebooku, jako třeba možnosti skrýt bloky textu a kódu, hezky zobrazit určité typy dat, měřit čas evaluaci buňky, a pod.\n",
    "\n",
    "Instalace:\n",
    "\n",
    "```\n",
    "pip install jupyter_nbextensions_configurator jupyter_contrib_nbextensions\n",
    "jupyter contrib nbextension install --sys-prefix\n",
    "jupyter nbextensions_configurator enable --sys-prefix\n",
    "```\n",
    "\n",
    "Ukázka: Codefolding, Collapsible Headings - [Nbextensions](http://localhost:8888/tree#nbextensions_configurator)"
   ]
  },
  {
   "cell_type": "markdown",
   "metadata": {},
   "source": [
    "## Příklady\n",
    "Příklady ukazují, jak se pracuje v pythonu uvnitř Jupyter notebooku. Dále hlavně kontrolují, zda jsou dostupné všechny knihovny pro práci na cvičeních a tedy správně nastavené virtuální prostředí."
   ]
  },
  {
   "cell_type": "markdown",
   "metadata": {},
   "source": [
    "### 1) Generování vektoru\n",
    "S využitím knihovny [numpy](https://naucse.python.cz/lessons/intro/numpy/)."
   ]
  },
  {
   "cell_type": "code",
   "execution_count": null,
   "metadata": {},
   "outputs": [],
   "source": [
    "# import knihoven\n",
    "import numpy as np\n",
    "\n",
    "# definice chytré funkce\n",
    "def generate_vector(start, end, step):\n",
    "    return np.arange(start, end, step)\n",
    "\n",
    "# deklarace proměnných\n",
    "start = -4*np.pi\n",
    "end = 4*np.pi\n",
    "step = 0.01\n",
    "\n",
    "# main\n",
    "x = generate_vector(start, end, step)\n",
    "\n",
    "print('Délka vektoru je: ' + str(len(x)))"
   ]
  },
  {
   "cell_type": "markdown",
   "metadata": {},
   "source": [
    "### 2) Vytvoření a zobrazení funkce\n",
    "S využitím knihovny [matplotlib](https://matplotlib.org/tutorials/index.html)."
   ]
  },
  {
   "cell_type": "code",
   "execution_count": null,
   "metadata": {},
   "outputs": [],
   "source": [
    "# import knihoven\n",
    "import matplotlib.pyplot as plt\n",
    "%matplotlib inline\n",
    "\n",
    "# vytvoření funkčních hodnot\n",
    "y = np.sin(x)\n",
    "\n",
    "# zobrazení funkce\n",
    "plt.title('Funkce sin(x)')\n",
    "plt.plot(x, y)"
   ]
  },
  {
   "cell_type": "markdown",
   "metadata": {},
   "source": [
    "### Načtení obrázku z disku\n",
    "\n",
    "Vyzkoušíme si načíst obrázek z disku a jednoduché transformace pomocí knihoven matplotlib a OpenCV. V BI-SVZ budeme používat OpenCV hodně, takže je vhodné se s ní seznámit.\n",
    "\n",
    "Můžete se podívat na široké možnosti knihovny v její [dokumentaci](https://docs.opencv.org/master/). OpenCV je napsaná v C++, proto definice její API je zdokumentovaná taky pro C++. My budeme používat wrapper pro Python (`opencv-python`), který podporuje ty samé funkce."
   ]
  },
  {
   "cell_type": "code",
   "execution_count": null,
   "metadata": {},
   "outputs": [],
   "source": [
    "imgPath = 'images/lapac_snu.png'"
   ]
  },
  {
   "cell_type": "code",
   "execution_count": null,
   "metadata": {},
   "outputs": [],
   "source": [
    "import matplotlib.pyplot as plt\n",
    "import matplotlib.image as mpimg\n",
    "\n",
    "img = mpimg.imread(imgPath)\n",
    "imgplot = plt.imshow(img)\n",
    "\n",
    "plt.colorbar()\n",
    "plt.show() "
   ]
  },
  {
   "cell_type": "code",
   "execution_count": null,
   "metadata": {},
   "outputs": [],
   "source": [
    "lum_img = img[:,:,0]\n",
    "imgplot = plt.imshow(lum_img)\n",
    "plt.show()"
   ]
  },
  {
   "cell_type": "code",
   "execution_count": null,
   "metadata": {},
   "outputs": [],
   "source": [
    "plt.imshow(lum_img, cmap=\"hot\")\n",
    "plt.colorbar()\n",
    "plt.show()"
   ]
  },
  {
   "cell_type": "code",
   "execution_count": null,
   "metadata": {},
   "outputs": [],
   "source": [
    "plt.hist(img.ravel())\n",
    "plt.show()"
   ]
  },
  {
   "cell_type": "markdown",
   "metadata": {},
   "source": [
    "### 3) Zobrazení obrázku\n",
    "S využitím knihovny [opencv](https://opencv-python-tutroals.readthedocs.io/en/latest/py_tutorials/py_tutorials.html)."
   ]
  },
  {
   "cell_type": "code",
   "execution_count": null,
   "metadata": {},
   "outputs": [],
   "source": [
    "# import knihoven\n",
    "import cv2\n",
    "\n",
    "# nahrání obrázku do proměnné\n",
    "image = cv2.imread('images/lapac_snu.png')\n",
    "\n",
    "# konverze obrázku do správných barev\n",
    "cv2.cvtColor(image, cv2.COLOR_BGR2RGB, image)\n",
    "\n",
    "# zobrazení obrázku\n",
    "plt.imshow(image, interpolation='bilinear')\n",
    "plt.xticks([]), plt.yticks([])  # skryje hodnoty na X a Y ose\n",
    "plt.show()"
   ]
  },
  {
   "cell_type": "code",
   "execution_count": null,
   "metadata": {},
   "outputs": [],
   "source": [
    "# ukázka histogramu obrazu\n",
    "\n",
    "color = ('b','g','r')\n",
    "for i,col in enumerate(color):\n",
    "    histr = cv2.calcHist([image],[i],None,[256],[0,256])\n",
    "    plt.plot(histr,color = col)\n",
    "    plt.xlim([0,256])\n",
    "    plt.ylim([0,max(histr)])\n",
    "\n",
    "plt.show()"
   ]
  },
  {
   "cell_type": "markdown",
   "metadata": {},
   "source": [
    "# Zdroje pro samostudium\n",
    "\n",
    "- Python zpracování obrazu — [opencv](https://opencv-python-tutroals.readthedocs.io/en/latest/py_tutorials/py_imgproc/py_geometric_transformations/py_geometric_transformations.html#geometric-transformations), [tesseract](https://github.com/tesseract-ocr/tesseract)\n",
    "- Python data a strojové učení — pandas, matplotlib, numpy, scipy, scikit, pytorch, tensorflow\n",
    "- [Markdown cheatsheet](https://www.markdownguide.org/cheat-sheet)"
   ]
  }
 ],
 "metadata": {
  "kernelspec": {
   "display_name": "Python 3 (ipykernel)",
   "language": "python",
   "name": "python3"
  },
  "language_info": {
   "codemirror_mode": {
    "name": "ipython",
    "version": 3
   },
   "file_extension": ".py",
   "mimetype": "text/x-python",
   "name": "python",
   "nbconvert_exporter": "python",
   "pygments_lexer": "ipython3",
   "version": "3.8.11"
  },
  "varInspector": {
   "cols": {
    "lenName": 16,
    "lenType": 16,
    "lenVar": 40
   },
   "kernels_config": {
    "python": {
     "delete_cmd_postfix": "",
     "delete_cmd_prefix": "del ",
     "library": "var_list.py",
     "varRefreshCmd": "print(var_dic_list())"
    },
    "r": {
     "delete_cmd_postfix": ") ",
     "delete_cmd_prefix": "rm(",
     "library": "var_list.r",
     "varRefreshCmd": "cat(var_dic_list()) "
    }
   },
   "types_to_exclude": [
    "module",
    "function",
    "builtin_function_or_method",
    "instance",
    "_Feature"
   ],
   "window_display": false
  }
 },
 "nbformat": 4,
 "nbformat_minor": 2
}
