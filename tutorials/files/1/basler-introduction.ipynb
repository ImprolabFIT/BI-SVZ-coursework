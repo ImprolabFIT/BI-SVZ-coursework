{
 "cells": [
  {
   "cell_type": "code",
   "execution_count": null,
   "metadata": {},
   "outputs": [],
   "source": [
    "import numpy as np\n",
    "import matplotlib\n",
    "import matplotlib.pyplot as plt\n",
    "import cv2\n",
    "import yaml\n",
    "from pypylon import pylon \n",
    "\n",
    "from IPython.display import Image, display\n",
    "\n",
    "%matplotlib inline"
   ]
  },
  {
   "cell_type": "code",
   "execution_count": null,
   "metadata": {},
   "outputs": [],
   "source": [
    "# Pypylon get camera by serial number\n",
    "serial_number = '22222222'\n",
    "info = None\n",
    "for i in pylon.TlFactory.GetInstance().EnumerateDevices():\n",
    "    if i.GetSerialNumber() == serial_number:\n",
    "        info = i\n",
    "        break\n",
    "else:\n",
    "    print('Camera with {} serial number not found'.format(serial_number))\n",
    "\n",
    "# VERY IMPORTANT STEP! To use Basler PyPylon OpenCV viewer you have to call .Open() method on you camera\n",
    "if info is not None:\n",
    "    camera = pylon.InstantCamera(pylon.TlFactory.GetInstance().CreateDevice(info)) \n",
    "    camera.Open()"
   ]
  },
  {
   "cell_type": "code",
   "execution_count": null,
   "metadata": {},
   "outputs": [],
   "source": [
    "# List of features to create wigets\n",
    "features = [\n",
    "    {\n",
    "        \"name\": \"GainRaw\",\n",
    "        \"type\": \"int\"\n",
    "    },\n",
    "    {\n",
    "        \"name\": \"ExplosureTimeRaw\",\n",
    "        \"type\": \"int\",\n",
    "        \"max\": 14000,\n",
    "        \"min\": 3500,\n",
    "        \"step\": 70,\n",
    "        \"value\": 7000\n",
    "    },\n",
    "    {\n",
    "        \"name\": \"Height\",\n",
    "        \"type\": \"int_text\",\n",
    "        \"max\": 1000,\n",
    "        \"min\": 100,\n",
    "        \"step\": \"5\"\n",
    "    },\n",
    "    {\n",
    "        \"name\": \"Width\",\n",
    "        \"type\": \"int_text\",\n",
    "        \"max\": 1000,\n",
    "        \"min\": 100,\n",
    "        \"step\": \"5\"\n",
    "    },\n",
    "    {\n",
    "        \"name\": \"AcquisitionFrameRateEnable\",\n",
    "        \"type\": \"bool\"\n",
    "    },\n",
    "    {\n",
    "        \"name\": \"AcquisitionFrameRateAbs\",\n",
    "        \"type\": \"int\",\n",
    "        \"max\": 60,\n",
    "        \"min\": 10\n",
    "    }\n",
    "]"
   ]
  },
  {
   "cell_type": "code",
   "execution_count": null,
   "metadata": {},
   "outputs": [],
   "source": [
    "def impro(img):\n",
    "    cv2.namedWindow('1', cv2.WINDOW_NORMAL | cv2.WINDOW_GUI_NORMAL)\n",
    "    cv2.resizeWindow('1', 1080, 720)\n",
    "    cv2.imshow(\"1\",img)\n",
    "    gray = cv2.cvtColor(img, cv2.COLOR_BGR2GRAY)\n",
    "    hist = cv2.calcHist([gray],[0],None,[256],[0,256])\n",
    "    plt.hist(gray.ravel(),256,[0,256])\n",
    "    plt.title('Histogram for gray scale picture')\n",
    "    plt.show()"
   ]
  },
  {
   "cell_type": "code",
   "execution_count": null,
   "metadata": {},
   "outputs": [],
   "source": [
    "from pypylon_opencv_viewer import BaslerOpenCVViewer\n",
    "    \n",
    "viewer = BaslerOpenCVViewer(camera)\n",
    "viewer.set_features(features)\n",
    "viewer.set_impro_function(impro)\n",
    "viewer.run_interaction_continuous_shot()"
   ]
  }
 ],
 "metadata": {
  "kernelspec": {
   "display_name": "Python [conda env:SVZ]",
   "language": "python",
   "name": "conda-env-SVZ-py"
  },
  "language_info": {
   "codemirror_mode": {
    "name": "ipython",
    "version": 3
   },
   "file_extension": ".py",
   "mimetype": "text/x-python",
   "name": "python",
   "nbconvert_exporter": "python",
   "pygments_lexer": "ipython3",
   "version": "3.6.6"
  }
 },
 "nbformat": 4,
 "nbformat_minor": 2
}
