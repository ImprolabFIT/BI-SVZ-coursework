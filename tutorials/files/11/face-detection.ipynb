{
 "cells": [
  {
   "cell_type": "markdown",
   "metadata": {},
   "source": [
    "# Detekce obličeje pomocí termokamery\n",
    "\n",
    "Cvičení je zaměřené na práci s [termokamerami](https://en.wikipedia.org/wiki/Thermographic_camera). Termokamera je zařízení, které snímá obraz v IR spektru, podobně jako RGB kamery, které snímají ve viditelném spektru. Výstupem termokamery je `Radiometric image`, ve kterém je v každém pixelu zakódována hodnota nasnímané teploty v proprietárním formátu. Dnešní pokročilejší software dovoluje exportovat nasnímané obrázky ve formátu `csv`, ve kterém jsou umístěné skutečné hodnoty teplot ve škále pro nás známé.\n",
    "\n",
    "\n",
    "Termokamery jsou aktivně používané v průmyslu, např. pro kontrolu zahřívání elektických součástek nebo kotrolu vadností solárních panelů pomocí dronů.\n",
    "\n",
    "![](images/solar.png)"
   ]
  },
  {
   "cell_type": "markdown",
   "metadata": {},
   "source": [
    "## Parametry pro snímání termokamerou"
   ]
  },
  {
   "cell_type": "markdown",
   "metadata": {},
   "source": [
    "V souvislosti s termokamerou rozlišujeme u měřených materiálů 3 hlavní vlastnosti: **emisivitu**, **transmisivitu** a **reflexivitu**. Pomocí termokamery měříme množství energie, kterou daný materiál vyzařuje, odráží a propouští.\n",
    "\n",
    "- **emisivita**: schopnost materiálu vyzařovat absorbované teplo do okolí\n",
    "- **reflexivita**: schopnost materiálu odrážet okolní teplo\n",
    "- **transmisivita**: Schopnost materiálu propouštět teplo\n",
    "\n",
    "Tyto vlastnosti jsou bezrozměrné veličiny nabývajících hodnot $\\langle0;1\\rangle$ a jejich součet je pro každý materiál 1. Tedy celková energie dopadající na čidlo termokamery je součet energie, kterou těleso vyzařuje, odráží a propouští.\n",
    "\n",
    "Obyčejně mají materiály vysokou emisivitu a nízkou reflexivitu a transitivitu. Budeme zkoumat atypické materiály s vysokou reflexivitou (chovají se jako zrcadlo) a transmitivitou (jeví se jako průhledné)."
   ]
  },
  {
   "cell_type": "markdown",
   "metadata": {},
   "source": [
    "## Tepelné vlastnosti žárovek"
   ]
  },
  {
   "cell_type": "markdown",
   "metadata": {},
   "source": [
    "Nejčastěji nacházíme 3 druhy žárovek - žárovky **klasické**, **zářivky** a **LED**.\n",
    "\n",
    "#### Klasické žárovky\n",
    "Princip klasické žárovky je založený na zahřívání tenkého, nejčastěji wolframového vodiče elektrickým proudem, který jím protéká. V dnešní době jsou nahrazovány jinými typy žárovek kvůli malé efektivitě (většina spotřebované elektřiny - až 95% - je přeměněna na tepelnou energii a zbytek na světlo). Životnost těchto žárovek se pohybuje od  800 do 1000 hodin.\n",
    "\n",
    "#### Kompaktní zářivky\n",
    "Mají životnost od 6000 do 16000 hodin a jejich spotřeba je o 80 % nižší než u klasických žárovek. Základem zářivky je těleso, které se skládá nejčastěji z dlouhé skleněné trubice obsahující žhavící elektrody. Je naplněna rtuťovými parami a argonem. Uvnitř trubice nastává doutnavý výboj, který z velké části září v ultrafialové oblasti. Stěny trubice jsou pokryty luminoforem, který UV záření absorbuje a sama září ve viditelné oblasti.\n",
    "\n",
    "#### LED žárovky\n",
    "V součastnosti jsou nejoblíbenějším typem žárovek. Mají na stejnou světelnost nejnižší spotřebu a vydrží svítit až padesát tisíc hodin. Ve spodní části LED žárovky se nachází elektronika, která mění střídavý proud na stejnosměrný (který LED vyžaduje). U některých typů LED žárovek lze ve spodní části také nalézt elektroniku na ovládání barvy a jasu pomocí dálkového ovládání. Nad elektronikou se nachází pouze samotná LEDka zakrytá difuzním obalem.\n",
    "\n",
    "![](images/bulbs.jpeg)"
   ]
  },
  {
   "cell_type": "markdown",
   "metadata": {},
   "source": [
    "### Import knihoven a konfigurace"
   ]
  },
  {
   "cell_type": "code",
   "execution_count": null,
   "metadata": {
    "ExecuteTime": {
     "end_time": "2019-07-17T13:56:52.862708Z",
     "start_time": "2019-07-17T13:56:50.431484Z"
    }
   },
   "outputs": [],
   "source": [
    "from collections import OrderedDict\n",
    "import numpy as np\n",
    "import cv2\n",
    "from improutils import *"
   ]
  },
  {
   "cell_type": "markdown",
   "metadata": {},
   "source": [
    "### Pomocné funkce\n",
    "Z následujících funkcí je potřeba vybírat ty vhodné pro splnění úkolu."
   ]
  },
  {
   "cell_type": "markdown",
   "metadata": {},
   "source": [
    "Třída pro práci s popisnými charakteristikami tvarů a jednotlivé dílčí funkce. **Pozor, že funkce níže jako parametr berou obrázek a NE konturu!** \n",
    "\n",
    "- [`roundness(...)`](https://gitlab.fit.cvut.cz/bi-svz/improutils_package/blob/master/improutils/recognition/image_features.py#L38)\n",
    "- [`aspect_ratio(...)`](https://gitlab.fit.cvut.cz/bi-svz/improutils_package/blob/master/improutils/recognition/image_features.py#L48)\n",
    "- [`convexity(...)`](https://gitlab.fit.cvut.cz/bi-svz/improutils_package/blob/master/improutils/recognition/image_features.py#L57)\n",
    "- [`solidity(...)`](https://gitlab.fit.cvut.cz/bi-svz/improutils_package/blob/master/improutils/recognition/image_features.py#L68)\n",
    "- [`compactness(...)`](https://gitlab.fit.cvut.cz/bi-svz/improutils_package/blob/master/improutils/recognition/image_features.py#L79)\n",
    "- [`extent(...)`](https://gitlab.fit.cvut.cz/bi-svz/improutils_package/blob/master/improutils/recognition/image_features.py#L89)\n",
    "\n",
    "Další zajímavé funkce\n",
    "- [`crop_by_bounding_rect(...)`](https://gitlab.fit.cvut.cz/bi-svz/improutils_package/blob/master/improutils/preprocessing/preprocessing.py#L99)\n",
    "- [`crop_contour(...)`](https://gitlab.fit.cvut.cz/bi-svz/improutils_package/blob/master/improutils/recognition/image_features.py#L89)\n",
    "- [`contour_to_image(...)`](https://gitlab.fit.cvut.cz/bi-svz/improutils_package/blob/master/improutils/preprocessing/contours.py#L5)\n",
    "- a všechny ostatní, co naleznete v [`improutils`](https://gitlab.fit.cvut.cz/bi-svz/improutils_package)"
   ]
  },
  {
   "cell_type": "markdown",
   "metadata": {},
   "source": [
    "Normalizace obrázku a převedení do BGR"
   ]
  },
  {
   "cell_type": "code",
   "execution_count": null,
   "metadata": {
    "ExecuteTime": {
     "end_time": "2019-07-17T13:57:19.901186Z",
     "start_time": "2019-07-17T13:57:19.897018Z"
    },
    "code_folding": [
     0
    ]
   },
   "outputs": [],
   "source": [
    "def normalize_image(img):\n",
    "    scaled = ((img - img.min()) * (1/(img.max() - img.min()) * 255)).astype('uint8')\n",
    "    return cv2.cvtColor(scaled, cv2.COLOR_GRAY2BGR)"
   ]
  },
  {
   "cell_type": "markdown",
   "metadata": {},
   "source": [
    "Načtení CSV souboru do obrázku"
   ]
  },
  {
   "cell_type": "code",
   "execution_count": null,
   "metadata": {
    "ExecuteTime": {
     "end_time": "2019-07-17T13:56:52.910887Z",
     "start_time": "2019-07-17T13:56:52.905030Z"
    },
    "code_folding": [
     0
    ]
   },
   "outputs": [],
   "source": [
    "def load_csv(file_path):\n",
    "    lines = \"\"\n",
    "    with open(file_path, \"r\") as f:\n",
    "        lines = f.readlines()\n",
    "        lines = [line.replace(\",\", \".\") for line in lines]\n",
    "    with open(file_path, \"w\") as f:\n",
    "        f.writelines(lines)\n",
    "    return np.genfromtxt(file_path, delimiter=';')[:, :-1]"
   ]
  },
  {
   "cell_type": "markdown",
   "metadata": {},
   "source": [
    "---"
   ]
  },
  {
   "cell_type": "markdown",
   "metadata": {},
   "source": [
    "### Úkol\n",
    "Detekujte obličej na termosnímku, použijte znalosti klasifikace pomocí tvarových chrakteristik z předchozího cvičení."
   ]
  },
  {
   "cell_type": "markdown",
   "metadata": {},
   "source": [
    "#### 1) Získejte termosnimek s obličejem\n",
    "Přejděte k učitelskému počítači a nechte se vyfotit termokamerou. Snímky, které vám budou zaslány na e-mail, si stáhněte a jeden z nich načtěte.\n",
    "\n",
    "Pro zjednodušení zobrazování lze použít pomocnou funkci `normalize_image`, která převede csv obrázek na BGR obrázek."
   ]
  },
  {
   "cell_type": "code",
   "execution_count": null,
   "metadata": {
    "ExecuteTime": {
     "end_time": "2019-07-17T13:57:22.064702Z",
     "start_time": "2019-07-17T13:57:21.198581Z"
    },
    "scrolled": true
   },
   "outputs": [],
   "source": [
    "file_path = '' ###\n",
    "img_csv = ...(file_path) ###\n",
    "\n",
    "plot_images(...(img_csv)) ###"
   ]
  },
  {
   "cell_type": "markdown",
   "metadata": {},
   "source": [
    "#### 2) Segmentace obličeje\n",
    "Vymyslete způsob, jak se dá segmentovat obličej v termosnímku. Využijte znalosti o **teplotě** lidské kůže (NEPOŽÍVEJTE normalizované šedotónové obrázky s hodnotami jasu, neboť to **nebude fungovat obecně**!). Zkuste experimentovat s parametry na více snímkách s vámi a vaším kolegou."
   ]
  },
  {
   "cell_type": "code",
   "execution_count": null,
   "metadata": {
    "ExecuteTime": {
     "end_time": "2019-07-17T14:02:39.130514Z",
     "start_time": "2019-07-17T14:02:38.361323Z"
    },
    "scrolled": true
   },
   "outputs": [],
   "source": [
    "bin_mask = ...(img_csv, ?, ?) ###\n",
    "plot_images(bin_mask)"
   ]
  },
  {
   "cell_type": "markdown",
   "metadata": {},
   "source": [
    "#### 3) Získejte vlastnosti segmentovaných objektů\n",
    "Získejte kontury segmentovaných objektů, a odfiltrujte šum, např. pomocí plochy kontury. Dejte pozor na to, že obličej  může mít na různých snímkách různé rozměry.\n",
    "\n",
    "U získaných kontur spočtěte popisné tvarové charakteristiky a vypište jejich hodnoty (viz [Pomocné funkce](#Pomocné-funkce)). Použijte znalosti z minulého cvičení."
   ]
  },
  {
   "cell_type": "code",
   "execution_count": null,
   "metadata": {
    "ExecuteTime": {
     "end_time": "2019-07-17T14:12:29.383863Z",
     "start_time": "2019-07-17T14:12:28.471362Z"
    },
    "scrolled": true
   },
   "outputs": [],
   "source": [
    "contours_bin, _, conts = ...(bin_mask, ?) ###\n",
    "faces = apply_mask(img_csv, contours_bin) ###\n",
    "plot_images(faces)"
   ]
  },
  {
   "cell_type": "code",
   "execution_count": null,
   "metadata": {
    "ExecuteTime": {
     "end_time": "2019-07-17T14:14:03.565875Z",
     "start_time": "2019-07-17T14:14:03.534125Z"
    },
    "scrolled": true
   },
   "outputs": [],
   "source": [
    "# výpis hodnot tvarových charakteristik\n",
    "for contour in conts:\n",
    "    print('Délka:        ', len(contour))\n",
    "    print('Plocha:       ', cv2.contourArea(contour))\n",
    "    \n",
    "    ### další charakteristiky\n",
    "    \n",
    "    \n",
    "    \n",
    "    \n",
    "    \n",
    "    \n",
    "    \n",
    "    \n",
    "    print('--------------------------------')"
   ]
  },
  {
   "cell_type": "markdown",
   "metadata": {},
   "source": [
    "#### 4) Vyberte ručně významné vlastnosti a jejich hodnoty na odlišení obličeje od ostatních objektů\n",
    "Vytvořte proměnné pro prahy (limity) hodnot tvarových charakteristik použitelných pro filtraci kontur. Vytvořte vhodné podmínky pro filtraci kontur."
   ]
  },
  {
   "cell_type": "code",
   "execution_count": null,
   "metadata": {
    "ExecuteTime": {
     "end_time": "2019-07-17T14:18:16.731431Z",
     "start_time": "2019-07-17T14:18:16.725574Z"
    }
   },
   "outputs": [],
   "source": [
    "# Příklad, jak by mohly vypadat proměnné pro prahy (limity)\n",
    "..._thresh = ###\n",
    "..._thresh = ###\n",
    "### ...\n",
    "\n",
    "filtered_conts = []\n",
    "for contour in conts:\n",
    "    face_candidate = ... ### vytvoření obrázku z kontury\n",
    "    \n",
    "    # vhodný počet podmínek\n",
    "    if ... and ...:\n",
    "        filtered_conts.append(contour)\n",
    "        \n",
    "print('Počet nalezených obličejů je ' + str(len(filtered_conts)))"
   ]
  },
  {
   "cell_type": "markdown",
   "metadata": {},
   "source": [
    "#### 5) Udělejte vizualizaci výsledné detekce\n",
    "Použijte aproximace obdélníkem nebo elipsou pro demonstrační účely ([ukázka](https://docs.opencv.org/3.1.0/dd/d49/tutorial_py_contour_features.html))."
   ]
  },
  {
   "cell_type": "code",
   "execution_count": null,
   "metadata": {
    "ExecuteTime": {
     "end_time": "2019-07-17T14:42:02.031534Z",
     "start_time": "2019-07-17T14:42:01.409607Z"
    },
    "scrolled": true
   },
   "outputs": [],
   "source": [
    "demo_image = ...(img_csv) ###\n",
    "for cont in filtered_conts:\n",
    "    ### nakreslení obdélníku/elipsy do obrázku\n",
    "    \n",
    "    \n",
    "plot_images(demo_image)"
   ]
  },
  {
   "cell_type": "markdown",
   "metadata": {},
   "source": [
    "#### 6) Vyzkoušejte vás detekční algoritmus na referenčním obrázku"
   ]
  },
  {
   "cell_type": "code",
   "execution_count": null,
   "metadata": {
    "ExecuteTime": {
     "end_time": "2019-07-17T14:45:44.556514Z",
     "start_time": "2019-07-17T14:45:43.727222Z"
    },
    "scrolled": true
   },
   "outputs": [],
   "source": [
    "filenames = ['data/1.csv', 'data/2.csv']\n",
    "\n",
    "### celý algoritmus v jednom včetně vizualizace konečného výsledku\n"
   ]
  }
 ],
 "metadata": {
  "kernelspec": {
   "display_name": "Python 3",
   "language": "python",
   "name": "python3"
  },
  "language_info": {
   "codemirror_mode": {
    "name": "ipython",
    "version": 3
   },
   "file_extension": ".py",
   "mimetype": "text/x-python",
   "name": "python",
   "nbconvert_exporter": "python",
   "pygments_lexer": "ipython3",
   "version": "3.7.3"
  }
 },
 "nbformat": 4,
 "nbformat_minor": 2
}
