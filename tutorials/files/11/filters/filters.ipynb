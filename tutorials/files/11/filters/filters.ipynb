{
 "cells": [
  {
   "cell_type": "markdown",
   "metadata": {
    "cell_id": "7e8d14be7c4c4981b0e17f364d3bfc00",
    "deepnote_cell_type": "markdown",
    "tags": []
   },
   "source": [
    "# Základy měření s termokamerou\n",
    "\n",
    "Na tomto cvičení budeme používat kamery [Tau2](https://www.flir.com/products/tau-2/) od firmy FLIR. \n",
    "\n",
    "Tau2 je schopno několika módů snímání. V prvním módu snímá veličinu, která je lineární s radiometrickým fluxem.\n",
    "V druhém módu (který budeme používat my) snímá veličinu lineární s teplotou scény. Výhoda druhého modelu je taková, že kompenzuje vliv teploty jádra na naměřenou teplotu scény.\n",
    "\n",
    "Kamery snímají infračervené záření o vlnové délce ~7.5 - ~13.5 μm, jinými slovy měří [radiometrický flux](https://en.wikipedia.org/wiki/Radiant_flux). Vztah mezi fluxem a zdánlivou povrchovou teplotou je popsaný ve funkcích `flux_to_temp` a `temp_to_flux`. Pro jednoduchost teplotu měříme v Kelvinech.\n",
    "\n",
    "Parametry `R B F O` jsou fitnuté při kalibraci kamery, pro nás nemají žádný význam (pro zájemce [Planck's law](https://en.wikipedia.org/wiki/Planck%27s_law)).\n",
    "\n",
    "Popíšeme model, který kamera používá, aby z celkového naměřeného fluxu (scene flux) vyrobila povrchovou teplotu měřeného objektu.\n",
    "Kamera snímá celkový flux scény, ten se skládá z:\n",
    "- flux vyzářený měřeným objektem\n",
    "- flux vyzářený dalšími objekty ve scéně\n",
    "\n",
    "Měřený flux je dále ovlivněn atmosférou, která část pohltí a část sama vyzáří.\n",
    "V poslední řadě se aplikuje vliv filtru, který část záření pohltí a část odrazí.\n",
    "Celkový flux, který naměří kamera nazýváme scene flux.\n",
    "\n",
    "Kamera provádí postprocessing, aby ze scene flux vyrobila flux měřeného objektu.\n",
    "Model si vyrobíme na tomto cvičení.\n",
    "\n",
    "Platí:\n",
    "$$\n",
    "1 = \\tau + r + \\varepsilon,\n",
    "$$\n",
    "kde $\\tau$ je transmisivita (propustnost), $r$ je reflexivita (odrazivost) a $\\varepsilon$ je emisivita. \n",
    "\n",
    "Známé hodnoty emisivity (7.5 - 13.5 μm):\n",
    "https://www.engineeringtoolbox.com/emissivity-coefficients-d_447.html\n",
    "\n",
    "Známé hodnoty transmisivity (7.5 - 13.5 μm):\n",
    "- germániové sklo: 0.4\n",
    "- germániové sklo s antireflexním coatingem: 0.95"
   ]
  },
  {
   "cell_type": "markdown",
   "metadata": {},
   "source": [
    "![Radiometrický model](./images/radiometric_model.png)"
   ]
  },
  {
   "cell_type": "markdown",
   "metadata": {
    "cell_id": "603bdf7d12bb4644bc0d748a1408efb9",
    "deepnote_cell_type": "markdown",
    "tags": []
   },
   "source": [
    "## Měření propustnosti fólie (2b)"
   ]
  },
  {
   "cell_type": "code",
   "execution_count": 3,
   "metadata": {
    "cell_id": "daff640b9bfb4b5e9f7d9344a3fb5949",
    "deepnote_cell_type": "code",
    "deepnote_to_be_reexecuted": false,
    "execution_millis": 409,
    "execution_start": 1670533472074,
    "source_hash": "bf90bf1f",
    "tags": []
   },
   "outputs": [],
   "source": [
    "import numpy as np\n",
    "import cv2 as cv\n",
    "from matplotlib import pyplot as plt"
   ]
  },
  {
   "cell_type": "code",
   "execution_count": 4,
   "metadata": {
    "cell_id": "7a51c34215d14a5caf4d7e2a19a5c4bb",
    "deepnote_cell_type": "code",
    "deepnote_to_be_reexecuted": false,
    "execution_millis": 2,
    "execution_start": 1670533472596,
    "source_hash": "540b38c8",
    "tags": []
   },
   "outputs": [],
   "source": [
    "def flux_to_temp(val):\n",
    "    return (\n",
    "        sensor_params.B / np.log(sensor_params.R / \n",
    "        (val - sensor_params.O) + sensor_params.F)\n",
    "    )\n",
    "\n",
    "\n",
    "def temp_to_flux(val):\n",
    "    return (\n",
    "        sensor_params.R / \n",
    "        (np.exp(sensor_params.B / val) - sensor_params.F) + sensor_params.O\n",
    "    )\n",
    "\n",
    "\n",
    "def tlin_to_temp(val):\n",
    "    return val * 0.04\n",
    "\n",
    "\n",
    "def atmospheric_transmissivity(atm_temp_C, humidity, distance_m):\n",
    "    K1 = 1.5587e+0\n",
    "    K2 = 6.9390e-2\n",
    "    K3 = -2.7816e-4\n",
    "    K4 = 6.8455e-7\n",
    "\n",
    "    # alpha = 0.01262\n",
    "    alpha = 0\n",
    "    beta = -0.00667\n",
    "\n",
    "    # NOTE: Tayloruv polynom 3. radu\n",
    "    exponent = (\n",
    "        K1 + K2 * atm_temp_C + \n",
    "        K3 * atm_temp_C**2 + K4 * atm_temp_C**3\n",
    "    )\n",
    "\n",
    "    sqrt_H2O = np.sqrt(humidity * np.exp(exponent))\n",
    "    sqrt_distance_m = np.sqrt(distance_m)\n",
    "    return np.exp(sqrt_distance_m * (alpha + beta * sqrt_H2O))"
   ]
  },
  {
   "cell_type": "code",
   "execution_count": 1,
   "metadata": {
    "cell_id": "c8466ebb80a54716bcc830c238c59734",
    "deepnote_cell_type": "code",
    "tags": []
   },
   "outputs": [],
   "source": [
    "# Pozor, data získaná z kamery jsou 16bitová\n",
    "imgs = {\n",
    "    ...\n",
    "}"
   ]
  },
  {
   "cell_type": "markdown",
   "metadata": {},
   "source": [
    "## Zobrazte získaná data ve stupních C"
   ]
  },
  {
   "cell_type": "code",
   "execution_count": null,
   "metadata": {},
   "outputs": [],
   "source": [
    "# TODO: implement"
   ]
  },
  {
   "cell_type": "markdown",
   "metadata": {},
   "source": [
    "## Vykreslete graf závislosti transmisivity atmosféry na vzdálenosti a na vlhkosti\n",
    "\n",
    "Použijte funkci atmospheric_transmisivity."
   ]
  },
  {
   "cell_type": "code",
   "execution_count": null,
   "metadata": {},
   "outputs": [],
   "source": [
    "# TODO: implement"
   ]
  },
  {
   "cell_type": "markdown",
   "metadata": {},
   "source": [
    "## Změřte propustnost folie\n",
    "\n",
    "Naimplementujte funkce, které budou sloužit na výpočet `obj_flux` a `scene_flux`.\n",
    "Dále změřte propustnost filtru na objektivu a vytvořte model, který bude kompenzovat vliv filtru na výsledných snímcích."
   ]
  },
  {
   "cell_type": "code",
   "execution_count": 8,
   "metadata": {
    "cell_id": "6524f1984c7e469282e97e6afcdc3328",
    "deepnote_cell_type": "code",
    "deepnote_to_be_reexecuted": false,
    "execution_millis": 0,
    "execution_start": 1670533473760,
    "source_hash": "fa679459",
    "tags": []
   },
   "outputs": [],
   "source": [
    "class SensorParameters:\n",
    "    R = 395654\n",
    "    B = 1428\n",
    "    F = 1\n",
    "    O = 156\n",
    "\n",
    "sensor_params = SensorParameters()\n",
    "\n",
    "class RadiometricModel:\n",
    "    obj_trans = 0  # zanedbáváme\n",
    "    atm_reflex = 0  # zanedbáváme\n",
    "    win_emis = 0  # zanedbáváme\n",
    "\n",
    "    def __init__(self, *, obj_emis=0.95, bkg_temp=293.15,\n",
    "            atm_temp=293.15, atm_trans=0.95, \n",
    "            win_temp=293.15, win_trans=0.95):\n",
    "        # object\n",
    "        self.obj_emis = obj_emis\n",
    "        self.obj_reflex = 1 - obj_emis\n",
    "\n",
    "        # background\n",
    "        self.bkg_temp = bkg_temp\n",
    "\n",
    "        # atmosphere\n",
    "        self.atm_temp = atm_temp  \n",
    "        self.atm_trans = atm_trans\n",
    "        self.atm_emis = 1 - atm_trans\n",
    "\n",
    "        # window\n",
    "        self.win_temp = win_temp\n",
    "        self.win_trans = win_trans\n",
    "        self.win_reflex = 1 - win_trans"
   ]
  },
  {
   "cell_type": "code",
   "execution_count": 9,
   "metadata": {
    "cell_id": "7ab566599d3c4e49a686c0b4c02d8d17",
    "deepnote_cell_type": "code",
    "deepnote_to_be_reexecuted": false,
    "execution_millis": 0,
    "execution_start": 1670533473761,
    "source_hash": "86b1d32c",
    "tags": []
   },
   "outputs": [],
   "source": [
    "def obj_flux_to_scene_flux(model: RadiometricModel, obj_flux):\n",
    "    # TODO: implement\n",
    "    pass\n",
    "\n",
    "def scene_flux_to_obj_flux(model: RadiometricModel, scene_flux):\n",
    "    # TODO: implement\n",
    "    pass"
   ]
  },
  {
   "cell_type": "code",
   "execution_count": null,
   "metadata": {},
   "outputs": [],
   "source": [
    "# TODO: implement "
   ]
  }
 ],
 "metadata": {
  "deepnote": {},
  "deepnote_execution_queue": [],
  "deepnote_notebook_id": "6bf41dea9eef4e4fa81c383ccedfc957",
  "kernelspec": {
   "display_name": "Python 3 (ipykernel)",
   "language": "python",
   "name": "python3"
  },
  "language_info": {
   "codemirror_mode": {
    "name": "ipython",
    "version": 3
   },
   "file_extension": ".py",
   "mimetype": "text/x-python",
   "name": "python",
   "nbconvert_exporter": "python",
   "pygments_lexer": "ipython3",
   "version": "3.10.8"
  }
 },
 "nbformat": 4,
 "nbformat_minor": 4
}
