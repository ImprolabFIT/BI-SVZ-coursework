{
 "cells": [
  {
   "cell_type": "markdown",
   "metadata": {},
   "source": [
    "# Detekce škrábanců na skle\n",
    "Cvičení je zaměřené na práci s řádkovými kamerami, které díky svým specifickým vlastnostem budeme využívat pro zisk obrazů skla, na kterých budeme detekovat škrábance pomocí metod zpracování obrazu.\n",
    "\n",
    "## Řádkové kamery\n",
    "Řádková kamera neboli řádkový skener je speciální druh kamery, která snímá pouze 1 řádek. Díky tomu je schopna dosáhnout obrovských frekvencí snímání (až ticíce řádků za 1 sekundu). V labu máme kamery [Basler Racer](https://www.baslerweb.com/en/products/cameras/line-scan-cameras/racer/) o velikosti řádku 6k, 8k a 12k pixelů.\n",
    "\n",
    "<img src=\"images/racer.png\" width=\"25%\">\n",
    "\n",
    "Z podstaty skeneru však vyplývá, že se objekt pod kamerou musí pohybovat. V případě, že se objekt nebude pohybovat, vytvoří kamera obrázek, který bude mít všechny řádky totožné (pouze ten 1, který kamera snímá). \n",
    "\n",
    "Tím, že je kamera schopná dosahovat neskutečných frekvencí snímání dále umožňuje získávat obrazová data v neskutečně velkém rozlišení. Na druhou stranu nás tím nutí nastavovat nízkou dobu expozice a tedy je zapotřebí mnohem více světla.\n",
    "\n",
    "Velikost obrázků z kamery je variabilní. Šířka obrázku odpovídá velikosti řádku a počet snímaných řádků lze v kameře nastavit. Kamera je tedy schopna poskytnout obrázek tak, jak ho známe (matici), ale až potom, co si nasnímá všechny řádky. "
   ]
  },
  {
   "cell_type": "markdown",
   "metadata": {},
   "source": [
    "### Import knihoven a konfigurace"
   ]
  },
  {
   "cell_type": "code",
   "execution_count": null,
   "metadata": {},
   "outputs": [],
   "source": [
    "%run ../svz.ipynb"
   ]
  },
  {
   "cell_type": "markdown",
   "metadata": {},
   "source": [
    "### Pomocné funkce\n",
    "Z následujících funkcí je potřeba vybírat ty vhodné pro splnění úkolu."
   ]
  },
  {
   "cell_type": "code",
   "execution_count": null,
   "metadata": {
    "code_folding": [
     0
    ]
   },
   "outputs": [],
   "source": [
    "def crop_contour(contour, image):\n",
    "    x,y,w,h = cv2.boundingRect(contour)\n",
    "    return image[y:y+h, x:x+w]"
   ]
  },
  {
   "cell_type": "markdown",
   "metadata": {},
   "source": [
    "---"
   ]
  },
  {
   "cell_type": "markdown",
   "metadata": {},
   "source": [
    "Seznam předchozích funkcí pro přehlednost:\n",
    "- [`connect_camera(...)`](../svz.ipynb#connect_functions)\n",
    "\n",
    "\n",
    "- [`show_images(...)`](../svz.ipynb#show_functions)\n",
    "- [`plot_images(...)`](../svz.ipynb#show_functions)\n",
    "\n",
    "\n",
    "- [`to_gray(...)`](../svz.ipynb#preprocessing_functions)\n",
    "- [`to_hsv(...)`](../svz.ipynb#preprocessing_functions)\n",
    "- [`negative(...)`](../svz.ipynb#preprocessing_functions)\n",
    "- [`crop(...)`](../svz.ipynb#preprocessing_functions)\n",
    "- [`crop_by_bounding_rect(...)`](../svz.ipynb#preprocessing_functions)\n",
    "- [`resize(...)`](../svz.ipynb#preprocessing_functions)\n",
    "\n",
    "\n",
    "- [`segmentation_one_threshold(...)`](../svz.ipynb#segmentation_functions)\n",
    "- [`segmentation_auto_threshold(...)`](../svz.ipynb#segmentation_functions)\n",
    "- [`segmentation_two_thresholds(...)`](../svz.ipynb#segmentation_functions)\n",
    "- [`contours(...)`](../svz.ipynb#segmentation_functions)\n",
    "\n",
    "\n",
    "- [`filtration_median(...)`](../svz.ipynb#filtration_functions)\n",
    "- [`fill_holes(...)`](../svz.ipynb#filtration_functions)\n",
    "\n",
    "\n",
    "- [`ocr(...)`](../svz.ipynb#ocr)\n",
    "\n",
    "\n",
    "- [`to_intensity(...)`](../svz.ipynb#others)\n",
    "- [`logical_and(...)`](../svz.ipynb#others)\n",
    "\n",
    "\n",
    "- [`warp_to_cartesian(...)`](../svz.ipynb#cart_polar_functions)\n",
    "- [`warp_to_polar(...)`](../svz.ipynb#cart_polar_functions)\n",
    "- [`rotate(...)`](../svz.ipynb#cart_polar_functions)\n",
    "\n",
    "\n",
    "- [`artificial_circle_image(...)`](../svz.ipynb#artificial_funtions)\n",
    "\n",
    "\n",
    "- [`ShapeDescriptors()`](../svz.ipynb#shape_desc_funtions)"
   ]
  },
  {
   "cell_type": "markdown",
   "metadata": {},
   "source": [
    "### Úkol\n",
    "Seznamte se s řádkovou kamerou a jejími parametry, jejichž nastavení je pro správné snímání kritické. Vyzkoušejte si ostření řádkové kamery. Nakonec se seznamte s vlastní rychlostí snímání kamery a získejte obrázek skla, na kterém detekujte škrábance ve tvaru příslušného čísla."
   ]
  },
  {
   "cell_type": "markdown",
   "metadata": {},
   "source": [
    "#### 1) Seznamte se s řádkovou kamerou\n",
    "Připojte řádkovou kameru a otevřete ji v **Pylonu**. Nastavte si **vlastní ID** kamery pro lepší identifikaci kamery v síti. Seznamte se s nastavením následujících parametrů, které si uložte do oblíbených (\"Favourites\").\n",
    "\n",
    "- Exposure time (Abs)\n",
    "- Width, Height\n",
    "- Gain\n",
    "- Gamma\n",
    "- Acquisition Frame Count"
   ]
  },
  {
   "cell_type": "markdown",
   "metadata": {},
   "source": [
    "#### 2) Zaostřete řádkovou kameru\n",
    "Zaostřete kameru, využijte k tomu **mřížkový podklad** držáků Kaiser. Správně zaostřenou kameru poznáte podle toho, že budou vidět vedle sebe svislé čáry různých intenzit.\n",
    "\n",
    "Nezapomeňte **přidat osvětlení**, které bude svítit na místo řádku, na které kamera vidí. "
   ]
  },
  {
   "cell_type": "markdown",
   "metadata": {},
   "source": [
    "#### 3) Získejte obrázek textu\n",
    "Využijte manuál kamery jako zdroj textu, který chcete snímat. Zkoordinujte správně rychlost pohybu textu pod kamerou a zisk snímku tak, abyste získali text. Pozor ať není text příliš roztažený či zploštělý.\n",
    "\n",
    "Načtěte obrázek textu."
   ]
  },
  {
   "cell_type": "code",
   "execution_count": null,
   "metadata": {},
   "outputs": [],
   "source": [
    "name = '' ###\n",
    "image = ...(name) ###"
   ]
  },
  {
   "cell_type": "markdown",
   "metadata": {},
   "source": [
    "#### 4) Přečtete text manuálu\n",
    "S využitím známých funkcí vytvořte binární masku textu, kterou pošlete do OCR a text manuálu si strojově přečtěte."
   ]
  },
  {
   "cell_type": "code",
   "execution_count": null,
   "metadata": {},
   "outputs": [],
   "source": [
    "def binary_mask(image):\n",
    "    ###\n",
    "    \n",
    "    \n",
    "    return mask"
   ]
  },
  {
   "cell_type": "code",
   "execution_count": null,
   "metadata": {},
   "outputs": [],
   "source": [
    "mask = binary_mask(image)\n",
    "show_images(mask)"
   ]
  },
  {
   "cell_type": "markdown",
   "metadata": {},
   "source": [
    "#### 5) Seznamte se s parametry rychlosti snímání kamery\n",
    "Vyzkoušejte, jak ovlivňují parametry **rychlosti snímání** kamery výsledný obraz. Seznamte se s **dopravníkem** a jeho funkcí.\n",
    "\n",
    "Získejte obraz skla s nasvícenými škrábanci. Snařte se, aby **kvalita** získaného snímku byla co **nejlepší** aby mohlo být **zpracování** o to **jednodušší**. Stačí využít Pylon k uložení několika testovacích snímků.\n",
    "\n",
    "Doporučujeme sklo před snímáním vyčistit."
   ]
  },
  {
   "cell_type": "code",
   "execution_count": null,
   "metadata": {},
   "outputs": [],
   "source": [
    "glass = '' ###"
   ]
  },
  {
   "cell_type": "markdown",
   "metadata": {},
   "source": [
    "#### 6) Segmentujte obrázek\n",
    "Vytvořte algoritmus segmentace, který detekuje všechny škrábance. Filtrujte obraz tak, abyste byly schopni získat pouze škrábance ve tvaru čísel.\n",
    "\n",
    "![](images/numbers.png)\n",
    "\n",
    "Seznamte se s následujícími funkcemi:\n",
    "- [`cv2.getStructuringElement()`](https://docs.opencv.org/3.0-beta/doc/py_tutorials/py_imgproc/py_morphological_ops/py_morphological_ops.html#structuring-element)\n",
    "- [další funkce matematické morfologie v opencv](https://docs.opencv.org/3.0-beta/doc/py_tutorials/py_imgproc/py_morphological_ops/py_morphological_ops.html#morphological-transformations)"
   ]
  },
  {
   "cell_type": "code",
   "execution_count": null,
   "metadata": {},
   "outputs": [],
   "source": [
    "### Algoritmus segmentace\n"
   ]
  },
  {
   "cell_type": "code",
   "execution_count": null,
   "metadata": {},
   "outputs": [],
   "source": [
    "### Algoritmus filtrace\n"
   ]
  },
  {
   "cell_type": "markdown",
   "metadata": {},
   "source": [
    "#### 7) Specifikujte tvary čísel\n",
    "Najděte takové vhodné tvarové charakteristiky, které by mohly být použitelné pro identifikaci typu škrábance jako konkrétního čísla. Charakteristiky vypište."
   ]
  },
  {
   "cell_type": "code",
   "execution_count": null,
   "metadata": {},
   "outputs": [],
   "source": [
    "### Např.: \n",
    "# shape_5 = [convexity=0.4; solidity=0.21; atd...]\n"
   ]
  }
 ],
 "metadata": {
  "kernelspec": {
   "display_name": "Python [default]",
   "language": "python",
   "name": "python3"
  },
  "language_info": {
   "codemirror_mode": {
    "name": "ipython",
    "version": 3
   },
   "file_extension": ".py",
   "mimetype": "text/x-python",
   "name": "python",
   "nbconvert_exporter": "python",
   "pygments_lexer": "ipython3",
   "version": "3.6.6"
  }
 },
 "nbformat": 4,
 "nbformat_minor": 2
}
