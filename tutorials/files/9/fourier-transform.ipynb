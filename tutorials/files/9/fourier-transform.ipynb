{
 "cells": [
  {
   "cell_type": "markdown",
   "metadata": {},
   "source": [
    "# Detekce defektů pomocí Fourierovy transformace\n",
    "Na dnešním cvičení bude úkolem vytvořit algoritmus na kontrolu kvality kartonu (tzv. vlnité lepenky). Algoritmus by měl být schopný **detekovat trhliny, díry a jiné defekty**. Jelikož kontrolovaný karton je vyráběn jako tzv. nekonečný pás, je potřeba využít řádkovou kameru. \n",
    "\n",
    "<img src=\"images/vlnita_lepenka.jpg\" width=\"50%\">\n",
    "\n",
    "Výhodou materiálu je, že má **opakující se** strukturu. Tím pádem lze k detekci vytvořit algoritmus využívající **Fourierovu transformaci** (rozklad obrazu na opakující se obrazové frekvence). Na našem konkrétním kartonu se defekty vyskytují v podobě promáčklin na některých vlnách. Tím byl **narušen** jejich **pravidelný vzor** a tato nedokonalost je patrná ve frekvenčním spektru obrazu. Úkolem je tyto defekty v obrázku **najít** za pomoci Fourierovy transformace a **vyznačit**.\n",
    "\n",
    "Obrázek kartonu byl nasnímán řádkovou kamerou. Kamera byla umístěna staticky nad pásem, karton se pod ní pohyboval pomocí důmyslného dopravníku.\n",
    "\n",
    "\n",
    "## Řádkové kamery\n",
    "Řádková kamera neboli řádkový skener je speciální druh kamery, která snímá pouze 1 řádek. Díky tomu je schopna dosáhnout obrovských frekvencí snímání (až ticíce řádků za 1 sekundu). V labu máme kamery [Basler Racer](https://www.baslerweb.com/en/products/cameras/line-scan-cameras/racer/) o velikosti řádku 6k, 8k a 12k pixelů. Řádkové kamery jsou díky svým specifickým vlastnostem vynikající pro řadu úloh, typickým použitím je snímání nekonečného pásu ve výrobních linkách.\n",
    "\n",
    "<img src=\"images/racer.png\" width=\"25%\">\n",
    "\n",
    "Z podstaty skeneru však vyplývá, že se objekt pod kamerou musí pohybovat. V případě, že se objekt nebude pohybovat, vytvoří kamera obrázek, který bude mít všechny řádky totožné (pouze ten 1, který kamera snímá).\n",
    "\n",
    "Tím, že je kamera schopná dosahovat neskutečných frekvencí snímání dále umožňuje získávat obrazová data v neskutečně velkém rozlišení. Na druhou stranu nás tím nutí nastavovat nízkou dobu expozice a tedy je zapotřebí mnohem více světla."
   ]
  },
  {
   "cell_type": "markdown",
   "metadata": {},
   "source": [
    "### Import knihoven a konfigurace"
   ]
  },
  {
   "cell_type": "code",
   "execution_count": null,
   "metadata": {
    "ExecuteTime": {
     "end_time": "2020-04-16T15:57:31.180325Z",
     "start_time": "2020-04-16T15:57:30.348819Z"
    }
   },
   "outputs": [],
   "source": [
    "import os\n",
    "import io\n",
    "\n",
    "import cv2\n",
    "import numpy as np\n",
    "import matplotlib.pyplot as plt\n",
    "import pytesseract\n",
    "\n",
    "from improutils import *\n",
    "\n",
    "%matplotlib inline\n",
    "np.set_printoptions(formatter={'float': lambda x: \"{0:0.3f}\".format(x)})"
   ]
  },
  {
   "cell_type": "markdown",
   "metadata": {},
   "source": [
    "### Pomocné funkce\n",
    "\n",
    "Z funkcí je potřeba vybírat ty vhodné pro splnění úkolu.\n",
    "\n",
    "- [`load_image(...)`](https://gitlab.fit.cvut.cz/bi-svz/improutils_package/blob/master/improutils/acquisition/img_io.py#L11)\n",
    "- [`plot_images(...)`](https://gitlab.fit.cvut.cz/bi-svz/improutils_package/blob/master/improutils/visualisation/visualisation.py#L11)\n",
    "\n",
    "\n",
    "- [`crop(...)`](https://gitlab.fit.cvut.cz/bi-svz/improutils_package/blob/master/improutils/preprocessing/preprocessing.py#L94)\n",
    "- [`normalize(...)`](https://gitlab.fit.cvut.cz/bi-svz/improutils_package/blob/master/improutils/preprocessing/preprocessing.py#L65)\n",
    "- [`filtration_median(...)`](https://gitlab.fit.cvut.cz/bi-svz/improutils_package/blob/master/improutils/filtration/filtration.py#L21)\n",
    "- [`segmentation_one_threshold(...)`](https://gitlab.fit.cvut.cz/bi-svz/improutils_package/blob/master/improutils/segmentation/segmentation.py#L50)\n",
    "- [`segmentation_auto_threshold(...)`](https://gitlab.fit.cvut.cz/bi-svz/improutils_package/blob/master/improutils/segmentation/segmentation.py#L67)\n",
    "- [`segmentation_two_thresholds(...)`](https://gitlab.fit.cvut.cz/bi-svz/improutils_package/blob/master/improutils/segmentation/segmentation.py#L82)\n",
    "- [`segmentation_adaptive_threshold(...)`](https://gitlab.fit.cvut.cz/bi-svz/improutils_package/blob/master/improutils/segmentation/segmentation.py#L100)\n",
    "\n",
    "Následující funkce jsou nové a umožňují nám provést Fourierovu transformaci a související operace.\n",
    "\n",
    "- [`apply_fft(...)`](https://gitlab.fit.cvut.cz/bi-svz/improutils_package/blob/master/improutils/filtration/filtration.py#L53)\n",
    "- [`create_filter_mask(...)`](https://gitlab.fit.cvut.cz/bi-svz/improutils_package/blob/master/improutils/filtration/filtration.py#L95)\n",
    "- [`filter_mag_spec(...)`](https://gitlab.fit.cvut.cz/bi-svz/improutils_package/blob/master/improutils/filtration/filtration.py#L117)\n",
    "- [`inverse_fft(...)`](https://gitlab.fit.cvut.cz/bi-svz/improutils_package/blob/master/improutils/filtration/filtration.py#L73)"
   ]
  },
  {
   "cell_type": "markdown",
   "metadata": {},
   "source": [
    "---"
   ]
  },
  {
   "cell_type": "markdown",
   "metadata": {},
   "source": [
    "## Úkol"
   ]
  },
  {
   "cell_type": "markdown",
   "metadata": {},
   "source": [
    "### 1) Načtěte a zobrazte vstupní data nasnímaného kartonu.\n",
    "\n",
    "Pozor, obrázek je potřeba načíst jako černobílý, tzn. pouze s jedním kanálem. Lze toho docílit vícero způsoby: buď lze použít klasickou funkci `load_image` a vybrat libovolný kanál nebo obrázek následně převést na šedotónový."
   ]
  },
  {
   "cell_type": "code",
   "execution_count": null,
   "metadata": {
    "ExecuteTime": {
     "end_time": "2020-04-16T15:57:32.050871Z",
     "start_time": "2020-04-16T15:57:31.182684Z"
    }
   },
   "outputs": [],
   "source": [
    "cardboard_texture = load_image(...) ### načtení dat\n",
    "cardboard_texture = ...(cardboard_texture) ### převod do šedotónu\n",
    "plot_images(cardboard_texture)"
   ]
  },
  {
   "cell_type": "markdown",
   "metadata": {},
   "source": [
    "### 2) Vyberte si z obrazu rozumně velký čtvercový výřez s nějakou vadou na kartonu.\n",
    "Velikost obrazu zvolte 500 × 500."
   ]
  },
  {
   "cell_type": "code",
   "execution_count": null,
   "metadata": {
    "ExecuteTime": {
     "end_time": "2020-04-16T15:57:32.645298Z",
     "start_time": "2020-04-16T15:57:32.052802Z"
    }
   },
   "outputs": [],
   "source": [
    "cardboard_texture_cropped = crop(cardboard_texture, ..., ..., ..., ...) ### zvolte správně ořez\n",
    "\n",
    "# Kontrola rozměrů obrazu\n",
    "h,w = cardboard_texture_cropped.shape\n",
    "if h != w:\n",
    "    print('Obrázek není čtverec! [h × w] = ' + str(h) + ' × ' + str(w) + '!')\n",
    "\n",
    "plot_images(cardboard_texture_cropped)"
   ]
  },
  {
   "cell_type": "markdown",
   "metadata": {},
   "source": [
    "### 3) Vyfiltrujte v rozumné míře šum mediánovým filtrem vhodné velikosti.\n",
    "_Pro připomenutí_, mediánový filtr zachovává hrany v obraze (tzn. nechová se jako filtr dolní propusti). Proto je vhodné jeho využití společně s Fourierovou transformací. V případě využití filtrů dolní propusti (blur, gauss) by byly vyšší obrazové frekvence zbytečně odstraněny."
   ]
  },
  {
   "cell_type": "code",
   "execution_count": null,
   "metadata": {
    "ExecuteTime": {
     "end_time": "2020-04-16T15:57:33.233232Z",
     "start_time": "2020-04-16T15:57:32.647297Z"
    },
    "scrolled": false
   },
   "outputs": [],
   "source": [
    "cardboard_texture_filtered = ...(cardboard_texture_cropped, ...) ### filtrace o vhodné velikosti\n",
    "plot_images(cardboard_texture_filtered)"
   ]
  },
  {
   "cell_type": "markdown",
   "metadata": {},
   "source": [
    "### 4) Zvyšte konstrast obrazu použitím min-max normalizace.\n",
    "Normalizace obrazu převede jeho aktuální rozsah hodnot na zvolené hodnoty. V případě zvyšování konstrastu jsou zvolenými hodnotami minimální resp. maximální hodnoty pro osmibitový obraz (tedy 0 - 255). "
   ]
  },
  {
   "cell_type": "code",
   "execution_count": null,
   "metadata": {
    "ExecuteTime": {
     "end_time": "2020-04-16T15:57:33.793239Z",
     "start_time": "2020-04-16T15:57:33.233232Z"
    }
   },
   "outputs": [],
   "source": [
    "cardboard_normalized = ...(cardboard_texture_filtered) ###\n",
    "plot_images(cardboard_normalized)"
   ]
  },
  {
   "cell_type": "markdown",
   "metadata": {},
   "source": [
    "### 5)  Zobrazte si frekvenční spektrum obrázku.\n",
    "Aplikujte Fourierovu transformaci na upravený obrázek a získané spektrum si zobrazte. \n",
    "\n",
    "_Poznámka:_ Frekvenční spektrum obrazu je tvořené komplexními čísly (viz [Předzpracování obrazu - Filtrace v prostorové a frekvenční oblasti](https://courses.fit.cvut.cz/BI-SVZ/lectures/files/bi-svz-07-filtrace-v-prostorove-a-frekvencni-oblasti.pdf). Pro jeho správné funkční zobrazení se využívá následujících pár vylepšení:\n",
    "- Zobrazení velikosti těchto komplexních čísel.\n",
    "- Zobrazení obrázku spektra v logaritmickém měřítku (z důvodu neporovnatelně velké velikosti stejnosměrné složky = nulové frekvence oproti zbylým frekvencím). \n",
    "- Zobrazení spektra středově souměrného než je vypočtené pomocí přeházení kvadrantů (tzv. _shift_).\n"
   ]
  },
  {
   "cell_type": "code",
   "execution_count": null,
   "metadata": {
    "ExecuteTime": {
     "end_time": "2020-04-16T15:57:34.598254Z",
     "start_time": "2020-04-16T15:57:33.794236Z"
    }
   },
   "outputs": [],
   "source": [
    "mag_spec, spectrum_shift = ...(cardboard_normalized) ### aplikujte Fourierovu transformaci\n",
    "plot_images(cardboard_normalized, mag_spec)"
   ]
  },
  {
   "cell_type": "markdown",
   "metadata": {},
   "source": [
    "### 6) Nalezněte souřadnice zajímavých frekvencí ve frekvenčním spektru.\n",
    "S vizualizací frekvenčního spektra lze zacházet jako s klasickým obrázkem. Jedná se přeci jen o osmibitový obraz s hodnotami 0 - 255. \n",
    "\n",
    "Segmentujte obraz tak, aby v něm zbylo pouze **7 pixelů** (neboli hodnot zajímavých obrazových frekvencí). Hodnotu **amplitudy** obrazové frekvence rezprezentuje **jas** v daném pixelu. Nejvyšší hodnota jasu v obrazu je samozřejmě jeho stejnosměrná složka. "
   ]
  },
  {
   "cell_type": "code",
   "execution_count": null,
   "metadata": {
    "ExecuteTime": {
     "end_time": "2020-04-16T15:57:34.606707Z",
     "start_time": "2020-04-16T15:57:34.600217Z"
    }
   },
   "outputs": [],
   "source": [
    "# Segmentace\n",
    "threshold = ... ### zvolte správný práh\n",
    "spectrum_intresting = ...(mag_spec, threshold) ### zvolte správnou metodu segmentace\n",
    "\n",
    "# Nalezení indexů\n",
    "idx = cv2.findNonZero(spectrum_intresting)\n",
    "if len(idx) != 7:\n",
    "    print('Pozor nalezených frekvencí není 7!')\n",
    "\n",
    "# Výpis hodnot\n",
    "print(idx)"
   ]
  },
  {
   "cell_type": "markdown",
   "metadata": {},
   "source": [
    "### 7) Experimentujte s frekvenčními filtry. \n",
    "Vytvořte několik filtrů **(4)** pro představu toho, co filtrace spektra dělá. Vždy si zobrazte kombinaci **filtr + filtrované spektrum + obrázek s vyfiltrovaným spektrem**. Filtrace obrazových frekvencí se provádí nad získaným spektrem. Ve spektru ukazují vysoké hodnoty na zajímavé frekvence vyskytující se v obraze. \n",
    "\n",
    "Vytvořte 4 takovéto filtry:\n",
    "1. Filtr pouze stejnosměrné složky obrazu.\n",
    "2. Filtr dolní propust v ose x i ose y.\n",
    "3. Filtr dolní propust pouze v ose y obsahující zajímavé hodnoty frekvenčního spektra kartonu.\n",
    "4. Selektivní filtr v ose y pouze 7 (6+1) zajímavých hodnot frekvencí ze spektra kartonu. \n",
    "\n",
    "Vhodné filtry mohou vypadat následovně:\n",
    "![](images/filters.png)\n",
    "\n",
    "Hint k práci s funkcí `create_filter_mask()`:\n",
    "- Vstupem je **vždy list** hodnot, např. `[1,2,3,4,5,6,7]`.\n",
    "- Pokud chcete jako vstup použít `range()`, je třeba ho zapsat jako `*range(1:7)`.\n",
    "- Pokud chcete kombinovat obojí, lze to např. takto: `[1, *range(3-5), 7]`.\n",
    "- V listu nemusí být pouze unikátní čísla (nespadne to), ale není jediný důvod, proč by tam mělo být nějaké číslo víckrát :)"
   ]
  },
  {
   "cell_type": "code",
   "execution_count": null,
   "metadata": {
    "ExecuteTime": {
     "end_time": "2020-04-16T15:57:36.388296Z",
     "start_time": "2020-04-16T15:57:34.608229Z"
    }
   },
   "outputs": [],
   "source": [
    "# Filtr 1 pouze stejnosměrná složka\n",
    "filter_mask_1 = ...(cardboard_normalized.shape, [...], [...]) ### doplňte jak funkci, tak hodnoty\n",
    "spec_mask_filt_1 = ...(mag_spec, filter_mask_1) ### doplňte funkci\n",
    "cardboard_filt_1 = ...(spectrum_shift, filter_mask_1) ### doplňte funkci\n",
    "\n",
    "# Filtr 2 dolní propust v x i y\n",
    "filter_mask_2 = ...(cardboard_normalized.shape, [...], [...]) ### doplňte jak funkci, tak hodnoty\n",
    "spec_mask_filt_2 = ...(mag_spec, filter_mask_2) ### doplňte funkci\n",
    "cardboard_filt_2 = ...(spectrum_shift, filter_mask_2) ### doplňte funkci\n",
    "\n",
    "# Filtr 3 dolní propust v y se zajímavými hodnotami\n",
    "filter_mask_3 = ...(cardboard_normalized.shape, [...], [...]) ### doplňte jak funkci, tak hodnoty\n",
    "spec_mask_filt_3 = ...(mag_spec, filter_mask_3) ### doplňte jak funkci, tak hodnoty\n",
    "cardboard_filt_3 = ...(spectrum_shift, filter_mask_3) ### doplňte funkci\n",
    "\n",
    "# Filtr 4 selektivní pouze pro 7 zajímavých hodnot v obraze\n",
    "filter_mask_4 = ...(cardboard_normalized.shape, [...], [...]) ### doplňte jak funkci, tak hodnoty\n",
    "spec_mask_filt_4 = ...(mag_spec, filter_mask_4) ### doplňte funkci\n",
    "cardboard_filt_4 = ...(spectrum_shift, filter_mask_4) ### doplňte funkci\n",
    "\n",
    "# Zobrazení\n",
    "plot_images(\n",
    "    filter_mask_1, spec_mask_filt_1, cardboard_filt_1,\n",
    "    filter_mask_2, spec_mask_filt_2, cardboard_filt_2,\n",
    "    filter_mask_3, spec_mask_filt_3, cardboard_filt_3,\n",
    "    filter_mask_4, spec_mask_filt_4, cardboard_filt_4,\n",
    "    normalize=True\n",
    ")"
   ]
  },
  {
   "cell_type": "markdown",
   "metadata": {},
   "source": [
    "### 8) Zjistěte index správné obrazové frekvence (ind), která odpovídá struktuře (vzoru) materiálu kartonu.\n",
    "Je potřeba se zamyslet nad strukturou materiálu. \n",
    "- Jeho \"vlnitost\" neboli opakování vzoru je pouze v ose y obrazu, v ose x jsou hodnoty vždy stejné. \n",
    "- Jaká je perioda opakování obrazového vzoru (T_vzor)?\n",
    "- Jaká je maximální vzorkovací frekvence, kterou obraz umožňuje pojmout (f_max)?\n",
    "- Zajímavých frekvencí je 7, ale jen 1 odpovídá přesně vzoru.\n",
    "- Stejnosměrná složka to NENÍ, i když se to tak může zdát.\n",
    "\n",
    "Vysoké frekvence (zde odpovídají vadám a šumu) a nízké frekvence odpovídají struktuře materiálu. To jsou ty, které jsou blíže ke středu obrázku spektra (našich 7 vybraných).\n",
    "\n",
    "Vhodné vzorce:\n",
    "$$ f_{vzor} = \\frac{1}{T_{vzor}} \\; \\mathrm{[pix}^{-1}] $$\n",
    "\n",
    "$$ f_{max} = \\frac{1}{T_{max}} \\; \\mathrm{[pix}^{-1}] $$\n",
    "\n",
    "$$ pix_{spect} = f_{vzor} \\cdot T_{max} \\; \\mathrm{[pix]} $$\n",
    "\n",
    "Hodnota `pix_spect` označuje hledanou vzdálenost v pixelech bodu obrazové frekvence od stejnosměrné složky spektra (středu) v obrazovém frekvenčím spektru."
   ]
  },
  {
   "cell_type": "code",
   "execution_count": null,
   "metadata": {
    "ExecuteTime": {
     "end_time": "2020-04-16T15:57:40.066041Z",
     "start_time": "2020-04-16T15:57:36.390292Z"
    }
   },
   "outputs": [],
   "source": [
    "# Změřte si periodu vzoru\n",
    "# ... uložte si obrázek na disk \n",
    "# ... otevřete si ho v nějakém editoru, ve kterém jste schopni určit souřadnice dvou pixelů\n",
    "save_image(cardboard_normalized, 'data/cardboard_normalized.png')"
   ]
  },
  {
   "cell_type": "code",
   "execution_count": null,
   "metadata": {
    "ExecuteTime": {
     "end_time": "2020-04-16T15:57:40.076443Z",
     "start_time": "2020-04-16T15:57:40.068466Z"
    }
   },
   "outputs": [],
   "source": [
    "# Podpůrné indexy a hodnoty\n",
    "indexes = idx[:, 0, 1]\n",
    "idx_middle = math.floor(len(indexes)/2)\n",
    "\n",
    "# Hodnota pixelu indexu stejnosměrné složky\n",
    "ind_ss = indexes[idx_middle]\n",
    "indexes = np.delete(indexes, idx_middle)\n",
    "\n",
    "# Maximální perioda v obraze T_max (rozlišení obrazu) [pix]\n",
    "T_max = ... ### získaná hodnota\n",
    "\n",
    "# Perioda opakování struktury (vzoru) [pix}\n",
    "T_vzor = ... ### změřená hodnota\n",
    "\n",
    "# Frekvence vzoru [pix^-1]\n",
    "f_vzor = ... ### vzorec\n",
    "\n",
    "# Hledaná hodnota frekvence se pozná podle vzdálenosti od středu spektra [pix]\n",
    "pix_spect = ... ### vzorec\n",
    "\n",
    "# Hledání ideální frekvence ze zjištěných možných\n",
    "diffs = []\n",
    "for i in indexes:\n",
    "    pix_from_center = abs(i - ind_ss)\n",
    "    \n",
    "    # Nemá smysl odečítat střed sám od sebe\n",
    "    if pix_from_center != 0:\n",
    "        diff = abs(pix_spect - pix_from_center)\n",
    "        diffs.append(diff)\n",
    "\n",
    "# Převod na numpy array kvůli vyhledání více možností než 1\n",
    "diffs = np.array(diffs)\n",
    "    \n",
    "# Nalezení správných indexů obrazové frekvence\n",
    "ind = indexes[np.where(diffs == diffs.min())]\n",
    "    \n",
    "# Výpis výsledků\n",
    "print('Správné obrazové frekvence leží na hodnotách pixelů na ose y: ' + str(ind))\n",
    "print('Spektrum je totiž souměrné podle středu.')"
   ]
  },
  {
   "cell_type": "markdown",
   "metadata": {},
   "source": [
    "### 9) Vytvořte finální filtr a odstraňte z obrazu opakující se vzor.\n",
    "Opět vytvořte filtr pro frekvenční spektrum, který tentokrát ideálně odstraní z obrazu **POUZE** opakující se vzor. Filtr použijte na původní frekvenční spektrum a aplikujte **inverzní fourierovu transformaci**.\n",
    "\n",
    "_Pozor_: v předchozích případech se takový vzor hledal, teď je nutné ho odstranit!"
   ]
  },
  {
   "cell_type": "code",
   "execution_count": null,
   "metadata": {
    "ExecuteTime": {
     "end_time": "2020-04-16T15:57:41.031461Z",
     "start_time": "2020-04-16T15:57:40.078438Z"
    },
    "scrolled": false
   },
   "outputs": [],
   "source": [
    "# Vytvořte vzor pro odstranění opakujícího se vzoru\n",
    "filter_mask_final = ...(cardboard_normalized.shape, [...], [...]) ### doplňte jak funkci, tak hodnoty\n",
    "\n",
    "# Funguje filtr podle zadání?\n",
    "\n",
    "# Vytvořte filtrované spektrum a výsledný filtrovaný obraz\n",
    "spec_mask_filt_final = ...(mag_spec, filter_mask_final) ### doplňte funkci\n",
    "cardboard_filt_final = ...(spectrum_shift, filter_mask_final).astype(np.uint8) ### doplňte funkci\n",
    "\n",
    "plot_images(spec_mask_filt_final, cardboard_filt_final, normalize=True)"
   ]
  },
  {
   "cell_type": "markdown",
   "metadata": {},
   "source": [
    "### 10) Detekujte defekty materiálu. Vhodně vizualizujte.\n",
    "Segmentujte defekty pomocí vhodného prahování. Cílem je najít pouze největší defekty. Drobnosti lze ignorovat.\n",
    "\n",
    "Zakreslete nalezené defekty do původního obrázku."
   ]
  },
  {
   "cell_type": "code",
   "execution_count": null,
   "metadata": {
    "ExecuteTime": {
     "end_time": "2020-04-16T15:57:41.036424Z",
     "start_time": "2020-04-16T15:57:41.033427Z"
    },
    "code_folding": [
     1
    ]
   },
   "outputs": [],
   "source": [
    "# Pomocná metoda pro vizualizaci\n",
    "def vizualize(image, image_binary):\n",
    "    _, _, contours = find_contours(image_binary, 50, fill=False)\n",
    "\n",
    "    result = to_3_channels(image)\n",
    "    cv2.drawContours(result, contours, -1, (0, 0, 255), 2)\n",
    "    return result"
   ]
  },
  {
   "cell_type": "code",
   "execution_count": null,
   "metadata": {
    "ExecuteTime": {
     "end_time": "2020-04-16T15:57:41.754744Z",
     "start_time": "2020-04-16T15:57:41.038414Z"
    }
   },
   "outputs": [],
   "source": [
    "defects_bin = ...(cardboard_filt_final, 50) ### vhodná metoda segmentace\n",
    "\n",
    "# Vizualizace výsledků\n",
    "defects_viz = vizualize(cardboard_texture_cropped, defects_bin) \n",
    "plot_images(defects_bin, defects_viz)"
   ]
  }
 ],
 "metadata": {
  "kernelspec": {
   "display_name": "Python [default]",
   "language": "python",
   "name": "python3"
  },
  "language_info": {
   "codemirror_mode": {
    "name": "ipython",
    "version": 3
   },
   "file_extension": ".py",
   "mimetype": "text/x-python",
   "name": "python",
   "nbconvert_exporter": "python",
   "pygments_lexer": "ipython3",
   "version": "3.6.6"
  }
 },
 "nbformat": 4,
 "nbformat_minor": 2
}
