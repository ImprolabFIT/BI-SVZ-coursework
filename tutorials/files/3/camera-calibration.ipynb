{
 "cells": [
  {
   "cell_type": "markdown",
   "metadata": {},
   "source": [
    "# Kalibrace kamery k odstranění distorze\n",
    "\n",
    "Kalibrace kamery je jednou z velmi důležitých prerekvizit jakékoliv úlohy strojového vidění. Využívá se k tomu, aby odstranila vady obrazu vzniklé kombinací snímače a objektivu. Nejčastěji se jedná o odstranění vady soudkovitosti objektivu či různých tangenciálních deformací vzniklých neideálním umístěním objektivu na snímač.\n",
    "\n",
    "Tento úkol je zaměřen na kalibraci kamery za účelem odstranění distorze ze snímků. K tomu, aby bylo možné provést kalibraci, je zapotřebí dostatečný počet snímků (10-30), které obsahují předem známý vzor (v našem případě šachovnice), zaznamenaný v různých úhlech. Knihovna OpenCV následně sama tyto vzory vyhledá, vypočte kamerovou matici (camera matrix) a parametry zkreslení (distortion coefficients). \n",
    "\n",
    "Kamera musí být při snímání vzoru stacionárně upevněna, nejlépe na stativu/stojanu.\n",
    "\n",
    "![](images/camera_calib.png)\n",
    "\n",
    "Více na téma kalibrace se lze dočíst [zde](https://docs.opencv.org/2.4/modules/calib3d/doc/camera_calibration_and_3d_reconstruction.html).\n",
    "\n",
    "<div style=\"color: blue; text-align: right\">[ 1 bod ]</div>"
   ]
  },
  {
   "cell_type": "markdown",
   "metadata": {},
   "source": [
    "### Import knihoven a konfigurace"
   ]
  },
  {
   "cell_type": "code",
   "execution_count": null,
   "metadata": {},
   "outputs": [],
   "source": [
    "%run library.ipynb"
   ]
  },
  {
   "cell_type": "markdown",
   "metadata": {},
   "source": [
    "### Pomocné funkce\n",
    "Z následujících funkcí je potřeba vybírat ty vhodné pro splnění úkolu."
   ]
  },
  {
   "cell_type": "markdown",
   "metadata": {},
   "source": [
    "Seznam funkcí pro přehlednost:\n",
    "- `load_camera_calib(...)`\n",
    "- `save_camera_calib(...)`\n",
    "- `reindex_image_files(...)`\n",
    "- `camera_calib(...)`\n",
    "- `correct_frame(...)`\n",
    "- `create_folder_path(...)`\n",
    "- `create_file_path(...)`\n",
    "- `load_image(...)`\n",
    "- `plot_images(...)`"
   ]
  },
  {
   "cell_type": "markdown",
   "metadata": {},
   "source": [
    "#### 1) Získejte snímek s **viditelnou** vadou distorze pomocí Pylon Viewer. Snímek si načtěte a zobrazte.\n",
    "Hint: Mohl by se vám hodit vzor podložky stojanu."
   ]
  },
  {
   "cell_type": "code",
   "execution_count": null,
   "metadata": {},
   "outputs": [],
   "source": [
    "img_distorsion = ... ###\n",
    "...(img_distorsion) ###"
   ]
  },
  {
   "cell_type": "markdown",
   "metadata": {},
   "source": [
    "#### 2) Získejte snímky šachovnice ke kalibraci. Snímky uložte do vámi zvolené složky. Cestu ke složce si uložte.\n"
   ]
  },
  {
   "cell_type": "code",
   "execution_count": null,
   "metadata": {},
   "outputs": [],
   "source": [
    "calib_folder_path = ... ###"
   ]
  },
  {
   "cell_type": "markdown",
   "metadata": {},
   "source": [
    "#### 3) Zavolejte funkci pro přejmenování souborů tak, aby šly snadno přečíst pomocí cv2.VideoCapture."
   ]
  },
  {
   "cell_type": "code",
   "execution_count": null,
   "metadata": {},
   "outputs": [],
   "source": [
    "...(calib_folder_path) ###\n",
    "images_format = '%01d.png' #číselné označení s dvoumístnými číslicemi (01, 02, ...)"
   ]
  },
  {
   "cell_type": "markdown",
   "metadata": {},
   "source": [
    "#### 4) Zvolte název souboru pro uložení kalibrace kamery. Prověďte kalibraci kamery. Nezapomeňte zvolit správnou velikost šachovnice."
   ]
  },
  {
   "cell_type": "code",
   "execution_count": null,
   "metadata": {},
   "outputs": [],
   "source": [
    "calibration_file_name = ... ### *.yaml\n",
    "output_calib_file_path = create_file_path(calib_folder_path, calibration_file_name)\n",
    "\n",
    "chess_shape= ... ### tuple\n",
    "\n",
    "input_source = create_file_path(calib_folder_path, images_format)\n",
    "camera_matrix, dist_coefs, good_images = ...(input_source=input_source, chess_shape=chess_shape, output_calib_file=output_calib_file_path) ###"
   ]
  },
  {
   "cell_type": "markdown",
   "metadata": {},
   "source": [
    "#### 5) Opravte zdrojový obrázek z podúkolu č. 1) pomocí funkce na odstranění soudkovitosti. Oba obrázky zobrazte."
   ]
  },
  {
   "cell_type": "code",
   "execution_count": null,
   "metadata": {},
   "outputs": [],
   "source": [
    "img_corrected = ...(img_distorsion, camera_matrix, dist_coefs) ###\n",
    "\n",
    "...(img_distorsion, img_corrected) ###"
   ]
  }
 ],
 "metadata": {
  "deepnote": {},
  "deepnote_execution_queue": [],
  "deepnote_notebook_id": "30966b17-4965-494a-88f1-529fb471f9a2",
  "interpreter": {
   "hash": "e643216664f40d5b1ac05f6c81a0762e4f0dd1599cd74626f5d92cc140e06269"
  },
  "kernelspec": {
   "display_name": "Python 3 (ipykernel)",
   "language": "python",
   "name": "python3"
  },
  "language_info": {
   "codemirror_mode": {
    "name": "ipython",
    "version": 3
   },
   "file_extension": ".py",
   "mimetype": "text/x-python",
   "name": "python",
   "nbconvert_exporter": "python",
   "pygments_lexer": "ipython3",
   "version": "3.8.11"
  }
 },
 "nbformat": 4,
 "nbformat_minor": 2
}
