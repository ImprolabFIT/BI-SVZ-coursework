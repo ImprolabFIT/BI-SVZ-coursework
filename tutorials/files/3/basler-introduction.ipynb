{
 "cells": [
  {
   "cell_type": "markdown",
   "metadata": {},
   "source": [
    "# Práce s kamerou Basler v Jupyter Notebooku\n",
    "Vzhledem k tomu, že software Pylon je nejen vlastní program pro připojení a manipulaci s kamerami, ale zároveň SDK, budeme používat přímo SDK. SDK je psáno v C, C++ nebo C#. Basler k tomu však v roce 2018 vytvořil wrapper do Pythonu s názvem `pypylon`.\n",
    "\n",
    "My jsme k tomu vytvořili rozhraní s názvem `pypylon_opencv_viewer`. To umožňuje se připojit ke konkrétní kameře, zobrazit si snímky z kamery a dále nastavovat některé parametry kamery."
   ]
  },
  {
   "cell_type": "markdown",
   "metadata": {},
   "source": [
    "## Nastavení\n",
    "Import potřebných knihoven"
   ]
  },
  {
   "cell_type": "code",
   "execution_count": null,
   "metadata": {},
   "outputs": [],
   "source": [
    "import numpy as np\n",
    "import matplotlib\n",
    "import matplotlib.pyplot as plt\n",
    "import cv2\n",
    "import yaml\n",
    "from pypylon import pylon \n",
    "\n",
    "from IPython.display import Image, display, clear_output\n",
    "\n",
    "%matplotlib inline"
   ]
  },
  {
   "cell_type": "markdown",
   "metadata": {},
   "source": [
    "Úvodni nastavení parametrů kamery. Je potřeba dopsat správné **sériové číslo** vlastní kamery. \n",
    "\n",
    "V případě, že se nastavuje cesta k ukládání fotek, je třeba nahradit veškerá `\\` za `\\\\`. Při defaultním nastavení se fotky ukládají do složky s tímto ipynb."
   ]
  },
  {
   "cell_type": "code",
   "execution_count": null,
   "metadata": {},
   "outputs": [],
   "source": [
    "serial_number = '21991061' ### vlastní sériové číslo kamery\n",
    "width = 1280\n",
    "height = 1080\n",
    "image_folder = '.' ### defaultní nastavení složky pro ukládání snímků"
   ]
  },
  {
   "cell_type": "markdown",
   "metadata": {},
   "source": [
    "Připojení kamery pomocí `pypylonu`. Je zapotřebí zkontrolovat sériové číslo kamery."
   ]
  },
  {
   "cell_type": "code",
   "execution_count": null,
   "metadata": {
    "code_folding": []
   },
   "outputs": [],
   "source": [
    "# Pypylon gets camera by serial number\n",
    "info = None\n",
    "for i in pylon.TlFactory.GetInstance().EnumerateDevices():\n",
    "    if i.GetSerialNumber() == serial_number:\n",
    "        info = i\n",
    "        break\n",
    "else:\n",
    "    print('Camera with {} serial number not found'.format(serial_number))\n",
    "\n",
    "# VERY IMPORTANT STEP! To use Basler PyPylon OpenCV viewer you have to call .Open() method on you camera\n",
    "if info is not None:\n",
    "    camera = pylon.InstantCamera(pylon.TlFactory.GetInstance().CreateDevice(info)) \n",
    "    camera.Open()"
   ]
  },
  {
   "cell_type": "markdown",
   "metadata": {},
   "source": [
    "Pomocná funkce pro zobrazování obrázků"
   ]
  },
  {
   "cell_type": "code",
   "execution_count": null,
   "metadata": {
    "code_folding": []
   },
   "outputs": [],
   "source": [
    "def show_image(img):\n",
    "    window_name = 'Camera capture (' + serial_number + ')'\n",
    "    cv2.namedWindow(window_name, cv2.WINDOW_NORMAL | cv2.WINDOW_GUI_NORMAL)\n",
    "    cv2.resizeWindow(window_name, width, height)\n",
    "    cv2.imshow(window_name, img)"
   ]
  },
  {
   "cell_type": "markdown",
   "metadata": {},
   "source": [
    "Vytvoření GUI widgetů pro manipulaci s parametry kamery. Zásady pro tvorbu JSON notace widgetů viz [link](https://github.com/mbalatsko/pypylon-opencv-viewer#list-of-features)."
   ]
  },
  {
   "cell_type": "code",
   "execution_count": null,
   "metadata": {
    "code_folding": [
     1
    ]
   },
   "outputs": [],
   "source": [
    "# List of features to create widgets\n",
    "features = [\n",
    "    {\n",
    "        \"name\": \"GainRaw\",\n",
    "        \"type\": \"int\"\n",
    "    },\n",
    "    {\n",
    "        \"name\": \"ExposureTimeRaw\",\n",
    "        \"type\": \"int\",\n",
    "        \"max\": 35000,\n",
    "        \"min\": 35,\n",
    "        \"step\": 140,\n",
    "        \"value\": 3500\n",
    "    },\n",
    "    {\n",
    "        \"name\": \"Height\",\n",
    "        \"type\": \"int_text\",\n",
    "        \"max\": 1200,\n",
    "        \"min\": 100,\n",
    "        \"step\": \"5\"\n",
    "    },\n",
    "    {\n",
    "        \"name\": \"Width\",\n",
    "        \"type\": \"int_text\",\n",
    "        \"max\": 1920,\n",
    "        \"min\": 100,\n",
    "        \"step\": \"5\"\n",
    "    }\n",
    "]"
   ]
  },
  {
   "cell_type": "markdown",
   "metadata": {},
   "source": [
    "Funkce pro image processing. Zatím pouze zobrazuje obrázky."
   ]
  },
  {
   "cell_type": "code",
   "execution_count": null,
   "metadata": {},
   "outputs": [],
   "source": [
    "def impro(img):\n",
    "    show_image(img)\n",
    "    return img"
   ]
  },
  {
   "cell_type": "markdown",
   "metadata": {},
   "source": [
    "## Main\n",
    "Výkonný kus kódu využívající vlastní knihovnu pro práci s kamerou a knihovnou opencv. Umožňuje nastavení parametrů pomocí GUI widgetů.\n",
    "- Pro spuštění okna kamery je zapotřebí kliknout na tlačítko `Run Interact`. \n",
    "- Okno kamery se vypne stisknutím tlačítka `q`.\n",
    "- Obrázek se uloží stisknutím tlačítka `s`.\n",
    "- Pro projevení změn v nastavení pomocí GUI prvků je nutné ukončit okno kamery a znovu ho spustit."
   ]
  },
  {
   "cell_type": "code",
   "execution_count": null,
   "metadata": {
    "scrolled": true
   },
   "outputs": [],
   "source": [
    "from pypylon_opencv_viewer import BaslerOpenCVViewer\n",
    "    \n",
    "viewer = BaslerOpenCVViewer(camera)\n",
    "viewer.set_features(features)\n",
    "viewer.set_impro_function(impro)\n",
    "viewer.run_interaction_continuous_shot(window_size=(width, height), image_folder=image_folder)"
   ]
  }
 ],
 "metadata": {
  "kernelspec": {
   "display_name": "Python [conda env:SVZ]",
   "language": "python",
   "name": "conda-env-SVZ-py"
  },
  "language_info": {
   "codemirror_mode": {
    "name": "ipython",
    "version": 3
   },
   "file_extension": ".py",
   "mimetype": "text/x-python",
   "name": "python",
   "nbconvert_exporter": "python",
   "pygments_lexer": "ipython3",
   "version": "3.6.6"
  }
 },
 "nbformat": 4,
 "nbformat_minor": 2
}
