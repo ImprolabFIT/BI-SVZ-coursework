{
 "cells": [
  {
   "cell_type": "markdown",
   "metadata": {},
   "source": [
    "### Import knihoven a konfigurace"
   ]
  },
  {
   "cell_type": "code",
   "execution_count": null,
   "metadata": {},
   "outputs": [],
   "source": [
    "import argparse\n",
    "import os\n",
    "import shutil\n",
    "import re\n",
    "import math\n",
    "\n",
    "import numpy as np\n",
    "import matplotlib.pyplot as plt\n",
    "import cv2\n",
    "import yaml\n",
    "\n",
    "from IPython.display import Image, display\n",
    "\n",
    "from scipy.spatial import distance\n",
    "from natsort import natsorted\n",
    "\n",
    "np.set_printoptions(formatter={'float': lambda x: \"{0:0.3f}\".format(x)})"
   ]
  },
  {
   "cell_type": "markdown",
   "metadata": {},
   "source": [
    "### Pomocné funkce\n"
   ]
  },
  {
   "cell_type": "code",
   "execution_count": null,
   "metadata": {},
   "outputs": [],
   "source": [
    "def show_images(*imgs, window_name='Image preview'):\n",
    "    \"\"\" Opens multiple image previews depending on the length of the input *imgs list.\n",
    "    The preview is terminated by pressing the 'q' key.\n",
    "    \n",
    "    Parameters\n",
    "    ----------\n",
    "    *imgs : list\n",
    "        Multiple input images which have to be shown.\n",
    "    window_name : Optional[string]\n",
    "        An optional window name.\n",
    "    Returns\n",
    "    -------\n",
    "    None\n",
    "    \"\"\"\n",
    "    for i, img in enumerate(imgs, 1):\n",
    "        window_name_id = window_name + ' ' + str(i)\n",
    "        cv2.namedWindow(window_name_id, cv2.WINDOW_NORMAL | cv2.WINDOW_GUI_NORMAL)\n",
    "        cv2.resizeWindow(window_name_id, 1080, 720)\n",
    "        cv2.moveWindow(window_name_id, 0, 0)\n",
    "\n",
    "    while 1:\n",
    "        for i, img in enumerate(imgs, 1):\n",
    "            cv2.imshow(window_name + ' ' + str(i), img)\n",
    "            \n",
    "        k = cv2.waitKey(1) & 0xFF\n",
    "\n",
    "        if k == ord('q'):\n",
    "            break\n",
    "\n",
    "    cv2.destroyAllWindows()"
   ]
  },
  {
   "cell_type": "markdown",
   "metadata": {},
   "source": [
    "### Úkol 1\n",
    "\n",
    "Úkol je zaměřen na segmentace obrazů, získání kontur objektů a měření poměru rozměrů v cm a pixelech."
   ]
  },
  {
   "cell_type": "markdown",
   "metadata": {},
   "source": [
    "**1) Načtěte a zkontrolujte zaznamenaný obrázek vzoru pomocí kamery. Nadefinujte proměné s šířkou a výškou referečního objektu.**"
   ]
  },
  {
   "cell_type": "code",
   "execution_count": null,
   "metadata": {},
   "outputs": [],
   "source": [
    "img_patterns = ###\n",
    "show_images(img_patterns)"
   ]
  },
  {
   "cell_type": "code",
   "execution_count": null,
   "metadata": {},
   "outputs": [],
   "source": [
    "ref_width_real = ###\n",
    "ref_height_real = ###"
   ]
  },
  {
   "cell_type": "markdown",
   "metadata": {},
   "source": [
    "**2) Využijte funkci [cv2.inRange()](https://docs.opencv.org/3.4.1/d2/de8/group__core__array.html#ga48af0ab51e36436c5d04340e036ce981) k získání masky referenčního obdélníku.**\n",
    "\n",
    "Funkce kromě zdrojového obrázku přijímá dolní a horní mez hodnoty pixelů ve formátu BGR (pozor celé OpenCV funguje v režimu BGR, ne RGB). Tedy dvě trojice (tuple) ve formátu (b, g, r), kde 0 <= b, g, r <= 255. Pixely s hodnotou >= než dolní mez a <= než horní mez budou mít ve výsledné masce hodnotu 255, ostatní 0. \n",
    "\n",
    "Dolní a horní mez naleznete experimentálně."
   ]
  },
  {
   "cell_type": "code",
   "execution_count": null,
   "metadata": {},
   "outputs": [],
   "source": [
    "ref_mask = cv2.inRange(img_patterns, ...) ###\n",
    "show_images(ref_mask)"
   ]
  },
  {
   "cell_type": "markdown",
   "metadata": {},
   "source": [
    "**3) Naleznete konturu která pokrývá nevětší plochu, otestujte aproximace kontury na obdélník.**\n",
    "\n",
    "Výsledná maska by měla ideálně obsahovat pouze referenční obdelník, v obrazu se ale obecně může vyskytovat i šum. \n",
    "Nyní je nutné získat pozici referenčního obdelníku v obraze masky. \n",
    "Nejjednoduším způsobem je vyhledání kontur (obrysů) v obraze pomocí [cv2.findContours()](https://docs.opencv.org/3.3.1/d3/dc0/group__imgproc__shape.html#ga17ed9f5d79ae97bd4c7cf18403e1689a). Vyhledání kontur funguje jen na binárním černobílém obraze, proto jsme nejdříve museli využít cv2.inRange() k získání masky.\n",
    "\n",
    "Konturu si lze představit jako křivku spojující několik bodů kolem obrysu souvislého objektu. Funkce cv2.findContours() příjímá navíc dva parametry, contour retrieval mode a contour approximation method. Těmito parametry se ve většině případů nemusíme zabývat. Zjednodušeně je tedy nastavíme `mode=cv2.RETR_LIST` a `method=cv2.CHAIN_APPROX_SIMPLE`. Pokud by vás přeci jen zajímaly, můžete si o nich přečíst [zde](https://docs.opencv.org/3.3.1/d4/d73/tutorial_py_contours_begin.html)\n",
    "\n",
    "Vzhledem k šumu, který se na každém snímku vyskytuje, prakticky nikdy nenajdeme konturu pouze jednu. Je tedy nutné následně provést filtrování. V našem případě si vystačíme s výběrem kontury, která má největší plochu.\n",
    "\n",
    "Posledním krokem je validace našeho postupu a vizualizace nalezené kontury pomocí funkce [cv2.drawContours()](https://docs.opencv.org/3.3.1/d6/d6e/group__imgproc__draw.html#ga746c0625f1781f1ffc9056259103edbc).\n",
    "                                                                                "
   ]
  },
  {
   "cell_type": "code",
   "execution_count": null,
   "metadata": {},
   "outputs": [],
   "source": [
    "_, contours, _  = cv2.findContours(...) ###\n",
    "print(f'Found {len(contours)} contours.')\n",
    "\n",
    "# pick only the contour with the biggest area\n",
    "contour_biggest = max(contours, key=cv2.contourArea)\n",
    "print(f'Biggest contour area: {cv2.contourArea(contour_biggest)}, coordinates:\\n {contour_biggest.reshape((-1, 2)).tolist()}')\n",
    "contour_drawn = cv2.drawContours(img_patterns.copy(), contours, -1, color=(255, 0, 0), thickness=5)\n",
    "show_images(contour_drawn)"
   ]
  },
  {
   "cell_type": "markdown",
   "metadata": {},
   "source": [
    "Z výsledných souřadnic vidíme, že kontura netvoří přesný obdelník, proto ji musíme obdelníkem aproximovat. To lze pomocí funkce [cv2.minAreaRect](https://docs.opencv.org/3.1.0/d3/dc0/group__imgproc__shape.html#ga3d476a3417130ae5154aea421ca7ead9). Návratovou hodnotou této funkce je tuple - (střed obdélníku (x,y), (výška, šířka), úhel rotace obdélníku). Jedna otázka zní, co je výška a co je šířka? Musíte to vždycky kontrolovat okem.\n",
    "\n",
    "Pomocná funkce [cv2.boxPoints()](https://docs.opencv.org/3.1.0/d3/dc0/group__imgproc__shape.html#gaf78d467e024b4d7936cf9397185d2f5c) převádí nalezený obdelník z formátu (střed obdélníku (x,y), (šířka, výška), úhel rotace obdélníku) na 4 rohové body obdélníku ve formátu (x, y). To se může hodit např. k vizualizaci (lze použít jako vstup pro cv2.drawContours()). Pozor, pořadí vrácených bodů není zaručeno."
   ]
  },
  {
   "cell_type": "code",
   "execution_count": null,
   "metadata": {},
   "outputs": [],
   "source": [
    "rect = cv2.minAreaRect(contour_biggest) ###\n",
    "print(f'Rect tuple: {rect}')\n",
    "print(f'(cx, cy)={rect[0]}, (width, height)={rect[1]}, angle={rect[2]}')\n",
    "print(f'Rect points: {cv2.boxPoints(rect).tolist()}')"
   ]
  },
  {
   "cell_type": "markdown",
   "metadata": {},
   "source": [
    "**5) Nalezenou šířku referenčního obdelníku v pixelech můžeme konečně využít k získání poměru skutečné šířky obdélníku v reálných jednotkách a pixelové šířky obdélníku v obraze. Tento poměr budeme následně potřebovat k výpočtu rozměrů ostatních neznámých objektů.**"
   ]
  },
  {
   "cell_type": "code",
   "execution_count": null,
   "metadata": {},
   "outputs": [],
   "source": [
    "ref_width_image, ref_height_image = ... ###\n",
    "real_image_ratio = ... ### \n",
    "print(f'Ratio between real width and image width: {real_image_ratio}')"
   ]
  },
  {
   "cell_type": "markdown",
   "metadata": {},
   "source": [
    "#### Pomocné funkce k další části"
   ]
  },
  {
   "cell_type": "code",
   "execution_count": null,
   "metadata": {},
   "outputs": [],
   "source": [
    "def copy_to(src, dst, mask):\n",
    "    '''Python alternative to C++/Java OpenCV's Mat.copyTo().\n",
    "    More: https://docs.opencv.org/trunk/d3/d63/classcv_1_1Mat.html#a626fe5f96d02525e2604d2ad46dd574f'''\n",
    "    locs = np.where(mask != 0) # Get the non-zero mask locations\n",
    "    dst[locs[0], locs[1]] = src[locs[0], locs[1]]\n",
    "    return dst\n",
    "\n",
    "def midpoint(ptA, ptB):\n",
    "    '''Returns the midpoint between two input points.'''\n",
    "    return ((ptA[0] + ptB[0]) * 0.5, (ptA[1] + ptB[1]) * 0.5)\n",
    "\n",
    "def order_points(pts):\n",
    "    '''Sorts the points based on their x-coordinates.'''\n",
    "    xSorted = pts[np.argsort(pts[:, 0]), :]\n",
    "\n",
    "    # grab the left-most and right-most points from the sorted\n",
    "    # x-roodinate points\n",
    "    leftMost = xSorted[:2, :]\n",
    "    rightMost = xSorted[2:, :]\n",
    "\n",
    "    # now, sort the left-most coordinates according to their\n",
    "    # y-coordinates so we can grab the top-left and bottom-left\n",
    "    # points, respectively\n",
    "    leftMost = leftMost[np.argsort(leftMost[:, 1]), :]\n",
    "    (bl, tl) = leftMost\n",
    "\n",
    "    # now that we have the top-left coordinate, use it as an\n",
    "    # anchor to calculate the Euclidean distance between the\n",
    "    # top-left and right-most points; by the Pythagorean\n",
    "    # theorem, the point with the largest distance will be\n",
    "    # our bottom-right point\n",
    "    rightMost = rightMost[np.argsort(rightMost[:, 1]), :]\n",
    "    (br, tr) = rightMost\n",
    "\n",
    "    # return the coordinates in top-left, top-right,\n",
    "    # bottom-right, and bottom-left order\n",
    "    return np.array([tl, tr, br, bl], dtype=\"float32\")\n",
    "\n",
    "def rotateImage(image, angle, image_center=None):\n",
    "    \"\"\" Rotates the input image by specified angle.\n",
    "    \n",
    "    Parameters\n",
    "    ----------\n",
    "    image : np.ndarray\n",
    "        Image to be rotated.\n",
    "    angle : float\n",
    "        Rotation angle.\n",
    "    image_center : Optional[tuple(int, int)]\n",
    "        Center of rotation.\n",
    "    Returns\n",
    "    -------\n",
    "    np.ndarray\n",
    "        Returns the rotated input image by specified angle.\n",
    "    \"\"\"\n",
    "    if image_center is None:\n",
    "        image_center = tuple(np.array(image.shape[1::-1]) / 2)\n",
    "    rot_mat = cv2.getRotationMatrix2D(image_center, angle, 1.0)\n",
    "    result = cv2.warpAffine(image, rot_mat, image.shape[1::-1], flags=cv2.INTER_LINEAR)\n",
    "    return result\n",
    "\n",
    "# TODO: Most inefficient function in my whole life \n",
    "def draw_rotated_text(img, text, point, angle, text_scale, text_color, text_thickness):\n",
    "    img_filled = np.full(img.shape, text_color, dtype=np.uint8)\n",
    "    # create rotated text mask\n",
    "    text_mask = np.zeros((img.shape[0], img.shape[1]), dtype=np.uint8)\n",
    "    cv2.putText(text_mask, \"{:.2f} cm\".format(text), point, 0, text_scale, (255, 255, 255), text_thickness)\n",
    "    if angle > 0:\n",
    "        angle = -angle + 90\n",
    "    elif angle < 0:\n",
    "        angle = angle + 90\n",
    "    text_mask = rotateImage(text_mask, -angle, point)\n",
    "    result = copy_to(img_filled, img.copy(), text_mask)\n",
    "    return result\n",
    "\n",
    "\n",
    "def draw_real_sizes(img, rect, width_text, height_text, lbl_size_scale=2, lbl_color=(0, 0, 255), lbl_thickness=8):\n",
    "    tl, tr, br, bl = order_points(cv2.boxPoints(rect))\n",
    "    mid_pt_width = midpoint(tl, tr)\n",
    "    mid_pt_height = midpoint(tr, br)\n",
    "    \n",
    "    # bottom-left points where labels are drawn\n",
    "    pt_label_first =  (int(mid_pt_width[0] - 10), int(mid_pt_width[1] - 10))\n",
    "    pt_label_second = (int(mid_pt_height[0] + 10), int(mid_pt_height[1]))\n",
    "        \n",
    "    result = draw_rotated_text(img, width_text, pt_label_first, rect[2], lbl_size_scale, lbl_color, lbl_thickness)\n",
    "    result = draw_rotated_text(result, height_text, pt_label_second, rect[2], lbl_size_scale, lbl_color, lbl_thickness)\n",
    "    return result"
   ]
  },
  {
   "cell_type": "markdown",
   "metadata": {},
   "source": [
    "### Úkol 2\n",
    "\n",
    "Úkol 1 máme za sebou a už víme poměr mezi rozměrem v cm a pixelech, tím pádem už můžeme naměřit rozměry ostatních objektů na obrázku s neznámými rozměry."
   ]
  },
  {
   "cell_type": "markdown",
   "metadata": {},
   "source": [
    "**1) Opět využijte funkci [cv2.inRange()](https://docs.opencv.org/3.4.1/d2/de8/group__core__array.html#ga48af0ab51e36436c5d04340e036ce981), tentokrát k získání masky objektů s neznámými skutečnými rozměry.**\n",
    "\n",
    "**2) Nalezněte v nové masce snímku kontury stejně jako v případě referenčního objektu.**\n",
    "\n",
    "**3) Následně je provedeno filtrování kontur podle jejich obsahu. Prahovou hodnotu obsahu v pixelech (threshold) je nutno zvolit experimentálně.**"
   ]
  },
  {
   "cell_type": "code",
   "execution_count": null,
   "metadata": {},
   "outputs": [],
   "source": [
    "patterns_mask = ... ###\n",
    "show_images(patterns_mask)"
   ]
  },
  {
   "cell_type": "code",
   "execution_count": null,
   "metadata": {},
   "outputs": [],
   "source": [
    "_, contours, _  = ...\n",
    "print(f'Found {len(contours)} contours.')\n",
    "\n",
    "# Filter out noise\n",
    "threshold = ... ###\n",
    "contours =  [c for c in contours if cv2.contourArea(c) > threshold]\n",
    "print(f'After filtering, {len(contours)} contours remained.')\n",
    "\n",
    "contour_drawn = cv2.drawContours(img_patterns.copy(), contours, -1, color=(255, 0, 0 ), thickness=10)\n",
    "show_images(contour_drawn)\n",
    "\n",
    "# Sort contours by area. Just for better debugging.\n",
    "contours.sort(key=cv2.contourArea, reverse=True)"
   ]
  },
  {
   "cell_type": "markdown",
   "metadata": {},
   "source": [
    "**4) Nalezněte skutečné rozměry objektu**\n",
    "\n",
    "Nyní potřebujeme pro jednotlivé kontury zjistit jejich skutečné rozměry, které chceme vizualizovat do výsledného obrázku.\n",
    "\n",
    "Pro každou konturu tedy získáme jeji obdélníkovou aproximaci pomocí [cv2.minAreaRect](https://docs.opencv.org/3.1.0/d3/dc0/group__imgproc__shape.html#ga3d476a3417130ae5154aea421ca7ead9). Následně můžeme vypočítat skutečnou šířku a výšku objektu, díky předešlému vypočítanému poměru mezi skutečnou šířkou a pixelovou šířkou. Posledním krokem je volání funkce `draw_real_sizes()`, která se do vstupního obrázku pokusí vykreslit rozměry nalezeného objektu."
   ]
  },
  {
   "cell_type": "code",
   "execution_count": null,
   "metadata": {},
   "outputs": [],
   "source": [
    "# create a copy of original image\n",
    "sizes_drawn = img_patterns.copy()\n",
    "\n",
    "for c in contours:\n",
    "    rect = ... ###\n",
    "    shape_width, shape_height = ... ### \n",
    "    real_width = ...  ###\n",
    "    real_height = ... ###\n",
    "    \n",
    "    cv2.drawContours(sizes_drawn, [c], -1, color=(255, 0, 0 ), thickness=5)\n",
    "    sizes_drawn = draw_real_sizes(sizes_drawn, rect, real_width, real_height, \n",
    "                                  lbl_size_scale=.7, lbl_color=(0, 0, 255), lbl_thickness=1) ###\n",
    "\n",
    "show_images(sizes_drawn)"
   ]
  },
  {
   "cell_type": "code",
   "execution_count": null,
   "metadata": {},
   "outputs": [],
   "source": []
  }
 ],
 "metadata": {
  "kernelspec": {
   "display_name": "Python [conda env:svz]",
   "language": "python",
   "name": "conda-env-svz-py"
  },
  "language_info": {
   "codemirror_mode": {
    "name": "ipython",
    "version": 3
   },
   "file_extension": ".py",
   "mimetype": "text/x-python",
   "name": "python",
   "nbconvert_exporter": "python",
   "pygments_lexer": "ipython3",
   "version": "3.6.6"
  }
 },
 "nbformat": 4,
 "nbformat_minor": 2
}
