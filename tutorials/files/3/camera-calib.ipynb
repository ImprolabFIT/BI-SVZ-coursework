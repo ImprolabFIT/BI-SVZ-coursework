{
 "cells": [
  {
   "cell_type": "markdown",
   "metadata": {},
   "source": [
    "# Kalibrace kamery a odstranění soudkovitosti\n",
    "Kalibrace kamery je jednou z nejdůležitějších součástí strojového vidění. Využívá se k tomu, aby odstranila vady obrazu vzniklé kombinací snímače a objektivu. Nejčastěji se jedná o odstranění vady soudkovitosti objektivu či různých tangenciálních deformací vzniklých neideálním umístěním objektivu na snímač.\n",
    "\n",
    "Ze začátku notebooku jsou nejdříve pomocné funkce. [Úkol](#Úkol) následuje níže."
   ]
  },
  {
   "cell_type": "markdown",
   "metadata": {},
   "source": [
    "### Import knihoven a konfigurace"
   ]
  },
  {
   "cell_type": "code",
   "execution_count": null,
   "metadata": {},
   "outputs": [],
   "source": [
    "%run ../svz.ipynb"
   ]
  },
  {
   "cell_type": "markdown",
   "metadata": {},
   "source": [
    "### Pomocné funkce\n",
    "Z následujících funkcí je potřeba vybírat ty vhodné pro splnění úkolu."
   ]
  },
  {
   "cell_type": "markdown",
   "metadata": {},
   "source": [
    "Seznam funkcí pro přehlednost:\n",
    "- [`load_camera_calib(...)`](../svz.ipynb#load_save_functions)\n",
    "- [`save_camera_calib(...)`](../svz.ipynb#load_save_functions)\n",
    "- [`correct_frame(...)`](../svz.ipynb#correct_functions)\n",
    "- [`connect_camera(...)`](../svz.ipynb#connect_functions)\n",
    "- [`show_images(...)`](../svz.ipynb#show_functions)\n",
    "- [`reindex_image_files(...)`](../svz.ipynb#reindex_functions)\n",
    "- [`pick_frames(...)`](../svz.ipynb#pick_functions)\n",
    "- [`camera_calib(...)`](../svz.ipynb#calib_functions)\n",
    "- [`create_folder_path(...)`](../svz.ipynb#path_folder_functions)\n",
    "- [`create_file_path(...)`](../svz.ipynb#path_file_functions)\n",
    "- [`load_image(...)`](../svz.ipynb#load_save_functions)"
   ]
  },
  {
   "cell_type": "markdown",
   "metadata": {},
   "source": [
    "---"
   ]
  },
  {
   "cell_type": "markdown",
   "metadata": {},
   "source": [
    "### Úkol\n",
    "Úkol je zaměřen na kalibraci kamery a následné odstranění soudkovitosti ze snímků. K tomu, aby bylo možné provést kalibraci, je zapotřebí dostatečný počet snímků (10-30), které obsahují předem známý vzor (v našem případě šachovnice), zaznamenaný v různých úhlech. Knihovna OpenCV následně sama tyto vzory vyhledá, vypočte kamerovou matici (camera matrix) a parametry zkreslení (distortion coefficients). \n",
    "Kamera musí být při snímání stacionárně upevněna, nejlépe na stativu/stojanu.\n",
    "\n",
    "Více na téma kalibrace se lze dočíst [zde](https://docs.opencv.org/2.4/modules/calib3d/doc/camera_calibration_and_3d_reconstruction.html)."
   ]
  },
  {
   "cell_type": "markdown",
   "metadata": {},
   "source": [
    "#### 1) Získejte záznam snímků s šachovnicí ke kalibraci pomocí funkce pro zobrazení snímků z Basler kamery. Správně zvolte sériové číslo kamery a složku, ve které se bude pracovat."
   ]
  },
  {
   "cell_type": "code",
   "execution_count": null,
   "metadata": {},
   "outputs": [],
   "source": [
    "serial_number = ... ###\n",
    "base_folder = ... ###\n",
    "grabbed_images_folder_path = ...(base_folder, 'grabbed_images') ###\n",
    "\n",
    "camera = ...(serial_number, grabbed_images_folder_path) ###"
   ]
  },
  {
   "cell_type": "code",
   "execution_count": null,
   "metadata": {
    "ExecuteTime": {
     "end_time": "2019-07-15T12:32:28.178203Z",
     "start_time": "2019-07-15T12:32:28.091316Z"
    }
   },
   "outputs": [],
   "source": [
    "CAM_WIDTH = 1080\n",
    "CAM_HEIGHT = 720\n",
    "\n",
    "viewer = BaslerOpenCVViewer(camera)\n",
    "viewer.set_configuration(VIEWER_CONFIG_RGB_MATRIX)\n",
    "viewer.show_interactive_panel(window_size=(CAM_WIDTH, CAM_HEIGHT), image_folder=grabbed_images_folder_path)"
   ]
  },
  {
   "cell_type": "markdown",
   "metadata": {},
   "source": [
    "#### 2) Zavolejte funkci pro přejmenování souborů tak, aby šly snadno přečíst pomocí cv2.VideoCapture."
   ]
  },
  {
   "cell_type": "code",
   "execution_count": null,
   "metadata": {},
   "outputs": [],
   "source": [
    "...(grabbed_images_folder_path) ###"
   ]
  },
  {
   "cell_type": "markdown",
   "metadata": {},
   "source": [
    "#### 3) Zavolejte funkci pro výběr snímků. Zvolte ty, které budou použity ke kalibraci. Zvolte si složku pro vybrané snímky."
   ]
  },
  {
   "cell_type": "code",
   "execution_count": null,
   "metadata": {},
   "outputs": [],
   "source": [
    "images_format = '%01d.png' # číselné označení s dvoumístnými číslicemi (01, 02, ...)\n",
    "picked_images_folder_path = create_folder_path(grabbed_images_folder_path, 'picked')\n",
    "wait_time = ... ### v ms\n",
    "\n",
    "...(create_file_path(grabbed_images_folder_path, images_format), picked_images_folder_path, wait_time=wait_time) ###"
   ]
  },
  {
   "cell_type": "markdown",
   "metadata": {},
   "source": [
    "#### 4) V případě, že budete ručně zasahovat do vybraných snímků (např. mazáním), proveďte znovu přejmenování."
   ]
  },
  {
   "cell_type": "code",
   "execution_count": null,
   "metadata": {},
   "outputs": [],
   "source": [
    "...(picked_images_folder_path) ###"
   ]
  },
  {
   "cell_type": "markdown",
   "metadata": {},
   "source": [
    "#### 5) Zvolte název souboru pro uložení kalibrace kamery. Prověďte kalibraci kamery. Nezapomeňte zvolit správnou velikost šachovnice."
   ]
  },
  {
   "cell_type": "code",
   "execution_count": null,
   "metadata": {},
   "outputs": [],
   "source": [
    "calibration_file_name = ... ### *.yaml\n",
    "output_calib_file_path = create_file_path(base_folder, calibration_file_name)\n",
    "chess_shape= ... ### tuple\n",
    "camera_matrix, dist_coefs = ...(create_file_path(picked_images_folder_path, images_format), chess_shape=chess_shape, output_calib_file=output_calib_file_path) ###"
   ]
  },
  {
   "cell_type": "markdown",
   "metadata": {},
   "source": [
    "#### 6) Načtěte zdrojový obrázek. Ten opravte pomocí funkce na odstranění soudkovitosti. Oba obrázky zobrazte."
   ]
  },
  {
   "cell_type": "code",
   "execution_count": null,
   "metadata": {},
   "outputs": [],
   "source": [
    "img_raw = ...(create_file_path(picked_images_folder_path, '0.png')) ###\n",
    "img_corrected = ...(img_raw, camera_matrix, dist_coefs) ###\n",
    "\n",
    "...(img_raw, img_corrected) ###"
   ]
  }
 ],
 "metadata": {
  "kernelspec": {
   "display_name": "Python 3",
   "language": "python",
   "name": "python3"
  },
  "language_info": {
   "codemirror_mode": {
    "name": "ipython",
    "version": 3
   },
   "file_extension": ".py",
   "mimetype": "text/x-python",
   "name": "python",
   "nbconvert_exporter": "python",
   "pygments_lexer": "ipython3",
   "version": "3.6.6"
  }
 },
 "nbformat": 4,
 "nbformat_minor": 2
}
