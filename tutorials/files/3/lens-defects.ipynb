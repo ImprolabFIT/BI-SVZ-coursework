{
 "cells": [
  {
   "cell_type": "markdown",
   "source": [
    "# Vady optiky a kalibrace kamery k odstranění distorze\n",
    "Cílem dnešního cvičení je se seznámit s odstranitelnými a neodstranitelnými vadami optiky, které náš život sužují během jakékoliv úlohy strojového vidění. Na začátku zjistíme, jak vady vznikají a jak jednotlivá nastavení kamery/objektivu ovlivňují jejich intenzitu. Ke konci cvičení nás čeká úloha odstranění distorze. \n",
    "\n",
    "![](images/dancing_house.jpg)\n",
    "\n",
    "Některé vady jsou viditelné pouze na některých objektivech. V naší laboratoři se nejčastěji setkáte s následujícími objektivy, které jednotlivé optické vady hezky demonstrují:\n",
    "- Kowa 12mm\n",
    "- Kowa 35mm\n",
    "- Kowa 50mm\n",
    "- Basler 8mm\n",
    "- Basler 12mm\n",
    "- Basler 16mm\n",
    "- Basler 25mm\n",
    "- Computar 8mm\n",
    "- Computar 12mm\n",
    "- Computar 25mm\n",
    "- Mutron 4mm\n",
    "\n",
    "Styčným bodem pro toto cvičení je [přednáška na Vady optiky](https://courses.fit.cvut.cz/BI-SVZ/lectures/files/bi-svz-02-druhy-senzoru-a-optika.pdf)."
   ],
   "metadata": {
    "cell_id": "00000-a390bae5-9113-4bec-b400-e52bdedbefd4",
    "deepnote_cell_type": "markdown"
   }
  },
  {
   "cell_type": "markdown",
   "source": [
    "### Import knihoven a konfigurace"
   ],
   "metadata": {
    "cell_id": "00001-28785e73-a814-4319-a9fa-5b04a1a5bd84",
    "deepnote_cell_type": "markdown"
   }
  },
  {
   "cell_type": "code",
   "execution_count": 1,
   "source": [
    "%run library.ipynb"
   ],
   "outputs": [],
   "metadata": {}
  },
  {
   "cell_type": "markdown",
   "source": [
    "### Úkol 1\n",
    "V prvním úkolu se zaměříme na analýzu následujících vad:\n",
    "- chromatická aberace\n",
    "- difrakce\n",
    "- vinětace\n",
    "\n",
    "Instrukce:\n",
    "- Pro každou vadu nasnímáme snímek na kterém bude vada co nejvíce viditelná, ale také snímek, na kterém se vada projevuje co nejméně. Na základě toho budeme vědět, jak se daná vada chová při jakém nastavení a jaký kompromis zvolit, abychom se ji co nejvíce vyvarovali. \n",
    "- __Pro demonstraci každé vady vždy vyberte jiný objektiv, abychom měli co porovnávat__. Celkem byste si tedy měli vyzkoušet alespoň 3 objektivy. \n",
    "- Snažte se objektivy vybírat tak, aby to pro danou vadu dávalo smysl. Zároveň se pokuste zamyslet, co přesně snímat (např. na čem mohu v labu vyzkoušet aberaci).\n",
    "- Všechny snímky před a po úpravách musí být stejně exponované. To znamená, že budou podobně světlé - mají podobný histogram\n",
    "\n",
    "Všechny snímky před/po, které nasnímáte, vložte do buňěk níže. Uveďte také z jakého objektivu je zaznamenán. Pokud chcete snímek nezmenšený, použijte jednoduše Markdown syntax `![](image.jpg)`. V případě, že chcete snímek zmenšit, můžete použit `<img src=\"image.jpg\" width=\"600\">`\n",
    "\n",
    "<div style=\"color: blue; text-align: right\">[ 1 bod ]</div>"
   ],
   "metadata": {}
  },
  {
   "cell_type": "markdown",
   "source": [
    "#### 1) Vytvořte snímek s co nejvíce viditelnou vadou chromatické aberace. Následně snímejte stejnou scénu, ale nastavte vhodně kameru/objektiv, aby se chromatická aberace projevila co nejméně. "
   ],
   "metadata": {}
  },
  {
   "cell_type": "code",
   "execution_count": null,
   "source": [],
   "outputs": [],
   "metadata": {}
  },
  {
   "cell_type": "markdown",
   "source": [
    "#### 2) Vytvořte snímek s co nejvíce viditelnou vadou difrakce. Následně snímejte stejnou scénu, ale nastavte vhodně kameru/objektiv, aby se difrakce projevila co nejméně. "
   ],
   "metadata": {}
  },
  {
   "cell_type": "code",
   "execution_count": null,
   "source": [],
   "outputs": [],
   "metadata": {}
  },
  {
   "cell_type": "markdown",
   "source": [
    "#### 3) Vytvořte snímek s co nejvíce viditelnou vadou vinětace. Následně snímejte stejnou scénu, ale nastavte vhodně kameru/objektiv, aby se vinětace projevila co nejméně."
   ],
   "metadata": {}
  },
  {
   "cell_type": "code",
   "execution_count": null,
   "source": [],
   "outputs": [],
   "metadata": {}
  },
  {
   "cell_type": "markdown",
   "source": [
    "#### 4) Najděte sweetspot u širokoúhlého objektivu. \n",
    "Vytvořte ten nejkvalitnější snímek, který s danou kombinací objektivu a kamery lze zaznamenat a popište důležitá nastavení kamery/objektivu, které jste zvolili. "
   ],
   "metadata": {}
  },
  {
   "cell_type": "code",
   "execution_count": null,
   "source": [],
   "outputs": [],
   "metadata": {}
  },
  {
   "cell_type": "markdown",
   "source": [
    "---"
   ],
   "metadata": {}
  },
  {
   "cell_type": "markdown",
   "source": [
    "### Úkol 2\n",
    "\n",
    "Kalibrace kamery je jednou z velmi důležitých prerekvizit jakékoliv úlohy strojového vidění. Využívá se k tomu, aby odstranila vady obrazu vzniklé kombinací snímače a objektivu. Nejčastěji se jedná o odstranění vady soudkovitosti objektivu či různých tangenciálních deformací vzniklých neideálním umístěním objektivu na snímač.\n",
    "\n",
    "Tento úkol je zaměřen na kalibraci kamery za účelem odstranění distorze ze snímků. K tomu, aby bylo možné provést kalibraci, je zapotřebí dostatečný počet snímků (10-30), které obsahují předem známý vzor (v našem případě šachovnice), zaznamenaný v různých úhlech. Knihovna OpenCV následně sama tyto vzory vyhledá, vypočte kamerovou matici (camera matrix) a parametry zkreslení (distortion coefficients). \n",
    "Kamera musí být při snímání vzoru stacionárně upevněna, nejlépe na stativu/stojanu.\n",
    "\n",
    "![](images/camera_calib.png)\n",
    "\n",
    "Více na téma kalibrace se lze dočíst [zde](https://docs.opencv.org/2.4/modules/calib3d/doc/camera_calibration_and_3d_reconstruction.html).\n",
    "\n",
    "<div style=\"color: blue; text-align: right\">[ 1 bod ]</div>"
   ],
   "metadata": {}
  },
  {
   "cell_type": "markdown",
   "source": [
    "### Pomocné funkce\n",
    "Z následujících funkcí je potřeba vybírat ty vhodné pro splnění úkolu."
   ],
   "metadata": {}
  },
  {
   "cell_type": "markdown",
   "source": [
    "Seznam funkcí pro přehlednost:\n",
    "- `load_camera_calib(...)`\n",
    "- `save_camera_calib(...)`\n",
    "- `correct_frame(...)`\n",
    "- `connect_camera(...)`\n",
    "- `reindex_image_files(...)`\n",
    "- `pick_frames(...)`\n",
    "- `camera_calib(...)`\n",
    "- `create_folder_path(...)`\n",
    "- `create_file_path(...)`\n",
    "- `load_image(...)`"
   ],
   "metadata": {}
  },
  {
   "cell_type": "markdown",
   "source": [
    "#### 1) Získejte snímek s viditelnou vadou distorze pomocí funkce pro zobrazení snímků z Basler kamery. Správně zvolte sériové číslo kamery a složku, ve které se bude pracovat.\n",
    "Hint: Mohl by se vám hodit vzor podložky stojanu."
   ],
   "metadata": {}
  },
  {
   "cell_type": "code",
   "execution_count": null,
   "source": [
    "serial_number = ... ###\n",
    "base_folder = ... ###\n",
    "grabbed_images_folder_path = ...(base_folder, 'grabbed_images') ###\n",
    "\n",
    "camera = ...(serial_number) ###"
   ],
   "outputs": [],
   "metadata": {}
  },
  {
   "cell_type": "code",
   "execution_count": null,
   "source": [
    "CAM_WIDTH = 1080\n",
    "CAM_HEIGHT = 720\n",
    "\n",
    "viewer = BaslerOpenCVViewer(camera)\n",
    "viewer.set_configuration(VIEWER_CONFIG_RGB_MATRIX)\n",
    "viewer.show_interactive_panel(window_size=(CAM_WIDTH, CAM_HEIGHT), image_folder=grabbed_images_folder_path)"
   ],
   "outputs": [],
   "metadata": {}
  },
  {
   "cell_type": "markdown",
   "source": [
    "#### 2) Získejte záznam snímků s šachovnicí ke kalibraci pomocí funkce pro zobrazení snímků z Basler kamery. "
   ],
   "metadata": {}
  },
  {
   "cell_type": "code",
   "execution_count": null,
   "source": [
    "viewer = BaslerOpenCVViewer(camera)\n",
    "viewer.set_configuration(VIEWER_CONFIG_RGB_MATRIX)\n",
    "viewer.show_interactive_panel(window_size=(CAM_WIDTH, CAM_HEIGHT), image_folder=grabbed_images_folder_path)"
   ],
   "outputs": [],
   "metadata": {
    "ExecuteTime": {
     "end_time": "2019-07-15T12:32:28.178203Z",
     "start_time": "2019-07-15T12:32:28.091316Z"
    }
   }
  },
  {
   "cell_type": "markdown",
   "source": [
    "#### 3) Zavolejte funkci pro přejmenování souborů tak, aby šly snadno přečíst pomocí cv2.VideoCapture."
   ],
   "metadata": {}
  },
  {
   "cell_type": "code",
   "execution_count": null,
   "source": [
    "...(grabbed_images_folder_path) ###"
   ],
   "outputs": [],
   "metadata": {}
  },
  {
   "cell_type": "markdown",
   "source": [
    "#### 4) Zavolejte funkci pro výběr snímků. Zvolte ty, které budou použity ke kalibraci. Zvolte si složku pro vybrané snímky."
   ],
   "metadata": {}
  },
  {
   "cell_type": "code",
   "execution_count": null,
   "source": [
    "images_format = '%01d.png' # číselné označení s dvoumístnými číslicemi (01, 02, ...)\n",
    "picked_images_folder_path = create_folder_path(grabbed_images_folder_path, 'picked')\n",
    "wait_time = ... ### v ms\n",
    "\n",
    "...(create_file_path(grabbed_images_folder_path, images_format), picked_images_folder_path, wait_time=wait_time) ###"
   ],
   "outputs": [],
   "metadata": {}
  },
  {
   "cell_type": "markdown",
   "source": [
    "#### 5) V případě, že budete ručně zasahovat do vybraných snímků (např. mazáním), proveďte znovu přejmenování."
   ],
   "metadata": {}
  },
  {
   "cell_type": "code",
   "execution_count": null,
   "source": [
    "...(picked_images_folder_path) ###"
   ],
   "outputs": [],
   "metadata": {}
  },
  {
   "cell_type": "markdown",
   "source": [
    "#### 6) Zvolte název souboru pro uložení kalibrace kamery. Prověďte kalibraci kamery. Nezapomeňte zvolit správnou velikost šachovnice."
   ],
   "metadata": {}
  },
  {
   "cell_type": "code",
   "execution_count": null,
   "source": [
    "calibration_file_name = ... ### *.yaml\n",
    "output_calib_file_path = create_file_path(base_folder, calibration_file_name)\n",
    "chess_shape= ... ### tuple\n",
    "camera_matrix, dist_coefs = ...(create_file_path(picked_images_folder_path, images_format), chess_shape=chess_shape, output_calib_file=output_calib_file_path) ###"
   ],
   "outputs": [],
   "metadata": {}
  },
  {
   "cell_type": "markdown",
   "source": [
    "#### 7) Načtěte zdrojový obrázek. Ten opravte pomocí funkce na odstranění soudkovitosti. Oba obrázky zobrazte."
   ],
   "metadata": {}
  },
  {
   "cell_type": "code",
   "execution_count": null,
   "source": [
    "img_raw = ...(create_file_path(picked_images_folder_path, '0.png')) ###\n",
    "img_corrected = ...(img_raw, camera_matrix, dist_coefs) ###\n",
    "\n",
    "...(img_raw, img_corrected) ###"
   ],
   "outputs": [],
   "metadata": {}
  }
 ],
 "metadata": {
  "deepnote": {},
  "deepnote_execution_queue": [],
  "deepnote_notebook_id": "30966b17-4965-494a-88f1-529fb471f9a2",
  "kernelspec": {
   "name": "python3",
   "display_name": "Python 3.8.11 64-bit ('SVZ': conda)"
  },
  "language_info": {
   "codemirror_mode": {
    "name": "ipython",
    "version": 3
   },
   "file_extension": ".py",
   "mimetype": "text/x-python",
   "name": "python",
   "nbconvert_exporter": "python",
   "pygments_lexer": "ipython3",
   "version": "3.8.11"
  },
  "interpreter": {
   "hash": "e643216664f40d5b1ac05f6c81a0762e4f0dd1599cd74626f5d92cc140e06269"
  }
 },
 "nbformat": 4,
 "nbformat_minor": 2
}