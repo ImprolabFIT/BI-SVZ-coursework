{
 "cells": [
  {
   "cell_type": "markdown",
   "metadata": {},
   "source": [
    "# Vady optiky a kalibrace kamery k odstranění distorze\n",
    "Cílem dnešního cvičení je se seznámit s odstranitelnými a neodstranitelnými vadami optiky, které náš život sužují během jakékoliv úlohy strojového vidění. Na začátku se zjistíme, jak vady vznikají a jak jednotlivá nastavení kamery/objektivu ovlivňují jejich intenzitu. Ke konci nás čeká krásná, zábavná a interkativní úloha odstranění distorze. \n",
    "\n",
    "![](images/dancing_house.jpg)\n",
    "\n",
    "Některé vady jsou viditelné pouze na některých objektivech. Z tohoto důvodu máme dostupný lens pool s objektivy:\n",
    "- Kowa 12mm\n",
    "- Kowa 35mm\n",
    "- Kowa 50mm\n",
    "- Basler 8mm\n",
    "- Basler 12mm\n",
    "- Basler 16mm\n",
    "- Basler 75mm\n",
    "\n",
    "V průběhu cvičení je možné si přijít k cvičícímu zapůjčit libovolný objektiv. Vždy však mějte na stole pouze jeden. Objektivů je pouze omezené množství a jeden typ tedy nemusí vystačit pro všechna stanovistě. Vybírejte chytře!\n",
    "\n",
    "Vztyčným bodem pro toto cvičení je [přednáška na Vady optiky](https://courses.fit.cvut.cz/BI-SVZ/lectures/files/bi-svz-02-druhy-senzoru-a-optika.pdf)."
   ]
  },
  {
   "cell_type": "markdown",
   "metadata": {},
   "source": [
    "### Import knihoven a konfigurace"
   ]
  },
  {
   "cell_type": "code",
   "execution_count": null,
   "metadata": {},
   "outputs": [],
   "source": [
    "%run ../svz.ipynb"
   ]
  },
  {
   "cell_type": "markdown",
   "metadata": {},
   "source": [
    "---"
   ]
  },
  {
   "cell_type": "markdown",
   "metadata": {},
   "source": [
    "### Úkol 1\n",
    "V prvním úkolu se zaměříme na analýzu následujících vad:\n",
    "- chromatická aberace\n",
    "- difrakce\n",
    "- vinětace\n",
    "\n",
    "Pro každou vadu nasnímáme snímek na kterém bude vada co nejvíce viditelná, ale také snímek, na kterém se vada projevuje co nejméně. Na základě toho budeme vědět, jak se daná vada chová při jakém nastavení a jaký kompromis zvolit, abychom se ji co nejvíce vyvarovali. Pro demonstraci každé vady vždy vyberte jiný objektiv, abychom měli co porovnávat. Celkem byste si tedy měli vyzkoušet alespoň 3 objektivy. Snažte se objektivy vybírat tak, aby to pro danou vadu dávalo smysl. Zároveň se pokuste zamyslet, co přesně snímat (např. na čem mohu v labu vyzkoušet aberaci).\n",
    "\n",
    "Všechny snímky před/po, které nasnímáte, vložte do buňěk níže. Uveďte také z jakého objektivu je zaznamenán. Pokud chcete snímek nezmenšený, použijte jednoduše Markdown syntax `![](image.jpg)`. V případě, že chcete snímek zmenšit, můžete použit `<img src=\"image.jpg\" width=\"600\">`\n",
    "\n",
    "<div style=\"color: blue; text-align: right\">[ 1 bod ]</div>"
   ]
  },
  {
   "cell_type": "markdown",
   "metadata": {},
   "source": [
    "#### 1) Vytvořte snímek s co nejvíce viditelnou vadou chromatické aberace. Následně snímejte stejnou scénu, ale nastavte vhodně kameru/objektiv, aby se chromatická aberace projevila co nejméně. "
   ]
  },
  {
   "cell_type": "code",
   "execution_count": null,
   "metadata": {},
   "outputs": [],
   "source": []
  },
  {
   "cell_type": "markdown",
   "metadata": {},
   "source": [
    "#### 2) Vytvořte snímek s co nejvíce viditelnou vadou difrakce. Následně snímejte stejnou scénu, ale nastavte vhodně kameru/objektiv, aby se difrakce projevila co nejméně. "
   ]
  },
  {
   "cell_type": "code",
   "execution_count": null,
   "metadata": {},
   "outputs": [],
   "source": []
  },
  {
   "cell_type": "markdown",
   "metadata": {},
   "source": [
    "#### 3) Vytvořte snímek s co nejvíce viditelnou vadou vinětace. Následně snímejte stejnou scénu, ale nastavte vhodně kameru/objektiv, aby se vinětace projevila co nejméně."
   ]
  },
  {
   "cell_type": "code",
   "execution_count": null,
   "metadata": {},
   "outputs": [],
   "source": []
  },
  {
   "cell_type": "markdown",
   "metadata": {},
   "source": [
    "#### 4) Najděte sweetspot u širokoúhlého objektivu. \n",
    "Vytvořte ten nejkvalitnější snímek, který s danou kombinací objektivu a kamery lze zaznamenat a popište důležitá nastavení kamery/objektivu, které jste zvolili. "
   ]
  },
  {
   "cell_type": "code",
   "execution_count": null,
   "metadata": {},
   "outputs": [],
   "source": []
  },
  {
   "cell_type": "markdown",
   "metadata": {},
   "source": [
    "\n"
   ]
  },
  {
   "cell_type": "markdown",
   "metadata": {},
   "source": [
    "---"
   ]
  },
  {
   "cell_type": "markdown",
   "metadata": {},
   "source": [
    "### Úkol 2\n",
    "\n",
    "Kalibrace kamery je jednou z velmi důležitých prerekvizit jakékoliv úlohy strojového vidění. Využívá se k tomu, aby odstranila vady obrazu vzniklé kombinací snímače a objektivu. Nejčastěji se jedná o odstranění vady soudkovitosti objektivu či různých tangenciálních deformací vzniklých neideálním umístěním objektivu na snímač.\n",
    "\n",
    "Tento úkol je zaměřen na kalibraci kamery za účelem odstranění distorze ze snímků. K tomu, aby bylo možné provést kalibraci, je zapotřebí dostatečný počet snímků (10-30), které obsahují předem známý vzor (v našem případě šachovnice), zaznamenaný v různých úhlech. Knihovna OpenCV následně sama tyto vzory vyhledá, vypočte kamerovou matici (camera matrix) a parametry zkreslení (distortion coefficients). \n",
    "Kamera musí být při snímání vzoru stacionárně upevněna, nejlépe na stativu/stojanu.\n",
    "\n",
    "![](images/camera_calib.png)\n",
    "\n",
    "Více na téma kalibrace se lze dočíst [zde](https://docs.opencv.org/2.4/modules/calib3d/doc/camera_calibration_and_3d_reconstruction.html).\n",
    "\n",
    "<div style=\"color: blue; text-align: right\">[ 1 bod ]</div>"
   ]
  },
  {
   "cell_type": "markdown",
   "metadata": {},
   "source": [
    "### Pomocné funkce\n",
    "Z následujících funkcí je potřeba vybírat ty vhodné pro splnění úkolu."
   ]
  },
  {
   "cell_type": "markdown",
   "metadata": {},
   "source": [
    "Seznam funkcí pro přehlednost:\n",
    "- [`load_camera_calib(...)`](../svz.ipynb#load_save_functions)\n",
    "- [`save_camera_calib(...)`](../svz.ipynb#load_save_functions)\n",
    "- [`correct_frame(...)`](../svz.ipynb#correct_functions)\n",
    "- [`connect_camera(...)`](../svz.ipynb#connect_functions)\n",
    "- [`show_images(...)`](../svz.ipynb#show_functions)\n",
    "- [`reindex_image_files(...)`](../svz.ipynb#reindex_functions)\n",
    "- [`pick_frames(...)`](../svz.ipynb#pick_functions)\n",
    "- [`camera_calib(...)`](../svz.ipynb#calib_functions)\n",
    "- [`create_folder_path(...)`](../svz.ipynb#path_folder_functions)\n",
    "- [`create_file_path(...)`](../svz.ipynb#path_file_functions)\n",
    "- [`load_image(...)`](../svz.ipynb#load_save_functions)"
   ]
  },
  {
   "cell_type": "markdown",
   "metadata": {},
   "source": [
    "#### 1) Získejte snímek s viditelnou vadou distorze pomocí funkce pro zobrazení snímků z Basler kamery. Správně zvolte sériové číslo kamery a složku, ve které se bude pracovat.\n",
    "Hint: Mohl by se vám hodit vzor podložky stojanu."
   ]
  },
  {
   "cell_type": "code",
   "execution_count": null,
   "metadata": {},
   "outputs": [],
   "source": [
    "serial_number = ... ###\n",
    "base_folder = ... ###\n",
    "grabbed_images_folder_path = ...(base_folder, 'grabbed_images') ###\n",
    "\n",
    "camera = ...(serial_number) ###"
   ]
  },
  {
   "cell_type": "code",
   "execution_count": null,
   "metadata": {},
   "outputs": [],
   "source": [
    "CAM_WIDTH = 1080\n",
    "CAM_HEIGHT = 720\n",
    "\n",
    "viewer = BaslerOpenCVViewer(camera)\n",
    "viewer.set_configuration(VIEWER_CONFIG_RGB_MATRIX)\n",
    "viewer.show_interactive_panel(window_size=(CAM_WIDTH, CAM_HEIGHT), image_folder=grabbed_images_folder_path)"
   ]
  },
  {
   "cell_type": "markdown",
   "metadata": {},
   "source": [
    "#### 2) Získejte záznam snímků s šachovnicí ke kalibraci pomocí funkce pro zobrazení snímků z Basler kamery. "
   ]
  },
  {
   "cell_type": "code",
   "execution_count": null,
   "metadata": {
    "ExecuteTime": {
     "end_time": "2019-07-15T12:32:28.178203Z",
     "start_time": "2019-07-15T12:32:28.091316Z"
    }
   },
   "outputs": [],
   "source": [
    "viewer = BaslerOpenCVViewer(camera)\n",
    "viewer.set_configuration(VIEWER_CONFIG_RGB_MATRIX)\n",
    "viewer.show_interactive_panel(window_size=(CAM_WIDTH, CAM_HEIGHT), image_folder=grabbed_images_folder_path)"
   ]
  },
  {
   "cell_type": "markdown",
   "metadata": {},
   "source": [
    "#### 3) Zavolejte funkci pro přejmenování souborů tak, aby šly snadno přečíst pomocí cv2.VideoCapture."
   ]
  },
  {
   "cell_type": "code",
   "execution_count": null,
   "metadata": {},
   "outputs": [],
   "source": [
    "...(grabbed_images_folder_path) ###"
   ]
  },
  {
   "cell_type": "markdown",
   "metadata": {},
   "source": [
    "#### 4) Zavolejte funkci pro výběr snímků. Zvolte ty, které budou použity ke kalibraci. Zvolte si složku pro vybrané snímky."
   ]
  },
  {
   "cell_type": "code",
   "execution_count": null,
   "metadata": {},
   "outputs": [],
   "source": [
    "images_format = '%01d.png' # číselné označení s dvoumístnými číslicemi (01, 02, ...)\n",
    "picked_images_folder_path = create_folder_path(grabbed_images_folder_path, 'picked')\n",
    "wait_time = ... ### v ms\n",
    "\n",
    "...(create_file_path(grabbed_images_folder_path, images_format), picked_images_folder_path, wait_time=wait_time) ###"
   ]
  },
  {
   "cell_type": "markdown",
   "metadata": {},
   "source": [
    "#### 5) V případě, že budete ručně zasahovat do vybraných snímků (např. mazáním), proveďte znovu přejmenování."
   ]
  },
  {
   "cell_type": "code",
   "execution_count": null,
   "metadata": {},
   "outputs": [],
   "source": [
    "...(picked_images_folder_path) ###"
   ]
  },
  {
   "cell_type": "markdown",
   "metadata": {},
   "source": [
    "#### 6) Zvolte název souboru pro uložení kalibrace kamery. Prověďte kalibraci kamery. Nezapomeňte zvolit správnou velikost šachovnice."
   ]
  },
  {
   "cell_type": "code",
   "execution_count": null,
   "metadata": {},
   "outputs": [],
   "source": [
    "calibration_file_name = ... ### *.yaml\n",
    "output_calib_file_path = create_file_path(base_folder, calibration_file_name)\n",
    "chess_shape= ... ### tuple\n",
    "camera_matrix, dist_coefs = ...(create_file_path(picked_images_folder_path, images_format), chess_shape=chess_shape, output_calib_file=output_calib_file_path) ###"
   ]
  },
  {
   "cell_type": "markdown",
   "metadata": {},
   "source": [
    "#### 7) Načtěte zdrojový obrázek. Ten opravte pomocí funkce na odstranění soudkovitosti. Oba obrázky zobrazte."
   ]
  },
  {
   "cell_type": "code",
   "execution_count": null,
   "metadata": {},
   "outputs": [],
   "source": [
    "img_raw = ...(create_file_path(picked_images_folder_path, '0.png')) ###\n",
    "img_corrected = ...(img_raw, camera_matrix, dist_coefs) ###\n",
    "\n",
    "...(img_raw, img_corrected) ###"
   ]
  }
 ],
 "metadata": {
  "kernelspec": {
   "display_name": "Python [default]",
   "language": "python",
   "name": "python3"
  },
  "language_info": {
   "codemirror_mode": {
    "name": "ipython",
    "version": 3
   },
   "file_extension": ".py",
   "mimetype": "text/x-python",
   "name": "python",
   "nbconvert_exporter": "python",
   "pygments_lexer": "ipython3",
   "version": "3.6.6"
  }
 },
 "nbformat": 4,
 "nbformat_minor": 2
}
