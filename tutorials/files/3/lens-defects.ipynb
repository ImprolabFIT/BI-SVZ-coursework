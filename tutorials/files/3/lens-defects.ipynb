{
 "cells": [
  {
   "attachments": {},
   "cell_type": "markdown",
   "metadata": {
    "cell_id": "00000-a390bae5-9113-4bec-b400-e52bdedbefd4",
    "deepnote_cell_type": "markdown"
   },
   "source": [
    "# Vady optiky\n",
    "Cílem cvičení je se seznámit s odstranitelnými a neodstranitelnými vadami optiky, které náš život sužují během jakékoliv úlohy strojového vidění. Na začátku zjistíme, jak vady vznikají a jak jednotlivá nastavení kamery/objektivu ovlivňují jejich intenzitu. V druhém notebooku nás čeká úloha odstranění distorze. \n",
    "\n",
    "![](images/dancing_house.jpg)\n",
    "\n",
    "Některé vady jsou viditelné pouze na některých objektivech. V naší laboratoři se nejčastěji setkáte s následujícími objektivy, které jednotlivé optické vady hezky demonstrují:\n",
    "\n",
    "| Dostupné ohniskové vzdálenosti | 4 mm | 8 mm | 12 mm | 16 mm | 25 mm | 35mm | 50 mm | 75 mm |\n",
    "|-------------------------|------|------|-------|-------|-------|------|-------|-------|\n",
    "| Kowa                    | ❌    | ❌    | ✅     | ✅     | ✅     | ✅    | ✅     | ❌     |\n",
    "| Computar                | ❌    | ✅    | ✅     | ✅     | ✅     | ❌    | ✅     | ✅     |\n",
    "\n",
    "Při výběru objektivu je důležité zohlednit, pro jaký senzor je daný objektiv určen. \n",
    "\n",
    "Dostupné objektivy **Kowa** jsou určeny pro senzory velikosti 1\", které mají rozměry 12,8 mm x 9,6 mm.\n",
    "\n",
    "| Kowa  | pro senzor | prac. vzdálenost [mm] |\n",
    "|-------|------------|-------------------|\n",
    "| 12 mm | 1\"         | 100               |\n",
    "| 16 mm | 1\"         | 100               |\n",
    "| 25 mm | 1\"         | 150               |\n",
    "| 35 mm | 1\"         | 200               |\n",
    "| 50 mm | 1\"         | 300               |\n",
    "\n",
    "\n",
    "Objektivy **Computar** jsou určeny pro senzory velikosti 2/3\", které mají rozměry 8,8 mm x 6,6 mm.\n",
    "\n",
    "| Computar | pro senzor | prac. vzdálenost [mm] |\n",
    "|----------|------------|-------------------|\n",
    "| 8 mm     | 2/3\"       | 100               |\n",
    "| 12 mm    | 2/3\"       | 150               |\n",
    "| 16 mm    | 2/3\"       | 300               |\n",
    "| 25 mm    | 2/3\"       | 300               |\n",
    "| 50 mm    | 2/3\"       | 500               |\n",
    "| 75 mm    | 2/3\"       | 300               |"
   ]
  },
  {
   "cell_type": "markdown",
   "metadata": {},
   "source": [
    "## Instrukce ke cvičení\n",
    "- Před snímáním nastavte správně **white balance kamery**\n",
    "- Pro každou vadu nasnímáme snímek, na kterém bude vada co nejvíce viditelná, ale také snímek, na kterém se vada projevuje co nejméně. Na základě toho budeme vědět, jak se daná vada chová při jakém nastavení a jaký kompromis zvolit, abychom se ji co nejvíce vyvarovali. \n",
    "- __Pro demonstraci každé vady vždy vyberte vhodný objektiv, abychom měli co porovnávat__.\n",
    "- Snažte se objektivy vybírat tak, aby to pro danou vadu dávalo smysl. Zároveň se pokuste zamyslet, co přesně snímat (např. na čem mohu v labu vyzkoušet aberaci).\n",
    "- Všechny snímky před a po úpravách musí být stejně exponované. To znamená, že budou podobně světlé - mají podobný histogram"
   ]
  },
  {
   "cell_type": "markdown",
   "metadata": {
    "cell_id": "00001-28785e73-a814-4319-a9fa-5b04a1a5bd84",
    "deepnote_cell_type": "markdown"
   },
   "source": [
    "### Import knihoven a konfigurace"
   ]
  },
  {
   "cell_type": "code",
   "execution_count": null,
   "metadata": {},
   "outputs": [],
   "source": [
    "from improutils import *"
   ]
  },
  {
   "cell_type": "markdown",
   "metadata": {},
   "source": [
    "### Pomocné funkce\n",
    "Z následujících funkcí je potřeba vybírat ty vhodné pro splnění úkolu."
   ]
  },
  {
   "cell_type": "markdown",
   "metadata": {},
   "source": [
    "Seznam funkcí pro přehlednost:\n",
    "- [`plot_images(...)`](https://gitlab.fit.cvut.cz/bi-svz/improutils_package/-/blob/master/improutils/visualisation/visualisation.py#L11) - improutils\n",
    "- [`load_image(...)`](https://gitlab.fit.cvut.cz/bi-svz/improutils_package/-/blob/master/improutils/acquisition/img_io.py#L11) - improutils"
   ]
  },
  {
   "cell_type": "markdown",
   "metadata": {},
   "source": [
    "<div style=\"color: blue; text-align: right\">[ 1 bod ]</div>"
   ]
  },
  {
   "cell_type": "markdown",
   "metadata": {},
   "source": [
    "#### 1) [Vinětace](https://courses.fit.cvut.cz/BI-SVZ/lectures/files/bi-svz-02-druhy-senzoru-a-optika.pdf#page=30)\n",
    "Vytvořte snímek s co nejvíce viditelnou vadou **vinětace**. Následně snímejte stejnou scénu, ale nastavte vhodně kameru/objektiv, aby se vinětace projevila co nejméně. Snímky načtěte a zobrazte."
   ]
  },
  {
   "cell_type": "code",
   "execution_count": null,
   "metadata": {},
   "outputs": [],
   "source": [
    "img_visible_vignette = ...(...) ###\n",
    "img_minimized_vignette = ...(...) ###\n",
    "\n",
    "...(img_visible_vignette, titles=[\"Visible vignette\"]) ###\n",
    "...(img_minimized_vignette, titles=[\"Minimized vignette\"]) ###"
   ]
  },
  {
   "cell_type": "markdown",
   "metadata": {},
   "source": [
    "#### 2) [Chromatická aberace](https://courses.fit.cvut.cz/BI-SVZ/lectures/files/bi-svz-02-druhy-senzoru-a-optika.pdf#page=31)\n",
    "Vytvořte snímek s co nejvíce viditelnou vadou **chromatické aberace**. \n",
    "Následně snímejte stejnou scénu, ale nastavte vhodně kameru/objektiv, aby se chromatická aberace projevila co nejméně. \n",
    "Snímky načtěte a zobrazte."
   ]
  },
  {
   "cell_type": "code",
   "execution_count": null,
   "metadata": {},
   "outputs": [],
   "source": [
    "img_visible_abber = ...(...) ###\n",
    "img_minimized_abber = ...(...) ###\n",
    "\n",
    "...(img_visible_abber, titles=[\"Visible chromatic abberation\"]) ###\n",
    "...(img_minimized_abber, titles=[\"Minimized chromatic abberation\"]) ###"
   ]
  },
  {
   "cell_type": "markdown",
   "metadata": {},
   "source": [
    "#### 3) [Difrakce](https://courses.fit.cvut.cz/BI-SVZ/lectures/files/bi-svz-02-druhy-senzoru-a-optika.pdf#page=32)\n",
    "Vytvořte alespoň 5 snímků viz. [přednáška](https://courses.fit.cvut.cz/BI-SVZ/lectures/files/bi-svz-02-druhy-senzoru-a-optika.pdf#page=32), při snímání postupně zvyšujte clonové číslo od nejmenšího po největší, tak ať se co nejvíce projeví vada **difrakce**. Snažte se, aby byl histogram snímků podobný. Tj. aby byly snímky stejně exponované. Se zvyšujícím se clonovým číslem musíte prodlužovat **expoziční čas**, v malé míře můžete zvyšit také **Gain**."
   ]
  },
  {
   "cell_type": "code",
   "execution_count": null,
   "metadata": {},
   "outputs": [],
   "source": [
    "imgs_diffraction = {...} ### use format {img_path: f_stop}\n",
    "\n",
    "for img_path, f_stop in imgs_diffraction.items():\n",
    "    img = ...(img_path) ###\n",
    "    ...(img, titles=[f\"{img_path}, f stop: {f_stop}\"]) ###\n"
   ]
  },
  {
   "cell_type": "markdown",
   "metadata": {},
   "source": [
    "#### 4) Sweetspot\n",
    "Vyberte snímek, z úkolu č. 3, při němž byl objektiv v tzv. **sweet spotu**. Popiště jaké clonové číslo jste zvolili a proč."
   ]
  },
  {
   "cell_type": "code",
   "execution_count": null,
   "metadata": {},
   "outputs": [],
   "source": [
    "img_sweet_spot = ...(...) ###\n",
    "\n",
    "...(img_sweet_spot, titles=[\"Sweet spot\"]) ###"
   ]
  }
 ],
 "metadata": {
  "deepnote": {},
  "deepnote_execution_queue": [],
  "deepnote_notebook_id": "30966b17-4965-494a-88f1-529fb471f9a2",
  "interpreter": {
   "hash": "e643216664f40d5b1ac05f6c81a0762e4f0dd1599cd74626f5d92cc140e06269"
  },
  "kernelspec": {
   "display_name": "Python 3 (ipykernel)",
   "language": "python",
   "name": "python3"
  },
  "language_info": {
   "codemirror_mode": {
    "name": "ipython",
    "version": 3
   },
   "file_extension": ".py",
   "mimetype": "text/x-python",
   "name": "python",
   "nbconvert_exporter": "python",
   "pygments_lexer": "ipython3",
   "version": "3.8.11"
  }
 },
 "nbformat": 4,
 "nbformat_minor": 2
}
