{
 "cells": [
  {
   "attachments": {},
   "cell_type": "markdown",
   "metadata": {
    "cell_id": "00000-a390bae5-9113-4bec-b400-e52bdedbefd4",
    "deepnote_cell_type": "markdown"
   },
   "source": [
    "# Vady optiky\n",
    "Cílem cvičení je se seznámit s odstranitelnými a neodstranitelnými vadami optiky, které náš život sužují během jakékoliv úlohy strojového vidění. Na začátku zjistíme, jak vady vznikají a jak jednotlivá nastavení kamery/objektivu ovlivňují jejich intenzitu. V druhém notebooku nás čeká úloha odstranění distorze. \n",
    "\n",
    "![](images/dancing_house.jpg)\n",
    "\n",
    "Některé vady jsou viditelné pouze na některých objektivech. V naší laboratoři se nejčastěji setkáte s následujícími objektivy, které jednotlivé optické vady hezky demonstrují:\n",
    "- Kowa 12mm\n",
    "- Kowa 35mm\n",
    "- Kowa 50mm\n",
    "- Basler 8mm\n",
    "- Basler 12mm\n",
    "- Basler 16mm\n",
    "- Basler 25mm\n",
    "- Computar 8mm\n",
    "- Computar 12mm\n",
    "- Computar 25mm\n",
    "- Mutron 4mm\n",
    "\n",
    "Styčným bodem pro toto cvičení je [přednáška na Vady optiky](https://courses.fit.cvut.cz/BI-SVZ/lectures/files/bi-svz-02-druhy-senzoru-a-optika.pdf)."
   ]
  },
  {
   "cell_type": "markdown",
   "metadata": {
    "cell_id": "00001-28785e73-a814-4319-a9fa-5b04a1a5bd84",
    "deepnote_cell_type": "markdown"
   },
   "source": [
    "### Import knihoven a konfigurace"
   ]
  },
  {
   "cell_type": "code",
   "execution_count": null,
   "metadata": {},
   "outputs": [],
   "source": [
    "%run library.ipynb"
   ]
  },
  {
   "cell_type": "markdown",
   "metadata": {},
   "source": [
    "V prvním notebooku se zaměříme na analýzu následujících vad:\n",
    "- chromatická aberace\n",
    "- difrakce\n",
    "- vinětace\n",
    "\n",
    "Instrukce:\n",
    "- Pro každou vadu nasnímáme snímek, na kterém bude vada co nejvíce viditelná, ale také snímek, na kterém se vada projevuje co nejméně. Na základě toho budeme vědět, jak se daná vada chová při jakém nastavení a jaký kompromis zvolit, abychom se ji co nejvíce vyvarovali. \n",
    "- __Pro demonstraci každé vady vždy vyberte jiný objektiv, abychom měli co porovnávat__. Celkem byste si tedy měli vyzkoušet alespoň 3 objektivy. \n",
    "- Snažte se objektivy vybírat tak, aby to pro danou vadu dávalo smysl. Zároveň se pokuste zamyslet, co přesně snímat (např. na čem mohu v labu vyzkoušet aberaci).\n",
    "- Všechny snímky před a po úpravách musí být stejně exponované. To znamená, že budou podobně světlé - mají podobný histogram\n",
    "\n",
    "Všechny snímky před/po, které nasnímáte, vložte do buňěk níže. Uveďte také z jakého objektivu je zaznamenán. Pokud chcete snímek nezmenšený, použijte jednoduše Markdown syntax `![](image.jpg)`. V případě, že chcete snímek zmenšit, můžete použít `<img src=\"image.jpg\" width=\"600\">`\n",
    "\n",
    "<div style=\"color: blue; text-align: right\">[ 1 bod ]</div>"
   ]
  },
  {
   "cell_type": "markdown",
   "metadata": {},
   "source": [
    "#### 1) Vytvořte snímek s co nejvíce viditelnou vadou **chromatické aberace**. Následně snímejte stejnou scénu, ale nastavte vhodně kameru/objektiv, aby se chromatická aberace projevila co nejméně. "
   ]
  },
  {
   "cell_type": "code",
   "execution_count": null,
   "metadata": {},
   "outputs": [],
   "source": []
  },
  {
   "cell_type": "markdown",
   "metadata": {},
   "source": [
    "#### 2) Vytvořte snímek s co nejvíce viditelnou vadou **difrakce**. Následně snímejte stejnou scénu, ale nastavte vhodně kameru/objektiv, aby se difrakce projevila co nejméně. "
   ]
  },
  {
   "cell_type": "code",
   "execution_count": null,
   "metadata": {},
   "outputs": [],
   "source": []
  },
  {
   "cell_type": "markdown",
   "metadata": {},
   "source": [
    "#### 3) Vytvořte snímek s co nejvíce viditelnou vadou **vinětace**. Následně snímejte stejnou scénu, ale nastavte vhodně kameru/objektiv, aby se vinětace projevila co nejméně."
   ]
  },
  {
   "cell_type": "code",
   "execution_count": null,
   "metadata": {},
   "outputs": [],
   "source": []
  },
  {
   "cell_type": "markdown",
   "metadata": {},
   "source": [
    "#### 4) Najděte **sweetspot** u širokoúhlého objektivu. \n",
    "Vytvořte ten nejkvalitnější snímek, který s danou kombinací objektivu a kamery lze zaznamenat a popište důležitá nastavení kamery/objektivu, které jste zvolili. "
   ]
  },
  {
   "cell_type": "code",
   "execution_count": null,
   "metadata": {},
   "outputs": [],
   "source": []
  }
 ],
 "metadata": {
  "deepnote": {},
  "deepnote_execution_queue": [],
  "deepnote_notebook_id": "30966b17-4965-494a-88f1-529fb471f9a2",
  "interpreter": {
   "hash": "e643216664f40d5b1ac05f6c81a0762e4f0dd1599cd74626f5d92cc140e06269"
  },
  "kernelspec": {
   "display_name": "Python 3 (ipykernel)",
   "language": "python",
   "name": "python3"
  },
  "language_info": {
   "codemirror_mode": {
    "name": "ipython",
    "version": 3
   },
   "file_extension": ".py",
   "mimetype": "text/x-python",
   "name": "python",
   "nbconvert_exporter": "python",
   "pygments_lexer": "ipython3",
   "version": "3.8.11"
  }
 },
 "nbformat": 4,
 "nbformat_minor": 2
}
