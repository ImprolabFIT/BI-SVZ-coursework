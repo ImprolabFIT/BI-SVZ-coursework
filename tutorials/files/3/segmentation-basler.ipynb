{
 "cells": [
  {
   "cell_type": "markdown",
   "metadata": {},
   "source": [
    "# Segmentace obrazu\n",
    "Cvičení je zaměřené na správné využití osvětlení při nasvícení objektu a následné využití metod pro segmentaci obrazu."
   ]
  },
  {
   "cell_type": "markdown",
   "metadata": {},
   "source": [
    "### Import knihoven a konfigurace"
   ]
  },
  {
   "cell_type": "code",
   "execution_count": null,
   "metadata": {},
   "outputs": [],
   "source": [
    "import numpy as np\n",
    "import matplotlib\n",
    "import matplotlib.pyplot as plt\n",
    "import cv2\n",
    "from pypylon import pylon \n",
    "\n",
    "%matplotlib inline"
   ]
  },
  {
   "cell_type": "markdown",
   "metadata": {},
   "source": [
    "### Pomocné funkce\n",
    "Z následujících funkcí je potřeba vybírat ty vhodné pro splnění úkolu."
   ]
  },
  {
   "cell_type": "markdown",
   "metadata": {},
   "source": [
    "Funkce k připojení kamery."
   ]
  },
  {
   "cell_type": "code",
   "execution_count": null,
   "metadata": {
    "code_folding": [
     4,
     33
    ]
   },
   "outputs": [],
   "source": [
    "CAM_WIDTH = 1080\n",
    "CAM_HEIGHT = 720\n",
    "\n",
    "# List of features to create widgets\n",
    "FEATURES = [\n",
    "    {\n",
    "        \"name\": \"GainRaw\",\n",
    "        \"type\": \"int\"\n",
    "    },\n",
    "    {\n",
    "        \"name\": \"ExposureTimeRaw\",\n",
    "        \"type\": \"int\",\n",
    "        \"max\": 35000,\n",
    "        \"min\": 35,\n",
    "        \"step\": 140,\n",
    "        \"value\": 3500\n",
    "    },\n",
    "    {\n",
    "        \"name\": \"Height\",\n",
    "        \"type\": \"int_text\",\n",
    "        \"max\": 1200,\n",
    "        \"min\": 100,\n",
    "        \"step\": \"5\"\n",
    "    },\n",
    "    {\n",
    "        \"name\": \"Width\",\n",
    "        \"type\": \"int_text\",\n",
    "        \"max\": 1920,\n",
    "        \"min\": 100,\n",
    "        \"step\": \"5\"\n",
    "    }\n",
    "]\n",
    "\n",
    "def connect_camera(serial_number):\n",
    "    ''' Connects camera specified with its serial number\n",
    "    \n",
    "    Parameters\n",
    "    ----------\n",
    "    serial_number : string\n",
    "        Camera's serial number.\n",
    "    grabbed_images_path : string\n",
    "        Path to folder where the saved images will be stored.\n",
    "    Returns\n",
    "    -------\n",
    "    camera : object\n",
    "    '''\n",
    "    info = None\n",
    "    for i in pylon.TlFactory.GetInstance().EnumerateDevices():\n",
    "        if i.GetSerialNumber() == serial_number:\n",
    "            info = i\n",
    "            break\n",
    "    else:\n",
    "        print('Camera with {} serial number not found'.format(serial_number))\n",
    "\n",
    "    # VERY IMPORTANT STEP! To use Basler PyPylon OpenCV viewer you have to call .Open() method on you camera\n",
    "    if info is not None:\n",
    "        camera = pylon.InstantCamera(pylon.TlFactory.GetInstance().CreateDevice(info)) \n",
    "        camera.Open()\n",
    "        return camera\n",
    "    else:\n",
    "        return None    "
   ]
  },
  {
   "cell_type": "markdown",
   "metadata": {},
   "source": [
    "Funkce pro zobrazení okna s přidáním eventu na klik myší."
   ]
  },
  {
   "cell_type": "code",
   "execution_count": null,
   "metadata": {
    "code_folding": [
     0,
     4
    ]
   },
   "outputs": [],
   "source": [
    "def print_xy(event, x, y, flags, param):\n",
    "    if event == cv2.EVENT_LBUTTONDOWN:\n",
    "        print('x = %d, y = %d'% (x, y))\n",
    "        \n",
    "def show_camera_window(img, scale=1):\n",
    "    window_name = 'Camera capture (' + serial_number + ')'\n",
    "    cv2.namedWindow(window_name, cv2.WINDOW_NORMAL | cv2.WINDOW_GUI_NORMAL)\n",
    "    cv2.resizeWindow(window_name, img.shape[1] * scale, img.shape[0] * scale)\n",
    "    cv2.setMouseCallback(window_name, print_xy)\n",
    "    cv2.imshow(window_name, img)"
   ]
  },
  {
   "cell_type": "markdown",
   "metadata": {},
   "source": [
    "Metody předzpracování."
   ]
  },
  {
   "cell_type": "code",
   "execution_count": null,
   "metadata": {
    "code_folding": [
     0,
     14,
     28
    ]
   },
   "outputs": [],
   "source": [
    "def to_gray(img):\n",
    "    ''' Converts image to monochrome\n",
    "    \n",
    "    Parameters\n",
    "    ----------\n",
    "    img : numpy.ndarray\n",
    "        Input image.\n",
    "    Returns\n",
    "    -------\n",
    "    Ouput image.\n",
    "    '''\n",
    "    dst = cv2.cvtColor(img, cv2.COLOR_BGR2GRAY)\n",
    "    return dst\n",
    "\n",
    "def negative(img):\n",
    "    ''' Converts image to its negative\n",
    "    \n",
    "    Parameters\n",
    "    ----------\n",
    "    img : numpy.ndarray\n",
    "        Input image.\n",
    "    Returns\n",
    "    -------\n",
    "    Ouput image.\n",
    "    '''\n",
    "    dst = 255 - img\n",
    "    return dst\n",
    "\n",
    "def crop(img, tl_x, tl_y, br_x, br_y):\n",
    "    ''' Crops image by added coordinates\n",
    "    \n",
    "    Parameters\n",
    "    ----------\n",
    "    img : numpy.ndarray\n",
    "        Input image.\n",
    "    tl_x : int\n",
    "        TOP-LEFT corner's x-coordinate\n",
    "    tl_y : int\n",
    "        TOP-LEFT corner's y-coordinate\n",
    "    br_x : int\n",
    "        BOTTOM-RIGHT corner's x-coordinate\n",
    "    br_y : int\n",
    "        BOTTOM-RIGHT corner's y-coordinate\n",
    "    Returns\n",
    "    -------\n",
    "    Ouput image.\n",
    "    '''\n",
    "    roi = img[tl_y:br_y, tl_x:br_x]\n",
    "    return roi    "
   ]
  },
  {
   "cell_type": "markdown",
   "metadata": {},
   "source": [
    "Metody filtrace."
   ]
  },
  {
   "cell_type": "code",
   "execution_count": null,
   "metadata": {
    "code_folding": [
     0
    ]
   },
   "outputs": [],
   "source": [
    "def filtration_median(img, filter_size):\n",
    "    '''Filters image noise using median algorithm\n",
    "    \n",
    "    Parameters\n",
    "    ----------\n",
    "    img : numpy.ndarray\n",
    "        Input image.\n",
    "    filter_size : int\n",
    "        Size of median filter.\n",
    "    Returns\n",
    "    -------\n",
    "    Ouput image.\n",
    "    '''\n",
    "    dst = cv2.medianBlur(img, filter_size)\n",
    "    return dst    "
   ]
  },
  {
   "cell_type": "markdown",
   "metadata": {},
   "source": [
    "Metody segmentace."
   ]
  },
  {
   "cell_type": "code",
   "execution_count": null,
   "metadata": {
    "code_folding": [
     0,
     16,
     30
    ]
   },
   "outputs": [],
   "source": [
    "def segmentation_one_threshold(img, threshold):\n",
    "    '''Segments image into black & white using one threshold\n",
    "    \n",
    "    Parameters\n",
    "    ----------\n",
    "    img : numpy.ndarray\n",
    "        Input image.\n",
    "    threshold : int\n",
    "        Pixels with value lower than threshold are considered black, the others white.\n",
    "    Returns\n",
    "    -------\n",
    "    Ouput image.\n",
    "    '''\n",
    "    ret, dst = cv2.threshold(img, threshold, 255, cv2.THRESH_BINARY)\n",
    "    return dst\n",
    "\n",
    "def segmentation_auto_threshold(img):\n",
    "    '''Segments image into black & white using automatic threshold\n",
    "    \n",
    "    Parameters\n",
    "    ----------\n",
    "    img : numpy.ndarray\n",
    "        Input image.\n",
    "    Returns\n",
    "    -------\n",
    "    Ouput image.\n",
    "    '''\n",
    "    ret, dst = cv2.threshold(img, 0, 255, cv2.THRESH_BINARY+cv2.THRESH_OTSU)\n",
    "    return dst\n",
    "\n",
    "def segmentation_two_thresholds(img, lower, higher):\n",
    "    '''Segments image into black & white using two thresholds\n",
    "    \n",
    "    Parameters\n",
    "    ----------\n",
    "    img : numpy.ndarray\n",
    "        Input image.\n",
    "    lower : int\n",
    "        Pixels with value lower than threshold are considered black, the others white.\n",
    "    higher : int\n",
    "        Pixels with value higher than threshold are considered black, the others white.\n",
    "    Returns\n",
    "    -------\n",
    "    Ouput image.\n",
    "    '''\n",
    "    dst = cv2.inRange(img, min(lower, higher), max(lower, higher))\n",
    "    return dst"
   ]
  },
  {
   "cell_type": "markdown",
   "metadata": {},
   "source": [
    "Metoda pro zobrazení různého množství obrázků."
   ]
  },
  {
   "cell_type": "code",
   "execution_count": null,
   "metadata": {
    "code_folding": [
     0
    ]
   },
   "outputs": [],
   "source": [
    "def show_images(*imgs, scale=1, window_name='Image preview'):\n",
    "    \"\"\" Opens multiple image previews depending on the length of the input *imgs list.\n",
    "    The preview is terminated by pressing the 'q' key.\n",
    "    \n",
    "    Parameters\n",
    "    ----------\n",
    "    *imgs : list\n",
    "        Multiple input images which have to be shown.\n",
    "    scale : double\n",
    "        Scale of shown image window.\n",
    "    window_name : Optional[string]\n",
    "        An optional window name.\n",
    "    Returns\n",
    "    -------\n",
    "    None\n",
    "    \"\"\"\n",
    "    for i, img in enumerate(imgs, 1):\n",
    "        window_name_id = window_name + ' ' + str(i)\n",
    "        cv2.namedWindow(window_name_id, cv2.WINDOW_NORMAL | cv2.WINDOW_GUI_NORMAL)\n",
    "        cv2.resizeWindow(window_name_id, img.shape[1] * scale, img.shape[0] * scale)\n",
    "        cv2.moveWindow(window_name_id, 0, i*10)\n",
    "\n",
    "    while 1:\n",
    "        for i, img in enumerate(imgs, 1):\n",
    "            cv2.imshow(window_name + ' ' + str(i), img)\n",
    "            \n",
    "        k = cv2.waitKey(0)\n",
    "\n",
    "        if k == ord('q'):\n",
    "            break\n",
    "\n",
    "    cv2.destroyAllWindows()"
   ]
  },
  {
   "cell_type": "markdown",
   "metadata": {},
   "source": [
    "Metoda pro OCR obrazu"
   ]
  },
  {
   "cell_type": "code",
   "execution_count": null,
   "metadata": {
    "code_folding": [
     0
    ]
   },
   "outputs": [],
   "source": [
    "def ocr(img):\n",
    "    return 'FIT'"
   ]
  },
  {
   "cell_type": "markdown",
   "metadata": {},
   "source": [
    "---"
   ]
  },
  {
   "cell_type": "markdown",
   "metadata": {},
   "source": [
    "Seznam funkcí pro přehlednost:\n",
    "- `connect_camera(...)`\n",
    "- `show_images(...)`\n",
    "\n",
    "\n",
    "- `to_gray(...)`\n",
    "- `negative(...)`\n",
    "- `crop(...)`\n",
    "- `filtration_median(...)`\n",
    "- `segmentation_one_threshold(...)`\n",
    "- `segmentation_auto_threshold(...)`\n",
    "- `segmentation_two_thresholds(...)`"
   ]
  },
  {
   "cell_type": "markdown",
   "metadata": {},
   "source": [
    "### Úkol\n",
    "Zvolte vhodné funkce pro segmentaci obrazu a přečtěte text na obrazu snímaném kamerou.\n",
    "\n",
    "Pro testování algoritmu využijte funkci `impro()`. Po změně obsahu funkce je potřeba načíst znovu i blok pro spuštění snímání z kamery.\n",
    "\n",
    "Po vyladění algoritmu, využijte obrázek z kamery a nechte ho přečíst OCR. V případě, že výsledek bude po porovnání `True`, úkol jste splnili."
   ]
  },
  {
   "cell_type": "markdown",
   "metadata": {},
   "source": [
    "#### 1) Nastavte správně kameru."
   ]
  },
  {
   "cell_type": "code",
   "execution_count": null,
   "metadata": {},
   "outputs": [],
   "source": [
    "serial_number = '22018112' ### vlastní sériové číslo kamery\n",
    "width = 1280\n",
    "height = 720\n",
    "\n",
    "camera = connect_camera(serial_number)"
   ]
  },
  {
   "cell_type": "markdown",
   "metadata": {},
   "source": [
    "#### 2) Definujte obsah funkce pro zpracování obrazu, konkrétně jeho segmentaci."
   ]
  },
  {
   "cell_type": "code",
   "execution_count": null,
   "metadata": {},
   "outputs": [],
   "source": [
    "def impro(img):\n",
    "    img = to_gray(img)\n",
    "    img = crop(img, 713, 224, 822, 328)\n",
    "    #img = segmentation_one_threshold(img, 50)\n",
    "    img = segmentation_auto_threshold(img)\n",
    "    #img = segmentation_two_thresholds(img, 20, 80)\n",
    "    #img = negative(img)\n",
    "    #img = filtration_median(img, 3)\n",
    "    show_camera_window(img, 3)"
   ]
  },
  {
   "cell_type": "markdown",
   "metadata": {},
   "source": [
    "#### 3) Spusťte snímání a testujte algoritmus pro zpracování obrazu."
   ]
  },
  {
   "cell_type": "markdown",
   "metadata": {},
   "source": [
    "Info k oknu:\n",
    "- Pro spuštění okna kamery je zapotřebí kliknout na tlačítko `Run Interact`. \n",
    "- Okno kamery se vypne stisknutím tlačítka `q`.\n",
    "- Po kliku levého tlačítka myši se vytisknou souřadnice místa v obraze.\n",
    "- Pro projevení změn v nastavení pomocí GUI prvků je nutné ukončit okno kamery a znovu ho spustit."
   ]
  },
  {
   "cell_type": "code",
   "execution_count": null,
   "metadata": {},
   "outputs": [],
   "source": [
    "from pypylon_opencv_viewer import BaslerOpenCVViewer\n",
    "    \n",
    "viewer = BaslerOpenCVViewer(camera)\n",
    "viewer.set_features(FEATURES)\n",
    "viewer.set_impro_function(impro)\n",
    "viewer.run_interaction_continuous_shot(window_size=(width, height))"
   ]
  },
  {
   "cell_type": "markdown",
   "metadata": {},
   "source": [
    "---"
   ]
  },
  {
   "cell_type": "markdown",
   "metadata": {},
   "source": [
    "#### 4) Doplňte funkční verzi algoritmu."
   ]
  },
  {
   "cell_type": "code",
   "execution_count": null,
   "metadata": {},
   "outputs": [],
   "source": [
    "def algorithm(img):\n",
    "    img = to_gray(img)\n",
    "    img = crop(img, 713, 224, 822, 328)\n",
    "    img = segmentation_auto_threshold(img)\n",
    "    return img"
   ]
  },
  {
   "cell_type": "markdown",
   "metadata": {},
   "source": [
    "#### 5) Využijte funkční algoritmus na obrázek z kamery."
   ]
  },
  {
   "cell_type": "code",
   "execution_count": null,
   "metadata": {},
   "outputs": [],
   "source": [
    "viewer = BaslerOpenCVViewer(camera)\n",
    "image = viewer.get_image()\n",
    "image = algorithm(image)\n",
    "\n",
    "text = ocr(image)\n",
    "print('Přečtený text je: ' + text) "
   ]
  },
  {
   "cell_type": "markdown",
   "metadata": {},
   "source": [
    "#### 6) Zkontrolujte správnost"
   ]
  },
  {
   "cell_type": "code",
   "execution_count": null,
   "metadata": {},
   "outputs": [],
   "source": [
    "ref_text = 'FIT'\n",
    "if text == ref_text:\n",
    "    print('Úkol jste splnili!')\n",
    "else:\n",
    "    print('Úkol je třeba dál ladit ...')"
   ]
  }
 ],
 "metadata": {
  "kernelspec": {
   "display_name": "Python [conda env:SVZ]",
   "language": "python",
   "name": "conda-env-SVZ-py"
  },
  "language_info": {
   "codemirror_mode": {
    "name": "ipython",
    "version": 3
   },
   "file_extension": ".py",
   "mimetype": "text/x-python",
   "name": "python",
   "nbconvert_exporter": "python",
   "pygments_lexer": "ipython3",
   "version": "3.6.6"
  }
 },
 "nbformat": 4,
 "nbformat_minor": 2
}
