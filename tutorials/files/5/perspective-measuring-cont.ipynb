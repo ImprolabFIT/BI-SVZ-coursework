{
 "cells": [
  {
   "cell_type": "markdown",
   "metadata": {
    "run_control": {
     "marked": false
    }
   },
   "source": [
    "# Perspektiva - měření vzdálenosti v obraze\n",
    "Toto cvičení je velmi krátké a jednoduché. Nicméně, je prerekvizitou k úspěšnému absolvování druhého domácího úkolu. \n",
    "\n",
    "S tématem měření vzdáleností v obraze jsme se setkali již ve 3. cvičení. Připomeňme si však, jakým způsobem jsme problém řešili. Využívali jsme znalosti poměru px/mm. Tento způsob měl jednu velkou nevýhodu, neboť když se nebude obrazová rovina nacházet rovnoběžně se snímanou rovinou, poměr px/mm nebude dávat smysl a budeme dostávat chybné výsledky.\n",
    "\n",
    "Tento problém vyřešíme znalostí perspektivy, konkrétně aplikací 2D perspektivní transformace (viz přednáška [Geometrické transformace obrazu](../../../lectures/files/bi-svz-06-metody-predzpracovani-obrazu-1.pdf) - homography). Představme si nyní obrázek, na kterém chceme zjistit skutečnou vzdálenost dvou bodů označených úsečkou **`d`**  v milimetrech.\n",
    "\n",
    "![](pattern_measuring.jpg)\n",
    "\n",
    "Na první pohled je jasné, že počítat poměr px/mm v tomto obraze je nesmyslné. Obraz je perspektivně zkreslený - kruhy se změnily na elipsy a obdélníky se staly lichoběžníky. Se znalostí toho, jak vypadaly původní tvary v obraze, a jaké byly jejich původní rozměry, jsme schopni papír se vzory geometricky transformovat do tvaru \"kolmého k obrazové rovině\". Navíc, nejenže známe velikosti referenčního oranžového obdélníku, ale známe také velikosti klasického A4 papíru (210 x 297 mm). Informace o rozměrech a tvaru papíru nám stačí k tomu, vypočítat transformační matici **`H`**, která každý pixel dokáže převést do nového \"narovnaného\" obrazu.\n",
    "\n",
    "![](pattern_measuring_warped.jpg)\n",
    "\n",
    "Pokud si v rámci této transformace ještě navíc zvolíme chytré jednotky. Výsledné vzdálenosti v pixelech budou odpovídat přímo vzdálenostem v mm nebo v čemkoliv jiném."
   ]
  },
  {
   "cell_type": "markdown",
   "metadata": {},
   "source": [
    "### Import knihoven a konfigurace"
   ]
  },
  {
   "cell_type": "code",
   "execution_count": 1,
   "metadata": {
    "run_control": {
     "marked": false
    }
   },
   "outputs": [],
   "source": [
    "import numpy as np\n",
    "import cv2\n",
    "np.set_printoptions(formatter={'float': lambda x: \"{0:0.3f}\".format(x)})"
   ]
  },
  {
   "cell_type": "markdown",
   "metadata": {},
   "source": [
    "### Pomocné funkce\n"
   ]
  },
  {
   "cell_type": "code",
   "execution_count": 2,
   "metadata": {
    "code_folding": [
     0
    ]
   },
   "outputs": [],
   "source": [
    "def show_images(*imgs, scale=1, window_name='Image preview'):\n",
    "    \"\"\" Opens multiple image previews depending on the length of the input *imgs list.\n",
    "    The preview is terminated by pressing the 'q' key.\n",
    "    \n",
    "    Parameters\n",
    "    ----------\n",
    "    *imgs : list\n",
    "        Multiple input images which have to be shown.\n",
    "    scale : double\n",
    "        Scale of shown image window.\n",
    "    window_name : Optional[string]\n",
    "        An optional window name.\n",
    "    Returns\n",
    "    -------\n",
    "    None\n",
    "    \"\"\"\n",
    "    def print_xy(event, x, y, flags, param):\n",
    "        if event == cv2.EVENT_LBUTTONDOWN:\n",
    "            print('(x, y) = {}, {}'.format(x, y))\n",
    "        \n",
    "    for i, img in enumerate(imgs, 1):\n",
    "        h,w = img.shape[:2]\n",
    "        window_name_id = window_name + ' ' + str(i)\n",
    "        cv2.namedWindow(window_name_id, cv2.WINDOW_NORMAL | cv2.WINDOW_GUI_NORMAL)\n",
    "        cv2.resizeWindow(window_name_id, int(w * scale), int(h * scale))\n",
    "        cv2.setMouseCallback(window_name_id, print_xy)\n",
    "        cv2.moveWindow(window_name_id, 0, i*10)\n",
    "\n",
    "    while 1:\n",
    "        for i, img in enumerate(imgs, 1):\n",
    "            cv2.imshow(window_name + ' ' + str(i), img)\n",
    "            \n",
    "        k = cv2.waitKey(0)\n",
    "        \n",
    "        if k == ord('q') or k == 27:\n",
    "            break\n",
    "\n",
    "    cv2.destroyAllWindows()"
   ]
  },
  {
   "cell_type": "markdown",
   "metadata": {},
   "source": [
    "### Úkol\n",
    "\n",
    "**1) Získejte a zobrazte si snímek fyzicky natočeného vzoru snímaného pod úhlem cca 30°.**\n",
    "\n",
    "Nezapomínejte, že všechny kraje papíru musí být viditelné."
   ]
  },
  {
   "cell_type": "code",
   "execution_count": 3,
   "metadata": {
    "scrolled": true
   },
   "outputs": [],
   "source": [
    "img = ..."
   ]
  },
  {
   "cell_type": "markdown",
   "metadata": {},
   "source": [
    "**2) Vytvořte si dva seznamy korenspondečních bodů, které budou využity pro výpočet transformační matice H**\n",
    "\n",
    "V prvním seznamu musí být obrazové body. K jejich získáni využijte implementovaný callback ve funkci `show_images`, který po kliknutí do obrazu, vypíše souřadnice.\n",
    "Druhý seznam musí obsahovat cílové souřadnice bodů, do kterých chceme vybrané body z prvního seznamu transformovat. \n",
    "\n",
    "Pozor, záleží na pořadí bodů a obě struktury musí být `np.array`.\n"
   ]
  },
  {
   "cell_type": "code",
   "execution_count": 4,
   "metadata": {},
   "outputs": [],
   "source": [
    "image_pts = ...\n",
    "world_pts = ..."
   ]
  },
  {
   "cell_type": "markdown",
   "metadata": {},
   "source": [
    "**3) Pomocí funkce [`cv2.findHomography`](https://docs.opencv.org/3.4.1/d9/d0c/group__calib3d.html#ga4abc2ece9fab9398f2e560d53c8c9780) získejte transformační matici `H`. Matici vypiště, ať si připomenete její tvar.**"
   ]
  },
  {
   "cell_type": "code",
   "execution_count": 5,
   "metadata": {},
   "outputs": [
    {
     "name": "stdout",
     "output_type": "stream",
     "text": [
      "[[0.895 -1.463 1924.333]\n",
      " [0.819 1.827 -2900.061]\n",
      " [-0.000 0.000 1.000]]\n"
     ]
    }
   ],
   "source": [
    "H, mask = ..."
   ]
  },
  {
   "cell_type": "markdown",
   "metadata": {},
   "source": [
    "**4) Využijte [`cv2.warpPerspective`](https://docs.opencv.org/3.4.1/da/d54/group__imgproc__transform.html#gaf73673a7e8e18ec6963e3774e6a94b87), která přijímá transformační matici `H`, k narovnání zdrojového obrazu. Výsledek zobrazte.** "
   ]
  },
  {
   "cell_type": "code",
   "execution_count": 6,
   "metadata": {},
   "outputs": [],
   "source": [
    "warped_img = ..."
   ]
  },
  {
   "cell_type": "markdown",
   "metadata": {},
   "source": [
    "**5) Ve vašem nasnímaném obraze získejte souřadnice hraničnich bodů úsečky `d` a uložte je do definovaných proměných.** \n",
    "\n",
    "Nelekejte se zběsilého předepsaného formátu, OpenCV bohužel občas požaduje zvláštní struktury."
   ]
  },
  {
   "cell_type": "code",
   "execution_count": null,
   "metadata": {},
   "outputs": [],
   "source": [
    "..."
   ]
  },
  {
   "cell_type": "code",
   "execution_count": 7,
   "metadata": {},
   "outputs": [],
   "source": [
    "pt_src = np.array([[(...)]], dtype='float32')\n",
    "pt_dst = np.array([[(...)]], dtype='float32')"
   ]
  },
  {
   "cell_type": "markdown",
   "metadata": {},
   "source": [
    "**6) Využijte [`cv2.perspectiveTransform`](https://docs.opencv.org/3.4.1/d2/de8/group__core__array.html#gad327659ac03e5fd6894b90025e6900a7) k transformaci zdrojových bodů do nového prostoru a vypočítejte reálnou vzdálenost, kterou vypište.**"
   ]
  },
  {
   "cell_type": "code",
   "execution_count": 8,
   "metadata": {},
   "outputs": [
    {
     "name": "stdout",
     "output_type": "stream",
     "text": [
      "D = 158.05 mm\n"
     ]
    }
   ],
   "source": [
    "pt_t_src = ...\n",
    "pt_t_dst = ...\n",
    "\n",
    "dist = ...\n",
    "print(f'D = {dist / 10:.02f} mm')"
   ]
  }
 ],
 "metadata": {
  "kernelspec": {
   "display_name": "Python [conda env:SVZ]",
   "language": "python",
   "name": "conda-env-SVZ-py"
  },
  "language_info": {
   "codemirror_mode": {
    "name": "ipython",
    "version": 3
   },
   "file_extension": ".py",
   "mimetype": "text/x-python",
   "name": "python",
   "nbconvert_exporter": "python",
   "pygments_lexer": "ipython3",
   "version": "3.6.6"
  }
 },
 "nbformat": 4,
 "nbformat_minor": 2
}
