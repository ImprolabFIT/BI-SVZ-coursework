{
 "cells": [
  {
   "cell_type": "code",
   "execution_count": null,
   "id": "a1ee0e33",
   "metadata": {},
   "outputs": [],
   "source": [
    "import os\n",
    "import io\n",
    "\n",
    "import cv2\n",
    "import numpy as np\n",
    "import matplotlib.pyplot as plt\n",
    "\n",
    "from improutils import *\n",
    "\n",
    "%matplotlib inline\n",
    "np.set_printoptions(formatter={'float': lambda x: \"{0:0.3f}\".format(x)})"
   ]
  },
  {
   "cell_type": "code",
   "execution_count": null,
   "id": "dde65367",
   "metadata": {},
   "outputs": [],
   "source": [
    "from ipywidgets import interact, interactive, fixed, interact_manual\n",
    "import ipywidgets as widgets\n",
    "def create_slider(min, max, description):\n",
    "    return widgets.IntRangeSlider( min=min, max=max, step=1,value=[min,max], \n",
    "                                   description=description.ljust(30,'\\xa0'), \n",
    "                                   continuous_update=False, \n",
    "                                   orientation='horizontal',\n",
    "                                   style=dict(description_width='initial'),\n",
    "                                   layout=widgets.Layout(width='auto', grid_area='header'),\n",
    "                                  )"
   ]
  }
 ],
 "metadata": {
  "kernelspec": {
   "display_name": "Python 3 (ipykernel)",
   "language": "python",
   "name": "python3"
  },
  "language_info": {
   "codemirror_mode": {
    "name": "ipython",
    "version": 3
   },
   "file_extension": ".py",
   "mimetype": "text/x-python",
   "name": "python",
   "nbconvert_exporter": "python",
   "pygments_lexer": "ipython3",
   "version": "3.8.8"
  }
 },
 "nbformat": 4,
 "nbformat_minor": 5
}
