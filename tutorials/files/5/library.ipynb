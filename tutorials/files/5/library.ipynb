{
 "cells": [
  {
   "cell_type": "code",
   "execution_count": null,
   "id": "a1ee0e33",
   "metadata": {},
   "outputs": [],
   "source": [
    "import os\n",
    "import io\n",
    "\n",
    "import cv2\n",
    "import numpy as np\n",
    "import matplotlib.pyplot as plt\n",
    "\n",
    "from improutils import *\n",
    "\n",
    "%matplotlib inline\n",
    "np.set_printoptions(formatter={'float': lambda x: \"{0:0.3f}\".format(x)})"
   ]
  },
  {
   "cell_type": "code",
   "execution_count": null,
   "id": "dde65367",
   "metadata": {},
   "outputs": [],
   "source": [
    "from ipywidgets import interact, interactive, fixed, interact_manual\n",
    "import ipywidgets as widgets\n",
    "def create_slider(min, max, description):\n",
    "    return widgets.IntRangeSlider( min=min, max=max, step=1,value=[min,max], \n",
    "                                   description=description.ljust(30,'\\xa0'), \n",
    "                                   continuous_update=False, \n",
    "                                   orientation='horizontal',\n",
    "                                   style=dict(description_width='initial'),\n",
    "                                   layout=widgets.Layout(width='auto', grid_area='header'),\n",
    "                                  )"
   ]
  },
  {
   "cell_type": "code",
   "execution_count": null,
   "id": "67f647a6",
   "metadata": {},
   "outputs": [],
   "source": [
    "### interact slider template for segmentation\n",
    "\n",
    "# @interact(value=create_slider(min=0, max=255, description='Value'))\n",
    "# def _(value):\n",
    "#     mask = ...(red, value[0], value[1]) ###\n",
    "#     plot_images(mask, red, titles=['Segmentation', 'Original'])"
   ]
  },
  {
   "cell_type": "code",
   "execution_count": null,
   "id": "1826f4ed",
   "metadata": {},
   "outputs": [],
   "source": [
    "def find_holes(img_bin,min_area = 0, max_area=1000000,fill = True):\n",
    "    \"\"\"\n",
    "    Finds inner contours of holes in binary image and filters them using their area. Then it draws binary image from filtered contours. It counts contours as well.\n",
    "\n",
    "    Parameters\n",
    "    ----------\n",
    "    img_bin : ndarray\n",
    "        Input binary image.\n",
    "    min_area : int\n",
    "        Size of contour that is used to filter all smaller contours out.\n",
    "    max_area : int\n",
    "        Size of contour that is used to filter all larger contours out.\n",
    "    Returns\n",
    "    -------\n",
    "    contour_drawn : ndarray\n",
    "        Output binary image with drawn filled filtered contours.\n",
    "    count : int\n",
    "        Number of found and filtered contours.\n",
    "    contours : list\n",
    "        Found contours.\n",
    "    \"\"\"\n",
    "\n",
    "    contours, hierarchy = cv2.findContours(img_bin,cv2.RETR_CCOMP,cv2.CHAIN_APPROX_SIMPLE)\n",
    "    # filter out only hole contours (contours that are inside another contour)\n",
    "    # for more info about hierarchy retrieval modes visit: https://docs.opencv.org/4.x/d9/d8b/tutorial_py_contours_hierarchy.html\n",
    "    hole_indices = [ i for i in range(len(hierarchy[0])) if hierarchy[0,i,-1] != -1]    \n",
    "    # filter out contours by area\n",
    "    contours = [contours[hole_index] for hole_index in hole_indices if min_area < cv2.contourArea(contours[hole_index]) <= max_area]\n",
    "    # draw contours\n",
    "    thick = cv2.FILLED\n",
    "    if not fill: thick = 2\n",
    "    contours_drawn = cv2.drawContours(np.zeros(img_bin.shape, dtype=np.uint8), contours, -1, color=(255, 255, 255),thickness=thick)\n",
    "    return contours_drawn, len(contours), contours"
   ]
  },
  {
   "cell_type": "code",
   "execution_count": null,
   "id": "d1d9bf54",
   "metadata": {},
   "outputs": [
    {
     "ename": "",
     "evalue": "",
     "output_type": "error",
     "traceback": [
      "\u001b[1;31mRunning cells with 'Python 3.11.2 64-bit' requires ipykernel package.\n",
      "\u001b[1;31mRun the following command to install 'ipykernel' into the Python environment. \n",
      "\u001b[1;31mCommand: '/opt/homebrew/bin/python3 -m pip install ipykernel -U --user --force-reinstall'"
     ]
    }
   ],
   "source": [
    "def ocr(img_bin):\n",
    "    \"\"\"\n",
    "    Detects text in the file.\n",
    "\n",
    "    Parameters\n",
    "    ----------\n",
    "    img_bin : ndarray\n",
    "        Input binary image. White objects on black background.\n",
    "    Returns\n",
    "    -------\n",
    "    The recognized text in the image.\n",
    "    \"\"\"\n",
    "    # Tesseract works with black objects on white background.\n",
    "    config = r' -l eng --psm 6'\n",
    "    img_bin = negative(img_bin)\n",
    "    return pytesseract.image_to_string(img_bin, config=config)\n"
   ]
  },
  {
   "cell_type": "code",
   "execution_count": null,
   "id": "17b2a9b6",
   "metadata": {},
   "outputs": [],
   "source": []
  }
 ],
 "metadata": {
  "kernelspec": {
   "display_name": "Python 3.8.16 ('img_proc')",
   "language": "python",
   "name": "python3"
  },
  "language_info": {
   "codemirror_mode": {
    "name": "ipython",
    "version": 3
   },
   "file_extension": ".py",
   "mimetype": "text/x-python",
   "name": "python",
   "nbconvert_exporter": "python",
   "pygments_lexer": "ipython3",
   "version": "3.8.16"
  },
  "vscode": {
   "interpreter": {
    "hash": "20d1c7c90abef66b84c3171a16fd7a5dd756a144f522d6dd518aed98b933cca3"
   }
  }
 },
 "nbformat": 4,
 "nbformat_minor": 5
}
