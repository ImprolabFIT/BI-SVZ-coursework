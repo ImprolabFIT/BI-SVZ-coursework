{
 "cells": [
  {
   "cell_type": "markdown",
   "metadata": {},
   "source": [
    "# Segmentace obrazu - text a jeho čtení\n",
    "Cvičení je zaměřené na správné využití osvětlení při nasvícení objektu a následné využití metod pro segmentaci obrazu. Novinkou ve cvičení je využití OCR (optical character recognition) k převodu obrazu na text.\n",
    "\n",
    "<img src=\"images/ocr.png\" width=\"300\">\n",
    "\n",
    "Ke čtení je využita knihovna [**Tesseract OCR**](https://github.com/tesseract-ocr/tesseract)."
   ]
  },
  {
   "cell_type": "markdown",
   "metadata": {},
   "source": [
    "### Import knihoven a konfigurace"
   ]
  },
  {
   "cell_type": "code",
   "execution_count": null,
   "metadata": {
    "ExecuteTime": {
     "end_time": "2020-03-19T19:44:40.457781Z",
     "start_time": "2020-03-19T19:44:39.617640Z"
    }
   },
   "outputs": [],
   "source": [
    "%run ../svz.ipynb"
   ]
  },
  {
   "cell_type": "markdown",
   "metadata": {},
   "source": [
    "### Pomocné funkce\n",
    "Z následujících funkcí je potřeba vybírat ty vhodné pro splnění úkolu."
   ]
  },
  {
   "cell_type": "markdown",
   "metadata": {},
   "source": [
    "Seznam funkcí pro přehlednost:\n",
    "- [`connect_camera(...)`](../svz.ipynb#connect_functions)\n",
    "- [`show_images(...)`](../svz.ipynb#show_functions)\n",
    "- [`plot_images(...)`](../svz.ipynb#show_functions)\n",
    "\n",
    "\n",
    "- [`to_gray(...)`](../svz.ipynb#preprocessing_functions)\n",
    "- [`to_hsv(...)`](../svz.ipynb#preprocessing_functions)\n",
    "- [`negative(...)`](../svz.ipynb#preprocessing_functions)\n",
    "- [`crop(...)`](../svz.ipynb#preprocessing_functions)\n",
    "\n",
    "\n",
    "- [`segmentation_one_threshold(...)`](../svz.ipynb#segmentation_functions)\n",
    "- [`segmentation_auto_threshold(...)`](../svz.ipynb#segmentation_functions)\n",
    "- [`segmentation_two_thresholds(...)`](../svz.ipynb#segmentation_functions)\n",
    "- [`segmentation_adaptive_threshold(...)`](../svz.ipynb#segmentation_functions)\n",
    "- [`find_contours(...)`](../svz.ipynb#segmentation_functions)\n",
    "\n",
    "\n",
    "- [`filtration_median(...)`](../svz.ipynb#filtration_functions)\n",
    "- [`fill_holes(...)`](../svz.ipynb#filtration_functions)\n",
    "\n",
    "\n",
    "- [`ocr(...)`](../svz.ipynb#ocr)\n",
    "\n",
    "\n",
    "- [`to_intensity(...)`](../svz.ipynb#others)"
   ]
  },
  {
   "cell_type": "markdown",
   "metadata": {},
   "source": [
    "---"
   ]
  },
  {
   "cell_type": "markdown",
   "metadata": {},
   "source": [
    "### Úkol\n",
    "Zvolte vhodné funkce pro segmentaci obrazu a přečtěte text na obrazu snímaném kamerou.\n",
    "\n",
    "Po vyladění algoritmu, využijte obrázek z kamery a nechte ho přečíst OCR. V případě, že výsledek bude po porovnání `True`, úkol jste splnili."
   ]
  },
  {
   "cell_type": "markdown",
   "metadata": {},
   "source": [
    "#### 1) Načtěte data pouze kostek \"FIT\" a zobrazte\n",
    "Naučte se využívat funkci `plot_images()`, je přehlednější pro zobrazení dat v rámci jupyter notebooku."
   ]
  },
  {
   "cell_type": "code",
   "execution_count": null,
   "metadata": {
    "ExecuteTime": {
     "end_time": "2020-03-19T20:44:48.769245Z",
     "start_time": "2020-03-19T20:44:48.419667Z"
    }
   },
   "outputs": [],
   "source": [
    "path = '.../' ### nezapomeňte cestu zakončit '/'\n",
    "files = os.listdir(path)\n",
    "\n",
    "images = []\n",
    "\n",
    "for f in files:\n",
    "    if '...' in f: ### najděte společný string v rámci jména pro jednoduchou filtraci\n",
    "        image = ...(path + f) ### načtěte obrázek\n",
    "        images.append(image)\n",
    "        \n",
    "print('Celkem nalezených obrázků: ' + str(len(images)))"
   ]
  },
  {
   "cell_type": "code",
   "execution_count": null,
   "metadata": {
    "ExecuteTime": {
     "end_time": "2020-03-19T20:34:03.763363Z",
     "start_time": "2020-03-19T20:34:00.923853Z"
    }
   },
   "outputs": [],
   "source": [
    "plot_images(*images) ### zobrazte obrázky"
   ]
  },
  {
   "cell_type": "markdown",
   "metadata": {},
   "source": [
    "#### 2) Doplňte funkční verze algoritmů pro nasvícení jednotlivými typy světel.\n",
    "Výstupem každého algoritmu by měl být binární obraz, kde pozadí má černou barvu a objekty (popředí) bílou."
   ]
  },
  {
   "cell_type": "markdown",
   "metadata": {},
   "source": [
    "**2a)** Funkce pro segmentaci referenčních obrazců (černo-bílých). Osvětlení žádné navíc (při nízkých světelných podmínkách lze využít světlo DOME)."
   ]
  },
  {
   "cell_type": "code",
   "execution_count": null,
   "metadata": {
    "ExecuteTime": {
     "end_time": "2020-03-19T20:27:04.207515Z",
     "start_time": "2020-03-19T20:27:04.203410Z"
    }
   },
   "outputs": [],
   "source": [
    "def algorithm_reference_1(img):\n",
    "    ###\n",
    "    \n",
    "    return img_bin\n",
    "\n",
    "def algorithm_reference_2(img):\n",
    "    ###\n",
    "    \n",
    "    return img_bin\n",
    "\n",
    "def algorithm_reference_3(img):\n",
    "    ###\n",
    "    \n",
    "    return img_bin\n",
    "\n",
    "def algorithm_reference_4(img):\n",
    "    ###\n",
    "    \n",
    "    return img_bin\n",
    "\n",
    "algorithms_ref = [algorithm_reference_1, algorithm_reference_2, algorithm_reference_3, algorithm_reference_4]"
   ]
  },
  {
   "cell_type": "code",
   "execution_count": null,
   "metadata": {
    "ExecuteTime": {
     "end_time": "2020-03-19T20:30:39.036774Z",
     "start_time": "2020-03-19T20:30:38.224352Z"
    }
   },
   "outputs": [],
   "source": [
    "im_ids = [...] ### lze postupně doplňovat jak algoritmy, tak image_ids a tím postupovat v cyklu\n",
    "results_ref = []\n",
    "\n",
    "# Pro každý obrázek vyzkouší jeho příslušný algoritmus\n",
    "for i, im_id in enumerate(im_ids):\n",
    "    image_ref = images[im_id]\n",
    "    image_crop = crop(image_ref, ..., ..., ..., ...) ###\n",
    "    \n",
    "    result = algorithms_ref[i](image_crop)\n",
    "    results_ref.append(result)\n",
    "\n",
    "plot_images(*results_ref)"
   ]
  },
  {
   "cell_type": "markdown",
   "metadata": {},
   "source": [
    "**2b)** Funkce pro segmentaci obrazců s využitím osvětlení typu darkfield (konzole se 4 bar světly)."
   ]
  },
  {
   "cell_type": "code",
   "execution_count": null,
   "metadata": {
    "ExecuteTime": {
     "end_time": "2020-03-19T20:51:39.314791Z",
     "start_time": "2020-03-19T20:51:39.309699Z"
    },
    "run_control": {
     "marked": false
    }
   },
   "outputs": [],
   "source": [
    "def algorithm_console_1(img):\n",
    "    ###\n",
    "    \n",
    "    return img_bin\n",
    "\n",
    "def algorithm_console_2(img):\n",
    "    ###\n",
    "    \n",
    "    return img_bin\n",
    "\n",
    "def algorithm_console_3(img):\n",
    "    ###\n",
    "    \n",
    "    return img_bin\n",
    "\n",
    "algorithms_console = [algorithm_console_1, algorithm_console_2, algorithm_console_3]"
   ]
  },
  {
   "cell_type": "code",
   "execution_count": null,
   "metadata": {
    "ExecuteTime": {
     "end_time": "2020-03-19T20:51:40.162910Z",
     "start_time": "2020-03-19T20:51:39.320212Z"
    },
    "run_control": {
     "marked": false
    },
    "scrolled": false
   },
   "outputs": [],
   "source": [
    "im_ids = [...] ### lze postupně doplňovat jak algoritmy, tak image_ids a tím postupovat v cyklu\n",
    "results_console = []\n",
    "\n",
    "# Pro každý obrázek vyzkouší jeho příslušný algoritmus\n",
    "for i, im_id in enumerate(im_ids):\n",
    "    image_console = images[im_id]    \n",
    "    image_crop = crop(image_console, ..., ..., ..., ...) ###\n",
    "    \n",
    "    result = algorithms_console[i](image_crop)\n",
    "    results_console.append(result)\n",
    "\n",
    "plot_images(*results_console)"
   ]
  },
  {
   "cell_type": "markdown",
   "metadata": {},
   "source": [
    "#### 4) Využijte OCR na výsledný binární obrázek\n",
    "**POZOR:** Dokud nebude vstupní obraz vypadat přibližně následovně, **NEPOUŠTĚJTE** se do další části. Tesseract vyžaduje velkou míru předzpracování, aby byl schopný text úspěšně přečíst.\n",
    "\n",
    "<img src=\"images/fit_preprocessed.png\" width=\"200\">"
   ]
  },
  {
   "cell_type": "code",
   "execution_count": null,
   "metadata": {
    "ExecuteTime": {
     "end_time": "2020-03-19T21:05:37.698517Z",
     "start_time": "2020-03-19T21:05:36.590427Z"
    }
   },
   "outputs": [],
   "source": [
    "results = results_ref + results_console\n",
    "texts = []\n",
    "\n",
    "for image in results:\n",
    "    text = ocr(image) ###\n",
    "    print(text)\n",
    "    texts.append(text)"
   ]
  },
  {
   "cell_type": "markdown",
   "metadata": {},
   "source": [
    "#### 5) Zkontrolujte správnost"
   ]
  },
  {
   "cell_type": "code",
   "execution_count": null,
   "metadata": {
    "ExecuteTime": {
     "end_time": "2020-03-19T21:06:16.116949Z",
     "start_time": "2020-03-19T21:06:16.110972Z"
    }
   },
   "outputs": [],
   "source": [
    "ref_text = 'FIT'\n",
    "\n",
    "for i, text in enumerate(texts):\n",
    "    print('Přečtený text je: ' + text)\n",
    "    \n",
    "    if text == ref_text:\n",
    "        print('-> Úkol ' + str(i+1) + ' jste splnili!')\n",
    "    else:\n",
    "        print('-> Úkol je třeba dál ladit ...')    \n",
    "    print('')"
   ]
  }
 ],
 "metadata": {
  "kernelspec": {
   "display_name": "Python 3",
   "language": "python",
   "name": "python3"
  },
  "language_info": {
   "codemirror_mode": {
    "name": "ipython",
    "version": 3
   },
   "file_extension": ".py",
   "mimetype": "text/x-python",
   "name": "python",
   "nbconvert_exporter": "python",
   "pygments_lexer": "ipython3",
   "version": "3.7.6"
  }
 },
 "nbformat": 4,
 "nbformat_minor": 2
}
