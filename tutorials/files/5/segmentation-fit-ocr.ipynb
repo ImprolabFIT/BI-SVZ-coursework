{
 "cells": [
  {
   "cell_type": "markdown",
   "metadata": {},
   "source": [
    "# Segmentace obrazu - text a jeho čtení\n",
    "Cvičení je zaměřené na správné využití osvětlení při nasvícení objektu a následné využití metod pro segmentaci obrazu. Novinkou ve cvičení je využití OCR (optical character recognition) k převodu obrazu na text.\n",
    "\n",
    "<img src=\"images/ocr.png\" width=\"300\">\n",
    "\n",
    "Ke čtení je využita knihovna [**Tesseract OCR**](https://github.com/tesseract-ocr/tesseract)."
   ]
  },
  {
   "cell_type": "markdown",
   "metadata": {},
   "source": [
    "### Import knihoven a konfigurace"
   ]
  },
  {
   "cell_type": "code",
   "execution_count": null,
   "metadata": {
    "ExecuteTime": {
     "end_time": "2019-07-16T13:40:27.370329Z",
     "start_time": "2019-07-16T13:40:25.238392Z"
    }
   },
   "outputs": [],
   "source": [
    "import os\n",
    "import io\n",
    "\n",
    "import cv2\n",
    "import numpy as np\n",
    "import matplotlib.pyplot as plt\n",
    "\n",
    "from improutils import *\n",
    "from pypylon_opencv_viewer import BaslerOpenCVViewer\n",
    "\n",
    "%matplotlib inline\n",
    "np.set_printoptions(formatter={'float': lambda x: \"{0:0.3f}\".format(x)})\n"
   ]
  },
  {
   "cell_type": "markdown",
   "metadata": {},
   "source": [
    "### Pomocné funkce\n",
    "Z následujících funkcí je potřeba vybírat ty vhodné pro splnění úkolu."
   ]
  },
  {
   "cell_type": "markdown",
   "metadata": {},
   "source": [
    "Seznam funkcí pro přehlednost:\n",
    "\n",
    "- [`to_gray(...)`](../svz.ipynb#preprocessing_functions)\n",
    "- [`to_hsv(...)`](../svz.ipynb#preprocessing_functions)\n",
    "- [`negative(...)`](../svz.ipynb#preprocessing_functions)\n",
    "- [`crop(...)`](../svz.ipynb#preprocessing_functions)\n",
    "\n",
    "\n",
    "- [`segmentation_one_threshold(...)`](../svz.ipynb#segmentation_functions)\n",
    "- [`segmentation_auto_threshold(...)`](../svz.ipynb#segmentation_functions)\n",
    "- [`segmentation_two_thresholds(...)`](../svz.ipynb#segmentation_functions)\n",
    "- [`segmentation_adaptive_threshold(...)`](../svz.ipynb#segmentation_functions)\n",
    "- [`find_contours(...)`](../svz.ipynb#segmentation_functions)\n",
    "\n",
    "\n",
    "- [`filtration_median(...)`](../svz.ipynb#filtration_functions)\n",
    "- [`fill_holes(...)`](../svz.ipynb#filtration_functions)\n",
    "\n",
    "\n",
    "- [`ocr(...)`](../svz.ipynb#ocr)\n",
    "\n",
    "\n",
    "- [`to_intensity(...)`](../svz.ipynb#others)"
   ]
  },
  {
   "cell_type": "markdown",
   "metadata": {},
   "source": [
    "---"
   ]
  },
  {
   "cell_type": "markdown",
   "metadata": {},
   "source": [
    "### Úkol\n",
    "Zvolte vhodné funkce pro segmentaci obrazu a přečtěte text na obrazu snímaném kamerou.\n",
    "\n",
    "Po vyladění algoritmu, využijte obrázek z kamery a nechte ho přečíst OCR. V případě, že výsledek bude po porovnání `True`, úkol jste splnili.\n"
   ]
  },
  {
   "cell_type": "markdown",
   "metadata": {},
   "source": [
    "#### 1) Nasnímejte kostky FIT a zobrazte\n",
    "Snímky uložte do jedné složky. Použijte vhodné osvětlení!\n",
    "\n",
    "Naučte se využívat funkci `plot_images()`, je přehlednější pro zobrazení dat v rámci jupyter notebooku."
   ]
  },
  {
   "cell_type": "code",
   "execution_count": null,
   "metadata": {},
   "outputs": [],
   "source": [
    "path = ... ### nezapomeňte cestu zakončit '/'\n",
    "files = os.listdir(path)\n",
    "\n",
    "images = []\n",
    "\n",
    "for f in files:\n",
    "    image = load_image(path + f) ### načtěte obrázek\n",
    "    images.append(image)\n",
    "        \n",
    "print('Celkem nalezených obrázků: ' + str(len(images)))\n",
    "plot_images(*images) #zobrazte snímky"
   ]
  },
  {
   "cell_type": "markdown",
   "metadata": {},
   "source": [
    "#### 2) Doplňte funkční verze algoritmů pro nasvícení jednotlivých kostiček FIT\n",
    "Výstupem každého algoritmu by měl být binární obraz, kde pozadí má černou barvu a objekty (popředí) bílou. Binární obrázek zobrazte"
   ]
  },
  {
   "cell_type": "markdown",
   "metadata": {},
   "source": [
    "**2a)** Funkce pro segmentaci jednoduchého referenčního obrazce (černo-bílý)."
   ]
  },
  {
   "cell_type": "code",
   "execution_count": null,
   "metadata": {},
   "outputs": [],
   "source": [
    "def algorithm_easy(img):\n",
    "    ###\n",
    "    ...\n",
    "    \n",
    "    img = crop(...)\n",
    "    \n",
    "    ...\n",
    "\n",
    "    return img_bin"
   ]
  },
  {
   "cell_type": "code",
   "execution_count": null,
   "metadata": {},
   "outputs": [],
   "source": [
    "img_easy = images[...] ### doplňte index\n",
    "img_easy_bin = algorithm_easy(img_easy)\n",
    "plot_images(img_easy_bin)"
   ]
  },
  {
   "cell_type": "markdown",
   "metadata": {},
   "source": [
    "**2b)** Funkce pro segmentaci těžšího referenčního obrazce."
   ]
  },
  {
   "cell_type": "code",
   "execution_count": null,
   "metadata": {},
   "outputs": [],
   "source": [
    "def algorithm_hard(img):\n",
    "    ###\n",
    "    \n",
    "    ...\n",
    "    \n",
    "    img = crop(...)\n",
    "    \n",
    "    ...\n",
    "    \n",
    "    return img_bin"
   ]
  },
  {
   "cell_type": "code",
   "execution_count": null,
   "metadata": {},
   "outputs": [],
   "source": [
    "img_hard = images[...] ### doplňte index\n",
    "img_hard_bin = algorithm_hard(img_hard)\n",
    "plot_images(img_hard_bin)"
   ]
  },
  {
   "cell_type": "code",
   "execution_count": null,
   "metadata": {},
   "outputs": [],
   "source": [
    "images_preprocessed = [...] ### doplňte binární obrázky jednotlivých snímků"
   ]
  },
  {
   "cell_type": "markdown",
   "metadata": {},
   "source": [
    "#### 4) Využijte funkční algoritmus na snímky\n",
    "**POZOR:** Dokud nebude vstupní obraz vypadat následovně, **NEPOUŠTĚJTE** se do další části.\n",
    "\n",
    "<img src=\"images/fit_preprocessed.png\" width=\"200\">"
   ]
  },
  {
   "cell_type": "markdown",
   "metadata": {},
   "source": [
    "#### 5) Využijte OCR na výsledný binární obrázek"
   ]
  },
  {
   "cell_type": "code",
   "execution_count": null,
   "metadata": {
    "ExecuteTime": {
     "end_time": "2019-07-16T13:43:35.879870Z",
     "start_time": "2019-07-16T13:43:35.366730Z"
    }
   },
   "outputs": [],
   "source": [
    "texts = []\n",
    "for image in images_preprocessed:\n",
    "    text = ...(image) ###\n",
    "    print(text)\n",
    "    texts.append(text)"
   ]
  },
  {
   "cell_type": "markdown",
   "metadata": {},
   "source": [
    "#### 6) Zkontrolujte správnost"
   ]
  },
  {
   "cell_type": "code",
   "execution_count": null,
   "metadata": {
    "ExecuteTime": {
     "end_time": "2019-07-16T13:43:37.392280Z",
     "start_time": "2019-07-16T13:43:37.385295Z"
    }
   },
   "outputs": [],
   "source": [
    "ref_text = 'FIT'\n",
    "\n",
    "for i, text in enumerate(texts):\n",
    "    print('Přečtený text je: ' + text)\n",
    "    if text.strip() == ref_text:\n",
    "        print('-> Úkol ' + str(i+1) + ' jste splnili!\\n')\n",
    "    else:\n",
    "        print('-> Úkol je třeba dál ladit ...')    \n",
    "    print('')"
   ]
  },
  {
   "cell_type": "code",
   "execution_count": null,
   "metadata": {},
   "outputs": [],
   "source": []
  }
 ],
 "metadata": {
  "kernelspec": {
   "display_name": "Python 3 (ipykernel)",
   "language": "python",
   "name": "python3"
  },
  "language_info": {
   "codemirror_mode": {
    "name": "ipython",
    "version": 3
   },
   "file_extension": ".py",
   "mimetype": "text/x-python",
   "name": "python",
   "nbconvert_exporter": "python",
   "pygments_lexer": "ipython3",
   "version": "3.8.8"
  }
 },
 "nbformat": 4,
 "nbformat_minor": 2
}
