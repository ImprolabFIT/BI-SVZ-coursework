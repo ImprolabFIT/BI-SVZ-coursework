{
 "cells": [
  {
   "cell_type": "markdown",
   "metadata": {},
   "source": [
    "# Segmentace obrazu - text a jeho čtení\n",
    "Cvičení je zaměřené na správné využití osvětlení při nasvícení objektu a následné využití metod pro segmentaci obrazu. Novinkou ve cvičení je využití OCR (optical character recognition) k převodu obrazu na text.\n",
    "\n",
    "<img src=\"images/ocr.png\" width=\"300\">\n",
    "\n",
    "Ke čtení je využita knihovna [**Tesseract OCR**](https://github.com/tesseract-ocr/tesseract)."
   ]
  },
  {
   "cell_type": "markdown",
   "metadata": {},
   "source": [
    "### Import knihoven a konfigurace"
   ]
  },
  {
   "cell_type": "code",
   "execution_count": null,
   "metadata": {},
   "outputs": [],
   "source": [
    "%run ../svz.ipynb"
   ]
  },
  {
   "cell_type": "markdown",
   "metadata": {},
   "source": [
    "### Pomocné funkce\n",
    "Z následujících funkcí je potřeba vybírat ty vhodné pro splnění úkolu."
   ]
  },
  {
   "cell_type": "markdown",
   "metadata": {},
   "source": [
    "Seznam funkcí pro přehlednost:\n",
    "- [`connect_camera(...)`](../svz.ipynb#connect_functions)\n",
    "- [`show_images(...)`](../svz.ipynb#show_functions)\n",
    "\n",
    "\n",
    "- [`to_gray(...)`](../svz.ipynb#preprocessing_functions)\n",
    "- [`to_hsv(...)`](../svz.ipynb#preprocessing_functions)\n",
    "- [`negative(...)`](../svz.ipynb#preprocessing_functions)\n",
    "- [`crop(...)`](../svz.ipynb#preprocessing_functions)\n",
    "\n",
    "\n",
    "- [`segmentation_one_threshold(...)`](../svz.ipynb#segmentation_functions)\n",
    "- [`segmentation_auto_threshold(...)`](../svz.ipynb#segmentation_functions)\n",
    "- [`segmentation_two_thresholds(...)`](../svz.ipynb#segmentation_functions)\n",
    "- [`segmentation_adaptive_threshold(...)`](../svz.ipynb#segmentation_functions)\n",
    "- [`find_contours(...)`](../svz.ipynb#segmentation_functions)\n",
    "\n",
    "\n",
    "- [`filtration_median(...)`](../svz.ipynb#filtration_functions)\n",
    "- [`fill_holes(...)`](../svz.ipynb#filtration_functions)\n",
    "\n",
    "\n",
    "- [`ocr(...)`](../svz.ipynb#ocr)\n",
    "\n",
    "\n",
    "- [`to_intensity(...)`](../svz.ipynb#others)"
   ]
  },
  {
   "cell_type": "markdown",
   "metadata": {},
   "source": [
    "---"
   ]
  },
  {
   "cell_type": "markdown",
   "metadata": {},
   "source": [
    "### Úkol\n",
    "Zvolte vhodné funkce pro segmentaci obrazu a přečtěte text na obrazu snímaném kamerou.\n",
    "\n",
    "Pro testování algoritmu využijte funkci `algorithm()`. Funkce je vložena do snímání kamery. Je tak možné v reálném čase pozorovat, co se s obrazem děje. Po změně obsahu funkce je však potřeba načíst znovu i blok pro spuštění snímání z kamery.\n",
    "\n",
    "Po vyladění algoritmu, využijte obrázek z kamery a nechte ho přečíst OCR. V případě, že výsledek bude po porovnání `True`, úkol jste splnili."
   ]
  },
  {
   "cell_type": "markdown",
   "metadata": {},
   "source": [
    "#### 1) Nastavte správně kameru."
   ]
  },
  {
   "cell_type": "code",
   "execution_count": null,
   "metadata": {},
   "outputs": [],
   "source": [
    "serial_number = '' ### vlastní sériové číslo kamery\n",
    "width = 1280\n",
    "height = 720\n",
    "\n",
    "camera = ...(serial_number) ###"
   ]
  },
  {
   "cell_type": "markdown",
   "metadata": {},
   "source": [
    "#### 2) Doplňte funkční verze algoritmů pro nasvícení jednotlivými typy světel.\n",
    "Výstupem každého algoritmu by měl být binární obraz, kde pozadí má černou barvu a objekty (popředí) bílou. Obrázky uložte."
   ]
  },
  {
   "cell_type": "markdown",
   "metadata": {},
   "source": [
    "**2a)** Funkce pro segmentaci referenčního obrazce (černo-bílý). Osvětlení žádné navíc (při nízkých světelných podmínkách lze využít světlo DOME)."
   ]
  },
  {
   "cell_type": "code",
   "execution_count": null,
   "metadata": {},
   "outputs": [],
   "source": [
    "def algorithm_reference(img):\n",
    "    ###\n",
    "    \n",
    "    return ... ###"
   ]
  },
  {
   "cell_type": "markdown",
   "metadata": {},
   "source": [
    "**2b)** Funkce pro segmentaci obrazce s využitím osvětlení pomocí dvou plošných světel typu bar."
   ]
  },
  {
   "cell_type": "code",
   "execution_count": null,
   "metadata": {},
   "outputs": [],
   "source": [
    "def algorithm_two_bars(img):\n",
    "    ###\n",
    "    \n",
    "    return ... ###"
   ]
  },
  {
   "cell_type": "markdown",
   "metadata": {},
   "source": [
    "**2c*)** Dobrovolná funkce pro segmentaci obrazce s využitím osvětlení typu dark field (konzole se 4 bar světly)."
   ]
  },
  {
   "cell_type": "code",
   "execution_count": null,
   "metadata": {},
   "outputs": [],
   "source": [
    "def algorithm_console(img):\n",
    "    ###\n",
    "    \n",
    "    return ... ###"
   ]
  },
  {
   "cell_type": "markdown",
   "metadata": {},
   "source": [
    "Definuje obsah funkce pro zpracování obrazu, konkrétně jeho segmentaci. Je třeba měnit právě upravovaný algoritmus."
   ]
  },
  {
   "cell_type": "code",
   "execution_count": null,
   "metadata": {},
   "outputs": [],
   "source": [
    "def impro(img):\n",
    "    res = algorithm_reference(img) ###\n",
    "\n",
    "    show_camera_window(res, 1)\n",
    "    return res"
   ]
  },
  {
   "cell_type": "markdown",
   "metadata": {},
   "source": [
    "#### 3) Spusťte snímání a testujte algoritmus pro zpracování obrazu."
   ]
  },
  {
   "cell_type": "markdown",
   "metadata": {},
   "source": [
    "Info k oknu:\n",
    "- Pro spuštění okna kamery je zapotřebí kliknout na tlačítko `Run Interact`. \n",
    "- Okno kamery se vypne stisknutím tlačítka `q`.\n",
    "- Obrázek se uloží stisknutím tlačítka `s`.\n",
    "- Po kliku levého tlačítka myši se vytisknou souřadnice místa v obraze.\n",
    "- Pro projevení změn v nastavení pomocí GUI prvků je nutné ukončit okno kamery a znovu ho spustit."
   ]
  },
  {
   "cell_type": "code",
   "execution_count": null,
   "metadata": {},
   "outputs": [],
   "source": [
    "from pypylon_opencv_viewer import BaslerOpenCVViewer\n",
    "    \n",
    "viewer = BaslerOpenCVViewer(camera)\n",
    "viewer.set_features(FEATURES)\n",
    "viewer.set_impro_function(impro)\n",
    "viewer.run_interaction_continuous_shot(window_size=(width, height))"
   ]
  },
  {
   "cell_type": "markdown",
   "metadata": {},
   "source": [
    "#### 4) Využijte funkční algoritmus na uložené obrázky z kamery.\n",
    "**POZOR:** Dokud nebude vstupní obraz vypadat následovně, **NEPOUŠTĚJTE** se do další části.\n",
    "\n",
    "<img src=\"images/fit_preprocessed.png\" width=\"200\">"
   ]
  },
  {
   "cell_type": "code",
   "execution_count": null,
   "metadata": {
    "scrolled": true
   },
   "outputs": [],
   "source": [
    "# Celkem 3 obrázky\n",
    "image_paths = [\n",
    "    ### \n",
    "]\n",
    "\n",
    "# Načtení obrazů\n",
    "images_preprocessed = []\n",
    "for image_path in image_paths:\n",
    "    images_preprocessed.append(to_gray(load_image((image_path)))"
   ]
  },
  {
   "cell_type": "markdown",
   "metadata": {},
   "source": [
    "#### 5) Využijte OCR na výsledný binární obrázek"
   ]
  },
  {
   "cell_type": "code",
   "execution_count": null,
   "metadata": {},
   "outputs": [],
   "source": [
    "texts = []\n",
    "for image in images_preprocessed:\n",
    "    text = ...(image) ###\n",
    "    print(text)\n",
    "    texts.append(text)"
   ]
  },
  {
   "cell_type": "markdown",
   "metadata": {},
   "source": [
    "#### 6) Zkontrolujte správnost"
   ]
  },
  {
   "cell_type": "code",
   "execution_count": null,
   "metadata": {},
   "outputs": [],
   "source": [
    "ref_text = 'FIT'\n",
    "\n",
    "for i, text in enumerate(texts):\n",
    "    print('Přečtený text je: ' + text)\n",
    "    \n",
    "    if text == ref_text:\n",
    "        print('-> Úkol ' + str(i+1) + ' jste splnili!')\n",
    "    else:\n",
    "        print('-> Úkol je třeba dál ladit ...')    \n",
    "    print('')"
   ]
  }
 ],
 "metadata": {
  "kernelspec": {
   "display_name": "Python [default]",
   "language": "python",
   "name": "python3"
  },
  "language_info": {
   "codemirror_mode": {
    "name": "ipython",
    "version": 3
   },
   "file_extension": ".py",
   "mimetype": "text/x-python",
   "name": "python",
   "nbconvert_exporter": "python",
   "pygments_lexer": "ipython3",
   "version": "3.6.6"
  }
 },
 "nbformat": 4,
 "nbformat_minor": 2
}
