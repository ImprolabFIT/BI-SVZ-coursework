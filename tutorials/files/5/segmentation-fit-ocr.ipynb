{
 "cells": [
  {
   "cell_type": "markdown",
   "metadata": {},
   "source": [
    "# Segmentace obrazu - text a jeho čtení\n",
    "Cvičení je zaměřené na správné využití osvětlení při nasvícení objektu a následné využití metod pro segmentaci obrazu. Segmentovaný snímek je převeden na text pomocí OCR (optical character recognition).\n",
    "\n",
    "<img src=\"images/ocr.png\" width=\"300\">\n",
    "\n",
    "Ke čtení je využita knihovna [**Tesseract OCR**](https://github.com/tesseract-ocr/tesseract)."
   ]
  },
  {
   "cell_type": "markdown",
   "metadata": {},
   "source": [
    "### Import knihoven a konfigurace"
   ]
  },
  {
   "cell_type": "code",
   "execution_count": null,
   "metadata": {
    "ExecuteTime": {
     "end_time": "2019-07-16T13:40:27.370329Z",
     "start_time": "2019-07-16T13:40:25.238392Z"
    }
   },
   "outputs": [],
   "source": [
    "%run ./library.ipynb"
   ]
  },
  {
   "cell_type": "markdown",
   "metadata": {},
   "source": [
    "### Pomocné funkce\n",
    "Z následujících funkcí je potřeba vybírat ty vhodné pro splnění úkolu. Parametry a implementaci funkcí si můžete zobrazit pomocí příkazu `help(function_name)` nebo na https://gitlab.fit.cvut.cz/bi-svz/improutils_package/tree/master/improutils."
   ]
  },
  {
   "cell_type": "markdown",
   "metadata": {},
   "source": [
    "Seznam funkcí pro přehlednost:\n",
    "\n",
    "- [`to_gray(...)`](https://gitlab.fit.cvut.cz/bi-svz/improutils_package/blob/master/improutils/preprocessing/preprocessing.py#L4)\n",
    "- [`negative(...)`](https://gitlab.fit.cvut.cz/bi-svz/improutils_package/blob/master/improutils/preprocessing/preprocessing.py#L53)\n",
    "- [`crop(...)`](https://gitlab.fit.cvut.cz/bi-svz/improutils_package/blob/master/improutils/preprocessing/preprocessing.py#L99)\n",
    "\n",
    "- [`rotate(...)`](https://gitlab.fit.cvut.cz/bi-svz/improutils_package/blob/master/improutils/preprocessing/preprocessing.py#L184)\n",
    "\n",
    "- [`segmentation_one_threshold(...)`](https://gitlab.fit.cvut.cz/bi-svz/improutils_package/-/blob/master/improutils/segmentation/segmentation.py#L56)\n",
    "- [`segmentation_auto_threshold(...)`](https://gitlab.fit.cvut.cz/bi-svz/improutils_package/-/blob/master/improutils/segmentation/segmentation.py#L74)\n",
    "- [`segmentation_two_thresholds(...)`](https://gitlab.fit.cvut.cz/bi-svz/improutils_package/-/blob/master/improutils/segmentation/segmentation.py#L90)\n",
    "- [`segmentation_adaptive_threshold(...)`](https://gitlab.fit.cvut.cz/bi-svz/improutils_package/-/blob/master/improutils/segmentation/segmentation.py#L109), vysvětlení [použití](https://courses.fit.cvut.cz/BI-SVZ/showroom/adaptive_thresholding/index.html)\n",
    "\n",
    "- [`find_contours(...)`](https://gitlab.fit.cvut.cz/bi-svz/improutils_package/-/blob/master/improutils/preprocessing/contours.py#L40)\n",
    "- [`fill_holes(...)`](https://gitlab.fit.cvut.cz/bi-svz/improutils_package/-/blob/master/improutils/preprocessing/contours.py#L74)\n",
    "\n",
    "- [`filtration_median(...)`](https://gitlab.fit.cvut.cz/bi-svz/improutils_package/-/blob/master/improutils/filtration/filtration.py#L22)\n",
    "\n",
    "- [`ocr(...)`](https://gitlab.fit.cvut.cz/bi-svz/improutils_package/-/blob/master/improutils/recognition/ocr.py#L7)\n",
    "\n",
    "- [`cv2.morphologyEx(...)`](https://gitlab.fit.cvut.cz/bi-svz/improutils_package/blob/master/improutils/), vysvětlení [použití](https://courses.fit.cvut.cz/BI-SVZ/showroom/morfologie/index.html)\n",
    "- [`cv2.dilate(...)`](https://gitlab.fit.cvut.cz/bi-svz/improutils_package/blob/master/improutils/), vysvětlení [použití](https://courses.fit.cvut.cz/BI-SVZ/showroom/morfologie/index.html)\n",
    "- [`cv2.erode(...)`](https://gitlab.fit.cvut.cz/bi-svz/improutils_package/blob/master/improutils/), vysvětlení [použití](https://courses.fit.cvut.cz/BI-SVZ/showroom/morfologie/index.html)\n",
    "\n",
    "- `find_holes(...)`, nachází se v souboru *library.ipynb*\n",
    "- template pro `interact slider`, jenž můžete (ale nemusíte) použít při segmentaci, je také v souboru *library.ipynb*"
   ]
  },
  {
   "cell_type": "markdown",
   "metadata": {},
   "source": [
    "---"
   ]
  },
  {
   "cell_type": "markdown",
   "metadata": {},
   "source": [
    "### Úkoly\n",
    "\n",
    "1. Změřte velikost placky s nápisem FIT v pixelech - výška, šířka.\n",
    "\n",
    "1. Zvolte vhodné funkce pro segmentaci obrazu a přečtěte text z obrázku snímaném kamerou. Po vyladění algoritmu, využijte předzpracovaný obrázek a nechte ho přečíst OCR. V případě, že výsledek bude po porovnání `True`, úkol jste splnili.\n",
    "\n",
    "Pro každý z úkolů je nutné zvolit vhodný typ osvětlení a následně placku nasnímat monochromatickou kamerou. Na každý úkol bude v ideálním případě potřeba jiný snímek. Volba vhodného nasvícení usnadní algoritmickou část úkolu. Při špatné volbě osvětlení nebude úkol uznán!"
   ]
  },
  {
   "cell_type": "markdown",
   "metadata": {},
   "source": [
    "#### 1) Nasnímejte placky s nápisem FIT a zobrazte.\n",
    "Snímky uložte do jedné složky. Použijte vhodné osvětlení!"
   ]
  },
  {
   "cell_type": "code",
   "execution_count": null,
   "metadata": {},
   "outputs": [],
   "source": [
    "path = ... ### nezapomeňte cestu zakončit '/'\n",
    "files = os.listdir(path)\n",
    "\n",
    "images = []\n",
    "\n",
    "for f in files:\n",
    "    image = load_image(path + f) ### načtěte obrázek\n",
    "    images.append(image)\n",
    "        \n",
    "print('Celkem nalezených obrázků: ' + str(len(images)))\n",
    "plot_images(*images) #zobrazte snímky"
   ]
  },
  {
   "cell_type": "markdown",
   "metadata": {},
   "source": [
    "#### 2) Změřte rozměry placky v pixelech\n",
    "\n",
    "Úkolem je ze snímku segmentovat placku a změřit její rozměry - výška, šířka v pixelech.\n",
    "\n",
    "Rozměry jsou vykresleny do původního snímku viz. obrázek. Pro pozicování textu a obrysu placky využijte znalost kontury, ze které byly hodnoty vypočítány.\n",
    "\n",
    "<img src=\"images/measures_ref.png\" width=\"300\">"
   ]
  },
  {
   "cell_type": "code",
   "execution_count": null,
   "metadata": {},
   "outputs": [],
   "source": [
    "def measurement_algorithm(img):\n",
    "    \n",
    "    ### algoritmus segmentace a měření placky\n",
    "    \n",
    "    ...\n",
    "    \n",
    "    height, width = ... ###\n",
    "    sizes_drawn = img.copy()\n",
    "    points = ... ###\n",
    "\n",
    "    cv2.line(sizes_drawn, points[0], points[1], color=(255, 0, 0), thickness=3)\n",
    "    cv2.putText(sizes_drawn, \"{:.2f} px\".format(width), points[0], 0, 1.5, (0, 0, 255), 2)\n",
    "    \n",
    "    cv2.line(sizes_drawn, points[1], points[2], color=(255, 0, 0), thickness=3)\n",
    "    cv2.putText(sizes_drawn, \"{:.2f} px\".format(height), points[2], 0, 1.5, (0, 0, 255), 2)\n",
    "\n",
    "    return mask, sizes_drawn"
   ]
  },
  {
   "cell_type": "code",
   "execution_count": null,
   "metadata": {},
   "outputs": [],
   "source": [
    "img_measures = images[...]  ### doplňte index\n",
    "mask, sizes_drawn = measurement_algorithm(img_measures)\n",
    "plot_images(mask, sizes_drawn)"
   ]
  },
  {
   "cell_type": "markdown",
   "metadata": {},
   "source": [
    "#### 3) Doplňte algoritmus pro segmentaci textu z nasnímaných placek.\n",
    "Výstupem algoritmu by měl být binární obraz, kde pozadí má černou barvu a objekty (popředí) bílou. Binární obrázek zobrazte."
   ]
  },
  {
   "cell_type": "code",
   "execution_count": null,
   "metadata": {},
   "outputs": [],
   "source": [
    "def segmentation_algorithm(img):\n",
    "    \n",
    "    ### algoritmus segmentace textu \n",
    "   \n",
    "    ...\n",
    "    \n",
    "    img = crop(...)\n",
    "    \n",
    "    ...\n",
    "    \n",
    "    return img_bin"
   ]
  },
  {
   "cell_type": "code",
   "execution_count": null,
   "metadata": {},
   "outputs": [],
   "source": [
    "img_text = images[...] ### doplňte index\n",
    "img_bin = segmentation_algorithm(img_text)\n",
    "plot_images(img_bin)"
   ]
  },
  {
   "cell_type": "markdown",
   "metadata": {},
   "source": [
    "#### 4) Využijte funkční algoritmus na snímky.\n",
    "**POZOR:** Dokud nebude vstupní obraz vypadat následovně, **NEPOUŠTĚJTE** se do další části. \n",
    "\n",
    "<img src=\"images/fit_preprocessed.png\" width=\"200\">"
   ]
  },
  {
   "cell_type": "markdown",
   "metadata": {},
   "source": [
    "#### 5) Využijte OCR na výsledný binární obrázek a zkontrolujte správnost.\n",
    "**Hint:** Pokud se požadovaný výstup OCR neshoduje s referenčním textem, zařiďte aby nebyl text na obrázku nijak rotován a kolem textu byl alespoň 20px rámeček. Důvodem je použití Tesseract OCR, jenž je na dané věci velice náchylný."
   ]
  },
  {
   "cell_type": "code",
   "execution_count": null,
   "metadata": {
    "ExecuteTime": {
     "end_time": "2019-07-16T13:43:35.879870Z",
     "start_time": "2019-07-16T13:43:35.366730Z"
    }
   },
   "outputs": [],
   "source": [
    "text = ...(img_bin) ###\n",
    "ref_text = 'FIT'\n",
    "\n",
    "print('Přečtený text je: ' + \"'\" + text.strip() + \"'\\n\")\n",
    "if text.strip() == ref_text:\n",
    "    print('-> Úkol jste splnili!\\n')\n",
    "else:\n",
    "    print('-> Úkol je třeba dál ladit ...')    \n",
    "print('')\n"
   ]
  },
  {
   "cell_type": "markdown",
   "metadata": {},
   "source": [
    "### 6) Bonusová část - změřte rozměry kostičky v milimetrech\n",
    "\n",
    "Změřte a zobrazte rozměry placky v milimetrech, když víte že výška písmena I je 18 mm."
   ]
  },
  {
   "cell_type": "code",
   "execution_count": null,
   "metadata": {},
   "outputs": [],
   "source": []
  }
 ],
 "metadata": {
  "kernelspec": {
   "display_name": "Python 3.8.16 ('img_proc')",
   "language": "python",
   "name": "python3"
  },
  "language_info": {
   "codemirror_mode": {
    "name": "ipython",
    "version": 3
   },
   "file_extension": ".py",
   "mimetype": "text/x-python",
   "name": "python",
   "nbconvert_exporter": "python",
   "pygments_lexer": "ipython3",
   "version": "3.8.16"
  },
  "vscode": {
   "interpreter": {
    "hash": "20d1c7c90abef66b84c3171a16fd7a5dd756a144f522d6dd518aed98b933cca3"
   }
  }
 },
 "nbformat": 4,
 "nbformat_minor": 2
}
