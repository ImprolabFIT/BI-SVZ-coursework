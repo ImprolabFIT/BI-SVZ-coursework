{
 "cells": [
  {
   "attachments": {},
   "cell_type": "markdown",
   "metadata": {},
   "source": [
    "# Segmentace s využitím barevných světel"
   ]
  },
  {
   "attachments": {},
   "cell_type": "markdown",
   "metadata": {},
   "source": [
    "## Import knihoven a konfigurace"
   ]
  },
  {
   "cell_type": "code",
   "execution_count": 1,
   "metadata": {},
   "outputs": [],
   "source": [
    "import improutils as iu\n",
    "from ipywidgets import interact  "
   ]
  },
  {
   "attachments": {},
   "cell_type": "markdown",
   "metadata": {},
   "source": [
    "### Pomocné funkce\n",
    "Z následujících funkcí je potřeba vybírat ty vhodné pro splnění úkolu."
   ]
  },
  {
   "attachments": {},
   "cell_type": "markdown",
   "metadata": {},
   "source": [
    "Seznam funkcí pro přehlednost:\n",
    "- [`plot_images(...)`](https://gitlab.fit.cvut.cz/bi-svz/improutils_package/blob/master/improutils/visualisation/visualisation.py#L14)\n",
    "- [`load_image(...)`](https://gitlab.fit.cvut.cz/bi-svz/improutils_package/blob/master/improutils/acquisition/img_io.py#L10)\n",
    "\n",
    "\n",
    "- [`to_gray(...)`](https://gitlab.fit.cvut.cz/bi-svz/improutils_package/blob/master/improutils/preprocessing/preprocessing.py#L5)\n",
    "- [`to_hsv(...)`](https://gitlab.fit.cvut.cz/bi-svz/improutils_package/blob/master/improutils/preprocessing/preprocessing.py#L23)\n",
    "- [`to_intensity(...)`](https://gitlab.fit.cvut.cz/bi-svz/improutils_package/-/blob/master/improutils/segmentation/segmentation.py#L22)\n",
    "- [`negative(...)`](https://gitlab.fit.cvut.cz/bi-svz/improutils_package/-/blob/master/improutils/preprocessing/preprocessing.py#L57)\n",
    "- [`crop(...)`](https://gitlab.fit.cvut.cz/bi-svz/improutils_package/blob/master/improutils/preprocessing/preprocessing.py#L104)\n",
    "\n",
    "\n",
    "- [`segmentation_one_threshold(...)`](https://gitlab.fit.cvut.cz/bi-svz/improutils_package/-/blob/master/improutils/segmentation/segmentation.py#L67)\n",
    "- [`segmentation_auto_threshold(...)`](https://gitlab.fit.cvut.cz/bi-svz/improutils_package/-/blob/master/improutils/segmentation/segmentation.py#L86)\n",
    "- [`segmentation_two_thresholds(...)`](https://gitlab.fit.cvut.cz/bi-svz/improutils_package/-/blob/master/improutils/segmentation/segmentation.py#L103)\n",
    "- [`find_contours(...)`](https://gitlab.fit.cvut.cz/bi-svz/improutils_package/-/blob/master/improutils/preprocessing/contours.py#L39)\n",
    "\n",
    "\n",
    "- [`filtration_median(...)`](https://gitlab.fit.cvut.cz/bi-svz/improutils_package/-/blob/master/improutils/filtration/filtration.py#L23)\n",
    "\n"
   ]
  },
  {
   "attachments": {},
   "cell_type": "markdown",
   "metadata": {},
   "source": [
    "### Úkol\n",
    "Vaším úkolem bude spočítat množství červených, zelených nebo modrých korálků v krabičce. Korálky nasnímejte monochromatickou kamerou, při snímání použijte různá světla a experimentujte s nimi, tak aby byl následný segmentační algoritmus co možná nejjednodušší.\n",
    "\n",
    "Pro volbu vhodné iluminační techniky a vhodného osvětlení můžete konzultovat přehledový dokument [Volba vhodného osvětlení v kombinaci s kamerou](https://courses.fit.cvut.cz/BI-SVZ/showroom/illumination/index.html), nebo  přednášku [Kamerový systém a zpracování obrazu](https://courses.fit.cvut.cz/BI-SVZ/lectures/files/bi-svz-03-kamerovy-system-a-zpracovani-obrazu.pdf).\n",
    "\n",
    "<img src='images/rgb.png' style=\"width:70%\">"
   ]
  },
  {
   "attachments": {},
   "cell_type": "markdown",
   "metadata": {},
   "source": [
    "#### 1) Načtení dat"
   ]
  },
  {
   "cell_type": "code",
   "execution_count": null,
   "metadata": {},
   "outputs": [],
   "source": [
    "img = iu.load_image(...)\n",
    "img = iu.to_gray(img)  # I kdyz je obrazek z cernobile kamery ma 3 kanaly, zredukujeme na 1\n",
    "cropped = ... # optional, může se hodit\n",
    "# Případné další předzpracování\n",
    "iu.plot_images(...)"
   ]
  },
  {
   "attachments": {},
   "cell_type": "markdown",
   "metadata": {},
   "source": [
    "#### 2) Výběr prahů pro segmentaci\n",
    "\n",
    "S využitím slideru najděte prahy pro segmentaci vámi zvolených korálků ve vámi zvoleném obrázku."
   ]
  },
  {
   "cell_type": "code",
   "execution_count": null,
   "metadata": {},
   "outputs": [],
   "source": [
    "@interact(value=iu.create_slider(min=0, max=255, description='Value'))\n",
    "def _(value):\n",
    "    mask = iu.segmentation_two_thresholds(..., value[0], value[1]) ###\n",
    "    iu.plot_images(mask, ..., titles=['Segmentation', 'Original'])"
   ]
  },
  {
   "attachments": {},
   "cell_type": "markdown",
   "metadata": {},
   "source": [
    "#### 3) Segmentace\n",
    "\n",
    "Vysegmentujte zvolené korálky a spočtěte je."
   ]
  },
  {
   "cell_type": "code",
   "execution_count": null,
   "metadata": {},
   "outputs": [],
   "source": [
    "def count_objects(mask, min_area, max_area):\n",
    "    segmented, count, _ = iu.find_contours(mask, min_area, max_area)\n",
    "    return segmented, count"
   ]
  },
  {
   "cell_type": "code",
   "execution_count": null,
   "metadata": {},
   "outputs": [],
   "source": [
    "selected_color = '...'\n",
    "\n",
    "mask = ... # Zisk masky segmentací\n",
    "segmented, count = count_objects(mask, ..., ...)\n",
    "\n",
    "print(f'In total {count} {selected_color} objects found.')\n",
    "iu.plot_images(..., segmented) # Poronvání původního obrázku s výsledkem segmentace"
   ]
  },
  {
   "attachments": {},
   "cell_type": "markdown",
   "metadata": {},
   "source": [
    "#### 4) Bonusová část - opakujte postup pro alespoň jednu další barvu"
   ]
  },
  {
   "cell_type": "code",
   "execution_count": null,
   "metadata": {},
   "outputs": [],
   "source": [
    "..."
   ]
  }
 ],
 "metadata": {
  "kernelspec": {
   "display_name": "Python 3",
   "language": "python",
   "name": "python3"
  },
  "language_info": {
   "codemirror_mode": {
    "name": "ipython",
    "version": 3
   },
   "file_extension": ".py",
   "mimetype": "text/x-python",
   "name": "python",
   "nbconvert_exporter": "python",
   "pygments_lexer": "ipython3",
   "version": "3.11.2"
  },
  "orig_nbformat": 4
 },
 "nbformat": 4,
 "nbformat_minor": 2
}
