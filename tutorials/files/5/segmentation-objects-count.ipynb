{
 "cells": [
  {
   "cell_type": "markdown",
   "metadata": {},
   "source": [
    "# Segmentace obrazu - počítání objektů\n",
    "Cvičení je zaměřené na správné využití osvětlení při nasvícení objektu a následné využití metod pro segmentaci obrazu k počítání objektů. Je třeba se **zbavit odlesků**, **vyvážit bílou barvu** snímače, **vyladit jas** pomocí histogramu, atd...\n",
    "\n",
    "<img src='images/lentilky_promo.jpg' style=\"width:50%\">\n",
    "<p style=\"text-align: center;\">Ilustrační obrázek špatně nasnímaného objektu. :-)</p>"
   ]
  },
  {
   "cell_type": "markdown",
   "metadata": {},
   "source": [
    "### Import knihoven a konfigurace"
   ]
  },
  {
   "cell_type": "code",
   "execution_count": null,
   "metadata": {},
   "outputs": [],
   "source": [
    "%run ../svz.ipynb"
   ]
  },
  {
   "cell_type": "markdown",
   "metadata": {},
   "source": [
    "### Pomocné funkce\n",
    "Z následujících funkcí je potřeba vybírat ty vhodné pro splnění úkolu."
   ]
  },
  {
   "cell_type": "markdown",
   "metadata": {},
   "source": [
    "Seznam funkcí pro přehlednost:\n",
    "- [`connect_camera(...)`](../svz.ipynb#connect_functions)\n",
    "- [`show_images(...)`](../svz.ipynb#show_functions)\n",
    "- [`load_image(...)`](../svz.ipynb#load_save_functions)\n",
    "\n",
    "\n",
    "- [`to_gray(...)`](../svz.ipynb#preprocessing_functions)\n",
    "- [`to_hsv(...)`](../svz.ipynb#preprocessing_functions)\n",
    "- [`negative(...)`](../svz.ipynb#preprocessing_functions)\n",
    "- [`crop(...)`](../svz.ipynb#preprocessing_functions)\n",
    "\n",
    "\n",
    "- [`segmentation_one_threshold(...)`](../svz.ipynb#segmentation_functions)\n",
    "- [`segmentation_auto_threshold(...)`](../svz.ipynb#segmentation_functions)\n",
    "- [`segmentation_two_thresholds(...)`](../svz.ipynb#segmentation_functions)\n",
    "- [`find_contours(...)`](../svz.ipynb#segmentation_functions)\n",
    "\n",
    "\n",
    "- [`filtration_median(...)`](../svz.ipynb#filtration_functions)\n",
    "\n",
    "\n",
    "- [`to_intensity(...)`](../svz.ipynb#others)"
   ]
  },
  {
   "cell_type": "markdown",
   "metadata": {},
   "source": [
    "---"
   ]
  },
  {
   "cell_type": "markdown",
   "metadata": {},
   "source": [
    "### Úkol\n",
    "Zvolte vhodné funkce pro segmentaci obrazu a spočítejte kolik se na obrázku vyskytuje celkem objektů. Využijte k tomu znalosti o segmentaci objektů podle barvy (*HINT: jiné barevné spektrum než RGB*) a postupně spočtěte objekty stejných barev, které nakonec sečtete dohromady.\n",
    "\n",
    "Na obrázku je vidět převod barvy na úhel v jiném než RGB spektru (ve kterém asi...).\n",
    "<img src='images/color_wheel_hsv.png' style=\"width:25%\">\n",
    "\n",
    "\n",
    "Pro testování algoritmu využijte funkci `algorithm()`. Funkce je vložena do snímání kamery. Je tak možné v reálném čase pozorovat, co se s obrazem děje. Po změně obsahu funkce je však potřeba načíst znovu i blok pro spuštění snímání z kamery.\n",
    "\n",
    "Po vyladění algoritmu na jednotlivé úlohy, demonstrujte každý z nich na 1 získaném obrázku."
   ]
  },
  {
   "cell_type": "markdown",
   "metadata": {},
   "source": [
    "#### 1) Nastavte správně kameru."
   ]
  },
  {
   "cell_type": "code",
   "execution_count": null,
   "metadata": {},
   "outputs": [],
   "source": [
    "serial_number = '' ### vlastní sériové číslo kamery\n",
    "width = 1280\n",
    "height = 720\n",
    "\n",
    "camera = ...(serial_number) ###"
   ]
  },
  {
   "cell_type": "markdown",
   "metadata": {},
   "source": [
    "#### 2) Doplňujte testovací verzi algoritmu.\n",
    "Využití statementu `try/except` je zde pouze pro to, aby algoritmus nespadl v případě, že se chce pouze vyzkoušet, co kamera zobrazuje, ale prozatím nebyla snaha vytvářet algoritmus."
   ]
  },
  {
   "cell_type": "code",
   "execution_count": 2,
   "metadata": {
    "ExecuteTime": {
     "end_time": "2019-07-15T13:10:39.976522Z",
     "start_time": "2019-07-15T13:10:39.971536Z"
    }
   },
   "outputs": [],
   "source": [
    "def algorithm(img):\n",
    "    try:\n",
    "        ### \n",
    "\n",
    "\n",
    "\n",
    "        # Zde je potřeba vytvořit binární obrázek\n",
    "        img_bin = None ###\n",
    "\n",
    "        # Výsledný obrázek bude výběr z původního pomocí binární masky\n",
    "        res = mask(img, img_bin)\n",
    "        return res\n",
    "    except:\n",
    "        return img"
   ]
  },
  {
   "cell_type": "markdown",
   "metadata": {},
   "source": [
    "Definuje obsah funkce pro zpracování obrazu, konkrétně jeho segmentaci. Funkce `impro` je **neměnná**."
   ]
  },
  {
   "cell_type": "code",
   "execution_count": null,
   "metadata": {},
   "outputs": [],
   "source": [
    "def impro(img):\n",
    "    res = algorithm(img)\n",
    "\n",
    "    show_camera_window(res, 1)\n",
    "    return res"
   ]
  },
  {
   "cell_type": "markdown",
   "metadata": {},
   "source": [
    "#### 3) Spusťte snímání a testujte algoritmus pro zpracování obrazu."
   ]
  },
  {
   "cell_type": "markdown",
   "metadata": {},
   "source": [
    "Info k oknu:\n",
    "- Pro spuštění okna kamery je zapotřebí kliknout na tlačítko `Run Interact`. \n",
    "- Okno kamery se vypne stisknutím tlačítka `q`.\n",
    "- Obrázek se uloží stisknutím tlačítka `s`.\n",
    "- Po kliku levého tlačítka myši se vytisknou souřadnice místa v obraze.\n",
    "- Pro projevení změn v nastavení pomocí GUI prvků je nutné ukončit okno kamery a znovu ho spustit."
   ]
  },
  {
   "cell_type": "code",
   "execution_count": null,
   "metadata": {},
   "outputs": [],
   "source": [
    "from pypylon_opencv_viewer import BaslerOpenCVViewer\n",
    "    \n",
    "viewer = BaslerOpenCVViewer(camera)\n",
    "viewer.set_features(FEATURES)\n",
    "viewer.set_impro_function(impro)\n",
    "viewer.run_interaction_continuous_shot(window_size=(width, height))"
   ]
  },
  {
   "cell_type": "markdown",
   "metadata": {},
   "source": [
    "#### 4) Doplňte algoritmus pro segmentaci objektů podle jednotlivých barev. \n",
    "Vytvořte si konkrétní prahy, které budou na danou barvu stačit. Tolerance je jedno číslo. Funkce `count_all_objects` je **neměnná**."
   ]
  },
  {
   "cell_type": "code",
   "execution_count": null,
   "metadata": {},
   "outputs": [],
   "source": [
    "thresholds = [\n",
    "    ### \n",
    "]\n",
    "tolerance = ###\n",
    "\n",
    "def algorithm_color(img, thresh, tolerance):\n",
    "    ### Potřeba doplnit celý algoritmus\n",
    "    \n",
    "    \n",
    "    \n",
    "    \n",
    "    \n",
    "    \n",
    "    \n",
    "\n",
    "    # Zde je potřeba doplnit binární obrázek\n",
    "    img_bin =  ###\n",
    "    \n",
    "    # Zobrazení obrázku v plotu (maskování původního obrázku binární maskou)\n",
    "    plot_image(mask(img, img_bin))\n",
    "    return count\n",
    "    \n",
    "\n",
    "def count_all_objects(img):\n",
    "    sum_all = 0\n",
    "    for thresh in thresholds:\n",
    "        sum_all += algorithm_color(img, thresh, tolerance)\n",
    "        \n",
    "    return sum_all"
   ]
  },
  {
   "cell_type": "markdown",
   "metadata": {},
   "source": [
    "#### 5) Spusťte výsledný algoritmus pro spočtení objektův obraze. "
   ]
  },
  {
   "cell_type": "code",
   "execution_count": null,
   "metadata": {},
   "outputs": [],
   "source": [
    "image_path = '' ###\n",
    "image = load_image(image_path)\n",
    "count = count_all_objects(image)\n",
    "print('Celkem je v obraze ' + str(count) + ' objektů.')"
   ]
  }
 ],
 "metadata": {
  "kernelspec": {
   "display_name": "Python [default]",
   "language": "python",
   "name": "python3"
  },
  "language_info": {
   "codemirror_mode": {
    "name": "ipython",
    "version": 3
   },
   "file_extension": ".py",
   "mimetype": "text/x-python",
   "name": "python",
   "nbconvert_exporter": "python",
   "pygments_lexer": "ipython3",
   "version": "3.6.6"
  }
 },
 "nbformat": 4,
 "nbformat_minor": 2
}
