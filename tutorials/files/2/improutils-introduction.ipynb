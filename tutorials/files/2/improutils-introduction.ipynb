{
 "cells": [
  {
   "attachments": {},
   "cell_type": "markdown",
   "metadata": {},
   "source": [
    "# Úvod do zpracování obrazu\n",
    "Cílem dnešního cvičení je seznámit se s možnostmi zpracování obrazu na obecných úlohách. Zároveň je cílem seznámit se s typovým zadáním notebooků ze cvičení, jejich zpracováním a vytvořenou knihovnou [improutils](https://courses.fit.cvut.cz/BI-SVZ/manuals/improutils-package.html) jako nástavbou nad [OpenCV](https://opencv.org/).\n",
    "\n",
    "![](images/impro.jpg)\n",
    "\n",
    "Pro připomenutí, základní pipeline zpracování obrazu se skládá z těchto kroků:\n",
    "1. Zisk obrazu\n",
    "2. Předzpracování obrazu\n",
    "3. Filtrace obrazu\n",
    "4. Segmentace obrazu\n",
    "5. Zisk informace\n",
    "6. Porovnání, další obrazové testy atd.\n",
    "7. Vizualizace výsledků"
   ]
  },
  {
   "cell_type": "markdown",
   "metadata": {},
   "source": [
    "### Import knihoven a konfigurace"
   ]
  },
  {
   "cell_type": "code",
   "execution_count": null,
   "metadata": {},
   "outputs": [],
   "source": [
    "import os\n",
    "import io\n",
    "\n",
    "import cv2\n",
    "import numpy as np\n",
    "import matplotlib.pyplot as plt\n",
    "import pytesseract\n",
    "\n",
    "from improutils import *\n",
    "\n",
    "%matplotlib inline\n",
    "np.set_printoptions(formatter={'float': lambda x: \"{0:0.3f}\".format(x)})"
   ]
  },
  {
   "cell_type": "markdown",
   "metadata": {},
   "source": [
    "---"
   ]
  },
  {
   "cell_type": "markdown",
   "metadata": {},
   "source": [
    "### Úkol 1\n",
    "V následujících úlohách je zapotřebí pojmenovat funkce zpracování obrazu nebo využít již existující znalosti knihovny numpy k zjištění dílčích informací o obraze.\n",
    "\n",
    "<div style=\"color: blue; text-align: right\">[ 1 bod ]</div>"
   ]
  },
  {
   "cell_type": "markdown",
   "metadata": {},
   "source": [
    "#### 1) Jak byste nazvali funkci pro převod obrazu vlevo na obraz vpravo? \n",
    "Poznámka: `###` určují místo, kde je třeba něco doplnit.\n",
    "![](images/plice2.png)"
   ]
  },
  {
   "cell_type": "code",
   "execution_count": null,
   "metadata": {},
   "outputs": [],
   "source": [
    "# napište název funkce namísto '...', využijte anglický jazyk\n",
    "nazev_funkce = ... ###\n",
    "\n",
    "# vypište název funkce\n",
    "print(nazev_funkce)"
   ]
  },
  {
   "cell_type": "markdown",
   "metadata": {},
   "source": [
    "#### 2) Načtěte obrázek buněk neuronů z fluorescenčního mikroskopu a zobrazte jej."
   ]
  },
  {
   "cell_type": "code",
   "execution_count": null,
   "metadata": {
    "scrolled": false
   },
   "outputs": [],
   "source": [
    "img = load_image(...) ### adresa obrazu\n",
    "plot_images(img)"
   ]
  },
  {
   "cell_type": "markdown",
   "metadata": {},
   "source": [
    "#### 3) Vypište pár parametrů načteného obrázku neuronů.\n",
    "Využijte znalosti toho, že obrázek je v pythonu v knihovnou OpenCV reprezentován jako matice z numpy (ndarray)."
   ]
  },
  {
   "cell_type": "code",
   "execution_count": null,
   "metadata": {},
   "outputs": [],
   "source": [
    "resolution = ... ###\n",
    "print('Rozlišení obrazu:          ' + str(resolution))\n",
    "\n",
    "number_of_channels = ... ###\n",
    "print('Počet kanálů:              ' + str(number_of_channels))\n",
    "\n",
    "min_value = ... ###\n",
    "max_value = ... ###\n",
    "average_value = ...(img) ###\n",
    "print('Nejnižší hodnota v obrazu: ' + str(min_value))\n",
    "print('Nevyšší hodnota v obrazu:  ' + str(max_value))\n",
    "print('Průměrná hodnota obrazu:   ' + str(average_value))\n",
    "\n",
    "mpix = ... ###\n",
    "print('Rozlišení v MPix:          ' + str(mpix))"
   ]
  },
  {
   "cell_type": "markdown",
   "metadata": {},
   "source": [
    "<a id=\"1-4\"></a>"
   ]
  },
  {
   "cell_type": "markdown",
   "metadata": {},
   "source": [
    "#### 4) Pohrajte si s obsahem obrazu. \n",
    "Zobrazte kanál obrazu, kde se vyskytují pouze modrá jádra buněk. Dále vyřízněte pouze takovou část obrazu, aby zobrazovala právě 3 jádra."
   ]
  },
  {
   "cell_type": "code",
   "execution_count": null,
   "metadata": {},
   "outputs": [],
   "source": [
    "cells = ... ###\n",
    "cells3 = cells[...] ###\n",
    "\n",
    "plot_images(cells, cells3)"
   ]
  },
  {
   "attachments": {},
   "cell_type": "markdown",
   "metadata": {},
   "source": [
    "#### 5) Vytvořte pár funkcí podle algoritmů zpracování obrazu.\n",
    "Vytvořte funkce:\n",
    "- Pro zisk negativu obrazu (`image_negative(img)`) podle algoritmu:\n",
    "$$ J_i = 255 - I_i $$\n",
    "\n",
    "- Pro zisk objektů jader (`cell_objects(img, int t)`) podle algoritmu:\n",
    "$$ J_i = \\left\\{ \n",
    "                \\begin{array}{ll}\n",
    "                        255 & \\text{if} & I_i \\geq t;\\\\\n",
    "                        0 & \\text{if} & I_i < t.\n",
    "                \\end{array} \n",
    "        \\right.\n",
    "$$\n",
    "\n",
    "Kde _I_ je vstupní obraz, _J_ je výstupní obraz a _i_ je každý jednotlivý pixel obrazu."
   ]
  },
  {
   "cell_type": "code",
   "execution_count": null,
   "metadata": {},
   "outputs": [],
   "source": [
    "### negativ obrazu\n",
    "def image_negative(img):\n",
    "    # ...\n",
    "    return ...\n",
    "\n",
    "### zisk objektů\n",
    "def cell_objects(img, t):\n",
    "    # ...\n",
    "    return ..."
   ]
  },
  {
   "cell_type": "markdown",
   "metadata": {},
   "source": [
    "Funkce aplikujte na obraz se třemi jádry."
   ]
  },
  {
   "cell_type": "code",
   "execution_count": null,
   "metadata": {},
   "outputs": [],
   "source": [
    "img_n = ...(cells3) ###\n",
    "img_o = ...(cells3, 100) ###\n",
    "\n",
    "plot_images(img_n, img_o)"
   ]
  },
  {
   "cell_type": "markdown",
   "metadata": {},
   "source": [
    "---"
   ]
  },
  {
   "cell_type": "markdown",
   "metadata": {},
   "source": [
    "### Úkol 2\n",
    "Věnujte pozornost knihovně `improutils` a jejím funkcím.\n",
    "\n",
    "<div style=\"color: blue; text-align: right\">[ 1 bod ]</div>"
   ]
  },
  {
   "cell_type": "markdown",
   "metadata": {},
   "source": [
    "#### 1) Vypište link na FIT gitlab repozitář, kde byste hledali pomoc s balíčkem `improutils`."
   ]
  },
  {
   "cell_type": "code",
   "execution_count": null,
   "metadata": {},
   "outputs": [],
   "source": [
    "link = ... ###\n",
    "print(link)"
   ]
  },
  {
   "cell_type": "markdown",
   "metadata": {},
   "source": [
    "#### 2) Přiřaďte jednotlivé python moduly knihovny `improutils` k bodům základní pipeline pro zpracování obrazu.\n",
    "Poznámka: Je potřeba si aktivovat rozšíření `Python markdown`. \n",
    "\n",
    "![](images/python_markdown.png)"
   ]
  },
  {
   "cell_type": "code",
   "execution_count": null,
   "metadata": {},
   "outputs": [],
   "source": [
    "answers = {\n",
    "    '1': ..., ###\n",
    "    '2': ..., ###\n",
    "    '3': ..., ###\n",
    "    '4': ..., ###\n",
    "    '5': ..., ###\n",
    "    '6': ..., ###\n",
    "    '7': ... ###\n",
    "}"
   ]
  },
  {
   "cell_type": "markdown",
   "metadata": {},
   "source": [
    "| # | Krok | Modul(y) |\n",
    "| - | :--- | :------- |\n",
    "| 1 | Zisk obrazu | {{ answers.get('1') }} |\n",
    "| 2 | Předzpracování obrazu | {{ answers.get('2') }} |\n",
    "| 3 | Filtrace obrazu | {{ answers.get('3') }} |\n",
    "| 4 | Segmentace obrazu | {{ answers.get('4') }} |\n",
    "| 5 | Zisk informace | {{ answers.get('5') }} |\n",
    "| 6 | Porovnání, další obrazové testy atd. | {{ answers.get('6') }} |\n",
    "| 7 | Vizualizace výsledků | {{ answers.get('7') }} |"
   ]
  },
  {
   "cell_type": "markdown",
   "metadata": {},
   "source": [
    "#### 3) Vraťe se k <a href=\"#1-4\">úkolu 1.4</a>. Kde se v balíčku `improutils` nachází funkce pro vyříznutí části obrázku?\n",
    "Doplňte správný název a link."
   ]
  },
  {
   "cell_type": "code",
   "execution_count": null,
   "metadata": {},
   "outputs": [],
   "source": [
    "name_function = ... ###\n",
    "link_function = ... ###\n",
    "\n",
    "print('Funkce `' + name_function + '` se nachází na odkazu ' + link_function)"
   ]
  },
  {
   "cell_type": "markdown",
   "metadata": {},
   "source": [
    "#### 4) Využijte nejpoužívanější funkce modulu pro zisk obrazu.\n",
    "Hint: Načtěte a zobrazte obrázky log fakult ČVUT. Pro obrázky zvolte vždy vhodný název (nadpis). "
   ]
  },
  {
   "cell_type": "code",
   "execution_count": null,
   "metadata": {},
   "outputs": [],
   "source": [
    "imgs = []\n",
    "names = [] \n",
    "for root, _, files in os.walk(...): ###\n",
    "    for name in files:\n",
    "        if 'logo' in name:\n",
    "            ###\n",
    "            imgs.append(...(os.path.join(root, name))) ###\n",
    "            \n",
    "...(*imgs, titles=names) ###"
   ]
  },
  {
   "cell_type": "markdown",
   "metadata": {},
   "source": [
    "#### 5) Kolik segmentačních algoritmů (funkcí) obsahuje modul pro segmentaci?"
   ]
  },
  {
   "cell_type": "code",
   "execution_count": null,
   "metadata": {},
   "outputs": [],
   "source": [
    "functions_seg = ... ###\n",
    "print('Počet segmentačních funkcí:       ' + str(functions_seg))"
   ]
  },
  {
   "cell_type": "markdown",
   "metadata": {},
   "source": [
    "#### 6) Kde je k nalezení zdrojový kód funkce `fill_holes()` a kolik má vstupních parametrů?"
   ]
  },
  {
   "cell_type": "code",
   "execution_count": null,
   "metadata": {},
   "outputs": [],
   "source": [
    "link_fill_holes = ... ###\n",
    "print(link_fill_holes)\n",
    "\n",
    "inputs_fill_holes = ... ###\n",
    "print('Počet vstupních parametrů:        ' + str(inputs_fill_holes))"
   ]
  },
  {
   "cell_type": "markdown",
   "metadata": {},
   "source": [
    "#### 7) Kde je k nalezení zdrojový kód funkce `find_contours()` a kolik má vstupních a výstupních parametrů?"
   ]
  },
  {
   "cell_type": "code",
   "execution_count": null,
   "metadata": {},
   "outputs": [],
   "source": [
    "link_find_contours = ... ###\n",
    "print(link_find_contours)\n",
    "\n",
    "inputs_find_contours = ... ###\n",
    "outputs_find_contours = ... ###\n",
    "print('Počet vstupních parametrů:        ' + str(inputs_find_contours))\n",
    "print('Počet výstupních parametrů:       ' + str(outputs_find_contours))"
   ]
  },
  {
   "cell_type": "markdown",
   "metadata": {},
   "source": [
    "#### 8) Popište první tři vstupní a všechny výstupní parametry funkce `find_contours()`.\n",
    "Pro parametry vytvořte vždy vlastní slovník, kde klíč je název parametru a hodnota je popis parametru dle dokumentace."
   ]
  },
  {
   "cell_type": "code",
   "execution_count": null,
   "metadata": {},
   "outputs": [],
   "source": [
    "inputs_description_find_contours = {\n",
    "    'img_bin': ..., ###\n",
    "    ...: ..., ###\n",
    "    ...: ... ###\n",
    "}\n",
    "outputs_description_find_contours = {\n",
    "    ###\n",
    "}"
   ]
  },
  {
   "cell_type": "code",
   "execution_count": null,
   "metadata": {},
   "outputs": [],
   "source": [
    "parameters = list(inputs_description_find_contours.keys()) + list(outputs_description_find_contours.keys())\n",
    "max_len = max([len(parameter) for parameter in parameters])\n",
    "\n",
    "print(\"Input parameters:\")\n",
    "for parameter, description in inputs_description_find_contours.items():\n",
    "    print('   ' + parameter.ljust(max_len) + ' - ' + description)\n",
    "print()\n",
    "print(\"Output parameters:\")\n",
    "for parameter, description in outputs_description_find_contours.items():\n",
    "    print('   ' + parameter.ljust(max_len) + ' - ' + description)"
   ]
  },
  {
   "cell_type": "markdown",
   "metadata": {},
   "source": [
    "#### 9) Jak zjistit počty parametrů a jejich význam bez nekonečného překlikávání a hledání v repozitáři `improutils`? \n",
    "Postup demonstrujte pro funkci `find_contours()`."
   ]
  },
  {
   "cell_type": "code",
   "execution_count": null,
   "metadata": {},
   "outputs": [],
   "source": [
    "# dopňte název funkce pro zobrazení dokumentace funkce nebo třídy\n",
    "...(...) ###"
   ]
  }
 ],
 "metadata": {
  "kernelspec": {
   "display_name": "Python 3 (ipykernel)",
   "language": "python",
   "name": "python3"
  },
  "language_info": {
   "codemirror_mode": {
    "name": "ipython",
    "version": 3
   },
   "file_extension": ".py",
   "mimetype": "text/x-python",
   "name": "python",
   "nbconvert_exporter": "python",
   "pygments_lexer": "ipython3",
   "version": "3.8.11"
  }
 },
 "nbformat": 4,
 "nbformat_minor": 2
}
