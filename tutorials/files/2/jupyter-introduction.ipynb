{
 "cells": [
  {
   "cell_type": "markdown",
   "metadata": {},
   "source": [
    "# Práce s Jupyter notebooky\n",
    "V rámci cvičení BI-SVZ se budou využívat již předvytvořené Jupyter notebooky. Podobné notebooky se budou i odevzdávat formou domácích úkolů.\n",
    "\n",
    "Co je to Jupyter notebook aneb IPython Interactive Computing se lze dočíst [ZDE](http://nbviewer.jupyter.org/github/ipython/ipython/blob/3.x/examples/Notebook/Index.ipynb).\n",
    "\n",
    "V rámci používání Jupyter notebooků je využíván jazyk Markdown (konkrétně Github flavored markdown). Základy syntaxe jsou popsány [ZDE](https://help.github.com/articles/basic-writing-and-formatting-syntax/)."
   ]
  },
  {
   "cell_type": "markdown",
   "metadata": {},
   "source": [
    "## Naklonování repozitáře cvičení\n",
    "Ideálním způsobem, jak získat všechno, co je aktuálně dostupné pro cvičení, je naklonovat si repozitář. Ten je dostupný na:\n",
    "- https://gitlab.fit.cvut.cz/bi-svz/bi-svz.git\n",
    "\n",
    "\n",
    "## Předpoklady\n",
    "- Řekněme, že jsem si naklonoval repozitář k sobě na disk do složky `H:\\_git\\bi-svz`.\n",
    "    - Otevřít `git-cmd`\n",
    "    - Jít do složky `cd H:\\_git\\bi-svz`, `H:`\n",
    "    - Napsat `git clone https://gitlab.fit.cvut.cz/bi-svz/bi-svz.git`\n",
    "    - Vyplnit údaje FIT pro clone z gitlabu\n",
    "- Dále mi funguje virtuální prostředí a mám vytvořené prostředí SVZ, jak je popsáno [ZDE](https://gitlab.fit.cvut.cz/bi-svz/bi-svz/blob/master/tutorials/files/1/course-tools-introduction.md#rozchozen%C3%AD-virtu%C3%A1ln%C3%ADho-prost%C5%99ed%C3%AD-pro-pr%C3%A1ci-v-pythonu-s-jupyter-notebooky).\n",
    "\n",
    "\n",
    "## Akce\n",
    "1. Spustím konzoli\n",
    "    - `Anaconda Prompt`\n",
    "2. Aktivuji virtuální prostředí \n",
    "    - `conda activate SVZ`\n",
    "3. Zapnu Jupyter Notebook s cestou ke svému naklonovanému repozitáři \n",
    "    - `jupyter notebook \"H:\\_git\\bi-svz\"`\n",
    "4. Přejdu do složky\n",
    "    - `/tutorials/files/2`\n",
    "5. Zvolím a otevřu notebook\n",
    "    - `jupyter-introduction.ipynb`\n",
    "    \n",
    "![](images/jupyter_selection.png)\n",
    "\n",
    "6. Zkouším následující příklady"
   ]
  },
  {
   "cell_type": "markdown",
   "metadata": {},
   "source": [
    "## Příklady\n",
    "Příklady ukazují, jak se pracuje v pythonu uvnitř Jupyter notebooku."
   ]
  },
  {
   "cell_type": "markdown",
   "metadata": {},
   "source": [
    "### 1) Generování vektoru\n",
    "S využitím knihovny [numpy](https://naucse.python.cz/lessons/intro/numpy/)."
   ]
  },
  {
   "cell_type": "code",
   "execution_count": null,
   "metadata": {},
   "outputs": [],
   "source": [
    "# import knihoven\n",
    "import numpy as np\n",
    "\n",
    "# definice chytré funkce\n",
    "def generate_vector(start, end, step):\n",
    "    return np.arange(start, end, step)\n",
    "\n",
    "# deklarace proměnných\n",
    "start = -4*np.pi\n",
    "end = 4*np.pi\n",
    "step = 0.01\n",
    "\n",
    "# main\n",
    "x = generate_vector(start, end, step)\n",
    "\n",
    "print('Délka vektoru je: ' + str(len(x)))"
   ]
  },
  {
   "cell_type": "markdown",
   "metadata": {},
   "source": [
    "### 2) Vytvoření a zobrazení funkce\n",
    "S využitím knihovny [matplotlib](https://matplotlib.org/tutorials/index.html)."
   ]
  },
  {
   "cell_type": "code",
   "execution_count": null,
   "metadata": {},
   "outputs": [],
   "source": [
    "# import knihoven\n",
    "import matplotlib.pyplot as plt\n",
    "\n",
    "# vytvoření funkčních hodnot\n",
    "y = np.sin(x)\n",
    "\n",
    "# zobrazení funkce\n",
    "plt.title('Funkce sin(x)')\n",
    "plt.plot(x, y)"
   ]
  },
  {
   "cell_type": "markdown",
   "metadata": {},
   "source": [
    "### 3) Zobrazení obrázku\n",
    "S využitím knihovny [opencv](https://opencv-python-tutroals.readthedocs.io/en/latest/py_tutorials/py_tutorials.html)."
   ]
  },
  {
   "cell_type": "code",
   "execution_count": null,
   "metadata": {},
   "outputs": [],
   "source": [
    "# import knihoven\n",
    "import cv2\n",
    "\n",
    "# nahrání obrázku do proměnné\n",
    "image = cv2.imread('images/lapac_snu.png')\n",
    "\n",
    "# konverze obrázku do správných barev\n",
    "cv2.cvtColor(image, cv2.COLOR_BGR2RGB, image)\n",
    "\n",
    "# zobrazení obrázku\n",
    "plt.imshow(image, interpolation='bilinear')\n",
    "plt.xticks([]), plt.yticks([])  # skryje hodnoty na X a Y ose\n",
    "plt.show()"
   ]
  }
 ],
 "metadata": {
  "kernelspec": {
   "display_name": "Python [conda env:SVZ]",
   "language": "python",
   "name": "conda-env-SVZ-py"
  },
  "language_info": {
   "codemirror_mode": {
    "name": "ipython",
    "version": 3
   },
   "file_extension": ".py",
   "mimetype": "text/x-python",
   "name": "python",
   "nbconvert_exporter": "python",
   "pygments_lexer": "ipython3",
   "version": "3.6.6"
  }
 },
 "nbformat": 4,
 "nbformat_minor": 2
}
