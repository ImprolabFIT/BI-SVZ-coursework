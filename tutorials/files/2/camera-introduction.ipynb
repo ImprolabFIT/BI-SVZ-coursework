{
 "cells": [
  {
   "cell_type": "markdown",
   "metadata": {},
   "source": [
    "### Intro\n",
    "\n",
    "Cílem cvičení je seznámit se více s programem Pylon Viewer, porozumět snímkovací frekvenci a získat zkušenosti s popisem snímací soustavy.\n",
    "\n",
    "Využívá se dvou typů vision standardů (rozhraní pro připojení kamery) - GigEVision a USB3Vision. \n",
    "\n",
    "![](images/vision_standards.jpg)"
   ]
  },
  {
   "cell_type": "markdown",
   "metadata": {},
   "source": [
    "### Import knihoven a konfigurace"
   ]
  },
  {
   "cell_type": "code",
   "execution_count": null,
   "metadata": {},
   "outputs": [],
   "source": [
    "from improutils import *"
   ]
  },
  {
   "cell_type": "markdown",
   "metadata": {},
   "source": [
    "### Sestavení snímací soustavy\n",
    "Sestavte snímací soustavu obsahující 2 kamery - jednu chromatickou a jednu monochromatickou. Jedna kamera bude umístěna v držáku, druhá pomocí NOGY. Pomocí Pylon Viewer si zobrazte zorné pole obou kamer naráz a snažte se, aby kamery zabíraly cca stejný obsah - celý větrák musí být vidět. Snažte se, aby větrák byl na cca 30% snímku. \n",
    "\n",
    "Výslednou snímací soustavu vyfoťte (např. telefonem) a zobrazte níže. Dále popište slovně, z čeho se snímací soustava skládá, jaké je rozlišení snímků, jaká je pracovní vzdálenost, jaké objektivy byly použity atd. Popis by měl sloužit jako návod, se kterým by se snímací soustava mohla spolehlivě replikovat."
   ]
  },
  {
   "cell_type": "markdown",
   "metadata": {},
   "source": [
    "Snímací soustava: \n",
    "\n",
    "#TODO"
   ]
  },
  {
   "cell_type": "code",
   "execution_count": null,
   "metadata": {},
   "outputs": [],
   "source": [
    "img = load_image(...) ### doplňte cestu ke snímku\n",
    "plot_images(img) #zobrazení snímku snímací soustavy"
   ]
  },
  {
   "cell_type": "markdown",
   "metadata": {},
   "source": [
    "### Nastavení chromatické kamery na monochromatický formát\n",
    "Pomocí parametru `Image Format` nastavte formát snímání chromatické kamery na monochromatický. Změnilo se nějak rozlišení snímku? Jak se tento formát v Pylonu jmenuje?"
   ]
  },
  {
   "cell_type": "markdown",
   "metadata": {},
   "source": [
    "Odpověď: \n",
    "\n",
    "#TODO"
   ]
  },
  {
   "cell_type": "markdown",
   "metadata": {},
   "source": [
    "### Získání snímku lopatek větráku\n",
    "\n",
    "Po sestavení snímací soustavy je dalším úkolem zachytit lopatky točícího se větráku z obou kamer zároveň. V Pylon Viewer nastavte zobrazení tak, abyste naráz viděli obraz z obou kamer (viz ukázka na tabuli). Uložte si printscreen obrazovky Pylonu a zobrazte jej.\n",
    "\n",
    "Klíčem ke správnému zachycení lopatek je synchronizace snímkovací frekvence kamery s frekvencí otáčení větráku. Snažte se dosáhnout efektu, kdy se lopatky jeví jako \"stojící\" a netočí se. Využijte záložku `Feature - Basic` pro nastavování parametrů expozice, gain atd. Parametr `Enable Acquisition Frame Rate` mějte odškrtnutý a snažte se FPS vyladit pomocí expozičního času."
   ]
  },
  {
   "cell_type": "code",
   "execution_count": null,
   "metadata": {},
   "outputs": [],
   "source": [
    "img = load_image(...) ### doplňte cestu ke snímku #\n",
    "plot_images(img) # zobrazení printscreenu"
   ]
  },
  {
   "cell_type": "markdown",
   "metadata": {},
   "source": [
    "### Nastavení ROI\n",
    "\n",
    "Změňte rozlišení snímku na čtvercové a pomocí parametru `Offset X` resp. `Offset Y` nastavte ROI tak, aby větrák byl uprostřed.\n",
    "\n",
    "Jak se změní pohyb lopatek? Jak je potřeba upravit snímkovací frekvenci, aby lopatky opět stály?\n",
    "\n",
    "Opakujte předchozí úkol a najděte správnou snímkovací frekvenci, aby lopatky \"stály\". Uložte jednotlivé snímky z kamer a zobrazte níže. Pomocí `Win + G` nebo jakkoliv jinak zaznamenejte video, jak se lopatky (ne)točí. \n"
   ]
  },
  {
   "cell_type": "code",
   "execution_count": null,
   "metadata": {},
   "outputs": [],
   "source": [
    "img_chrom = load_image(...) ### doplňte cestu ke snímku\n",
    "img_mono = load_image(...) ### doplňte cestu ke snímku\n",
    "plot_images(img_chrom, img_mono) # zobrazení snímků snímací soustavy"
   ]
  }
 ],
 "metadata": {
  "kernelspec": {
   "display_name": "SVZ",
   "language": "python",
   "name": "python3"
  },
  "language_info": {
   "codemirror_mode": {
    "name": "ipython",
    "version": 3
   },
   "file_extension": ".py",
   "mimetype": "text/x-python",
   "name": "python",
   "nbconvert_exporter": "python",
   "pygments_lexer": "ipython3",
   "version": "3.8.16"
  },
  "orig_nbformat": 4
 },
 "nbformat": 4,
 "nbformat_minor": 2
}
