{
 "cells": [
  {
   "cell_type": "markdown",
   "metadata": {},
   "source": [
    "### Intro\n",
    "\n",
    "Cílem cvičení je seznámit se s programem Pylon Viewer, porozumnění snímkovací frekvenci a získání zkušeností s popisem snímací soustavy, který bude součástí zkoušky.\n",
    "Bude se využívat 2 typů připojení kamery - Ethernet a USB 3.0. "
   ]
  },
  {
   "cell_type": "code",
   "execution_count": null,
   "metadata": {
    "vscode": {
     "languageId": "plaintext"
    }
   },
   "outputs": [],
   "source": [
    "from improutils import *"
   ]
  },
  {
   "cell_type": "markdown",
   "metadata": {},
   "source": [
    "### Sestavení snímací soustavy\n",
    "Sestavte snímací soustavu obsahující 2 kamery - jednu chromatickou a jednu monochromatickou. Jedna kamera bude umístěna v držáku, druhá pomocí NOGY. Pomocí Pylon Viewer si zobrazte zorné pole obou kamer naráz a snažte se, aby kamery zabíraly cca stejný obsah - celý větrák musí být vidět. Snažte se, aby větrák byl na cca 30% snímku. \n",
    "\n",
    "Výslednou snímací soustavu vyfoťte (např. telefonem) a zobrazte níže. Dále popiště slovně, z čeho se snímací soustava skládá, jaké je rozlišení snímků, jaká je pracovní vzdálenost, jaké objektivy byly použity atd. Popis by měl sloužit jako návod, se kterým by se snímací soustava mohla spolehlivě replikovat."
   ]
  },
  {
   "cell_type": "markdown",
   "metadata": {},
   "source": [
    "Snímací soustava: #TODO"
   ]
  },
  {
   "cell_type": "code",
   "execution_count": null,
   "metadata": {
    "vscode": {
     "languageId": "plaintext"
    }
   },
   "outputs": [],
   "source": [
    "img = load_image(...) #doplňte cestu ke snímku\n",
    "plot_images(img) #zobrazení snímku snímací soustavy"
   ]
  },
  {
   "cell_type": "markdown",
   "metadata": {},
   "source": [
    "### Nastavení chromatické kamery na monochromatický formát\n",
    "Pomocí Image Format nastavte formát snímku chromatické kamery na monochromatický. Změnilo se nějak rozlišení snímku? Jak se tento formát jmenuje?"
   ]
  },
  {
   "cell_type": "markdown",
   "metadata": {},
   "source": [
    "Odpověď: #TODO"
   ]
  },
  {
   "cell_type": "markdown",
   "metadata": {},
   "source": [
    "### Získání snímku lopatek větráku\n",
    "\n",
    "Po sestavení soustavy je dalším úkolem zachytit lopatky točící se ho větráku z obou kamer najednou. V Pylon Viewer nastavte zobrazení tak, abyste naráz viděli snímací obraz z obou kamer (viz ukázka na tabuli). Uložte si printscreen obrazovky Pylonu a zobrazte jej.\n",
    "\n",
    "Klíčem ke správnému zachycení lopatek je synchronizace snímkovací frekvence s frekvencí otáčení. Snažte se o efekt, aby lopatky \"stály\" a netočily se. Využijte Feature - Basic pro nastavování parametrů expozice, gain atd. Parametr 'Enable Acquisition Frame Rate' mějte odškrtnutý a snažte se fps vyladit pomocí expozičního času."
   ]
  },
  {
   "cell_type": "code",
   "execution_count": null,
   "metadata": {
    "vscode": {
     "languageId": "plaintext"
    }
   },
   "outputs": [],
   "source": [
    "img = load_image(...) #doplňte cestu ke snímku #\n",
    "plot_images(img) #zobrazení printscreenu"
   ]
  },
  {
   "cell_type": "markdown",
   "metadata": {},
   "source": [
    "### Nastavení ROI\n",
    "\n",
    "Změňte rozlišení snímku na čtvercové a pomocí offsetu X, Y nastavte ROI tak, aby větrák byl uprostřed.\n",
    "\n",
    "Jak se změní pohyb lopatek? Jak je potřeba upravit snímkovací frekvenci, aby lopatky opět stály?\n",
    "\n",
    "Opakujte předchozí úkol a najděte správnou snímkovací frekvenci, aby lopatky \"stály\". Uložte jednotlivé snímky z kamer a zobrazte níže. \n
    Pomocí Windows + G nebo jakékoliv jinak zaznamenejte video, jak se lopatky točí. \n"
   ]
  },
  {
   "cell_type": "code",
   "execution_count": null,
   "metadata": {
    "vscode": {
     "languageId": "plaintext"
    }
   },
   "outputs": [],
   "source": [
    "img_chrom = load_image(...) #doplňte cestu ke snímku #\n",
    "img_mono = load_image(...) #doplňte cestu ke snímku #\n",
    "plot_images(img_chrom, img_mono) #zobrazení snímku snímací soustavy"
   ]
  }
 ],
 "metadata": {
  "language_info": {
   "name": "python"
  },
  "orig_nbformat": 4
 },
 "nbformat": 4,
 "nbformat_minor": 2
}
