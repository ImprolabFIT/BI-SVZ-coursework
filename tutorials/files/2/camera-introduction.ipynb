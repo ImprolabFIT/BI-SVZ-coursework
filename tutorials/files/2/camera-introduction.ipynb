{
 "cells": [
  {
   "cell_type": "markdown",
   "metadata": {},
   "source": [
    "### Intro\n",
    "\n",
    "Cílem cvičení je seznámit se více s programem Pylon Viewer, porozumět snímkovací frekvenci a získat zkušenosti s popisem snímací soustavy.\n",
    "\n",
    "Využívá se dvou typů vision standardů (rozhraní pro připojení kamery) - GigEVision a USB3Vision. \n",
    "\n",
    "![](images/vision_standards.jpg)"
   ]
  },
  {
   "cell_type": "markdown",
   "metadata": {},
   "source": [
    "### Import knihoven a konfigurace"
   ]
  },
  {
   "cell_type": "code",
   "execution_count": null,
   "metadata": {},
   "outputs": [],
   "source": [
    "import improutils as iu"
   ]
  },
  {
   "cell_type": "markdown",
   "metadata": {},
   "source": [
    "### Sestavení snímací soustavy\n",
    "Sestavte snímací soustavu obsahující 2 kamery - jednu chromatickou a jednu monochromatickou. Jedna kamera bude umístěna v držáku, druhá pomocí NOGY. Pomocí Pylon Viewer si zobrazte zorné pole obou kamer naráz a snažte se, aby kamery zabíraly cca stejný obsah - celý větrák musí být vidět. Snažte se, aby větrák byl na cca 30% snímku. \n",
    "\n",
    "Výslednou snímací soustavu vyfoťte (např. telefonem) a zobrazte níže. Dále popište slovně, z čeho se snímací soustava skládá, jaké je rozlišení snímků, jaká je pracovní vzdálenost, jaké objektivy byly použity atd. Popis by měl sloužit jako návod, se kterým by se snímací soustava mohla spolehlivě replikovat."
   ]
  },
  {
   "cell_type": "markdown",
   "metadata": {},
   "source": [
    "Snímací soustava: \n",
    "\n",
    "#TODO"
   ]
  },
  {
   "cell_type": "code",
   "execution_count": null,
   "metadata": {},
   "outputs": [],
   "source": [
    "img = iu.load_image(...) ### doplňte cestu ke snímku\n",
    "iu.plot_images(img) #zobrazení snímku snímací soustavy"
   ]
  },
  {
   "cell_type": "markdown",
   "metadata": {},
   "source": [
    "### Nastavení chromatické kamery na monochromatický formát\n",
    "Pomocí parametru `Image Format` nastavte formát snímání chromatické kamery na monochromatický. Změnilo se nějak rozlišení snímku? Jak se tento formát v Pylonu jmenuje?"
   ]
  },
  {
   "cell_type": "markdown",
   "metadata": {},
   "source": [
    "Odpověď: \n",
    "\n",
    "#TODO"
   ]
  },
  {
   "cell_type": "markdown",
   "metadata": {},
   "source": [
    "### Získání snímku lopatek větráku\n",
    "\n",
    "Po sestavení snímací soustavy je dalším úkolem zachytit lopatky točícího se větráku z obou kamer zároveň. \n",
    "\n",
    "![](images/fan_datasheet.png)\n",
    "\n",
    "Ze znalosti rychlosti větráku vypočtěte vhodný rozsah snímkovací frekvence.\n",
    "\n",
    "V Pylon Viewer nastavte zobrazení tak, abyste naráz viděli obraz z obou kamer (viz ukázka na tabuli). Uložte si printscreen obrazovky Pylonu a zobrazte jej.\n",
    "\n",
    "Klíčem ke správnému zachycení lopatek je synchronizace snímkovací frekvence kamery s frekvencí otáčení větráku. Snažte se dosáhnout efektu, kdy se lopatky jeví jako \"stojící\" a netočí se. Využijte záložku `Feature - Basic` pro nastavování parametrů expozice, gain a snímkovací frekvence. Nezapoměnte zaškrtnout *Enable Acquisition Frame Rate*.\n",
    "\n",
    "Dále popište, jak tyto parametry ovlivňují kvalitu snímku a efekt zastavení lopatek."
   ]
  },
  {
   "cell_type": "code",
   "execution_count": null,
   "metadata": {},
   "outputs": [],
   "source": [
    "img = iu.load_image(...) ### doplňte cestu ke snímku #\n",
    "iu.plot_images(img) # zobrazení printscreenu"
   ]
  },
  {
   "cell_type": "markdown",
   "metadata": {},
   "source": [
    "Odpověď: \n",
    "\n",
    "#TODO\n",
    "\n",
    "**Výpočet snímkovací frekvence:**\n",
    "\n",
    "**Expozice:**\n",
    "\n",
    "**Gain:**"
   ]
  },
  {
   "cell_type": "markdown",
   "metadata": {},
   "source": [
    "### Nastavení ROI\n",
    "\n",
    "Změňte rozlišení snímku na čtvercové a pomocí parametru `Offset X` resp. `Offset Y` nastavte ROI tak, aby větrák byl uprostřed.\n",
    "\n",
    "Jak se změní pohyb lopatek? Jak je potřeba upravit snímkovací frekvenci, aby lopatky opět stály?\n",
    "\n",
    "Opakujte předchozí úkol a najděte správnou snímkovací  (pokud je třeba), aby lopatky \"stály\". Uložte jednotlivé snímky z kamer a zobrazte níže. Pomocí `Win + G` nebo jakkoliv jinak zaznamenejte video, jak se lopatky (ne)točí. \n"
   ]
  },
  {
   "cell_type": "code",
   "execution_count": null,
   "metadata": {},
   "outputs": [],
   "source": [
    "img_chrom = iu.load_image(...) ### doplňte cestu ke snímku\n",
    "img_mono = iu.load_image(...) ### doplňte cestu ke snímku\n",
    "iu.plot_images(img_chrom, img_mono) # zobrazení snímků snímací soustavy"
   ]
  },
  {
   "cell_type": "markdown",
   "metadata": {},
   "source": [
    "### Další parametry ovliňující snímkovací frekvenci\n",
    "\n",
    "**ROI parametry:** Ovlivňují rozlišení snímku a tím i potřebný čas pro získání a zpracování snímku.\n",
    "\n",
    "**Binning:** Kombinace více sousedních pixelů do jednoho většího. Cílem je zlepšit kvalitu obrazu za špatných světelných podmínek. Zmenšuje rozlišení snímku.\n",
    "\n",
    "**Pixel format:** Ovlivňuje množství dat (12b vs. 8b, 3 kanály vs. 1)\n",
    "\n",
    "**Způsob připojení kamery:** Možné omezení datového toku.\n",
    "\n",
    "**Typ uzávěrky:** Nevhodně zvolený typ snímače může způsobit deformaci snímky při zachytávání objektu v pohybu (rolling shutter).\n",
    "\n",
    "<img src=\"images/rolling_shutter.jpg\" width=\"525\"/>\n",
    "<img src=\"images/rolling_shutter.gif\"/>\n",
    "\n",
    "Dnes obě použité kamery mají global shutter - tedy získají celý snímek v jeden okamžik."
   ]
  }
 ],
 "metadata": {
  "kernelspec": {
   "display_name": "svz",
   "language": "python",
   "name": "python3"
  },
  "language_info": {
   "codemirror_mode": {
    "name": "ipython",
    "version": 3
   },
   "file_extension": ".py",
   "mimetype": "text/x-python",
   "name": "python",
   "nbconvert_exporter": "python",
   "pygments_lexer": "ipython3",
   "version": "3.8.20"
  },
  "orig_nbformat": 4
 },
 "nbformat": 4,
 "nbformat_minor": 2
}
