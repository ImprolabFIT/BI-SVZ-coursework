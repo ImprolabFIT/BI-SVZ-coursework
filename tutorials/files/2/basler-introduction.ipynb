{
 "cells": [
  {
   "cell_type": "markdown",
   "metadata": {},
   "source": [
    "# Práce s kamerou Basler v Jupyter Notebooku\n",
    "<img src='images/basler-logo.jpg' style=\"width:50%\">\n",
    "\n",
    "Vzhledem k tomu, že software Pylon je nejen vlastní program pro připojení a manipulaci s kamerami, ale zároveň SDK, budeme používat přímo SDK. SDK je psáno v C, C++ nebo C#. Basler k tomu však v roce 2018 vytvořil wrapper do Pythonu s názvem `pypylon`.\n",
    "\n",
    "My jsme k tomu vytvořili rozhraní s názvem `pypylon_opencv_viewer`. To umožňuje se připojit ke konkrétní kameře, zobrazit si snímky z kamery a dále nastavovat některé parametry kamery."
   ]
  },
  {
   "cell_type": "markdown",
   "metadata": {},
   "source": [
    "## Nastavení\n",
    "Import potřebných knihoven"
   ]
  },
  {
   "cell_type": "code",
   "execution_count": 1,
   "metadata": {},
   "outputs": [],
   "source": [
    "import numpy as np\n",
    "import matplotlib\n",
    "import matplotlib.pyplot as plt\n",
    "import cv2\n",
    "import yaml\n",
    "from pypylon import pylon \n",
    "\n",
    "from IPython.display import Image, display, clear_output\n",
    "\n",
    "%matplotlib inline"
   ]
  },
  {
   "cell_type": "markdown",
   "metadata": {},
   "source": [
    "Úvodni nastavení parametrů kamery. Je potřeba dopsat správné **sériové číslo** vlastní kamery. \n",
    "\n",
    "V případě, že se nastavuje cesta k ukládání fotek, je třeba nahradit veškerá `\\` za `\\\\`. Při defaultním nastavení se fotky ukládají do složky s tímto ipynb."
   ]
  },
  {
   "cell_type": "code",
   "execution_count": 2,
   "metadata": {},
   "outputs": [],
   "source": [
    "#serial_number = '22724646' ### sériové číslo řádkové kamery Ra\n",
    "#serial_number = '21991061' ### sériové číslo maticové kamery Ac RGB\n",
    "serial_number = '22018113' ### sériové číslo maticové kamery Ac Mono\n",
    "width = 1280\n",
    "height = 1080\n",
    "image_folder = '.' ### defaultní nastavení složky pro ukládání snímků"
   ]
  },
  {
   "cell_type": "markdown",
   "metadata": {},
   "source": [
    "Připojení kamery pomocí `pypylonu`. Je zapotřebí zkontrolovat sériové číslo kamery."
   ]
  },
  {
   "cell_type": "code",
   "execution_count": 3,
   "metadata": {
    "code_folding": []
   },
   "outputs": [],
   "source": [
    "# Pypylon gets camera by serial number\n",
    "info = None\n",
    "for i in pylon.TlFactory.GetInstance().EnumerateDevices():\n",
    "    if i.GetSerialNumber() == serial_number:\n",
    "        info = i\n",
    "        break\n",
    "else:\n",
    "    print('Camera with {} serial number not found'.format(serial_number))\n",
    "\n",
    "# VERY IMPORTANT STEP! To use Basler PyPylon OpenCV viewer you have to call .Open() method on you camera\n",
    "if info is not None:\n",
    "    camera = pylon.InstantCamera(pylon.TlFactory.GetInstance().CreateDevice(info)) \n",
    "    camera.Open()"
   ]
  },
  {
   "cell_type": "markdown",
   "metadata": {},
   "source": [
    "Pomocná funkce pro zobrazování obrázků"
   ]
  },
  {
   "cell_type": "code",
   "execution_count": 4,
   "metadata": {
    "code_folding": []
   },
   "outputs": [],
   "source": [
    "def show_image(img):\n",
    "    window_name = 'Camera capture (' + serial_number + ')'\n",
    "    cv2.namedWindow(window_name, cv2.WINDOW_NORMAL | cv2.WINDOW_GUI_NORMAL)\n",
    "    cv2.resizeWindow(window_name, width, height)\n",
    "    cv2.imshow(window_name, img)"
   ]
  },
  {
   "cell_type": "markdown",
   "metadata": {},
   "source": [
    "Vytvoření GUI widgetů pro manipulaci s parametry kamery. Zásady pro tvorbu JSON notace widgetů vizte na [link](https://github.com/mbalatsko/pypylon-opencv-viewer#list-of-features)."
   ]
  },
  {
   "cell_type": "code",
   "execution_count": 5,
   "metadata": {},
   "outputs": [],
   "source": [
    "# Configuration PyPylon Viewer to load features for RGB Matrix Camera\n",
    "VIEWER_CONFIG_RGB_MATRIX = {\n",
    "    \"features\": [\n",
    "        {\n",
    "            \"name\": \"Height\",\n",
    "            \"type\": \"int\",\n",
    "            \"value\": 1080,\n",
    "            \"unit\": \"px\",\n",
    "            \"step\": 2,\n",
    "        },\n",
    "        {\n",
    "            \"name\": \"Width\",\n",
    "            \"type\": \"int\",\n",
    "            \"value\": 1920,\n",
    "            \"unit\": \"px\",\n",
    "            \"step\": 2,\n",
    "        },\n",
    "        {\n",
    "            \"name\": \"CenterX\",\n",
    "            \"type\": \"bool\",\n",
    "        },\n",
    "        {\n",
    "            \"name\": \"CenterY\",\n",
    "            \"type\": \"bool\",\n",
    "\n",
    "        },\n",
    "        {\n",
    "            \"name\": \"OffsetX\",\n",
    "            \"type\": \"int\",\n",
    "            \"dependency\": {\"CenterX\": False},\n",
    "            \"unit\": \"px\",\n",
    "            \"step\": 2,\n",
    "        },\n",
    "        {\n",
    "            \"name\": \"OffsetY\",\n",
    "            \"type\": \"int\",\n",
    "            \"dependency\": {\"CenterY\": False},\n",
    "            \"unit\": \"px\",\n",
    "            \"step\": 2,\n",
    "        },\n",
    "        {\n",
    "            \"name\": \"AcquisitionFrameRateAbs\",\n",
    "            \"type\": \"int\",\n",
    "            \"unit\": \"fps\",\n",
    "            \"max\": 150,\n",
    "            \"min\": 1,\n",
    "        },\n",
    "        {\n",
    "            \"name\": \"ExposureAuto\",\n",
    "            \"type\": \"choice_text\",\n",
    "            \"options\": [\"Off\", \"Once\", \"Continuous\"],\n",
    "            \"style\": {\"button_width\": \"90px\"}\n",
    "        },\n",
    "        {\n",
    "            \"name\": \"ExposureTimeAbs\",\n",
    "            \"type\": \"int\",\n",
    "            \"dependency\": {\"ExposureAuto\": \"Off\"},\n",
    "            \"unit\": \"μs\",\n",
    "            \"step\": 100,\n",
    "            \"max\": 35000,\n",
    "            \"min\": 500,\n",
    "        },\n",
    "        {\n",
    "            \"name\": \"BalanceWhiteAuto\",\n",
    "            \"type\": \"choice_text\",\n",
    "            \"options\": [\"Off\", \"Once\", \"Continuous\"],\n",
    "            \"style\": {\"button_width\": \"90px\"}\n",
    "        },\n",
    "    ],\n",
    "    \"features_layout\": [\n",
    "        (\"Height\", \"Width\"), \n",
    "        (\"OffsetX\", \"CenterX\"), \n",
    "        (\"OffsetY\", \"CenterY\"), \n",
    "        (\"ExposureAuto\", \"ExposureTimeAbs\")\n",
    "    ],\n",
    "    \"actions_layout\": [\n",
    "        (\"StatusLabel\"),\n",
    "        (\"SaveConfig\", \"LoadConfig\", \"ContinuousShot\", \"SingleShot\"), \n",
    "        (\"UserSet\")\n",
    "    ],\n",
    "    \"default_user_set\": \"UserSet3\",\n",
    "}\n"
   ]
  },
  {
   "cell_type": "code",
   "execution_count": 6,
   "metadata": {},
   "outputs": [],
   "source": [
    "# Configuration PyPylon Viewer to load features for RGB Matrix Camera\n",
    "VIEWER_CONFIG_MONO_MATRIX = {\n",
    "    \"features\": [\n",
    "         {\n",
    "            \"name\": \"GainRaw\",\n",
    "            \"type\": \"int\",\n",
    "            \"step\": 1,\n",
    "        },\n",
    "        {\n",
    "            \"name\": \"Height\",\n",
    "            \"type\": \"int\",\n",
    "            \"unit\": \"px\",\n",
    "            \"step\": 2,\n",
    "        },\n",
    "        {\n",
    "            \"name\": \"Width\",\n",
    "            \"type\": \"int\",\n",
    "            \"unit\": \"px\",\n",
    "            \"step\": 2,\n",
    "        },\n",
    "        {\n",
    "            \"name\": \"CenterX\",\n",
    "            \"type\": \"bool\",\n",
    "        },\n",
    "        {\n",
    "            \"name\": \"CenterY\",\n",
    "            \"type\": \"bool\",\n",
    "\n",
    "        },\n",
    "        {\n",
    "            \"name\": \"OffsetX\",\n",
    "            \"type\": \"int\",\n",
    "            \"dependency\": {\"CenterX\": False},\n",
    "            \"unit\": \"px\",\n",
    "            \"step\": 2,\n",
    "        },\n",
    "        {\n",
    "            \"name\": \"OffsetY\",\n",
    "            \"type\": \"int\",\n",
    "            \"dependency\": {\"CenterY\": False},\n",
    "            \"unit\": \"px\",\n",
    "            \"step\": 2,\n",
    "        },\n",
    "        {\n",
    "            \"name\": \"AcquisitionFrameRateAbs\",\n",
    "            \"type\": \"int\",\n",
    "            \"unit\": \"fps\",\n",
    "            \"dependency\": {\"AcquisitionFrameRateEnable\": True},\n",
    "            \"max\": 150,\n",
    "            \"min\": 1,\n",
    "        },\n",
    "        {\n",
    "            \"name\": \"AcquisitionFrameRateEnable\",\n",
    "            \"type\": \"bool\",\n",
    "        },\n",
    "        {\n",
    "            \"name\": \"ExposureAuto\",\n",
    "            \"type\": \"choice_text\",\n",
    "            \"options\": [\"Off\", \"Once\", \"Continuous\"],\n",
    "            \"style\": {\"button_width\": \"90px\"}\n",
    "        },\n",
    "        {\n",
    "            \"name\": \"ExposureTimeAbs\",\n",
    "            \"type\": \"int\",\n",
    "            \"dependency\": {\"ExposureAuto\": \"Off\"},\n",
    "            \"unit\": \"μs\",\n",
    "            \"step\": 500,\n",
    "            \"max\": 35000,\n",
    "            \"min\": 500,\n",
    "        },\n",
    "    ],\n",
    "    \"features_layout\": [\n",
    "        (\"Height\", \"Width\"), \n",
    "        (\"OffsetX\", \"CenterX\"), \n",
    "        (\"OffsetY\", \"CenterY\"), \n",
    "        (\"ExposureTimeAbs\", \"ExposureAuto\"),\n",
    "        (\"AcquisitionFrameRateAbs\", \"AcquisitionFrameRateEnable\"),\n",
    "        (\"GainRaw\")\n",
    "    ],\n",
    "    \"actions_layout\": [\n",
    "        (\"StatusLabel\"),\n",
    "        (\"SaveConfig\", \"LoadConfig\", \"ContinuousShot\", \"SingleShot\"), \n",
    "        (\"UserSet\")\n",
    "    ],\n",
    "    \"default_user_set\": \"UserSet3\",\n",
    "}\n"
   ]
  },
  {
   "cell_type": "code",
   "execution_count": 7,
   "metadata": {},
   "outputs": [],
   "source": [
    "# Configuration PyPylon Viewer to load features for Monochromatic Line Scan Camera\n",
    "VIEWER_CONFIG_MONO_LINE = {\n",
    "    \"features\": [\n",
    "         {\n",
    "            \"name\": \"GainRaw\",\n",
    "            \"type\": \"int\",\n",
    "            \"step\": 1,\n",
    "        },\n",
    "        {\n",
    "            \"name\": \"Height\",\n",
    "            \"type\": \"int\",\n",
    "            \"unit\": \"px\",\n",
    "            \"step\": 2,\n",
    "        },\n",
    "        {\n",
    "            \"name\": \"Width\",\n",
    "            \"type\": \"int\",\n",
    "            \"unit\": \"px\",\n",
    "            \"step\": 2,\n",
    "        },\n",
    "        {\n",
    "            \"name\": \"CenterX\",\n",
    "            \"type\": \"bool\",\n",
    "        },\n",
    "        {\n",
    "            \"name\": \"OffsetX\",\n",
    "            \"type\": \"int\",\n",
    "            \"dependency\": {\"CenterX\": False},\n",
    "            \"unit\": \"px\",\n",
    "            \"step\": 2,\n",
    "        },\n",
    "        {\n",
    "            \"name\": \"AcquisitionLineRateAbs\",\n",
    "            \"type\": \"int\",\n",
    "            \"max\": 5000,\n",
    "            \"min\": 100,\n",
    "            \"step\": 100,\n",
    "        },\n",
    "        {\n",
    "            \"name\": \"ExposureAuto\",\n",
    "            \"type\": \"choice_text\",\n",
    "            \"options\": [\"Off\", \"Once\", \"Continuous\"],\n",
    "            \"style\": {\"button_width\": \"90px\"}\n",
    "        },\n",
    "        {\n",
    "            \"name\": \"ExposureTimeAbs\",\n",
    "            \"type\": \"int\",\n",
    "            \"dependency\": {\"ExposureAuto\": \"Off\"},\n",
    "            \"unit\": \"μs\",\n",
    "            \"step\": 500,\n",
    "            \"max\": 35000,\n",
    "            \"min\": 500,\n",
    "        },\n",
    "    ],\n",
    "    \"features_layout\": [\n",
    "        (\"Height\", \"Width\"), \n",
    "        (\"OffsetX\", \"CenterX\"), \n",
    "        (\"ExposureTimeAbs\", \"ExposureAuto\"),\n",
    "        (\"AcquisitionLineRateAbs\", \"GainRaw\")\n",
    "    ],\n",
    "    \"actions_layout\": [\n",
    "        (\"StatusLabel\"),\n",
    "        (\"SaveConfig\", \"LoadConfig\", \"ContinuousShot\", \"SingleShot\"), \n",
    "        (\"UserSet\")\n",
    "    ],\n",
    "    \"default_user_set\": \"UserSet3\",\n",
    "}\n"
   ]
  },
  {
   "cell_type": "markdown",
   "metadata": {},
   "source": [
    "Funkce pro image processing. Zatím pouze zobrazuje obrázky."
   ]
  },
  {
   "cell_type": "code",
   "execution_count": 8,
   "metadata": {},
   "outputs": [],
   "source": [
    "def impro(img):\n",
    "    show_image(img)\n",
    "    return img"
   ]
  },
  {
   "cell_type": "markdown",
   "metadata": {},
   "source": [
    "## Main\n",
    "Výkonný kus kódu využívající vlastní knihovnu pro práci s kamerou a knihovnou OpenCV. Umožňuje nastavení parametrů pomocí GUI widgetů.\n",
    "- Pro spuštění okna kamery je zapotřebí kliknout na tlačítko `Continuous shot` (pro získání streamu) nebo `Single shot` (pro jeden snímek) \n",
    "- Okno kamery se vypne stisknutím tlačítka `q`.\n",
    "- Obrázek se uloží stisknutím tlačítka `s`.\n",
    "- Pro projevení změn v nastavení pomocí GUI prvků je nutné ukončit okno kamery a znovu ho spustit."
   ]
  },
  {
   "cell_type": "code",
   "execution_count": 9,
   "metadata": {},
   "outputs": [],
   "source": [
    "import sys\n",
    "sys.path\n",
    "sys.path.insert(0, '/home/kasape/Documents/pypylon-opencv-viewer/')"
   ]
  },
  {
   "cell_type": "code",
   "execution_count": 10,
   "metadata": {},
   "outputs": [
    {
     "data": {
      "application/vnd.jupyter.widget-view+json": {
       "model_id": "8e20bd9e487b4b46be21f3b8f0f59362",
       "version_major": 2,
       "version_minor": 0
      },
      "text/plain": [
       "Output()"
      ]
     },
     "metadata": {},
     "output_type": "display_data"
    },
    {
     "data": {
      "application/vnd.jupyter.widget-view+json": {
       "model_id": "ffc602f95be04e3291025a0a034cf11f",
       "version_major": 2,
       "version_minor": 0
      },
      "text/plain": [
       "VBox(children=(HBox(children=(Button(button_style='warning', description='Save configuration', icon='save', la…"
      ]
     },
     "metadata": {},
     "output_type": "display_data"
    }
   ],
   "source": [
    "from pypylon_opencv_viewer import BaslerOpenCVViewer\n",
    "viewer = BaslerOpenCVViewer(camera)\n",
    "viewer.set_configuration(VIEWER_CONFIG_MONO_MATRIX)\n",
    "#viewer.set_impro_function(impro)\n",
    "viewer.show_interactive_panel(window_size=(width, height), image_folder=image_folder)"
   ]
  },
  {
   "cell_type": "code",
   "execution_count": null,
   "metadata": {},
   "outputs": [],
   "source": []
  },
  {
   "cell_type": "code",
   "execution_count": null,
   "metadata": {},
   "outputs": [],
   "source": []
  }
 ],
 "metadata": {
  "kernelspec": {
   "display_name": "Python 3",
   "language": "python",
   "name": "python3"
  },
  "language_info": {
   "codemirror_mode": {
    "name": "ipython",
    "version": 3
   },
   "file_extension": ".py",
   "mimetype": "text/x-python",
   "name": "python",
   "nbconvert_exporter": "python",
   "pygments_lexer": "ipython3",
   "version": "3.7.3"
  }
 },
 "nbformat": 4,
 "nbformat_minor": 2
}
