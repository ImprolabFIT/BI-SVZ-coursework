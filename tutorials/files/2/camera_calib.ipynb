{
 "cells": [
  {
   "cell_type": "markdown",
   "metadata": {},
   "source": [
    "### Import knihoven a konfigurace"
   ]
  },
  {
   "cell_type": "code",
   "execution_count": null,
   "metadata": {},
   "outputs": [],
   "source": [
    "import argparse\n",
    "import os\n",
    "import shutil\n",
    "import re\n",
    "\n",
    "import numpy as np\n",
    "import matplotlib.pyplot as plt\n",
    "import cv2\n",
    "import yaml\n",
    "\n",
    "from natsort import natsorted\n",
    "\n",
    "np.set_printoptions(formatter={'float': lambda x: \"{0:0.3f}\".format(x)})"
   ]
  },
  {
   "cell_type": "markdown",
   "metadata": {},
   "source": [
    "### Pomocné funkce\n",
    "Funkce sloužící k načítaní/ukládání kalibrace ze souboru."
   ]
  },
  {
   "cell_type": "code",
   "execution_count": null,
   "metadata": {},
   "outputs": [],
   "source": [
    "IDX_CAM_MATRIX = \"camera_matrix\"\n",
    "IDX_DIST_COEFFS = \"dist_coefs\"\n",
    "\n",
    "def load_calib(input_file):\n",
    "    \"\"\" Loads camera calibration from specified input file.\n",
    "    \n",
    "    Parameters\n",
    "    ----------\n",
    "    input_file : string\n",
    "        Input file with calibration data in YAML format.\n",
    "    Returns\n",
    "    -------\n",
    "    tuple(np.array, np.array)\n",
    "        Returns a tuple where first element is camera matrix array and second element is dist coefficients array. \n",
    "        These arrays might be empty if the file isn't found or in correct format.\n",
    "    \"\"\"\n",
    "    try:\n",
    "        with open(input_file, 'r') as stream:\n",
    "            data = yaml.load(stream)\n",
    "            return data[IDX_CAM_MATRIX], data[IDX_DIST_COEFFS]\n",
    "    except (FileNotFoundError, yaml.YAMLError) as exc:\n",
    "        print(f'File {input_file} couldn\\'t be read.')\n",
    "        return np.array([]), np.array([])\n",
    "\n",
    "\n",
    "def save_calib(output_file, camera_matrix, dist_coefs):\n",
    "    \"\"\" Saves camera calibration to specified output file.\n",
    "    \n",
    "    Parameters\n",
    "    ----------\n",
    "    output_file : string\n",
    "        Output file used for storing calibration data in YAML format. Parent directory is created if needed.\n",
    "    Returns\n",
    "    -------\n",
    "    None\n",
    "    \"\"\"\n",
    "    data = {IDX_CAM_MATRIX: camera_matrix, IDX_DIST_COEFFS: dist_coefs}\n",
    "    output_dir = os.path.dirname(output_file)\n",
    "    \n",
    "    if not os.path.isdir(output_dir):\n",
    "            os.mkdir(output_dir)\n",
    "            \n",
    "    with open(output_file, \"w\") as f:\n",
    "        yaml.dump(data, f)"
   ]
  },
  {
   "cell_type": "code",
   "execution_count": null,
   "metadata": {},
   "outputs": [],
   "source": [
    "def correct_frame(frame, camera_matrix, dist_coeffs):\n",
    "    \"\"\"Returns undistorted frame.\"\"\"\n",
    "    return cv2.undistort(frame, camera_matrix, dist_coeffs)"
   ]
  },
  {
   "cell_type": "code",
   "execution_count": null,
   "metadata": {},
   "outputs": [],
   "source": [
    "def show_images(*imgs, window_name='Image preview'):\n",
    "    \"\"\" Opens multiple image previews depending on the length of the input *imgs list.\n",
    "    The preview is terminated by pressing the 'q' key.\n",
    "    \n",
    "    Parameters\n",
    "    ----------\n",
    "    *imgs : list\n",
    "        Multiple input images which has to be shown.\n",
    "    window_name : Optional[string]\n",
    "        An optional window name.\n",
    "    Returns\n",
    "    -------\n",
    "    None\n",
    "    \"\"\"\n",
    "    for i, img in enumerate(imgs, 1):\n",
    "        window_name_id = window_name + ' ' + str(i)\n",
    "        cv2.namedWindow(window_name_id, cv2.WINDOW_NORMAL | cv2.WINDOW_GUI_NORMAL)\n",
    "        cv2.resizeWindow(window_name_id, 1080, 720)\n",
    "        cv2.moveWindow(window_name_id, 0, 0)\n",
    "\n",
    "    while 1:\n",
    "        for i, img in enumerate(imgs, 1):\n",
    "            cv2.imshow(window_name + ' ' + str(i), img)\n",
    "            \n",
    "        k = cv2.waitKey(1) & 0xFF\n",
    "\n",
    "        if k == ord('q'):\n",
    "            break\n",
    "\n",
    "    cv2.destroyAllWindows()"
   ]
  },
  {
   "cell_type": "markdown",
   "metadata": {},
   "source": [
    "Funkce sloužící k přejmenování souborů ve složce, aby je bylo možné snadné použít v cv2.VideoCapture"
   ]
  },
  {
   "cell_type": "code",
   "execution_count": null,
   "metadata": {},
   "outputs": [],
   "source": [
    "def reindex_image_files(source_dir, output_dir=None):\n",
    "    \"\"\" Reads all images in source_dir and based on they original order, \n",
    "    change their filename to be continious integer (starting from 0). \n",
    "    Then they can be easily read by cv2.VideoCapture. Image format is kept.\n",
    "    \n",
    "    Parameters\n",
    "    ----------\n",
    "    source_dir : string\n",
    "        Input images directory that have to be renamed.\n",
    "    output_dir : Optional[string]\n",
    "        Output directory for renamed files. If not specified, renaming is done inplace in source_dir.\n",
    "    Returns\n",
    "    -------\n",
    "    None\n",
    "    \"\"\"\n",
    "    input_files = []\n",
    "    \n",
    "    for file in os.listdir(source_dir):\n",
    "        if re.match(r'.*(\\.bmp|\\.jpg|\\.png|\\.gif)$', file, re.I):\n",
    "            input_files.append(os.path.join(source_dir, file))\n",
    "\n",
    "    if not input_files:\n",
    "        print('No files were found.')\n",
    "        return\n",
    "    \n",
    "    extension = '.' + input_files[0].split(\".\")[-1]\n",
    "    if output_dir is None:\n",
    "        for i, filename in enumerate(natsorted(input_files)):\n",
    "            os.rename(filename, os.path.join(source_dir, str(i) +  extension))\n",
    "        print(f'Files within {source_dir} were renamed, starting from 0{extension} to {i}{extension}.')\n",
    "    else:\n",
    "        if not os.path.isdir(output_dir):\n",
    "            os.mkdir(output_dir)\n",
    "\n",
    "        for i, filename in enumerate(natsorted(input_files)):\n",
    "            shutil.copy(filename, os.path.join(output_dir, str(i) + extension))\n",
    "            \n",
    "        print(f'Files from {source_dir} were renamed and saved to {output_dir}, starting from 0{extension} to {i}{extension}.')"
   ]
  },
  {
   "cell_type": "markdown",
   "metadata": {},
   "source": [
    "Funkce k rychlému výběru chtěných snímků z obrazového zdroje. "
   ]
  },
  {
   "cell_type": "code",
   "execution_count": null,
   "metadata": {},
   "outputs": [],
   "source": [
    "def pick_frames(input_source, output_dir):\n",
    "    \"\"\" Sequentially shows all images from input_source. \n",
    "    Using 'p' key allows to pick wanted frames and save them in separate folder (output_dir).\n",
    "    The preview is terminated by pressing the 'q' key.\n",
    "    \n",
    "    Parameters\n",
    "    ----------\n",
    "    input_source : string\n",
    "        Input source for cv2.VideoCapture (could be camera source or sequence of saved images where format has to be specified).\n",
    "    output_dir : string\n",
    "        Output directory for picked files. Automatically created if needed.\n",
    "    Returns\n",
    "    -------\n",
    "    None\n",
    "    \"\"\"\n",
    "    window_name = 'Frame preview'\n",
    "    cv2.namedWindow(window_name, cv2.WINDOW_NORMAL)\n",
    "    cv2.resizeWindow(window_name, 1080, 720)\n",
    "    cv2.moveWindow(window_name, 0, 0)\n",
    "    \n",
    "    cap = cv2.VideoCapture(input_source)\n",
    "    \n",
    "    if not cap.isOpened():\n",
    "        cv2.destroyAllWindows()\n",
    "        raise FileNotFoundError('Capture cannot be opened.')\n",
    "    if not os.path.isdir(output_dir):\n",
    "        os.mkdir(output_dir)\n",
    "    \n",
    "    saved_counter = 0\n",
    "    \n",
    "    while cap.isOpened():\n",
    "        ret, frame = cap.read()\n",
    "        if not ret: \n",
    "            break\n",
    "            \n",
    "        cv2.imshow(window_name, frame)\n",
    "        k = cv2.waitKey(1) & 0xFF\n",
    "    \n",
    "        if k == ord('p'):\n",
    "            img_format = input_source.split('.')[-1] if '.' in input_source else 'jpg'\n",
    "            cv2.imwrite(os.path.join(output_dir, str(saved_counter) + '.' + img_format), frame)\n",
    "            saved_counter += 1\n",
    "        elif k == ord('q'):\n",
    "            break\n",
    "\n",
    "    cv2.destroyAllWindows()\n",
    "    print(f'{saved_counter} frames saved to {output_dir}')          "
   ]
  },
  {
   "cell_type": "markdown",
   "metadata": {},
   "source": [
    "Funkce provádějící kalibraci kamery, kterou je možné uložit k pozdějšímu využití."
   ]
  },
  {
   "cell_type": "code",
   "execution_count": null,
   "metadata": {},
   "outputs": [],
   "source": [
    "def camera_calib(input_source, chess_shape, output_calib_file=None, img_show_delay=250):\n",
    "    \"\"\" Browses all images found in input_source and on each image tries to find chessboard corners.\n",
    "    If chessboard corners are found, image corespondences with real world space are added to lists.\n",
    "    Based on these image-world corespondences, camera calibration is made.\n",
    "    \n",
    "    Parameters\n",
    "    ----------\n",
    "    input_source : string\n",
    "        Input source for cv2.VideoCapture (could be camera source or sequence of saved images where format has to be specified).\n",
    "    chess_shape : tuple\n",
    "        Number of inner corners per a chessboard row and column.\n",
    "    output_calib_file : Optional[string]\n",
    "        Output file where calibration is saved when neccesary.\n",
    "    img_show_delay : int\n",
    "        Delay in ms between shown images.\n",
    "    Returns\n",
    "    -------\n",
    "    tuple\n",
    "        camera matrix and distance coefficients\n",
    "    \"\"\"\n",
    "    window_name = 'Frame preview'\n",
    "    cv2.namedWindow(window_name, cv2.WINDOW_NORMAL)\n",
    "    cv2.resizeWindow(window_name, 1080, 720)\n",
    "    cv2.moveWindow(window_name, 0, 0)\n",
    "\n",
    "    cap = cv2.VideoCapture(input_source)\n",
    "\n",
    "    if not cap.isOpened():\n",
    "        cv2.destroyAllWindows()\n",
    "        raise FileNotFoundError('Capture cannot be opened.')\n",
    "\n",
    "    # prepare object points, like (0,0,0), (1,0,0), (2,0,0) ....,(6,5,0)\n",
    "    objp = np.zeros((chess_shape[0] * chess_shape[1], 3), np.float32)\n",
    "    objp[:, :2] = np.mgrid[0:chess_shape[0], 0:chess_shape[1]].T.reshape(-1, 2)\n",
    "\n",
    "    # Arrays to store object points and image points from all the images.\n",
    "    objpoints = []  # 3d point in real world space\n",
    "    imgpoints = []  # 2d points in image plane.\n",
    "\n",
    "    while cap.isOpened():\n",
    "        ret, frame = cap.read()\n",
    "        if not ret: break\n",
    "\n",
    "        gray = cv2.cvtColor(frame, cv2.COLOR_BGR2GRAY)\n",
    "        ret, corners = cv2.findChessboardCorners(gray, chess_shape)\n",
    "\n",
    "        # If found, add object points, image points (after refining them)\n",
    "        if ret:\n",
    "            objpoints.append(objp)\n",
    "            corners = cv2.cornerSubPix(gray, corners, (11, 11), (-1, -1), (cv2.TERM_CRITERIA_EPS + cv2.TERM_CRITERIA_MAX_ITER, 30, 0.1))\n",
    "            imgpoints.append(corners)\n",
    "\n",
    "            # Draw and display the corners\n",
    "            frame = cv2.drawChessboardCorners(frame, chess_shape, corners, ret)\n",
    "\n",
    "            cv2.imshow(window_name, frame)\n",
    "\n",
    "            k = cv2.waitKey(img_show_delay) & 0xFF\n",
    "            if k == ord('q'):\n",
    "                break\n",
    "\n",
    "    cv2.destroyAllWindows()\n",
    "    \n",
    "    print('Computing camera matrix...')\n",
    "    rms, camera_matrix, dist_coefs, rvecs, tvecs = cv2.calibrateCamera(objpoints, imgpoints, gray.shape[::-1], None, None)\n",
    "    \n",
    "    if output_calib_file is not None:\n",
    "        save_calib(output_calib_file, camera_matrix, dist_coefs)\n",
    "\n",
    "    print('\\nRMS:', rms)\n",
    "    print('Camera matrix:\\n', camera_matrix)\n",
    "    print('Distortion coefficients: ', dist_coefs.ravel())\n",
    "    \n",
    "    return camera_matrix, dist_coefs"
   ]
  },
  {
   "cell_type": "markdown",
   "metadata": {},
   "source": [
    "### Úkol\n",
    "Tento úkol je zaměřen na kalibraci kamery a následné odstranění soudkovitosti ze snímků. K tomu aby bylo možné provést kalibraci, potřebujeme dostatečný počet snímků (10-30), které obsahují předem známý vzor (v našem případě šachovnice), zaznamenaný v různých úhlech. Knihovna OpenCV následně sama tyto vzory vyhledá, vypočte kamerovou matici (camera matrix) a parametry zkreslení (distortion coefficients). \n",
    "Kamera musí být při snímání stacionárně upevněna, nejlépe na stativu/stojanu.\n",
    "\n",
    "Dobrovolné:\n",
    "Více na téma kalibrace se lze dočíst [zde](https://docs.opencv.org/2.4/modules/calib3d/doc/camera_calibration_and_3d_reconstruction.html) a [zde](https://docs.opencv.org/2.4/modules/calib3d/doc/camera_calibration_and_3d_reconstruction.html)."
   ]
  },
  {
   "cell_type": "markdown",
   "metadata": {},
   "source": [
    "* Získejte kamerový záznam snímků s šachovnicí, které jsou potřeba ke kalibraci.\n",
    "* Zavolejte funkci pro přejmenování souborů tak, aby šly snadno přečíst a zobrazit pomocí cv2.VideoCapture."
   ]
  },
  {
   "cell_type": "code",
   "execution_count": null,
   "metadata": {},
   "outputs": [],
   "source": [
    "all_images_dir = ...  ###\n",
    "...(all_images_dir) ###"
   ]
  },
  {
   "cell_type": "markdown",
   "metadata": {},
   "source": [
    "* Zavolejte funkci pro výběr snímků (snímky vyberte), které budou použity ke kalibraci."
   ]
  },
  {
   "cell_type": "code",
   "execution_count": null,
   "metadata": {},
   "outputs": [],
   "source": [
    "picked_images_dir = ... ###\n",
    "images_format = ... ###\n",
    "...(os.path.join(all_images_dir, images_format), picked_images_dir) ###"
   ]
  },
  {
   "cell_type": "markdown",
   "metadata": {},
   "source": [
    "* V případě, že budete ručně zasahovat do vybraných snímků (např. mazáním), je nutné znovu provést přejmenování."
   ]
  },
  {
   "cell_type": "code",
   "execution_count": null,
   "metadata": {},
   "outputs": [],
   "source": [
    "...(picked_images_dir) ###"
   ]
  },
  {
   "cell_type": "markdown",
   "metadata": {},
   "source": [
    "* Prověďte kalibraci kamery. Soubor s kalibračními daty uložte na předem definovanou cestu."
   ]
  },
  {
   "cell_type": "code",
   "execution_count": null,
   "metadata": {},
   "outputs": [],
   "source": [
    "output_calib_file = ... ###\n",
    "chess_shape=(..., ...) ###\n",
    "camera_matrix, dist_coefs = ...(os.path.join(picked_images_dir, images_format), chess_shape=chess_shape, output_calib_file=output_calib_file) ###"
   ]
  },
  {
   "cell_type": "markdown",
   "metadata": {},
   "source": [
    "* Zobrazte zdrojový obrázek a obrázek s odstraněnou distorzí."
   ]
  },
  {
   "cell_type": "code",
   "execution_count": null,
   "metadata": {},
   "outputs": [],
   "source": [
    "img_raw = ... ###\n",
    "img_corrected = ... ###\n",
    "\n",
    "show_images(img_raw, img_corrected) ###"
   ]
  }
 ],
 "metadata": {
  "kernelspec": {
   "display_name": "Python 3",
   "language": "python",
   "name": "python3"
  },
  "language_info": {
   "codemirror_mode": {
    "name": "ipython",
    "version": 3
   },
   "file_extension": ".py",
   "mimetype": "text/x-python",
   "name": "python",
   "nbconvert_exporter": "python",
   "pygments_lexer": "ipython3",
   "version": "3.6.5"
  }
 },
 "nbformat": 4,
 "nbformat_minor": 2
}
